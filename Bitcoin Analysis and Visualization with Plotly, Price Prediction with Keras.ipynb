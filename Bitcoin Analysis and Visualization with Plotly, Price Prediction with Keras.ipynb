{
 "cells": [
  {
   "cell_type": "markdown",
   "metadata": {},
   "source": [
    "## Bitcoin Analysis and Visualization with Plotly, Price Prediction with LSTM model"
   ]
  },
  {
   "cell_type": "markdown",
   "metadata": {},
   "source": [
    "\\* In order to see fully rendered visualizations by Plotly in jupyter notebook, please visit [this link](https://nbviewer.jupyter.org/github/AsunaMasuda/Bitcoin_plotly_keras/tree/master/Bitcoin%20Analysis%20and%20Visualization%20with%20Plotly,%20Price%20Prediction%20with%20Keras.ipynb) on jupyter nbviewer. (ipython files in Github repository cannot show visualizations by plotly.)"
   ]
  },
  {
   "cell_type": "markdown",
   "metadata": {},
   "source": [
    "### Overview of this notebook\n",
    "This notebook focuses on these two purposes below, mainly for the writer's self-learning purpose:\n",
    "\n",
    "- Data clearning and analysis with Python libraries and Bitcoin price prediction by deep learning algolism called LSTM with Keras\n",
    "- Interactive Data visualizations with Plotly\n",
    "\n",
    "To create this notebook, \n",
    "<br>For data visualization with Plotly:\n",
    "<br>I refered to [a Kaggle post](https://www.kaggle.com/kanncaa1/plotly-tutorial-for-beginners) by [DATAI](https://www.kaggle.com/kanncaa1) and Plotly [official document](https://plot.ly/python/).\n",
    "<br>For price prediction with LSTM by Keras:\n",
    "<br>I refered to [a jupyter notebook](https://github.com/dashee87/blogScripts/blob/master/Jupyter/2017-11-20-predicting-cryptocurrency-prices-with-deep-learning.ipynb) which explained an applicaiton of deep learning to Bitcoin/Etherium price prediction by a data scientist [David Sheeran](https://dashee87.github.io/about/)."
   ]
  },
  {
   "cell_type": "markdown",
   "metadata": {},
   "source": [
    "<p><img src=\"bit_image.jpg\" style=\"width:500px\"></p>"
   ]
  },
  {
   "cell_type": "markdown",
   "metadata": {},
   "source": [
    "### Context\n",
    "\n",
    "Bitcoin is the longest running and most well known cryptocurrency, first released as open source in 2009 by the anonymous Satoshi Nakamoto. Bitcoin serves as a decentralized medium of digital exchange, with transactions verified and recorded in a public distributed ledger (the blockchain) without the need for a trusted record keeping authority or central intermediary. Transaction blocks contain a SHA-256 cryptographic hash of previous transaction blocks, and are thus \"chained\" together, serving as an immutable record of all transactions that have ever occurred. As with any currency/commodity on the market, bitcoin trading and financial instruments soon followed public adoption of bitcoin and continue to grow. Included here is historical bitcoin market data at 1-min intervals for select bitcoin exchanges where trading takes place."
   ]
  },
  {
   "cell_type": "markdown",
   "metadata": {},
   "source": [
    "### Datasets\n",
    "- coinbaseUSD_1-min_data_2014-12-01_to_2019-01-09.csv\n",
    "- bitstampUSD_1-min_data_2012-01-01_to_2019-08-12.csv\n",
    "\n",
    "CSV files for select bitcoin exchanges for the time period of Jan 2012 to August 2019, with minute to minute updates of OHLC (Open, High, Low, Close), Volume in BTC and indicated currency, and weighted bitcoin price. Timestamps are in Unix time. Timestamps without any trades or activity have their data fields filled with NaNs. If a timestamp is missing, or if there are jumps, this may be because the exchange (or its API) was down, the exchange (or its API) did not exist, or some other unforseen technical error in data reporting or gathering. All effort has been made to deduplicate entries and verify the contents are correct and complete to the best of my ability, but obviously trust at your own risk."
   ]
  },
  {
   "cell_type": "markdown",
   "metadata": {},
   "source": [
    "Explanation of the columns:\n",
    "- Timestamp: Start time of time window (60s window), in Unix time\n",
    "- OpenOpen: price at start time window\n",
    "- High: High price within time window\n",
    "- Low: Low price within time window\n",
    "- Close: Close price at end of time window\n",
    "- Volume_(BTC): Amount of BTC transacted in time window\n",
    "- Volume_(Currency): Amount of Currency transacted in time window\n",
    "- Weighted_Price: Volume-Weighted Average Price price (VWAP)"
   ]
  },
  {
   "cell_type": "code",
   "execution_count": 1,
   "metadata": {},
   "outputs": [
    {
     "data": {
      "text/html": [
       "        <script type=\"text/javascript\">\n",
       "        window.PlotlyConfig = {MathJaxConfig: 'local'};\n",
       "        if (window.MathJax) {MathJax.Hub.Config({SVG: {font: \"STIX-Web\"}});}\n",
       "        if (typeof require !== 'undefined') {\n",
       "        require.undef(\"plotly\");\n",
       "        requirejs.config({\n",
       "            paths: {\n",
       "                'plotly': ['https://cdn.plot.ly/plotly-latest.min']\n",
       "            }\n",
       "        });\n",
       "        require(['plotly'], function(Plotly) {\n",
       "            window._Plotly = Plotly;\n",
       "        });\n",
       "        }\n",
       "        </script>\n",
       "        "
      ]
     },
     "metadata": {},
     "output_type": "display_data"
    }
   ],
   "source": [
    "# import libraries\n",
    "import time\n",
    "start_time=time.time()\n",
    "import numpy as np\n",
    "from collections import Counter\n",
    "import pandas as pd\n",
    "import matplotlib.pyplot as plt\n",
    "from plotly import __version__\n",
    "from plotly.offline import download_plotlyjs, init_notebook_mode, plot, iplot\n",
    "import plotly as py\n",
    "import plotly.graph_objs as go\n",
    "init_notebook_mode(connected=True)\n",
    "plt.rcParams['figure.figsize']=(12,5)\n",
    "import numpy as np\n",
    "import operator\n",
    "import pandas as pd\n",
    "\n",
    "# not to show warning messages\n",
    "import warnings\n",
    "warnings.filterwarnings('ignore')"
   ]
  },
  {
   "cell_type": "code",
   "execution_count": 2,
   "metadata": {},
   "outputs": [],
   "source": [
    "# read csv files\n",
    "df_bitstamp = pd.read_csv('bitstampUSD_1-min_data_2012-01-01_to_2019-08-12.csv')\n",
    "df_coinbase = pd.read_csv('coinbaseUSD_1-min_data_2014-12-01_to_2019-01-09.csv')"
   ]
  },
  {
   "cell_type": "code",
   "execution_count": 3,
   "metadata": {
    "scrolled": true
   },
   "outputs": [
    {
     "data": {
      "text/html": [
       "<div>\n",
       "<style scoped>\n",
       "    .dataframe tbody tr th:only-of-type {\n",
       "        vertical-align: middle;\n",
       "    }\n",
       "\n",
       "    .dataframe tbody tr th {\n",
       "        vertical-align: top;\n",
       "    }\n",
       "\n",
       "    .dataframe thead th {\n",
       "        text-align: right;\n",
       "    }\n",
       "</style>\n",
       "<table border=\"1\" class=\"dataframe\">\n",
       "  <thead>\n",
       "    <tr style=\"text-align: right;\">\n",
       "      <th></th>\n",
       "      <th>Timestamp</th>\n",
       "      <th>Open</th>\n",
       "      <th>High</th>\n",
       "      <th>Low</th>\n",
       "      <th>Close</th>\n",
       "      <th>Volume_(BTC)</th>\n",
       "      <th>Volume_(Currency)</th>\n",
       "      <th>Weighted_Price</th>\n",
       "    </tr>\n",
       "  </thead>\n",
       "  <tbody>\n",
       "    <tr>\n",
       "      <th>0</th>\n",
       "      <td>1325317920</td>\n",
       "      <td>4.39</td>\n",
       "      <td>4.39</td>\n",
       "      <td>4.39</td>\n",
       "      <td>4.39</td>\n",
       "      <td>0.455581</td>\n",
       "      <td>2.0</td>\n",
       "      <td>4.39</td>\n",
       "    </tr>\n",
       "    <tr>\n",
       "      <th>1</th>\n",
       "      <td>1325317980</td>\n",
       "      <td>NaN</td>\n",
       "      <td>NaN</td>\n",
       "      <td>NaN</td>\n",
       "      <td>NaN</td>\n",
       "      <td>NaN</td>\n",
       "      <td>NaN</td>\n",
       "      <td>NaN</td>\n",
       "    </tr>\n",
       "    <tr>\n",
       "      <th>2</th>\n",
       "      <td>1325318040</td>\n",
       "      <td>NaN</td>\n",
       "      <td>NaN</td>\n",
       "      <td>NaN</td>\n",
       "      <td>NaN</td>\n",
       "      <td>NaN</td>\n",
       "      <td>NaN</td>\n",
       "      <td>NaN</td>\n",
       "    </tr>\n",
       "    <tr>\n",
       "      <th>3</th>\n",
       "      <td>1325318100</td>\n",
       "      <td>NaN</td>\n",
       "      <td>NaN</td>\n",
       "      <td>NaN</td>\n",
       "      <td>NaN</td>\n",
       "      <td>NaN</td>\n",
       "      <td>NaN</td>\n",
       "      <td>NaN</td>\n",
       "    </tr>\n",
       "    <tr>\n",
       "      <th>4</th>\n",
       "      <td>1325318160</td>\n",
       "      <td>NaN</td>\n",
       "      <td>NaN</td>\n",
       "      <td>NaN</td>\n",
       "      <td>NaN</td>\n",
       "      <td>NaN</td>\n",
       "      <td>NaN</td>\n",
       "      <td>NaN</td>\n",
       "    </tr>\n",
       "  </tbody>\n",
       "</table>\n",
       "</div>"
      ],
      "text/plain": [
       "    Timestamp  Open  High   Low  Close  Volume_(BTC)  Volume_(Currency)  \\\n",
       "0  1325317920  4.39  4.39  4.39   4.39      0.455581                2.0   \n",
       "1  1325317980   NaN   NaN   NaN    NaN           NaN                NaN   \n",
       "2  1325318040   NaN   NaN   NaN    NaN           NaN                NaN   \n",
       "3  1325318100   NaN   NaN   NaN    NaN           NaN                NaN   \n",
       "4  1325318160   NaN   NaN   NaN    NaN           NaN                NaN   \n",
       "\n",
       "   Weighted_Price  \n",
       "0            4.39  \n",
       "1             NaN  \n",
       "2             NaN  \n",
       "3             NaN  \n",
       "4             NaN  "
      ]
     },
     "execution_count": 3,
     "metadata": {},
     "output_type": "execute_result"
    }
   ],
   "source": [
    "df_bitstamp.head()"
   ]
  },
  {
   "cell_type": "code",
   "execution_count": 4,
   "metadata": {
    "scrolled": true
   },
   "outputs": [
    {
     "data": {
      "text/plain": [
       "(3997697, 8)"
      ]
     },
     "execution_count": 4,
     "metadata": {},
     "output_type": "execute_result"
    }
   ],
   "source": [
    "df_bitstamp.shape"
   ]
  },
  {
   "cell_type": "code",
   "execution_count": 5,
   "metadata": {},
   "outputs": [
    {
     "data": {
      "text/html": [
       "<div>\n",
       "<style scoped>\n",
       "    .dataframe tbody tr th:only-of-type {\n",
       "        vertical-align: middle;\n",
       "    }\n",
       "\n",
       "    .dataframe tbody tr th {\n",
       "        vertical-align: top;\n",
       "    }\n",
       "\n",
       "    .dataframe thead th {\n",
       "        text-align: right;\n",
       "    }\n",
       "</style>\n",
       "<table border=\"1\" class=\"dataframe\">\n",
       "  <thead>\n",
       "    <tr style=\"text-align: right;\">\n",
       "      <th></th>\n",
       "      <th>Timestamp</th>\n",
       "      <th>Open</th>\n",
       "      <th>High</th>\n",
       "      <th>Low</th>\n",
       "      <th>Close</th>\n",
       "      <th>Volume_(BTC)</th>\n",
       "      <th>Volume_(Currency)</th>\n",
       "      <th>Weighted_Price</th>\n",
       "    </tr>\n",
       "  </thead>\n",
       "  <tbody>\n",
       "    <tr>\n",
       "      <th>0</th>\n",
       "      <td>1417411980</td>\n",
       "      <td>300.0</td>\n",
       "      <td>300.0</td>\n",
       "      <td>300.0</td>\n",
       "      <td>300.0</td>\n",
       "      <td>0.01</td>\n",
       "      <td>3.0</td>\n",
       "      <td>300.0</td>\n",
       "    </tr>\n",
       "    <tr>\n",
       "      <th>1</th>\n",
       "      <td>1417412040</td>\n",
       "      <td>NaN</td>\n",
       "      <td>NaN</td>\n",
       "      <td>NaN</td>\n",
       "      <td>NaN</td>\n",
       "      <td>NaN</td>\n",
       "      <td>NaN</td>\n",
       "      <td>NaN</td>\n",
       "    </tr>\n",
       "    <tr>\n",
       "      <th>2</th>\n",
       "      <td>1417412100</td>\n",
       "      <td>NaN</td>\n",
       "      <td>NaN</td>\n",
       "      <td>NaN</td>\n",
       "      <td>NaN</td>\n",
       "      <td>NaN</td>\n",
       "      <td>NaN</td>\n",
       "      <td>NaN</td>\n",
       "    </tr>\n",
       "    <tr>\n",
       "      <th>3</th>\n",
       "      <td>1417412160</td>\n",
       "      <td>NaN</td>\n",
       "      <td>NaN</td>\n",
       "      <td>NaN</td>\n",
       "      <td>NaN</td>\n",
       "      <td>NaN</td>\n",
       "      <td>NaN</td>\n",
       "      <td>NaN</td>\n",
       "    </tr>\n",
       "    <tr>\n",
       "      <th>4</th>\n",
       "      <td>1417412220</td>\n",
       "      <td>NaN</td>\n",
       "      <td>NaN</td>\n",
       "      <td>NaN</td>\n",
       "      <td>NaN</td>\n",
       "      <td>NaN</td>\n",
       "      <td>NaN</td>\n",
       "      <td>NaN</td>\n",
       "    </tr>\n",
       "  </tbody>\n",
       "</table>\n",
       "</div>"
      ],
      "text/plain": [
       "    Timestamp   Open   High    Low  Close  Volume_(BTC)  Volume_(Currency)  \\\n",
       "0  1417411980  300.0  300.0  300.0  300.0          0.01                3.0   \n",
       "1  1417412040    NaN    NaN    NaN    NaN           NaN                NaN   \n",
       "2  1417412100    NaN    NaN    NaN    NaN           NaN                NaN   \n",
       "3  1417412160    NaN    NaN    NaN    NaN           NaN                NaN   \n",
       "4  1417412220    NaN    NaN    NaN    NaN           NaN                NaN   \n",
       "\n",
       "   Weighted_Price  \n",
       "0           300.0  \n",
       "1             NaN  \n",
       "2             NaN  \n",
       "3             NaN  \n",
       "4             NaN  "
      ]
     },
     "execution_count": 5,
     "metadata": {},
     "output_type": "execute_result"
    }
   ],
   "source": [
    "df_coinbase.head()"
   ]
  },
  {
   "cell_type": "code",
   "execution_count": 6,
   "metadata": {
    "scrolled": true
   },
   "outputs": [
    {
     "data": {
      "text/plain": [
       "(2099760, 8)"
      ]
     },
     "execution_count": 6,
     "metadata": {},
     "output_type": "execute_result"
    }
   ],
   "source": [
    "df_coinbase.shape"
   ]
  },
  {
   "cell_type": "code",
   "execution_count": 7,
   "metadata": {},
   "outputs": [],
   "source": [
    "# Convert Timestamp from unix 1 \n",
    "df_bitstamp = pd.concat([df_bitstamp.drop('Timestamp', axis=1),\n",
    "                         pd.DataFrame(pd.to_datetime(df_bitstamp['Timestamp'], unit='s'))], axis=1)"
   ]
  },
  {
   "cell_type": "code",
   "execution_count": 8,
   "metadata": {},
   "outputs": [],
   "source": [
    "df_bitstamp.index = df_bitstamp.Timestamp"
   ]
  },
  {
   "cell_type": "code",
   "execution_count": 9,
   "metadata": {},
   "outputs": [],
   "source": [
    "# Convert Timestamp from unix 2\n",
    "df_coinbase = pd.concat([df_coinbase.drop('Timestamp', axis=1), \n",
    "                         pd.DataFrame(pd.to_datetime(df_coinbase['Timestamp'], unit='s'))], axis=1)"
   ]
  },
  {
   "cell_type": "code",
   "execution_count": 10,
   "metadata": {},
   "outputs": [],
   "source": [
    "df_coinbase.index = df_coinbase.Timestamp"
   ]
  },
  {
   "cell_type": "markdown",
   "metadata": {},
   "source": [
    "### Check the number of null"
   ]
  },
  {
   "cell_type": "code",
   "execution_count": 11,
   "metadata": {},
   "outputs": [],
   "source": [
    "# Create dataframes that hold missing values\n",
    "bitstamp_missing = df_bitstamp.isnull().mean()*100\n",
    "coinbase_missing = df_coinbase.isnull().mean()*100"
   ]
  },
  {
   "cell_type": "code",
   "execution_count": 12,
   "metadata": {
    "scrolled": true
   },
   "outputs": [
    {
     "data": {
      "application/vnd.plotly.v1+json": {
       "config": {
        "linkText": "Export to plot.ly",
        "plotlyServerURL": "https://plot.ly",
        "showLink": false
       },
       "data": [
        {
         "marker": {
          "color": "rgba(245, 140, 130, 0.5)",
          "line": {
           "color": "rgb(0,0,0)",
           "width": 1.5
          }
         },
         "type": "bar",
         "x": [
          "Open",
          "High",
          "Low",
          "Close",
          "Volume_(BTC)",
          "Volume_(Currency)",
          "Weighted_Price",
          "Timestamp"
         ],
         "xaxis": "x",
         "y": [
          30.814691558664904,
          30.814691558664904,
          30.814691558664904,
          30.814691558664904,
          30.814691558664904,
          30.814691558664904,
          30.814691558664904,
          0
         ],
         "yaxis": "y"
        },
        {
         "marker": {
          "color": "rgba(130, 135, 245, 0.5)",
          "line": {
           "color": "rgb(0,0,0)",
           "width": 1.5
          }
         },
         "type": "bar",
         "x": [
          "Open",
          "High",
          "Low",
          "Close",
          "Volume_(BTC)",
          "Volume_(Currency)",
          "Weighted_Price",
          "Timestamp"
         ],
         "xaxis": "x2",
         "y": [
          5.1943555453956645,
          5.1943555453956645,
          5.1943555453956645,
          5.1943555453956645,
          5.1943555453956645,
          5.1943555453956645,
          5.1943555453956645,
          0
         ],
         "yaxis": "y2"
        }
       ],
       "layout": {
        "annotations": [
         {
          "font": {
           "size": 16
          },
          "showarrow": false,
          "text": "bitstamp dataframe",
          "x": 0.225,
          "xanchor": "center",
          "xref": "paper",
          "y": 1,
          "yanchor": "bottom",
          "yref": "paper"
         },
         {
          "font": {
           "size": 16
          },
          "showarrow": false,
          "text": "coinbase dataframe",
          "x": 0.775,
          "xanchor": "center",
          "xref": "paper",
          "y": 1,
          "yanchor": "bottom",
          "yref": "paper"
         }
        ],
        "height": 400,
        "template": {
         "data": {
          "bar": [
           {
            "error_x": {
             "color": "#2a3f5f"
            },
            "error_y": {
             "color": "#2a3f5f"
            },
            "marker": {
             "line": {
              "color": "#E5ECF6",
              "width": 0.5
             }
            },
            "type": "bar"
           }
          ],
          "barpolar": [
           {
            "marker": {
             "line": {
              "color": "#E5ECF6",
              "width": 0.5
             }
            },
            "type": "barpolar"
           }
          ],
          "carpet": [
           {
            "aaxis": {
             "endlinecolor": "#2a3f5f",
             "gridcolor": "white",
             "linecolor": "white",
             "minorgridcolor": "white",
             "startlinecolor": "#2a3f5f"
            },
            "baxis": {
             "endlinecolor": "#2a3f5f",
             "gridcolor": "white",
             "linecolor": "white",
             "minorgridcolor": "white",
             "startlinecolor": "#2a3f5f"
            },
            "type": "carpet"
           }
          ],
          "choropleth": [
           {
            "colorbar": {
             "outlinewidth": 0,
             "ticks": ""
            },
            "type": "choropleth"
           }
          ],
          "contour": [
           {
            "colorbar": {
             "outlinewidth": 0,
             "ticks": ""
            },
            "colorscale": [
             [
              0,
              "#0d0887"
             ],
             [
              0.1111111111111111,
              "#46039f"
             ],
             [
              0.2222222222222222,
              "#7201a8"
             ],
             [
              0.3333333333333333,
              "#9c179e"
             ],
             [
              0.4444444444444444,
              "#bd3786"
             ],
             [
              0.5555555555555556,
              "#d8576b"
             ],
             [
              0.6666666666666666,
              "#ed7953"
             ],
             [
              0.7777777777777778,
              "#fb9f3a"
             ],
             [
              0.8888888888888888,
              "#fdca26"
             ],
             [
              1,
              "#f0f921"
             ]
            ],
            "type": "contour"
           }
          ],
          "contourcarpet": [
           {
            "colorbar": {
             "outlinewidth": 0,
             "ticks": ""
            },
            "type": "contourcarpet"
           }
          ],
          "heatmap": [
           {
            "colorbar": {
             "outlinewidth": 0,
             "ticks": ""
            },
            "colorscale": [
             [
              0,
              "#0d0887"
             ],
             [
              0.1111111111111111,
              "#46039f"
             ],
             [
              0.2222222222222222,
              "#7201a8"
             ],
             [
              0.3333333333333333,
              "#9c179e"
             ],
             [
              0.4444444444444444,
              "#bd3786"
             ],
             [
              0.5555555555555556,
              "#d8576b"
             ],
             [
              0.6666666666666666,
              "#ed7953"
             ],
             [
              0.7777777777777778,
              "#fb9f3a"
             ],
             [
              0.8888888888888888,
              "#fdca26"
             ],
             [
              1,
              "#f0f921"
             ]
            ],
            "type": "heatmap"
           }
          ],
          "heatmapgl": [
           {
            "colorbar": {
             "outlinewidth": 0,
             "ticks": ""
            },
            "colorscale": [
             [
              0,
              "#0d0887"
             ],
             [
              0.1111111111111111,
              "#46039f"
             ],
             [
              0.2222222222222222,
              "#7201a8"
             ],
             [
              0.3333333333333333,
              "#9c179e"
             ],
             [
              0.4444444444444444,
              "#bd3786"
             ],
             [
              0.5555555555555556,
              "#d8576b"
             ],
             [
              0.6666666666666666,
              "#ed7953"
             ],
             [
              0.7777777777777778,
              "#fb9f3a"
             ],
             [
              0.8888888888888888,
              "#fdca26"
             ],
             [
              1,
              "#f0f921"
             ]
            ],
            "type": "heatmapgl"
           }
          ],
          "histogram": [
           {
            "marker": {
             "colorbar": {
              "outlinewidth": 0,
              "ticks": ""
             }
            },
            "type": "histogram"
           }
          ],
          "histogram2d": [
           {
            "colorbar": {
             "outlinewidth": 0,
             "ticks": ""
            },
            "colorscale": [
             [
              0,
              "#0d0887"
             ],
             [
              0.1111111111111111,
              "#46039f"
             ],
             [
              0.2222222222222222,
              "#7201a8"
             ],
             [
              0.3333333333333333,
              "#9c179e"
             ],
             [
              0.4444444444444444,
              "#bd3786"
             ],
             [
              0.5555555555555556,
              "#d8576b"
             ],
             [
              0.6666666666666666,
              "#ed7953"
             ],
             [
              0.7777777777777778,
              "#fb9f3a"
             ],
             [
              0.8888888888888888,
              "#fdca26"
             ],
             [
              1,
              "#f0f921"
             ]
            ],
            "type": "histogram2d"
           }
          ],
          "histogram2dcontour": [
           {
            "colorbar": {
             "outlinewidth": 0,
             "ticks": ""
            },
            "colorscale": [
             [
              0,
              "#0d0887"
             ],
             [
              0.1111111111111111,
              "#46039f"
             ],
             [
              0.2222222222222222,
              "#7201a8"
             ],
             [
              0.3333333333333333,
              "#9c179e"
             ],
             [
              0.4444444444444444,
              "#bd3786"
             ],
             [
              0.5555555555555556,
              "#d8576b"
             ],
             [
              0.6666666666666666,
              "#ed7953"
             ],
             [
              0.7777777777777778,
              "#fb9f3a"
             ],
             [
              0.8888888888888888,
              "#fdca26"
             ],
             [
              1,
              "#f0f921"
             ]
            ],
            "type": "histogram2dcontour"
           }
          ],
          "mesh3d": [
           {
            "colorbar": {
             "outlinewidth": 0,
             "ticks": ""
            },
            "type": "mesh3d"
           }
          ],
          "parcoords": [
           {
            "line": {
             "colorbar": {
              "outlinewidth": 0,
              "ticks": ""
             }
            },
            "type": "parcoords"
           }
          ],
          "scatter": [
           {
            "marker": {
             "colorbar": {
              "outlinewidth": 0,
              "ticks": ""
             }
            },
            "type": "scatter"
           }
          ],
          "scatter3d": [
           {
            "line": {
             "colorbar": {
              "outlinewidth": 0,
              "ticks": ""
             }
            },
            "marker": {
             "colorbar": {
              "outlinewidth": 0,
              "ticks": ""
             }
            },
            "type": "scatter3d"
           }
          ],
          "scattercarpet": [
           {
            "marker": {
             "colorbar": {
              "outlinewidth": 0,
              "ticks": ""
             }
            },
            "type": "scattercarpet"
           }
          ],
          "scattergeo": [
           {
            "marker": {
             "colorbar": {
              "outlinewidth": 0,
              "ticks": ""
             }
            },
            "type": "scattergeo"
           }
          ],
          "scattergl": [
           {
            "marker": {
             "colorbar": {
              "outlinewidth": 0,
              "ticks": ""
             }
            },
            "type": "scattergl"
           }
          ],
          "scattermapbox": [
           {
            "marker": {
             "colorbar": {
              "outlinewidth": 0,
              "ticks": ""
             }
            },
            "type": "scattermapbox"
           }
          ],
          "scatterpolar": [
           {
            "marker": {
             "colorbar": {
              "outlinewidth": 0,
              "ticks": ""
             }
            },
            "type": "scatterpolar"
           }
          ],
          "scatterpolargl": [
           {
            "marker": {
             "colorbar": {
              "outlinewidth": 0,
              "ticks": ""
             }
            },
            "type": "scatterpolargl"
           }
          ],
          "scatterternary": [
           {
            "marker": {
             "colorbar": {
              "outlinewidth": 0,
              "ticks": ""
             }
            },
            "type": "scatterternary"
           }
          ],
          "surface": [
           {
            "colorbar": {
             "outlinewidth": 0,
             "ticks": ""
            },
            "colorscale": [
             [
              0,
              "#0d0887"
             ],
             [
              0.1111111111111111,
              "#46039f"
             ],
             [
              0.2222222222222222,
              "#7201a8"
             ],
             [
              0.3333333333333333,
              "#9c179e"
             ],
             [
              0.4444444444444444,
              "#bd3786"
             ],
             [
              0.5555555555555556,
              "#d8576b"
             ],
             [
              0.6666666666666666,
              "#ed7953"
             ],
             [
              0.7777777777777778,
              "#fb9f3a"
             ],
             [
              0.8888888888888888,
              "#fdca26"
             ],
             [
              1,
              "#f0f921"
             ]
            ],
            "type": "surface"
           }
          ],
          "table": [
           {
            "cells": {
             "fill": {
              "color": "#EBF0F8"
             },
             "line": {
              "color": "white"
             }
            },
            "header": {
             "fill": {
              "color": "#C8D4E3"
             },
             "line": {
              "color": "white"
             }
            },
            "type": "table"
           }
          ]
         },
         "layout": {
          "annotationdefaults": {
           "arrowcolor": "#2a3f5f",
           "arrowhead": 0,
           "arrowwidth": 1
          },
          "colorscale": {
           "diverging": [
            [
             0,
             "#8e0152"
            ],
            [
             0.1,
             "#c51b7d"
            ],
            [
             0.2,
             "#de77ae"
            ],
            [
             0.3,
             "#f1b6da"
            ],
            [
             0.4,
             "#fde0ef"
            ],
            [
             0.5,
             "#f7f7f7"
            ],
            [
             0.6,
             "#e6f5d0"
            ],
            [
             0.7,
             "#b8e186"
            ],
            [
             0.8,
             "#7fbc41"
            ],
            [
             0.9,
             "#4d9221"
            ],
            [
             1,
             "#276419"
            ]
           ],
           "sequential": [
            [
             0,
             "#0d0887"
            ],
            [
             0.1111111111111111,
             "#46039f"
            ],
            [
             0.2222222222222222,
             "#7201a8"
            ],
            [
             0.3333333333333333,
             "#9c179e"
            ],
            [
             0.4444444444444444,
             "#bd3786"
            ],
            [
             0.5555555555555556,
             "#d8576b"
            ],
            [
             0.6666666666666666,
             "#ed7953"
            ],
            [
             0.7777777777777778,
             "#fb9f3a"
            ],
            [
             0.8888888888888888,
             "#fdca26"
            ],
            [
             1,
             "#f0f921"
            ]
           ],
           "sequentialminus": [
            [
             0,
             "#0d0887"
            ],
            [
             0.1111111111111111,
             "#46039f"
            ],
            [
             0.2222222222222222,
             "#7201a8"
            ],
            [
             0.3333333333333333,
             "#9c179e"
            ],
            [
             0.4444444444444444,
             "#bd3786"
            ],
            [
             0.5555555555555556,
             "#d8576b"
            ],
            [
             0.6666666666666666,
             "#ed7953"
            ],
            [
             0.7777777777777778,
             "#fb9f3a"
            ],
            [
             0.8888888888888888,
             "#fdca26"
            ],
            [
             1,
             "#f0f921"
            ]
           ]
          },
          "colorway": [
           "#636efa",
           "#EF553B",
           "#00cc96",
           "#ab63fa",
           "#FFA15A",
           "#19d3f3",
           "#FF6692",
           "#B6E880",
           "#FF97FF",
           "#FECB52"
          ],
          "font": {
           "color": "#2a3f5f"
          },
          "geo": {
           "bgcolor": "white",
           "lakecolor": "white",
           "landcolor": "#E5ECF6",
           "showlakes": true,
           "showland": true,
           "subunitcolor": "white"
          },
          "hoverlabel": {
           "align": "left"
          },
          "hovermode": "closest",
          "mapbox": {
           "style": "light"
          },
          "paper_bgcolor": "white",
          "plot_bgcolor": "#E5ECF6",
          "polar": {
           "angularaxis": {
            "gridcolor": "white",
            "linecolor": "white",
            "ticks": ""
           },
           "bgcolor": "#E5ECF6",
           "radialaxis": {
            "gridcolor": "white",
            "linecolor": "white",
            "ticks": ""
           }
          },
          "scene": {
           "xaxis": {
            "backgroundcolor": "#E5ECF6",
            "gridcolor": "white",
            "gridwidth": 2,
            "linecolor": "white",
            "showbackground": true,
            "ticks": "",
            "zerolinecolor": "white"
           },
           "yaxis": {
            "backgroundcolor": "#E5ECF6",
            "gridcolor": "white",
            "gridwidth": 2,
            "linecolor": "white",
            "showbackground": true,
            "ticks": "",
            "zerolinecolor": "white"
           },
           "zaxis": {
            "backgroundcolor": "#E5ECF6",
            "gridcolor": "white",
            "gridwidth": 2,
            "linecolor": "white",
            "showbackground": true,
            "ticks": "",
            "zerolinecolor": "white"
           }
          },
          "shapedefaults": {
           "line": {
            "color": "#2a3f5f"
           }
          },
          "ternary": {
           "aaxis": {
            "gridcolor": "white",
            "linecolor": "white",
            "ticks": ""
           },
           "baxis": {
            "gridcolor": "white",
            "linecolor": "white",
            "ticks": ""
           },
           "bgcolor": "#E5ECF6",
           "caxis": {
            "gridcolor": "white",
            "linecolor": "white",
            "ticks": ""
           }
          },
          "title": {
           "x": 0.05
          },
          "xaxis": {
           "automargin": true,
           "gridcolor": "white",
           "linecolor": "white",
           "ticks": "",
           "zerolinecolor": "white",
           "zerolinewidth": 2
          },
          "yaxis": {
           "automargin": true,
           "gridcolor": "white",
           "linecolor": "white",
           "ticks": "",
           "zerolinecolor": "white",
           "zerolinewidth": 2
          }
         }
        },
        "title": {
         "text": "Null Percentages"
        },
        "width": 800,
        "xaxis": {
         "anchor": "y",
         "domain": [
          0,
          0.45
         ]
        },
        "xaxis2": {
         "anchor": "y2",
         "domain": [
          0.55,
          1
         ]
        },
        "yaxis": {
         "anchor": "x",
         "domain": [
          0,
          1
         ]
        },
        "yaxis2": {
         "anchor": "x2",
         "domain": [
          0,
          1
         ]
        }
       }
      },
      "text/html": [
       "<div>\n",
       "        \n",
       "        \n",
       "            <div id=\"235bf26f-c4d6-476b-846a-6b90d1e05eb3\" class=\"plotly-graph-div\" style=\"height:400px; width:800px;\"></div>\n",
       "            <script type=\"text/javascript\">\n",
       "                require([\"plotly\"], function(Plotly) {\n",
       "                    window.PLOTLYENV=window.PLOTLYENV || {};\n",
       "                    \n",
       "                if (document.getElementById(\"235bf26f-c4d6-476b-846a-6b90d1e05eb3\")) {\n",
       "                    Plotly.newPlot(\n",
       "                        '235bf26f-c4d6-476b-846a-6b90d1e05eb3',\n",
       "                        [{\"marker\": {\"color\": \"rgba(245, 140, 130, 0.5)\", \"line\": {\"color\": \"rgb(0,0,0)\", \"width\": 1.5}}, \"type\": \"bar\", \"x\": [\"Open\", \"High\", \"Low\", \"Close\", \"Volume_(BTC)\", \"Volume_(Currency)\", \"Weighted_Price\", \"Timestamp\"], \"xaxis\": \"x\", \"y\": [30.814691558664904, 30.814691558664904, 30.814691558664904, 30.814691558664904, 30.814691558664904, 30.814691558664904, 30.814691558664904, 0.0], \"yaxis\": \"y\"}, {\"marker\": {\"color\": \"rgba(130, 135, 245, 0.5)\", \"line\": {\"color\": \"rgb(0,0,0)\", \"width\": 1.5}}, \"type\": \"bar\", \"x\": [\"Open\", \"High\", \"Low\", \"Close\", \"Volume_(BTC)\", \"Volume_(Currency)\", \"Weighted_Price\", \"Timestamp\"], \"xaxis\": \"x2\", \"y\": [5.1943555453956645, 5.1943555453956645, 5.1943555453956645, 5.1943555453956645, 5.1943555453956645, 5.1943555453956645, 5.1943555453956645, 0.0], \"yaxis\": \"y2\"}],\n",
       "                        {\"annotations\": [{\"font\": {\"size\": 16}, \"showarrow\": false, \"text\": \"bitstamp dataframe\", \"x\": 0.225, \"xanchor\": \"center\", \"xref\": \"paper\", \"y\": 1.0, \"yanchor\": \"bottom\", \"yref\": \"paper\"}, {\"font\": {\"size\": 16}, \"showarrow\": false, \"text\": \"coinbase dataframe\", \"x\": 0.775, \"xanchor\": \"center\", \"xref\": \"paper\", \"y\": 1.0, \"yanchor\": \"bottom\", \"yref\": \"paper\"}], \"height\": 400, \"template\": {\"data\": {\"bar\": [{\"error_x\": {\"color\": \"#2a3f5f\"}, \"error_y\": {\"color\": \"#2a3f5f\"}, \"marker\": {\"line\": {\"color\": \"#E5ECF6\", \"width\": 0.5}}, \"type\": \"bar\"}], \"barpolar\": [{\"marker\": {\"line\": {\"color\": \"#E5ECF6\", \"width\": 0.5}}, \"type\": \"barpolar\"}], \"carpet\": [{\"aaxis\": {\"endlinecolor\": \"#2a3f5f\", \"gridcolor\": \"white\", \"linecolor\": \"white\", \"minorgridcolor\": \"white\", \"startlinecolor\": \"#2a3f5f\"}, \"baxis\": {\"endlinecolor\": \"#2a3f5f\", \"gridcolor\": \"white\", \"linecolor\": \"white\", \"minorgridcolor\": \"white\", \"startlinecolor\": \"#2a3f5f\"}, \"type\": \"carpet\"}], \"choropleth\": [{\"colorbar\": {\"outlinewidth\": 0, \"ticks\": \"\"}, \"type\": \"choropleth\"}], \"contour\": [{\"colorbar\": {\"outlinewidth\": 0, \"ticks\": \"\"}, \"colorscale\": [[0.0, \"#0d0887\"], [0.1111111111111111, \"#46039f\"], [0.2222222222222222, \"#7201a8\"], [0.3333333333333333, \"#9c179e\"], [0.4444444444444444, \"#bd3786\"], [0.5555555555555556, \"#d8576b\"], [0.6666666666666666, \"#ed7953\"], [0.7777777777777778, \"#fb9f3a\"], [0.8888888888888888, \"#fdca26\"], [1.0, \"#f0f921\"]], \"type\": \"contour\"}], \"contourcarpet\": [{\"colorbar\": {\"outlinewidth\": 0, \"ticks\": \"\"}, \"type\": \"contourcarpet\"}], \"heatmap\": [{\"colorbar\": {\"outlinewidth\": 0, \"ticks\": \"\"}, \"colorscale\": [[0.0, \"#0d0887\"], [0.1111111111111111, \"#46039f\"], [0.2222222222222222, \"#7201a8\"], [0.3333333333333333, \"#9c179e\"], [0.4444444444444444, \"#bd3786\"], [0.5555555555555556, \"#d8576b\"], [0.6666666666666666, \"#ed7953\"], [0.7777777777777778, \"#fb9f3a\"], [0.8888888888888888, \"#fdca26\"], [1.0, \"#f0f921\"]], \"type\": \"heatmap\"}], \"heatmapgl\": [{\"colorbar\": {\"outlinewidth\": 0, \"ticks\": \"\"}, \"colorscale\": [[0.0, \"#0d0887\"], [0.1111111111111111, \"#46039f\"], [0.2222222222222222, \"#7201a8\"], [0.3333333333333333, \"#9c179e\"], [0.4444444444444444, \"#bd3786\"], [0.5555555555555556, \"#d8576b\"], [0.6666666666666666, \"#ed7953\"], [0.7777777777777778, \"#fb9f3a\"], [0.8888888888888888, \"#fdca26\"], [1.0, \"#f0f921\"]], \"type\": \"heatmapgl\"}], \"histogram\": [{\"marker\": {\"colorbar\": {\"outlinewidth\": 0, \"ticks\": \"\"}}, \"type\": \"histogram\"}], \"histogram2d\": [{\"colorbar\": {\"outlinewidth\": 0, \"ticks\": \"\"}, \"colorscale\": [[0.0, \"#0d0887\"], [0.1111111111111111, \"#46039f\"], [0.2222222222222222, \"#7201a8\"], [0.3333333333333333, \"#9c179e\"], [0.4444444444444444, \"#bd3786\"], [0.5555555555555556, \"#d8576b\"], [0.6666666666666666, \"#ed7953\"], [0.7777777777777778, \"#fb9f3a\"], [0.8888888888888888, \"#fdca26\"], [1.0, \"#f0f921\"]], \"type\": \"histogram2d\"}], \"histogram2dcontour\": [{\"colorbar\": {\"outlinewidth\": 0, \"ticks\": \"\"}, \"colorscale\": [[0.0, \"#0d0887\"], [0.1111111111111111, \"#46039f\"], [0.2222222222222222, \"#7201a8\"], [0.3333333333333333, \"#9c179e\"], [0.4444444444444444, \"#bd3786\"], [0.5555555555555556, \"#d8576b\"], [0.6666666666666666, \"#ed7953\"], [0.7777777777777778, \"#fb9f3a\"], [0.8888888888888888, \"#fdca26\"], [1.0, \"#f0f921\"]], \"type\": \"histogram2dcontour\"}], \"mesh3d\": [{\"colorbar\": {\"outlinewidth\": 0, \"ticks\": \"\"}, \"type\": \"mesh3d\"}], \"parcoords\": [{\"line\": {\"colorbar\": {\"outlinewidth\": 0, \"ticks\": \"\"}}, \"type\": \"parcoords\"}], \"scatter\": [{\"marker\": {\"colorbar\": {\"outlinewidth\": 0, \"ticks\": \"\"}}, \"type\": \"scatter\"}], \"scatter3d\": [{\"line\": {\"colorbar\": {\"outlinewidth\": 0, \"ticks\": \"\"}}, \"marker\": {\"colorbar\": {\"outlinewidth\": 0, \"ticks\": \"\"}}, \"type\": \"scatter3d\"}], \"scattercarpet\": [{\"marker\": {\"colorbar\": {\"outlinewidth\": 0, \"ticks\": \"\"}}, \"type\": \"scattercarpet\"}], \"scattergeo\": [{\"marker\": {\"colorbar\": {\"outlinewidth\": 0, \"ticks\": \"\"}}, \"type\": \"scattergeo\"}], \"scattergl\": [{\"marker\": {\"colorbar\": {\"outlinewidth\": 0, \"ticks\": \"\"}}, \"type\": \"scattergl\"}], \"scattermapbox\": [{\"marker\": {\"colorbar\": {\"outlinewidth\": 0, \"ticks\": \"\"}}, \"type\": \"scattermapbox\"}], \"scatterpolar\": [{\"marker\": {\"colorbar\": {\"outlinewidth\": 0, \"ticks\": \"\"}}, \"type\": \"scatterpolar\"}], \"scatterpolargl\": [{\"marker\": {\"colorbar\": {\"outlinewidth\": 0, \"ticks\": \"\"}}, \"type\": \"scatterpolargl\"}], \"scatterternary\": [{\"marker\": {\"colorbar\": {\"outlinewidth\": 0, \"ticks\": \"\"}}, \"type\": \"scatterternary\"}], \"surface\": [{\"colorbar\": {\"outlinewidth\": 0, \"ticks\": \"\"}, \"colorscale\": [[0.0, \"#0d0887\"], [0.1111111111111111, \"#46039f\"], [0.2222222222222222, \"#7201a8\"], [0.3333333333333333, \"#9c179e\"], [0.4444444444444444, \"#bd3786\"], [0.5555555555555556, \"#d8576b\"], [0.6666666666666666, \"#ed7953\"], [0.7777777777777778, \"#fb9f3a\"], [0.8888888888888888, \"#fdca26\"], [1.0, \"#f0f921\"]], \"type\": \"surface\"}], \"table\": [{\"cells\": {\"fill\": {\"color\": \"#EBF0F8\"}, \"line\": {\"color\": \"white\"}}, \"header\": {\"fill\": {\"color\": \"#C8D4E3\"}, \"line\": {\"color\": \"white\"}}, \"type\": \"table\"}]}, \"layout\": {\"annotationdefaults\": {\"arrowcolor\": \"#2a3f5f\", \"arrowhead\": 0, \"arrowwidth\": 1}, \"colorscale\": {\"diverging\": [[0, \"#8e0152\"], [0.1, \"#c51b7d\"], [0.2, \"#de77ae\"], [0.3, \"#f1b6da\"], [0.4, \"#fde0ef\"], [0.5, \"#f7f7f7\"], [0.6, \"#e6f5d0\"], [0.7, \"#b8e186\"], [0.8, \"#7fbc41\"], [0.9, \"#4d9221\"], [1, \"#276419\"]], \"sequential\": [[0.0, \"#0d0887\"], [0.1111111111111111, \"#46039f\"], [0.2222222222222222, \"#7201a8\"], [0.3333333333333333, \"#9c179e\"], [0.4444444444444444, \"#bd3786\"], [0.5555555555555556, \"#d8576b\"], [0.6666666666666666, \"#ed7953\"], [0.7777777777777778, \"#fb9f3a\"], [0.8888888888888888, \"#fdca26\"], [1.0, \"#f0f921\"]], \"sequentialminus\": [[0.0, \"#0d0887\"], [0.1111111111111111, \"#46039f\"], [0.2222222222222222, \"#7201a8\"], [0.3333333333333333, \"#9c179e\"], [0.4444444444444444, \"#bd3786\"], [0.5555555555555556, \"#d8576b\"], [0.6666666666666666, \"#ed7953\"], [0.7777777777777778, \"#fb9f3a\"], [0.8888888888888888, \"#fdca26\"], [1.0, \"#f0f921\"]]}, \"colorway\": [\"#636efa\", \"#EF553B\", \"#00cc96\", \"#ab63fa\", \"#FFA15A\", \"#19d3f3\", \"#FF6692\", \"#B6E880\", \"#FF97FF\", \"#FECB52\"], \"font\": {\"color\": \"#2a3f5f\"}, \"geo\": {\"bgcolor\": \"white\", \"lakecolor\": \"white\", \"landcolor\": \"#E5ECF6\", \"showlakes\": true, \"showland\": true, \"subunitcolor\": \"white\"}, \"hoverlabel\": {\"align\": \"left\"}, \"hovermode\": \"closest\", \"mapbox\": {\"style\": \"light\"}, \"paper_bgcolor\": \"white\", \"plot_bgcolor\": \"#E5ECF6\", \"polar\": {\"angularaxis\": {\"gridcolor\": \"white\", \"linecolor\": \"white\", \"ticks\": \"\"}, \"bgcolor\": \"#E5ECF6\", \"radialaxis\": {\"gridcolor\": \"white\", \"linecolor\": \"white\", \"ticks\": \"\"}}, \"scene\": {\"xaxis\": {\"backgroundcolor\": \"#E5ECF6\", \"gridcolor\": \"white\", \"gridwidth\": 2, \"linecolor\": \"white\", \"showbackground\": true, \"ticks\": \"\", \"zerolinecolor\": \"white\"}, \"yaxis\": {\"backgroundcolor\": \"#E5ECF6\", \"gridcolor\": \"white\", \"gridwidth\": 2, \"linecolor\": \"white\", \"showbackground\": true, \"ticks\": \"\", \"zerolinecolor\": \"white\"}, \"zaxis\": {\"backgroundcolor\": \"#E5ECF6\", \"gridcolor\": \"white\", \"gridwidth\": 2, \"linecolor\": \"white\", \"showbackground\": true, \"ticks\": \"\", \"zerolinecolor\": \"white\"}}, \"shapedefaults\": {\"line\": {\"color\": \"#2a3f5f\"}}, \"ternary\": {\"aaxis\": {\"gridcolor\": \"white\", \"linecolor\": \"white\", \"ticks\": \"\"}, \"baxis\": {\"gridcolor\": \"white\", \"linecolor\": \"white\", \"ticks\": \"\"}, \"bgcolor\": \"#E5ECF6\", \"caxis\": {\"gridcolor\": \"white\", \"linecolor\": \"white\", \"ticks\": \"\"}}, \"title\": {\"x\": 0.05}, \"xaxis\": {\"automargin\": true, \"gridcolor\": \"white\", \"linecolor\": \"white\", \"ticks\": \"\", \"zerolinecolor\": \"white\", \"zerolinewidth\": 2}, \"yaxis\": {\"automargin\": true, \"gridcolor\": \"white\", \"linecolor\": \"white\", \"ticks\": \"\", \"zerolinecolor\": \"white\", \"zerolinewidth\": 2}}}, \"title\": {\"text\": \"Null Percentages\"}, \"width\": 800, \"xaxis\": {\"anchor\": \"y\", \"domain\": [0.0, 0.45]}, \"xaxis2\": {\"anchor\": \"y2\", \"domain\": [0.55, 1.0]}, \"yaxis\": {\"anchor\": \"x\", \"domain\": [0.0, 1.0]}, \"yaxis2\": {\"anchor\": \"x2\", \"domain\": [0.0, 1.0]}},\n",
       "                        {\"responsive\": true}\n",
       "                    ).then(function(){\n",
       "                            \n",
       "var gd = document.getElementById('235bf26f-c4d6-476b-846a-6b90d1e05eb3');\n",
       "var x = new MutationObserver(function (mutations, observer) {{\n",
       "        var display = window.getComputedStyle(gd).display;\n",
       "        if (!display || display === 'none') {{\n",
       "            console.log([gd, 'removed!']);\n",
       "            Plotly.purge(gd);\n",
       "            observer.disconnect();\n",
       "        }}\n",
       "}});\n",
       "\n",
       "// Listen for the removal of the full notebook cells\n",
       "var notebookContainer = gd.closest('#notebook-container');\n",
       "if (notebookContainer) {{\n",
       "    x.observe(notebookContainer, {childList: true});\n",
       "}}\n",
       "\n",
       "// Listen for the clearing of the current output cell\n",
       "var outputEl = gd.closest('.output');\n",
       "if (outputEl) {{\n",
       "    x.observe(outputEl, {childList: true});\n",
       "}}\n",
       "\n",
       "                        })\n",
       "                };\n",
       "                });\n",
       "            </script>\n",
       "        </div>"
      ]
     },
     "metadata": {},
     "output_type": "display_data"
    }
   ],
   "source": [
    "# import graph objects as \"go\"\n",
    "import plotly.graph_objs as go\n",
    "from plotly import subplots\n",
    "\n",
    "# Draw graphes\n",
    "trace0 = go.Bar(x = bitstamp_missing.index,\n",
    "               y = bitstamp_missing,\n",
    "               marker = dict(color = 'rgba(245, 140, 130, 0.5)',\n",
    "               line=dict(color='rgb(0,0,0)',width=1.5)))\n",
    "\n",
    "trace1 = go.Bar(x = coinbase_missing.index,\n",
    "               y = coinbase_missing,\n",
    "               marker = dict(color = 'rgba(130, 135, 245, 0.5)',\n",
    "               line=dict(color='rgb(0,0,0)',width=1.5)))\n",
    "\n",
    "fig = subplots.make_subplots(rows=1, cols=2,subplot_titles=(\"bitstamp dataframe\",\"coinbase dataframe\"))\n",
    "\n",
    "fig.append_trace(trace0, 1, 1)\n",
    "fig.append_trace(trace1, 1, 2)\n",
    "\n",
    "fig['layout'].update(height=400, width=800, title='Null Percentages')\n",
    "iplot(fig);"
   ]
  },
  {
   "cell_type": "markdown",
   "metadata": {},
   "source": [
    "It seems columns except Timestamp missing values at the same rows."
   ]
  },
  {
   "cell_type": "code",
   "execution_count": 13,
   "metadata": {},
   "outputs": [],
   "source": [
    "# Since the timestamp is not empty, we fill missing value with ffill method\n",
    "df_bitstamp['Open'].fillna(method='ffill', inplace=True)\n",
    "df_bitstamp['High'].fillna(method='ffill', inplace=True)\n",
    "df_bitstamp['Low'].fillna(method='ffill', inplace=True)\n",
    "df_bitstamp['Close'].fillna(method='ffill', inplace=True)\n",
    "df_bitstamp['Volume_(BTC)'].fillna(method='ffill', inplace=True)\n",
    "df_bitstamp['Volume_(Currency)'].fillna(method='ffill', inplace=True)\n",
    "df_bitstamp['Weighted_Price'].fillna(method='ffill', inplace=True)\n",
    "\n",
    "df_coinbase['Open'].fillna(method='ffill', inplace=True)\n",
    "df_coinbase['High'].fillna(method='ffill', inplace=True)\n",
    "df_coinbase['Low'].fillna(method='ffill', inplace=True)\n",
    "df_coinbase['Close'].fillna(method='ffill', inplace=True)\n",
    "df_coinbase['Volume_(BTC)'].fillna(method='ffill', inplace=True)\n",
    "df_coinbase['Volume_(Currency)'].fillna(method='ffill', inplace=True)\n",
    "df_coinbase['Weighted_Price'].fillna(method='ffill', inplace=True)"
   ]
  },
  {
   "cell_type": "markdown",
   "metadata": {},
   "source": [
    "### Price change with timeseries"
   ]
  },
  {
   "cell_type": "code",
   "execution_count": 14,
   "metadata": {},
   "outputs": [
    {
     "data": {
      "image/png": "[encoded data removed]",
      "text/plain": [
       "<Figure size 432x288 with 1 Axes>"
      ]
     },
     "metadata": {
      "needs_background": "light"
     },
     "output_type": "display_data"
    }
   ],
   "source": [
    "# draw\n",
    "plt.plot(df_bitstamp.index, df_bitstamp.Weighted_Price, alpha=0.5, color='blue')\n",
    "plt.plot(df_coinbase.index, df_coinbase.Weighted_Price, alpha=0.5, color='orange')\n",
    "plt.xlabel('time', fontsize=12)\n",
    "plt.ylabel('price /USD', fontsize=12);"
   ]
  },
  {
   "cell_type": "markdown",
   "metadata": {},
   "source": [
    "- coinbase data is missing during before 2015 and after 2019\n",
    "- There was a peak in price between late 2017 and middle of 2018\n",
    "\n",
    "bitstamp data seems to have more comprehensive data, so I'll be using only bitstamp data for further analysis"
   ]
  },
  {
   "cell_type": "markdown",
   "metadata": {},
   "source": [
    "### More insights on bitstamp data"
   ]
  },
  {
   "cell_type": "code",
   "execution_count": 15,
   "metadata": {},
   "outputs": [],
   "source": [
    "# change timeseries to monthly and weekly\n",
    "df_bitstamp_m = df_bitstamp.resample('M').mean()\n",
    "df_bitstamp_w = df_bitstamp.resample('W').mean()"
   ]
  },
  {
   "cell_type": "code",
   "execution_count": 16,
   "metadata": {},
   "outputs": [
    {
     "data": {
      "application/vnd.plotly.v1+json": {
       "config": {
        "linkText": "Export to plot.ly",
        "plotlyServerURL": "https://plot.ly",
        "showLink": false
       },
       "data": [
        {
         "marker": {
          "color": "rgba(235, 115, 150, 0.8)"
         },
         "mode": "lines",
         "name": "Weekly",
         "type": "scatter",
         "x": [
          "2012-01-01T00:00:00",
          "2012-01-08T00:00:00",
          "2012-01-15T00:00:00",
          "2012-01-22T00:00:00",
          "2012-01-29T00:00:00",
          "2012-02-05T00:00:00",
          "2012-02-12T00:00:00",
          "2012-02-19T00:00:00",
          "2012-02-26T00:00:00",
          "2012-03-04T00:00:00",
          "2012-03-11T00:00:00",
          "2012-03-18T00:00:00",
          "2012-03-25T00:00:00",
          "2012-04-01T00:00:00",
          "2012-04-08T00:00:00",
          "2012-04-15T00:00:00",
          "2012-04-22T00:00:00",
          "2012-04-29T00:00:00",
          "2012-05-06T00:00:00",
          "2012-05-13T00:00:00",
          "2012-05-20T00:00:00",
          "2012-05-27T00:00:00",
          "2012-06-03T00:00:00",
          "2012-06-10T00:00:00",
          "2012-06-17T00:00:00",
          "2012-06-24T00:00:00",
          "2012-07-01T00:00:00",
          "2012-07-08T00:00:00",
          "2012-07-15T00:00:00",
          "2012-07-22T00:00:00",
          "2012-07-29T00:00:00",
          "2012-08-05T00:00:00",
          "2012-08-12T00:00:00",
          "2012-08-19T00:00:00",
          "2012-08-26T00:00:00",
          "2012-09-02T00:00:00",
          "2012-09-09T00:00:00",
          "2012-09-16T00:00:00",
          "2012-09-23T00:00:00",
          "2012-09-30T00:00:00",
          "2012-10-07T00:00:00",
          "2012-10-14T00:00:00",
          "2012-10-21T00:00:00",
          "2012-10-28T00:00:00",
          "2012-11-04T00:00:00",
          "2012-11-11T00:00:00",
          "2012-11-18T00:00:00",
          "2012-11-25T00:00:00",
          "2012-12-02T00:00:00",
          "2012-12-09T00:00:00",
          "2012-12-16T00:00:00",
          "2012-12-23T00:00:00",
          "2012-12-30T00:00:00",
          "2013-01-06T00:00:00",
          "2013-01-13T00:00:00",
          "2013-01-20T00:00:00",
          "2013-01-27T00:00:00",
          "2013-02-03T00:00:00",
          "2013-02-10T00:00:00",
          "2013-02-17T00:00:00",
          "2013-02-24T00:00:00",
          "2013-03-03T00:00:00",
          "2013-03-10T00:00:00",
          "2013-03-17T00:00:00",
          "2013-03-24T00:00:00",
          "2013-03-31T00:00:00",
          "2013-04-07T00:00:00",
          "2013-04-14T00:00:00",
          "2013-04-21T00:00:00",
          "2013-04-28T00:00:00",
          "2013-05-05T00:00:00",
          "2013-05-12T00:00:00",
          "2013-05-19T00:00:00",
          "2013-05-26T00:00:00",
          "2013-06-02T00:00:00",
          "2013-06-09T00:00:00",
          "2013-06-16T00:00:00",
          "2013-06-23T00:00:00",
          "2013-06-30T00:00:00",
          "2013-07-07T00:00:00",
          "2013-07-14T00:00:00",
          "2013-07-21T00:00:00",
          "2013-07-28T00:00:00",
          "2013-08-04T00:00:00",
          "2013-08-11T00:00:00",
          "2013-08-18T00:00:00",
          "2013-08-25T00:00:00",
          "2013-09-01T00:00:00",
          "2013-09-08T00:00:00",
          "2013-09-15T00:00:00",
          "2013-09-22T00:00:00",
          "2013-09-29T00:00:00",
          "2013-10-06T00:00:00",
          "2013-10-13T00:00:00",
          "2013-10-20T00:00:00",
          "2013-10-27T00:00:00",
          "2013-11-03T00:00:00",
          "2013-11-10T00:00:00",
          "2013-11-17T00:00:00",
          "2013-11-24T00:00:00",
          "2013-12-01T00:00:00",
          "2013-12-08T00:00:00",
          "2013-12-15T00:00:00",
          "2013-12-22T00:00:00",
          "2013-12-29T00:00:00",
          "2014-01-05T00:00:00",
          "2014-01-12T00:00:00",
          "2014-01-19T00:00:00",
          "2014-01-26T00:00:00",
          "2014-02-02T00:00:00",
          "2014-02-09T00:00:00",
          "2014-02-16T00:00:00",
          "2014-02-23T00:00:00",
          "2014-03-02T00:00:00",
          "2014-03-09T00:00:00",
          "2014-03-16T00:00:00",
          "2014-03-23T00:00:00",
          "2014-03-30T00:00:00",
          "2014-04-06T00:00:00",
          "2014-04-13T00:00:00",
          "2014-04-20T00:00:00",
          "2014-04-27T00:00:00",
          "2014-05-04T00:00:00",
          "2014-05-11T00:00:00",
          "2014-05-18T00:00:00",
          "2014-05-25T00:00:00",
          "2014-06-01T00:00:00",
          "2014-06-08T00:00:00",
          "2014-06-15T00:00:00",
          "2014-06-22T00:00:00",
          "2014-06-29T00:00:00",
          "2014-07-06T00:00:00",
          "2014-07-13T00:00:00",
          "2014-07-20T00:00:00",
          "2014-07-27T00:00:00",
          "2014-08-03T00:00:00",
          "2014-08-10T00:00:00",
          "2014-08-17T00:00:00",
          "2014-08-24T00:00:00",
          "2014-08-31T00:00:00",
          "2014-09-07T00:00:00",
          "2014-09-14T00:00:00",
          "2014-09-21T00:00:00",
          "2014-09-28T00:00:00",
          "2014-10-05T00:00:00",
          "2014-10-12T00:00:00",
          "2014-10-19T00:00:00",
          "2014-10-26T00:00:00",
          "2014-11-02T00:00:00",
          "2014-11-09T00:00:00",
          "2014-11-16T00:00:00",
          "2014-11-23T00:00:00",
          "2014-11-30T00:00:00",
          "2014-12-07T00:00:00",
          "2014-12-14T00:00:00",
          "2014-12-21T00:00:00",
          "2014-12-28T00:00:00",
          "2015-01-04T00:00:00",
          "2015-01-11T00:00:00",
          "2015-01-18T00:00:00",
          "2015-01-25T00:00:00",
          "2015-02-01T00:00:00",
          "2015-02-08T00:00:00",
          "2015-02-15T00:00:00",
          "2015-02-22T00:00:00",
          "2015-03-01T00:00:00",
          "2015-03-08T00:00:00",
          "2015-03-15T00:00:00",
          "2015-03-22T00:00:00",
          "2015-03-29T00:00:00",
          "2015-04-05T00:00:00",
          "2015-04-12T00:00:00",
          "2015-04-19T00:00:00",
          "2015-04-26T00:00:00",
          "2015-05-03T00:00:00",
          "2015-05-10T00:00:00",
          "2015-05-17T00:00:00",
          "2015-05-24T00:00:00",
          "2015-05-31T00:00:00",
          "2015-06-07T00:00:00",
          "2015-06-14T00:00:00",
          "2015-06-21T00:00:00",
          "2015-06-28T00:00:00",
          "2015-07-05T00:00:00",
          "2015-07-12T00:00:00",
          "2015-07-19T00:00:00",
          "2015-07-26T00:00:00",
          "2015-08-02T00:00:00",
          "2015-08-09T00:00:00",
          "2015-08-16T00:00:00",
          "2015-08-23T00:00:00",
          "2015-08-30T00:00:00",
          "2015-09-06T00:00:00",
          "2015-09-13T00:00:00",
          "2015-09-20T00:00:00",
          "2015-09-27T00:00:00",
          "2015-10-04T00:00:00",
          "2015-10-11T00:00:00",
          "2015-10-18T00:00:00",
          "2015-10-25T00:00:00",
          "2015-11-01T00:00:00",
          "2015-11-08T00:00:00",
          "2015-11-15T00:00:00",
          "2015-11-22T00:00:00",
          "2015-11-29T00:00:00",
          "2015-12-06T00:00:00",
          "2015-12-13T00:00:00",
          "2015-12-20T00:00:00",
          "2015-12-27T00:00:00",
          "2016-01-03T00:00:00",
          "2016-01-10T00:00:00",
          "2016-01-17T00:00:00",
          "2016-01-24T00:00:00",
          "2016-01-31T00:00:00",
          "2016-02-07T00:00:00",
          "2016-02-14T00:00:00",
          "2016-02-21T00:00:00",
          "2016-02-28T00:00:00",
          "2016-03-06T00:00:00",
          "2016-03-13T00:00:00",
          "2016-03-20T00:00:00",
          "2016-03-27T00:00:00",
          "2016-04-03T00:00:00",
          "2016-04-10T00:00:00",
          "2016-04-17T00:00:00",
          "2016-04-24T00:00:00",
          "2016-05-01T00:00:00",
          "2016-05-08T00:00:00",
          "2016-05-15T00:00:00",
          "2016-05-22T00:00:00",
          "2016-05-29T00:00:00",
          "2016-06-05T00:00:00",
          "2016-06-12T00:00:00",
          "2016-06-19T00:00:00",
          "2016-06-26T00:00:00",
          "2016-07-03T00:00:00",
          "2016-07-10T00:00:00",
          "2016-07-17T00:00:00",
          "2016-07-24T00:00:00",
          "2016-07-31T00:00:00",
          "2016-08-07T00:00:00",
          "2016-08-14T00:00:00",
          "2016-08-21T00:00:00",
          "2016-08-28T00:00:00",
          "2016-09-04T00:00:00",
          "2016-09-11T00:00:00",
          "2016-09-18T00:00:00",
          "2016-09-25T00:00:00",
          "2016-10-02T00:00:00",
          "2016-10-09T00:00:00",
          "2016-10-16T00:00:00",
          "2016-10-23T00:00:00",
          "2016-10-30T00:00:00",
          "2016-11-06T00:00:00",
          "2016-11-13T00:00:00",
          "2016-11-20T00:00:00",
          "2016-11-27T00:00:00",
          "2016-12-04T00:00:00",
          "2016-12-11T00:00:00",
          "2016-12-18T00:00:00",
          "2016-12-25T00:00:00",
          "2017-01-01T00:00:00",
          "2017-01-08T00:00:00",
          "2017-01-15T00:00:00",
          "2017-01-22T00:00:00",
          "2017-01-29T00:00:00",
          "2017-02-05T00:00:00",
          "2017-02-12T00:00:00",
          "2017-02-19T00:00:00",
          "2017-02-26T00:00:00",
          "2017-03-05T00:00:00",
          "2017-03-12T00:00:00",
          "2017-03-19T00:00:00",
          "2017-03-26T00:00:00",
          "2017-04-02T00:00:00",
          "2017-04-09T00:00:00",
          "2017-04-16T00:00:00",
          "2017-04-23T00:00:00",
          "2017-04-30T00:00:00",
          "2017-05-07T00:00:00",
          "2017-05-14T00:00:00",
          "2017-05-21T00:00:00",
          "2017-05-28T00:00:00",
          "2017-06-04T00:00:00",
          "2017-06-11T00:00:00",
          "2017-06-18T00:00:00",
          "2017-06-25T00:00:00",
          "2017-07-02T00:00:00",
          "2017-07-09T00:00:00",
          "2017-07-16T00:00:00",
          "2017-07-23T00:00:00",
          "2017-07-30T00:00:00",
          "2017-08-06T00:00:00",
          "2017-08-13T00:00:00",
          "2017-08-20T00:00:00",
          "2017-08-27T00:00:00",
          "2017-09-03T00:00:00",
          "2017-09-10T00:00:00",
          "2017-09-17T00:00:00",
          "2017-09-24T00:00:00",
          "2017-10-01T00:00:00",
          "2017-10-08T00:00:00",
          "2017-10-15T00:00:00",
          "2017-10-22T00:00:00",
          "2017-10-29T00:00:00",
          "2017-11-05T00:00:00",
          "2017-11-12T00:00:00",
          "2017-11-19T00:00:00",
          "2017-11-26T00:00:00",
          "2017-12-03T00:00:00",
          "2017-12-10T00:00:00",
          "2017-12-17T00:00:00",
          "2017-12-24T00:00:00",
          "2017-12-31T00:00:00",
          "2018-01-07T00:00:00",
          "2018-01-14T00:00:00",
          "2018-01-21T00:00:00",
          "2018-01-28T00:00:00",
          "2018-02-04T00:00:00",
          "2018-02-11T00:00:00",
          "2018-02-18T00:00:00",
          "2018-02-25T00:00:00",
          "2018-03-04T00:00:00",
          "2018-03-11T00:00:00",
          "2018-03-18T00:00:00",
          "2018-03-25T00:00:00",
          "2018-04-01T00:00:00",
          "2018-04-08T00:00:00",
          "2018-04-15T00:00:00",
          "2018-04-22T00:00:00",
          "2018-04-29T00:00:00",
          "2018-05-06T00:00:00",
          "2018-05-13T00:00:00",
          "2018-05-20T00:00:00",
          "2018-05-27T00:00:00",
          "2018-06-03T00:00:00",
          "2018-06-10T00:00:00",
          "2018-06-17T00:00:00",
          "2018-06-24T00:00:00",
          "2018-07-01T00:00:00",
          "2018-07-08T00:00:00",
          "2018-07-15T00:00:00",
          "2018-07-22T00:00:00",
          "2018-07-29T00:00:00",
          "2018-08-05T00:00:00",
          "2018-08-12T00:00:00",
          "2018-08-19T00:00:00",
          "2018-08-26T00:00:00",
          "2018-09-02T00:00:00",
          "2018-09-09T00:00:00",
          "2018-09-16T00:00:00",
          "2018-09-23T00:00:00",
          "2018-09-30T00:00:00",
          "2018-10-07T00:00:00",
          "2018-10-14T00:00:00",
          "2018-10-21T00:00:00",
          "2018-10-28T00:00:00",
          "2018-11-04T00:00:00",
          "2018-11-11T00:00:00",
          "2018-11-18T00:00:00",
          "2018-11-25T00:00:00",
          "2018-12-02T00:00:00",
          "2018-12-09T00:00:00",
          "2018-12-16T00:00:00",
          "2018-12-23T00:00:00",
          "2018-12-30T00:00:00",
          "2019-01-06T00:00:00",
          "2019-01-13T00:00:00",
          "2019-01-20T00:00:00",
          "2019-01-27T00:00:00",
          "2019-02-03T00:00:00",
          "2019-02-10T00:00:00",
          "2019-02-17T00:00:00",
          "2019-02-24T00:00:00",
          "2019-03-03T00:00:00",
          "2019-03-10T00:00:00",
          "2019-03-17T00:00:00",
          "2019-03-24T00:00:00",
          "2019-03-31T00:00:00",
          "2019-04-07T00:00:00",
          "2019-04-14T00:00:00",
          "2019-04-21T00:00:00",
          "2019-04-28T00:00:00",
          "2019-05-05T00:00:00",
          "2019-05-12T00:00:00",
          "2019-05-19T00:00:00",
          "2019-05-26T00:00:00",
          "2019-06-02T00:00:00",
          "2019-06-09T00:00:00",
          "2019-06-16T00:00:00",
          "2019-06-23T00:00:00",
          "2019-06-30T00:00:00",
          "2019-07-07T00:00:00",
          "2019-07-14T00:00:00",
          "2019-07-21T00:00:00",
          "2019-07-28T00:00:00",
          "2019-08-04T00:00:00",
          "2019-08-11T00:00:00",
          "2019-08-18T00:00:00"
         ],
         "y": [
          4.597083227366394,
          5.863038884459863,
          6.72974512437969,
          6.7128778472407555,
          6.050623483031102,
          5.87171296078702,
          5.686939451787472,
          4.8026992412799885,
          4.761683491431188,
          4.899133209492256,
          4.975305017379359,
          5.2548196912659755,
          4.861536530719164,
          4.803993422821445,
          4.909280233695204,
          4.864171634530579,
          5.122431162551774,
          5.0498103917632555,
          5.048244121039275,
          4.992540716357004,
          5.012313579976629,
          5.071647570923415,
          5.140803787826712,
          5.437127489919997,
          5.928585236003029,
          6.465555624814495,
          6.456622233070176,
          6.583326414498289,
          7.24810259668138,
          8.497531649435599,
          8.678008056070595,
          9.851992374576595,
          11.078783670467109,
          12.196843685364845,
          10.086904011543174,
          10.585360103350533,
          10.662894668347091,
          11.23851653007966,
          12.074587289549273,
          12.07256476557006,
          12.434112216054068,
          11.839219251011736,
          11.676833754680706,
          10.933842192762478,
          10.710468912772496,
          10.709156523557198,
          11.139159538332216,
          11.857593615986985,
          12.28532697557203,
          13.055332959231462,
          13.37852384983661,
          13.21701915023791,
          13.16514307712306,
          13.158437860080735,
          13.645737851284744,
          14.824706058908987,
          17.158487920865717,
          19.5729853704042,
          21.62377018969005,
          25.931269607813476,
          29.122489205344277,
          32.51554236795566,
          42.383867626990344,
          46.57715895380926,
          62.447779896505935,
          86.60827958356828,
          128.80014170332566,
          142.7962371900279,
          98.95987244001489,
          135.42167664797574,
          119.3622255214635,
          113.96507652048719,
          114.56940081326066,
          122.53545701405488,
          127.39906197242323,
          115.19489688297864,
          103.29862845340793,
          102.5248534553388,
          95.14541679872718,
          77.65387818796371,
          83.52660688288022,
          88.10961466985515,
          88.27822442961508,
          96.00469551353578,
          95.57268866017539,
          97.60876806394587,
          107.44046463741674,
          120.7270674700218,
          124.07932773165646,
          124.30026237097742,
          125.1923428018494,
          124.87484016136048,
          121.48611388303742,
          125.90901637340835,
          147.4886579790745,
          185.68910120761532,
          201.29090168358803,
          279.0798549902529,
          397.1084614298093,
          675.0009321961757,
          969.4765971573321,
          942.9521415431071,
          880.5769444515053,
          651.1168556344068,
          689.0299948234281,
          776.814423295267,
          861.3142112825923,
          819.102277142213,
          811.9166243494085,
          799.7220115978545,
          759.6532442332258,
          655.7108709942023,
          609.1637944896371,
          560.5530844648198,
          644.833758995537,
          634.5696858646203,
          594.2958601798289,
          533.5532342512479,
          455.46629002289114,
          430.52286063079003,
          492.3821918911052,
          479.2647165847175,
          445.24095018099104,
          441.5910405494983,
          445.1455069457385,
          505.46456610063626,
          595.0466901936978,
          652.2590237532306,
          611.706650338369,
          598.1136651163071,
          584.4725324298208,
          637.6922340450375,
          625.8496721680997,
          623.4779759684741,
          609.7094190579573,
          584.6123549641135,
          586.426641716421,
          534.6156586715812,
          499.5948460223982,
          505.7590076001822,
          480.09109740559916,
          473.89726293830483,
          437.48002214152393,
          408.05178579214385,
          365.2861827714823,
          348.88295207608905,
          388.83238628458037,
          369.0585226719375,
          341.8041936734617,
          339.64677169806146,
          389.6634898632724,
          371.0172703581303,
          375.15369300830156,
          376.0779392753034,
          354.88552986626814,
          327.63656494995087,
          324.49795290667265,
          307.7316525922174,
          277.9654105717124,
          218.4116589857282,
          227.16086537770678,
          244.45776759000094,
          226.3932236795038,
          230.16290477286216,
          240.88946713164438,
          243.32289158363616,
          272.17485648711096,
          288.26130445770696,
          270.56715896161904,
          251.7328278551819,
          249.1530276420655,
          245.10007596154574,
          224.21479916514505,
          228.55785787619337,
          229.86130685067985,
          237.38551391071547,
          238.46269829521586,
          235.95116836047535,
          235.08422831419165,
          224.72523249907337,
          229.09054746781158,
          243.5836677485276,
          244.33671050853292,
          257.86808318643324,
          279.030181168761,
          284.31505750852125,
          281.879976904106,
          287.2482216182749,
          277.7524341463766,
          264.67949484616395,
          238.72428989793028,
          224.97665256447647,
          230.814879841598,
          239.0889439990969,
          230.50326172024955,
          231.4865750755745,
          237.69625969660478,
          243.67369540623275,
          256.17909555708354,
          274.01292293097873,
          307.30392233340166,
          387.14991948364036,
          339.46655115731045,
          327.32555810148153,
          340.245047454616,
          369.8779674629318,
          417.24618042163536,
          454.7754231765392,
          439.3072406485107,
          428.64542398322595,
          441.894328494485,
          415.8759441565588,
          392.57668127265197,
          385.13729921943064,
          376.1844520723558,
          381.5305612755946,
          417.8138433128596,
          427.07015879236906,
          421.0581540124444,
          413.1152930522865,
          413.1136313713264,
          415.38650370878446,
          417.3110385866525,
          419.92218638262267,
          425.48188948990065,
          441.3388024721642,
          455.1145075250814,
          451.02777128622853,
          455.31111676311343,
          448.34657127253143,
          466.23091271672394,
          547.4588872084822,
          588.3701332190974,
          722.1838161185599,
          661.6216685439956,
          658.4152595253346,
          657.4752809927129,
          660.3902240392032,
          664.5696668169961,
          651.6641247121677,
          580.8948183763288,
          586.1009635447874,
          572.6425969266012,
          576.2959557360849,
          576.6349308575249,
          614.4600209567418,
          606.5078932533744,
          600.4228338551724,
          605.6712798398535,
          610.724373376402,
          632.5066554344354,
          635.9251246028998,
          676.164159612327,
          710.5043423618395,
          709.8387206324716,
          730.1735578732333,
          734.8346744420946,
          747.777791244574,
          763.5594705700445,
          780.1431225924312,
          846.8231649018109,
          946.8418052823544,
          981.455599077397,
          839.5301621477881,
          888.3838793189368,
          911.4032239345851,
          981.5261404722329,
          1018.6237991360302,
          1028.9262134189303,
          1134.9867290411808,
          1232.0616175989153,
          1210.0524376297892,
          1160.633238632342,
          1012.6337377886592,
          1045.236103190339,
          1162.4921230720618,
          1192.575614046159,
          1215.4886157997312,
          1299.270606192428,
          1494.37662257012,
          1731.8444995678308,
          1851.8648619997825,
          2270.3361514011503,
          2375.367347350544,
          2798.444169935201,
          2585.8937315673465,
          2649.5744845092536,
          2485.0410207264667,
          2554.66284665064,
          2257.3953041386508,
          2486.526401654741,
          2653.7514355581256,
          2886.0897769798235,
          3534.266557638373,
          4169.57817878284,
          4181.925263707447,
          4582.092696801415,
          4382.844309117568,
          3822.8337536630524,
          3809.514550247154,
          4094.8754923909128,
          4345.317258591746,
          5178.433645751379,
          5732.148433853464,
          5765.094702401898,
          6824.373666237791,
          6941.5408911982695,
          7255.76893950973,
          8311.987307796851,
          10299.984184368597,
          13531.35987624476,
          17219.17300563854,
          16037.671861596136,
          14301.704049324933,
          15150.4069687307,
          14231.401085315654,
          12005.681248270594,
          11155.279582236333,
          9654.864034178643,
          7953.321044226853,
          9643.170977872833,
          10423.81210607568,
          10757.157144933522,
          9978.881842488758,
          8506.89777430359,
          8668.326806897068,
          7471.152210325431,
          6952.557741489793,
          7443.887708107811,
          8359.927340691578,
          9160.864612542453,
          9410.069362145732,
          8962.337473624406,
          8357.911365825414,
          7757.581832852986,
          7463.9694233629125,
          7536.782759511647,
          6568.31722761387,
          6453.811247702891,
          6171.10386117545,
          6579.264309556688,
          6364.219550366801,
          7200.975109610357,
          8086.2636742491095,
          7549.371508231573,
          6528.49947611267,
          6346.593860819099,
          6541.857547695585,
          7000.237005773858,
          6746.033241329261,
          6398.360568684666,
          6501.698477154612,
          6545.000971136147,
          6535.001481581032,
          6361.102450718313,
          6412.520146652793,
          6405.2625497789695,
          6318.901469046666,
          6404.784682796282,
          5814.96952891855,
          4408.243273584929,
          4015.550130814011,
          3648.5383076768067,
          3317.5636354972767,
          3759.1877326464414,
          3822.485066047932,
          3800.5289277926354,
          3811.1704779739434,
          3617.4049159028427,
          3554.951307686132,
          3422.5290195258044,
          3463.6714032560617,
          3581.080899956954,
          3909.83662960344,
          3802.5239273778516,
          3835.0728592793525,
          3890.6844251906523,
          3982.6329086387686,
          4012.977131132406,
          4847.726069607873,
          5153.309119074836,
          5223.369790679023,
          5320.508608985543,
          5436.68522184095,
          6237.810624886454,
          7709.944122059191,
          7944.108355027068,
          8622.691421774132,
          7941.200303619505,
          8299.772918812034,
          9737.506725505533,
          11669.653009219172,
          11137.596418702642,
          11773.338093194452,
          10304.960830986414,
          9891.059778871218,
          10157.575303539392,
          11675.051945652564,
          11540.450291
         ]
        },
        {
         "marker": {
          "color": "rgba(115, 120, 235, 0.8)"
         },
         "mode": "lines",
         "name": "Monthly",
         "type": "scatter",
         "x": [
          "2011-12-31T00:00:00",
          "2012-01-31T00:00:00",
          "2012-02-29T00:00:00",
          "2012-03-31T00:00:00",
          "2012-04-30T00:00:00",
          "2012-05-31T00:00:00",
          "2012-06-30T00:00:00",
          "2012-07-31T00:00:00",
          "2012-08-31T00:00:00",
          "2012-09-30T00:00:00",
          "2012-10-31T00:00:00",
          "2012-11-30T00:00:00",
          "2012-12-31T00:00:00",
          "2013-01-31T00:00:00",
          "2013-02-28T00:00:00",
          "2013-03-31T00:00:00",
          "2013-04-30T00:00:00",
          "2013-05-31T00:00:00",
          "2013-06-30T00:00:00",
          "2013-07-31T00:00:00",
          "2013-08-31T00:00:00",
          "2013-09-30T00:00:00",
          "2013-10-31T00:00:00",
          "2013-11-30T00:00:00",
          "2013-12-31T00:00:00",
          "2014-01-31T00:00:00",
          "2014-02-28T00:00:00",
          "2014-03-31T00:00:00",
          "2014-04-30T00:00:00",
          "2014-05-31T00:00:00",
          "2014-06-30T00:00:00",
          "2014-07-31T00:00:00",
          "2014-08-31T00:00:00",
          "2014-09-30T00:00:00",
          "2014-10-31T00:00:00",
          "2014-11-30T00:00:00",
          "2014-12-31T00:00:00",
          "2015-01-31T00:00:00",
          "2015-02-28T00:00:00",
          "2015-03-31T00:00:00",
          "2015-04-30T00:00:00",
          "2015-05-31T00:00:00",
          "2015-06-30T00:00:00",
          "2015-07-31T00:00:00",
          "2015-08-31T00:00:00",
          "2015-09-30T00:00:00",
          "2015-10-31T00:00:00",
          "2015-11-30T00:00:00",
          "2015-12-31T00:00:00",
          "2016-01-31T00:00:00",
          "2016-02-29T00:00:00",
          "2016-03-31T00:00:00",
          "2016-04-30T00:00:00",
          "2016-05-31T00:00:00",
          "2016-06-30T00:00:00",
          "2016-07-31T00:00:00",
          "2016-08-31T00:00:00",
          "2016-09-30T00:00:00",
          "2016-10-31T00:00:00",
          "2016-11-30T00:00:00",
          "2016-12-31T00:00:00",
          "2017-01-31T00:00:00",
          "2017-02-28T00:00:00",
          "2017-03-31T00:00:00",
          "2017-04-30T00:00:00",
          "2017-05-31T00:00:00",
          "2017-06-30T00:00:00",
          "2017-07-31T00:00:00",
          "2017-08-31T00:00:00",
          "2017-09-30T00:00:00",
          "2017-10-31T00:00:00",
          "2017-11-30T00:00:00",
          "2017-12-31T00:00:00",
          "2018-01-31T00:00:00",
          "2018-02-28T00:00:00",
          "2018-03-31T00:00:00",
          "2018-04-30T00:00:00",
          "2018-05-31T00:00:00",
          "2018-06-30T00:00:00",
          "2018-07-31T00:00:00",
          "2018-08-31T00:00:00",
          "2018-09-30T00:00:00",
          "2018-10-31T00:00:00",
          "2018-11-30T00:00:00",
          "2018-12-31T00:00:00",
          "2019-01-31T00:00:00",
          "2019-02-28T00:00:00",
          "2019-03-31T00:00:00",
          "2019-04-30T00:00:00",
          "2019-05-31T00:00:00",
          "2019-06-30T00:00:00",
          "2019-07-31T00:00:00",
          "2019-08-31T00:00:00"
         ],
         "y": [
          4.472578937498223,
          6.234949110730185,
          5.2327342338462595,
          4.958307975702499,
          4.980866314073925,
          5.042617526977678,
          5.967470396375956,
          7.792521248320498,
          10.923611035541764,
          11.41232585152871,
          11.623722499758541,
          11.332316984429418,
          13.152245008498273,
          15.311496408739869,
          25.803891188048983,
          57.0521247531452,
          127.44740014518952,
          117.77537766336307,
          105.51173019915487,
          85.43469682770503,
          103.41296905548889,
          124.84986739479814,
          152.7191270779157,
          527.9646645135326,
          794.3961102311084,
          819.0045274809869,
          664.2766335617035,
          594.6266570064308,
          462.55699859230805,
          485.5461156361267,
          613.1004681844607,
          618.6102294729346,
          537.2959484017488,
          445.1787694250584,
          363.975195694624,
          366.11550884985087,
          342.7381074673848,
          245.90844672153162,
          234.07062025238642,
          268.41094876129256,
          234.7066295892274,
          236.60217692468754,
          236.88882537349693,
          279.26365705673925,
          252.66300298864357,
          233.52765483350942,
          264.67429761541297,
          348.37287409653186,
          422.4996182724463,
          411.08571672823587,
          401.8637724568032,
          415.22369923641344,
          433.1439889651864,
          459.90201350122777,
          638.2916879658313,
          660.5331736401068,
          578.4277707291537,
          602.8389412354658,
          638.9048297681456,
          723.2217759301456,
          820.0562028784154,
          909.0338788219314,
          1059.6244334762275,
          1131.8914016347976,
          1208.2018142095283,
          1877.5631228195948,
          2619.6004346033546,
          2494.6309739849457,
          3827.6240634817436,
          4084.6936857828014,
          5283.855989615605,
          7755.046356146434,
          14840.370581076375,
          12893.449406623446,
          9389.711654988998,
          9025.692916218119,
          7983.605096681939,
          8438.863063242026,
          6784.279614226831,
          7097.209566480597,
          6689.449425724835,
          6589.396239621773,
          6415.127929125973,
          5388.904282010079,
          3670.6403517861095,
          3658.5632290356803,
          3648.339476322903,
          3918.3650457358754,
          5138.997776288963,
          7228.675751112861,
          9358.37074881566,
          10667.295974215494,
          11262.82674455223
         ]
        }
       ],
       "layout": {
        "height": 400,
        "showlegend": false,
        "template": {
         "data": {
          "bar": [
           {
            "error_x": {
             "color": "#2a3f5f"
            },
            "error_y": {
             "color": "#2a3f5f"
            },
            "marker": {
             "line": {
              "color": "#E5ECF6",
              "width": 0.5
             }
            },
            "type": "bar"
           }
          ],
          "barpolar": [
           {
            "marker": {
             "line": {
              "color": "#E5ECF6",
              "width": 0.5
             }
            },
            "type": "barpolar"
           }
          ],
          "carpet": [
           {
            "aaxis": {
             "endlinecolor": "#2a3f5f",
             "gridcolor": "white",
             "linecolor": "white",
             "minorgridcolor": "white",
             "startlinecolor": "#2a3f5f"
            },
            "baxis": {
             "endlinecolor": "#2a3f5f",
             "gridcolor": "white",
             "linecolor": "white",
             "minorgridcolor": "white",
             "startlinecolor": "#2a3f5f"
            },
            "type": "carpet"
           }
          ],
          "choropleth": [
           {
            "colorbar": {
             "outlinewidth": 0,
             "ticks": ""
            },
            "type": "choropleth"
           }
          ],
          "contour": [
           {
            "colorbar": {
             "outlinewidth": 0,
             "ticks": ""
            },
            "colorscale": [
             [
              0,
              "#0d0887"
             ],
             [
              0.1111111111111111,
              "#46039f"
             ],
             [
              0.2222222222222222,
              "#7201a8"
             ],
             [
              0.3333333333333333,
              "#9c179e"
             ],
             [
              0.4444444444444444,
              "#bd3786"
             ],
             [
              0.5555555555555556,
              "#d8576b"
             ],
             [
              0.6666666666666666,
              "#ed7953"
             ],
             [
              0.7777777777777778,
              "#fb9f3a"
             ],
             [
              0.8888888888888888,
              "#fdca26"
             ],
             [
              1,
              "#f0f921"
             ]
            ],
            "type": "contour"
           }
          ],
          "contourcarpet": [
           {
            "colorbar": {
             "outlinewidth": 0,
             "ticks": ""
            },
            "type": "contourcarpet"
           }
          ],
          "heatmap": [
           {
            "colorbar": {
             "outlinewidth": 0,
             "ticks": ""
            },
            "colorscale": [
             [
              0,
              "#0d0887"
             ],
             [
              0.1111111111111111,
              "#46039f"
             ],
             [
              0.2222222222222222,
              "#7201a8"
             ],
             [
              0.3333333333333333,
              "#9c179e"
             ],
             [
              0.4444444444444444,
              "#bd3786"
             ],
             [
              0.5555555555555556,
              "#d8576b"
             ],
             [
              0.6666666666666666,
              "#ed7953"
             ],
             [
              0.7777777777777778,
              "#fb9f3a"
             ],
             [
              0.8888888888888888,
              "#fdca26"
             ],
             [
              1,
              "#f0f921"
             ]
            ],
            "type": "heatmap"
           }
          ],
          "heatmapgl": [
           {
            "colorbar": {
             "outlinewidth": 0,
             "ticks": ""
            },
            "colorscale": [
             [
              0,
              "#0d0887"
             ],
             [
              0.1111111111111111,
              "#46039f"
             ],
             [
              0.2222222222222222,
              "#7201a8"
             ],
             [
              0.3333333333333333,
              "#9c179e"
             ],
             [
              0.4444444444444444,
              "#bd3786"
             ],
             [
              0.5555555555555556,
              "#d8576b"
             ],
             [
              0.6666666666666666,
              "#ed7953"
             ],
             [
              0.7777777777777778,
              "#fb9f3a"
             ],
             [
              0.8888888888888888,
              "#fdca26"
             ],
             [
              1,
              "#f0f921"
             ]
            ],
            "type": "heatmapgl"
           }
          ],
          "histogram": [
           {
            "marker": {
             "colorbar": {
              "outlinewidth": 0,
              "ticks": ""
             }
            },
            "type": "histogram"
           }
          ],
          "histogram2d": [
           {
            "colorbar": {
             "outlinewidth": 0,
             "ticks": ""
            },
            "colorscale": [
             [
              0,
              "#0d0887"
             ],
             [
              0.1111111111111111,
              "#46039f"
             ],
             [
              0.2222222222222222,
              "#7201a8"
             ],
             [
              0.3333333333333333,
              "#9c179e"
             ],
             [
              0.4444444444444444,
              "#bd3786"
             ],
             [
              0.5555555555555556,
              "#d8576b"
             ],
             [
              0.6666666666666666,
              "#ed7953"
             ],
             [
              0.7777777777777778,
              "#fb9f3a"
             ],
             [
              0.8888888888888888,
              "#fdca26"
             ],
             [
              1,
              "#f0f921"
             ]
            ],
            "type": "histogram2d"
           }
          ],
          "histogram2dcontour": [
           {
            "colorbar": {
             "outlinewidth": 0,
             "ticks": ""
            },
            "colorscale": [
             [
              0,
              "#0d0887"
             ],
             [
              0.1111111111111111,
              "#46039f"
             ],
             [
              0.2222222222222222,
              "#7201a8"
             ],
             [
              0.3333333333333333,
              "#9c179e"
             ],
             [
              0.4444444444444444,
              "#bd3786"
             ],
             [
              0.5555555555555556,
              "#d8576b"
             ],
             [
              0.6666666666666666,
              "#ed7953"
             ],
             [
              0.7777777777777778,
              "#fb9f3a"
             ],
             [
              0.8888888888888888,
              "#fdca26"
             ],
             [
              1,
              "#f0f921"
             ]
            ],
            "type": "histogram2dcontour"
           }
          ],
          "mesh3d": [
           {
            "colorbar": {
             "outlinewidth": 0,
             "ticks": ""
            },
            "type": "mesh3d"
           }
          ],
          "parcoords": [
           {
            "line": {
             "colorbar": {
              "outlinewidth": 0,
              "ticks": ""
             }
            },
            "type": "parcoords"
           }
          ],
          "scatter": [
           {
            "marker": {
             "colorbar": {
              "outlinewidth": 0,
              "ticks": ""
             }
            },
            "type": "scatter"
           }
          ],
          "scatter3d": [
           {
            "line": {
             "colorbar": {
              "outlinewidth": 0,
              "ticks": ""
             }
            },
            "marker": {
             "colorbar": {
              "outlinewidth": 0,
              "ticks": ""
             }
            },
            "type": "scatter3d"
           }
          ],
          "scattercarpet": [
           {
            "marker": {
             "colorbar": {
              "outlinewidth": 0,
              "ticks": ""
             }
            },
            "type": "scattercarpet"
           }
          ],
          "scattergeo": [
           {
            "marker": {
             "colorbar": {
              "outlinewidth": 0,
              "ticks": ""
             }
            },
            "type": "scattergeo"
           }
          ],
          "scattergl": [
           {
            "marker": {
             "colorbar": {
              "outlinewidth": 0,
              "ticks": ""
             }
            },
            "type": "scattergl"
           }
          ],
          "scattermapbox": [
           {
            "marker": {
             "colorbar": {
              "outlinewidth": 0,
              "ticks": ""
             }
            },
            "type": "scattermapbox"
           }
          ],
          "scatterpolar": [
           {
            "marker": {
             "colorbar": {
              "outlinewidth": 0,
              "ticks": ""
             }
            },
            "type": "scatterpolar"
           }
          ],
          "scatterpolargl": [
           {
            "marker": {
             "colorbar": {
              "outlinewidth": 0,
              "ticks": ""
             }
            },
            "type": "scatterpolargl"
           }
          ],
          "scatterternary": [
           {
            "marker": {
             "colorbar": {
              "outlinewidth": 0,
              "ticks": ""
             }
            },
            "type": "scatterternary"
           }
          ],
          "surface": [
           {
            "colorbar": {
             "outlinewidth": 0,
             "ticks": ""
            },
            "colorscale": [
             [
              0,
              "#0d0887"
             ],
             [
              0.1111111111111111,
              "#46039f"
             ],
             [
              0.2222222222222222,
              "#7201a8"
             ],
             [
              0.3333333333333333,
              "#9c179e"
             ],
             [
              0.4444444444444444,
              "#bd3786"
             ],
             [
              0.5555555555555556,
              "#d8576b"
             ],
             [
              0.6666666666666666,
              "#ed7953"
             ],
             [
              0.7777777777777778,
              "#fb9f3a"
             ],
             [
              0.8888888888888888,
              "#fdca26"
             ],
             [
              1,
              "#f0f921"
             ]
            ],
            "type": "surface"
           }
          ],
          "table": [
           {
            "cells": {
             "fill": {
              "color": "#EBF0F8"
             },
             "line": {
              "color": "white"
             }
            },
            "header": {
             "fill": {
              "color": "#C8D4E3"
             },
             "line": {
              "color": "white"
             }
            },
            "type": "table"
           }
          ]
         },
         "layout": {
          "annotationdefaults": {
           "arrowcolor": "#2a3f5f",
           "arrowhead": 0,
           "arrowwidth": 1
          },
          "colorscale": {
           "diverging": [
            [
             0,
             "#8e0152"
            ],
            [
             0.1,
             "#c51b7d"
            ],
            [
             0.2,
             "#de77ae"
            ],
            [
             0.3,
             "#f1b6da"
            ],
            [
             0.4,
             "#fde0ef"
            ],
            [
             0.5,
             "#f7f7f7"
            ],
            [
             0.6,
             "#e6f5d0"
            ],
            [
             0.7,
             "#b8e186"
            ],
            [
             0.8,
             "#7fbc41"
            ],
            [
             0.9,
             "#4d9221"
            ],
            [
             1,
             "#276419"
            ]
           ],
           "sequential": [
            [
             0,
             "#0d0887"
            ],
            [
             0.1111111111111111,
             "#46039f"
            ],
            [
             0.2222222222222222,
             "#7201a8"
            ],
            [
             0.3333333333333333,
             "#9c179e"
            ],
            [
             0.4444444444444444,
             "#bd3786"
            ],
            [
             0.5555555555555556,
             "#d8576b"
            ],
            [
             0.6666666666666666,
             "#ed7953"
            ],
            [
             0.7777777777777778,
             "#fb9f3a"
            ],
            [
             0.8888888888888888,
             "#fdca26"
            ],
            [
             1,
             "#f0f921"
            ]
           ],
           "sequentialminus": [
            [
             0,
             "#0d0887"
            ],
            [
             0.1111111111111111,
             "#46039f"
            ],
            [
             0.2222222222222222,
             "#7201a8"
            ],
            [
             0.3333333333333333,
             "#9c179e"
            ],
            [
             0.4444444444444444,
             "#bd3786"
            ],
            [
             0.5555555555555556,
             "#d8576b"
            ],
            [
             0.6666666666666666,
             "#ed7953"
            ],
            [
             0.7777777777777778,
             "#fb9f3a"
            ],
            [
             0.8888888888888888,
             "#fdca26"
            ],
            [
             1,
             "#f0f921"
            ]
           ]
          },
          "colorway": [
           "#636efa",
           "#EF553B",
           "#00cc96",
           "#ab63fa",
           "#FFA15A",
           "#19d3f3",
           "#FF6692",
           "#B6E880",
           "#FF97FF",
           "#FECB52"
          ],
          "font": {
           "color": "#2a3f5f"
          },
          "geo": {
           "bgcolor": "white",
           "lakecolor": "white",
           "landcolor": "#E5ECF6",
           "showlakes": true,
           "showland": true,
           "subunitcolor": "white"
          },
          "hoverlabel": {
           "align": "left"
          },
          "hovermode": "closest",
          "mapbox": {
           "style": "light"
          },
          "paper_bgcolor": "white",
          "plot_bgcolor": "#E5ECF6",
          "polar": {
           "angularaxis": {
            "gridcolor": "white",
            "linecolor": "white",
            "ticks": ""
           },
           "bgcolor": "#E5ECF6",
           "radialaxis": {
            "gridcolor": "white",
            "linecolor": "white",
            "ticks": ""
           }
          },
          "scene": {
           "xaxis": {
            "backgroundcolor": "#E5ECF6",
            "gridcolor": "white",
            "gridwidth": 2,
            "linecolor": "white",
            "showbackground": true,
            "ticks": "",
            "zerolinecolor": "white"
           },
           "yaxis": {
            "backgroundcolor": "#E5ECF6",
            "gridcolor": "white",
            "gridwidth": 2,
            "linecolor": "white",
            "showbackground": true,
            "ticks": "",
            "zerolinecolor": "white"
           },
           "zaxis": {
            "backgroundcolor": "#E5ECF6",
            "gridcolor": "white",
            "gridwidth": 2,
            "linecolor": "white",
            "showbackground": true,
            "ticks": "",
            "zerolinecolor": "white"
           }
          },
          "shapedefaults": {
           "line": {
            "color": "#2a3f5f"
           }
          },
          "ternary": {
           "aaxis": {
            "gridcolor": "white",
            "linecolor": "white",
            "ticks": ""
           },
           "baxis": {
            "gridcolor": "white",
            "linecolor": "white",
            "ticks": ""
           },
           "bgcolor": "#E5ECF6",
           "caxis": {
            "gridcolor": "white",
            "linecolor": "white",
            "ticks": ""
           }
          },
          "title": {
           "x": 0.05
          },
          "xaxis": {
           "automargin": true,
           "gridcolor": "white",
           "linecolor": "white",
           "ticks": "",
           "zerolinecolor": "white",
           "zerolinewidth": 2
          },
          "yaxis": {
           "automargin": true,
           "gridcolor": "white",
           "linecolor": "white",
           "ticks": "",
           "zerolinecolor": "white",
           "zerolinewidth": 2
          }
         }
        },
        "title": {
         "text": "Weekly/Monthly Volume-Weighted Average Price"
        },
        "updatemenus": [
         {
          "active": -1,
          "buttons": [
           {
            "args": [
             {
              "visible": [
               true,
               false
              ]
             }
            ],
            "label": "Weekly",
            "method": "update"
           },
           {
            "args": [
             {
              "visible": [
               false,
               true
              ]
             }
            ],
            "label": "Monthly",
            "method": "update"
           },
           {
            "args": [
             {
              "visible": [
               true,
               true
              ]
             }
            ],
            "label": "Reset",
            "method": "update"
           }
          ],
          "x": 1.3,
          "y": 1
         }
        ],
        "width": 550,
        "xaxis": {
         "title": {
          "text": "timestamp"
         }
        },
        "yaxis": {
         "title": {
          "text": "VWAP /USD"
         }
        }
       }
      },
      "text/html": [
       "<div>\n",
       "        \n",
       "        \n",
       "            <div id=\"b12b1edd-4ff8-4a02-91fa-f62ce2f41485\" class=\"plotly-graph-div\" style=\"height:400px; width:550px;\"></div>\n",
       "            <script type=\"text/javascript\">\n",
       "                require([\"plotly\"], function(Plotly) {\n",
       "                    window.PLOTLYENV=window.PLOTLYENV || {};\n",
       "                    \n",
       "                if (document.getElementById(\"b12b1edd-4ff8-4a02-91fa-f62ce2f41485\")) {\n",
       "                    Plotly.newPlot(\n",
       "                        'b12b1edd-4ff8-4a02-91fa-f62ce2f41485',\n",
       "                        [{\"marker\": {\"color\": \"rgba(235, 115, 150, 0.8)\"}, \"mode\": \"lines\", \"name\": \"Weekly\", \"type\": \"scatter\", \"x\": [\"2012-01-01T00:00:00\", \"2012-01-08T00:00:00\", \"2012-01-15T00:00:00\", \"2012-01-22T00:00:00\", \"2012-01-29T00:00:00\", \"2012-02-05T00:00:00\", \"2012-02-12T00:00:00\", \"2012-02-19T00:00:00\", \"2012-02-26T00:00:00\", \"2012-03-04T00:00:00\", \"2012-03-11T00:00:00\", \"2012-03-18T00:00:00\", \"2012-03-25T00:00:00\", \"2012-04-01T00:00:00\", \"2012-04-08T00:00:00\", \"2012-04-15T00:00:00\", \"2012-04-22T00:00:00\", \"2012-04-29T00:00:00\", \"2012-05-06T00:00:00\", \"2012-05-13T00:00:00\", \"2012-05-20T00:00:00\", \"2012-05-27T00:00:00\", \"2012-06-03T00:00:00\", \"2012-06-10T00:00:00\", \"2012-06-17T00:00:00\", \"2012-06-24T00:00:00\", \"2012-07-01T00:00:00\", \"2012-07-08T00:00:00\", \"2012-07-15T00:00:00\", \"2012-07-22T00:00:00\", \"2012-07-29T00:00:00\", \"2012-08-05T00:00:00\", \"2012-08-12T00:00:00\", \"2012-08-19T00:00:00\", \"2012-08-26T00:00:00\", \"2012-09-02T00:00:00\", \"2012-09-09T00:00:00\", \"2012-09-16T00:00:00\", \"2012-09-23T00:00:00\", \"2012-09-30T00:00:00\", \"2012-10-07T00:00:00\", \"2012-10-14T00:00:00\", \"2012-10-21T00:00:00\", \"2012-10-28T00:00:00\", \"2012-11-04T00:00:00\", \"2012-11-11T00:00:00\", \"2012-11-18T00:00:00\", \"2012-11-25T00:00:00\", \"2012-12-02T00:00:00\", \"2012-12-09T00:00:00\", \"2012-12-16T00:00:00\", \"2012-12-23T00:00:00\", \"2012-12-30T00:00:00\", \"2013-01-06T00:00:00\", \"2013-01-13T00:00:00\", \"2013-01-20T00:00:00\", \"2013-01-27T00:00:00\", \"2013-02-03T00:00:00\", \"2013-02-10T00:00:00\", \"2013-02-17T00:00:00\", \"2013-02-24T00:00:00\", \"2013-03-03T00:00:00\", \"2013-03-10T00:00:00\", \"2013-03-17T00:00:00\", \"2013-03-24T00:00:00\", \"2013-03-31T00:00:00\", \"2013-04-07T00:00:00\", \"2013-04-14T00:00:00\", \"2013-04-21T00:00:00\", \"2013-04-28T00:00:00\", \"2013-05-05T00:00:00\", \"2013-05-12T00:00:00\", \"2013-05-19T00:00:00\", \"2013-05-26T00:00:00\", \"2013-06-02T00:00:00\", \"2013-06-09T00:00:00\", \"2013-06-16T00:00:00\", \"2013-06-23T00:00:00\", \"2013-06-30T00:00:00\", \"2013-07-07T00:00:00\", \"2013-07-14T00:00:00\", \"2013-07-21T00:00:00\", \"2013-07-28T00:00:00\", \"2013-08-04T00:00:00\", \"2013-08-11T00:00:00\", \"2013-08-18T00:00:00\", \"2013-08-25T00:00:00\", \"2013-09-01T00:00:00\", \"2013-09-08T00:00:00\", \"2013-09-15T00:00:00\", \"2013-09-22T00:00:00\", \"2013-09-29T00:00:00\", \"2013-10-06T00:00:00\", \"2013-10-13T00:00:00\", \"2013-10-20T00:00:00\", \"2013-10-27T00:00:00\", \"2013-11-03T00:00:00\", \"2013-11-10T00:00:00\", \"2013-11-17T00:00:00\", \"2013-11-24T00:00:00\", \"2013-12-01T00:00:00\", \"2013-12-08T00:00:00\", \"2013-12-15T00:00:00\", \"2013-12-22T00:00:00\", \"2013-12-29T00:00:00\", \"2014-01-05T00:00:00\", \"2014-01-12T00:00:00\", \"2014-01-19T00:00:00\", \"2014-01-26T00:00:00\", \"2014-02-02T00:00:00\", \"2014-02-09T00:00:00\", \"2014-02-16T00:00:00\", \"2014-02-23T00:00:00\", \"2014-03-02T00:00:00\", \"2014-03-09T00:00:00\", \"2014-03-16T00:00:00\", \"2014-03-23T00:00:00\", \"2014-03-30T00:00:00\", \"2014-04-06T00:00:00\", \"2014-04-13T00:00:00\", \"2014-04-20T00:00:00\", \"2014-04-27T00:00:00\", \"2014-05-04T00:00:00\", \"2014-05-11T00:00:00\", \"2014-05-18T00:00:00\", \"2014-05-25T00:00:00\", \"2014-06-01T00:00:00\", \"2014-06-08T00:00:00\", \"2014-06-15T00:00:00\", \"2014-06-22T00:00:00\", \"2014-06-29T00:00:00\", \"2014-07-06T00:00:00\", \"2014-07-13T00:00:00\", \"2014-07-20T00:00:00\", \"2014-07-27T00:00:00\", \"2014-08-03T00:00:00\", \"2014-08-10T00:00:00\", \"2014-08-17T00:00:00\", \"2014-08-24T00:00:00\", \"2014-08-31T00:00:00\", \"2014-09-07T00:00:00\", \"2014-09-14T00:00:00\", \"2014-09-21T00:00:00\", \"2014-09-28T00:00:00\", \"2014-10-05T00:00:00\", \"2014-10-12T00:00:00\", \"2014-10-19T00:00:00\", \"2014-10-26T00:00:00\", \"2014-11-02T00:00:00\", \"2014-11-09T00:00:00\", \"2014-11-16T00:00:00\", \"2014-11-23T00:00:00\", \"2014-11-30T00:00:00\", \"2014-12-07T00:00:00\", \"2014-12-14T00:00:00\", \"2014-12-21T00:00:00\", \"2014-12-28T00:00:00\", \"2015-01-04T00:00:00\", \"2015-01-11T00:00:00\", \"2015-01-18T00:00:00\", \"2015-01-25T00:00:00\", \"2015-02-01T00:00:00\", \"2015-02-08T00:00:00\", \"2015-02-15T00:00:00\", \"2015-02-22T00:00:00\", \"2015-03-01T00:00:00\", \"2015-03-08T00:00:00\", \"2015-03-15T00:00:00\", \"2015-03-22T00:00:00\", \"2015-03-29T00:00:00\", \"2015-04-05T00:00:00\", \"2015-04-12T00:00:00\", \"2015-04-19T00:00:00\", \"2015-04-26T00:00:00\", \"2015-05-03T00:00:00\", \"2015-05-10T00:00:00\", \"2015-05-17T00:00:00\", \"2015-05-24T00:00:00\", \"2015-05-31T00:00:00\", \"2015-06-07T00:00:00\", \"2015-06-14T00:00:00\", \"2015-06-21T00:00:00\", \"2015-06-28T00:00:00\", \"2015-07-05T00:00:00\", \"2015-07-12T00:00:00\", \"2015-07-19T00:00:00\", \"2015-07-26T00:00:00\", \"2015-08-02T00:00:00\", \"2015-08-09T00:00:00\", \"2015-08-16T00:00:00\", \"2015-08-23T00:00:00\", \"2015-08-30T00:00:00\", \"2015-09-06T00:00:00\", \"2015-09-13T00:00:00\", \"2015-09-20T00:00:00\", \"2015-09-27T00:00:00\", \"2015-10-04T00:00:00\", \"2015-10-11T00:00:00\", \"2015-10-18T00:00:00\", \"2015-10-25T00:00:00\", \"2015-11-01T00:00:00\", \"2015-11-08T00:00:00\", \"2015-11-15T00:00:00\", \"2015-11-22T00:00:00\", \"2015-11-29T00:00:00\", \"2015-12-06T00:00:00\", \"2015-12-13T00:00:00\", \"2015-12-20T00:00:00\", \"2015-12-27T00:00:00\", \"2016-01-03T00:00:00\", \"2016-01-10T00:00:00\", \"2016-01-17T00:00:00\", \"2016-01-24T00:00:00\", \"2016-01-31T00:00:00\", \"2016-02-07T00:00:00\", \"2016-02-14T00:00:00\", \"2016-02-21T00:00:00\", \"2016-02-28T00:00:00\", \"2016-03-06T00:00:00\", \"2016-03-13T00:00:00\", \"2016-03-20T00:00:00\", \"2016-03-27T00:00:00\", \"2016-04-03T00:00:00\", \"2016-04-10T00:00:00\", \"2016-04-17T00:00:00\", \"2016-04-24T00:00:00\", \"2016-05-01T00:00:00\", \"2016-05-08T00:00:00\", \"2016-05-15T00:00:00\", \"2016-05-22T00:00:00\", \"2016-05-29T00:00:00\", \"2016-06-05T00:00:00\", \"2016-06-12T00:00:00\", \"2016-06-19T00:00:00\", \"2016-06-26T00:00:00\", \"2016-07-03T00:00:00\", \"2016-07-10T00:00:00\", \"2016-07-17T00:00:00\", \"2016-07-24T00:00:00\", \"2016-07-31T00:00:00\", \"2016-08-07T00:00:00\", \"2016-08-14T00:00:00\", \"2016-08-21T00:00:00\", \"2016-08-28T00:00:00\", \"2016-09-04T00:00:00\", \"2016-09-11T00:00:00\", \"2016-09-18T00:00:00\", \"2016-09-25T00:00:00\", \"2016-10-02T00:00:00\", \"2016-10-09T00:00:00\", \"2016-10-16T00:00:00\", \"2016-10-23T00:00:00\", \"2016-10-30T00:00:00\", \"2016-11-06T00:00:00\", \"2016-11-13T00:00:00\", \"2016-11-20T00:00:00\", \"2016-11-27T00:00:00\", \"2016-12-04T00:00:00\", \"2016-12-11T00:00:00\", \"2016-12-18T00:00:00\", \"2016-12-25T00:00:00\", \"2017-01-01T00:00:00\", \"2017-01-08T00:00:00\", \"2017-01-15T00:00:00\", \"2017-01-22T00:00:00\", \"2017-01-29T00:00:00\", \"2017-02-05T00:00:00\", \"2017-02-12T00:00:00\", \"2017-02-19T00:00:00\", \"2017-02-26T00:00:00\", \"2017-03-05T00:00:00\", \"2017-03-12T00:00:00\", \"2017-03-19T00:00:00\", \"2017-03-26T00:00:00\", \"2017-04-02T00:00:00\", \"2017-04-09T00:00:00\", \"2017-04-16T00:00:00\", \"2017-04-23T00:00:00\", \"2017-04-30T00:00:00\", \"2017-05-07T00:00:00\", \"2017-05-14T00:00:00\", \"2017-05-21T00:00:00\", \"2017-05-28T00:00:00\", \"2017-06-04T00:00:00\", \"2017-06-11T00:00:00\", \"2017-06-18T00:00:00\", \"2017-06-25T00:00:00\", \"2017-07-02T00:00:00\", \"2017-07-09T00:00:00\", \"2017-07-16T00:00:00\", \"2017-07-23T00:00:00\", \"2017-07-30T00:00:00\", \"2017-08-06T00:00:00\", \"2017-08-13T00:00:00\", \"2017-08-20T00:00:00\", \"2017-08-27T00:00:00\", \"2017-09-03T00:00:00\", \"2017-09-10T00:00:00\", \"2017-09-17T00:00:00\", \"2017-09-24T00:00:00\", \"2017-10-01T00:00:00\", \"2017-10-08T00:00:00\", \"2017-10-15T00:00:00\", \"2017-10-22T00:00:00\", \"2017-10-29T00:00:00\", \"2017-11-05T00:00:00\", \"2017-11-12T00:00:00\", \"2017-11-19T00:00:00\", \"2017-11-26T00:00:00\", \"2017-12-03T00:00:00\", \"2017-12-10T00:00:00\", \"2017-12-17T00:00:00\", \"2017-12-24T00:00:00\", \"2017-12-31T00:00:00\", \"2018-01-07T00:00:00\", \"2018-01-14T00:00:00\", \"2018-01-21T00:00:00\", \"2018-01-28T00:00:00\", \"2018-02-04T00:00:00\", \"2018-02-11T00:00:00\", \"2018-02-18T00:00:00\", \"2018-02-25T00:00:00\", \"2018-03-04T00:00:00\", \"2018-03-11T00:00:00\", \"2018-03-18T00:00:00\", \"2018-03-25T00:00:00\", \"2018-04-01T00:00:00\", \"2018-04-08T00:00:00\", \"2018-04-15T00:00:00\", \"2018-04-22T00:00:00\", \"2018-04-29T00:00:00\", \"2018-05-06T00:00:00\", \"2018-05-13T00:00:00\", \"2018-05-20T00:00:00\", \"2018-05-27T00:00:00\", \"2018-06-03T00:00:00\", \"2018-06-10T00:00:00\", \"2018-06-17T00:00:00\", \"2018-06-24T00:00:00\", \"2018-07-01T00:00:00\", \"2018-07-08T00:00:00\", \"2018-07-15T00:00:00\", \"2018-07-22T00:00:00\", \"2018-07-29T00:00:00\", \"2018-08-05T00:00:00\", \"2018-08-12T00:00:00\", \"2018-08-19T00:00:00\", \"2018-08-26T00:00:00\", \"2018-09-02T00:00:00\", \"2018-09-09T00:00:00\", \"2018-09-16T00:00:00\", \"2018-09-23T00:00:00\", \"2018-09-30T00:00:00\", \"2018-10-07T00:00:00\", \"2018-10-14T00:00:00\", \"2018-10-21T00:00:00\", \"2018-10-28T00:00:00\", \"2018-11-04T00:00:00\", \"2018-11-11T00:00:00\", \"2018-11-18T00:00:00\", \"2018-11-25T00:00:00\", \"2018-12-02T00:00:00\", \"2018-12-09T00:00:00\", \"2018-12-16T00:00:00\", \"2018-12-23T00:00:00\", \"2018-12-30T00:00:00\", \"2019-01-06T00:00:00\", \"2019-01-13T00:00:00\", \"2019-01-20T00:00:00\", \"2019-01-27T00:00:00\", \"2019-02-03T00:00:00\", \"2019-02-10T00:00:00\", \"2019-02-17T00:00:00\", \"2019-02-24T00:00:00\", \"2019-03-03T00:00:00\", \"2019-03-10T00:00:00\", \"2019-03-17T00:00:00\", \"2019-03-24T00:00:00\", \"2019-03-31T00:00:00\", \"2019-04-07T00:00:00\", \"2019-04-14T00:00:00\", \"2019-04-21T00:00:00\", \"2019-04-28T00:00:00\", \"2019-05-05T00:00:00\", \"2019-05-12T00:00:00\", \"2019-05-19T00:00:00\", \"2019-05-26T00:00:00\", \"2019-06-02T00:00:00\", \"2019-06-09T00:00:00\", \"2019-06-16T00:00:00\", \"2019-06-23T00:00:00\", \"2019-06-30T00:00:00\", \"2019-07-07T00:00:00\", \"2019-07-14T00:00:00\", \"2019-07-21T00:00:00\", \"2019-07-28T00:00:00\", \"2019-08-04T00:00:00\", \"2019-08-11T00:00:00\", \"2019-08-18T00:00:00\"], \"y\": [4.597083227366394, 5.863038884459863, 6.72974512437969, 6.7128778472407555, 6.050623483031102, 5.87171296078702, 5.686939451787472, 4.8026992412799885, 4.761683491431188, 4.899133209492256, 4.975305017379359, 5.2548196912659755, 4.861536530719164, 4.803993422821445, 4.909280233695204, 4.864171634530579, 5.122431162551774, 5.0498103917632555, 5.048244121039275, 4.992540716357004, 5.012313579976629, 5.071647570923415, 5.140803787826712, 5.437127489919997, 5.928585236003029, 6.465555624814495, 6.456622233070176, 6.583326414498289, 7.24810259668138, 8.497531649435599, 8.678008056070595, 9.851992374576595, 11.078783670467109, 12.196843685364845, 10.086904011543174, 10.585360103350533, 10.662894668347091, 11.23851653007966, 12.074587289549273, 12.07256476557006, 12.434112216054068, 11.839219251011736, 11.676833754680706, 10.933842192762478, 10.710468912772496, 10.709156523557198, 11.139159538332216, 11.857593615986985, 12.28532697557203, 13.055332959231462, 13.37852384983661, 13.21701915023791, 13.16514307712306, 13.158437860080735, 13.645737851284744, 14.824706058908987, 17.158487920865717, 19.5729853704042, 21.62377018969005, 25.931269607813476, 29.122489205344277, 32.51554236795566, 42.383867626990344, 46.57715895380926, 62.447779896505935, 86.60827958356828, 128.80014170332566, 142.7962371900279, 98.95987244001489, 135.42167664797574, 119.3622255214635, 113.96507652048719, 114.56940081326066, 122.53545701405488, 127.39906197242323, 115.19489688297864, 103.29862845340793, 102.5248534553388, 95.14541679872718, 77.65387818796371, 83.52660688288022, 88.10961466985515, 88.27822442961508, 96.00469551353578, 95.57268866017539, 97.60876806394587, 107.44046463741674, 120.7270674700218, 124.07932773165646, 124.30026237097742, 125.1923428018494, 124.87484016136048, 121.48611388303742, 125.90901637340835, 147.4886579790745, 185.68910120761532, 201.29090168358803, 279.0798549902529, 397.1084614298093, 675.0009321961757, 969.4765971573321, 942.9521415431071, 880.5769444515053, 651.1168556344068, 689.0299948234281, 776.814423295267, 861.3142112825923, 819.102277142213, 811.9166243494085, 799.7220115978545, 759.6532442332258, 655.7108709942023, 609.1637944896371, 560.5530844648198, 644.833758995537, 634.5696858646203, 594.2958601798289, 533.5532342512479, 455.46629002289114, 430.52286063079003, 492.3821918911052, 479.2647165847175, 445.24095018099104, 441.5910405494983, 445.1455069457385, 505.46456610063626, 595.0466901936978, 652.2590237532306, 611.706650338369, 598.1136651163071, 584.4725324298208, 637.6922340450375, 625.8496721680997, 623.4779759684741, 609.7094190579573, 584.6123549641135, 586.426641716421, 534.6156586715812, 499.5948460223982, 505.7590076001822, 480.09109740559916, 473.89726293830483, 437.48002214152393, 408.05178579214385, 365.2861827714823, 348.88295207608905, 388.83238628458037, 369.0585226719375, 341.8041936734617, 339.64677169806146, 389.6634898632724, 371.0172703581303, 375.15369300830156, 376.0779392753034, 354.88552986626814, 327.63656494995087, 324.49795290667265, 307.7316525922174, 277.9654105717124, 218.4116589857282, 227.16086537770678, 244.45776759000094, 226.3932236795038, 230.16290477286216, 240.88946713164438, 243.32289158363616, 272.17485648711096, 288.26130445770696, 270.56715896161904, 251.7328278551819, 249.1530276420655, 245.10007596154574, 224.21479916514505, 228.55785787619337, 229.86130685067985, 237.38551391071547, 238.46269829521586, 235.95116836047535, 235.08422831419165, 224.72523249907337, 229.09054746781158, 243.5836677485276, 244.33671050853292, 257.86808318643324, 279.030181168761, 284.31505750852125, 281.879976904106, 287.2482216182749, 277.7524341463766, 264.67949484616395, 238.72428989793028, 224.97665256447647, 230.814879841598, 239.0889439990969, 230.50326172024955, 231.4865750755745, 237.69625969660478, 243.67369540623275, 256.17909555708354, 274.01292293097873, 307.30392233340166, 387.14991948364036, 339.46655115731045, 327.32555810148153, 340.245047454616, 369.8779674629318, 417.24618042163536, 454.7754231765392, 439.3072406485107, 428.64542398322595, 441.894328494485, 415.8759441565588, 392.57668127265197, 385.13729921943064, 376.1844520723558, 381.5305612755946, 417.8138433128596, 427.07015879236906, 421.0581540124444, 413.1152930522865, 413.1136313713264, 415.38650370878446, 417.3110385866525, 419.92218638262267, 425.48188948990065, 441.3388024721642, 455.1145075250814, 451.02777128622853, 455.31111676311343, 448.34657127253143, 466.23091271672394, 547.4588872084822, 588.3701332190974, 722.1838161185599, 661.6216685439956, 658.4152595253346, 657.4752809927129, 660.3902240392032, 664.5696668169961, 651.6641247121677, 580.8948183763288, 586.1009635447874, 572.6425969266012, 576.2959557360849, 576.6349308575249, 614.4600209567418, 606.5078932533744, 600.4228338551724, 605.6712798398535, 610.724373376402, 632.5066554344354, 635.9251246028998, 676.164159612327, 710.5043423618395, 709.8387206324716, 730.1735578732333, 734.8346744420946, 747.777791244574, 763.5594705700445, 780.1431225924312, 846.8231649018109, 946.8418052823544, 981.455599077397, 839.5301621477881, 888.3838793189368, 911.4032239345851, 981.5261404722329, 1018.6237991360302, 1028.9262134189303, 1134.9867290411808, 1232.0616175989153, 1210.0524376297892, 1160.633238632342, 1012.6337377886592, 1045.236103190339, 1162.4921230720618, 1192.575614046159, 1215.4886157997312, 1299.270606192428, 1494.37662257012, 1731.8444995678308, 1851.8648619997825, 2270.3361514011503, 2375.367347350544, 2798.444169935201, 2585.8937315673465, 2649.5744845092536, 2485.0410207264667, 2554.66284665064, 2257.3953041386508, 2486.526401654741, 2653.7514355581256, 2886.0897769798235, 3534.266557638373, 4169.57817878284, 4181.925263707447, 4582.092696801415, 4382.844309117568, 3822.8337536630524, 3809.514550247154, 4094.8754923909128, 4345.317258591746, 5178.433645751379, 5732.148433853464, 5765.094702401898, 6824.373666237791, 6941.5408911982695, 7255.76893950973, 8311.987307796851, 10299.984184368597, 13531.35987624476, 17219.17300563854, 16037.671861596136, 14301.704049324933, 15150.4069687307, 14231.401085315654, 12005.681248270594, 11155.279582236333, 9654.864034178643, 7953.321044226853, 9643.170977872833, 10423.81210607568, 10757.157144933522, 9978.881842488758, 8506.89777430359, 8668.326806897068, 7471.152210325431, 6952.557741489793, 7443.887708107811, 8359.927340691578, 9160.864612542453, 9410.069362145732, 8962.337473624406, 8357.911365825414, 7757.581832852986, 7463.9694233629125, 7536.782759511647, 6568.31722761387, 6453.811247702891, 6171.10386117545, 6579.264309556688, 6364.219550366801, 7200.975109610357, 8086.2636742491095, 7549.371508231573, 6528.49947611267, 6346.593860819099, 6541.857547695585, 7000.237005773858, 6746.033241329261, 6398.360568684666, 6501.698477154612, 6545.000971136147, 6535.001481581032, 6361.102450718313, 6412.520146652793, 6405.2625497789695, 6318.901469046666, 6404.784682796282, 5814.96952891855, 4408.243273584929, 4015.550130814011, 3648.5383076768067, 3317.5636354972767, 3759.1877326464414, 3822.485066047932, 3800.5289277926354, 3811.1704779739434, 3617.4049159028427, 3554.951307686132, 3422.5290195258044, 3463.6714032560617, 3581.080899956954, 3909.83662960344, 3802.5239273778516, 3835.0728592793525, 3890.6844251906523, 3982.6329086387686, 4012.977131132406, 4847.726069607873, 5153.309119074836, 5223.369790679023, 5320.508608985543, 5436.68522184095, 6237.810624886454, 7709.944122059191, 7944.108355027068, 8622.691421774132, 7941.200303619505, 8299.772918812034, 9737.506725505533, 11669.653009219172, 11137.596418702642, 11773.338093194452, 10304.960830986414, 9891.059778871218, 10157.575303539392, 11675.051945652564, 11540.450291]}, {\"marker\": {\"color\": \"rgba(115, 120, 235, 0.8)\"}, \"mode\": \"lines\", \"name\": \"Monthly\", \"type\": \"scatter\", \"x\": [\"2011-12-31T00:00:00\", \"2012-01-31T00:00:00\", \"2012-02-29T00:00:00\", \"2012-03-31T00:00:00\", \"2012-04-30T00:00:00\", \"2012-05-31T00:00:00\", \"2012-06-30T00:00:00\", \"2012-07-31T00:00:00\", \"2012-08-31T00:00:00\", \"2012-09-30T00:00:00\", \"2012-10-31T00:00:00\", \"2012-11-30T00:00:00\", \"2012-12-31T00:00:00\", \"2013-01-31T00:00:00\", \"2013-02-28T00:00:00\", \"2013-03-31T00:00:00\", \"2013-04-30T00:00:00\", \"2013-05-31T00:00:00\", \"2013-06-30T00:00:00\", \"2013-07-31T00:00:00\", \"2013-08-31T00:00:00\", \"2013-09-30T00:00:00\", \"2013-10-31T00:00:00\", \"2013-11-30T00:00:00\", \"2013-12-31T00:00:00\", \"2014-01-31T00:00:00\", \"2014-02-28T00:00:00\", \"2014-03-31T00:00:00\", \"2014-04-30T00:00:00\", \"2014-05-31T00:00:00\", \"2014-06-30T00:00:00\", \"2014-07-31T00:00:00\", \"2014-08-31T00:00:00\", \"2014-09-30T00:00:00\", \"2014-10-31T00:00:00\", \"2014-11-30T00:00:00\", \"2014-12-31T00:00:00\", \"2015-01-31T00:00:00\", \"2015-02-28T00:00:00\", \"2015-03-31T00:00:00\", \"2015-04-30T00:00:00\", \"2015-05-31T00:00:00\", \"2015-06-30T00:00:00\", \"2015-07-31T00:00:00\", \"2015-08-31T00:00:00\", \"2015-09-30T00:00:00\", \"2015-10-31T00:00:00\", \"2015-11-30T00:00:00\", \"2015-12-31T00:00:00\", \"2016-01-31T00:00:00\", \"2016-02-29T00:00:00\", \"2016-03-31T00:00:00\", \"2016-04-30T00:00:00\", \"2016-05-31T00:00:00\", \"2016-06-30T00:00:00\", \"2016-07-31T00:00:00\", \"2016-08-31T00:00:00\", \"2016-09-30T00:00:00\", \"2016-10-31T00:00:00\", \"2016-11-30T00:00:00\", \"2016-12-31T00:00:00\", \"2017-01-31T00:00:00\", \"2017-02-28T00:00:00\", \"2017-03-31T00:00:00\", \"2017-04-30T00:00:00\", \"2017-05-31T00:00:00\", \"2017-06-30T00:00:00\", \"2017-07-31T00:00:00\", \"2017-08-31T00:00:00\", \"2017-09-30T00:00:00\", \"2017-10-31T00:00:00\", \"2017-11-30T00:00:00\", \"2017-12-31T00:00:00\", \"2018-01-31T00:00:00\", \"2018-02-28T00:00:00\", \"2018-03-31T00:00:00\", \"2018-04-30T00:00:00\", \"2018-05-31T00:00:00\", \"2018-06-30T00:00:00\", \"2018-07-31T00:00:00\", \"2018-08-31T00:00:00\", \"2018-09-30T00:00:00\", \"2018-10-31T00:00:00\", \"2018-11-30T00:00:00\", \"2018-12-31T00:00:00\", \"2019-01-31T00:00:00\", \"2019-02-28T00:00:00\", \"2019-03-31T00:00:00\", \"2019-04-30T00:00:00\", \"2019-05-31T00:00:00\", \"2019-06-30T00:00:00\", \"2019-07-31T00:00:00\", \"2019-08-31T00:00:00\"], \"y\": [4.472578937498223, 6.234949110730185, 5.2327342338462595, 4.958307975702499, 4.980866314073925, 5.042617526977678, 5.967470396375956, 7.792521248320498, 10.923611035541764, 11.41232585152871, 11.623722499758541, 11.332316984429418, 13.152245008498273, 15.311496408739869, 25.803891188048983, 57.0521247531452, 127.44740014518952, 117.77537766336307, 105.51173019915487, 85.43469682770503, 103.41296905548889, 124.84986739479814, 152.7191270779157, 527.9646645135326, 794.3961102311084, 819.0045274809869, 664.2766335617035, 594.6266570064308, 462.55699859230805, 485.5461156361267, 613.1004681844607, 618.6102294729346, 537.2959484017488, 445.1787694250584, 363.975195694624, 366.11550884985087, 342.7381074673848, 245.90844672153162, 234.07062025238642, 268.41094876129256, 234.7066295892274, 236.60217692468754, 236.88882537349693, 279.26365705673925, 252.66300298864357, 233.52765483350942, 264.67429761541297, 348.37287409653186, 422.4996182724463, 411.08571672823587, 401.8637724568032, 415.22369923641344, 433.1439889651864, 459.90201350122777, 638.2916879658313, 660.5331736401068, 578.4277707291537, 602.8389412354658, 638.9048297681456, 723.2217759301456, 820.0562028784154, 909.0338788219314, 1059.6244334762275, 1131.8914016347976, 1208.2018142095283, 1877.5631228195948, 2619.6004346033546, 2494.6309739849457, 3827.6240634817436, 4084.6936857828014, 5283.855989615605, 7755.046356146434, 14840.370581076375, 12893.449406623446, 9389.711654988998, 9025.692916218119, 7983.605096681939, 8438.863063242026, 6784.279614226831, 7097.209566480597, 6689.449425724835, 6589.396239621773, 6415.127929125973, 5388.904282010079, 3670.6403517861095, 3658.5632290356803, 3648.339476322903, 3918.3650457358754, 5138.997776288963, 7228.675751112861, 9358.37074881566, 10667.295974215494, 11262.82674455223]}],\n",
       "                        {\"height\": 400, \"showlegend\": false, \"template\": {\"data\": {\"bar\": [{\"error_x\": {\"color\": \"#2a3f5f\"}, \"error_y\": {\"color\": \"#2a3f5f\"}, \"marker\": {\"line\": {\"color\": \"#E5ECF6\", \"width\": 0.5}}, \"type\": \"bar\"}], \"barpolar\": [{\"marker\": {\"line\": {\"color\": \"#E5ECF6\", \"width\": 0.5}}, \"type\": \"barpolar\"}], \"carpet\": [{\"aaxis\": {\"endlinecolor\": \"#2a3f5f\", \"gridcolor\": \"white\", \"linecolor\": \"white\", \"minorgridcolor\": \"white\", \"startlinecolor\": \"#2a3f5f\"}, \"baxis\": {\"endlinecolor\": \"#2a3f5f\", \"gridcolor\": \"white\", \"linecolor\": \"white\", \"minorgridcolor\": \"white\", \"startlinecolor\": \"#2a3f5f\"}, \"type\": \"carpet\"}], \"choropleth\": [{\"colorbar\": {\"outlinewidth\": 0, \"ticks\": \"\"}, \"type\": \"choropleth\"}], \"contour\": [{\"colorbar\": {\"outlinewidth\": 0, \"ticks\": \"\"}, \"colorscale\": [[0.0, \"#0d0887\"], [0.1111111111111111, \"#46039f\"], [0.2222222222222222, \"#7201a8\"], [0.3333333333333333, \"#9c179e\"], [0.4444444444444444, \"#bd3786\"], [0.5555555555555556, \"#d8576b\"], [0.6666666666666666, \"#ed7953\"], [0.7777777777777778, \"#fb9f3a\"], [0.8888888888888888, \"#fdca26\"], [1.0, \"#f0f921\"]], \"type\": \"contour\"}], \"contourcarpet\": [{\"colorbar\": {\"outlinewidth\": 0, \"ticks\": \"\"}, \"type\": \"contourcarpet\"}], \"heatmap\": [{\"colorbar\": {\"outlinewidth\": 0, \"ticks\": \"\"}, \"colorscale\": [[0.0, \"#0d0887\"], [0.1111111111111111, \"#46039f\"], [0.2222222222222222, \"#7201a8\"], [0.3333333333333333, \"#9c179e\"], [0.4444444444444444, \"#bd3786\"], [0.5555555555555556, \"#d8576b\"], [0.6666666666666666, \"#ed7953\"], [0.7777777777777778, \"#fb9f3a\"], [0.8888888888888888, \"#fdca26\"], [1.0, \"#f0f921\"]], \"type\": \"heatmap\"}], \"heatmapgl\": [{\"colorbar\": {\"outlinewidth\": 0, \"ticks\": \"\"}, \"colorscale\": [[0.0, \"#0d0887\"], [0.1111111111111111, \"#46039f\"], [0.2222222222222222, \"#7201a8\"], [0.3333333333333333, \"#9c179e\"], [0.4444444444444444, \"#bd3786\"], [0.5555555555555556, \"#d8576b\"], [0.6666666666666666, \"#ed7953\"], [0.7777777777777778, \"#fb9f3a\"], [0.8888888888888888, \"#fdca26\"], [1.0, \"#f0f921\"]], \"type\": \"heatmapgl\"}], \"histogram\": [{\"marker\": {\"colorbar\": {\"outlinewidth\": 0, \"ticks\": \"\"}}, \"type\": \"histogram\"}], \"histogram2d\": [{\"colorbar\": {\"outlinewidth\": 0, \"ticks\": \"\"}, \"colorscale\": [[0.0, \"#0d0887\"], [0.1111111111111111, \"#46039f\"], [0.2222222222222222, \"#7201a8\"], [0.3333333333333333, \"#9c179e\"], [0.4444444444444444, \"#bd3786\"], [0.5555555555555556, \"#d8576b\"], [0.6666666666666666, \"#ed7953\"], [0.7777777777777778, \"#fb9f3a\"], [0.8888888888888888, \"#fdca26\"], [1.0, \"#f0f921\"]], \"type\": \"histogram2d\"}], \"histogram2dcontour\": [{\"colorbar\": {\"outlinewidth\": 0, \"ticks\": \"\"}, \"colorscale\": [[0.0, \"#0d0887\"], [0.1111111111111111, \"#46039f\"], [0.2222222222222222, \"#7201a8\"], [0.3333333333333333, \"#9c179e\"], [0.4444444444444444, \"#bd3786\"], [0.5555555555555556, \"#d8576b\"], [0.6666666666666666, \"#ed7953\"], [0.7777777777777778, \"#fb9f3a\"], [0.8888888888888888, \"#fdca26\"], [1.0, \"#f0f921\"]], \"type\": \"histogram2dcontour\"}], \"mesh3d\": [{\"colorbar\": {\"outlinewidth\": 0, \"ticks\": \"\"}, \"type\": \"mesh3d\"}], \"parcoords\": [{\"line\": {\"colorbar\": {\"outlinewidth\": 0, \"ticks\": \"\"}}, \"type\": \"parcoords\"}], \"scatter\": [{\"marker\": {\"colorbar\": {\"outlinewidth\": 0, \"ticks\": \"\"}}, \"type\": \"scatter\"}], \"scatter3d\": [{\"line\": {\"colorbar\": {\"outlinewidth\": 0, \"ticks\": \"\"}}, \"marker\": {\"colorbar\": {\"outlinewidth\": 0, \"ticks\": \"\"}}, \"type\": \"scatter3d\"}], \"scattercarpet\": [{\"marker\": {\"colorbar\": {\"outlinewidth\": 0, \"ticks\": \"\"}}, \"type\": \"scattercarpet\"}], \"scattergeo\": [{\"marker\": {\"colorbar\": {\"outlinewidth\": 0, \"ticks\": \"\"}}, \"type\": \"scattergeo\"}], \"scattergl\": [{\"marker\": {\"colorbar\": {\"outlinewidth\": 0, \"ticks\": \"\"}}, \"type\": \"scattergl\"}], \"scattermapbox\": [{\"marker\": {\"colorbar\": {\"outlinewidth\": 0, \"ticks\": \"\"}}, \"type\": \"scattermapbox\"}], \"scatterpolar\": [{\"marker\": {\"colorbar\": {\"outlinewidth\": 0, \"ticks\": \"\"}}, \"type\": \"scatterpolar\"}], \"scatterpolargl\": [{\"marker\": {\"colorbar\": {\"outlinewidth\": 0, \"ticks\": \"\"}}, \"type\": \"scatterpolargl\"}], \"scatterternary\": [{\"marker\": {\"colorbar\": {\"outlinewidth\": 0, \"ticks\": \"\"}}, \"type\": \"scatterternary\"}], \"surface\": [{\"colorbar\": {\"outlinewidth\": 0, \"ticks\": \"\"}, \"colorscale\": [[0.0, \"#0d0887\"], [0.1111111111111111, \"#46039f\"], [0.2222222222222222, \"#7201a8\"], [0.3333333333333333, \"#9c179e\"], [0.4444444444444444, \"#bd3786\"], [0.5555555555555556, \"#d8576b\"], [0.6666666666666666, \"#ed7953\"], [0.7777777777777778, \"#fb9f3a\"], [0.8888888888888888, \"#fdca26\"], [1.0, \"#f0f921\"]], \"type\": \"surface\"}], \"table\": [{\"cells\": {\"fill\": {\"color\": \"#EBF0F8\"}, \"line\": {\"color\": \"white\"}}, \"header\": {\"fill\": {\"color\": \"#C8D4E3\"}, \"line\": {\"color\": \"white\"}}, \"type\": \"table\"}]}, \"layout\": {\"annotationdefaults\": {\"arrowcolor\": \"#2a3f5f\", \"arrowhead\": 0, \"arrowwidth\": 1}, \"colorscale\": {\"diverging\": [[0, \"#8e0152\"], [0.1, \"#c51b7d\"], [0.2, \"#de77ae\"], [0.3, \"#f1b6da\"], [0.4, \"#fde0ef\"], [0.5, \"#f7f7f7\"], [0.6, \"#e6f5d0\"], [0.7, \"#b8e186\"], [0.8, \"#7fbc41\"], [0.9, \"#4d9221\"], [1, \"#276419\"]], \"sequential\": [[0.0, \"#0d0887\"], [0.1111111111111111, \"#46039f\"], [0.2222222222222222, \"#7201a8\"], [0.3333333333333333, \"#9c179e\"], [0.4444444444444444, \"#bd3786\"], [0.5555555555555556, \"#d8576b\"], [0.6666666666666666, \"#ed7953\"], [0.7777777777777778, \"#fb9f3a\"], [0.8888888888888888, \"#fdca26\"], [1.0, \"#f0f921\"]], \"sequentialminus\": [[0.0, \"#0d0887\"], [0.1111111111111111, \"#46039f\"], [0.2222222222222222, \"#7201a8\"], [0.3333333333333333, \"#9c179e\"], [0.4444444444444444, \"#bd3786\"], [0.5555555555555556, \"#d8576b\"], [0.6666666666666666, \"#ed7953\"], [0.7777777777777778, \"#fb9f3a\"], [0.8888888888888888, \"#fdca26\"], [1.0, \"#f0f921\"]]}, \"colorway\": [\"#636efa\", \"#EF553B\", \"#00cc96\", \"#ab63fa\", \"#FFA15A\", \"#19d3f3\", \"#FF6692\", \"#B6E880\", \"#FF97FF\", \"#FECB52\"], \"font\": {\"color\": \"#2a3f5f\"}, \"geo\": {\"bgcolor\": \"white\", \"lakecolor\": \"white\", \"landcolor\": \"#E5ECF6\", \"showlakes\": true, \"showland\": true, \"subunitcolor\": \"white\"}, \"hoverlabel\": {\"align\": \"left\"}, \"hovermode\": \"closest\", \"mapbox\": {\"style\": \"light\"}, \"paper_bgcolor\": \"white\", \"plot_bgcolor\": \"#E5ECF6\", \"polar\": {\"angularaxis\": {\"gridcolor\": \"white\", \"linecolor\": \"white\", \"ticks\": \"\"}, \"bgcolor\": \"#E5ECF6\", \"radialaxis\": {\"gridcolor\": \"white\", \"linecolor\": \"white\", \"ticks\": \"\"}}, \"scene\": {\"xaxis\": {\"backgroundcolor\": \"#E5ECF6\", \"gridcolor\": \"white\", \"gridwidth\": 2, \"linecolor\": \"white\", \"showbackground\": true, \"ticks\": \"\", \"zerolinecolor\": \"white\"}, \"yaxis\": {\"backgroundcolor\": \"#E5ECF6\", \"gridcolor\": \"white\", \"gridwidth\": 2, \"linecolor\": \"white\", \"showbackground\": true, \"ticks\": \"\", \"zerolinecolor\": \"white\"}, \"zaxis\": {\"backgroundcolor\": \"#E5ECF6\", \"gridcolor\": \"white\", \"gridwidth\": 2, \"linecolor\": \"white\", \"showbackground\": true, \"ticks\": \"\", \"zerolinecolor\": \"white\"}}, \"shapedefaults\": {\"line\": {\"color\": \"#2a3f5f\"}}, \"ternary\": {\"aaxis\": {\"gridcolor\": \"white\", \"linecolor\": \"white\", \"ticks\": \"\"}, \"baxis\": {\"gridcolor\": \"white\", \"linecolor\": \"white\", \"ticks\": \"\"}, \"bgcolor\": \"#E5ECF6\", \"caxis\": {\"gridcolor\": \"white\", \"linecolor\": \"white\", \"ticks\": \"\"}}, \"title\": {\"x\": 0.05}, \"xaxis\": {\"automargin\": true, \"gridcolor\": \"white\", \"linecolor\": \"white\", \"ticks\": \"\", \"zerolinecolor\": \"white\", \"zerolinewidth\": 2}, \"yaxis\": {\"automargin\": true, \"gridcolor\": \"white\", \"linecolor\": \"white\", \"ticks\": \"\", \"zerolinecolor\": \"white\", \"zerolinewidth\": 2}}}, \"title\": {\"text\": \"Weekly/Monthly Volume-Weighted Average Price\"}, \"updatemenus\": [{\"active\": -1, \"buttons\": [{\"args\": [{\"visible\": [true, false]}], \"label\": \"Weekly\", \"method\": \"update\"}, {\"args\": [{\"visible\": [false, true]}], \"label\": \"Monthly\", \"method\": \"update\"}, {\"args\": [{\"visible\": [true, true]}], \"label\": \"Reset\", \"method\": \"update\"}], \"x\": 1.3, \"y\": 1}], \"width\": 550, \"xaxis\": {\"title\": {\"text\": \"timestamp\"}}, \"yaxis\": {\"title\": {\"text\": \"VWAP /USD\"}}},\n",
       "                        {\"responsive\": true}\n",
       "                    ).then(function(){\n",
       "                            \n",
       "var gd = document.getElementById('b12b1edd-4ff8-4a02-91fa-f62ce2f41485');\n",
       "var x = new MutationObserver(function (mutations, observer) {{\n",
       "        var display = window.getComputedStyle(gd).display;\n",
       "        if (!display || display === 'none') {{\n",
       "            console.log([gd, 'removed!']);\n",
       "            Plotly.purge(gd);\n",
       "            observer.disconnect();\n",
       "        }}\n",
       "}});\n",
       "\n",
       "// Listen for the removal of the full notebook cells\n",
       "var notebookContainer = gd.closest('#notebook-container');\n",
       "if (notebookContainer) {{\n",
       "    x.observe(notebookContainer, {childList: true});\n",
       "}}\n",
       "\n",
       "// Listen for the clearing of the current output cell\n",
       "var outputEl = gd.closest('.output');\n",
       "if (outputEl) {{\n",
       "    x.observe(outputEl, {childList: true});\n",
       "}}\n",
       "\n",
       "                        })\n",
       "                };\n",
       "                });\n",
       "            </script>\n",
       "        </div>"
      ]
     },
     "metadata": {},
     "output_type": "display_data"
    }
   ],
   "source": [
    "trace_week = go.Scatter(x = df_bitstamp_w.index,\n",
    "                   y = df_bitstamp_w.Weighted_Price,\n",
    "                   mode = \"lines\",\n",
    "                   name = \"Weekly\",\n",
    "                   marker = dict(color = 'rgba(235, 115, 150, 0.8)')\n",
    "                       )\n",
    "trace_month = go.Scatter(x = df_bitstamp_m.index,\n",
    "                   y = df_bitstamp_m.Weighted_Price,\n",
    "                   mode = \"lines\",\n",
    "                   name = \"Monthly\",\n",
    "                   marker = dict(color = 'rgba(115, 120, 235, 0.8)')\n",
    "                       )\n",
    "\n",
    "data_2 = [trace_week, trace_month]\n",
    "\n",
    "\n",
    "updatemenus = list([\n",
    "    dict(active=-1,\n",
    "         buttons=list([\n",
    "            dict(label = 'Weekly',\n",
    "                 method = 'update',\n",
    "                 args = [{'visible': [True, False]}\n",
    "                         ]),\n",
    "            dict(label = 'Monthly',\n",
    "                 method = 'update',\n",
    "                 args = [{'visible': [False, True]}\n",
    "                         ]),\n",
    "            dict(label = 'Reset',\n",
    "                 method = 'update',\n",
    "                 args = [{'visible': [True, True]}])\n",
    "         ]),\n",
    "         x = 1.3, y = 1),\n",
    "])\n",
    "\n",
    "layout_2 = go.Layout(height=400, width=550, showlegend=False,\n",
    "                title='Weekly/Monthly Volume-Weighted Average Price', \n",
    "                xaxis_title=\"timestamp\",\n",
    "                yaxis_title=\"VWAP /USD\",\n",
    "                updatemenus=updatemenus)\n",
    "\n",
    "fig = dict(data = data_2, layout = layout_2)\n",
    "iplot(fig);"
   ]
  },
  {
   "cell_type": "code",
   "execution_count": 17,
   "metadata": {
    "scrolled": true
   },
   "outputs": [
    {
     "data": {
      "application/vnd.plotly.v1+json": {
       "config": {
        "linkText": "Export to plot.ly",
        "plotlyServerURL": "https://plot.ly",
        "showLink": false
       },
       "data": [
        {
         "marker": {
          "color": "rgba(235, 115, 150, 0.8)"
         },
         "mode": "lines",
         "name": "Volume_(BTC)",
         "type": "scatter",
         "x": [
          "2011-12-31T00:00:00",
          "2012-01-31T00:00:00",
          "2012-02-29T00:00:00",
          "2012-03-31T00:00:00",
          "2012-04-30T00:00:00",
          "2012-05-31T00:00:00",
          "2012-06-30T00:00:00",
          "2012-07-31T00:00:00",
          "2012-08-31T00:00:00",
          "2012-09-30T00:00:00",
          "2012-10-31T00:00:00",
          "2012-11-30T00:00:00",
          "2012-12-31T00:00:00",
          "2013-01-31T00:00:00",
          "2013-02-28T00:00:00",
          "2013-03-31T00:00:00",
          "2013-04-30T00:00:00",
          "2013-05-31T00:00:00",
          "2013-06-30T00:00:00",
          "2013-07-31T00:00:00",
          "2013-08-31T00:00:00",
          "2013-09-30T00:00:00",
          "2013-10-31T00:00:00",
          "2013-11-30T00:00:00",
          "2013-12-31T00:00:00",
          "2014-01-31T00:00:00",
          "2014-02-28T00:00:00",
          "2014-03-31T00:00:00",
          "2014-04-30T00:00:00",
          "2014-05-31T00:00:00",
          "2014-06-30T00:00:00",
          "2014-07-31T00:00:00",
          "2014-08-31T00:00:00",
          "2014-09-30T00:00:00",
          "2014-10-31T00:00:00",
          "2014-11-30T00:00:00",
          "2014-12-31T00:00:00",
          "2015-01-31T00:00:00",
          "2015-02-28T00:00:00",
          "2015-03-31T00:00:00",
          "2015-04-30T00:00:00",
          "2015-05-31T00:00:00",
          "2015-06-30T00:00:00",
          "2015-07-31T00:00:00",
          "2015-08-31T00:00:00",
          "2015-09-30T00:00:00",
          "2015-10-31T00:00:00",
          "2015-11-30T00:00:00",
          "2015-12-31T00:00:00",
          "2016-01-31T00:00:00",
          "2016-02-29T00:00:00",
          "2016-03-31T00:00:00",
          "2016-04-30T00:00:00",
          "2016-05-31T00:00:00",
          "2016-06-30T00:00:00",
          "2016-07-31T00:00:00",
          "2016-08-31T00:00:00",
          "2016-09-30T00:00:00",
          "2016-10-31T00:00:00",
          "2016-11-30T00:00:00",
          "2016-12-31T00:00:00",
          "2017-01-31T00:00:00",
          "2017-02-28T00:00:00",
          "2017-03-31T00:00:00",
          "2017-04-30T00:00:00",
          "2017-05-31T00:00:00",
          "2017-06-30T00:00:00",
          "2017-07-31T00:00:00",
          "2017-08-31T00:00:00",
          "2017-09-30T00:00:00",
          "2017-10-31T00:00:00",
          "2017-11-30T00:00:00",
          "2017-12-31T00:00:00",
          "2018-01-31T00:00:00",
          "2018-02-28T00:00:00",
          "2018-03-31T00:00:00",
          "2018-04-30T00:00:00",
          "2018-05-31T00:00:00",
          "2018-06-30T00:00:00",
          "2018-07-31T00:00:00",
          "2018-08-31T00:00:00",
          "2018-09-30T00:00:00",
          "2018-10-31T00:00:00",
          "2018-11-30T00:00:00",
          "2018-12-31T00:00:00",
          "2019-01-31T00:00:00",
          "2019-02-28T00:00:00",
          "2019-03-31T00:00:00",
          "2019-04-30T00:00:00",
          "2019-05-31T00:00:00",
          "2019-06-30T00:00:00",
          "2019-07-31T00:00:00",
          "2019-08-31T00:00:00"
         ],
         "xaxis": "x",
         "y": [
          6.556675229688664,
          7.8392718828376715,
          2.446148338657723,
          6.7171946525655875,
          3.172426830296848,
          3.3942914683790404,
          7.886049664259714,
          7.117262757401796,
          8.467129496326148,
          9.349769319789486,
          12.965068209317678,
          12.592548749741658,
          17.408967959471894,
          12.191243595435287,
          19.025479282982165,
          29.426655686951516,
          14.456954573768902,
          14.926304458786719,
          17.695996404368113,
          18.50534183033272,
          11.762667000462221,
          21.395172289902533,
          11.0777906340123,
          14.495011679212398,
          20.382110007585066,
          15.990953066034821,
          33.125790034774795,
          24.82450280316794,
          15.201056529334167,
          16.560518152855725,
          16.25051445408748,
          18.440579786362076,
          15.478024071912662,
          19.757196920903297,
          23.166942302125044,
          19.757441815663555,
          15.621611227241402,
          17.514474338585984,
          10.859024266621304,
          16.405668151711772,
          22.470022025559146,
          11.704400476058684,
          20.65857613717627,
          16.58340028935996,
          12.40830265707312,
          20.930940771544687,
          15.169279053950275,
          15.856034690017172,
          28.10156540984987,
          19.1359120899054,
          30.410785246342694,
          22.30569331067475,
          15.12193758584675,
          17.684965698574583,
          20.49759626566557,
          29.35636355642579,
          18.615802766041647,
          18.666442497311426,
          18.10812487361375,
          19.865612928663687,
          14.97853298822426,
          10.277414869045256,
          13.989921245016916,
          8.33399885446637,
          10.713732594291695,
          9.550367378943397,
          7.903666124503983,
          14.919425288553597,
          16.587750729918806,
          8.921872286514093,
          11.6096276880679,
          7.383873879922088,
          6.045071852400753,
          6.243973147419616,
          6.416210162553585,
          9.282722095650803,
          7.363509714085269,
          6.257239699231206,
          7.4932701893769655,
          16.06702211223706,
          15.071973636898859,
          9.061944188066544,
          7.872972596622038,
          10.518451385369968,
          8.680916692229237,
          10.23203721486509,
          12.22654397382959,
          12.454659230414713,
          12.453187528382069,
          11.10059713749113,
          7.742600551619013,
          8.647032211101116,
          14.746753200645859,
          10.539638974775748,
          15.844604705577389,
          23.022343116311763,
          10.641420070021795,
          31.33127159409907,
          20.04627561060025,
          28.629825348801774,
          21.593764841946435,
          27.30945397808333,
          13.259001328995048,
          37.2390606349814,
          10.171175124447423,
          9.144053409849182,
          15.491682284685405,
          8.501086777229172,
          7.120523797371096,
          9.098325193845088,
          14.31233105122714,
          27.74626247933135,
          15.392316942731178,
          28.07852667157135,
          16.223604363729134,
          6.637658592051552,
          9.433245695378975,
          16.275352497025825,
          14.30440082429065,
          14.600831798294683,
          15.95691515268343,
          9.476267835221226,
          8.6108769558015,
          7.358905629083251,
          4.409538588090321,
          11.07362026391069,
          11.600248494353163,
          8.635851478544618,
          10.103265749741077,
          5.182050444348142,
          5.114288600927578,
          5.638067587854248,
          4.279861066417625,
          3.7793439039256254,
          4.408381975749036,
          6.570247355743068,
          4.488590671083361,
          11.335577716549551,
          11.992746259208229,
          6.36288109888595,
          5.136005571360183,
          6.662922549176599,
          11.941533820531728,
          10.61111830273012,
          17.680143061716233,
          21.851654567241887,
          12.50364271309435,
          9.570859471903795,
          8.413686944626027,
          9.101695034427635,
          17.59628779272124,
          10.480456329625989,
          8.774792244845234,
          5.866957847622026,
          8.372323656258878,
          11.478541470446508,
          6.083324391877003,
          10.453577677898828,
          18.597374238943935,
          35.31561794843635,
          14.82602667455953,
          19.459648661606277,
          10.566141995496073,
          13.010072999128978,
          8.145862355949438,
          7.289052504325384,
          9.371956746218245,
          6.922630685059461,
          7.637382934430578,
          7.869424527255951,
          5.687753239704346,
          6.255027798409685,
          7.868054827914596,
          6.816034946192426,
          6.834845621454459,
          6.357625521008951,
          5.743247970681503,
          5.466661031807547,
          5.93317844613589,
          5.6914843284533685,
          5.154193931840235,
          7.658489359742098,
          4.865814892479194,
          11.008473567815495,
          14.595732556425673,
          12.047344414067396,
          8.44202590548212,
          8.467555019855242,
          7.444009922666645,
          8.460046069477235,
          13.092656144161637,
          19.745978810942425,
          17.712360782677642,
          16.56449773679664,
          13.357800101197418,
          15.621584774643841,
          16.312175724394823,
          17.2891294753431,
          18.32610996918867,
          19.00745569029656,
          21.31201736931643,
          39.45252289680242,
          25.293462562838368,
          14.904294277429468,
          10.101956639899857,
          11.33251319565676,
          13.763231194887926,
          10.751332342716289,
          8.851001207773802,
          4.972699499355113,
          6.001241155246063,
          10.75102120011898,
          8.40079598110713,
          5.6906149897579335,
          5.8308658655506,
          6.13929589614287,
          7.296679106629924,
          5.1301178458065655,
          6.61320121334522,
          4.359340718410703,
          3.622689065177585,
          3.0470260719980318,
          2.87391532378273,
          2.8580573500009825,
          2.7728417139146746,
          4.489853248248991,
          4.4411361742946065,
          3.849085192055523,
          3.061539705838271,
          3.5770324697748115,
          5.866496055712303,
          5.84723082424009,
          5.114161606995054,
          8.21585905569147,
          11.740482417568499,
          6.1058668357063555,
          4.986991791456375,
          3.515004970564499,
          3.01070952689285,
          2.607850506730165,
          7.379309974372014,
          3.167863181664685,
          3.7357903693164802,
          3.591183581994077,
          3.570838586851201,
          3.6013163894840963,
          2.5410888167876986,
          2.6604221706002185,
          2.6507336455108947,
          2.510925986153759,
          3.1740969283274,
          3.373317087019847,
          4.311952336661717,
          4.806668396721213,
          4.659553451709281,
          5.469554879309551,
          3.6729106694751747,
          4.733643562990114,
          3.7370351440327543,
          3.056387229766846,
          6.52134465519147,
          6.131243021963295,
          13.58972499541583,
          9.949931031146814,
          6.727243751394891,
          3.7298943076180473,
          5.659450102553567,
          6.747964698116074,
          3.8744557954662713,
          6.986207501815427,
          4.601647694516787,
          9.080828626917649,
          8.580544217604153,
          8.434513003382932,
          6.4782991230912605,
          4.965130918398795,
          3.6751402519989753,
          3.7463423310397235,
          4.323294104084335,
          8.163925107172627,
          9.606589938624051,
          9.366108894863101,
          15.549958416599221,
          9.338229840675625,
          9.390718619577441,
          14.844798144947463,
          8.529582029847203,
          8.860598283197406,
          6.115411405868059,
          11.453797645171598,
          14.430868348647785,
          9.600725862054583,
          7.283430719215304,
          9.132322284157766,
          10.60897095005858,
          7.933447263486111,
          8.16560610286314,
          11.957358835484133,
          18.95752559005652,
          9.374022268509908,
          7.696504012614027,
          6.136997220594202,
          10.19954823307337,
          8.943817930091278,
          9.05215959656649,
          9.651378785137911,
          14.832314364490095,
          10.816019811496068,
          7.028339769762888,
          12.280830282471209,
          13.059319356856134,
          9.841057236577408,
          18.406194127403786,
          10.482012865429592,
          8.497484169128022,
          9.652150641548655,
          14.575284178126056,
          9.086843718894873,
          14.876514712103198,
          21.700044288162673,
          10.814736618832338,
          10.796862645745039,
          6.9102309245277675,
          13.063631576569406,
          12.167939169564484,
          8.966445103653763,
          11.848993654755937,
          7.739735424067434,
          7.696814518066472,
          7.891981464618067,
          12.07381977916374,
          6.484725133650791,
          9.317044897498002,
          6.812928606347193,
          6.133213022645864,
          4.907786986407702,
          5.29957422660615,
          6.680632649534744,
          5.5607572923313136,
          5.652413688937503,
          4.438210885640866,
          4.229626609071428,
          6.237646690358129,
          6.477756673176578,
          6.246896508673619,
          6.934366684412701,
          5.601112287314474,
          4.316584597722208,
          4.09098917536211,
          5.016669114723239,
          3.1348158029305555,
          3.9093495468353137,
          3.635640832719256,
          2.6692555751845286,
          2.992639905580365,
          3.513454426464253,
          1.8799129919226105,
          2.367901843817461,
          2.2736347039057603,
          6.656752888769797,
          15.385920573447468,
          10.798158543247995,
          9.738257146522818,
          6.570532627330353,
          10.645791660320427,
          7.255072826929573,
          4.045305043991089,
          6.3517933836507785,
          4.946305649162693,
          3.680787823876977,
          4.35704195374109,
          4.222253904297626,
          4.837658241704376,
          7.5045647172003696,
          4.175853957729177,
          4.645101775980175,
          3.991932555616063,
          3.3364927558849127,
          3.90759708119938,
          11.677102969851244,
          6.45421151584127,
          4.213239849303567,
          6.070102887445411,
          4.727544897467246,
          9.587300336574378,
          12.932969053085285,
          5.8526528914781855,
          5.690284019782756,
          6.074463634646835,
          5.708580709949403,
          6.963195603508903,
          13.651477406562524,
          9.95086890515773,
          9.534195969880994,
          10.077863549111107,
          5.304556734854156,
          4.995856885037701,
          7.803308708616014,
          23.80593911
         ],
         "yaxis": "y"
        },
        {
         "marker": {
          "color": "rgba(115, 120, 235, 0.8)"
         },
         "mode": "lines",
         "name": "Volume_(Currency)",
         "type": "scatter",
         "x": [
          "2011-12-31T00:00:00",
          "2012-01-31T00:00:00",
          "2012-02-29T00:00:00",
          "2012-03-31T00:00:00",
          "2012-04-30T00:00:00",
          "2012-05-31T00:00:00",
          "2012-06-30T00:00:00",
          "2012-07-31T00:00:00",
          "2012-08-31T00:00:00",
          "2012-09-30T00:00:00",
          "2012-10-31T00:00:00",
          "2012-11-30T00:00:00",
          "2012-12-31T00:00:00",
          "2013-01-31T00:00:00",
          "2013-02-28T00:00:00",
          "2013-03-31T00:00:00",
          "2013-04-30T00:00:00",
          "2013-05-31T00:00:00",
          "2013-06-30T00:00:00",
          "2013-07-31T00:00:00",
          "2013-08-31T00:00:00",
          "2013-09-30T00:00:00",
          "2013-10-31T00:00:00",
          "2013-11-30T00:00:00",
          "2013-12-31T00:00:00",
          "2014-01-31T00:00:00",
          "2014-02-28T00:00:00",
          "2014-03-31T00:00:00",
          "2014-04-30T00:00:00",
          "2014-05-31T00:00:00",
          "2014-06-30T00:00:00",
          "2014-07-31T00:00:00",
          "2014-08-31T00:00:00",
          "2014-09-30T00:00:00",
          "2014-10-31T00:00:00",
          "2014-11-30T00:00:00",
          "2014-12-31T00:00:00",
          "2015-01-31T00:00:00",
          "2015-02-28T00:00:00",
          "2015-03-31T00:00:00",
          "2015-04-30T00:00:00",
          "2015-05-31T00:00:00",
          "2015-06-30T00:00:00",
          "2015-07-31T00:00:00",
          "2015-08-31T00:00:00",
          "2015-09-30T00:00:00",
          "2015-10-31T00:00:00",
          "2015-11-30T00:00:00",
          "2015-12-31T00:00:00",
          "2016-01-31T00:00:00",
          "2016-02-29T00:00:00",
          "2016-03-31T00:00:00",
          "2016-04-30T00:00:00",
          "2016-05-31T00:00:00",
          "2016-06-30T00:00:00",
          "2016-07-31T00:00:00",
          "2016-08-31T00:00:00",
          "2016-09-30T00:00:00",
          "2016-10-31T00:00:00",
          "2016-11-30T00:00:00",
          "2016-12-31T00:00:00",
          "2017-01-31T00:00:00",
          "2017-02-28T00:00:00",
          "2017-03-31T00:00:00",
          "2017-04-30T00:00:00",
          "2017-05-31T00:00:00",
          "2017-06-30T00:00:00",
          "2017-07-31T00:00:00",
          "2017-08-31T00:00:00",
          "2017-09-30T00:00:00",
          "2017-10-31T00:00:00",
          "2017-11-30T00:00:00",
          "2017-12-31T00:00:00",
          "2018-01-31T00:00:00",
          "2018-02-28T00:00:00",
          "2018-03-31T00:00:00",
          "2018-04-30T00:00:00",
          "2018-05-31T00:00:00",
          "2018-06-30T00:00:00",
          "2018-07-31T00:00:00",
          "2018-08-31T00:00:00",
          "2018-09-30T00:00:00",
          "2018-10-31T00:00:00",
          "2018-11-30T00:00:00",
          "2018-12-31T00:00:00",
          "2019-01-31T00:00:00",
          "2019-02-28T00:00:00",
          "2019-03-31T00:00:00",
          "2019-04-30T00:00:00",
          "2019-05-31T00:00:00",
          "2019-06-30T00:00:00",
          "2019-07-31T00:00:00",
          "2019-08-31T00:00:00"
         ],
         "xaxis": "x2",
         "y": [
          34.069690440863475,
          29.527545116281118,
          37.120786072062494,
          66.44504771519429,
          92.67470660295804,
          85.42902252394447,
          123.10804874167769,
          140.53727166564877,
          207.54550439260652,
          172.18634532880114,
          203.94169145888853,
          212.51151261699,
          280.30426505585194,
          330.16926307114596,
          419.032206414432,
          579.7315045170603,
          1388.0935665275686,
          875.5285202685885,
          786.9596197965566,
          1028.8917136632228,
          1117.2932197059317,
          1234.0232116177579,
          2488.7763518333263,
          11684.16129109226,
          16355.396221742709,
          8623.627897182367,
          13075.090795288797,
          6992.780579247037,
          6063.098911538084,
          4030.2043306537876,
          4756.38705382602,
          2852.883589162981,
          4339.006506665734,
          3837.996470312793,
          5094.869089435158,
          4247.053758463559,
          2656.1784118254604,
          5089.8259161860105,
          2327.8154887095257,
          2107.147236494501,
          1607.9499852838564,
          1363.69384588817,
          1507.3132270676945,
          3097.7357519477437,
          2884.5477606100435,
          3720.7234724483537,
          5067.464234381109,
          7901.803850906251,
          4398.704419747362,
          2961.0882670306587,
          2462.7959840095327,
          1760.9287088072165,
          1534.3128052738805,
          1968.1627677207418,
          4918.450098902082,
          2462.1699898338525,
          2521.3204269299254,
          1813.0833130014812,
          2103.679881274824,
          3394.9497333915533,
          4006.5662470258453,
          7469.03403976802,
          6163.813097424285,
          8613.86608701661,
          5083.465124210736,
          20571.280671131604,
          27165.33837451848,
          24643.849762549,
          32596.401998659225,
          47905.238197348706,
          45390.31939677721,
          86648.95205840595,
          186045.21007861223,
          130899.70329081907,
          128014.96269472298,
          94491.05280062361,
          72055.3664986191,
          60063.42464437873,
          37822.98191344472,
          39452.906296351655,
          36090.014372217694,
          25340.329316977048,
          17952.35342014338,
          38211.79021373276,
          30073.387752956653,
          17689.139768787532,
          19295.98489916979,
          15057.562788659128,
          35107.296387335446,
          61009.596999067435,
          77888.92250043298,
          89041.8296670957,
          79278.42993117523
         ],
         "yaxis": "y2"
        },
        {
         "marker": {
          "color": "rgba(245, 170, 60, 0.8)"
         },
         "mode": "lines",
         "name": "Weighted_Price",
         "type": "scatter",
         "x": [
          "2011-12-31T00:00:00",
          "2012-01-31T00:00:00",
          "2012-02-29T00:00:00",
          "2012-03-31T00:00:00",
          "2012-04-30T00:00:00",
          "2012-05-31T00:00:00",
          "2012-06-30T00:00:00",
          "2012-07-31T00:00:00",
          "2012-08-31T00:00:00",
          "2012-09-30T00:00:00",
          "2012-10-31T00:00:00",
          "2012-11-30T00:00:00",
          "2012-12-31T00:00:00",
          "2013-01-31T00:00:00",
          "2013-02-28T00:00:00",
          "2013-03-31T00:00:00",
          "2013-04-30T00:00:00",
          "2013-05-31T00:00:00",
          "2013-06-30T00:00:00",
          "2013-07-31T00:00:00",
          "2013-08-31T00:00:00",
          "2013-09-30T00:00:00",
          "2013-10-31T00:00:00",
          "2013-11-30T00:00:00",
          "2013-12-31T00:00:00",
          "2014-01-31T00:00:00",
          "2014-02-28T00:00:00",
          "2014-03-31T00:00:00",
          "2014-04-30T00:00:00",
          "2014-05-31T00:00:00",
          "2014-06-30T00:00:00",
          "2014-07-31T00:00:00",
          "2014-08-31T00:00:00",
          "2014-09-30T00:00:00",
          "2014-10-31T00:00:00",
          "2014-11-30T00:00:00",
          "2014-12-31T00:00:00",
          "2015-01-31T00:00:00",
          "2015-02-28T00:00:00",
          "2015-03-31T00:00:00",
          "2015-04-30T00:00:00",
          "2015-05-31T00:00:00",
          "2015-06-30T00:00:00",
          "2015-07-31T00:00:00",
          "2015-08-31T00:00:00",
          "2015-09-30T00:00:00",
          "2015-10-31T00:00:00",
          "2015-11-30T00:00:00",
          "2015-12-31T00:00:00",
          "2016-01-31T00:00:00",
          "2016-02-29T00:00:00",
          "2016-03-31T00:00:00",
          "2016-04-30T00:00:00",
          "2016-05-31T00:00:00",
          "2016-06-30T00:00:00",
          "2016-07-31T00:00:00",
          "2016-08-31T00:00:00",
          "2016-09-30T00:00:00",
          "2016-10-31T00:00:00",
          "2016-11-30T00:00:00",
          "2016-12-31T00:00:00",
          "2017-01-31T00:00:00",
          "2017-02-28T00:00:00",
          "2017-03-31T00:00:00",
          "2017-04-30T00:00:00",
          "2017-05-31T00:00:00",
          "2017-06-30T00:00:00",
          "2017-07-31T00:00:00",
          "2017-08-31T00:00:00",
          "2017-09-30T00:00:00",
          "2017-10-31T00:00:00",
          "2017-11-30T00:00:00",
          "2017-12-31T00:00:00",
          "2018-01-31T00:00:00",
          "2018-02-28T00:00:00",
          "2018-03-31T00:00:00",
          "2018-04-30T00:00:00",
          "2018-05-31T00:00:00",
          "2018-06-30T00:00:00",
          "2018-07-31T00:00:00",
          "2018-08-31T00:00:00",
          "2018-09-30T00:00:00",
          "2018-10-31T00:00:00",
          "2018-11-30T00:00:00",
          "2018-12-31T00:00:00",
          "2019-01-31T00:00:00",
          "2019-02-28T00:00:00",
          "2019-03-31T00:00:00",
          "2019-04-30T00:00:00",
          "2019-05-31T00:00:00",
          "2019-06-30T00:00:00",
          "2019-07-31T00:00:00",
          "2019-08-31T00:00:00"
         ],
         "xaxis": "x3",
         "y": [
          4.472578937498223,
          6.234949110730185,
          5.2327342338462595,
          4.958307975702499,
          4.980866314073925,
          5.042617526977678,
          5.967470396375956,
          7.792521248320498,
          10.923611035541764,
          11.41232585152871,
          11.623722499758541,
          11.332316984429418,
          13.152245008498273,
          15.311496408739869,
          25.803891188048983,
          57.0521247531452,
          127.44740014518952,
          117.77537766336307,
          105.51173019915487,
          85.43469682770503,
          103.41296905548889,
          124.84986739479814,
          152.7191270779157,
          527.9646645135326,
          794.3961102311084,
          819.0045274809869,
          664.2766335617035,
          594.6266570064308,
          462.55699859230805,
          485.5461156361267,
          613.1004681844607,
          618.6102294729346,
          537.2959484017488,
          445.1787694250584,
          363.975195694624,
          366.11550884985087,
          342.7381074673848,
          245.90844672153162,
          234.07062025238642,
          268.41094876129256,
          234.7066295892274,
          236.60217692468754,
          236.88882537349693,
          279.26365705673925,
          252.66300298864357,
          233.52765483350942,
          264.67429761541297,
          348.37287409653186,
          422.4996182724463,
          411.08571672823587,
          401.8637724568032,
          415.22369923641344,
          433.1439889651864,
          459.90201350122777,
          638.2916879658313,
          660.5331736401068,
          578.4277707291537,
          602.8389412354658,
          638.9048297681456,
          723.2217759301456,
          820.0562028784154,
          909.0338788219314,
          1059.6244334762275,
          1131.8914016347976,
          1208.2018142095283,
          1877.5631228195948,
          2619.6004346033546,
          2494.6309739849457,
          3827.6240634817436,
          4084.6936857828014,
          5283.855989615605,
          7755.046356146434,
          14840.370581076375,
          12893.449406623446,
          9389.711654988998,
          9025.692916218119,
          7983.605096681939,
          8438.863063242026,
          6784.279614226831,
          7097.209566480597,
          6689.449425724835,
          6589.396239621773,
          6415.127929125973,
          5388.904282010079,
          3670.6403517861095,
          3658.5632290356803,
          3648.339476322903,
          3918.3650457358754,
          5138.997776288963,
          7228.675751112861,
          9358.37074881566,
          10667.295974215494,
          11262.82674455223
         ],
         "yaxis": "y3"
        }
       ],
       "layout": {
        "annotations": [
         {
          "font": {
           "size": 16
          },
          "showarrow": false,
          "text": "Volume_(BTC)",
          "x": 0.5,
          "xanchor": "center",
          "xref": "paper",
          "y": 1,
          "yanchor": "bottom",
          "yref": "paper"
         },
         {
          "font": {
           "size": 16
          },
          "showarrow": false,
          "text": "Volume_(Currency)",
          "x": 0.5,
          "xanchor": "center",
          "xref": "paper",
          "y": 0.6111111111111112,
          "yanchor": "bottom",
          "yref": "paper"
         },
         {
          "font": {
           "size": 16
          },
          "showarrow": false,
          "text": "Weighted_Price",
          "x": 0.5,
          "xanchor": "center",
          "xref": "paper",
          "y": 0.22222222222222224,
          "yanchor": "bottom",
          "yref": "paper"
         }
        ],
        "height": 650,
        "showlegend": false,
        "template": {
         "data": {
          "bar": [
           {
            "error_x": {
             "color": "#2a3f5f"
            },
            "error_y": {
             "color": "#2a3f5f"
            },
            "marker": {
             "line": {
              "color": "#E5ECF6",
              "width": 0.5
             }
            },
            "type": "bar"
           }
          ],
          "barpolar": [
           {
            "marker": {
             "line": {
              "color": "#E5ECF6",
              "width": 0.5
             }
            },
            "type": "barpolar"
           }
          ],
          "carpet": [
           {
            "aaxis": {
             "endlinecolor": "#2a3f5f",
             "gridcolor": "white",
             "linecolor": "white",
             "minorgridcolor": "white",
             "startlinecolor": "#2a3f5f"
            },
            "baxis": {
             "endlinecolor": "#2a3f5f",
             "gridcolor": "white",
             "linecolor": "white",
             "minorgridcolor": "white",
             "startlinecolor": "#2a3f5f"
            },
            "type": "carpet"
           }
          ],
          "choropleth": [
           {
            "colorbar": {
             "outlinewidth": 0,
             "ticks": ""
            },
            "type": "choropleth"
           }
          ],
          "contour": [
           {
            "colorbar": {
             "outlinewidth": 0,
             "ticks": ""
            },
            "colorscale": [
             [
              0,
              "#0d0887"
             ],
             [
              0.1111111111111111,
              "#46039f"
             ],
             [
              0.2222222222222222,
              "#7201a8"
             ],
             [
              0.3333333333333333,
              "#9c179e"
             ],
             [
              0.4444444444444444,
              "#bd3786"
             ],
             [
              0.5555555555555556,
              "#d8576b"
             ],
             [
              0.6666666666666666,
              "#ed7953"
             ],
             [
              0.7777777777777778,
              "#fb9f3a"
             ],
             [
              0.8888888888888888,
              "#fdca26"
             ],
             [
              1,
              "#f0f921"
             ]
            ],
            "type": "contour"
           }
          ],
          "contourcarpet": [
           {
            "colorbar": {
             "outlinewidth": 0,
             "ticks": ""
            },
            "type": "contourcarpet"
           }
          ],
          "heatmap": [
           {
            "colorbar": {
             "outlinewidth": 0,
             "ticks": ""
            },
            "colorscale": [
             [
              0,
              "#0d0887"
             ],
             [
              0.1111111111111111,
              "#46039f"
             ],
             [
              0.2222222222222222,
              "#7201a8"
             ],
             [
              0.3333333333333333,
              "#9c179e"
             ],
             [
              0.4444444444444444,
              "#bd3786"
             ],
             [
              0.5555555555555556,
              "#d8576b"
             ],
             [
              0.6666666666666666,
              "#ed7953"
             ],
             [
              0.7777777777777778,
              "#fb9f3a"
             ],
             [
              0.8888888888888888,
              "#fdca26"
             ],
             [
              1,
              "#f0f921"
             ]
            ],
            "type": "heatmap"
           }
          ],
          "heatmapgl": [
           {
            "colorbar": {
             "outlinewidth": 0,
             "ticks": ""
            },
            "colorscale": [
             [
              0,
              "#0d0887"
             ],
             [
              0.1111111111111111,
              "#46039f"
             ],
             [
              0.2222222222222222,
              "#7201a8"
             ],
             [
              0.3333333333333333,
              "#9c179e"
             ],
             [
              0.4444444444444444,
              "#bd3786"
             ],
             [
              0.5555555555555556,
              "#d8576b"
             ],
             [
              0.6666666666666666,
              "#ed7953"
             ],
             [
              0.7777777777777778,
              "#fb9f3a"
             ],
             [
              0.8888888888888888,
              "#fdca26"
             ],
             [
              1,
              "#f0f921"
             ]
            ],
            "type": "heatmapgl"
           }
          ],
          "histogram": [
           {
            "marker": {
             "colorbar": {
              "outlinewidth": 0,
              "ticks": ""
             }
            },
            "type": "histogram"
           }
          ],
          "histogram2d": [
           {
            "colorbar": {
             "outlinewidth": 0,
             "ticks": ""
            },
            "colorscale": [
             [
              0,
              "#0d0887"
             ],
             [
              0.1111111111111111,
              "#46039f"
             ],
             [
              0.2222222222222222,
              "#7201a8"
             ],
             [
              0.3333333333333333,
              "#9c179e"
             ],
             [
              0.4444444444444444,
              "#bd3786"
             ],
             [
              0.5555555555555556,
              "#d8576b"
             ],
             [
              0.6666666666666666,
              "#ed7953"
             ],
             [
              0.7777777777777778,
              "#fb9f3a"
             ],
             [
              0.8888888888888888,
              "#fdca26"
             ],
             [
              1,
              "#f0f921"
             ]
            ],
            "type": "histogram2d"
           }
          ],
          "histogram2dcontour": [
           {
            "colorbar": {
             "outlinewidth": 0,
             "ticks": ""
            },
            "colorscale": [
             [
              0,
              "#0d0887"
             ],
             [
              0.1111111111111111,
              "#46039f"
             ],
             [
              0.2222222222222222,
              "#7201a8"
             ],
             [
              0.3333333333333333,
              "#9c179e"
             ],
             [
              0.4444444444444444,
              "#bd3786"
             ],
             [
              0.5555555555555556,
              "#d8576b"
             ],
             [
              0.6666666666666666,
              "#ed7953"
             ],
             [
              0.7777777777777778,
              "#fb9f3a"
             ],
             [
              0.8888888888888888,
              "#fdca26"
             ],
             [
              1,
              "#f0f921"
             ]
            ],
            "type": "histogram2dcontour"
           }
          ],
          "mesh3d": [
           {
            "colorbar": {
             "outlinewidth": 0,
             "ticks": ""
            },
            "type": "mesh3d"
           }
          ],
          "parcoords": [
           {
            "line": {
             "colorbar": {
              "outlinewidth": 0,
              "ticks": ""
             }
            },
            "type": "parcoords"
           }
          ],
          "scatter": [
           {
            "marker": {
             "colorbar": {
              "outlinewidth": 0,
              "ticks": ""
             }
            },
            "type": "scatter"
           }
          ],
          "scatter3d": [
           {
            "line": {
             "colorbar": {
              "outlinewidth": 0,
              "ticks": ""
             }
            },
            "marker": {
             "colorbar": {
              "outlinewidth": 0,
              "ticks": ""
             }
            },
            "type": "scatter3d"
           }
          ],
          "scattercarpet": [
           {
            "marker": {
             "colorbar": {
              "outlinewidth": 0,
              "ticks": ""
             }
            },
            "type": "scattercarpet"
           }
          ],
          "scattergeo": [
           {
            "marker": {
             "colorbar": {
              "outlinewidth": 0,
              "ticks": ""
             }
            },
            "type": "scattergeo"
           }
          ],
          "scattergl": [
           {
            "marker": {
             "colorbar": {
              "outlinewidth": 0,
              "ticks": ""
             }
            },
            "type": "scattergl"
           }
          ],
          "scattermapbox": [
           {
            "marker": {
             "colorbar": {
              "outlinewidth": 0,
              "ticks": ""
             }
            },
            "type": "scattermapbox"
           }
          ],
          "scatterpolar": [
           {
            "marker": {
             "colorbar": {
              "outlinewidth": 0,
              "ticks": ""
             }
            },
            "type": "scatterpolar"
           }
          ],
          "scatterpolargl": [
           {
            "marker": {
             "colorbar": {
              "outlinewidth": 0,
              "ticks": ""
             }
            },
            "type": "scatterpolargl"
           }
          ],
          "scatterternary": [
           {
            "marker": {
             "colorbar": {
              "outlinewidth": 0,
              "ticks": ""
             }
            },
            "type": "scatterternary"
           }
          ],
          "surface": [
           {
            "colorbar": {
             "outlinewidth": 0,
             "ticks": ""
            },
            "colorscale": [
             [
              0,
              "#0d0887"
             ],
             [
              0.1111111111111111,
              "#46039f"
             ],
             [
              0.2222222222222222,
              "#7201a8"
             ],
             [
              0.3333333333333333,
              "#9c179e"
             ],
             [
              0.4444444444444444,
              "#bd3786"
             ],
             [
              0.5555555555555556,
              "#d8576b"
             ],
             [
              0.6666666666666666,
              "#ed7953"
             ],
             [
              0.7777777777777778,
              "#fb9f3a"
             ],
             [
              0.8888888888888888,
              "#fdca26"
             ],
             [
              1,
              "#f0f921"
             ]
            ],
            "type": "surface"
           }
          ],
          "table": [
           {
            "cells": {
             "fill": {
              "color": "#EBF0F8"
             },
             "line": {
              "color": "white"
             }
            },
            "header": {
             "fill": {
              "color": "#C8D4E3"
             },
             "line": {
              "color": "white"
             }
            },
            "type": "table"
           }
          ]
         },
         "layout": {
          "annotationdefaults": {
           "arrowcolor": "#2a3f5f",
           "arrowhead": 0,
           "arrowwidth": 1
          },
          "colorscale": {
           "diverging": [
            [
             0,
             "#8e0152"
            ],
            [
             0.1,
             "#c51b7d"
            ],
            [
             0.2,
             "#de77ae"
            ],
            [
             0.3,
             "#f1b6da"
            ],
            [
             0.4,
             "#fde0ef"
            ],
            [
             0.5,
             "#f7f7f7"
            ],
            [
             0.6,
             "#e6f5d0"
            ],
            [
             0.7,
             "#b8e186"
            ],
            [
             0.8,
             "#7fbc41"
            ],
            [
             0.9,
             "#4d9221"
            ],
            [
             1,
             "#276419"
            ]
           ],
           "sequential": [
            [
             0,
             "#0d0887"
            ],
            [
             0.1111111111111111,
             "#46039f"
            ],
            [
             0.2222222222222222,
             "#7201a8"
            ],
            [
             0.3333333333333333,
             "#9c179e"
            ],
            [
             0.4444444444444444,
             "#bd3786"
            ],
            [
             0.5555555555555556,
             "#d8576b"
            ],
            [
             0.6666666666666666,
             "#ed7953"
            ],
            [
             0.7777777777777778,
             "#fb9f3a"
            ],
            [
             0.8888888888888888,
             "#fdca26"
            ],
            [
             1,
             "#f0f921"
            ]
           ],
           "sequentialminus": [
            [
             0,
             "#0d0887"
            ],
            [
             0.1111111111111111,
             "#46039f"
            ],
            [
             0.2222222222222222,
             "#7201a8"
            ],
            [
             0.3333333333333333,
             "#9c179e"
            ],
            [
             0.4444444444444444,
             "#bd3786"
            ],
            [
             0.5555555555555556,
             "#d8576b"
            ],
            [
             0.6666666666666666,
             "#ed7953"
            ],
            [
             0.7777777777777778,
             "#fb9f3a"
            ],
            [
             0.8888888888888888,
             "#fdca26"
            ],
            [
             1,
             "#f0f921"
            ]
           ]
          },
          "colorway": [
           "#636efa",
           "#EF553B",
           "#00cc96",
           "#ab63fa",
           "#FFA15A",
           "#19d3f3",
           "#FF6692",
           "#B6E880",
           "#FF97FF",
           "#FECB52"
          ],
          "font": {
           "color": "#2a3f5f"
          },
          "geo": {
           "bgcolor": "white",
           "lakecolor": "white",
           "landcolor": "#E5ECF6",
           "showlakes": true,
           "showland": true,
           "subunitcolor": "white"
          },
          "hoverlabel": {
           "align": "left"
          },
          "hovermode": "closest",
          "mapbox": {
           "style": "light"
          },
          "paper_bgcolor": "white",
          "plot_bgcolor": "#E5ECF6",
          "polar": {
           "angularaxis": {
            "gridcolor": "white",
            "linecolor": "white",
            "ticks": ""
           },
           "bgcolor": "#E5ECF6",
           "radialaxis": {
            "gridcolor": "white",
            "linecolor": "white",
            "ticks": ""
           }
          },
          "scene": {
           "xaxis": {
            "backgroundcolor": "#E5ECF6",
            "gridcolor": "white",
            "gridwidth": 2,
            "linecolor": "white",
            "showbackground": true,
            "ticks": "",
            "zerolinecolor": "white"
           },
           "yaxis": {
            "backgroundcolor": "#E5ECF6",
            "gridcolor": "white",
            "gridwidth": 2,
            "linecolor": "white",
            "showbackground": true,
            "ticks": "",
            "zerolinecolor": "white"
           },
           "zaxis": {
            "backgroundcolor": "#E5ECF6",
            "gridcolor": "white",
            "gridwidth": 2,
            "linecolor": "white",
            "showbackground": true,
            "ticks": "",
            "zerolinecolor": "white"
           }
          },
          "shapedefaults": {
           "line": {
            "color": "#2a3f5f"
           }
          },
          "ternary": {
           "aaxis": {
            "gridcolor": "white",
            "linecolor": "white",
            "ticks": ""
           },
           "baxis": {
            "gridcolor": "white",
            "linecolor": "white",
            "ticks": ""
           },
           "bgcolor": "#E5ECF6",
           "caxis": {
            "gridcolor": "white",
            "linecolor": "white",
            "ticks": ""
           }
          },
          "title": {
           "x": 0.05
          },
          "xaxis": {
           "automargin": true,
           "gridcolor": "white",
           "linecolor": "white",
           "ticks": "",
           "zerolinecolor": "white",
           "zerolinewidth": 2
          },
          "yaxis": {
           "automargin": true,
           "gridcolor": "white",
           "linecolor": "white",
           "ticks": "",
           "zerolinecolor": "white",
           "zerolinewidth": 2
          }
         }
        },
        "width": 750,
        "xaxis": {
         "anchor": "y",
         "domain": [
          0,
          1
         ]
        },
        "xaxis2": {
         "anchor": "y2",
         "domain": [
          0,
          1
         ]
        },
        "xaxis3": {
         "anchor": "y3",
         "domain": [
          0,
          1
         ]
        },
        "yaxis": {
         "anchor": "x",
         "domain": [
          0.7777777777777778,
          1
         ]
        },
        "yaxis2": {
         "anchor": "x2",
         "domain": [
          0.3888888888888889,
          0.6111111111111112
         ]
        },
        "yaxis3": {
         "anchor": "x3",
         "domain": [
          0,
          0.22222222222222224
         ]
        }
       }
      },
      "text/html": [
       "<div>\n",
       "        \n",
       "        \n",
       "            <div id=\"30a53898-554e-43fa-99b1-87ea3f4806f6\" class=\"plotly-graph-div\" style=\"height:650px; width:750px;\"></div>\n",
       "            <script type=\"text/javascript\">\n",
       "                require([\"plotly\"], function(Plotly) {\n",
       "                    window.PLOTLYENV=window.PLOTLYENV || {};\n",
       "                    \n",
       "                if (document.getElementById(\"30a53898-554e-43fa-99b1-87ea3f4806f6\")) {\n",
       "                    Plotly.newPlot(\n",
       "                        '30a53898-554e-43fa-99b1-87ea3f4806f6',\n",
       "                        [{\"marker\": {\"color\": \"rgba(235, 115, 150, 0.8)\"}, \"mode\": \"lines\", \"name\": \"Volume_(BTC)\", \"type\": \"scatter\", \"x\": [\"2011-12-31T00:00:00\", \"2012-01-31T00:00:00\", \"2012-02-29T00:00:00\", \"2012-03-31T00:00:00\", \"2012-04-30T00:00:00\", \"2012-05-31T00:00:00\", \"2012-06-30T00:00:00\", \"2012-07-31T00:00:00\", \"2012-08-31T00:00:00\", \"2012-09-30T00:00:00\", \"2012-10-31T00:00:00\", \"2012-11-30T00:00:00\", \"2012-12-31T00:00:00\", \"2013-01-31T00:00:00\", \"2013-02-28T00:00:00\", \"2013-03-31T00:00:00\", \"2013-04-30T00:00:00\", \"2013-05-31T00:00:00\", \"2013-06-30T00:00:00\", \"2013-07-31T00:00:00\", \"2013-08-31T00:00:00\", \"2013-09-30T00:00:00\", \"2013-10-31T00:00:00\", \"2013-11-30T00:00:00\", \"2013-12-31T00:00:00\", \"2014-01-31T00:00:00\", \"2014-02-28T00:00:00\", \"2014-03-31T00:00:00\", \"2014-04-30T00:00:00\", \"2014-05-31T00:00:00\", \"2014-06-30T00:00:00\", \"2014-07-31T00:00:00\", \"2014-08-31T00:00:00\", \"2014-09-30T00:00:00\", \"2014-10-31T00:00:00\", \"2014-11-30T00:00:00\", \"2014-12-31T00:00:00\", \"2015-01-31T00:00:00\", \"2015-02-28T00:00:00\", \"2015-03-31T00:00:00\", \"2015-04-30T00:00:00\", \"2015-05-31T00:00:00\", \"2015-06-30T00:00:00\", \"2015-07-31T00:00:00\", \"2015-08-31T00:00:00\", \"2015-09-30T00:00:00\", \"2015-10-31T00:00:00\", \"2015-11-30T00:00:00\", \"2015-12-31T00:00:00\", \"2016-01-31T00:00:00\", \"2016-02-29T00:00:00\", \"2016-03-31T00:00:00\", \"2016-04-30T00:00:00\", \"2016-05-31T00:00:00\", \"2016-06-30T00:00:00\", \"2016-07-31T00:00:00\", \"2016-08-31T00:00:00\", \"2016-09-30T00:00:00\", \"2016-10-31T00:00:00\", \"2016-11-30T00:00:00\", \"2016-12-31T00:00:00\", \"2017-01-31T00:00:00\", \"2017-02-28T00:00:00\", \"2017-03-31T00:00:00\", \"2017-04-30T00:00:00\", \"2017-05-31T00:00:00\", \"2017-06-30T00:00:00\", \"2017-07-31T00:00:00\", \"2017-08-31T00:00:00\", \"2017-09-30T00:00:00\", \"2017-10-31T00:00:00\", \"2017-11-30T00:00:00\", \"2017-12-31T00:00:00\", \"2018-01-31T00:00:00\", \"2018-02-28T00:00:00\", \"2018-03-31T00:00:00\", \"2018-04-30T00:00:00\", \"2018-05-31T00:00:00\", \"2018-06-30T00:00:00\", \"2018-07-31T00:00:00\", \"2018-08-31T00:00:00\", \"2018-09-30T00:00:00\", \"2018-10-31T00:00:00\", \"2018-11-30T00:00:00\", \"2018-12-31T00:00:00\", \"2019-01-31T00:00:00\", \"2019-02-28T00:00:00\", \"2019-03-31T00:00:00\", \"2019-04-30T00:00:00\", \"2019-05-31T00:00:00\", \"2019-06-30T00:00:00\", \"2019-07-31T00:00:00\", \"2019-08-31T00:00:00\"], \"xaxis\": \"x\", \"y\": [6.556675229688664, 7.8392718828376715, 2.446148338657723, 6.7171946525655875, 3.172426830296848, 3.3942914683790404, 7.886049664259714, 7.117262757401796, 8.467129496326148, 9.349769319789486, 12.965068209317678, 12.592548749741658, 17.408967959471894, 12.191243595435287, 19.025479282982165, 29.426655686951516, 14.456954573768902, 14.926304458786719, 17.695996404368113, 18.50534183033272, 11.762667000462221, 21.395172289902533, 11.0777906340123, 14.495011679212398, 20.382110007585066, 15.990953066034821, 33.125790034774795, 24.82450280316794, 15.201056529334167, 16.560518152855725, 16.25051445408748, 18.440579786362076, 15.478024071912662, 19.757196920903297, 23.166942302125044, 19.757441815663555, 15.621611227241402, 17.514474338585984, 10.859024266621304, 16.405668151711772, 22.470022025559146, 11.704400476058684, 20.65857613717627, 16.58340028935996, 12.40830265707312, 20.930940771544687, 15.169279053950275, 15.856034690017172, 28.10156540984987, 19.1359120899054, 30.410785246342694, 22.30569331067475, 15.12193758584675, 17.684965698574583, 20.49759626566557, 29.35636355642579, 18.615802766041647, 18.666442497311426, 18.10812487361375, 19.865612928663687, 14.97853298822426, 10.277414869045256, 13.989921245016916, 8.33399885446637, 10.713732594291695, 9.550367378943397, 7.903666124503983, 14.919425288553597, 16.587750729918806, 8.921872286514093, 11.6096276880679, 7.383873879922088, 6.045071852400753, 6.243973147419616, 6.416210162553585, 9.282722095650803, 7.363509714085269, 6.257239699231206, 7.4932701893769655, 16.06702211223706, 15.071973636898859, 9.061944188066544, 7.872972596622038, 10.518451385369968, 8.680916692229237, 10.23203721486509, 12.22654397382959, 12.454659230414713, 12.453187528382069, 11.10059713749113, 7.742600551619013, 8.647032211101116, 14.746753200645859, 10.539638974775748, 15.844604705577389, 23.022343116311763, 10.641420070021795, 31.33127159409907, 20.04627561060025, 28.629825348801774, 21.593764841946435, 27.30945397808333, 13.259001328995048, 37.2390606349814, 10.171175124447423, 9.144053409849182, 15.491682284685405, 8.501086777229172, 7.120523797371096, 9.098325193845088, 14.31233105122714, 27.74626247933135, 15.392316942731178, 28.07852667157135, 16.223604363729134, 6.637658592051552, 9.433245695378975, 16.275352497025825, 14.30440082429065, 14.600831798294683, 15.95691515268343, 9.476267835221226, 8.6108769558015, 7.358905629083251, 4.409538588090321, 11.07362026391069, 11.600248494353163, 8.635851478544618, 10.103265749741077, 5.182050444348142, 5.114288600927578, 5.638067587854248, 4.279861066417625, 3.7793439039256254, 4.408381975749036, 6.570247355743068, 4.488590671083361, 11.335577716549551, 11.992746259208229, 6.36288109888595, 5.136005571360183, 6.662922549176599, 11.941533820531728, 10.61111830273012, 17.680143061716233, 21.851654567241887, 12.50364271309435, 9.570859471903795, 8.413686944626027, 9.101695034427635, 17.59628779272124, 10.480456329625989, 8.774792244845234, 5.866957847622026, 8.372323656258878, 11.478541470446508, 6.083324391877003, 10.453577677898828, 18.597374238943935, 35.31561794843635, 14.82602667455953, 19.459648661606277, 10.566141995496073, 13.010072999128978, 8.145862355949438, 7.289052504325384, 9.371956746218245, 6.922630685059461, 7.637382934430578, 7.869424527255951, 5.687753239704346, 6.255027798409685, 7.868054827914596, 6.816034946192426, 6.834845621454459, 6.357625521008951, 5.743247970681503, 5.466661031807547, 5.93317844613589, 5.6914843284533685, 5.154193931840235, 7.658489359742098, 4.865814892479194, 11.008473567815495, 14.595732556425673, 12.047344414067396, 8.44202590548212, 8.467555019855242, 7.444009922666645, 8.460046069477235, 13.092656144161637, 19.745978810942425, 17.712360782677642, 16.56449773679664, 13.357800101197418, 15.621584774643841, 16.312175724394823, 17.2891294753431, 18.32610996918867, 19.00745569029656, 21.31201736931643, 39.45252289680242, 25.293462562838368, 14.904294277429468, 10.101956639899857, 11.33251319565676, 13.763231194887926, 10.751332342716289, 8.851001207773802, 4.972699499355113, 6.001241155246063, 10.75102120011898, 8.40079598110713, 5.6906149897579335, 5.8308658655506, 6.13929589614287, 7.296679106629924, 5.1301178458065655, 6.61320121334522, 4.359340718410703, 3.622689065177585, 3.0470260719980318, 2.87391532378273, 2.8580573500009825, 2.7728417139146746, 4.489853248248991, 4.4411361742946065, 3.849085192055523, 3.061539705838271, 3.5770324697748115, 5.866496055712303, 5.84723082424009, 5.114161606995054, 8.21585905569147, 11.740482417568499, 6.1058668357063555, 4.986991791456375, 3.515004970564499, 3.01070952689285, 2.607850506730165, 7.379309974372014, 3.167863181664685, 3.7357903693164802, 3.591183581994077, 3.570838586851201, 3.6013163894840963, 2.5410888167876986, 2.6604221706002185, 2.6507336455108947, 2.510925986153759, 3.1740969283274, 3.373317087019847, 4.311952336661717, 4.806668396721213, 4.659553451709281, 5.469554879309551, 3.6729106694751747, 4.733643562990114, 3.7370351440327543, 3.056387229766846, 6.52134465519147, 6.131243021963295, 13.58972499541583, 9.949931031146814, 6.727243751394891, 3.7298943076180473, 5.659450102553567, 6.747964698116074, 3.8744557954662713, 6.986207501815427, 4.601647694516787, 9.080828626917649, 8.580544217604153, 8.434513003382932, 6.4782991230912605, 4.965130918398795, 3.6751402519989753, 3.7463423310397235, 4.323294104084335, 8.163925107172627, 9.606589938624051, 9.366108894863101, 15.549958416599221, 9.338229840675625, 9.390718619577441, 14.844798144947463, 8.529582029847203, 8.860598283197406, 6.115411405868059, 11.453797645171598, 14.430868348647785, 9.600725862054583, 7.283430719215304, 9.132322284157766, 10.60897095005858, 7.933447263486111, 8.16560610286314, 11.957358835484133, 18.95752559005652, 9.374022268509908, 7.696504012614027, 6.136997220594202, 10.19954823307337, 8.943817930091278, 9.05215959656649, 9.651378785137911, 14.832314364490095, 10.816019811496068, 7.028339769762888, 12.280830282471209, 13.059319356856134, 9.841057236577408, 18.406194127403786, 10.482012865429592, 8.497484169128022, 9.652150641548655, 14.575284178126056, 9.086843718894873, 14.876514712103198, 21.700044288162673, 10.814736618832338, 10.796862645745039, 6.9102309245277675, 13.063631576569406, 12.167939169564484, 8.966445103653763, 11.848993654755937, 7.739735424067434, 7.696814518066472, 7.891981464618067, 12.07381977916374, 6.484725133650791, 9.317044897498002, 6.812928606347193, 6.133213022645864, 4.907786986407702, 5.29957422660615, 6.680632649534744, 5.5607572923313136, 5.652413688937503, 4.438210885640866, 4.229626609071428, 6.237646690358129, 6.477756673176578, 6.246896508673619, 6.934366684412701, 5.601112287314474, 4.316584597722208, 4.09098917536211, 5.016669114723239, 3.1348158029305555, 3.9093495468353137, 3.635640832719256, 2.6692555751845286, 2.992639905580365, 3.513454426464253, 1.8799129919226105, 2.367901843817461, 2.2736347039057603, 6.656752888769797, 15.385920573447468, 10.798158543247995, 9.738257146522818, 6.570532627330353, 10.645791660320427, 7.255072826929573, 4.045305043991089, 6.3517933836507785, 4.946305649162693, 3.680787823876977, 4.35704195374109, 4.222253904297626, 4.837658241704376, 7.5045647172003696, 4.175853957729177, 4.645101775980175, 3.991932555616063, 3.3364927558849127, 3.90759708119938, 11.677102969851244, 6.45421151584127, 4.213239849303567, 6.070102887445411, 4.727544897467246, 9.587300336574378, 12.932969053085285, 5.8526528914781855, 5.690284019782756, 6.074463634646835, 5.708580709949403, 6.963195603508903, 13.651477406562524, 9.95086890515773, 9.534195969880994, 10.077863549111107, 5.304556734854156, 4.995856885037701, 7.803308708616014, 23.80593911], \"yaxis\": \"y\"}, {\"marker\": {\"color\": \"rgba(115, 120, 235, 0.8)\"}, \"mode\": \"lines\", \"name\": \"Volume_(Currency)\", \"type\": \"scatter\", \"x\": [\"2011-12-31T00:00:00\", \"2012-01-31T00:00:00\", \"2012-02-29T00:00:00\", \"2012-03-31T00:00:00\", \"2012-04-30T00:00:00\", \"2012-05-31T00:00:00\", \"2012-06-30T00:00:00\", \"2012-07-31T00:00:00\", \"2012-08-31T00:00:00\", \"2012-09-30T00:00:00\", \"2012-10-31T00:00:00\", \"2012-11-30T00:00:00\", \"2012-12-31T00:00:00\", \"2013-01-31T00:00:00\", \"2013-02-28T00:00:00\", \"2013-03-31T00:00:00\", \"2013-04-30T00:00:00\", \"2013-05-31T00:00:00\", \"2013-06-30T00:00:00\", \"2013-07-31T00:00:00\", \"2013-08-31T00:00:00\", \"2013-09-30T00:00:00\", \"2013-10-31T00:00:00\", \"2013-11-30T00:00:00\", \"2013-12-31T00:00:00\", \"2014-01-31T00:00:00\", \"2014-02-28T00:00:00\", \"2014-03-31T00:00:00\", \"2014-04-30T00:00:00\", \"2014-05-31T00:00:00\", \"2014-06-30T00:00:00\", \"2014-07-31T00:00:00\", \"2014-08-31T00:00:00\", \"2014-09-30T00:00:00\", \"2014-10-31T00:00:00\", \"2014-11-30T00:00:00\", \"2014-12-31T00:00:00\", \"2015-01-31T00:00:00\", \"2015-02-28T00:00:00\", \"2015-03-31T00:00:00\", \"2015-04-30T00:00:00\", \"2015-05-31T00:00:00\", \"2015-06-30T00:00:00\", \"2015-07-31T00:00:00\", \"2015-08-31T00:00:00\", \"2015-09-30T00:00:00\", \"2015-10-31T00:00:00\", \"2015-11-30T00:00:00\", \"2015-12-31T00:00:00\", \"2016-01-31T00:00:00\", \"2016-02-29T00:00:00\", \"2016-03-31T00:00:00\", \"2016-04-30T00:00:00\", \"2016-05-31T00:00:00\", \"2016-06-30T00:00:00\", \"2016-07-31T00:00:00\", \"2016-08-31T00:00:00\", \"2016-09-30T00:00:00\", \"2016-10-31T00:00:00\", \"2016-11-30T00:00:00\", \"2016-12-31T00:00:00\", \"2017-01-31T00:00:00\", \"2017-02-28T00:00:00\", \"2017-03-31T00:00:00\", \"2017-04-30T00:00:00\", \"2017-05-31T00:00:00\", \"2017-06-30T00:00:00\", \"2017-07-31T00:00:00\", \"2017-08-31T00:00:00\", \"2017-09-30T00:00:00\", \"2017-10-31T00:00:00\", \"2017-11-30T00:00:00\", \"2017-12-31T00:00:00\", \"2018-01-31T00:00:00\", \"2018-02-28T00:00:00\", \"2018-03-31T00:00:00\", \"2018-04-30T00:00:00\", \"2018-05-31T00:00:00\", \"2018-06-30T00:00:00\", \"2018-07-31T00:00:00\", \"2018-08-31T00:00:00\", \"2018-09-30T00:00:00\", \"2018-10-31T00:00:00\", \"2018-11-30T00:00:00\", \"2018-12-31T00:00:00\", \"2019-01-31T00:00:00\", \"2019-02-28T00:00:00\", \"2019-03-31T00:00:00\", \"2019-04-30T00:00:00\", \"2019-05-31T00:00:00\", \"2019-06-30T00:00:00\", \"2019-07-31T00:00:00\", \"2019-08-31T00:00:00\"], \"xaxis\": \"x2\", \"y\": [34.069690440863475, 29.527545116281118, 37.120786072062494, 66.44504771519429, 92.67470660295804, 85.42902252394447, 123.10804874167769, 140.53727166564877, 207.54550439260652, 172.18634532880114, 203.94169145888853, 212.51151261699, 280.30426505585194, 330.16926307114596, 419.032206414432, 579.7315045170603, 1388.0935665275686, 875.5285202685885, 786.9596197965566, 1028.8917136632228, 1117.2932197059317, 1234.0232116177579, 2488.7763518333263, 11684.16129109226, 16355.396221742709, 8623.627897182367, 13075.090795288797, 6992.780579247037, 6063.098911538084, 4030.2043306537876, 4756.38705382602, 2852.883589162981, 4339.006506665734, 3837.996470312793, 5094.869089435158, 4247.053758463559, 2656.1784118254604, 5089.8259161860105, 2327.8154887095257, 2107.147236494501, 1607.9499852838564, 1363.69384588817, 1507.3132270676945, 3097.7357519477437, 2884.5477606100435, 3720.7234724483537, 5067.464234381109, 7901.803850906251, 4398.704419747362, 2961.0882670306587, 2462.7959840095327, 1760.9287088072165, 1534.3128052738805, 1968.1627677207418, 4918.450098902082, 2462.1699898338525, 2521.3204269299254, 1813.0833130014812, 2103.679881274824, 3394.9497333915533, 4006.5662470258453, 7469.03403976802, 6163.813097424285, 8613.86608701661, 5083.465124210736, 20571.280671131604, 27165.33837451848, 24643.849762549, 32596.401998659225, 47905.238197348706, 45390.31939677721, 86648.95205840595, 186045.21007861223, 130899.70329081907, 128014.96269472298, 94491.05280062361, 72055.3664986191, 60063.42464437873, 37822.98191344472, 39452.906296351655, 36090.014372217694, 25340.329316977048, 17952.35342014338, 38211.79021373276, 30073.387752956653, 17689.139768787532, 19295.98489916979, 15057.562788659128, 35107.296387335446, 61009.596999067435, 77888.92250043298, 89041.8296670957, 79278.42993117523], \"yaxis\": \"y2\"}, {\"marker\": {\"color\": \"rgba(245, 170, 60, 0.8)\"}, \"mode\": \"lines\", \"name\": \"Weighted_Price\", \"type\": \"scatter\", \"x\": [\"2011-12-31T00:00:00\", \"2012-01-31T00:00:00\", \"2012-02-29T00:00:00\", \"2012-03-31T00:00:00\", \"2012-04-30T00:00:00\", \"2012-05-31T00:00:00\", \"2012-06-30T00:00:00\", \"2012-07-31T00:00:00\", \"2012-08-31T00:00:00\", \"2012-09-30T00:00:00\", \"2012-10-31T00:00:00\", \"2012-11-30T00:00:00\", \"2012-12-31T00:00:00\", \"2013-01-31T00:00:00\", \"2013-02-28T00:00:00\", \"2013-03-31T00:00:00\", \"2013-04-30T00:00:00\", \"2013-05-31T00:00:00\", \"2013-06-30T00:00:00\", \"2013-07-31T00:00:00\", \"2013-08-31T00:00:00\", \"2013-09-30T00:00:00\", \"2013-10-31T00:00:00\", \"2013-11-30T00:00:00\", \"2013-12-31T00:00:00\", \"2014-01-31T00:00:00\", \"2014-02-28T00:00:00\", \"2014-03-31T00:00:00\", \"2014-04-30T00:00:00\", \"2014-05-31T00:00:00\", \"2014-06-30T00:00:00\", \"2014-07-31T00:00:00\", \"2014-08-31T00:00:00\", \"2014-09-30T00:00:00\", \"2014-10-31T00:00:00\", \"2014-11-30T00:00:00\", \"2014-12-31T00:00:00\", \"2015-01-31T00:00:00\", \"2015-02-28T00:00:00\", \"2015-03-31T00:00:00\", \"2015-04-30T00:00:00\", \"2015-05-31T00:00:00\", \"2015-06-30T00:00:00\", \"2015-07-31T00:00:00\", \"2015-08-31T00:00:00\", \"2015-09-30T00:00:00\", \"2015-10-31T00:00:00\", \"2015-11-30T00:00:00\", \"2015-12-31T00:00:00\", \"2016-01-31T00:00:00\", \"2016-02-29T00:00:00\", \"2016-03-31T00:00:00\", \"2016-04-30T00:00:00\", \"2016-05-31T00:00:00\", \"2016-06-30T00:00:00\", \"2016-07-31T00:00:00\", \"2016-08-31T00:00:00\", \"2016-09-30T00:00:00\", \"2016-10-31T00:00:00\", \"2016-11-30T00:00:00\", \"2016-12-31T00:00:00\", \"2017-01-31T00:00:00\", \"2017-02-28T00:00:00\", \"2017-03-31T00:00:00\", \"2017-04-30T00:00:00\", \"2017-05-31T00:00:00\", \"2017-06-30T00:00:00\", \"2017-07-31T00:00:00\", \"2017-08-31T00:00:00\", \"2017-09-30T00:00:00\", \"2017-10-31T00:00:00\", \"2017-11-30T00:00:00\", \"2017-12-31T00:00:00\", \"2018-01-31T00:00:00\", \"2018-02-28T00:00:00\", \"2018-03-31T00:00:00\", \"2018-04-30T00:00:00\", \"2018-05-31T00:00:00\", \"2018-06-30T00:00:00\", \"2018-07-31T00:00:00\", \"2018-08-31T00:00:00\", \"2018-09-30T00:00:00\", \"2018-10-31T00:00:00\", \"2018-11-30T00:00:00\", \"2018-12-31T00:00:00\", \"2019-01-31T00:00:00\", \"2019-02-28T00:00:00\", \"2019-03-31T00:00:00\", \"2019-04-30T00:00:00\", \"2019-05-31T00:00:00\", \"2019-06-30T00:00:00\", \"2019-07-31T00:00:00\", \"2019-08-31T00:00:00\"], \"xaxis\": \"x3\", \"y\": [4.472578937498223, 6.234949110730185, 5.2327342338462595, 4.958307975702499, 4.980866314073925, 5.042617526977678, 5.967470396375956, 7.792521248320498, 10.923611035541764, 11.41232585152871, 11.623722499758541, 11.332316984429418, 13.152245008498273, 15.311496408739869, 25.803891188048983, 57.0521247531452, 127.44740014518952, 117.77537766336307, 105.51173019915487, 85.43469682770503, 103.41296905548889, 124.84986739479814, 152.7191270779157, 527.9646645135326, 794.3961102311084, 819.0045274809869, 664.2766335617035, 594.6266570064308, 462.55699859230805, 485.5461156361267, 613.1004681844607, 618.6102294729346, 537.2959484017488, 445.1787694250584, 363.975195694624, 366.11550884985087, 342.7381074673848, 245.90844672153162, 234.07062025238642, 268.41094876129256, 234.7066295892274, 236.60217692468754, 236.88882537349693, 279.26365705673925, 252.66300298864357, 233.52765483350942, 264.67429761541297, 348.37287409653186, 422.4996182724463, 411.08571672823587, 401.8637724568032, 415.22369923641344, 433.1439889651864, 459.90201350122777, 638.2916879658313, 660.5331736401068, 578.4277707291537, 602.8389412354658, 638.9048297681456, 723.2217759301456, 820.0562028784154, 909.0338788219314, 1059.6244334762275, 1131.8914016347976, 1208.2018142095283, 1877.5631228195948, 2619.6004346033546, 2494.6309739849457, 3827.6240634817436, 4084.6936857828014, 5283.855989615605, 7755.046356146434, 14840.370581076375, 12893.449406623446, 9389.711654988998, 9025.692916218119, 7983.605096681939, 8438.863063242026, 6784.279614226831, 7097.209566480597, 6689.449425724835, 6589.396239621773, 6415.127929125973, 5388.904282010079, 3670.6403517861095, 3658.5632290356803, 3648.339476322903, 3918.3650457358754, 5138.997776288963, 7228.675751112861, 9358.37074881566, 10667.295974215494, 11262.82674455223], \"yaxis\": \"y3\"}],\n",
       "                        {\"annotations\": [{\"font\": {\"size\": 16}, \"showarrow\": false, \"text\": \"Volume_(BTC)\", \"x\": 0.5, \"xanchor\": \"center\", \"xref\": \"paper\", \"y\": 1.0, \"yanchor\": \"bottom\", \"yref\": \"paper\"}, {\"font\": {\"size\": 16}, \"showarrow\": false, \"text\": \"Volume_(Currency)\", \"x\": 0.5, \"xanchor\": \"center\", \"xref\": \"paper\", \"y\": 0.6111111111111112, \"yanchor\": \"bottom\", \"yref\": \"paper\"}, {\"font\": {\"size\": 16}, \"showarrow\": false, \"text\": \"Weighted_Price\", \"x\": 0.5, \"xanchor\": \"center\", \"xref\": \"paper\", \"y\": 0.22222222222222224, \"yanchor\": \"bottom\", \"yref\": \"paper\"}], \"height\": 650, \"showlegend\": false, \"template\": {\"data\": {\"bar\": [{\"error_x\": {\"color\": \"#2a3f5f\"}, \"error_y\": {\"color\": \"#2a3f5f\"}, \"marker\": {\"line\": {\"color\": \"#E5ECF6\", \"width\": 0.5}}, \"type\": \"bar\"}], \"barpolar\": [{\"marker\": {\"line\": {\"color\": \"#E5ECF6\", \"width\": 0.5}}, \"type\": \"barpolar\"}], \"carpet\": [{\"aaxis\": {\"endlinecolor\": \"#2a3f5f\", \"gridcolor\": \"white\", \"linecolor\": \"white\", \"minorgridcolor\": \"white\", \"startlinecolor\": \"#2a3f5f\"}, \"baxis\": {\"endlinecolor\": \"#2a3f5f\", \"gridcolor\": \"white\", \"linecolor\": \"white\", \"minorgridcolor\": \"white\", \"startlinecolor\": \"#2a3f5f\"}, \"type\": \"carpet\"}], \"choropleth\": [{\"colorbar\": {\"outlinewidth\": 0, \"ticks\": \"\"}, \"type\": \"choropleth\"}], \"contour\": [{\"colorbar\": {\"outlinewidth\": 0, \"ticks\": \"\"}, \"colorscale\": [[0.0, \"#0d0887\"], [0.1111111111111111, \"#46039f\"], [0.2222222222222222, \"#7201a8\"], [0.3333333333333333, \"#9c179e\"], [0.4444444444444444, \"#bd3786\"], [0.5555555555555556, \"#d8576b\"], [0.6666666666666666, \"#ed7953\"], [0.7777777777777778, \"#fb9f3a\"], [0.8888888888888888, \"#fdca26\"], [1.0, \"#f0f921\"]], \"type\": \"contour\"}], \"contourcarpet\": [{\"colorbar\": {\"outlinewidth\": 0, \"ticks\": \"\"}, \"type\": \"contourcarpet\"}], \"heatmap\": [{\"colorbar\": {\"outlinewidth\": 0, \"ticks\": \"\"}, \"colorscale\": [[0.0, \"#0d0887\"], [0.1111111111111111, \"#46039f\"], [0.2222222222222222, \"#7201a8\"], [0.3333333333333333, \"#9c179e\"], [0.4444444444444444, \"#bd3786\"], [0.5555555555555556, \"#d8576b\"], [0.6666666666666666, \"#ed7953\"], [0.7777777777777778, \"#fb9f3a\"], [0.8888888888888888, \"#fdca26\"], [1.0, \"#f0f921\"]], \"type\": \"heatmap\"}], \"heatmapgl\": [{\"colorbar\": {\"outlinewidth\": 0, \"ticks\": \"\"}, \"colorscale\": [[0.0, \"#0d0887\"], [0.1111111111111111, \"#46039f\"], [0.2222222222222222, \"#7201a8\"], [0.3333333333333333, \"#9c179e\"], [0.4444444444444444, \"#bd3786\"], [0.5555555555555556, \"#d8576b\"], [0.6666666666666666, \"#ed7953\"], [0.7777777777777778, \"#fb9f3a\"], [0.8888888888888888, \"#fdca26\"], [1.0, \"#f0f921\"]], \"type\": \"heatmapgl\"}], \"histogram\": [{\"marker\": {\"colorbar\": {\"outlinewidth\": 0, \"ticks\": \"\"}}, \"type\": \"histogram\"}], \"histogram2d\": [{\"colorbar\": {\"outlinewidth\": 0, \"ticks\": \"\"}, \"colorscale\": [[0.0, \"#0d0887\"], [0.1111111111111111, \"#46039f\"], [0.2222222222222222, \"#7201a8\"], [0.3333333333333333, \"#9c179e\"], [0.4444444444444444, \"#bd3786\"], [0.5555555555555556, \"#d8576b\"], [0.6666666666666666, \"#ed7953\"], [0.7777777777777778, \"#fb9f3a\"], [0.8888888888888888, \"#fdca26\"], [1.0, \"#f0f921\"]], \"type\": \"histogram2d\"}], \"histogram2dcontour\": [{\"colorbar\": {\"outlinewidth\": 0, \"ticks\": \"\"}, \"colorscale\": [[0.0, \"#0d0887\"], [0.1111111111111111, \"#46039f\"], [0.2222222222222222, \"#7201a8\"], [0.3333333333333333, \"#9c179e\"], [0.4444444444444444, \"#bd3786\"], [0.5555555555555556, \"#d8576b\"], [0.6666666666666666, \"#ed7953\"], [0.7777777777777778, \"#fb9f3a\"], [0.8888888888888888, \"#fdca26\"], [1.0, \"#f0f921\"]], \"type\": \"histogram2dcontour\"}], \"mesh3d\": [{\"colorbar\": {\"outlinewidth\": 0, \"ticks\": \"\"}, \"type\": \"mesh3d\"}], \"parcoords\": [{\"line\": {\"colorbar\": {\"outlinewidth\": 0, \"ticks\": \"\"}}, \"type\": \"parcoords\"}], \"scatter\": [{\"marker\": {\"colorbar\": {\"outlinewidth\": 0, \"ticks\": \"\"}}, \"type\": \"scatter\"}], \"scatter3d\": [{\"line\": {\"colorbar\": {\"outlinewidth\": 0, \"ticks\": \"\"}}, \"marker\": {\"colorbar\": {\"outlinewidth\": 0, \"ticks\": \"\"}}, \"type\": \"scatter3d\"}], \"scattercarpet\": [{\"marker\": {\"colorbar\": {\"outlinewidth\": 0, \"ticks\": \"\"}}, \"type\": \"scattercarpet\"}], \"scattergeo\": [{\"marker\": {\"colorbar\": {\"outlinewidth\": 0, \"ticks\": \"\"}}, \"type\": \"scattergeo\"}], \"scattergl\": [{\"marker\": {\"colorbar\": {\"outlinewidth\": 0, \"ticks\": \"\"}}, \"type\": \"scattergl\"}], \"scattermapbox\": [{\"marker\": {\"colorbar\": {\"outlinewidth\": 0, \"ticks\": \"\"}}, \"type\": \"scattermapbox\"}], \"scatterpolar\": [{\"marker\": {\"colorbar\": {\"outlinewidth\": 0, \"ticks\": \"\"}}, \"type\": \"scatterpolar\"}], \"scatterpolargl\": [{\"marker\": {\"colorbar\": {\"outlinewidth\": 0, \"ticks\": \"\"}}, \"type\": \"scatterpolargl\"}], \"scatterternary\": [{\"marker\": {\"colorbar\": {\"outlinewidth\": 0, \"ticks\": \"\"}}, \"type\": \"scatterternary\"}], \"surface\": [{\"colorbar\": {\"outlinewidth\": 0, \"ticks\": \"\"}, \"colorscale\": [[0.0, \"#0d0887\"], [0.1111111111111111, \"#46039f\"], [0.2222222222222222, \"#7201a8\"], [0.3333333333333333, \"#9c179e\"], [0.4444444444444444, \"#bd3786\"], [0.5555555555555556, \"#d8576b\"], [0.6666666666666666, \"#ed7953\"], [0.7777777777777778, \"#fb9f3a\"], [0.8888888888888888, \"#fdca26\"], [1.0, \"#f0f921\"]], \"type\": \"surface\"}], \"table\": [{\"cells\": {\"fill\": {\"color\": \"#EBF0F8\"}, \"line\": {\"color\": \"white\"}}, \"header\": {\"fill\": {\"color\": \"#C8D4E3\"}, \"line\": {\"color\": \"white\"}}, \"type\": \"table\"}]}, \"layout\": {\"annotationdefaults\": {\"arrowcolor\": \"#2a3f5f\", \"arrowhead\": 0, \"arrowwidth\": 1}, \"colorscale\": {\"diverging\": [[0, \"#8e0152\"], [0.1, \"#c51b7d\"], [0.2, \"#de77ae\"], [0.3, \"#f1b6da\"], [0.4, \"#fde0ef\"], [0.5, \"#f7f7f7\"], [0.6, \"#e6f5d0\"], [0.7, \"#b8e186\"], [0.8, \"#7fbc41\"], [0.9, \"#4d9221\"], [1, \"#276419\"]], \"sequential\": [[0.0, \"#0d0887\"], [0.1111111111111111, \"#46039f\"], [0.2222222222222222, \"#7201a8\"], [0.3333333333333333, \"#9c179e\"], [0.4444444444444444, \"#bd3786\"], [0.5555555555555556, \"#d8576b\"], [0.6666666666666666, \"#ed7953\"], [0.7777777777777778, \"#fb9f3a\"], [0.8888888888888888, \"#fdca26\"], [1.0, \"#f0f921\"]], \"sequentialminus\": [[0.0, \"#0d0887\"], [0.1111111111111111, \"#46039f\"], [0.2222222222222222, \"#7201a8\"], [0.3333333333333333, \"#9c179e\"], [0.4444444444444444, \"#bd3786\"], [0.5555555555555556, \"#d8576b\"], [0.6666666666666666, \"#ed7953\"], [0.7777777777777778, \"#fb9f3a\"], [0.8888888888888888, \"#fdca26\"], [1.0, \"#f0f921\"]]}, \"colorway\": [\"#636efa\", \"#EF553B\", \"#00cc96\", \"#ab63fa\", \"#FFA15A\", \"#19d3f3\", \"#FF6692\", \"#B6E880\", \"#FF97FF\", \"#FECB52\"], \"font\": {\"color\": \"#2a3f5f\"}, \"geo\": {\"bgcolor\": \"white\", \"lakecolor\": \"white\", \"landcolor\": \"#E5ECF6\", \"showlakes\": true, \"showland\": true, \"subunitcolor\": \"white\"}, \"hoverlabel\": {\"align\": \"left\"}, \"hovermode\": \"closest\", \"mapbox\": {\"style\": \"light\"}, \"paper_bgcolor\": \"white\", \"plot_bgcolor\": \"#E5ECF6\", \"polar\": {\"angularaxis\": {\"gridcolor\": \"white\", \"linecolor\": \"white\", \"ticks\": \"\"}, \"bgcolor\": \"#E5ECF6\", \"radialaxis\": {\"gridcolor\": \"white\", \"linecolor\": \"white\", \"ticks\": \"\"}}, \"scene\": {\"xaxis\": {\"backgroundcolor\": \"#E5ECF6\", \"gridcolor\": \"white\", \"gridwidth\": 2, \"linecolor\": \"white\", \"showbackground\": true, \"ticks\": \"\", \"zerolinecolor\": \"white\"}, \"yaxis\": {\"backgroundcolor\": \"#E5ECF6\", \"gridcolor\": \"white\", \"gridwidth\": 2, \"linecolor\": \"white\", \"showbackground\": true, \"ticks\": \"\", \"zerolinecolor\": \"white\"}, \"zaxis\": {\"backgroundcolor\": \"#E5ECF6\", \"gridcolor\": \"white\", \"gridwidth\": 2, \"linecolor\": \"white\", \"showbackground\": true, \"ticks\": \"\", \"zerolinecolor\": \"white\"}}, \"shapedefaults\": {\"line\": {\"color\": \"#2a3f5f\"}}, \"ternary\": {\"aaxis\": {\"gridcolor\": \"white\", \"linecolor\": \"white\", \"ticks\": \"\"}, \"baxis\": {\"gridcolor\": \"white\", \"linecolor\": \"white\", \"ticks\": \"\"}, \"bgcolor\": \"#E5ECF6\", \"caxis\": {\"gridcolor\": \"white\", \"linecolor\": \"white\", \"ticks\": \"\"}}, \"title\": {\"x\": 0.05}, \"xaxis\": {\"automargin\": true, \"gridcolor\": \"white\", \"linecolor\": \"white\", \"ticks\": \"\", \"zerolinecolor\": \"white\", \"zerolinewidth\": 2}, \"yaxis\": {\"automargin\": true, \"gridcolor\": \"white\", \"linecolor\": \"white\", \"ticks\": \"\", \"zerolinecolor\": \"white\", \"zerolinewidth\": 2}}}, \"width\": 750, \"xaxis\": {\"anchor\": \"y\", \"domain\": [0.0, 1.0]}, \"xaxis2\": {\"anchor\": \"y2\", \"domain\": [0.0, 1.0]}, \"xaxis3\": {\"anchor\": \"y3\", \"domain\": [0.0, 1.0]}, \"yaxis\": {\"anchor\": \"x\", \"domain\": [0.7777777777777778, 1.0]}, \"yaxis2\": {\"anchor\": \"x2\", \"domain\": [0.3888888888888889, 0.6111111111111112]}, \"yaxis3\": {\"anchor\": \"x3\", \"domain\": [0.0, 0.22222222222222224]}},\n",
       "                        {\"responsive\": true}\n",
       "                    ).then(function(){\n",
       "                            \n",
       "var gd = document.getElementById('30a53898-554e-43fa-99b1-87ea3f4806f6');\n",
       "var x = new MutationObserver(function (mutations, observer) {{\n",
       "        var display = window.getComputedStyle(gd).display;\n",
       "        if (!display || display === 'none') {{\n",
       "            console.log([gd, 'removed!']);\n",
       "            Plotly.purge(gd);\n",
       "            observer.disconnect();\n",
       "        }}\n",
       "}});\n",
       "\n",
       "// Listen for the removal of the full notebook cells\n",
       "var notebookContainer = gd.closest('#notebook-container');\n",
       "if (notebookContainer) {{\n",
       "    x.observe(notebookContainer, {childList: true});\n",
       "}}\n",
       "\n",
       "// Listen for the clearing of the current output cell\n",
       "var outputEl = gd.closest('.output');\n",
       "if (outputEl) {{\n",
       "    x.observe(outputEl, {childList: true});\n",
       "}}\n",
       "\n",
       "                        })\n",
       "                };\n",
       "                });\n",
       "            </script>\n",
       "        </div>"
      ]
     },
     "metadata": {},
     "output_type": "display_data"
    }
   ],
   "source": [
    "# Other data\n",
    "trace_btc = go.Scatter(x = df_bitstamp_m.index,\n",
    "                   y = df_bitstamp_w['Volume_(BTC)'],\n",
    "                   mode = \"lines\",\n",
    "                   name = \"Volume_(BTC)\",\n",
    "                   marker = dict(color = 'rgba(235, 115, 150, 0.8)')\n",
    "                       )\n",
    "trace_currency = go.Scatter(x = df_bitstamp_m.index,\n",
    "                   y = df_bitstamp_m['Volume_(Currency)'],\n",
    "                   mode = \"lines\",\n",
    "                   name = \"Volume_(Currency)\",\n",
    "                   marker = dict(color = 'rgba(115, 120, 235, 0.8)')\n",
    "                       )\n",
    "trace_weighted_price = go.Scatter(x = df_bitstamp_m.index,\n",
    "                   y = df_bitstamp_m['Weighted_Price'],\n",
    "                   mode = \"lines\",\n",
    "                   name = \"Weighted_Price\",\n",
    "                   marker = dict(color = 'rgba(245, 170, 60, 0.8)')\n",
    "                       )\n",
    "\n",
    "fig = subplots.make_subplots(rows=3, cols=1,\n",
    "                             subplot_titles=(\"Volume_(BTC)\",\"Volume_(Currency)\", \"Weighted_Price\"))\n",
    "\n",
    "fig.append_trace(trace_btc, 1, 1)\n",
    "fig.append_trace(trace_currency, 2, 1)\n",
    "fig.append_trace(trace_weighted_price, 3, 1)\n",
    "\n",
    "fig['layout'].update(height=650, width=750, showlegend=False)\n",
    "\n",
    "iplot(fig);"
   ]
  },
  {
   "cell_type": "markdown",
   "metadata": {},
   "source": [
    "### Seasonal Trend Decomposition"
   ]
  },
  {
   "cell_type": "code",
   "execution_count": 18,
   "metadata": {
    "scrolled": false
   },
   "outputs": [
    {
     "data": {
      "text/plain": [
       "<Figure size 1224x864 with 0 Axes>"
      ]
     },
     "metadata": {},
     "output_type": "display_data"
    },
    {
     "data": {
      "image/png": "[encoded data removed]",
      "text/plain": [
       "<Figure size 432x288 with 4 Axes>"
      ]
     },
     "metadata": {
      "needs_background": "light"
     },
     "output_type": "display_data"
    }
   ],
   "source": [
    "# define seasonal trend decomposition\n",
    "from statsmodels.tsa.seasonal import seasonal_decompose\n",
    "\n",
    "def decompose(series):\n",
    "    plt.figure(figsize = (17,12))\n",
    "    seasonal_decompose(series).plot()\n",
    "    plt.show()\n",
    "\n",
    "decompose(df_bitstamp_m.Weighted_Price)"
   ]
  },
  {
   "cell_type": "markdown",
   "metadata": {},
   "source": [
    "### Price prediction"
   ]
  },
  {
   "cell_type": "code",
   "execution_count": 19,
   "metadata": {},
   "outputs": [],
   "source": [
    "# change timeseries to daily\n",
    "df_bitstamp = df_bitstamp.resample('D').mean()\n",
    "df_bitstamp = df_bitstamp.reset_index()"
   ]
  },
  {
   "cell_type": "code",
   "execution_count": 20,
   "metadata": {
    "scrolled": true
   },
   "outputs": [
    {
     "data": {
      "text/html": [
       "<div>\n",
       "<style scoped>\n",
       "    .dataframe tbody tr th:only-of-type {\n",
       "        vertical-align: middle;\n",
       "    }\n",
       "\n",
       "    .dataframe tbody tr th {\n",
       "        vertical-align: top;\n",
       "    }\n",
       "\n",
       "    .dataframe thead th {\n",
       "        text-align: right;\n",
       "    }\n",
       "</style>\n",
       "<table border=\"1\" class=\"dataframe\">\n",
       "  <thead>\n",
       "    <tr style=\"text-align: right;\">\n",
       "      <th></th>\n",
       "      <th>Timestamp</th>\n",
       "      <th>Open</th>\n",
       "      <th>High</th>\n",
       "      <th>Low</th>\n",
       "      <th>Close</th>\n",
       "      <th>Volume_(BTC)</th>\n",
       "      <th>Volume_(Currency)</th>\n",
       "      <th>Weighted_Price</th>\n",
       "      <th>day_diff</th>\n",
       "    </tr>\n",
       "  </thead>\n",
       "  <tbody>\n",
       "    <tr>\n",
       "      <th>0</th>\n",
       "      <td>2011-12-31</td>\n",
       "      <td>4.472552</td>\n",
       "      <td>4.472624</td>\n",
       "      <td>4.472552</td>\n",
       "      <td>4.472624</td>\n",
       "      <td>7.590527</td>\n",
       "      <td>34.069690</td>\n",
       "      <td>4.472579</td>\n",
       "      <td>0.000016</td>\n",
       "    </tr>\n",
       "    <tr>\n",
       "      <th>1</th>\n",
       "      <td>2012-01-01</td>\n",
       "      <td>4.680778</td>\n",
       "      <td>4.680778</td>\n",
       "      <td>4.680778</td>\n",
       "      <td>4.680778</td>\n",
       "      <td>5.861697</td>\n",
       "      <td>27.856539</td>\n",
       "      <td>4.680778</td>\n",
       "      <td>0.000000</td>\n",
       "    </tr>\n",
       "    <tr>\n",
       "      <th>2</th>\n",
       "      <td>2012-01-02</td>\n",
       "      <td>5.000000</td>\n",
       "      <td>5.000000</td>\n",
       "      <td>5.000000</td>\n",
       "      <td>5.000000</td>\n",
       "      <td>11.566478</td>\n",
       "      <td>57.832389</td>\n",
       "      <td>5.000000</td>\n",
       "      <td>0.000000</td>\n",
       "    </tr>\n",
       "    <tr>\n",
       "      <th>3</th>\n",
       "      <td>2012-01-03</td>\n",
       "      <td>5.145917</td>\n",
       "      <td>5.145917</td>\n",
       "      <td>5.145917</td>\n",
       "      <td>5.145917</td>\n",
       "      <td>13.506125</td>\n",
       "      <td>68.725391</td>\n",
       "      <td>5.145917</td>\n",
       "      <td>0.000000</td>\n",
       "    </tr>\n",
       "    <tr>\n",
       "      <th>4</th>\n",
       "      <td>2012-01-04</td>\n",
       "      <td>5.176708</td>\n",
       "      <td>5.228729</td>\n",
       "      <td>5.176708</td>\n",
       "      <td>5.228729</td>\n",
       "      <td>17.221039</td>\n",
       "      <td>91.624089</td>\n",
       "      <td>5.195443</td>\n",
       "      <td>0.010049</td>\n",
       "    </tr>\n",
       "  </tbody>\n",
       "</table>\n",
       "</div>"
      ],
      "text/plain": [
       "   Timestamp      Open      High       Low     Close  Volume_(BTC)  \\\n",
       "0 2011-12-31  4.472552  4.472624  4.472552  4.472624      7.590527   \n",
       "1 2012-01-01  4.680778  4.680778  4.680778  4.680778      5.861697   \n",
       "2 2012-01-02  5.000000  5.000000  5.000000  5.000000     11.566478   \n",
       "3 2012-01-03  5.145917  5.145917  5.145917  5.145917     13.506125   \n",
       "4 2012-01-04  5.176708  5.228729  5.176708  5.228729     17.221039   \n",
       "\n",
       "   Volume_(Currency)  Weighted_Price  day_diff  \n",
       "0          34.069690        4.472579  0.000016  \n",
       "1          27.856539        4.680778  0.000000  \n",
       "2          57.832389        5.000000  0.000000  \n",
       "3          68.725391        5.145917  0.000000  \n",
       "4          91.624089        5.195443  0.010049  "
      ]
     },
     "execution_count": 20,
     "metadata": {},
     "output_type": "execute_result"
    }
   ],
   "source": [
    "# add a value day_diff to df_bitstamp *day_diff = (close price - open price) / open price\n",
    "kwargs = { 'day_diff': lambda x: (x['Close']-x['Open'])/x['Open']}\n",
    "df_bitstamp = df_bitstamp.assign(**kwargs)\n",
    "df_bitstamp.head()"
   ]
  },
  {
   "cell_type": "markdown",
   "metadata": {},
   "source": [
    "Stock prices are commonly treated as random walks, which can be defined in these mathematical terms:\n",
    "$$\\begin{align}\n",
    "PredPrice_{t} &amp; = ActualPrice_{t-1} * \\epsilon, \\epsilon \\sim N(\\mu, \\sigma)\n",
    "\\end{align}$$\n",
    "We'll determine μ and σ from the training sets and apply the random walk model to the Bitcoin test sets.\n",
    "<br>Data that follows random walks should be normally distributed. Therefore, first, to make sure the daily change in price follows a normal distribution, We'll plot the histogram of values."
   ]
  },
  {
   "cell_type": "code",
   "execution_count": 21,
   "metadata": {},
   "outputs": [
    {
     "data": {
      "image/png": "[encoded data removed]",
      "text/plain": [
       "<Figure size 432x288 with 1 Axes>"
      ]
     },
     "metadata": {
      "needs_background": "light"
     },
     "output_type": "display_data"
    }
   ],
   "source": [
    "# We'll set a split date between train and test set to 2017-06-01\n",
    "split_date = '2017-06-01'\n",
    "\n",
    "fig, ax1 = plt.subplots(1,1)\n",
    "ax1.hist(df_bitstamp['day_diff'].values, bins=300)\n",
    "ax1.set_xlim([-0.002, 0.002])\n",
    "ax1.set_title('Bitcoin Daily Price Changes')\n",
    "plt.show()"
   ]
  },
  {
   "cell_type": "code",
   "execution_count": 22,
   "metadata": {
    "scrolled": true
   },
   "outputs": [
    {
     "data": {
      "application/vnd.plotly.v1+json": {
       "config": {
        "linkText": "Export to plot.ly",
        "plotlyServerURL": "https://plot.ly",
        "showLink": false
       },
       "data": [
        {
         "marker": {
          "color": "rgba(235, 115, 150, 0.5)"
         },
         "mode": "lines",
         "name": "Actual",
         "type": "scatter",
         "x": [
          "2017-06-01T00:00:00",
          "2017-06-02T00:00:00",
          "2017-06-03T00:00:00",
          "2017-06-04T00:00:00",
          "2017-06-05T00:00:00",
          "2017-06-06T00:00:00",
          "2017-06-07T00:00:00",
          "2017-06-08T00:00:00",
          "2017-06-09T00:00:00",
          "2017-06-10T00:00:00",
          "2017-06-11T00:00:00",
          "2017-06-12T00:00:00",
          "2017-06-13T00:00:00",
          "2017-06-14T00:00:00",
          "2017-06-15T00:00:00",
          "2017-06-16T00:00:00",
          "2017-06-17T00:00:00",
          "2017-06-18T00:00:00",
          "2017-06-19T00:00:00",
          "2017-06-20T00:00:00",
          "2017-06-21T00:00:00",
          "2017-06-22T00:00:00",
          "2017-06-23T00:00:00",
          "2017-06-24T00:00:00",
          "2017-06-25T00:00:00",
          "2017-06-26T00:00:00",
          "2017-06-27T00:00:00",
          "2017-06-28T00:00:00",
          "2017-06-29T00:00:00",
          "2017-06-30T00:00:00",
          "2017-07-01T00:00:00",
          "2017-07-02T00:00:00",
          "2017-07-03T00:00:00",
          "2017-07-04T00:00:00",
          "2017-07-05T00:00:00",
          "2017-07-06T00:00:00",
          "2017-07-07T00:00:00",
          "2017-07-08T00:00:00",
          "2017-07-09T00:00:00",
          "2017-07-10T00:00:00",
          "2017-07-11T00:00:00",
          "2017-07-12T00:00:00",
          "2017-07-13T00:00:00",
          "2017-07-14T00:00:00",
          "2017-07-15T00:00:00",
          "2017-07-16T00:00:00",
          "2017-07-17T00:00:00",
          "2017-07-18T00:00:00",
          "2017-07-19T00:00:00",
          "2017-07-20T00:00:00",
          "2017-07-21T00:00:00",
          "2017-07-22T00:00:00",
          "2017-07-23T00:00:00",
          "2017-07-24T00:00:00",
          "2017-07-25T00:00:00",
          "2017-07-26T00:00:00",
          "2017-07-27T00:00:00",
          "2017-07-28T00:00:00",
          "2017-07-29T00:00:00",
          "2017-07-30T00:00:00",
          "2017-07-31T00:00:00",
          "2017-08-01T00:00:00",
          "2017-08-02T00:00:00",
          "2017-08-03T00:00:00",
          "2017-08-04T00:00:00",
          "2017-08-05T00:00:00",
          "2017-08-06T00:00:00",
          "2017-08-07T00:00:00",
          "2017-08-08T00:00:00",
          "2017-08-09T00:00:00",
          "2017-08-10T00:00:00",
          "2017-08-11T00:00:00",
          "2017-08-12T00:00:00",
          "2017-08-13T00:00:00",
          "2017-08-14T00:00:00",
          "2017-08-15T00:00:00",
          "2017-08-16T00:00:00",
          "2017-08-17T00:00:00",
          "2017-08-18T00:00:00",
          "2017-08-19T00:00:00",
          "2017-08-20T00:00:00",
          "2017-08-21T00:00:00",
          "2017-08-22T00:00:00",
          "2017-08-23T00:00:00",
          "2017-08-24T00:00:00",
          "2017-08-25T00:00:00",
          "2017-08-26T00:00:00",
          "2017-08-27T00:00:00",
          "2017-08-28T00:00:00",
          "2017-08-29T00:00:00",
          "2017-08-30T00:00:00",
          "2017-08-31T00:00:00",
          "2017-09-01T00:00:00",
          "2017-09-02T00:00:00",
          "2017-09-03T00:00:00",
          "2017-09-04T00:00:00",
          "2017-09-05T00:00:00",
          "2017-09-06T00:00:00",
          "2017-09-07T00:00:00",
          "2017-09-08T00:00:00",
          "2017-09-09T00:00:00",
          "2017-09-10T00:00:00",
          "2017-09-11T00:00:00",
          "2017-09-12T00:00:00",
          "2017-09-13T00:00:00",
          "2017-09-14T00:00:00",
          "2017-09-15T00:00:00",
          "2017-09-16T00:00:00",
          "2017-09-17T00:00:00",
          "2017-09-18T00:00:00",
          "2017-09-19T00:00:00",
          "2017-09-20T00:00:00",
          "2017-09-21T00:00:00",
          "2017-09-22T00:00:00",
          "2017-09-23T00:00:00",
          "2017-09-24T00:00:00",
          "2017-09-25T00:00:00",
          "2017-09-26T00:00:00",
          "2017-09-27T00:00:00",
          "2017-09-28T00:00:00",
          "2017-09-29T00:00:00",
          "2017-09-30T00:00:00",
          "2017-10-01T00:00:00",
          "2017-10-02T00:00:00",
          "2017-10-03T00:00:00",
          "2017-10-04T00:00:00",
          "2017-10-05T00:00:00",
          "2017-10-06T00:00:00",
          "2017-10-07T00:00:00",
          "2017-10-08T00:00:00",
          "2017-10-09T00:00:00",
          "2017-10-10T00:00:00",
          "2017-10-11T00:00:00",
          "2017-10-12T00:00:00",
          "2017-10-13T00:00:00",
          "2017-10-14T00:00:00",
          "2017-10-15T00:00:00",
          "2017-10-16T00:00:00",
          "2017-10-17T00:00:00",
          "2017-10-18T00:00:00",
          "2017-10-19T00:00:00",
          "2017-10-20T00:00:00",
          "2017-10-21T00:00:00",
          "2017-10-22T00:00:00",
          "2017-10-23T00:00:00",
          "2017-10-24T00:00:00",
          "2017-10-25T00:00:00",
          "2017-10-26T00:00:00",
          "2017-10-27T00:00:00",
          "2017-10-28T00:00:00",
          "2017-10-29T00:00:00",
          "2017-10-30T00:00:00",
          "2017-10-31T00:00:00",
          "2017-11-01T00:00:00",
          "2017-11-02T00:00:00",
          "2017-11-03T00:00:00",
          "2017-11-04T00:00:00",
          "2017-11-05T00:00:00",
          "2017-11-06T00:00:00",
          "2017-11-07T00:00:00",
          "2017-11-08T00:00:00",
          "2017-11-09T00:00:00",
          "2017-11-10T00:00:00",
          "2017-11-11T00:00:00",
          "2017-11-12T00:00:00",
          "2017-11-13T00:00:00",
          "2017-11-14T00:00:00",
          "2017-11-15T00:00:00",
          "2017-11-16T00:00:00",
          "2017-11-17T00:00:00",
          "2017-11-18T00:00:00",
          "2017-11-19T00:00:00",
          "2017-11-20T00:00:00",
          "2017-11-21T00:00:00",
          "2017-11-22T00:00:00",
          "2017-11-23T00:00:00",
          "2017-11-24T00:00:00",
          "2017-11-25T00:00:00",
          "2017-11-26T00:00:00",
          "2017-11-27T00:00:00",
          "2017-11-28T00:00:00",
          "2017-11-29T00:00:00",
          "2017-11-30T00:00:00",
          "2017-12-01T00:00:00",
          "2017-12-02T00:00:00",
          "2017-12-03T00:00:00",
          "2017-12-04T00:00:00",
          "2017-12-05T00:00:00",
          "2017-12-06T00:00:00",
          "2017-12-07T00:00:00",
          "2017-12-08T00:00:00",
          "2017-12-09T00:00:00",
          "2017-12-10T00:00:00",
          "2017-12-11T00:00:00",
          "2017-12-12T00:00:00",
          "2017-12-13T00:00:00",
          "2017-12-14T00:00:00",
          "2017-12-15T00:00:00",
          "2017-12-16T00:00:00",
          "2017-12-17T00:00:00",
          "2017-12-18T00:00:00",
          "2017-12-19T00:00:00",
          "2017-12-20T00:00:00",
          "2017-12-21T00:00:00",
          "2017-12-22T00:00:00",
          "2017-12-23T00:00:00",
          "2017-12-24T00:00:00",
          "2017-12-25T00:00:00",
          "2017-12-26T00:00:00",
          "2017-12-27T00:00:00",
          "2017-12-28T00:00:00",
          "2017-12-29T00:00:00",
          "2017-12-30T00:00:00",
          "2017-12-31T00:00:00",
          "2018-01-01T00:00:00",
          "2018-01-02T00:00:00",
          "2018-01-03T00:00:00",
          "2018-01-04T00:00:00",
          "2018-01-05T00:00:00",
          "2018-01-06T00:00:00",
          "2018-01-07T00:00:00",
          "2018-01-08T00:00:00",
          "2018-01-09T00:00:00",
          "2018-01-10T00:00:00",
          "2018-01-11T00:00:00",
          "2018-01-12T00:00:00",
          "2018-01-13T00:00:00",
          "2018-01-14T00:00:00",
          "2018-01-15T00:00:00",
          "2018-01-16T00:00:00",
          "2018-01-17T00:00:00",
          "2018-01-18T00:00:00",
          "2018-01-19T00:00:00",
          "2018-01-20T00:00:00",
          "2018-01-21T00:00:00",
          "2018-01-22T00:00:00",
          "2018-01-23T00:00:00",
          "2018-01-24T00:00:00",
          "2018-01-25T00:00:00",
          "2018-01-26T00:00:00",
          "2018-01-27T00:00:00",
          "2018-01-28T00:00:00",
          "2018-01-29T00:00:00",
          "2018-01-30T00:00:00",
          "2018-01-31T00:00:00",
          "2018-02-01T00:00:00",
          "2018-02-02T00:00:00",
          "2018-02-03T00:00:00",
          "2018-02-04T00:00:00",
          "2018-02-05T00:00:00",
          "2018-02-06T00:00:00",
          "2018-02-07T00:00:00",
          "2018-02-08T00:00:00",
          "2018-02-09T00:00:00",
          "2018-02-10T00:00:00",
          "2018-02-11T00:00:00",
          "2018-02-12T00:00:00",
          "2018-02-13T00:00:00",
          "2018-02-14T00:00:00",
          "2018-02-15T00:00:00",
          "2018-02-16T00:00:00",
          "2018-02-17T00:00:00",
          "2018-02-18T00:00:00",
          "2018-02-19T00:00:00",
          "2018-02-20T00:00:00",
          "2018-02-21T00:00:00",
          "2018-02-22T00:00:00",
          "2018-02-23T00:00:00",
          "2018-02-24T00:00:00",
          "2018-02-25T00:00:00",
          "2018-02-26T00:00:00",
          "2018-02-27T00:00:00",
          "2018-02-28T00:00:00",
          "2018-03-01T00:00:00",
          "2018-03-02T00:00:00",
          "2018-03-03T00:00:00",
          "2018-03-04T00:00:00",
          "2018-03-05T00:00:00",
          "2018-03-06T00:00:00",
          "2018-03-07T00:00:00",
          "2018-03-08T00:00:00",
          "2018-03-09T00:00:00",
          "2018-03-10T00:00:00",
          "2018-03-11T00:00:00",
          "2018-03-12T00:00:00",
          "2018-03-13T00:00:00",
          "2018-03-14T00:00:00",
          "2018-03-15T00:00:00",
          "2018-03-16T00:00:00",
          "2018-03-17T00:00:00",
          "2018-03-18T00:00:00",
          "2018-03-19T00:00:00",
          "2018-03-20T00:00:00",
          "2018-03-21T00:00:00",
          "2018-03-22T00:00:00",
          "2018-03-23T00:00:00",
          "2018-03-24T00:00:00",
          "2018-03-25T00:00:00",
          "2018-03-26T00:00:00",
          "2018-03-27T00:00:00",
          "2018-03-28T00:00:00",
          "2018-03-29T00:00:00",
          "2018-03-30T00:00:00",
          "2018-03-31T00:00:00",
          "2018-04-01T00:00:00",
          "2018-04-02T00:00:00",
          "2018-04-03T00:00:00",
          "2018-04-04T00:00:00",
          "2018-04-05T00:00:00",
          "2018-04-06T00:00:00",
          "2018-04-07T00:00:00",
          "2018-04-08T00:00:00",
          "2018-04-09T00:00:00",
          "2018-04-10T00:00:00",
          "2018-04-11T00:00:00",
          "2018-04-12T00:00:00",
          "2018-04-13T00:00:00",
          "2018-04-14T00:00:00",
          "2018-04-15T00:00:00",
          "2018-04-16T00:00:00",
          "2018-04-17T00:00:00",
          "2018-04-18T00:00:00",
          "2018-04-19T00:00:00",
          "2018-04-20T00:00:00",
          "2018-04-21T00:00:00",
          "2018-04-22T00:00:00",
          "2018-04-23T00:00:00",
          "2018-04-24T00:00:00",
          "2018-04-25T00:00:00",
          "2018-04-26T00:00:00",
          "2018-04-27T00:00:00",
          "2018-04-28T00:00:00",
          "2018-04-29T00:00:00",
          "2018-04-30T00:00:00",
          "2018-05-01T00:00:00",
          "2018-05-02T00:00:00",
          "2018-05-03T00:00:00",
          "2018-05-04T00:00:00",
          "2018-05-05T00:00:00",
          "2018-05-06T00:00:00",
          "2018-05-07T00:00:00",
          "2018-05-08T00:00:00",
          "2018-05-09T00:00:00",
          "2018-05-10T00:00:00",
          "2018-05-11T00:00:00",
          "2018-05-12T00:00:00",
          "2018-05-13T00:00:00",
          "2018-05-14T00:00:00",
          "2018-05-15T00:00:00",
          "2018-05-16T00:00:00",
          "2018-05-17T00:00:00",
          "2018-05-18T00:00:00",
          "2018-05-19T00:00:00",
          "2018-05-20T00:00:00",
          "2018-05-21T00:00:00",
          "2018-05-22T00:00:00",
          "2018-05-23T00:00:00",
          "2018-05-24T00:00:00",
          "2018-05-25T00:00:00",
          "2018-05-26T00:00:00",
          "2018-05-27T00:00:00",
          "2018-05-28T00:00:00",
          "2018-05-29T00:00:00",
          "2018-05-30T00:00:00",
          "2018-05-31T00:00:00",
          "2018-06-01T00:00:00",
          "2018-06-02T00:00:00",
          "2018-06-03T00:00:00",
          "2018-06-04T00:00:00",
          "2018-06-05T00:00:00",
          "2018-06-06T00:00:00",
          "2018-06-07T00:00:00",
          "2018-06-08T00:00:00",
          "2018-06-09T00:00:00",
          "2018-06-10T00:00:00",
          "2018-06-11T00:00:00",
          "2018-06-12T00:00:00",
          "2018-06-13T00:00:00",
          "2018-06-14T00:00:00",
          "2018-06-15T00:00:00",
          "2018-06-16T00:00:00",
          "2018-06-17T00:00:00",
          "2018-06-18T00:00:00",
          "2018-06-19T00:00:00",
          "2018-06-20T00:00:00",
          "2018-06-21T00:00:00",
          "2018-06-22T00:00:00",
          "2018-06-23T00:00:00",
          "2018-06-24T00:00:00",
          "2018-06-25T00:00:00",
          "2018-06-26T00:00:00",
          "2018-06-27T00:00:00",
          "2018-06-28T00:00:00",
          "2018-06-29T00:00:00",
          "2018-06-30T00:00:00",
          "2018-07-01T00:00:00",
          "2018-07-02T00:00:00",
          "2018-07-03T00:00:00",
          "2018-07-04T00:00:00",
          "2018-07-05T00:00:00",
          "2018-07-06T00:00:00",
          "2018-07-07T00:00:00",
          "2018-07-08T00:00:00",
          "2018-07-09T00:00:00",
          "2018-07-10T00:00:00",
          "2018-07-11T00:00:00",
          "2018-07-12T00:00:00",
          "2018-07-13T00:00:00",
          "2018-07-14T00:00:00",
          "2018-07-15T00:00:00",
          "2018-07-16T00:00:00",
          "2018-07-17T00:00:00",
          "2018-07-18T00:00:00",
          "2018-07-19T00:00:00",
          "2018-07-20T00:00:00",
          "2018-07-21T00:00:00",
          "2018-07-22T00:00:00",
          "2018-07-23T00:00:00",
          "2018-07-24T00:00:00",
          "2018-07-25T00:00:00",
          "2018-07-26T00:00:00",
          "2018-07-27T00:00:00",
          "2018-07-28T00:00:00",
          "2018-07-29T00:00:00",
          "2018-07-30T00:00:00",
          "2018-07-31T00:00:00",
          "2018-08-01T00:00:00",
          "2018-08-02T00:00:00",
          "2018-08-03T00:00:00",
          "2018-08-04T00:00:00",
          "2018-08-05T00:00:00",
          "2018-08-06T00:00:00",
          "2018-08-07T00:00:00",
          "2018-08-08T00:00:00",
          "2018-08-09T00:00:00",
          "2018-08-10T00:00:00",
          "2018-08-11T00:00:00",
          "2018-08-12T00:00:00",
          "2018-08-13T00:00:00",
          "2018-08-14T00:00:00",
          "2018-08-15T00:00:00",
          "2018-08-16T00:00:00",
          "2018-08-17T00:00:00",
          "2018-08-18T00:00:00",
          "2018-08-19T00:00:00",
          "2018-08-20T00:00:00",
          "2018-08-21T00:00:00",
          "2018-08-22T00:00:00",
          "2018-08-23T00:00:00",
          "2018-08-24T00:00:00",
          "2018-08-25T00:00:00",
          "2018-08-26T00:00:00",
          "2018-08-27T00:00:00",
          "2018-08-28T00:00:00",
          "2018-08-29T00:00:00",
          "2018-08-30T00:00:00",
          "2018-08-31T00:00:00",
          "2018-09-01T00:00:00",
          "2018-09-02T00:00:00",
          "2018-09-03T00:00:00",
          "2018-09-04T00:00:00",
          "2018-09-05T00:00:00",
          "2018-09-06T00:00:00",
          "2018-09-07T00:00:00",
          "2018-09-08T00:00:00",
          "2018-09-09T00:00:00",
          "2018-09-10T00:00:00",
          "2018-09-11T00:00:00",
          "2018-09-12T00:00:00",
          "2018-09-13T00:00:00",
          "2018-09-14T00:00:00",
          "2018-09-15T00:00:00",
          "2018-09-16T00:00:00",
          "2018-09-17T00:00:00",
          "2018-09-18T00:00:00",
          "2018-09-19T00:00:00",
          "2018-09-20T00:00:00",
          "2018-09-21T00:00:00",
          "2018-09-22T00:00:00",
          "2018-09-23T00:00:00",
          "2018-09-24T00:00:00",
          "2018-09-25T00:00:00",
          "2018-09-26T00:00:00",
          "2018-09-27T00:00:00",
          "2018-09-28T00:00:00",
          "2018-09-29T00:00:00",
          "2018-09-30T00:00:00",
          "2018-10-01T00:00:00",
          "2018-10-02T00:00:00",
          "2018-10-03T00:00:00",
          "2018-10-04T00:00:00",
          "2018-10-05T00:00:00",
          "2018-10-06T00:00:00",
          "2018-10-07T00:00:00",
          "2018-10-08T00:00:00",
          "2018-10-09T00:00:00",
          "2018-10-10T00:00:00",
          "2018-10-11T00:00:00",
          "2018-10-12T00:00:00",
          "2018-10-13T00:00:00",
          "2018-10-14T00:00:00",
          "2018-10-15T00:00:00",
          "2018-10-16T00:00:00",
          "2018-10-17T00:00:00",
          "2018-10-18T00:00:00",
          "2018-10-19T00:00:00",
          "2018-10-20T00:00:00",
          "2018-10-21T00:00:00",
          "2018-10-22T00:00:00",
          "2018-10-23T00:00:00",
          "2018-10-24T00:00:00",
          "2018-10-25T00:00:00",
          "2018-10-26T00:00:00",
          "2018-10-27T00:00:00",
          "2018-10-28T00:00:00",
          "2018-10-29T00:00:00",
          "2018-10-30T00:00:00",
          "2018-10-31T00:00:00",
          "2018-11-01T00:00:00",
          "2018-11-02T00:00:00",
          "2018-11-03T00:00:00",
          "2018-11-04T00:00:00",
          "2018-11-05T00:00:00",
          "2018-11-06T00:00:00",
          "2018-11-07T00:00:00",
          "2018-11-08T00:00:00",
          "2018-11-09T00:00:00",
          "2018-11-10T00:00:00",
          "2018-11-11T00:00:00",
          "2018-11-12T00:00:00",
          "2018-11-13T00:00:00",
          "2018-11-14T00:00:00",
          "2018-11-15T00:00:00",
          "2018-11-16T00:00:00",
          "2018-11-17T00:00:00",
          "2018-11-18T00:00:00",
          "2018-11-19T00:00:00",
          "2018-11-20T00:00:00",
          "2018-11-21T00:00:00",
          "2018-11-22T00:00:00",
          "2018-11-23T00:00:00",
          "2018-11-24T00:00:00",
          "2018-11-25T00:00:00",
          "2018-11-26T00:00:00",
          "2018-11-27T00:00:00",
          "2018-11-28T00:00:00",
          "2018-11-29T00:00:00",
          "2018-11-30T00:00:00",
          "2018-12-01T00:00:00",
          "2018-12-02T00:00:00",
          "2018-12-03T00:00:00",
          "2018-12-04T00:00:00",
          "2018-12-05T00:00:00",
          "2018-12-06T00:00:00",
          "2018-12-07T00:00:00",
          "2018-12-08T00:00:00",
          "2018-12-09T00:00:00",
          "2018-12-10T00:00:00",
          "2018-12-11T00:00:00",
          "2018-12-12T00:00:00",
          "2018-12-13T00:00:00",
          "2018-12-14T00:00:00",
          "2018-12-15T00:00:00",
          "2018-12-16T00:00:00",
          "2018-12-17T00:00:00",
          "2018-12-18T00:00:00",
          "2018-12-19T00:00:00",
          "2018-12-20T00:00:00",
          "2018-12-21T00:00:00",
          "2018-12-22T00:00:00",
          "2018-12-23T00:00:00",
          "2018-12-24T00:00:00",
          "2018-12-25T00:00:00",
          "2018-12-26T00:00:00",
          "2018-12-27T00:00:00",
          "2018-12-28T00:00:00",
          "2018-12-29T00:00:00",
          "2018-12-30T00:00:00",
          "2018-12-31T00:00:00",
          "2019-01-01T00:00:00",
          "2019-01-02T00:00:00",
          "2019-01-03T00:00:00",
          "2019-01-04T00:00:00",
          "2019-01-05T00:00:00",
          "2019-01-06T00:00:00",
          "2019-01-07T00:00:00",
          "2019-01-08T00:00:00",
          "2019-01-09T00:00:00",
          "2019-01-10T00:00:00",
          "2019-01-11T00:00:00",
          "2019-01-12T00:00:00",
          "2019-01-13T00:00:00",
          "2019-01-14T00:00:00",
          "2019-01-15T00:00:00",
          "2019-01-16T00:00:00",
          "2019-01-17T00:00:00",
          "2019-01-18T00:00:00",
          "2019-01-19T00:00:00",
          "2019-01-20T00:00:00",
          "2019-01-21T00:00:00",
          "2019-01-22T00:00:00",
          "2019-01-23T00:00:00",
          "2019-01-24T00:00:00",
          "2019-01-25T00:00:00",
          "2019-01-26T00:00:00",
          "2019-01-27T00:00:00",
          "2019-01-28T00:00:00",
          "2019-01-29T00:00:00",
          "2019-01-30T00:00:00",
          "2019-01-31T00:00:00",
          "2019-02-01T00:00:00",
          "2019-02-02T00:00:00",
          "2019-02-03T00:00:00",
          "2019-02-04T00:00:00",
          "2019-02-05T00:00:00",
          "2019-02-06T00:00:00",
          "2019-02-07T00:00:00",
          "2019-02-08T00:00:00",
          "2019-02-09T00:00:00",
          "2019-02-10T00:00:00",
          "2019-02-11T00:00:00",
          "2019-02-12T00:00:00",
          "2019-02-13T00:00:00",
          "2019-02-14T00:00:00",
          "2019-02-15T00:00:00",
          "2019-02-16T00:00:00",
          "2019-02-17T00:00:00",
          "2019-02-18T00:00:00",
          "2019-02-19T00:00:00",
          "2019-02-20T00:00:00",
          "2019-02-21T00:00:00",
          "2019-02-22T00:00:00",
          "2019-02-23T00:00:00",
          "2019-02-24T00:00:00",
          "2019-02-25T00:00:00",
          "2019-02-26T00:00:00",
          "2019-02-27T00:00:00",
          "2019-02-28T00:00:00",
          "2019-03-01T00:00:00",
          "2019-03-02T00:00:00",
          "2019-03-03T00:00:00",
          "2019-03-04T00:00:00",
          "2019-03-05T00:00:00",
          "2019-03-06T00:00:00",
          "2019-03-07T00:00:00",
          "2019-03-08T00:00:00",
          "2019-03-09T00:00:00",
          "2019-03-10T00:00:00",
          "2019-03-11T00:00:00",
          "2019-03-12T00:00:00",
          "2019-03-13T00:00:00",
          "2019-03-14T00:00:00",
          "2019-03-15T00:00:00",
          "2019-03-16T00:00:00",
          "2019-03-17T00:00:00",
          "2019-03-18T00:00:00",
          "2019-03-19T00:00:00",
          "2019-03-20T00:00:00",
          "2019-03-21T00:00:00",
          "2019-03-22T00:00:00",
          "2019-03-23T00:00:00",
          "2019-03-24T00:00:00",
          "2019-03-25T00:00:00",
          "2019-03-26T00:00:00",
          "2019-03-27T00:00:00",
          "2019-03-28T00:00:00",
          "2019-03-29T00:00:00",
          "2019-03-30T00:00:00",
          "2019-03-31T00:00:00",
          "2019-04-01T00:00:00",
          "2019-04-02T00:00:00",
          "2019-04-03T00:00:00",
          "2019-04-04T00:00:00",
          "2019-04-05T00:00:00",
          "2019-04-06T00:00:00",
          "2019-04-07T00:00:00",
          "2019-04-08T00:00:00",
          "2019-04-09T00:00:00",
          "2019-04-10T00:00:00",
          "2019-04-11T00:00:00",
          "2019-04-12T00:00:00",
          "2019-04-13T00:00:00",
          "2019-04-14T00:00:00",
          "2019-04-15T00:00:00",
          "2019-04-16T00:00:00",
          "2019-04-17T00:00:00",
          "2019-04-18T00:00:00",
          "2019-04-19T00:00:00",
          "2019-04-20T00:00:00",
          "2019-04-21T00:00:00",
          "2019-04-22T00:00:00",
          "2019-04-23T00:00:00",
          "2019-04-24T00:00:00",
          "2019-04-25T00:00:00",
          "2019-04-26T00:00:00",
          "2019-04-27T00:00:00",
          "2019-04-28T00:00:00",
          "2019-04-29T00:00:00",
          "2019-04-30T00:00:00",
          "2019-05-01T00:00:00",
          "2019-05-02T00:00:00",
          "2019-05-03T00:00:00",
          "2019-05-04T00:00:00",
          "2019-05-05T00:00:00",
          "2019-05-06T00:00:00",
          "2019-05-07T00:00:00",
          "2019-05-08T00:00:00",
          "2019-05-09T00:00:00",
          "2019-05-10T00:00:00",
          "2019-05-11T00:00:00",
          "2019-05-12T00:00:00",
          "2019-05-13T00:00:00",
          "2019-05-14T00:00:00",
          "2019-05-15T00:00:00",
          "2019-05-16T00:00:00",
          "2019-05-17T00:00:00",
          "2019-05-18T00:00:00",
          "2019-05-19T00:00:00",
          "2019-05-20T00:00:00",
          "2019-05-21T00:00:00",
          "2019-05-22T00:00:00",
          "2019-05-23T00:00:00",
          "2019-05-24T00:00:00",
          "2019-05-25T00:00:00",
          "2019-05-26T00:00:00",
          "2019-05-27T00:00:00",
          "2019-05-28T00:00:00",
          "2019-05-29T00:00:00",
          "2019-05-30T00:00:00",
          "2019-05-31T00:00:00",
          "2019-06-01T00:00:00",
          "2019-06-02T00:00:00",
          "2019-06-03T00:00:00",
          "2019-06-04T00:00:00",
          "2019-06-05T00:00:00",
          "2019-06-06T00:00:00",
          "2019-06-07T00:00:00",
          "2019-06-08T00:00:00",
          "2019-06-09T00:00:00",
          "2019-06-10T00:00:00",
          "2019-06-11T00:00:00",
          "2019-06-12T00:00:00",
          "2019-06-13T00:00:00",
          "2019-06-14T00:00:00",
          "2019-06-15T00:00:00",
          "2019-06-16T00:00:00",
          "2019-06-17T00:00:00",
          "2019-06-18T00:00:00",
          "2019-06-19T00:00:00",
          "2019-06-20T00:00:00",
          "2019-06-21T00:00:00",
          "2019-06-22T00:00:00",
          "2019-06-23T00:00:00",
          "2019-06-24T00:00:00",
          "2019-06-25T00:00:00",
          "2019-06-26T00:00:00",
          "2019-06-27T00:00:00",
          "2019-06-28T00:00:00",
          "2019-06-29T00:00:00",
          "2019-06-30T00:00:00",
          "2019-07-01T00:00:00",
          "2019-07-02T00:00:00",
          "2019-07-03T00:00:00",
          "2019-07-04T00:00:00",
          "2019-07-05T00:00:00",
          "2019-07-06T00:00:00",
          "2019-07-07T00:00:00",
          "2019-07-08T00:00:00",
          "2019-07-09T00:00:00",
          "2019-07-10T00:00:00",
          "2019-07-11T00:00:00",
          "2019-07-12T00:00:00",
          "2019-07-13T00:00:00",
          "2019-07-14T00:00:00",
          "2019-07-15T00:00:00",
          "2019-07-16T00:00:00",
          "2019-07-17T00:00:00",
          "2019-07-18T00:00:00",
          "2019-07-19T00:00:00",
          "2019-07-20T00:00:00",
          "2019-07-21T00:00:00",
          "2019-07-22T00:00:00",
          "2019-07-23T00:00:00",
          "2019-07-24T00:00:00",
          "2019-07-25T00:00:00",
          "2019-07-26T00:00:00",
          "2019-07-27T00:00:00",
          "2019-07-28T00:00:00",
          "2019-07-29T00:00:00",
          "2019-07-30T00:00:00",
          "2019-07-31T00:00:00",
          "2019-08-01T00:00:00",
          "2019-08-02T00:00:00",
          "2019-08-03T00:00:00",
          "2019-08-04T00:00:00",
          "2019-08-05T00:00:00",
          "2019-08-06T00:00:00",
          "2019-08-07T00:00:00",
          "2019-08-08T00:00:00",
          "2019-08-09T00:00:00",
          "2019-08-10T00:00:00",
          "2019-08-11T00:00:00",
          "2019-08-12T00:00:00"
         ],
         "y": [
          2389.7124652777793,
          2429.3014722222233,
          2518.750888888892,
          2524.7469930555603,
          2600.7444444444486,
          2835.1260555555527,
          2815.6953194444473,
          2753.5724375000073,
          2823.8471180555543,
          2853.871777777778,
          2906.474215277779,
          2803.581750000004,
          2715.928694444451,
          2653.0482708333398,
          2356.7296388888876,
          2450.1450486111107,
          2555.917826388888,
          2566.5587638888933,
          2558.1391805555563,
          2661.5631666666654,
          2712.268812500005,
          2680.862333333332,
          2718.264888888894,
          2657.009215277778,
          2559.341569444444,
          2464.9203888888896,
          2407.794423611114,
          2533.6016041666626,
          2558.770583333335,
          2524.0453819444497,
          2462.3251597222225,
          2444.7650347222207,
          2524.042131944447,
          2596.6061319444475,
          2569.9141666666737,
          2593.83718055556,
          2543.1207638888936,
          2516.3489097222214,
          2539.2847569444484,
          2455.0341527777796,
          2339.67059722222,
          2343.987402777782,
          2371.100986111114,
          2279.3203333333418,
          2073.9353055555507,
          1939.7691666666651,
          2056.5191180555607,
          2280.832284722225,
          2311.804187499999,
          2492.0011805555505,
          2718.66329861111,
          2779.7550000000033,
          2767.121493055555,
          2753.6120972222275,
          2624.099263888895,
          2499.1164097222277,
          2569.3229652777813,
          2737.2861944444467,
          2718.175916666668,
          2675.802902777784,
          2760.5994583333304,
          2769.700041666668,
          2713.936569444449,
          2743.284652777787,
          2827.005715277781,
          3153.660069444449,
          3236.0079166666746,
          3308.0867569444586,
          3416.0661041666613,
          3341.188736111121,
          3391.8064374999985,
          3503.103180555562,
          3757.487743055561,
          4023.2860000000037,
          4167.993833333334,
          4167.686743055565,
          4166.003368055552,
          4345.919243055558,
          4228.188402777789,
          4055.157333333346,
          4060.0714097222326,
          4022.7011666666704,
          3922.028104166666,
          4141.476888888893,
          4180.539020833341,
          4356.688888888902,
          4311.373458333351,
          4340.41629861112,
          4304.705208333351,
          4464.279500000008,
          4575.960375000009,
          4669.390076388895,
          4801.706236111117,
          4684.137694444455,
          4576.001104166673,
          4361.9361666666555,
          4252.457069444449,
          4528.704993055561,
          4584.30025694446,
          4482.604402777778,
          4292.220722222222,
          4180.850256944438,
          4210.225687500004,
          4253.140652777776,
          3934.011493055559,
          3624.5376458333308,
          3409.156631944439,
          3696.292625000008,
          3634.360208333341,
          3941.1198541666736,
          3962.9578749999987,
          3937.1915555555534,
          3791.3262638888873,
          3626.56877777778,
          3713.8222499999893,
          3695.2018541666625,
          3819.9963263888803,
          3914.8063263888916,
          4035.8797291666588,
          4188.612034722216,
          4144.9773819444545,
          4270.209180555565,
          4290.9005902777835,
          4395.493111111113,
          4311.992895833344,
          4249.643597222228,
          4255.330979166674,
          4359.174444444453,
          4351.288687500015,
          4495.808520833344,
          4643.429222222222,
          4811.700548611115,
          4787.352048611121,
          5114.763875000004,
          5618.339881944439,
          5666.474111111125,
          5610.077659722221,
          5673.469020833336,
          5625.583124999998,
          5402.310152777783,
          5654.104562500007,
          5788.776069444453,
          6073.861624999996,
          5910.377895833341,
          5869.137208333331,
          5659.772756944453,
          5547.822833333337,
          5826.5624305555675,
          5822.675326388888,
          5749.922930555566,
          5883.7243263888895,
          6122.401979166681,
          6240.408875000002,
          6502.706909722225,
          6952.339833333342,
          7240.374881944453,
          7258.124208333341,
          7458.392979166676,
          7228.157159722217,
          7102.901493055557,
          7386.520145833342,
          7244.327472222225,
          6961.358118055562,
          6556.024395833337,
          6114.231854166673,
          6346.988562500001,
          6590.393958333334,
          7046.016361111107,
          7459.5306875,
          7827.064805555566,
          7697.005916666671,
          7825.9264166666635,
          8090.021590277788,
          8157.685722222237,
          8194.893506944461,
          8175.670479166667,
          8168.087229166671,
          8428.860465277778,
          8972.45295138889,
          9556.814923611137,
          9833.026659722245,
          10403.94379166668,
          9888.908548611136,
          10194.8572638889,
          10938.31135416666,
          11291.630187499997,
          11346.529326388907,
          11656.498604166689,
          12580.533465277795,
          14778.207416666659,
          15432.868875000007,
          14806.800236111114,
          14134.664791666688,
          16202.50012500004,
          16730.929659722206,
          16540.327312500034,
          16343.036833333323,
          17365.62792361109,
          18176.730138888863,
          19190.340631944408,
          18720.01349999997,
          18320.41626388884,
          16834.521375000026,
          16221.424986111117,
          13761.145826388869,
          14768.55603472223,
          13656.086034722228,
          13966.06769444444,
          15243.615263888882,
          15581.444701388853,
          14248.632048611133,
          14534.974930555547,
          13212.859868055571,
          13339.22119444444,
          13425.415124999998,
          13879.358895833342,
          14963.699340277786,
          14818.780319444424,
          15792.452506944403,
          16666.922951388857,
          16517.014097222225,
          15300.74915277776,
          14868.201201388889,
          14194.688409722214,
          13697.100145833341,
          13661.494569444449,
          14224.945451388912,
          13679.928909722257,
          13821.277097222206,
          12164.619152777768,
          10680.231659722216,
          11495.746736111108,
          11513.536416666664,
          12471.649145833333,
          11895.589819444449,
          11131.135819444438,
          10724.710277777793,
          11007.914437500012,
          11300.592097222247,
          11011.94201388889,
          11238.782944444469,
          11673.103618055535,
          11283.896194444453,
          10628.612597222236,
          9987.00209722223,
          9497.750625000028,
          8558.503076388899,
          8912.281611111122,
          8722.604465277787,
          7611.722958333325,
          6828.462006944439,
          7914.380222222217,
          8216.322486111098,
          8261.487381944451,
          8656.487229166652,
          8188.491090277783,
          8624.076937500005,
          8609.80722222223,
          9025.642687500025,
          9803.039104166684,
          10025.99250694445,
          10677.811173611124,
          10737.341631944453,
          10867.436395833349,
          11498.189631944457,
          10791.702006944444,
          10272.655520833341,
          10013.161215277789,
          9931.702569444478,
          9595.83642361113,
          9910.592527777806,
          10552.671340277788,
          10621.063326388921,
          10650.838465277793,
          10980.791097222265,
          11344.269083333334,
          11242.097152777793,
          11520.930465277766,
          11021.738861111102,
          10399.997006944468,
          9705.391458333352,
          8907.997486111099,
          9236.650131944436,
          9058.136361111123,
          9436.36200694445,
          9155.890388888914,
          8769.349694444441,
          8112.515770833351,
          8315.006604166676,
          8079.593062500001,
          7679.651055555559,
          8355.255979166664,
          8622.49709722222,
          8983.081652777786,
          8793.326687500008,
          8529.94406944445,
          8857.918083333345,
          8535.650166666666,
          8208.19347916669,
          7965.760694444459,
          7916.943312500011,
          7518.686965277791,
          6888.176854166671,
          7005.669125000011,
          6797.412069444436,
          6978.018000000003,
          7325.304333333331,
          7077.711673611102,
          6758.105076388888,
          6649.452291666674,
          6891.6737638889,
          6988.428743055562,
          6891.471624999996,
          6779.244319444467,
          6879.948687500013,
          7336.708215277788,
          7992.690451388897,
          8010.872291666685,
          8215.487236111117,
          8080.020305555557,
          8036.633618055566,
          8057.3129930555615,
          8213.267708333358,
          8445.635604166675,
          8800.278312499991,
          8888.387819444462,
          8895.62331249999,
          9314.519125000023,
          9221.040361111107,
          8883.210298611131,
          9217.02084722222,
          9240.572972222244,
          9356.157784722249,
          9290.616041666668,
          8988.595694444466,
          9112.689791666677,
          9379.656666666657,
          9656.508229166666,
          9829.181138888915,
          9615.699180555568,
          9344.100527777799,
          9260.790923611114,
          9193.325472222248,
          9265.502951388902,
          8701.556430555573,
          8423.31487500004,
          8550.491187500027,
          8581.468430555582,
          8642.09697222224,
          8282.705625000013,
          8277.959930555586,
          8106.672548611127,
          8254.920923611124,
          8361.972944444464,
          8455.092916666694,
          8233.2557916667,
          7784.575402777791,
          7538.571881944487,
          7486.668048611141,
          7490.143826388919,
          7317.306069444448,
          7255.434381944465,
          7293.893402777787,
          7432.491090277765,
          7500.117368055571,
          7481.193180555582,
          7597.247354166683,
          7690.673791666691,
          7575.316763888909,
          7491.722708333352,
          7606.389534722249,
          7692.524618055574,
          7629.560597222222,
          7630.158000000005,
          7133.649305555566,
          6760.716284722224,
          6754.097347222223,
          6443.017722222231,
          6501.825152777797,
          6550.993312499992,
          6462.630548611125,
          6509.097465277774,
          6522.887597222218,
          6718.137923611121,
          6680.922951388888,
          6736.712444444453,
          6359.654034722214,
          6135.97526388889,
          6024.7279027777895,
          6203.3115555555705,
          6201.928152777776,
          6096.063604166686,
          6082.033944444458,
          5903.817749999997,
          6363.47595833333,
          6350.025388888889,
          6453.064812500014,
          6596.762625000031,
          6571.150868055561,
          6581.060631944442,
          6541.890631944446,
          6573.3242361111,
          6739.136618055562,
          6705.734666666673,
          6480.4565208333415,
          6354.405493055556,
          6219.166937500008,
          6236.785770833367,
          6236.172256944462,
          6318.537784722239,
          6521.181465277782,
          6877.720881944445,
          7402.712555555563,
          7390.11466666668,
          7420.562833333363,
          7347.857055555567,
          7448.0036597222515,
          7679.556715277796,
          8071.491902777785,
          8253.59904166666,
          8196.509159722247,
          8021.516604166678,
          8179.995840277793,
          8202.688618055583,
          8133.9497777778,
          7915.115548611122,
          7569.98511111112,
          7590.178583333349,
          7394.100701388909,
          7248.6566458333655,
          6995.644215277812,
          6987.8438472222315,
          6986.739444444467,
          6444.725208333348,
          6394.324194444451,
          6394.919993055561,
          6188.136972222216,
          6304.35070833334,
          6345.708180555566,
          6056.106715277783,
          6369.123708333329,
          6344.468576388896,
          6466.790055555574,
          6446.211965277772,
          6397.762687500009,
          6444.960090277811,
          6399.587041666682,
          6579.496944444452,
          6433.5398680555545,
          6551.867993055588,
          6713.861659722258,
          6669.950659722236,
          6712.779381944449,
          6986.976090277787,
          7049.229027777782,
          6929.053499999996,
          6979.79039583335,
          7105.35293750002,
          7239.421576388906,
          7259.906249999994,
          7322.047874999996,
          7125.833812499998,
          6421.734145833346,
          6443.361534722262,
          6360.320930555571,
          6289.750152777783,
          6287.392875000001,
          6290.2325902777875,
          6268.183465277798,
          6440.572034722228,
          6500.248395833359,
          6519.018743055587,
          6484.170666666674,
          6398.048562500014,
          6295.923305555575,
          6336.486597222232,
          6411.717736111115,
          6658.61240972222,
          6705.587187499994,
          6706.800166666679,
          6638.184479166654,
          6413.125020833338,
          6461.356423611127,
          6520.746958333349,
          6665.077402777776,
          6539.937986111108,
          6577.550055555549,
          6574.940298611117,
          6541.682701388867,
          6447.232340277765,
          6547.230777777762,
          6544.547159722216,
          6556.2918263888805,
          6533.511180555536,
          6586.734770833344,
          6587.5929722221945,
          6517.042173611102,
          6213.507291666667,
          6201.429923611101,
          6196.307437500009,
          6225.605215277768,
          6368.968388888887,
          6437.686604166653,
          6438.604631944451,
          6427.5492222222265,
          6385.541597222227,
          6396.777493055575,
          6433.669687499999,
          6405.4003749999765,
          6395.747611111114,
          6425.273986111101,
          6400.467819444443,
          6400.76842361109,
          6407.05902083333,
          6402.554041666676,
          6329.9985763889,
          6264.565631944463,
          6277.430083333336,
          6310.56606249998,
          6351.960548611104,
          6333.967756944455,
          6364.34178472219,
          6404.680194444427,
          6412.868326388882,
          6506.8773680555605,
          6449.525041666662,
          6365.883486111105,
          6354.911069444451,
          6339.537944444456,
          6350.976541666664,
          6290.059034722227,
          6019.894937499998,
          5494.714520833338,
          5530.675125000012,
          5485.194152777787,
          5534.090277777771,
          5203.1593819444415,
          4531.132569444447,
          4447.252770833336,
          4468.593826388887,
          4248.508673611109,
          4203.4345069444435,
          3756.95189583334,
          3850.8809305555556,
          3702.9673125000036,
          4057.7619513888876,
          4224.60156944445,
          4075.2327916666695,
          4078.2717500000003,
          4120.349090277774,
          3924.919868055556,
          3904.986423611119,
          3802.7635277777786,
          3694.9691111111147,
          3360.1898402777783,
          3384.9175000000073,
          3468.0102222222245,
          3468.8128611111065,
          3365.570430555562,
          3397.2696736111166,
          3360.91896527778,
          3233.8725902777715,
          3180.2247847222225,
          3217.120479166661,
          3333.074319444453,
          3508.6461597222205,
          3748.380458333341,
          3923.0398263888833,
          3972.550958333326,
          3851.8717222222185,
          3978.132437499989,
          4125.493027777772,
          3773.2280555555553,
          3779.5463055555515,
          3717.7947291666655,
          3700.835333333332,
          3873.5531736111043,
          3788.032055555552,
          3757.3624166666555,
          3700.3265972222234,
          3823.112729166656,
          3830.1849722222178,
          3785.05104861111,
          3834.452138888893,
          3874.5452152777775,
          4022.664298611106,
          4006.257034722222,
          4010.7763958333285,
          3795.507187500005,
          3636.7025416666634,
          3626.5706319444425,
          3580.619624999998,
          3580.005486111115,
          3641.574458333333,
          3603.472229166661,
          3602.951118055559,
          3615.6680555555517,
          3671.6374999999907,
          3607.2373958333274,
          3535.8616458333254,
          3551.567465277765,
          3569.4726805555633,
          3553.9397777777735,
          3557.15230555555,
          3571.367611111122,
          3545.671416666666,
          3438.032173611103,
          3398.639076388891,
          3423.095763888887,
          3424.856152777782,
          3416.3658680555586,
          3431.8366666666716,
          3425.4384861111216,
          3414.204527777778,
          3419.36813888888,
          3371.575750000001,
          3366.4235208333366,
          3451.4933402777733,
          3614.884708333324,
          3608.1552916666656,
          3595.2006875,
          3577.8480416666685,
          3582.285694444439,
          3569.1406111111155,
          3570.4032013888955,
          3587.6629097222267,
          3585.4940555555586,
          3756.019819444445,
          3900.652402777775,
          3910.843916666662,
          3906.7272222222296,
          3925.343680555563,
          3980.2158541666718,
          3989.5767638888838,
          3792.778916666669,
          3799.9307777777794,
          3795.3566597222207,
          3810.278263888891,
          3813.27386805555,
          3805.279194444444,
          3801.456263888886,
          3725.0505902777822,
          3765.770388888884,
          3838.784395833329,
          3861.3823194444494,
          3871.895409722215,
          3889.980624999997,
          3893.019138888882,
          3864.6125624999936,
          3847.294444444448,
          3853.5086458333462,
          3850.2652013888824,
          3877.4722777777793,
          3978.552020833331,
          3963.1048819444545,
          3969.4853958333247,
          3977.0401319444522,
          3995.406333333329,
          4005.9583888888824,
          3981.5695555555526,
          3980.761215277784,
          3968.612951388893,
          3949.801881944454,
          3908.431326388902,
          3993.995347222206,
          4009.194069444443,
          4057.541465277782,
          4083.772388888892,
          4088.348868055553,
          4125.548659722221,
          4647.141729166669,
          5038.50502083333,
          4971.659173611101,
          4981.012118055559,
          5042.754319444438,
          5128.465159722207,
          5241.546451388895,
          5221.413534722217,
          5270.475166666668,
          5129.761715277781,
          5047.637659722214,
          5084.51536805556,
          5078.802409722226,
          5122.114104166673,
          5098.620062500001,
          5218.718937499994,
          5263.983847222229,
          5259.1587361111115,
          5313.275881944437,
          5288.680506944438,
          5317.52523611111,
          5531.954173611113,
          5486.831687500015,
          5423.299951388892,
          5149.682201388893,
          5165.260756944446,
          5169.915263888891,
          5154.869499999995,
          5199.331576388891,
          5303.564006944443,
          5360.945784722242,
          5617.309986111107,
          5694.244680555553,
          5721.58211805556,
          5656.3270069444425,
          5863.695777777779,
          5843.870868055555,
          6047.245256944443,
          6290.585555555554,
          6806.6770625000045,
          7155.474208333327,
          7408.98296527779,
          7993.158020833342,
          8054.80577777778,
          7993.707881944452,
          7263.197819444444,
          7326.348763888892,
          7934.045673611123,
          7906.761131944451,
          7952.989784722219,
          7890.863298611112,
          7703.517611111119,
          7983.823395833333,
          8045.214743055539,
          8125.428284722212,
          8782.527847222222,
          8726.034833333331,
          8646.49276388888,
          8631.68847916668,
          8350.288833333312,
          8542.015763888876,
          8668.05993750001,
          8531.08584722222,
          7851.133666666666,
          7771.943777777767,
          7751.1627916666675,
          7938.752041666664,
          7941.170618055555,
          7799.946125000009,
          7820.271444444434,
          7897.226569444459,
          8036.859090277781,
          8169.982472222209,
          8353.574541666672,
          8727.897222222222,
          9096.019243055567,
          9236.642777777772,
          9153.257826388888,
          9148.226562500011,
          9353.45185416665,
          9802.451152777776,
          10725.602312500023,
          10747.117999999991,
          10844.867333333319,
          11314.388562500011,
          12643.553618055552,
          11803.958812500003,
          11678.356861111108,
          11850.858194444452,
          11540.011777777765,
          10687.819687499998,
          10305.094118055564,
          11345.892000000002,
          11760.026750000003,
          11141.252972222204,
          11416.435701388893,
          11311.678444444451,
          11794.189805555567,
          12514.21774305554,
          12649.908881944439,
          11584.54125000001,
          11585.792416666667,
          11430.236854166653,
          10860.6743263889,
          10419.180666666702,
          10356.278006944454,
          9577.303708333347,
          10053.263270833328,
          10473.079361111104,
          10680.938881944432,
          10578.370826388895,
          10451.459284722223,
          10071.961000000008,
          9703.44240277778,
          10023.55200000002,
          9775.523166666679,
          9731.698895833339,
          9486.49152083333,
          9541.105833333348,
          9541.569750000022,
          9857.407680555563,
          10085.621541666671,
          10475.718763888879,
          10785.766958333332,
          10820.892229166655,
          11676.32672916666,
          11758.30978472223,
          11712.383777777764,
          11802.534583333349,
          11820.873673611108,
          11582.249006944416,
          11379.078881944437,
          11520
         ]
        },
        {
         "marker": {
          "color": "rgba(115, 120, 235, 0.5)"
         },
         "mode": "lines",
         "name": "Predict",
         "type": "scatter",
         "x": [
          "2017-06-01T00:00:00",
          "2017-06-02T00:00:00",
          "2017-06-03T00:00:00",
          "2017-06-04T00:00:00",
          "2017-06-05T00:00:00",
          "2017-06-06T00:00:00",
          "2017-06-07T00:00:00",
          "2017-06-08T00:00:00",
          "2017-06-09T00:00:00",
          "2017-06-10T00:00:00",
          "2017-06-11T00:00:00",
          "2017-06-12T00:00:00",
          "2017-06-13T00:00:00",
          "2017-06-14T00:00:00",
          "2017-06-15T00:00:00",
          "2017-06-16T00:00:00",
          "2017-06-17T00:00:00",
          "2017-06-18T00:00:00",
          "2017-06-19T00:00:00",
          "2017-06-20T00:00:00",
          "2017-06-21T00:00:00",
          "2017-06-22T00:00:00",
          "2017-06-23T00:00:00",
          "2017-06-24T00:00:00",
          "2017-06-25T00:00:00",
          "2017-06-26T00:00:00",
          "2017-06-27T00:00:00",
          "2017-06-28T00:00:00",
          "2017-06-29T00:00:00",
          "2017-06-30T00:00:00",
          "2017-07-01T00:00:00",
          "2017-07-02T00:00:00",
          "2017-07-03T00:00:00",
          "2017-07-04T00:00:00",
          "2017-07-05T00:00:00",
          "2017-07-06T00:00:00",
          "2017-07-07T00:00:00",
          "2017-07-08T00:00:00",
          "2017-07-09T00:00:00",
          "2017-07-10T00:00:00",
          "2017-07-11T00:00:00",
          "2017-07-12T00:00:00",
          "2017-07-13T00:00:00",
          "2017-07-14T00:00:00",
          "2017-07-15T00:00:00",
          "2017-07-16T00:00:00",
          "2017-07-17T00:00:00",
          "2017-07-18T00:00:00",
          "2017-07-19T00:00:00",
          "2017-07-20T00:00:00",
          "2017-07-21T00:00:00",
          "2017-07-22T00:00:00",
          "2017-07-23T00:00:00",
          "2017-07-24T00:00:00",
          "2017-07-25T00:00:00",
          "2017-07-26T00:00:00",
          "2017-07-27T00:00:00",
          "2017-07-28T00:00:00",
          "2017-07-29T00:00:00",
          "2017-07-30T00:00:00",
          "2017-07-31T00:00:00",
          "2017-08-01T00:00:00",
          "2017-08-02T00:00:00",
          "2017-08-03T00:00:00",
          "2017-08-04T00:00:00",
          "2017-08-05T00:00:00",
          "2017-08-06T00:00:00",
          "2017-08-07T00:00:00",
          "2017-08-08T00:00:00",
          "2017-08-09T00:00:00",
          "2017-08-10T00:00:00",
          "2017-08-11T00:00:00",
          "2017-08-12T00:00:00",
          "2017-08-13T00:00:00",
          "2017-08-14T00:00:00",
          "2017-08-15T00:00:00",
          "2017-08-16T00:00:00",
          "2017-08-17T00:00:00",
          "2017-08-18T00:00:00",
          "2017-08-19T00:00:00",
          "2017-08-20T00:00:00",
          "2017-08-21T00:00:00",
          "2017-08-22T00:00:00",
          "2017-08-23T00:00:00",
          "2017-08-24T00:00:00",
          "2017-08-25T00:00:00",
          "2017-08-26T00:00:00",
          "2017-08-27T00:00:00",
          "2017-08-28T00:00:00",
          "2017-08-29T00:00:00",
          "2017-08-30T00:00:00",
          "2017-08-31T00:00:00",
          "2017-09-01T00:00:00",
          "2017-09-02T00:00:00",
          "2017-09-03T00:00:00",
          "2017-09-04T00:00:00",
          "2017-09-05T00:00:00",
          "2017-09-06T00:00:00",
          "2017-09-07T00:00:00",
          "2017-09-08T00:00:00",
          "2017-09-09T00:00:00",
          "2017-09-10T00:00:00",
          "2017-09-11T00:00:00",
          "2017-09-12T00:00:00",
          "2017-09-13T00:00:00",
          "2017-09-14T00:00:00",
          "2017-09-15T00:00:00",
          "2017-09-16T00:00:00",
          "2017-09-17T00:00:00",
          "2017-09-18T00:00:00",
          "2017-09-19T00:00:00",
          "2017-09-20T00:00:00",
          "2017-09-21T00:00:00",
          "2017-09-22T00:00:00",
          "2017-09-23T00:00:00",
          "2017-09-24T00:00:00",
          "2017-09-25T00:00:00",
          "2017-09-26T00:00:00",
          "2017-09-27T00:00:00",
          "2017-09-28T00:00:00",
          "2017-09-29T00:00:00",
          "2017-09-30T00:00:00",
          "2017-10-01T00:00:00",
          "2017-10-02T00:00:00",
          "2017-10-03T00:00:00",
          "2017-10-04T00:00:00",
          "2017-10-05T00:00:00",
          "2017-10-06T00:00:00",
          "2017-10-07T00:00:00",
          "2017-10-08T00:00:00",
          "2017-10-09T00:00:00",
          "2017-10-10T00:00:00",
          "2017-10-11T00:00:00",
          "2017-10-12T00:00:00",
          "2017-10-13T00:00:00",
          "2017-10-14T00:00:00",
          "2017-10-15T00:00:00",
          "2017-10-16T00:00:00",
          "2017-10-17T00:00:00",
          "2017-10-18T00:00:00",
          "2017-10-19T00:00:00",
          "2017-10-20T00:00:00",
          "2017-10-21T00:00:00",
          "2017-10-22T00:00:00",
          "2017-10-23T00:00:00",
          "2017-10-24T00:00:00",
          "2017-10-25T00:00:00",
          "2017-10-26T00:00:00",
          "2017-10-27T00:00:00",
          "2017-10-28T00:00:00",
          "2017-10-29T00:00:00",
          "2017-10-30T00:00:00",
          "2017-10-31T00:00:00",
          "2017-11-01T00:00:00",
          "2017-11-02T00:00:00",
          "2017-11-03T00:00:00",
          "2017-11-04T00:00:00",
          "2017-11-05T00:00:00",
          "2017-11-06T00:00:00",
          "2017-11-07T00:00:00",
          "2017-11-08T00:00:00",
          "2017-11-09T00:00:00",
          "2017-11-10T00:00:00",
          "2017-11-11T00:00:00",
          "2017-11-12T00:00:00",
          "2017-11-13T00:00:00",
          "2017-11-14T00:00:00",
          "2017-11-15T00:00:00",
          "2017-11-16T00:00:00",
          "2017-11-17T00:00:00",
          "2017-11-18T00:00:00",
          "2017-11-19T00:00:00",
          "2017-11-20T00:00:00",
          "2017-11-21T00:00:00",
          "2017-11-22T00:00:00",
          "2017-11-23T00:00:00",
          "2017-11-24T00:00:00",
          "2017-11-25T00:00:00",
          "2017-11-26T00:00:00",
          "2017-11-27T00:00:00",
          "2017-11-28T00:00:00",
          "2017-11-29T00:00:00",
          "2017-11-30T00:00:00",
          "2017-12-01T00:00:00",
          "2017-12-02T00:00:00",
          "2017-12-03T00:00:00",
          "2017-12-04T00:00:00",
          "2017-12-05T00:00:00",
          "2017-12-06T00:00:00",
          "2017-12-07T00:00:00",
          "2017-12-08T00:00:00",
          "2017-12-09T00:00:00",
          "2017-12-10T00:00:00",
          "2017-12-11T00:00:00",
          "2017-12-12T00:00:00",
          "2017-12-13T00:00:00",
          "2017-12-14T00:00:00",
          "2017-12-15T00:00:00",
          "2017-12-16T00:00:00",
          "2017-12-17T00:00:00",
          "2017-12-18T00:00:00",
          "2017-12-19T00:00:00",
          "2017-12-20T00:00:00",
          "2017-12-21T00:00:00",
          "2017-12-22T00:00:00",
          "2017-12-23T00:00:00",
          "2017-12-24T00:00:00",
          "2017-12-25T00:00:00",
          "2017-12-26T00:00:00",
          "2017-12-27T00:00:00",
          "2017-12-28T00:00:00",
          "2017-12-29T00:00:00",
          "2017-12-30T00:00:00",
          "2017-12-31T00:00:00",
          "2018-01-01T00:00:00",
          "2018-01-02T00:00:00",
          "2018-01-03T00:00:00",
          "2018-01-04T00:00:00",
          "2018-01-05T00:00:00",
          "2018-01-06T00:00:00",
          "2018-01-07T00:00:00",
          "2018-01-08T00:00:00",
          "2018-01-09T00:00:00",
          "2018-01-10T00:00:00",
          "2018-01-11T00:00:00",
          "2018-01-12T00:00:00",
          "2018-01-13T00:00:00",
          "2018-01-14T00:00:00",
          "2018-01-15T00:00:00",
          "2018-01-16T00:00:00",
          "2018-01-17T00:00:00",
          "2018-01-18T00:00:00",
          "2018-01-19T00:00:00",
          "2018-01-20T00:00:00",
          "2018-01-21T00:00:00",
          "2018-01-22T00:00:00",
          "2018-01-23T00:00:00",
          "2018-01-24T00:00:00",
          "2018-01-25T00:00:00",
          "2018-01-26T00:00:00",
          "2018-01-27T00:00:00",
          "2018-01-28T00:00:00",
          "2018-01-29T00:00:00",
          "2018-01-30T00:00:00",
          "2018-01-31T00:00:00",
          "2018-02-01T00:00:00",
          "2018-02-02T00:00:00",
          "2018-02-03T00:00:00",
          "2018-02-04T00:00:00",
          "2018-02-05T00:00:00",
          "2018-02-06T00:00:00",
          "2018-02-07T00:00:00",
          "2018-02-08T00:00:00",
          "2018-02-09T00:00:00",
          "2018-02-10T00:00:00",
          "2018-02-11T00:00:00",
          "2018-02-12T00:00:00",
          "2018-02-13T00:00:00",
          "2018-02-14T00:00:00",
          "2018-02-15T00:00:00",
          "2018-02-16T00:00:00",
          "2018-02-17T00:00:00",
          "2018-02-18T00:00:00",
          "2018-02-19T00:00:00",
          "2018-02-20T00:00:00",
          "2018-02-21T00:00:00",
          "2018-02-22T00:00:00",
          "2018-02-23T00:00:00",
          "2018-02-24T00:00:00",
          "2018-02-25T00:00:00",
          "2018-02-26T00:00:00",
          "2018-02-27T00:00:00",
          "2018-02-28T00:00:00",
          "2018-03-01T00:00:00",
          "2018-03-02T00:00:00",
          "2018-03-03T00:00:00",
          "2018-03-04T00:00:00",
          "2018-03-05T00:00:00",
          "2018-03-06T00:00:00",
          "2018-03-07T00:00:00",
          "2018-03-08T00:00:00",
          "2018-03-09T00:00:00",
          "2018-03-10T00:00:00",
          "2018-03-11T00:00:00",
          "2018-03-12T00:00:00",
          "2018-03-13T00:00:00",
          "2018-03-14T00:00:00",
          "2018-03-15T00:00:00",
          "2018-03-16T00:00:00",
          "2018-03-17T00:00:00",
          "2018-03-18T00:00:00",
          "2018-03-19T00:00:00",
          "2018-03-20T00:00:00",
          "2018-03-21T00:00:00",
          "2018-03-22T00:00:00",
          "2018-03-23T00:00:00",
          "2018-03-24T00:00:00",
          "2018-03-25T00:00:00",
          "2018-03-26T00:00:00",
          "2018-03-27T00:00:00",
          "2018-03-28T00:00:00",
          "2018-03-29T00:00:00",
          "2018-03-30T00:00:00",
          "2018-03-31T00:00:00",
          "2018-04-01T00:00:00",
          "2018-04-02T00:00:00",
          "2018-04-03T00:00:00",
          "2018-04-04T00:00:00",
          "2018-04-05T00:00:00",
          "2018-04-06T00:00:00",
          "2018-04-07T00:00:00",
          "2018-04-08T00:00:00",
          "2018-04-09T00:00:00",
          "2018-04-10T00:00:00",
          "2018-04-11T00:00:00",
          "2018-04-12T00:00:00",
          "2018-04-13T00:00:00",
          "2018-04-14T00:00:00",
          "2018-04-15T00:00:00",
          "2018-04-16T00:00:00",
          "2018-04-17T00:00:00",
          "2018-04-18T00:00:00",
          "2018-04-19T00:00:00",
          "2018-04-20T00:00:00",
          "2018-04-21T00:00:00",
          "2018-04-22T00:00:00",
          "2018-04-23T00:00:00",
          "2018-04-24T00:00:00",
          "2018-04-25T00:00:00",
          "2018-04-26T00:00:00",
          "2018-04-27T00:00:00",
          "2018-04-28T00:00:00",
          "2018-04-29T00:00:00",
          "2018-04-30T00:00:00",
          "2018-05-01T00:00:00",
          "2018-05-02T00:00:00",
          "2018-05-03T00:00:00",
          "2018-05-04T00:00:00",
          "2018-05-05T00:00:00",
          "2018-05-06T00:00:00",
          "2018-05-07T00:00:00",
          "2018-05-08T00:00:00",
          "2018-05-09T00:00:00",
          "2018-05-10T00:00:00",
          "2018-05-11T00:00:00",
          "2018-05-12T00:00:00",
          "2018-05-13T00:00:00",
          "2018-05-14T00:00:00",
          "2018-05-15T00:00:00",
          "2018-05-16T00:00:00",
          "2018-05-17T00:00:00",
          "2018-05-18T00:00:00",
          "2018-05-19T00:00:00",
          "2018-05-20T00:00:00",
          "2018-05-21T00:00:00",
          "2018-05-22T00:00:00",
          "2018-05-23T00:00:00",
          "2018-05-24T00:00:00",
          "2018-05-25T00:00:00",
          "2018-05-26T00:00:00",
          "2018-05-27T00:00:00",
          "2018-05-28T00:00:00",
          "2018-05-29T00:00:00",
          "2018-05-30T00:00:00",
          "2018-05-31T00:00:00",
          "2018-06-01T00:00:00",
          "2018-06-02T00:00:00",
          "2018-06-03T00:00:00",
          "2018-06-04T00:00:00",
          "2018-06-05T00:00:00",
          "2018-06-06T00:00:00",
          "2018-06-07T00:00:00",
          "2018-06-08T00:00:00",
          "2018-06-09T00:00:00",
          "2018-06-10T00:00:00",
          "2018-06-11T00:00:00",
          "2018-06-12T00:00:00",
          "2018-06-13T00:00:00",
          "2018-06-14T00:00:00",
          "2018-06-15T00:00:00",
          "2018-06-16T00:00:00",
          "2018-06-17T00:00:00",
          "2018-06-18T00:00:00",
          "2018-06-19T00:00:00",
          "2018-06-20T00:00:00",
          "2018-06-21T00:00:00",
          "2018-06-22T00:00:00",
          "2018-06-23T00:00:00",
          "2018-06-24T00:00:00",
          "2018-06-25T00:00:00",
          "2018-06-26T00:00:00",
          "2018-06-27T00:00:00",
          "2018-06-28T00:00:00",
          "2018-06-29T00:00:00",
          "2018-06-30T00:00:00",
          "2018-07-01T00:00:00",
          "2018-07-02T00:00:00",
          "2018-07-03T00:00:00",
          "2018-07-04T00:00:00",
          "2018-07-05T00:00:00",
          "2018-07-06T00:00:00",
          "2018-07-07T00:00:00",
          "2018-07-08T00:00:00",
          "2018-07-09T00:00:00",
          "2018-07-10T00:00:00",
          "2018-07-11T00:00:00",
          "2018-07-12T00:00:00",
          "2018-07-13T00:00:00",
          "2018-07-14T00:00:00",
          "2018-07-15T00:00:00",
          "2018-07-16T00:00:00",
          "2018-07-17T00:00:00",
          "2018-07-18T00:00:00",
          "2018-07-19T00:00:00",
          "2018-07-20T00:00:00",
          "2018-07-21T00:00:00",
          "2018-07-22T00:00:00",
          "2018-07-23T00:00:00",
          "2018-07-24T00:00:00",
          "2018-07-25T00:00:00",
          "2018-07-26T00:00:00",
          "2018-07-27T00:00:00",
          "2018-07-28T00:00:00",
          "2018-07-29T00:00:00",
          "2018-07-30T00:00:00",
          "2018-07-31T00:00:00",
          "2018-08-01T00:00:00",
          "2018-08-02T00:00:00",
          "2018-08-03T00:00:00",
          "2018-08-04T00:00:00",
          "2018-08-05T00:00:00",
          "2018-08-06T00:00:00",
          "2018-08-07T00:00:00",
          "2018-08-08T00:00:00",
          "2018-08-09T00:00:00",
          "2018-08-10T00:00:00",
          "2018-08-11T00:00:00",
          "2018-08-12T00:00:00",
          "2018-08-13T00:00:00",
          "2018-08-14T00:00:00",
          "2018-08-15T00:00:00",
          "2018-08-16T00:00:00",
          "2018-08-17T00:00:00",
          "2018-08-18T00:00:00",
          "2018-08-19T00:00:00",
          "2018-08-20T00:00:00",
          "2018-08-21T00:00:00",
          "2018-08-22T00:00:00",
          "2018-08-23T00:00:00",
          "2018-08-24T00:00:00",
          "2018-08-25T00:00:00",
          "2018-08-26T00:00:00",
          "2018-08-27T00:00:00",
          "2018-08-28T00:00:00",
          "2018-08-29T00:00:00",
          "2018-08-30T00:00:00",
          "2018-08-31T00:00:00",
          "2018-09-01T00:00:00",
          "2018-09-02T00:00:00",
          "2018-09-03T00:00:00",
          "2018-09-04T00:00:00",
          "2018-09-05T00:00:00",
          "2018-09-06T00:00:00",
          "2018-09-07T00:00:00",
          "2018-09-08T00:00:00",
          "2018-09-09T00:00:00",
          "2018-09-10T00:00:00",
          "2018-09-11T00:00:00",
          "2018-09-12T00:00:00",
          "2018-09-13T00:00:00",
          "2018-09-14T00:00:00",
          "2018-09-15T00:00:00",
          "2018-09-16T00:00:00",
          "2018-09-17T00:00:00",
          "2018-09-18T00:00:00",
          "2018-09-19T00:00:00",
          "2018-09-20T00:00:00",
          "2018-09-21T00:00:00",
          "2018-09-22T00:00:00",
          "2018-09-23T00:00:00",
          "2018-09-24T00:00:00",
          "2018-09-25T00:00:00",
          "2018-09-26T00:00:00",
          "2018-09-27T00:00:00",
          "2018-09-28T00:00:00",
          "2018-09-29T00:00:00",
          "2018-09-30T00:00:00",
          "2018-10-01T00:00:00",
          "2018-10-02T00:00:00",
          "2018-10-03T00:00:00",
          "2018-10-04T00:00:00",
          "2018-10-05T00:00:00",
          "2018-10-06T00:00:00",
          "2018-10-07T00:00:00",
          "2018-10-08T00:00:00",
          "2018-10-09T00:00:00",
          "2018-10-10T00:00:00",
          "2018-10-11T00:00:00",
          "2018-10-12T00:00:00",
          "2018-10-13T00:00:00",
          "2018-10-14T00:00:00",
          "2018-10-15T00:00:00",
          "2018-10-16T00:00:00",
          "2018-10-17T00:00:00",
          "2018-10-18T00:00:00",
          "2018-10-19T00:00:00",
          "2018-10-20T00:00:00",
          "2018-10-21T00:00:00",
          "2018-10-22T00:00:00",
          "2018-10-23T00:00:00",
          "2018-10-24T00:00:00",
          "2018-10-25T00:00:00",
          "2018-10-26T00:00:00",
          "2018-10-27T00:00:00",
          "2018-10-28T00:00:00",
          "2018-10-29T00:00:00",
          "2018-10-30T00:00:00",
          "2018-10-31T00:00:00",
          "2018-11-01T00:00:00",
          "2018-11-02T00:00:00",
          "2018-11-03T00:00:00",
          "2018-11-04T00:00:00",
          "2018-11-05T00:00:00",
          "2018-11-06T00:00:00",
          "2018-11-07T00:00:00",
          "2018-11-08T00:00:00",
          "2018-11-09T00:00:00",
          "2018-11-10T00:00:00",
          "2018-11-11T00:00:00",
          "2018-11-12T00:00:00",
          "2018-11-13T00:00:00",
          "2018-11-14T00:00:00",
          "2018-11-15T00:00:00",
          "2018-11-16T00:00:00",
          "2018-11-17T00:00:00",
          "2018-11-18T00:00:00",
          "2018-11-19T00:00:00",
          "2018-11-20T00:00:00",
          "2018-11-21T00:00:00",
          "2018-11-22T00:00:00",
          "2018-11-23T00:00:00",
          "2018-11-24T00:00:00",
          "2018-11-25T00:00:00",
          "2018-11-26T00:00:00",
          "2018-11-27T00:00:00",
          "2018-11-28T00:00:00",
          "2018-11-29T00:00:00",
          "2018-11-30T00:00:00",
          "2018-12-01T00:00:00",
          "2018-12-02T00:00:00",
          "2018-12-03T00:00:00",
          "2018-12-04T00:00:00",
          "2018-12-05T00:00:00",
          "2018-12-06T00:00:00",
          "2018-12-07T00:00:00",
          "2018-12-08T00:00:00",
          "2018-12-09T00:00:00",
          "2018-12-10T00:00:00",
          "2018-12-11T00:00:00",
          "2018-12-12T00:00:00",
          "2018-12-13T00:00:00",
          "2018-12-14T00:00:00",
          "2018-12-15T00:00:00",
          "2018-12-16T00:00:00",
          "2018-12-17T00:00:00",
          "2018-12-18T00:00:00",
          "2018-12-19T00:00:00",
          "2018-12-20T00:00:00",
          "2018-12-21T00:00:00",
          "2018-12-22T00:00:00",
          "2018-12-23T00:00:00",
          "2018-12-24T00:00:00",
          "2018-12-25T00:00:00",
          "2018-12-26T00:00:00",
          "2018-12-27T00:00:00",
          "2018-12-28T00:00:00",
          "2018-12-29T00:00:00",
          "2018-12-30T00:00:00",
          "2018-12-31T00:00:00",
          "2019-01-01T00:00:00",
          "2019-01-02T00:00:00",
          "2019-01-03T00:00:00",
          "2019-01-04T00:00:00",
          "2019-01-05T00:00:00",
          "2019-01-06T00:00:00",
          "2019-01-07T00:00:00",
          "2019-01-08T00:00:00",
          "2019-01-09T00:00:00",
          "2019-01-10T00:00:00",
          "2019-01-11T00:00:00",
          "2019-01-12T00:00:00",
          "2019-01-13T00:00:00",
          "2019-01-14T00:00:00",
          "2019-01-15T00:00:00",
          "2019-01-16T00:00:00",
          "2019-01-17T00:00:00",
          "2019-01-18T00:00:00",
          "2019-01-19T00:00:00",
          "2019-01-20T00:00:00",
          "2019-01-21T00:00:00",
          "2019-01-22T00:00:00",
          "2019-01-23T00:00:00",
          "2019-01-24T00:00:00",
          "2019-01-25T00:00:00",
          "2019-01-26T00:00:00",
          "2019-01-27T00:00:00",
          "2019-01-28T00:00:00",
          "2019-01-29T00:00:00",
          "2019-01-30T00:00:00",
          "2019-01-31T00:00:00",
          "2019-02-01T00:00:00",
          "2019-02-02T00:00:00",
          "2019-02-03T00:00:00",
          "2019-02-04T00:00:00",
          "2019-02-05T00:00:00",
          "2019-02-06T00:00:00",
          "2019-02-07T00:00:00",
          "2019-02-08T00:00:00",
          "2019-02-09T00:00:00",
          "2019-02-10T00:00:00",
          "2019-02-11T00:00:00",
          "2019-02-12T00:00:00",
          "2019-02-13T00:00:00",
          "2019-02-14T00:00:00",
          "2019-02-15T00:00:00",
          "2019-02-16T00:00:00",
          "2019-02-17T00:00:00",
          "2019-02-18T00:00:00",
          "2019-02-19T00:00:00",
          "2019-02-20T00:00:00",
          "2019-02-21T00:00:00",
          "2019-02-22T00:00:00",
          "2019-02-23T00:00:00",
          "2019-02-24T00:00:00",
          "2019-02-25T00:00:00",
          "2019-02-26T00:00:00",
          "2019-02-27T00:00:00",
          "2019-02-28T00:00:00",
          "2019-03-01T00:00:00",
          "2019-03-02T00:00:00",
          "2019-03-03T00:00:00",
          "2019-03-04T00:00:00",
          "2019-03-05T00:00:00",
          "2019-03-06T00:00:00",
          "2019-03-07T00:00:00",
          "2019-03-08T00:00:00",
          "2019-03-09T00:00:00",
          "2019-03-10T00:00:00",
          "2019-03-11T00:00:00",
          "2019-03-12T00:00:00",
          "2019-03-13T00:00:00",
          "2019-03-14T00:00:00",
          "2019-03-15T00:00:00",
          "2019-03-16T00:00:00",
          "2019-03-17T00:00:00",
          "2019-03-18T00:00:00",
          "2019-03-19T00:00:00",
          "2019-03-20T00:00:00",
          "2019-03-21T00:00:00",
          "2019-03-22T00:00:00",
          "2019-03-23T00:00:00",
          "2019-03-24T00:00:00",
          "2019-03-25T00:00:00",
          "2019-03-26T00:00:00",
          "2019-03-27T00:00:00",
          "2019-03-28T00:00:00",
          "2019-03-29T00:00:00",
          "2019-03-30T00:00:00",
          "2019-03-31T00:00:00",
          "2019-04-01T00:00:00",
          "2019-04-02T00:00:00",
          "2019-04-03T00:00:00",
          "2019-04-04T00:00:00",
          "2019-04-05T00:00:00",
          "2019-04-06T00:00:00",
          "2019-04-07T00:00:00",
          "2019-04-08T00:00:00",
          "2019-04-09T00:00:00",
          "2019-04-10T00:00:00",
          "2019-04-11T00:00:00",
          "2019-04-12T00:00:00",
          "2019-04-13T00:00:00",
          "2019-04-14T00:00:00",
          "2019-04-15T00:00:00",
          "2019-04-16T00:00:00",
          "2019-04-17T00:00:00",
          "2019-04-18T00:00:00",
          "2019-04-19T00:00:00",
          "2019-04-20T00:00:00",
          "2019-04-21T00:00:00",
          "2019-04-22T00:00:00",
          "2019-04-23T00:00:00",
          "2019-04-24T00:00:00",
          "2019-04-25T00:00:00",
          "2019-04-26T00:00:00",
          "2019-04-27T00:00:00",
          "2019-04-28T00:00:00",
          "2019-04-29T00:00:00",
          "2019-04-30T00:00:00",
          "2019-05-01T00:00:00",
          "2019-05-02T00:00:00",
          "2019-05-03T00:00:00",
          "2019-05-04T00:00:00",
          "2019-05-05T00:00:00",
          "2019-05-06T00:00:00",
          "2019-05-07T00:00:00",
          "2019-05-08T00:00:00",
          "2019-05-09T00:00:00",
          "2019-05-10T00:00:00",
          "2019-05-11T00:00:00",
          "2019-05-12T00:00:00",
          "2019-05-13T00:00:00",
          "2019-05-14T00:00:00",
          "2019-05-15T00:00:00",
          "2019-05-16T00:00:00",
          "2019-05-17T00:00:00",
          "2019-05-18T00:00:00",
          "2019-05-19T00:00:00",
          "2019-05-20T00:00:00",
          "2019-05-21T00:00:00",
          "2019-05-22T00:00:00",
          "2019-05-23T00:00:00",
          "2019-05-24T00:00:00",
          "2019-05-25T00:00:00",
          "2019-05-26T00:00:00",
          "2019-05-27T00:00:00",
          "2019-05-28T00:00:00",
          "2019-05-29T00:00:00",
          "2019-05-30T00:00:00",
          "2019-05-31T00:00:00",
          "2019-06-01T00:00:00",
          "2019-06-02T00:00:00",
          "2019-06-03T00:00:00",
          "2019-06-04T00:00:00",
          "2019-06-05T00:00:00",
          "2019-06-06T00:00:00",
          "2019-06-07T00:00:00",
          "2019-06-08T00:00:00",
          "2019-06-09T00:00:00",
          "2019-06-10T00:00:00",
          "2019-06-11T00:00:00",
          "2019-06-12T00:00:00",
          "2019-06-13T00:00:00",
          "2019-06-14T00:00:00",
          "2019-06-15T00:00:00",
          "2019-06-16T00:00:00",
          "2019-06-17T00:00:00",
          "2019-06-18T00:00:00",
          "2019-06-19T00:00:00",
          "2019-06-20T00:00:00",
          "2019-06-21T00:00:00",
          "2019-06-22T00:00:00",
          "2019-06-23T00:00:00",
          "2019-06-24T00:00:00",
          "2019-06-25T00:00:00",
          "2019-06-26T00:00:00",
          "2019-06-27T00:00:00",
          "2019-06-28T00:00:00",
          "2019-06-29T00:00:00",
          "2019-06-30T00:00:00",
          "2019-07-01T00:00:00",
          "2019-07-02T00:00:00",
          "2019-07-03T00:00:00",
          "2019-07-04T00:00:00",
          "2019-07-05T00:00:00",
          "2019-07-06T00:00:00",
          "2019-07-07T00:00:00",
          "2019-07-08T00:00:00",
          "2019-07-09T00:00:00",
          "2019-07-10T00:00:00",
          "2019-07-11T00:00:00",
          "2019-07-12T00:00:00",
          "2019-07-13T00:00:00",
          "2019-07-14T00:00:00",
          "2019-07-15T00:00:00",
          "2019-07-16T00:00:00",
          "2019-07-17T00:00:00",
          "2019-07-18T00:00:00",
          "2019-07-19T00:00:00",
          "2019-07-20T00:00:00",
          "2019-07-21T00:00:00",
          "2019-07-22T00:00:00",
          "2019-07-23T00:00:00",
          "2019-07-24T00:00:00",
          "2019-07-25T00:00:00",
          "2019-07-26T00:00:00",
          "2019-07-27T00:00:00",
          "2019-07-28T00:00:00",
          "2019-07-29T00:00:00",
          "2019-07-30T00:00:00",
          "2019-07-31T00:00:00",
          "2019-08-01T00:00:00",
          "2019-08-02T00:00:00",
          "2019-08-03T00:00:00",
          "2019-08-04T00:00:00",
          "2019-08-05T00:00:00",
          "2019-08-06T00:00:00",
          "2019-08-07T00:00:00",
          "2019-08-08T00:00:00",
          "2019-08-09T00:00:00",
          "2019-08-10T00:00:00",
          "2019-08-11T00:00:00",
          "2019-08-12T00:00:00"
         ],
         "y": [
          2388.579875026918,
          2427.9684659991785,
          2517.2731295474427,
          2525.030481533539,
          2599.7507156856054,
          2836.1879163584626,
          2815.6476570550403,
          2753.8529005284636,
          2822.3318758242367,
          2853.5689328689464,
          2908.2093826491728,
          2803.203162824941,
          2718.334304215492,
          2652.0777526337656,
          2357.256514680669,
          2449.5949416274575,
          2553.747971336364,
          2566.839244171188,
          2560.43983143381,
          2660.8161131263037,
          2709.262774126953,
          2680.307472814914,
          2717.6386948621202,
          2658.221192824159,
          2557.5211356091204,
          2464.2695354434463,
          2407.6134393550237,
          2533.2306812591446,
          2558.798318079778,
          2522.5362395351317,
          2461.1679175303457,
          2444.459859527675,
          2527.2491374584724,
          2596.4382602645146,
          2568.016397467303,
          2592.8878899230735,
          2543.9857787819433,
          2517.9476256752623,
          2539.3768544952195,
          2456.2747428352313,
          2338.340822194898,
          2342.1312022202787,
          2371.940693979107,
          2278.72802977935,
          2073.5628102633023,
          1939.5702884106022,
          2055.7844549045594,
          2279.520712782407,
          2311.446082644817,
          2492.357701698901,
          2718.396316200771,
          2777.623212342187,
          2767.513065632965,
          2754.251979292954,
          2624.9705053968405,
          2499.9815658142197,
          2572.4301519580504,
          2735.4348812619833,
          2717.617881295624,
          2677.523874383181,
          2760.3648575947736,
          2767.4017847791915,
          2714.600308113173,
          2745.4180116384523,
          2824.5567808960022,
          3152.1593292312155,
          3234.5939754224105,
          3304.623349775857,
          3415.613025723062,
          3343.202894759201,
          3391.60627431759,
          3505.5231514121256,
          3757.5869282825706,
          4023.023294753051,
          4169.278787363013,
          4166.681448916113,
          4160.070547056282,
          4348.2649799398605,
          4233.519978463672,
          4060.506371688498,
          4068.312584500995,
          4021.8486833205106,
          3923.7797744639283,
          4138.9410379720175,
          4178.964682674675,
          4354.8466694444605,
          4313.760092584753,
          4339.887384781217,
          4301.370170864653,
          4462.131202676006,
          4570.986819022317,
          4665.125734428626,
          4804.9560229816725,
          4682.358487406368,
          4574.432837462143,
          4365.153105590177,
          4253.429488814755,
          4527.267692532989,
          4578.231760213517,
          4481.36444486341,
          4288.6184819323435,
          4181.365955245373,
          4208.536624161478,
          4253.4732015273785,
          3931.875251850797,
          3622.01227613208,
          3408.9955307468667,
          3695.034440468479,
          3631.6292829969984,
          3943.0140681192147,
          3965.1630083214022,
          3936.9847713393533,
          3790.0314953461375,
          3624.2754147714836,
          3713.7802663025154,
          3694.724356950307,
          3823.581782051079,
          3916.490113846318,
          4031.8800120503074,
          4186.127557984337,
          4146.1524338919935,
          4266.653151633268,
          4294.191137692327,
          4392.689783427268,
          4307.036473870801,
          4251.624157385725,
          4255.969290892179,
          4362.285542434008,
          4351.766194373002,
          4492.445518670854,
          4641.586757859631,
          4810.964829462019,
          4788.16830930058,
          5113.9988639305,
          5618.698192864294,
          5671.165188057461,
          5615.7780484407385,
          5668.7067663488,
          5628.350901328305,
          5399.987910540806,
          5660.104544640417,
          5787.817870493002,
          6069.485534638142,
          5911.870777254555,
          5870.084034181252,
          5662.357393130186,
          5548.637295299297,
          5828.039592510038,
          5821.26110229157,
          5751.281359885549,
          5880.988306594645,
          6117.301185471419,
          6237.256033302716,
          6496.283271467,
          6953.447821286792,
          7237.280695951408,
          7256.4526912001875,
          7456.506282456426,
          7231.763107407978,
          7096.779894573889,
          7388.126583247378,
          7245.375867211653,
          6959.2629550046995,
          6559.140109188551,
          6110.301088582153,
          6347.096640276897,
          6593.79128198939,
          7040.667457799413,
          7453.795907976661,
          7822.915901927729,
          7694.321401686762,
          7823.264398731986,
          8088.767968120852,
          8153.317809825473,
          8190.625125105522,
          8169.710291088275,
          8165.570673970841,
          8425.346969160328,
          8977.075194014049,
          9560.699031987531,
          9823.511356503479,
          10401.855882992206,
          9888.439198611464,
          10201.016837224217,
          10946.077214827099,
          11298.898196288861,
          11340.006387503654,
          11645.740126856103,
          12573.30138642704,
          14765.59582349784,
          15436.869811658096,
          14810.959005975395,
          14125.449165541724,
          16191.061360481477,
          16721.880371703217,
          16548.102574347813,
          16321.984622243297,
          17371.207942450794,
          18183.892171615647,
          19198.052540253873,
          18726.44952749519,
          18327.857924666634,
          16829.325520586466,
          16212.882202172614,
          13745.19626153647,
          14762.518778666714,
          13656.605814690553,
          13966.465464005307,
          15250.631439961218,
          15578.790892066116,
          14251.978830251372,
          14542.9919404017,
          13212.907356386828,
          13336.410641043156,
          13413.135653552159,
          13870.54325970443,
          14972.25107991147,
          14819.971463123731,
          15775.43025854663,
          16668.209201147223,
          16509.2976338817,
          15308.103830968872,
          14862.409662438748,
          14193.671775732371,
          13708.192035411064,
          13667.544001859975,
          14227.27540953617,
          13692.42379440366,
          13831.064862786983,
          12158.329737876424,
          10679.413685353284,
          11497.8401897297,
          11521.551976873094,
          12469.476816535212,
          11884.298083473603,
          11134.722996853474,
          10722.82279042149,
          11017.444309189503,
          11284.658094563041,
          11025.590039321549,
          11233.831171763315,
          11658.2831800494,
          11284.155099287165,
          10634.5518299176,
          9985.21303109883,
          9503.137920333884,
          8555.571022577102,
          8918.652718697549,
          8720.731917698728,
          7613.357319058523,
          6835.250590665179,
          7916.4227313594465,
          8213.99023569132,
          8257.954342718343,
          8658.663492937374,
          8182.941388618236,
          8622.827941962221,
          8607.047605631098,
          9015.94872421616,
          9804.812803115097,
          10032.05927683427,
          10675.555116754307,
          10727.44976187261,
          10870.09027315917,
          11484.090398904804,
          10787.253898420031,
          10271.930847607025,
          10009.572874038047,
          9921.702075342719,
          9597.969866447596,
          9910.781644422184,
          10551.084976422584,
          10628.504487262764,
          10648.173477607948,
          10983.927273525116,
          11330.099785205703,
          11245.180815845708,
          11514.327297652942,
          11026.46644675543,
          10392.941910627891,
          9710.346149344035,
          8907.177545229804,
          9241.660429625686,
          9065.597061183676,
          9438.331000266371,
          9150.005524932201,
          8771.4214557844,
          8107.943345443022,
          8316.36684162075,
          8075.447778990482,
          7674.4894981759535,
          8350.691476379186,
          8624.244468620112,
          8982.241984275608,
          8796.119915854159,
          8527.020808878759,
          8864.883934618647,
          8527.779441496103,
          8207.455101486608,
          7960.166496592872,
          7917.944196184737,
          7524.864656753012,
          6888.6579280726555,
          7009.503404720789,
          6799.282042740652,
          6978.40792307537,
          7329.239994146742,
          7078.177931598886,
          6757.948724415294,
          6648.184983253715,
          6893.843376126852,
          6982.530141102855,
          6895.544079682092,
          6770.222355461926,
          6879.289976711666,
          7339.149089088701,
          7989.141996432903,
          8012.004232638982,
          8211.811688154177,
          8077.218788716056,
          8041.902761107214,
          8060.00925946473,
          8209.958060980509,
          8440.981833588852,
          8803.454200452989,
          8883.650882090516,
          8897.47554174651,
          9314.626351817591,
          9217.28766862342,
          8886.601245115793,
          9228.635673789164,
          9228.836829641514,
          9351.316329714895,
          9287.82589400281,
          8984.662200602163,
          9119.531214623603,
          9378.413413684439,
          9658.743558042868,
          9831.29581333134,
          9622.87895338868,
          9336.75605021737,
          9258.555372339571,
          9186.464551989597,
          9252.624044592803,
          8690.821474489898,
          8418.775460460372,
          8547.051292112083,
          8588.814774641643,
          8642.816049048723,
          8281.541513782111,
          8271.908490868029,
          8100.480455852627,
          8257.334534537387,
          8370.237306862742,
          8449.860266125288,
          8232.905048870885,
          7784.646024824595,
          7535.274208072432,
          7493.417100832233,
          7499.147834543186,
          7323.030615081221,
          7262.332702492214,
          7296.884117829091,
          7425.349503603963,
          7497.9972135412645,
          7479.947903211972,
          7597.242334763985,
          7696.225154564304,
          7572.801975719298,
          7503.242457335357,
          7605.9439196896,
          7694.38175611741,
          7637.867801745429,
          7634.122175258751,
          7130.518701570195,
          6759.777325672938,
          6754.010007057156,
          6434.30410008779,
          6501.358582469683,
          6549.002444132028,
          6461.787661649038,
          6510.29914591979,
          6529.356700108128,
          6724.676617009279,
          6682.958971719275,
          6733.271572205092,
          6357.43915006895,
          6138.968542695796,
          6022.359808726021,
          6201.692743527929,
          6196.017704859531,
          6099.921813574718,
          6082.67179335497,
          5907.316313219864,
          6366.453458717366,
          6351.812029308197,
          6455.037847866724,
          6600.723805125049,
          6564.798042628822,
          6577.515454379465,
          6542.915835881583,
          6584.846375500824,
          6737.618298992107,
          6706.558584380368,
          6476.948213424428,
          6355.794657709444,
          6218.907739830067,
          6236.3083853995,
          6240.415803066214,
          6323.136891380141,
          6521.641926867632,
          6869.604903161079,
          7409.272251444031,
          7394.856231043726,
          7418.693631156968,
          7349.545982388114,
          7453.955545487645,
          7673.534974926324,
          8066.990839367659,
          8240.090994749531,
          8197.062077416556,
          8015.75018803299,
          8171.070109336217,
          8196.25218934701,
          8137.401192689654,
          7922.6720300645065,
          7569.805207158245,
          7594.431973621364,
          7396.859288562539,
          7245.017244239369,
          7001.96900024807,
          6989.670163835144,
          6993.47077908751,
          6444.214273621912,
          6397.656734907616,
          6389.040317890655,
          6188.722230520981,
          6303.60004623978,
          6349.869859870177,
          6061.894414317892,
          6375.35042886717,
          6346.037240762881,
          6468.810814894148,
          6444.485109735266,
          6397.814756184111,
          6444.2214664413395,
          6397.665181642328,
          6581.466009929816,
          6432.758349146019,
          6558.073186308505,
          6712.472289703769,
          6669.957876511778,
          6713.548001668823,
          6994.494673167058,
          7048.5594423870725,
          6928.080209289305,
          6972.504358652031,
          7105.029624422261,
          7242.174045326667,
          7259.255542658507,
          7323.205328052773,
          7126.685763293415,
          6417.410969901397,
          6442.565810843332,
          6365.230716367017,
          6288.878670602897,
          6287.134921908012,
          6284.481503264109,
          6259.5010866889925,
          6445.214549616689,
          6496.404562146539,
          6517.056502414544,
          6487.964068352319,
          6401.753182010213,
          6302.927706945644,
          6338.760179717137,
          6413.577934718445,
          6661.652772271147,
          6708.3091443630465,
          6701.3393726091945,
          6628.513195861471,
          6412.782741937837,
          6463.8049132280585,
          6518.342339272284,
          6664.8983329653165,
          6539.426011209876,
          6570.823717766029,
          6578.148444817976,
          6545.887459945879,
          6446.535068502914,
          6552.9111929432465,
          6540.225933523557,
          6560.820128646875,
          6536.789988648338,
          6593.580331132751,
          6584.636997881777,
          6515.1837933828965,
          6213.45462414068,
          6204.462834076948,
          6199.33632430319,
          6227.574779512279,
          6367.025889601203,
          6436.064384473945,
          6433.032185725059,
          6427.69878336822,
          6389.1699551257725,
          6390.363297700282,
          6436.197593273851,
          6409.563603135302,
          6399.807341488838,
          6424.260586152408,
          6394.43327902804,
          6400.6333584982485,
          6403.730279587282,
          6402.156788155328,
          6334.836203108987,
          6266.0695810015695,
          6275.224097710675,
          6312.487078261362,
          6351.433460887222,
          6333.056017066233,
          6365.304937976729,
          6406.655448521287,
          6410.592072793505,
          6508.297844589206,
          6444.637087574999,
          6360.271702289567,
          6359.541610035244,
          6337.12385584588,
          6348.354437908521,
          6285.862343264475,
          6024.737379640903,
          5498.229001341467,
          5527.956199527701,
          5480.505915986735,
          5537.7962488390385,
          5203.282485532735,
          4529.7782641100985,
          4444.9319848898795,
          4465.309618795831,
          4249.876698909635,
          4203.4884032307455,
          3752.7257517902503,
          3848.240240776619,
          3701.9972502775126,
          4054.925999468132,
          4224.326667294381,
          4070.3447744503483,
          4075.7622910031355,
          4121.466764092921,
          3925.2574777004843,
          3903.121354957992,
          3801.8540060651994,
          3694.1089080555785,
          3360.143986786924,
          3385.42018062149,
          3469.126436557288,
          3468.0022707457933,
          3367.883253183701,
          3399.993329853063,
          3361.8130366311507,
          3231.7675220552474,
          3176.3758031916504,
          3216.489042443513,
          3334.8259490528703,
          3509.9964639061395,
          3747.437413785703,
          3923.3145898174216,
          3977.3141693706807,
          3848.116333414556,
          3980.1059520687772,
          4127.863575401293,
          3771.0736101571124,
          3779.2780523984998,
          3718.9807100177045,
          3699.6899630542,
          3875.434211378144,
          3786.6062766304153,
          3758.507535343961,
          3700.1589989286103,
          3825.0759666177405,
          3831.8687308912663,
          3785.246155880033,
          3837.4376423852254,
          3873.290028871832,
          4022.3182921830708,
          4009.5871022215138,
          4010.018086853795,
          3798.5046643541955,
          3640.7372112395437,
          3626.0908042811716,
          3576.7479641695604,
          3578.6722979920546,
          3636.80705946271,
          3603.5334259089473,
          3601.7209411968206,
          3613.499500073069,
          3672.5975044411116,
          3607.5837514812692,
          3533.4848977298557,
          3551.267713466976,
          3569.143179492548,
          3556.5565768670344,
          3557.524358547162,
          3569.362232966812,
          3544.43106406523,
          3441.1116648925895,
          3397.2663500343424,
          3422.361174272552,
          3425.123067801499,
          3412.94868166132,
          3431.153380682849,
          3421.9793724599476,
          3412.8726668589757,
          3422.164650575279,
          3370.848962527628,
          3365.581928733953,
          3450.622008574299,
          3613.3759331572596,
          3608.8307972556368,
          3594.4154488075237,
          3577.992386247971,
          3582.2018232161768,
          3567.5110678464944,
          3571.6796272307574,
          3588.6368131401996,
          3587.481230756235,
          3757.2775251751973,
          3897.3109790495496,
          3907.4489798319532,
          3910.567461139906,
          3921.757879929301,
          3978.254051767013,
          3989.3840558385796,
          3792.3604892734525,
          3802.7563801480114,
          3796.099311362144,
          3809.2863998334024,
          3813.80306767851,
          3805.137531010286,
          3803.5651858349693,
          3729.803415668661,
          3763.3055329112026,
          3836.4946164028142,
          3857.412632928716,
          3872.9873809873848,
          3887.7625566329825,
          3893.264071687519,
          3862.8506434451606,
          3845.419450987623,
          3852.173075987897,
          3849.2356742388333,
          3878.904600831057,
          3979.084082726618,
          3964.501282410706,
          3969.4359861222915,
          3978.079449228341,
          3996.656188259612,
          4001.8988244123366,
          3984.3058029204763,
          3977.4562552172124,
          3973.2621310775166,
          3952.599809798565,
          3907.8582767771054,
          3990.158380121245,
          4007.726234447975,
          4054.662454516085,
          4084.117204650687,
          4087.1825682086474,
          4127.472849536052,
          4644.526551454629,
          5034.429685068629,
          4972.629944170042,
          4976.09159059773,
          5041.556662280325,
          5125.593964910049,
          5238.403657959582,
          5225.986450503464,
          5278.337127580446,
          5129.744769142833,
          5046.722705599623,
          5082.642339897603,
          5079.002829999359,
          5122.324701796388,
          5101.198097338881,
          5217.858365363853,
          5268.420653281125,
          5257.871743040143,
          5312.952363408463,
          5287.792472776502,
          5315.669943298087,
          5524.147530833382,
          5488.730642258575,
          5428.504302249109,
          5148.827548718546,
          5164.282742601478,
          5167.245228335306,
          5155.166913719158,
          5197.911831867727,
          5303.530555931072,
          5361.693713956711,
          5617.898712047735,
          5693.370196511453,
          5724.252005862474,
          5653.577273568698,
          5860.272253191232,
          5843.431195986868,
          6049.985820683191,
          6284.693176491132,
          6809.836589652242,
          7146.356662904828,
          7411.891923990788,
          7991.345516850542,
          8052.6918166056785,
          7997.282708680078,
          7260.913831818574,
          7321.203803979215,
          7936.027465871303,
          7903.518562382391,
          7949.423804827691,
          7884.617619872401,
          7706.522932964075,
          7982.693958822212,
          8042.122738100573,
          8124.238502729698,
          8780.865949969679,
          8727.446554243415,
          8651.423494606908,
          8630.369351318359,
          8347.266829511442,
          8539.267873296127,
          8671.632865071273,
          8535.774466575853,
          7854.008039873766,
          7777.741569114814,
          7747.5444767322615,
          7932.169400817339,
          7932.582029800513,
          7797.117053089315,
          7818.404959499802,
          7896.1862660215675,
          8030.113864961869,
          8167.772259218201,
          8357.630161613926,
          8734.370279825303,
          9088.182798893562,
          9240.188639823475,
          9149.011119369721,
          9141.752090127358,
          9351.190913460865,
          9805.21859790916,
          10709.96439424137,
          10755.204157622937,
          10848.221944076702,
          11319.35357708263,
          12637.185919081834,
          11806.175945810355,
          11682.922281145356,
          11846.503206750576,
          11545.799238258365,
          10688.699035959778,
          10308.510706661757,
          11338.425411637678,
          11759.408419183635,
          11138.59051734004,
          11422.273073500746,
          11299.619431245696,
          11785.484753686773,
          12519.053579098761,
          12661.438396504569,
          11582.82703564485,
          11591.975837374794,
          11430.476968674391,
          10861.767606566113,
          10422.912662258886,
          10347.469569231816,
          9576.780021542838,
          10053.444972032887,
          10475.5784795546,
          10671.009619079965,
          10572.675382923091,
          10454.86941738426,
          10081.484999730443,
          9690.421508630723,
          10018.049694573398,
          9771.47548157671,
          9745.606113901416,
          9494.2377504079,
          9538.487976844137,
          9537.129674814856,
          9857.169553511865,
          10081.64081663918,
          10479.108743740982,
          10792.836587081645,
          10816.913782693673,
          11676.433777501157,
          11746.329999977426,
          11720.745013322716,
          11802.077861789769,
          11807.553140900867,
          11572.162608995552,
          11376.378020657192,
          11508.034335467182
         ]
        }
       ],
       "layout": {
        "height": 400,
        "template": {
         "data": {
          "bar": [
           {
            "error_x": {
             "color": "#2a3f5f"
            },
            "error_y": {
             "color": "#2a3f5f"
            },
            "marker": {
             "line": {
              "color": "#E5ECF6",
              "width": 0.5
             }
            },
            "type": "bar"
           }
          ],
          "barpolar": [
           {
            "marker": {
             "line": {
              "color": "#E5ECF6",
              "width": 0.5
             }
            },
            "type": "barpolar"
           }
          ],
          "carpet": [
           {
            "aaxis": {
             "endlinecolor": "#2a3f5f",
             "gridcolor": "white",
             "linecolor": "white",
             "minorgridcolor": "white",
             "startlinecolor": "#2a3f5f"
            },
            "baxis": {
             "endlinecolor": "#2a3f5f",
             "gridcolor": "white",
             "linecolor": "white",
             "minorgridcolor": "white",
             "startlinecolor": "#2a3f5f"
            },
            "type": "carpet"
           }
          ],
          "choropleth": [
           {
            "colorbar": {
             "outlinewidth": 0,
             "ticks": ""
            },
            "type": "choropleth"
           }
          ],
          "contour": [
           {
            "colorbar": {
             "outlinewidth": 0,
             "ticks": ""
            },
            "colorscale": [
             [
              0,
              "#0d0887"
             ],
             [
              0.1111111111111111,
              "#46039f"
             ],
             [
              0.2222222222222222,
              "#7201a8"
             ],
             [
              0.3333333333333333,
              "#9c179e"
             ],
             [
              0.4444444444444444,
              "#bd3786"
             ],
             [
              0.5555555555555556,
              "#d8576b"
             ],
             [
              0.6666666666666666,
              "#ed7953"
             ],
             [
              0.7777777777777778,
              "#fb9f3a"
             ],
             [
              0.8888888888888888,
              "#fdca26"
             ],
             [
              1,
              "#f0f921"
             ]
            ],
            "type": "contour"
           }
          ],
          "contourcarpet": [
           {
            "colorbar": {
             "outlinewidth": 0,
             "ticks": ""
            },
            "type": "contourcarpet"
           }
          ],
          "heatmap": [
           {
            "colorbar": {
             "outlinewidth": 0,
             "ticks": ""
            },
            "colorscale": [
             [
              0,
              "#0d0887"
             ],
             [
              0.1111111111111111,
              "#46039f"
             ],
             [
              0.2222222222222222,
              "#7201a8"
             ],
             [
              0.3333333333333333,
              "#9c179e"
             ],
             [
              0.4444444444444444,
              "#bd3786"
             ],
             [
              0.5555555555555556,
              "#d8576b"
             ],
             [
              0.6666666666666666,
              "#ed7953"
             ],
             [
              0.7777777777777778,
              "#fb9f3a"
             ],
             [
              0.8888888888888888,
              "#fdca26"
             ],
             [
              1,
              "#f0f921"
             ]
            ],
            "type": "heatmap"
           }
          ],
          "heatmapgl": [
           {
            "colorbar": {
             "outlinewidth": 0,
             "ticks": ""
            },
            "colorscale": [
             [
              0,
              "#0d0887"
             ],
             [
              0.1111111111111111,
              "#46039f"
             ],
             [
              0.2222222222222222,
              "#7201a8"
             ],
             [
              0.3333333333333333,
              "#9c179e"
             ],
             [
              0.4444444444444444,
              "#bd3786"
             ],
             [
              0.5555555555555556,
              "#d8576b"
             ],
             [
              0.6666666666666666,
              "#ed7953"
             ],
             [
              0.7777777777777778,
              "#fb9f3a"
             ],
             [
              0.8888888888888888,
              "#fdca26"
             ],
             [
              1,
              "#f0f921"
             ]
            ],
            "type": "heatmapgl"
           }
          ],
          "histogram": [
           {
            "marker": {
             "colorbar": {
              "outlinewidth": 0,
              "ticks": ""
             }
            },
            "type": "histogram"
           }
          ],
          "histogram2d": [
           {
            "colorbar": {
             "outlinewidth": 0,
             "ticks": ""
            },
            "colorscale": [
             [
              0,
              "#0d0887"
             ],
             [
              0.1111111111111111,
              "#46039f"
             ],
             [
              0.2222222222222222,
              "#7201a8"
             ],
             [
              0.3333333333333333,
              "#9c179e"
             ],
             [
              0.4444444444444444,
              "#bd3786"
             ],
             [
              0.5555555555555556,
              "#d8576b"
             ],
             [
              0.6666666666666666,
              "#ed7953"
             ],
             [
              0.7777777777777778,
              "#fb9f3a"
             ],
             [
              0.8888888888888888,
              "#fdca26"
             ],
             [
              1,
              "#f0f921"
             ]
            ],
            "type": "histogram2d"
           }
          ],
          "histogram2dcontour": [
           {
            "colorbar": {
             "outlinewidth": 0,
             "ticks": ""
            },
            "colorscale": [
             [
              0,
              "#0d0887"
             ],
             [
              0.1111111111111111,
              "#46039f"
             ],
             [
              0.2222222222222222,
              "#7201a8"
             ],
             [
              0.3333333333333333,
              "#9c179e"
             ],
             [
              0.4444444444444444,
              "#bd3786"
             ],
             [
              0.5555555555555556,
              "#d8576b"
             ],
             [
              0.6666666666666666,
              "#ed7953"
             ],
             [
              0.7777777777777778,
              "#fb9f3a"
             ],
             [
              0.8888888888888888,
              "#fdca26"
             ],
             [
              1,
              "#f0f921"
             ]
            ],
            "type": "histogram2dcontour"
           }
          ],
          "mesh3d": [
           {
            "colorbar": {
             "outlinewidth": 0,
             "ticks": ""
            },
            "type": "mesh3d"
           }
          ],
          "parcoords": [
           {
            "line": {
             "colorbar": {
              "outlinewidth": 0,
              "ticks": ""
             }
            },
            "type": "parcoords"
           }
          ],
          "scatter": [
           {
            "marker": {
             "colorbar": {
              "outlinewidth": 0,
              "ticks": ""
             }
            },
            "type": "scatter"
           }
          ],
          "scatter3d": [
           {
            "line": {
             "colorbar": {
              "outlinewidth": 0,
              "ticks": ""
             }
            },
            "marker": {
             "colorbar": {
              "outlinewidth": 0,
              "ticks": ""
             }
            },
            "type": "scatter3d"
           }
          ],
          "scattercarpet": [
           {
            "marker": {
             "colorbar": {
              "outlinewidth": 0,
              "ticks": ""
             }
            },
            "type": "scattercarpet"
           }
          ],
          "scattergeo": [
           {
            "marker": {
             "colorbar": {
              "outlinewidth": 0,
              "ticks": ""
             }
            },
            "type": "scattergeo"
           }
          ],
          "scattergl": [
           {
            "marker": {
             "colorbar": {
              "outlinewidth": 0,
              "ticks": ""
             }
            },
            "type": "scattergl"
           }
          ],
          "scattermapbox": [
           {
            "marker": {
             "colorbar": {
              "outlinewidth": 0,
              "ticks": ""
             }
            },
            "type": "scattermapbox"
           }
          ],
          "scatterpolar": [
           {
            "marker": {
             "colorbar": {
              "outlinewidth": 0,
              "ticks": ""
             }
            },
            "type": "scatterpolar"
           }
          ],
          "scatterpolargl": [
           {
            "marker": {
             "colorbar": {
              "outlinewidth": 0,
              "ticks": ""
             }
            },
            "type": "scatterpolargl"
           }
          ],
          "scatterternary": [
           {
            "marker": {
             "colorbar": {
              "outlinewidth": 0,
              "ticks": ""
             }
            },
            "type": "scatterternary"
           }
          ],
          "surface": [
           {
            "colorbar": {
             "outlinewidth": 0,
             "ticks": ""
            },
            "colorscale": [
             [
              0,
              "#0d0887"
             ],
             [
              0.1111111111111111,
              "#46039f"
             ],
             [
              0.2222222222222222,
              "#7201a8"
             ],
             [
              0.3333333333333333,
              "#9c179e"
             ],
             [
              0.4444444444444444,
              "#bd3786"
             ],
             [
              0.5555555555555556,
              "#d8576b"
             ],
             [
              0.6666666666666666,
              "#ed7953"
             ],
             [
              0.7777777777777778,
              "#fb9f3a"
             ],
             [
              0.8888888888888888,
              "#fdca26"
             ],
             [
              1,
              "#f0f921"
             ]
            ],
            "type": "surface"
           }
          ],
          "table": [
           {
            "cells": {
             "fill": {
              "color": "#EBF0F8"
             },
             "line": {
              "color": "white"
             }
            },
            "header": {
             "fill": {
              "color": "#C8D4E3"
             },
             "line": {
              "color": "white"
             }
            },
            "type": "table"
           }
          ]
         },
         "layout": {
          "annotationdefaults": {
           "arrowcolor": "#2a3f5f",
           "arrowhead": 0,
           "arrowwidth": 1
          },
          "colorscale": {
           "diverging": [
            [
             0,
             "#8e0152"
            ],
            [
             0.1,
             "#c51b7d"
            ],
            [
             0.2,
             "#de77ae"
            ],
            [
             0.3,
             "#f1b6da"
            ],
            [
             0.4,
             "#fde0ef"
            ],
            [
             0.5,
             "#f7f7f7"
            ],
            [
             0.6,
             "#e6f5d0"
            ],
            [
             0.7,
             "#b8e186"
            ],
            [
             0.8,
             "#7fbc41"
            ],
            [
             0.9,
             "#4d9221"
            ],
            [
             1,
             "#276419"
            ]
           ],
           "sequential": [
            [
             0,
             "#0d0887"
            ],
            [
             0.1111111111111111,
             "#46039f"
            ],
            [
             0.2222222222222222,
             "#7201a8"
            ],
            [
             0.3333333333333333,
             "#9c179e"
            ],
            [
             0.4444444444444444,
             "#bd3786"
            ],
            [
             0.5555555555555556,
             "#d8576b"
            ],
            [
             0.6666666666666666,
             "#ed7953"
            ],
            [
             0.7777777777777778,
             "#fb9f3a"
            ],
            [
             0.8888888888888888,
             "#fdca26"
            ],
            [
             1,
             "#f0f921"
            ]
           ],
           "sequentialminus": [
            [
             0,
             "#0d0887"
            ],
            [
             0.1111111111111111,
             "#46039f"
            ],
            [
             0.2222222222222222,
             "#7201a8"
            ],
            [
             0.3333333333333333,
             "#9c179e"
            ],
            [
             0.4444444444444444,
             "#bd3786"
            ],
            [
             0.5555555555555556,
             "#d8576b"
            ],
            [
             0.6666666666666666,
             "#ed7953"
            ],
            [
             0.7777777777777778,
             "#fb9f3a"
            ],
            [
             0.8888888888888888,
             "#fdca26"
            ],
            [
             1,
             "#f0f921"
            ]
           ]
          },
          "colorway": [
           "#636efa",
           "#EF553B",
           "#00cc96",
           "#ab63fa",
           "#FFA15A",
           "#19d3f3",
           "#FF6692",
           "#B6E880",
           "#FF97FF",
           "#FECB52"
          ],
          "font": {
           "color": "#2a3f5f"
          },
          "geo": {
           "bgcolor": "white",
           "lakecolor": "white",
           "landcolor": "#E5ECF6",
           "showlakes": true,
           "showland": true,
           "subunitcolor": "white"
          },
          "hoverlabel": {
           "align": "left"
          },
          "hovermode": "closest",
          "mapbox": {
           "style": "light"
          },
          "paper_bgcolor": "white",
          "plot_bgcolor": "#E5ECF6",
          "polar": {
           "angularaxis": {
            "gridcolor": "white",
            "linecolor": "white",
            "ticks": ""
           },
           "bgcolor": "#E5ECF6",
           "radialaxis": {
            "gridcolor": "white",
            "linecolor": "white",
            "ticks": ""
           }
          },
          "scene": {
           "xaxis": {
            "backgroundcolor": "#E5ECF6",
            "gridcolor": "white",
            "gridwidth": 2,
            "linecolor": "white",
            "showbackground": true,
            "ticks": "",
            "zerolinecolor": "white"
           },
           "yaxis": {
            "backgroundcolor": "#E5ECF6",
            "gridcolor": "white",
            "gridwidth": 2,
            "linecolor": "white",
            "showbackground": true,
            "ticks": "",
            "zerolinecolor": "white"
           },
           "zaxis": {
            "backgroundcolor": "#E5ECF6",
            "gridcolor": "white",
            "gridwidth": 2,
            "linecolor": "white",
            "showbackground": true,
            "ticks": "",
            "zerolinecolor": "white"
           }
          },
          "shapedefaults": {
           "line": {
            "color": "#2a3f5f"
           }
          },
          "ternary": {
           "aaxis": {
            "gridcolor": "white",
            "linecolor": "white",
            "ticks": ""
           },
           "baxis": {
            "gridcolor": "white",
            "linecolor": "white",
            "ticks": ""
           },
           "bgcolor": "#E5ECF6",
           "caxis": {
            "gridcolor": "white",
            "linecolor": "white",
            "ticks": ""
           }
          },
          "title": {
           "x": 0.05
          },
          "xaxis": {
           "automargin": true,
           "gridcolor": "white",
           "linecolor": "white",
           "ticks": "",
           "zerolinecolor": "white",
           "zerolinewidth": 2
          },
          "yaxis": {
           "automargin": true,
           "gridcolor": "white",
           "linecolor": "white",
           "ticks": "",
           "zerolinecolor": "white",
           "zerolinewidth": 2
          }
         }
        },
        "title": {
         "text": "Random walk prediction"
        },
        "width": 550,
        "xaxis": {
         "range": [
          "2017-06-01",
          "2018-12-31"
         ],
         "title": {
          "text": "timestamp"
         }
        },
        "yaxis": {
         "title": {
          "text": "Price /USD"
         }
        }
       }
      },
      "text/html": [
       "<div>\n",
       "        \n",
       "        \n",
       "            <div id=\"52cadf4b-0e01-4795-a909-3ffac9f75c4c\" class=\"plotly-graph-div\" style=\"height:400px; width:550px;\"></div>\n",
       "            <script type=\"text/javascript\">\n",
       "                require([\"plotly\"], function(Plotly) {\n",
       "                    window.PLOTLYENV=window.PLOTLYENV || {};\n",
       "                    \n",
       "                if (document.getElementById(\"52cadf4b-0e01-4795-a909-3ffac9f75c4c\")) {\n",
       "                    Plotly.newPlot(\n",
       "                        '52cadf4b-0e01-4795-a909-3ffac9f75c4c',\n",
       "                        [{\"marker\": {\"color\": \"rgba(235, 115, 150, 0.5)\"}, \"mode\": \"lines\", \"name\": \"Actual\", \"type\": \"scatter\", \"x\": [\"2017-06-01T00:00:00\", \"2017-06-02T00:00:00\", \"2017-06-03T00:00:00\", \"2017-06-04T00:00:00\", \"2017-06-05T00:00:00\", \"2017-06-06T00:00:00\", \"2017-06-07T00:00:00\", \"2017-06-08T00:00:00\", \"2017-06-09T00:00:00\", \"2017-06-10T00:00:00\", \"2017-06-11T00:00:00\", \"2017-06-12T00:00:00\", \"2017-06-13T00:00:00\", \"2017-06-14T00:00:00\", \"2017-06-15T00:00:00\", \"2017-06-16T00:00:00\", \"2017-06-17T00:00:00\", \"2017-06-18T00:00:00\", \"2017-06-19T00:00:00\", \"2017-06-20T00:00:00\", \"2017-06-21T00:00:00\", \"2017-06-22T00:00:00\", \"2017-06-23T00:00:00\", \"2017-06-24T00:00:00\", \"2017-06-25T00:00:00\", \"2017-06-26T00:00:00\", \"2017-06-27T00:00:00\", \"2017-06-28T00:00:00\", \"2017-06-29T00:00:00\", \"2017-06-30T00:00:00\", \"2017-07-01T00:00:00\", \"2017-07-02T00:00:00\", \"2017-07-03T00:00:00\", \"2017-07-04T00:00:00\", \"2017-07-05T00:00:00\", \"2017-07-06T00:00:00\", \"2017-07-07T00:00:00\", \"2017-07-08T00:00:00\", \"2017-07-09T00:00:00\", \"2017-07-10T00:00:00\", \"2017-07-11T00:00:00\", \"2017-07-12T00:00:00\", \"2017-07-13T00:00:00\", \"2017-07-14T00:00:00\", \"2017-07-15T00:00:00\", \"2017-07-16T00:00:00\", \"2017-07-17T00:00:00\", \"2017-07-18T00:00:00\", \"2017-07-19T00:00:00\", \"2017-07-20T00:00:00\", \"2017-07-21T00:00:00\", \"2017-07-22T00:00:00\", \"2017-07-23T00:00:00\", \"2017-07-24T00:00:00\", \"2017-07-25T00:00:00\", \"2017-07-26T00:00:00\", \"2017-07-27T00:00:00\", \"2017-07-28T00:00:00\", \"2017-07-29T00:00:00\", \"2017-07-30T00:00:00\", \"2017-07-31T00:00:00\", \"2017-08-01T00:00:00\", \"2017-08-02T00:00:00\", \"2017-08-03T00:00:00\", \"2017-08-04T00:00:00\", \"2017-08-05T00:00:00\", \"2017-08-06T00:00:00\", \"2017-08-07T00:00:00\", \"2017-08-08T00:00:00\", \"2017-08-09T00:00:00\", \"2017-08-10T00:00:00\", \"2017-08-11T00:00:00\", \"2017-08-12T00:00:00\", \"2017-08-13T00:00:00\", \"2017-08-14T00:00:00\", \"2017-08-15T00:00:00\", \"2017-08-16T00:00:00\", \"2017-08-17T00:00:00\", \"2017-08-18T00:00:00\", \"2017-08-19T00:00:00\", \"2017-08-20T00:00:00\", \"2017-08-21T00:00:00\", \"2017-08-22T00:00:00\", \"2017-08-23T00:00:00\", \"2017-08-24T00:00:00\", \"2017-08-25T00:00:00\", \"2017-08-26T00:00:00\", \"2017-08-27T00:00:00\", \"2017-08-28T00:00:00\", \"2017-08-29T00:00:00\", \"2017-08-30T00:00:00\", \"2017-08-31T00:00:00\", \"2017-09-01T00:00:00\", \"2017-09-02T00:00:00\", \"2017-09-03T00:00:00\", \"2017-09-04T00:00:00\", \"2017-09-05T00:00:00\", \"2017-09-06T00:00:00\", \"2017-09-07T00:00:00\", \"2017-09-08T00:00:00\", \"2017-09-09T00:00:00\", \"2017-09-10T00:00:00\", \"2017-09-11T00:00:00\", \"2017-09-12T00:00:00\", \"2017-09-13T00:00:00\", \"2017-09-14T00:00:00\", \"2017-09-15T00:00:00\", \"2017-09-16T00:00:00\", \"2017-09-17T00:00:00\", \"2017-09-18T00:00:00\", \"2017-09-19T00:00:00\", \"2017-09-20T00:00:00\", \"2017-09-21T00:00:00\", \"2017-09-22T00:00:00\", \"2017-09-23T00:00:00\", \"2017-09-24T00:00:00\", \"2017-09-25T00:00:00\", \"2017-09-26T00:00:00\", \"2017-09-27T00:00:00\", \"2017-09-28T00:00:00\", \"2017-09-29T00:00:00\", \"2017-09-30T00:00:00\", \"2017-10-01T00:00:00\", \"2017-10-02T00:00:00\", \"2017-10-03T00:00:00\", \"2017-10-04T00:00:00\", \"2017-10-05T00:00:00\", \"2017-10-06T00:00:00\", \"2017-10-07T00:00:00\", \"2017-10-08T00:00:00\", \"2017-10-09T00:00:00\", \"2017-10-10T00:00:00\", \"2017-10-11T00:00:00\", \"2017-10-12T00:00:00\", \"2017-10-13T00:00:00\", \"2017-10-14T00:00:00\", \"2017-10-15T00:00:00\", \"2017-10-16T00:00:00\", \"2017-10-17T00:00:00\", \"2017-10-18T00:00:00\", \"2017-10-19T00:00:00\", \"2017-10-20T00:00:00\", \"2017-10-21T00:00:00\", \"2017-10-22T00:00:00\", \"2017-10-23T00:00:00\", \"2017-10-24T00:00:00\", \"2017-10-25T00:00:00\", \"2017-10-26T00:00:00\", \"2017-10-27T00:00:00\", \"2017-10-28T00:00:00\", \"2017-10-29T00:00:00\", \"2017-10-30T00:00:00\", \"2017-10-31T00:00:00\", \"2017-11-01T00:00:00\", \"2017-11-02T00:00:00\", \"2017-11-03T00:00:00\", \"2017-11-04T00:00:00\", \"2017-11-05T00:00:00\", \"2017-11-06T00:00:00\", \"2017-11-07T00:00:00\", \"2017-11-08T00:00:00\", \"2017-11-09T00:00:00\", \"2017-11-10T00:00:00\", \"2017-11-11T00:00:00\", \"2017-11-12T00:00:00\", \"2017-11-13T00:00:00\", \"2017-11-14T00:00:00\", \"2017-11-15T00:00:00\", \"2017-11-16T00:00:00\", \"2017-11-17T00:00:00\", \"2017-11-18T00:00:00\", \"2017-11-19T00:00:00\", \"2017-11-20T00:00:00\", \"2017-11-21T00:00:00\", \"2017-11-22T00:00:00\", \"2017-11-23T00:00:00\", \"2017-11-24T00:00:00\", \"2017-11-25T00:00:00\", \"2017-11-26T00:00:00\", \"2017-11-27T00:00:00\", \"2017-11-28T00:00:00\", \"2017-11-29T00:00:00\", \"2017-11-30T00:00:00\", \"2017-12-01T00:00:00\", \"2017-12-02T00:00:00\", \"2017-12-03T00:00:00\", \"2017-12-04T00:00:00\", \"2017-12-05T00:00:00\", \"2017-12-06T00:00:00\", \"2017-12-07T00:00:00\", \"2017-12-08T00:00:00\", \"2017-12-09T00:00:00\", \"2017-12-10T00:00:00\", \"2017-12-11T00:00:00\", \"2017-12-12T00:00:00\", \"2017-12-13T00:00:00\", \"2017-12-14T00:00:00\", \"2017-12-15T00:00:00\", \"2017-12-16T00:00:00\", \"2017-12-17T00:00:00\", \"2017-12-18T00:00:00\", \"2017-12-19T00:00:00\", \"2017-12-20T00:00:00\", \"2017-12-21T00:00:00\", \"2017-12-22T00:00:00\", \"2017-12-23T00:00:00\", \"2017-12-24T00:00:00\", \"2017-12-25T00:00:00\", \"2017-12-26T00:00:00\", \"2017-12-27T00:00:00\", \"2017-12-28T00:00:00\", \"2017-12-29T00:00:00\", \"2017-12-30T00:00:00\", \"2017-12-31T00:00:00\", \"2018-01-01T00:00:00\", \"2018-01-02T00:00:00\", \"2018-01-03T00:00:00\", \"2018-01-04T00:00:00\", \"2018-01-05T00:00:00\", \"2018-01-06T00:00:00\", \"2018-01-07T00:00:00\", \"2018-01-08T00:00:00\", \"2018-01-09T00:00:00\", \"2018-01-10T00:00:00\", \"2018-01-11T00:00:00\", \"2018-01-12T00:00:00\", \"2018-01-13T00:00:00\", \"2018-01-14T00:00:00\", \"2018-01-15T00:00:00\", \"2018-01-16T00:00:00\", \"2018-01-17T00:00:00\", \"2018-01-18T00:00:00\", \"2018-01-19T00:00:00\", \"2018-01-20T00:00:00\", \"2018-01-21T00:00:00\", \"2018-01-22T00:00:00\", \"2018-01-23T00:00:00\", \"2018-01-24T00:00:00\", \"2018-01-25T00:00:00\", \"2018-01-26T00:00:00\", \"2018-01-27T00:00:00\", \"2018-01-28T00:00:00\", \"2018-01-29T00:00:00\", \"2018-01-30T00:00:00\", \"2018-01-31T00:00:00\", \"2018-02-01T00:00:00\", \"2018-02-02T00:00:00\", \"2018-02-03T00:00:00\", \"2018-02-04T00:00:00\", \"2018-02-05T00:00:00\", \"2018-02-06T00:00:00\", \"2018-02-07T00:00:00\", \"2018-02-08T00:00:00\", \"2018-02-09T00:00:00\", \"2018-02-10T00:00:00\", \"2018-02-11T00:00:00\", \"2018-02-12T00:00:00\", \"2018-02-13T00:00:00\", \"2018-02-14T00:00:00\", \"2018-02-15T00:00:00\", \"2018-02-16T00:00:00\", \"2018-02-17T00:00:00\", \"2018-02-18T00:00:00\", \"2018-02-19T00:00:00\", \"2018-02-20T00:00:00\", \"2018-02-21T00:00:00\", \"2018-02-22T00:00:00\", \"2018-02-23T00:00:00\", \"2018-02-24T00:00:00\", \"2018-02-25T00:00:00\", \"2018-02-26T00:00:00\", \"2018-02-27T00:00:00\", \"2018-02-28T00:00:00\", \"2018-03-01T00:00:00\", \"2018-03-02T00:00:00\", \"2018-03-03T00:00:00\", \"2018-03-04T00:00:00\", \"2018-03-05T00:00:00\", \"2018-03-06T00:00:00\", \"2018-03-07T00:00:00\", \"2018-03-08T00:00:00\", \"2018-03-09T00:00:00\", \"2018-03-10T00:00:00\", \"2018-03-11T00:00:00\", \"2018-03-12T00:00:00\", \"2018-03-13T00:00:00\", \"2018-03-14T00:00:00\", \"2018-03-15T00:00:00\", \"2018-03-16T00:00:00\", \"2018-03-17T00:00:00\", \"2018-03-18T00:00:00\", \"2018-03-19T00:00:00\", \"2018-03-20T00:00:00\", \"2018-03-21T00:00:00\", \"2018-03-22T00:00:00\", \"2018-03-23T00:00:00\", \"2018-03-24T00:00:00\", \"2018-03-25T00:00:00\", \"2018-03-26T00:00:00\", \"2018-03-27T00:00:00\", \"2018-03-28T00:00:00\", \"2018-03-29T00:00:00\", \"2018-03-30T00:00:00\", \"2018-03-31T00:00:00\", \"2018-04-01T00:00:00\", \"2018-04-02T00:00:00\", \"2018-04-03T00:00:00\", \"2018-04-04T00:00:00\", \"2018-04-05T00:00:00\", \"2018-04-06T00:00:00\", \"2018-04-07T00:00:00\", \"2018-04-08T00:00:00\", \"2018-04-09T00:00:00\", \"2018-04-10T00:00:00\", \"2018-04-11T00:00:00\", \"2018-04-12T00:00:00\", \"2018-04-13T00:00:00\", \"2018-04-14T00:00:00\", \"2018-04-15T00:00:00\", \"2018-04-16T00:00:00\", \"2018-04-17T00:00:00\", \"2018-04-18T00:00:00\", \"2018-04-19T00:00:00\", \"2018-04-20T00:00:00\", \"2018-04-21T00:00:00\", \"2018-04-22T00:00:00\", \"2018-04-23T00:00:00\", \"2018-04-24T00:00:00\", \"2018-04-25T00:00:00\", \"2018-04-26T00:00:00\", \"2018-04-27T00:00:00\", \"2018-04-28T00:00:00\", \"2018-04-29T00:00:00\", \"2018-04-30T00:00:00\", \"2018-05-01T00:00:00\", \"2018-05-02T00:00:00\", \"2018-05-03T00:00:00\", \"2018-05-04T00:00:00\", \"2018-05-05T00:00:00\", \"2018-05-06T00:00:00\", \"2018-05-07T00:00:00\", \"2018-05-08T00:00:00\", \"2018-05-09T00:00:00\", \"2018-05-10T00:00:00\", \"2018-05-11T00:00:00\", \"2018-05-12T00:00:00\", \"2018-05-13T00:00:00\", \"2018-05-14T00:00:00\", \"2018-05-15T00:00:00\", \"2018-05-16T00:00:00\", \"2018-05-17T00:00:00\", \"2018-05-18T00:00:00\", \"2018-05-19T00:00:00\", \"2018-05-20T00:00:00\", \"2018-05-21T00:00:00\", \"2018-05-22T00:00:00\", \"2018-05-23T00:00:00\", \"2018-05-24T00:00:00\", \"2018-05-25T00:00:00\", \"2018-05-26T00:00:00\", \"2018-05-27T00:00:00\", \"2018-05-28T00:00:00\", \"2018-05-29T00:00:00\", \"2018-05-30T00:00:00\", \"2018-05-31T00:00:00\", \"2018-06-01T00:00:00\", \"2018-06-02T00:00:00\", \"2018-06-03T00:00:00\", \"2018-06-04T00:00:00\", \"2018-06-05T00:00:00\", \"2018-06-06T00:00:00\", \"2018-06-07T00:00:00\", \"2018-06-08T00:00:00\", \"2018-06-09T00:00:00\", \"2018-06-10T00:00:00\", \"2018-06-11T00:00:00\", \"2018-06-12T00:00:00\", \"2018-06-13T00:00:00\", \"2018-06-14T00:00:00\", \"2018-06-15T00:00:00\", \"2018-06-16T00:00:00\", \"2018-06-17T00:00:00\", \"2018-06-18T00:00:00\", \"2018-06-19T00:00:00\", \"2018-06-20T00:00:00\", \"2018-06-21T00:00:00\", \"2018-06-22T00:00:00\", \"2018-06-23T00:00:00\", \"2018-06-24T00:00:00\", \"2018-06-25T00:00:00\", \"2018-06-26T00:00:00\", \"2018-06-27T00:00:00\", \"2018-06-28T00:00:00\", \"2018-06-29T00:00:00\", \"2018-06-30T00:00:00\", \"2018-07-01T00:00:00\", \"2018-07-02T00:00:00\", \"2018-07-03T00:00:00\", \"2018-07-04T00:00:00\", \"2018-07-05T00:00:00\", \"2018-07-06T00:00:00\", \"2018-07-07T00:00:00\", \"2018-07-08T00:00:00\", \"2018-07-09T00:00:00\", \"2018-07-10T00:00:00\", \"2018-07-11T00:00:00\", \"2018-07-12T00:00:00\", \"2018-07-13T00:00:00\", \"2018-07-14T00:00:00\", \"2018-07-15T00:00:00\", \"2018-07-16T00:00:00\", \"2018-07-17T00:00:00\", \"2018-07-18T00:00:00\", \"2018-07-19T00:00:00\", \"2018-07-20T00:00:00\", \"2018-07-21T00:00:00\", \"2018-07-22T00:00:00\", \"2018-07-23T00:00:00\", \"2018-07-24T00:00:00\", \"2018-07-25T00:00:00\", \"2018-07-26T00:00:00\", \"2018-07-27T00:00:00\", \"2018-07-28T00:00:00\", \"2018-07-29T00:00:00\", \"2018-07-30T00:00:00\", \"2018-07-31T00:00:00\", \"2018-08-01T00:00:00\", \"2018-08-02T00:00:00\", \"2018-08-03T00:00:00\", \"2018-08-04T00:00:00\", \"2018-08-05T00:00:00\", \"2018-08-06T00:00:00\", \"2018-08-07T00:00:00\", \"2018-08-08T00:00:00\", \"2018-08-09T00:00:00\", \"2018-08-10T00:00:00\", \"2018-08-11T00:00:00\", \"2018-08-12T00:00:00\", \"2018-08-13T00:00:00\", \"2018-08-14T00:00:00\", \"2018-08-15T00:00:00\", \"2018-08-16T00:00:00\", \"2018-08-17T00:00:00\", \"2018-08-18T00:00:00\", \"2018-08-19T00:00:00\", \"2018-08-20T00:00:00\", \"2018-08-21T00:00:00\", \"2018-08-22T00:00:00\", \"2018-08-23T00:00:00\", \"2018-08-24T00:00:00\", \"2018-08-25T00:00:00\", \"2018-08-26T00:00:00\", \"2018-08-27T00:00:00\", \"2018-08-28T00:00:00\", \"2018-08-29T00:00:00\", \"2018-08-30T00:00:00\", \"2018-08-31T00:00:00\", \"2018-09-01T00:00:00\", \"2018-09-02T00:00:00\", \"2018-09-03T00:00:00\", \"2018-09-04T00:00:00\", \"2018-09-05T00:00:00\", \"2018-09-06T00:00:00\", \"2018-09-07T00:00:00\", \"2018-09-08T00:00:00\", \"2018-09-09T00:00:00\", \"2018-09-10T00:00:00\", \"2018-09-11T00:00:00\", \"2018-09-12T00:00:00\", \"2018-09-13T00:00:00\", \"2018-09-14T00:00:00\", \"2018-09-15T00:00:00\", \"2018-09-16T00:00:00\", \"2018-09-17T00:00:00\", \"2018-09-18T00:00:00\", \"2018-09-19T00:00:00\", \"2018-09-20T00:00:00\", \"2018-09-21T00:00:00\", \"2018-09-22T00:00:00\", \"2018-09-23T00:00:00\", \"2018-09-24T00:00:00\", \"2018-09-25T00:00:00\", \"2018-09-26T00:00:00\", \"2018-09-27T00:00:00\", \"2018-09-28T00:00:00\", \"2018-09-29T00:00:00\", \"2018-09-30T00:00:00\", \"2018-10-01T00:00:00\", \"2018-10-02T00:00:00\", \"2018-10-03T00:00:00\", \"2018-10-04T00:00:00\", \"2018-10-05T00:00:00\", \"2018-10-06T00:00:00\", \"2018-10-07T00:00:00\", \"2018-10-08T00:00:00\", \"2018-10-09T00:00:00\", \"2018-10-10T00:00:00\", \"2018-10-11T00:00:00\", \"2018-10-12T00:00:00\", \"2018-10-13T00:00:00\", \"2018-10-14T00:00:00\", \"2018-10-15T00:00:00\", \"2018-10-16T00:00:00\", \"2018-10-17T00:00:00\", \"2018-10-18T00:00:00\", \"2018-10-19T00:00:00\", \"2018-10-20T00:00:00\", \"2018-10-21T00:00:00\", \"2018-10-22T00:00:00\", \"2018-10-23T00:00:00\", \"2018-10-24T00:00:00\", \"2018-10-25T00:00:00\", \"2018-10-26T00:00:00\", \"2018-10-27T00:00:00\", \"2018-10-28T00:00:00\", \"2018-10-29T00:00:00\", \"2018-10-30T00:00:00\", \"2018-10-31T00:00:00\", \"2018-11-01T00:00:00\", \"2018-11-02T00:00:00\", \"2018-11-03T00:00:00\", \"2018-11-04T00:00:00\", \"2018-11-05T00:00:00\", \"2018-11-06T00:00:00\", \"2018-11-07T00:00:00\", \"2018-11-08T00:00:00\", \"2018-11-09T00:00:00\", \"2018-11-10T00:00:00\", \"2018-11-11T00:00:00\", \"2018-11-12T00:00:00\", \"2018-11-13T00:00:00\", \"2018-11-14T00:00:00\", \"2018-11-15T00:00:00\", \"2018-11-16T00:00:00\", \"2018-11-17T00:00:00\", \"2018-11-18T00:00:00\", \"2018-11-19T00:00:00\", \"2018-11-20T00:00:00\", \"2018-11-21T00:00:00\", \"2018-11-22T00:00:00\", \"2018-11-23T00:00:00\", \"2018-11-24T00:00:00\", \"2018-11-25T00:00:00\", \"2018-11-26T00:00:00\", \"2018-11-27T00:00:00\", \"2018-11-28T00:00:00\", \"2018-11-29T00:00:00\", \"2018-11-30T00:00:00\", \"2018-12-01T00:00:00\", \"2018-12-02T00:00:00\", \"2018-12-03T00:00:00\", \"2018-12-04T00:00:00\", \"2018-12-05T00:00:00\", \"2018-12-06T00:00:00\", \"2018-12-07T00:00:00\", \"2018-12-08T00:00:00\", \"2018-12-09T00:00:00\", \"2018-12-10T00:00:00\", \"2018-12-11T00:00:00\", \"2018-12-12T00:00:00\", \"2018-12-13T00:00:00\", \"2018-12-14T00:00:00\", \"2018-12-15T00:00:00\", \"2018-12-16T00:00:00\", \"2018-12-17T00:00:00\", \"2018-12-18T00:00:00\", \"2018-12-19T00:00:00\", \"2018-12-20T00:00:00\", \"2018-12-21T00:00:00\", \"2018-12-22T00:00:00\", \"2018-12-23T00:00:00\", \"2018-12-24T00:00:00\", \"2018-12-25T00:00:00\", \"2018-12-26T00:00:00\", \"2018-12-27T00:00:00\", \"2018-12-28T00:00:00\", \"2018-12-29T00:00:00\", \"2018-12-30T00:00:00\", \"2018-12-31T00:00:00\", \"2019-01-01T00:00:00\", \"2019-01-02T00:00:00\", \"2019-01-03T00:00:00\", \"2019-01-04T00:00:00\", \"2019-01-05T00:00:00\", \"2019-01-06T00:00:00\", \"2019-01-07T00:00:00\", \"2019-01-08T00:00:00\", \"2019-01-09T00:00:00\", \"2019-01-10T00:00:00\", \"2019-01-11T00:00:00\", \"2019-01-12T00:00:00\", \"2019-01-13T00:00:00\", \"2019-01-14T00:00:00\", \"2019-01-15T00:00:00\", \"2019-01-16T00:00:00\", \"2019-01-17T00:00:00\", \"2019-01-18T00:00:00\", \"2019-01-19T00:00:00\", \"2019-01-20T00:00:00\", \"2019-01-21T00:00:00\", \"2019-01-22T00:00:00\", \"2019-01-23T00:00:00\", \"2019-01-24T00:00:00\", \"2019-01-25T00:00:00\", \"2019-01-26T00:00:00\", \"2019-01-27T00:00:00\", \"2019-01-28T00:00:00\", \"2019-01-29T00:00:00\", \"2019-01-30T00:00:00\", \"2019-01-31T00:00:00\", \"2019-02-01T00:00:00\", \"2019-02-02T00:00:00\", \"2019-02-03T00:00:00\", \"2019-02-04T00:00:00\", \"2019-02-05T00:00:00\", \"2019-02-06T00:00:00\", \"2019-02-07T00:00:00\", \"2019-02-08T00:00:00\", \"2019-02-09T00:00:00\", \"2019-02-10T00:00:00\", \"2019-02-11T00:00:00\", \"2019-02-12T00:00:00\", \"2019-02-13T00:00:00\", \"2019-02-14T00:00:00\", \"2019-02-15T00:00:00\", \"2019-02-16T00:00:00\", \"2019-02-17T00:00:00\", \"2019-02-18T00:00:00\", \"2019-02-19T00:00:00\", \"2019-02-20T00:00:00\", \"2019-02-21T00:00:00\", \"2019-02-22T00:00:00\", \"2019-02-23T00:00:00\", \"2019-02-24T00:00:00\", \"2019-02-25T00:00:00\", \"2019-02-26T00:00:00\", \"2019-02-27T00:00:00\", \"2019-02-28T00:00:00\", \"2019-03-01T00:00:00\", \"2019-03-02T00:00:00\", \"2019-03-03T00:00:00\", \"2019-03-04T00:00:00\", \"2019-03-05T00:00:00\", \"2019-03-06T00:00:00\", \"2019-03-07T00:00:00\", \"2019-03-08T00:00:00\", \"2019-03-09T00:00:00\", \"2019-03-10T00:00:00\", \"2019-03-11T00:00:00\", \"2019-03-12T00:00:00\", \"2019-03-13T00:00:00\", \"2019-03-14T00:00:00\", \"2019-03-15T00:00:00\", \"2019-03-16T00:00:00\", \"2019-03-17T00:00:00\", \"2019-03-18T00:00:00\", \"2019-03-19T00:00:00\", \"2019-03-20T00:00:00\", \"2019-03-21T00:00:00\", \"2019-03-22T00:00:00\", \"2019-03-23T00:00:00\", \"2019-03-24T00:00:00\", \"2019-03-25T00:00:00\", \"2019-03-26T00:00:00\", \"2019-03-27T00:00:00\", \"2019-03-28T00:00:00\", \"2019-03-29T00:00:00\", \"2019-03-30T00:00:00\", \"2019-03-31T00:00:00\", \"2019-04-01T00:00:00\", \"2019-04-02T00:00:00\", \"2019-04-03T00:00:00\", \"2019-04-04T00:00:00\", \"2019-04-05T00:00:00\", \"2019-04-06T00:00:00\", \"2019-04-07T00:00:00\", \"2019-04-08T00:00:00\", \"2019-04-09T00:00:00\", \"2019-04-10T00:00:00\", \"2019-04-11T00:00:00\", \"2019-04-12T00:00:00\", \"2019-04-13T00:00:00\", \"2019-04-14T00:00:00\", \"2019-04-15T00:00:00\", \"2019-04-16T00:00:00\", \"2019-04-17T00:00:00\", \"2019-04-18T00:00:00\", \"2019-04-19T00:00:00\", \"2019-04-20T00:00:00\", \"2019-04-21T00:00:00\", \"2019-04-22T00:00:00\", \"2019-04-23T00:00:00\", \"2019-04-24T00:00:00\", \"2019-04-25T00:00:00\", \"2019-04-26T00:00:00\", \"2019-04-27T00:00:00\", \"2019-04-28T00:00:00\", \"2019-04-29T00:00:00\", \"2019-04-30T00:00:00\", \"2019-05-01T00:00:00\", \"2019-05-02T00:00:00\", \"2019-05-03T00:00:00\", \"2019-05-04T00:00:00\", \"2019-05-05T00:00:00\", \"2019-05-06T00:00:00\", \"2019-05-07T00:00:00\", \"2019-05-08T00:00:00\", \"2019-05-09T00:00:00\", \"2019-05-10T00:00:00\", \"2019-05-11T00:00:00\", \"2019-05-12T00:00:00\", \"2019-05-13T00:00:00\", \"2019-05-14T00:00:00\", \"2019-05-15T00:00:00\", \"2019-05-16T00:00:00\", \"2019-05-17T00:00:00\", \"2019-05-18T00:00:00\", \"2019-05-19T00:00:00\", \"2019-05-20T00:00:00\", \"2019-05-21T00:00:00\", \"2019-05-22T00:00:00\", \"2019-05-23T00:00:00\", \"2019-05-24T00:00:00\", \"2019-05-25T00:00:00\", \"2019-05-26T00:00:00\", \"2019-05-27T00:00:00\", \"2019-05-28T00:00:00\", \"2019-05-29T00:00:00\", \"2019-05-30T00:00:00\", \"2019-05-31T00:00:00\", \"2019-06-01T00:00:00\", \"2019-06-02T00:00:00\", \"2019-06-03T00:00:00\", \"2019-06-04T00:00:00\", \"2019-06-05T00:00:00\", \"2019-06-06T00:00:00\", \"2019-06-07T00:00:00\", \"2019-06-08T00:00:00\", \"2019-06-09T00:00:00\", \"2019-06-10T00:00:00\", \"2019-06-11T00:00:00\", \"2019-06-12T00:00:00\", \"2019-06-13T00:00:00\", \"2019-06-14T00:00:00\", \"2019-06-15T00:00:00\", \"2019-06-16T00:00:00\", \"2019-06-17T00:00:00\", \"2019-06-18T00:00:00\", \"2019-06-19T00:00:00\", \"2019-06-20T00:00:00\", \"2019-06-21T00:00:00\", \"2019-06-22T00:00:00\", \"2019-06-23T00:00:00\", \"2019-06-24T00:00:00\", \"2019-06-25T00:00:00\", \"2019-06-26T00:00:00\", \"2019-06-27T00:00:00\", \"2019-06-28T00:00:00\", \"2019-06-29T00:00:00\", \"2019-06-30T00:00:00\", \"2019-07-01T00:00:00\", \"2019-07-02T00:00:00\", \"2019-07-03T00:00:00\", \"2019-07-04T00:00:00\", \"2019-07-05T00:00:00\", \"2019-07-06T00:00:00\", \"2019-07-07T00:00:00\", \"2019-07-08T00:00:00\", \"2019-07-09T00:00:00\", \"2019-07-10T00:00:00\", \"2019-07-11T00:00:00\", \"2019-07-12T00:00:00\", \"2019-07-13T00:00:00\", \"2019-07-14T00:00:00\", \"2019-07-15T00:00:00\", \"2019-07-16T00:00:00\", \"2019-07-17T00:00:00\", \"2019-07-18T00:00:00\", \"2019-07-19T00:00:00\", \"2019-07-20T00:00:00\", \"2019-07-21T00:00:00\", \"2019-07-22T00:00:00\", \"2019-07-23T00:00:00\", \"2019-07-24T00:00:00\", \"2019-07-25T00:00:00\", \"2019-07-26T00:00:00\", \"2019-07-27T00:00:00\", \"2019-07-28T00:00:00\", \"2019-07-29T00:00:00\", \"2019-07-30T00:00:00\", \"2019-07-31T00:00:00\", \"2019-08-01T00:00:00\", \"2019-08-02T00:00:00\", \"2019-08-03T00:00:00\", \"2019-08-04T00:00:00\", \"2019-08-05T00:00:00\", \"2019-08-06T00:00:00\", \"2019-08-07T00:00:00\", \"2019-08-08T00:00:00\", \"2019-08-09T00:00:00\", \"2019-08-10T00:00:00\", \"2019-08-11T00:00:00\", \"2019-08-12T00:00:00\"], \"y\": [2389.7124652777793, 2429.3014722222233, 2518.750888888892, 2524.7469930555603, 2600.7444444444486, 2835.1260555555527, 2815.6953194444473, 2753.5724375000073, 2823.8471180555543, 2853.871777777778, 2906.474215277779, 2803.581750000004, 2715.928694444451, 2653.0482708333398, 2356.7296388888876, 2450.1450486111107, 2555.917826388888, 2566.5587638888933, 2558.1391805555563, 2661.5631666666654, 2712.268812500005, 2680.862333333332, 2718.264888888894, 2657.009215277778, 2559.341569444444, 2464.9203888888896, 2407.794423611114, 2533.6016041666626, 2558.770583333335, 2524.0453819444497, 2462.3251597222225, 2444.7650347222207, 2524.042131944447, 2596.6061319444475, 2569.9141666666737, 2593.83718055556, 2543.1207638888936, 2516.3489097222214, 2539.2847569444484, 2455.0341527777796, 2339.67059722222, 2343.987402777782, 2371.100986111114, 2279.3203333333418, 2073.9353055555507, 1939.7691666666651, 2056.5191180555607, 2280.832284722225, 2311.804187499999, 2492.0011805555505, 2718.66329861111, 2779.7550000000033, 2767.121493055555, 2753.6120972222275, 2624.099263888895, 2499.1164097222277, 2569.3229652777813, 2737.2861944444467, 2718.175916666668, 2675.802902777784, 2760.5994583333304, 2769.700041666668, 2713.936569444449, 2743.284652777787, 2827.005715277781, 3153.660069444449, 3236.0079166666746, 3308.0867569444586, 3416.0661041666613, 3341.188736111121, 3391.8064374999985, 3503.103180555562, 3757.487743055561, 4023.2860000000037, 4167.993833333334, 4167.686743055565, 4166.003368055552, 4345.919243055558, 4228.188402777789, 4055.157333333346, 4060.0714097222326, 4022.7011666666704, 3922.028104166666, 4141.476888888893, 4180.539020833341, 4356.688888888902, 4311.373458333351, 4340.41629861112, 4304.705208333351, 4464.279500000008, 4575.960375000009, 4669.390076388895, 4801.706236111117, 4684.137694444455, 4576.001104166673, 4361.9361666666555, 4252.457069444449, 4528.704993055561, 4584.30025694446, 4482.604402777778, 4292.220722222222, 4180.850256944438, 4210.225687500004, 4253.140652777776, 3934.011493055559, 3624.5376458333308, 3409.156631944439, 3696.292625000008, 3634.360208333341, 3941.1198541666736, 3962.9578749999987, 3937.1915555555534, 3791.3262638888873, 3626.56877777778, 3713.8222499999893, 3695.2018541666625, 3819.9963263888803, 3914.8063263888916, 4035.8797291666588, 4188.612034722216, 4144.9773819444545, 4270.209180555565, 4290.9005902777835, 4395.493111111113, 4311.992895833344, 4249.643597222228, 4255.330979166674, 4359.174444444453, 4351.288687500015, 4495.808520833344, 4643.429222222222, 4811.700548611115, 4787.352048611121, 5114.763875000004, 5618.339881944439, 5666.474111111125, 5610.077659722221, 5673.469020833336, 5625.583124999998, 5402.310152777783, 5654.104562500007, 5788.776069444453, 6073.861624999996, 5910.377895833341, 5869.137208333331, 5659.772756944453, 5547.822833333337, 5826.5624305555675, 5822.675326388888, 5749.922930555566, 5883.7243263888895, 6122.401979166681, 6240.408875000002, 6502.706909722225, 6952.339833333342, 7240.374881944453, 7258.124208333341, 7458.392979166676, 7228.157159722217, 7102.901493055557, 7386.520145833342, 7244.327472222225, 6961.358118055562, 6556.024395833337, 6114.231854166673, 6346.988562500001, 6590.393958333334, 7046.016361111107, 7459.5306875, 7827.064805555566, 7697.005916666671, 7825.9264166666635, 8090.021590277788, 8157.685722222237, 8194.893506944461, 8175.670479166667, 8168.087229166671, 8428.860465277778, 8972.45295138889, 9556.814923611137, 9833.026659722245, 10403.94379166668, 9888.908548611136, 10194.8572638889, 10938.31135416666, 11291.630187499997, 11346.529326388907, 11656.498604166689, 12580.533465277795, 14778.207416666659, 15432.868875000007, 14806.800236111114, 14134.664791666688, 16202.50012500004, 16730.929659722206, 16540.327312500034, 16343.036833333323, 17365.62792361109, 18176.730138888863, 19190.340631944408, 18720.01349999997, 18320.41626388884, 16834.521375000026, 16221.424986111117, 13761.145826388869, 14768.55603472223, 13656.086034722228, 13966.06769444444, 15243.615263888882, 15581.444701388853, 14248.632048611133, 14534.974930555547, 13212.859868055571, 13339.22119444444, 13425.415124999998, 13879.358895833342, 14963.699340277786, 14818.780319444424, 15792.452506944403, 16666.922951388857, 16517.014097222225, 15300.74915277776, 14868.201201388889, 14194.688409722214, 13697.100145833341, 13661.494569444449, 14224.945451388912, 13679.928909722257, 13821.277097222206, 12164.619152777768, 10680.231659722216, 11495.746736111108, 11513.536416666664, 12471.649145833333, 11895.589819444449, 11131.135819444438, 10724.710277777793, 11007.914437500012, 11300.592097222247, 11011.94201388889, 11238.782944444469, 11673.103618055535, 11283.896194444453, 10628.612597222236, 9987.00209722223, 9497.750625000028, 8558.503076388899, 8912.281611111122, 8722.604465277787, 7611.722958333325, 6828.462006944439, 7914.380222222217, 8216.322486111098, 8261.487381944451, 8656.487229166652, 8188.491090277783, 8624.076937500005, 8609.80722222223, 9025.642687500025, 9803.039104166684, 10025.99250694445, 10677.811173611124, 10737.341631944453, 10867.436395833349, 11498.189631944457, 10791.702006944444, 10272.655520833341, 10013.161215277789, 9931.702569444478, 9595.83642361113, 9910.592527777806, 10552.671340277788, 10621.063326388921, 10650.838465277793, 10980.791097222265, 11344.269083333334, 11242.097152777793, 11520.930465277766, 11021.738861111102, 10399.997006944468, 9705.391458333352, 8907.997486111099, 9236.650131944436, 9058.136361111123, 9436.36200694445, 9155.890388888914, 8769.349694444441, 8112.515770833351, 8315.006604166676, 8079.593062500001, 7679.651055555559, 8355.255979166664, 8622.49709722222, 8983.081652777786, 8793.326687500008, 8529.94406944445, 8857.918083333345, 8535.650166666666, 8208.19347916669, 7965.760694444459, 7916.943312500011, 7518.686965277791, 6888.176854166671, 7005.669125000011, 6797.412069444436, 6978.018000000003, 7325.304333333331, 7077.711673611102, 6758.105076388888, 6649.452291666674, 6891.6737638889, 6988.428743055562, 6891.471624999996, 6779.244319444467, 6879.948687500013, 7336.708215277788, 7992.690451388897, 8010.872291666685, 8215.487236111117, 8080.020305555557, 8036.633618055566, 8057.3129930555615, 8213.267708333358, 8445.635604166675, 8800.278312499991, 8888.387819444462, 8895.62331249999, 9314.519125000023, 9221.040361111107, 8883.210298611131, 9217.02084722222, 9240.572972222244, 9356.157784722249, 9290.616041666668, 8988.595694444466, 9112.689791666677, 9379.656666666657, 9656.508229166666, 9829.181138888915, 9615.699180555568, 9344.100527777799, 9260.790923611114, 9193.325472222248, 9265.502951388902, 8701.556430555573, 8423.31487500004, 8550.491187500027, 8581.468430555582, 8642.09697222224, 8282.705625000013, 8277.959930555586, 8106.672548611127, 8254.920923611124, 8361.972944444464, 8455.092916666694, 8233.2557916667, 7784.575402777791, 7538.571881944487, 7486.668048611141, 7490.143826388919, 7317.306069444448, 7255.434381944465, 7293.893402777787, 7432.491090277765, 7500.117368055571, 7481.193180555582, 7597.247354166683, 7690.673791666691, 7575.316763888909, 7491.722708333352, 7606.389534722249, 7692.524618055574, 7629.560597222222, 7630.158000000005, 7133.649305555566, 6760.716284722224, 6754.097347222223, 6443.017722222231, 6501.825152777797, 6550.993312499992, 6462.630548611125, 6509.097465277774, 6522.887597222218, 6718.137923611121, 6680.922951388888, 6736.712444444453, 6359.654034722214, 6135.97526388889, 6024.7279027777895, 6203.3115555555705, 6201.928152777776, 6096.063604166686, 6082.033944444458, 5903.817749999997, 6363.47595833333, 6350.025388888889, 6453.064812500014, 6596.762625000031, 6571.150868055561, 6581.060631944442, 6541.890631944446, 6573.3242361111, 6739.136618055562, 6705.734666666673, 6480.4565208333415, 6354.405493055556, 6219.166937500008, 6236.785770833367, 6236.172256944462, 6318.537784722239, 6521.181465277782, 6877.720881944445, 7402.712555555563, 7390.11466666668, 7420.562833333363, 7347.857055555567, 7448.0036597222515, 7679.556715277796, 8071.491902777785, 8253.59904166666, 8196.509159722247, 8021.516604166678, 8179.995840277793, 8202.688618055583, 8133.9497777778, 7915.115548611122, 7569.98511111112, 7590.178583333349, 7394.100701388909, 7248.6566458333655, 6995.644215277812, 6987.8438472222315, 6986.739444444467, 6444.725208333348, 6394.324194444451, 6394.919993055561, 6188.136972222216, 6304.35070833334, 6345.708180555566, 6056.106715277783, 6369.123708333329, 6344.468576388896, 6466.790055555574, 6446.211965277772, 6397.762687500009, 6444.960090277811, 6399.587041666682, 6579.496944444452, 6433.5398680555545, 6551.867993055588, 6713.861659722258, 6669.950659722236, 6712.779381944449, 6986.976090277787, 7049.229027777782, 6929.053499999996, 6979.79039583335, 7105.35293750002, 7239.421576388906, 7259.906249999994, 7322.047874999996, 7125.833812499998, 6421.734145833346, 6443.361534722262, 6360.320930555571, 6289.750152777783, 6287.392875000001, 6290.2325902777875, 6268.183465277798, 6440.572034722228, 6500.248395833359, 6519.018743055587, 6484.170666666674, 6398.048562500014, 6295.923305555575, 6336.486597222232, 6411.717736111115, 6658.61240972222, 6705.587187499994, 6706.800166666679, 6638.184479166654, 6413.125020833338, 6461.356423611127, 6520.746958333349, 6665.077402777776, 6539.937986111108, 6577.550055555549, 6574.940298611117, 6541.682701388867, 6447.232340277765, 6547.230777777762, 6544.547159722216, 6556.2918263888805, 6533.511180555536, 6586.734770833344, 6587.5929722221945, 6517.042173611102, 6213.507291666667, 6201.429923611101, 6196.307437500009, 6225.605215277768, 6368.968388888887, 6437.686604166653, 6438.604631944451, 6427.5492222222265, 6385.541597222227, 6396.777493055575, 6433.669687499999, 6405.4003749999765, 6395.747611111114, 6425.273986111101, 6400.467819444443, 6400.76842361109, 6407.05902083333, 6402.554041666676, 6329.9985763889, 6264.565631944463, 6277.430083333336, 6310.56606249998, 6351.960548611104, 6333.967756944455, 6364.34178472219, 6404.680194444427, 6412.868326388882, 6506.8773680555605, 6449.525041666662, 6365.883486111105, 6354.911069444451, 6339.537944444456, 6350.976541666664, 6290.059034722227, 6019.894937499998, 5494.714520833338, 5530.675125000012, 5485.194152777787, 5534.090277777771, 5203.1593819444415, 4531.132569444447, 4447.252770833336, 4468.593826388887, 4248.508673611109, 4203.4345069444435, 3756.95189583334, 3850.8809305555556, 3702.9673125000036, 4057.7619513888876, 4224.60156944445, 4075.2327916666695, 4078.2717500000003, 4120.349090277774, 3924.919868055556, 3904.986423611119, 3802.7635277777786, 3694.9691111111147, 3360.1898402777783, 3384.9175000000073, 3468.0102222222245, 3468.8128611111065, 3365.570430555562, 3397.2696736111166, 3360.91896527778, 3233.8725902777715, 3180.2247847222225, 3217.120479166661, 3333.074319444453, 3508.6461597222205, 3748.380458333341, 3923.0398263888833, 3972.550958333326, 3851.8717222222185, 3978.132437499989, 4125.493027777772, 3773.2280555555553, 3779.5463055555515, 3717.7947291666655, 3700.835333333332, 3873.5531736111043, 3788.032055555552, 3757.3624166666555, 3700.3265972222234, 3823.112729166656, 3830.1849722222178, 3785.05104861111, 3834.452138888893, 3874.5452152777775, 4022.664298611106, 4006.257034722222, 4010.7763958333285, 3795.507187500005, 3636.7025416666634, 3626.5706319444425, 3580.619624999998, 3580.005486111115, 3641.574458333333, 3603.472229166661, 3602.951118055559, 3615.6680555555517, 3671.6374999999907, 3607.2373958333274, 3535.8616458333254, 3551.567465277765, 3569.4726805555633, 3553.9397777777735, 3557.15230555555, 3571.367611111122, 3545.671416666666, 3438.032173611103, 3398.639076388891, 3423.095763888887, 3424.856152777782, 3416.3658680555586, 3431.8366666666716, 3425.4384861111216, 3414.204527777778, 3419.36813888888, 3371.575750000001, 3366.4235208333366, 3451.4933402777733, 3614.884708333324, 3608.1552916666656, 3595.2006875, 3577.8480416666685, 3582.285694444439, 3569.1406111111155, 3570.4032013888955, 3587.6629097222267, 3585.4940555555586, 3756.019819444445, 3900.652402777775, 3910.843916666662, 3906.7272222222296, 3925.343680555563, 3980.2158541666718, 3989.5767638888838, 3792.778916666669, 3799.9307777777794, 3795.3566597222207, 3810.278263888891, 3813.27386805555, 3805.279194444444, 3801.456263888886, 3725.0505902777822, 3765.770388888884, 3838.784395833329, 3861.3823194444494, 3871.895409722215, 3889.980624999997, 3893.019138888882, 3864.6125624999936, 3847.294444444448, 3853.5086458333462, 3850.2652013888824, 3877.4722777777793, 3978.552020833331, 3963.1048819444545, 3969.4853958333247, 3977.0401319444522, 3995.406333333329, 4005.9583888888824, 3981.5695555555526, 3980.761215277784, 3968.612951388893, 3949.801881944454, 3908.431326388902, 3993.995347222206, 4009.194069444443, 4057.541465277782, 4083.772388888892, 4088.348868055553, 4125.548659722221, 4647.141729166669, 5038.50502083333, 4971.659173611101, 4981.012118055559, 5042.754319444438, 5128.465159722207, 5241.546451388895, 5221.413534722217, 5270.475166666668, 5129.761715277781, 5047.637659722214, 5084.51536805556, 5078.802409722226, 5122.114104166673, 5098.620062500001, 5218.718937499994, 5263.983847222229, 5259.1587361111115, 5313.275881944437, 5288.680506944438, 5317.52523611111, 5531.954173611113, 5486.831687500015, 5423.299951388892, 5149.682201388893, 5165.260756944446, 5169.915263888891, 5154.869499999995, 5199.331576388891, 5303.564006944443, 5360.945784722242, 5617.309986111107, 5694.244680555553, 5721.58211805556, 5656.3270069444425, 5863.695777777779, 5843.870868055555, 6047.245256944443, 6290.585555555554, 6806.6770625000045, 7155.474208333327, 7408.98296527779, 7993.158020833342, 8054.80577777778, 7993.707881944452, 7263.197819444444, 7326.348763888892, 7934.045673611123, 7906.761131944451, 7952.989784722219, 7890.863298611112, 7703.517611111119, 7983.823395833333, 8045.214743055539, 8125.428284722212, 8782.527847222222, 8726.034833333331, 8646.49276388888, 8631.68847916668, 8350.288833333312, 8542.015763888876, 8668.05993750001, 8531.08584722222, 7851.133666666666, 7771.943777777767, 7751.1627916666675, 7938.752041666664, 7941.170618055555, 7799.946125000009, 7820.271444444434, 7897.226569444459, 8036.859090277781, 8169.982472222209, 8353.574541666672, 8727.897222222222, 9096.019243055567, 9236.642777777772, 9153.257826388888, 9148.226562500011, 9353.45185416665, 9802.451152777776, 10725.602312500023, 10747.117999999991, 10844.867333333319, 11314.388562500011, 12643.553618055552, 11803.958812500003, 11678.356861111108, 11850.858194444452, 11540.011777777765, 10687.819687499998, 10305.094118055564, 11345.892000000002, 11760.026750000003, 11141.252972222204, 11416.435701388893, 11311.678444444451, 11794.189805555567, 12514.21774305554, 12649.908881944439, 11584.54125000001, 11585.792416666667, 11430.236854166653, 10860.6743263889, 10419.180666666702, 10356.278006944454, 9577.303708333347, 10053.263270833328, 10473.079361111104, 10680.938881944432, 10578.370826388895, 10451.459284722223, 10071.961000000008, 9703.44240277778, 10023.55200000002, 9775.523166666679, 9731.698895833339, 9486.49152083333, 9541.105833333348, 9541.569750000022, 9857.407680555563, 10085.621541666671, 10475.718763888879, 10785.766958333332, 10820.892229166655, 11676.32672916666, 11758.30978472223, 11712.383777777764, 11802.534583333349, 11820.873673611108, 11582.249006944416, 11379.078881944437, 11520.0]}, {\"marker\": {\"color\": \"rgba(115, 120, 235, 0.5)\"}, \"mode\": \"lines\", \"name\": \"Predict\", \"type\": \"scatter\", \"x\": [\"2017-06-01T00:00:00\", \"2017-06-02T00:00:00\", \"2017-06-03T00:00:00\", \"2017-06-04T00:00:00\", \"2017-06-05T00:00:00\", \"2017-06-06T00:00:00\", \"2017-06-07T00:00:00\", \"2017-06-08T00:00:00\", \"2017-06-09T00:00:00\", \"2017-06-10T00:00:00\", \"2017-06-11T00:00:00\", \"2017-06-12T00:00:00\", \"2017-06-13T00:00:00\", \"2017-06-14T00:00:00\", \"2017-06-15T00:00:00\", \"2017-06-16T00:00:00\", \"2017-06-17T00:00:00\", \"2017-06-18T00:00:00\", \"2017-06-19T00:00:00\", \"2017-06-20T00:00:00\", \"2017-06-21T00:00:00\", \"2017-06-22T00:00:00\", \"2017-06-23T00:00:00\", \"2017-06-24T00:00:00\", \"2017-06-25T00:00:00\", \"2017-06-26T00:00:00\", \"2017-06-27T00:00:00\", \"2017-06-28T00:00:00\", \"2017-06-29T00:00:00\", \"2017-06-30T00:00:00\", \"2017-07-01T00:00:00\", \"2017-07-02T00:00:00\", \"2017-07-03T00:00:00\", \"2017-07-04T00:00:00\", \"2017-07-05T00:00:00\", \"2017-07-06T00:00:00\", \"2017-07-07T00:00:00\", \"2017-07-08T00:00:00\", \"2017-07-09T00:00:00\", \"2017-07-10T00:00:00\", \"2017-07-11T00:00:00\", \"2017-07-12T00:00:00\", \"2017-07-13T00:00:00\", \"2017-07-14T00:00:00\", \"2017-07-15T00:00:00\", \"2017-07-16T00:00:00\", \"2017-07-17T00:00:00\", \"2017-07-18T00:00:00\", \"2017-07-19T00:00:00\", \"2017-07-20T00:00:00\", \"2017-07-21T00:00:00\", \"2017-07-22T00:00:00\", \"2017-07-23T00:00:00\", \"2017-07-24T00:00:00\", \"2017-07-25T00:00:00\", \"2017-07-26T00:00:00\", \"2017-07-27T00:00:00\", \"2017-07-28T00:00:00\", \"2017-07-29T00:00:00\", \"2017-07-30T00:00:00\", \"2017-07-31T00:00:00\", \"2017-08-01T00:00:00\", \"2017-08-02T00:00:00\", \"2017-08-03T00:00:00\", \"2017-08-04T00:00:00\", \"2017-08-05T00:00:00\", \"2017-08-06T00:00:00\", \"2017-08-07T00:00:00\", \"2017-08-08T00:00:00\", \"2017-08-09T00:00:00\", \"2017-08-10T00:00:00\", \"2017-08-11T00:00:00\", \"2017-08-12T00:00:00\", \"2017-08-13T00:00:00\", \"2017-08-14T00:00:00\", \"2017-08-15T00:00:00\", \"2017-08-16T00:00:00\", \"2017-08-17T00:00:00\", \"2017-08-18T00:00:00\", \"2017-08-19T00:00:00\", \"2017-08-20T00:00:00\", \"2017-08-21T00:00:00\", \"2017-08-22T00:00:00\", \"2017-08-23T00:00:00\", \"2017-08-24T00:00:00\", \"2017-08-25T00:00:00\", \"2017-08-26T00:00:00\", \"2017-08-27T00:00:00\", \"2017-08-28T00:00:00\", \"2017-08-29T00:00:00\", \"2017-08-30T00:00:00\", \"2017-08-31T00:00:00\", \"2017-09-01T00:00:00\", \"2017-09-02T00:00:00\", \"2017-09-03T00:00:00\", \"2017-09-04T00:00:00\", \"2017-09-05T00:00:00\", \"2017-09-06T00:00:00\", \"2017-09-07T00:00:00\", \"2017-09-08T00:00:00\", \"2017-09-09T00:00:00\", \"2017-09-10T00:00:00\", \"2017-09-11T00:00:00\", \"2017-09-12T00:00:00\", \"2017-09-13T00:00:00\", \"2017-09-14T00:00:00\", \"2017-09-15T00:00:00\", \"2017-09-16T00:00:00\", \"2017-09-17T00:00:00\", \"2017-09-18T00:00:00\", \"2017-09-19T00:00:00\", \"2017-09-20T00:00:00\", \"2017-09-21T00:00:00\", \"2017-09-22T00:00:00\", \"2017-09-23T00:00:00\", \"2017-09-24T00:00:00\", \"2017-09-25T00:00:00\", \"2017-09-26T00:00:00\", \"2017-09-27T00:00:00\", \"2017-09-28T00:00:00\", \"2017-09-29T00:00:00\", \"2017-09-30T00:00:00\", \"2017-10-01T00:00:00\", \"2017-10-02T00:00:00\", \"2017-10-03T00:00:00\", \"2017-10-04T00:00:00\", \"2017-10-05T00:00:00\", \"2017-10-06T00:00:00\", \"2017-10-07T00:00:00\", \"2017-10-08T00:00:00\", \"2017-10-09T00:00:00\", \"2017-10-10T00:00:00\", \"2017-10-11T00:00:00\", \"2017-10-12T00:00:00\", \"2017-10-13T00:00:00\", \"2017-10-14T00:00:00\", \"2017-10-15T00:00:00\", \"2017-10-16T00:00:00\", \"2017-10-17T00:00:00\", \"2017-10-18T00:00:00\", \"2017-10-19T00:00:00\", \"2017-10-20T00:00:00\", \"2017-10-21T00:00:00\", \"2017-10-22T00:00:00\", \"2017-10-23T00:00:00\", \"2017-10-24T00:00:00\", \"2017-10-25T00:00:00\", \"2017-10-26T00:00:00\", \"2017-10-27T00:00:00\", \"2017-10-28T00:00:00\", \"2017-10-29T00:00:00\", \"2017-10-30T00:00:00\", \"2017-10-31T00:00:00\", \"2017-11-01T00:00:00\", \"2017-11-02T00:00:00\", \"2017-11-03T00:00:00\", \"2017-11-04T00:00:00\", \"2017-11-05T00:00:00\", \"2017-11-06T00:00:00\", \"2017-11-07T00:00:00\", \"2017-11-08T00:00:00\", \"2017-11-09T00:00:00\", \"2017-11-10T00:00:00\", \"2017-11-11T00:00:00\", \"2017-11-12T00:00:00\", \"2017-11-13T00:00:00\", \"2017-11-14T00:00:00\", \"2017-11-15T00:00:00\", \"2017-11-16T00:00:00\", \"2017-11-17T00:00:00\", \"2017-11-18T00:00:00\", \"2017-11-19T00:00:00\", \"2017-11-20T00:00:00\", \"2017-11-21T00:00:00\", \"2017-11-22T00:00:00\", \"2017-11-23T00:00:00\", \"2017-11-24T00:00:00\", \"2017-11-25T00:00:00\", \"2017-11-26T00:00:00\", \"2017-11-27T00:00:00\", \"2017-11-28T00:00:00\", \"2017-11-29T00:00:00\", \"2017-11-30T00:00:00\", \"2017-12-01T00:00:00\", \"2017-12-02T00:00:00\", \"2017-12-03T00:00:00\", \"2017-12-04T00:00:00\", \"2017-12-05T00:00:00\", \"2017-12-06T00:00:00\", \"2017-12-07T00:00:00\", \"2017-12-08T00:00:00\", \"2017-12-09T00:00:00\", \"2017-12-10T00:00:00\", \"2017-12-11T00:00:00\", \"2017-12-12T00:00:00\", \"2017-12-13T00:00:00\", \"2017-12-14T00:00:00\", \"2017-12-15T00:00:00\", \"2017-12-16T00:00:00\", \"2017-12-17T00:00:00\", \"2017-12-18T00:00:00\", \"2017-12-19T00:00:00\", \"2017-12-20T00:00:00\", \"2017-12-21T00:00:00\", \"2017-12-22T00:00:00\", \"2017-12-23T00:00:00\", \"2017-12-24T00:00:00\", \"2017-12-25T00:00:00\", \"2017-12-26T00:00:00\", \"2017-12-27T00:00:00\", \"2017-12-28T00:00:00\", \"2017-12-29T00:00:00\", \"2017-12-30T00:00:00\", \"2017-12-31T00:00:00\", \"2018-01-01T00:00:00\", \"2018-01-02T00:00:00\", \"2018-01-03T00:00:00\", \"2018-01-04T00:00:00\", \"2018-01-05T00:00:00\", \"2018-01-06T00:00:00\", \"2018-01-07T00:00:00\", \"2018-01-08T00:00:00\", \"2018-01-09T00:00:00\", \"2018-01-10T00:00:00\", \"2018-01-11T00:00:00\", \"2018-01-12T00:00:00\", \"2018-01-13T00:00:00\", \"2018-01-14T00:00:00\", \"2018-01-15T00:00:00\", \"2018-01-16T00:00:00\", \"2018-01-17T00:00:00\", \"2018-01-18T00:00:00\", \"2018-01-19T00:00:00\", \"2018-01-20T00:00:00\", \"2018-01-21T00:00:00\", \"2018-01-22T00:00:00\", \"2018-01-23T00:00:00\", \"2018-01-24T00:00:00\", \"2018-01-25T00:00:00\", \"2018-01-26T00:00:00\", \"2018-01-27T00:00:00\", \"2018-01-28T00:00:00\", \"2018-01-29T00:00:00\", \"2018-01-30T00:00:00\", \"2018-01-31T00:00:00\", \"2018-02-01T00:00:00\", \"2018-02-02T00:00:00\", \"2018-02-03T00:00:00\", \"2018-02-04T00:00:00\", \"2018-02-05T00:00:00\", \"2018-02-06T00:00:00\", \"2018-02-07T00:00:00\", \"2018-02-08T00:00:00\", \"2018-02-09T00:00:00\", \"2018-02-10T00:00:00\", \"2018-02-11T00:00:00\", \"2018-02-12T00:00:00\", \"2018-02-13T00:00:00\", \"2018-02-14T00:00:00\", \"2018-02-15T00:00:00\", \"2018-02-16T00:00:00\", \"2018-02-17T00:00:00\", \"2018-02-18T00:00:00\", \"2018-02-19T00:00:00\", \"2018-02-20T00:00:00\", \"2018-02-21T00:00:00\", \"2018-02-22T00:00:00\", \"2018-02-23T00:00:00\", \"2018-02-24T00:00:00\", \"2018-02-25T00:00:00\", \"2018-02-26T00:00:00\", \"2018-02-27T00:00:00\", \"2018-02-28T00:00:00\", \"2018-03-01T00:00:00\", \"2018-03-02T00:00:00\", \"2018-03-03T00:00:00\", \"2018-03-04T00:00:00\", \"2018-03-05T00:00:00\", \"2018-03-06T00:00:00\", \"2018-03-07T00:00:00\", \"2018-03-08T00:00:00\", \"2018-03-09T00:00:00\", \"2018-03-10T00:00:00\", \"2018-03-11T00:00:00\", \"2018-03-12T00:00:00\", \"2018-03-13T00:00:00\", \"2018-03-14T00:00:00\", \"2018-03-15T00:00:00\", \"2018-03-16T00:00:00\", \"2018-03-17T00:00:00\", \"2018-03-18T00:00:00\", \"2018-03-19T00:00:00\", \"2018-03-20T00:00:00\", \"2018-03-21T00:00:00\", \"2018-03-22T00:00:00\", \"2018-03-23T00:00:00\", \"2018-03-24T00:00:00\", \"2018-03-25T00:00:00\", \"2018-03-26T00:00:00\", \"2018-03-27T00:00:00\", \"2018-03-28T00:00:00\", \"2018-03-29T00:00:00\", \"2018-03-30T00:00:00\", \"2018-03-31T00:00:00\", \"2018-04-01T00:00:00\", \"2018-04-02T00:00:00\", \"2018-04-03T00:00:00\", \"2018-04-04T00:00:00\", \"2018-04-05T00:00:00\", \"2018-04-06T00:00:00\", \"2018-04-07T00:00:00\", \"2018-04-08T00:00:00\", \"2018-04-09T00:00:00\", \"2018-04-10T00:00:00\", \"2018-04-11T00:00:00\", \"2018-04-12T00:00:00\", \"2018-04-13T00:00:00\", \"2018-04-14T00:00:00\", \"2018-04-15T00:00:00\", \"2018-04-16T00:00:00\", \"2018-04-17T00:00:00\", \"2018-04-18T00:00:00\", \"2018-04-19T00:00:00\", \"2018-04-20T00:00:00\", \"2018-04-21T00:00:00\", \"2018-04-22T00:00:00\", \"2018-04-23T00:00:00\", \"2018-04-24T00:00:00\", \"2018-04-25T00:00:00\", \"2018-04-26T00:00:00\", \"2018-04-27T00:00:00\", \"2018-04-28T00:00:00\", \"2018-04-29T00:00:00\", \"2018-04-30T00:00:00\", \"2018-05-01T00:00:00\", \"2018-05-02T00:00:00\", \"2018-05-03T00:00:00\", \"2018-05-04T00:00:00\", \"2018-05-05T00:00:00\", \"2018-05-06T00:00:00\", \"2018-05-07T00:00:00\", \"2018-05-08T00:00:00\", \"2018-05-09T00:00:00\", \"2018-05-10T00:00:00\", \"2018-05-11T00:00:00\", \"2018-05-12T00:00:00\", \"2018-05-13T00:00:00\", \"2018-05-14T00:00:00\", \"2018-05-15T00:00:00\", \"2018-05-16T00:00:00\", \"2018-05-17T00:00:00\", \"2018-05-18T00:00:00\", \"2018-05-19T00:00:00\", \"2018-05-20T00:00:00\", \"2018-05-21T00:00:00\", \"2018-05-22T00:00:00\", \"2018-05-23T00:00:00\", \"2018-05-24T00:00:00\", \"2018-05-25T00:00:00\", \"2018-05-26T00:00:00\", \"2018-05-27T00:00:00\", \"2018-05-28T00:00:00\", \"2018-05-29T00:00:00\", \"2018-05-30T00:00:00\", \"2018-05-31T00:00:00\", \"2018-06-01T00:00:00\", \"2018-06-02T00:00:00\", \"2018-06-03T00:00:00\", \"2018-06-04T00:00:00\", \"2018-06-05T00:00:00\", \"2018-06-06T00:00:00\", \"2018-06-07T00:00:00\", \"2018-06-08T00:00:00\", \"2018-06-09T00:00:00\", \"2018-06-10T00:00:00\", \"2018-06-11T00:00:00\", \"2018-06-12T00:00:00\", \"2018-06-13T00:00:00\", \"2018-06-14T00:00:00\", \"2018-06-15T00:00:00\", \"2018-06-16T00:00:00\", \"2018-06-17T00:00:00\", \"2018-06-18T00:00:00\", \"2018-06-19T00:00:00\", \"2018-06-20T00:00:00\", \"2018-06-21T00:00:00\", \"2018-06-22T00:00:00\", \"2018-06-23T00:00:00\", \"2018-06-24T00:00:00\", \"2018-06-25T00:00:00\", \"2018-06-26T00:00:00\", \"2018-06-27T00:00:00\", \"2018-06-28T00:00:00\", \"2018-06-29T00:00:00\", \"2018-06-30T00:00:00\", \"2018-07-01T00:00:00\", \"2018-07-02T00:00:00\", \"2018-07-03T00:00:00\", \"2018-07-04T00:00:00\", \"2018-07-05T00:00:00\", \"2018-07-06T00:00:00\", \"2018-07-07T00:00:00\", \"2018-07-08T00:00:00\", \"2018-07-09T00:00:00\", \"2018-07-10T00:00:00\", \"2018-07-11T00:00:00\", \"2018-07-12T00:00:00\", \"2018-07-13T00:00:00\", \"2018-07-14T00:00:00\", \"2018-07-15T00:00:00\", \"2018-07-16T00:00:00\", \"2018-07-17T00:00:00\", \"2018-07-18T00:00:00\", \"2018-07-19T00:00:00\", \"2018-07-20T00:00:00\", \"2018-07-21T00:00:00\", \"2018-07-22T00:00:00\", \"2018-07-23T00:00:00\", \"2018-07-24T00:00:00\", \"2018-07-25T00:00:00\", \"2018-07-26T00:00:00\", \"2018-07-27T00:00:00\", \"2018-07-28T00:00:00\", \"2018-07-29T00:00:00\", \"2018-07-30T00:00:00\", \"2018-07-31T00:00:00\", \"2018-08-01T00:00:00\", \"2018-08-02T00:00:00\", \"2018-08-03T00:00:00\", \"2018-08-04T00:00:00\", \"2018-08-05T00:00:00\", \"2018-08-06T00:00:00\", \"2018-08-07T00:00:00\", \"2018-08-08T00:00:00\", \"2018-08-09T00:00:00\", \"2018-08-10T00:00:00\", \"2018-08-11T00:00:00\", \"2018-08-12T00:00:00\", \"2018-08-13T00:00:00\", \"2018-08-14T00:00:00\", \"2018-08-15T00:00:00\", \"2018-08-16T00:00:00\", \"2018-08-17T00:00:00\", \"2018-08-18T00:00:00\", \"2018-08-19T00:00:00\", \"2018-08-20T00:00:00\", \"2018-08-21T00:00:00\", \"2018-08-22T00:00:00\", \"2018-08-23T00:00:00\", \"2018-08-24T00:00:00\", \"2018-08-25T00:00:00\", \"2018-08-26T00:00:00\", \"2018-08-27T00:00:00\", \"2018-08-28T00:00:00\", \"2018-08-29T00:00:00\", \"2018-08-30T00:00:00\", \"2018-08-31T00:00:00\", \"2018-09-01T00:00:00\", \"2018-09-02T00:00:00\", \"2018-09-03T00:00:00\", \"2018-09-04T00:00:00\", \"2018-09-05T00:00:00\", \"2018-09-06T00:00:00\", \"2018-09-07T00:00:00\", \"2018-09-08T00:00:00\", \"2018-09-09T00:00:00\", \"2018-09-10T00:00:00\", \"2018-09-11T00:00:00\", \"2018-09-12T00:00:00\", \"2018-09-13T00:00:00\", \"2018-09-14T00:00:00\", \"2018-09-15T00:00:00\", \"2018-09-16T00:00:00\", \"2018-09-17T00:00:00\", \"2018-09-18T00:00:00\", \"2018-09-19T00:00:00\", \"2018-09-20T00:00:00\", \"2018-09-21T00:00:00\", \"2018-09-22T00:00:00\", \"2018-09-23T00:00:00\", \"2018-09-24T00:00:00\", \"2018-09-25T00:00:00\", \"2018-09-26T00:00:00\", \"2018-09-27T00:00:00\", \"2018-09-28T00:00:00\", \"2018-09-29T00:00:00\", \"2018-09-30T00:00:00\", \"2018-10-01T00:00:00\", \"2018-10-02T00:00:00\", \"2018-10-03T00:00:00\", \"2018-10-04T00:00:00\", \"2018-10-05T00:00:00\", \"2018-10-06T00:00:00\", \"2018-10-07T00:00:00\", \"2018-10-08T00:00:00\", \"2018-10-09T00:00:00\", \"2018-10-10T00:00:00\", \"2018-10-11T00:00:00\", \"2018-10-12T00:00:00\", \"2018-10-13T00:00:00\", \"2018-10-14T00:00:00\", \"2018-10-15T00:00:00\", \"2018-10-16T00:00:00\", \"2018-10-17T00:00:00\", \"2018-10-18T00:00:00\", \"2018-10-19T00:00:00\", \"2018-10-20T00:00:00\", \"2018-10-21T00:00:00\", \"2018-10-22T00:00:00\", \"2018-10-23T00:00:00\", \"2018-10-24T00:00:00\", \"2018-10-25T00:00:00\", \"2018-10-26T00:00:00\", \"2018-10-27T00:00:00\", \"2018-10-28T00:00:00\", \"2018-10-29T00:00:00\", \"2018-10-30T00:00:00\", \"2018-10-31T00:00:00\", \"2018-11-01T00:00:00\", \"2018-11-02T00:00:00\", \"2018-11-03T00:00:00\", \"2018-11-04T00:00:00\", \"2018-11-05T00:00:00\", \"2018-11-06T00:00:00\", \"2018-11-07T00:00:00\", \"2018-11-08T00:00:00\", \"2018-11-09T00:00:00\", \"2018-11-10T00:00:00\", \"2018-11-11T00:00:00\", \"2018-11-12T00:00:00\", \"2018-11-13T00:00:00\", \"2018-11-14T00:00:00\", \"2018-11-15T00:00:00\", \"2018-11-16T00:00:00\", \"2018-11-17T00:00:00\", \"2018-11-18T00:00:00\", \"2018-11-19T00:00:00\", \"2018-11-20T00:00:00\", \"2018-11-21T00:00:00\", \"2018-11-22T00:00:00\", \"2018-11-23T00:00:00\", \"2018-11-24T00:00:00\", \"2018-11-25T00:00:00\", \"2018-11-26T00:00:00\", \"2018-11-27T00:00:00\", \"2018-11-28T00:00:00\", \"2018-11-29T00:00:00\", \"2018-11-30T00:00:00\", \"2018-12-01T00:00:00\", \"2018-12-02T00:00:00\", \"2018-12-03T00:00:00\", \"2018-12-04T00:00:00\", \"2018-12-05T00:00:00\", \"2018-12-06T00:00:00\", \"2018-12-07T00:00:00\", \"2018-12-08T00:00:00\", \"2018-12-09T00:00:00\", \"2018-12-10T00:00:00\", \"2018-12-11T00:00:00\", \"2018-12-12T00:00:00\", \"2018-12-13T00:00:00\", \"2018-12-14T00:00:00\", \"2018-12-15T00:00:00\", \"2018-12-16T00:00:00\", \"2018-12-17T00:00:00\", \"2018-12-18T00:00:00\", \"2018-12-19T00:00:00\", \"2018-12-20T00:00:00\", \"2018-12-21T00:00:00\", \"2018-12-22T00:00:00\", \"2018-12-23T00:00:00\", \"2018-12-24T00:00:00\", \"2018-12-25T00:00:00\", \"2018-12-26T00:00:00\", \"2018-12-27T00:00:00\", \"2018-12-28T00:00:00\", \"2018-12-29T00:00:00\", \"2018-12-30T00:00:00\", \"2018-12-31T00:00:00\", \"2019-01-01T00:00:00\", \"2019-01-02T00:00:00\", \"2019-01-03T00:00:00\", \"2019-01-04T00:00:00\", \"2019-01-05T00:00:00\", \"2019-01-06T00:00:00\", \"2019-01-07T00:00:00\", \"2019-01-08T00:00:00\", \"2019-01-09T00:00:00\", \"2019-01-10T00:00:00\", \"2019-01-11T00:00:00\", \"2019-01-12T00:00:00\", \"2019-01-13T00:00:00\", \"2019-01-14T00:00:00\", \"2019-01-15T00:00:00\", \"2019-01-16T00:00:00\", \"2019-01-17T00:00:00\", \"2019-01-18T00:00:00\", \"2019-01-19T00:00:00\", \"2019-01-20T00:00:00\", \"2019-01-21T00:00:00\", \"2019-01-22T00:00:00\", \"2019-01-23T00:00:00\", \"2019-01-24T00:00:00\", \"2019-01-25T00:00:00\", \"2019-01-26T00:00:00\", \"2019-01-27T00:00:00\", \"2019-01-28T00:00:00\", \"2019-01-29T00:00:00\", \"2019-01-30T00:00:00\", \"2019-01-31T00:00:00\", \"2019-02-01T00:00:00\", \"2019-02-02T00:00:00\", \"2019-02-03T00:00:00\", \"2019-02-04T00:00:00\", \"2019-02-05T00:00:00\", \"2019-02-06T00:00:00\", \"2019-02-07T00:00:00\", \"2019-02-08T00:00:00\", \"2019-02-09T00:00:00\", \"2019-02-10T00:00:00\", \"2019-02-11T00:00:00\", \"2019-02-12T00:00:00\", \"2019-02-13T00:00:00\", \"2019-02-14T00:00:00\", \"2019-02-15T00:00:00\", \"2019-02-16T00:00:00\", \"2019-02-17T00:00:00\", \"2019-02-18T00:00:00\", \"2019-02-19T00:00:00\", \"2019-02-20T00:00:00\", \"2019-02-21T00:00:00\", \"2019-02-22T00:00:00\", \"2019-02-23T00:00:00\", \"2019-02-24T00:00:00\", \"2019-02-25T00:00:00\", \"2019-02-26T00:00:00\", \"2019-02-27T00:00:00\", \"2019-02-28T00:00:00\", \"2019-03-01T00:00:00\", \"2019-03-02T00:00:00\", \"2019-03-03T00:00:00\", \"2019-03-04T00:00:00\", \"2019-03-05T00:00:00\", \"2019-03-06T00:00:00\", \"2019-03-07T00:00:00\", \"2019-03-08T00:00:00\", \"2019-03-09T00:00:00\", \"2019-03-10T00:00:00\", \"2019-03-11T00:00:00\", \"2019-03-12T00:00:00\", \"2019-03-13T00:00:00\", \"2019-03-14T00:00:00\", \"2019-03-15T00:00:00\", \"2019-03-16T00:00:00\", \"2019-03-17T00:00:00\", \"2019-03-18T00:00:00\", \"2019-03-19T00:00:00\", \"2019-03-20T00:00:00\", \"2019-03-21T00:00:00\", \"2019-03-22T00:00:00\", \"2019-03-23T00:00:00\", \"2019-03-24T00:00:00\", \"2019-03-25T00:00:00\", \"2019-03-26T00:00:00\", \"2019-03-27T00:00:00\", \"2019-03-28T00:00:00\", \"2019-03-29T00:00:00\", \"2019-03-30T00:00:00\", \"2019-03-31T00:00:00\", \"2019-04-01T00:00:00\", \"2019-04-02T00:00:00\", \"2019-04-03T00:00:00\", \"2019-04-04T00:00:00\", \"2019-04-05T00:00:00\", \"2019-04-06T00:00:00\", \"2019-04-07T00:00:00\", \"2019-04-08T00:00:00\", \"2019-04-09T00:00:00\", \"2019-04-10T00:00:00\", \"2019-04-11T00:00:00\", \"2019-04-12T00:00:00\", \"2019-04-13T00:00:00\", \"2019-04-14T00:00:00\", \"2019-04-15T00:00:00\", \"2019-04-16T00:00:00\", \"2019-04-17T00:00:00\", \"2019-04-18T00:00:00\", \"2019-04-19T00:00:00\", \"2019-04-20T00:00:00\", \"2019-04-21T00:00:00\", \"2019-04-22T00:00:00\", \"2019-04-23T00:00:00\", \"2019-04-24T00:00:00\", \"2019-04-25T00:00:00\", \"2019-04-26T00:00:00\", \"2019-04-27T00:00:00\", \"2019-04-28T00:00:00\", \"2019-04-29T00:00:00\", \"2019-04-30T00:00:00\", \"2019-05-01T00:00:00\", \"2019-05-02T00:00:00\", \"2019-05-03T00:00:00\", \"2019-05-04T00:00:00\", \"2019-05-05T00:00:00\", \"2019-05-06T00:00:00\", \"2019-05-07T00:00:00\", \"2019-05-08T00:00:00\", \"2019-05-09T00:00:00\", \"2019-05-10T00:00:00\", \"2019-05-11T00:00:00\", \"2019-05-12T00:00:00\", \"2019-05-13T00:00:00\", \"2019-05-14T00:00:00\", \"2019-05-15T00:00:00\", \"2019-05-16T00:00:00\", \"2019-05-17T00:00:00\", \"2019-05-18T00:00:00\", \"2019-05-19T00:00:00\", \"2019-05-20T00:00:00\", \"2019-05-21T00:00:00\", \"2019-05-22T00:00:00\", \"2019-05-23T00:00:00\", \"2019-05-24T00:00:00\", \"2019-05-25T00:00:00\", \"2019-05-26T00:00:00\", \"2019-05-27T00:00:00\", \"2019-05-28T00:00:00\", \"2019-05-29T00:00:00\", \"2019-05-30T00:00:00\", \"2019-05-31T00:00:00\", \"2019-06-01T00:00:00\", \"2019-06-02T00:00:00\", \"2019-06-03T00:00:00\", \"2019-06-04T00:00:00\", \"2019-06-05T00:00:00\", \"2019-06-06T00:00:00\", \"2019-06-07T00:00:00\", \"2019-06-08T00:00:00\", \"2019-06-09T00:00:00\", \"2019-06-10T00:00:00\", \"2019-06-11T00:00:00\", \"2019-06-12T00:00:00\", \"2019-06-13T00:00:00\", \"2019-06-14T00:00:00\", \"2019-06-15T00:00:00\", \"2019-06-16T00:00:00\", \"2019-06-17T00:00:00\", \"2019-06-18T00:00:00\", \"2019-06-19T00:00:00\", \"2019-06-20T00:00:00\", \"2019-06-21T00:00:00\", \"2019-06-22T00:00:00\", \"2019-06-23T00:00:00\", \"2019-06-24T00:00:00\", \"2019-06-25T00:00:00\", \"2019-06-26T00:00:00\", \"2019-06-27T00:00:00\", \"2019-06-28T00:00:00\", \"2019-06-29T00:00:00\", \"2019-06-30T00:00:00\", \"2019-07-01T00:00:00\", \"2019-07-02T00:00:00\", \"2019-07-03T00:00:00\", \"2019-07-04T00:00:00\", \"2019-07-05T00:00:00\", \"2019-07-06T00:00:00\", \"2019-07-07T00:00:00\", \"2019-07-08T00:00:00\", \"2019-07-09T00:00:00\", \"2019-07-10T00:00:00\", \"2019-07-11T00:00:00\", \"2019-07-12T00:00:00\", \"2019-07-13T00:00:00\", \"2019-07-14T00:00:00\", \"2019-07-15T00:00:00\", \"2019-07-16T00:00:00\", \"2019-07-17T00:00:00\", \"2019-07-18T00:00:00\", \"2019-07-19T00:00:00\", \"2019-07-20T00:00:00\", \"2019-07-21T00:00:00\", \"2019-07-22T00:00:00\", \"2019-07-23T00:00:00\", \"2019-07-24T00:00:00\", \"2019-07-25T00:00:00\", \"2019-07-26T00:00:00\", \"2019-07-27T00:00:00\", \"2019-07-28T00:00:00\", \"2019-07-29T00:00:00\", \"2019-07-30T00:00:00\", \"2019-07-31T00:00:00\", \"2019-08-01T00:00:00\", \"2019-08-02T00:00:00\", \"2019-08-03T00:00:00\", \"2019-08-04T00:00:00\", \"2019-08-05T00:00:00\", \"2019-08-06T00:00:00\", \"2019-08-07T00:00:00\", \"2019-08-08T00:00:00\", \"2019-08-09T00:00:00\", \"2019-08-10T00:00:00\", \"2019-08-11T00:00:00\", \"2019-08-12T00:00:00\"], \"y\": [2388.579875026918, 2427.9684659991785, 2517.2731295474427, 2525.030481533539, 2599.7507156856054, 2836.1879163584626, 2815.6476570550403, 2753.8529005284636, 2822.3318758242367, 2853.5689328689464, 2908.2093826491728, 2803.203162824941, 2718.334304215492, 2652.0777526337656, 2357.256514680669, 2449.5949416274575, 2553.747971336364, 2566.839244171188, 2560.43983143381, 2660.8161131263037, 2709.262774126953, 2680.307472814914, 2717.6386948621202, 2658.221192824159, 2557.5211356091204, 2464.2695354434463, 2407.6134393550237, 2533.2306812591446, 2558.798318079778, 2522.5362395351317, 2461.1679175303457, 2444.459859527675, 2527.2491374584724, 2596.4382602645146, 2568.016397467303, 2592.8878899230735, 2543.9857787819433, 2517.9476256752623, 2539.3768544952195, 2456.2747428352313, 2338.340822194898, 2342.1312022202787, 2371.940693979107, 2278.72802977935, 2073.5628102633023, 1939.5702884106022, 2055.7844549045594, 2279.520712782407, 2311.446082644817, 2492.357701698901, 2718.396316200771, 2777.623212342187, 2767.513065632965, 2754.251979292954, 2624.9705053968405, 2499.9815658142197, 2572.4301519580504, 2735.4348812619833, 2717.617881295624, 2677.523874383181, 2760.3648575947736, 2767.4017847791915, 2714.600308113173, 2745.4180116384523, 2824.5567808960022, 3152.1593292312155, 3234.5939754224105, 3304.623349775857, 3415.613025723062, 3343.202894759201, 3391.60627431759, 3505.5231514121256, 3757.5869282825706, 4023.023294753051, 4169.278787363013, 4166.681448916113, 4160.070547056282, 4348.2649799398605, 4233.519978463672, 4060.506371688498, 4068.312584500995, 4021.8486833205106, 3923.7797744639283, 4138.9410379720175, 4178.964682674675, 4354.8466694444605, 4313.760092584753, 4339.887384781217, 4301.370170864653, 4462.131202676006, 4570.986819022317, 4665.125734428626, 4804.9560229816725, 4682.358487406368, 4574.432837462143, 4365.153105590177, 4253.429488814755, 4527.267692532989, 4578.231760213517, 4481.36444486341, 4288.6184819323435, 4181.365955245373, 4208.536624161478, 4253.4732015273785, 3931.875251850797, 3622.01227613208, 3408.9955307468667, 3695.034440468479, 3631.6292829969984, 3943.0140681192147, 3965.1630083214022, 3936.9847713393533, 3790.0314953461375, 3624.2754147714836, 3713.7802663025154, 3694.724356950307, 3823.581782051079, 3916.490113846318, 4031.8800120503074, 4186.127557984337, 4146.1524338919935, 4266.653151633268, 4294.191137692327, 4392.689783427268, 4307.036473870801, 4251.624157385725, 4255.969290892179, 4362.285542434008, 4351.766194373002, 4492.445518670854, 4641.586757859631, 4810.964829462019, 4788.16830930058, 5113.9988639305, 5618.698192864294, 5671.165188057461, 5615.7780484407385, 5668.7067663488, 5628.350901328305, 5399.987910540806, 5660.104544640417, 5787.817870493002, 6069.485534638142, 5911.870777254555, 5870.084034181252, 5662.357393130186, 5548.637295299297, 5828.039592510038, 5821.26110229157, 5751.281359885549, 5880.988306594645, 6117.301185471419, 6237.256033302716, 6496.283271467, 6953.447821286792, 7237.280695951408, 7256.4526912001875, 7456.506282456426, 7231.763107407978, 7096.779894573889, 7388.126583247378, 7245.375867211653, 6959.2629550046995, 6559.140109188551, 6110.301088582153, 6347.096640276897, 6593.79128198939, 7040.667457799413, 7453.795907976661, 7822.915901927729, 7694.321401686762, 7823.264398731986, 8088.767968120852, 8153.317809825473, 8190.625125105522, 8169.710291088275, 8165.570673970841, 8425.346969160328, 8977.075194014049, 9560.699031987531, 9823.511356503479, 10401.855882992206, 9888.439198611464, 10201.016837224217, 10946.077214827099, 11298.898196288861, 11340.006387503654, 11645.740126856103, 12573.30138642704, 14765.59582349784, 15436.869811658096, 14810.959005975395, 14125.449165541724, 16191.061360481477, 16721.880371703217, 16548.102574347813, 16321.984622243297, 17371.207942450794, 18183.892171615647, 19198.052540253873, 18726.44952749519, 18327.857924666634, 16829.325520586466, 16212.882202172614, 13745.19626153647, 14762.518778666714, 13656.605814690553, 13966.465464005307, 15250.631439961218, 15578.790892066116, 14251.978830251372, 14542.9919404017, 13212.907356386828, 13336.410641043156, 13413.135653552159, 13870.54325970443, 14972.25107991147, 14819.971463123731, 15775.43025854663, 16668.209201147223, 16509.2976338817, 15308.103830968872, 14862.409662438748, 14193.671775732371, 13708.192035411064, 13667.544001859975, 14227.27540953617, 13692.42379440366, 13831.064862786983, 12158.329737876424, 10679.413685353284, 11497.8401897297, 11521.551976873094, 12469.476816535212, 11884.298083473603, 11134.722996853474, 10722.82279042149, 11017.444309189503, 11284.658094563041, 11025.590039321549, 11233.831171763315, 11658.2831800494, 11284.155099287165, 10634.5518299176, 9985.21303109883, 9503.137920333884, 8555.571022577102, 8918.652718697549, 8720.731917698728, 7613.357319058523, 6835.250590665179, 7916.4227313594465, 8213.99023569132, 8257.954342718343, 8658.663492937374, 8182.941388618236, 8622.827941962221, 8607.047605631098, 9015.94872421616, 9804.812803115097, 10032.05927683427, 10675.555116754307, 10727.44976187261, 10870.09027315917, 11484.090398904804, 10787.253898420031, 10271.930847607025, 10009.572874038047, 9921.702075342719, 9597.969866447596, 9910.781644422184, 10551.084976422584, 10628.504487262764, 10648.173477607948, 10983.927273525116, 11330.099785205703, 11245.180815845708, 11514.327297652942, 11026.46644675543, 10392.941910627891, 9710.346149344035, 8907.177545229804, 9241.660429625686, 9065.597061183676, 9438.331000266371, 9150.005524932201, 8771.4214557844, 8107.943345443022, 8316.36684162075, 8075.447778990482, 7674.4894981759535, 8350.691476379186, 8624.244468620112, 8982.241984275608, 8796.119915854159, 8527.020808878759, 8864.883934618647, 8527.779441496103, 8207.455101486608, 7960.166496592872, 7917.944196184737, 7524.864656753012, 6888.6579280726555, 7009.503404720789, 6799.282042740652, 6978.40792307537, 7329.239994146742, 7078.177931598886, 6757.948724415294, 6648.184983253715, 6893.843376126852, 6982.530141102855, 6895.544079682092, 6770.222355461926, 6879.289976711666, 7339.149089088701, 7989.141996432903, 8012.004232638982, 8211.811688154177, 8077.218788716056, 8041.902761107214, 8060.00925946473, 8209.958060980509, 8440.981833588852, 8803.454200452989, 8883.650882090516, 8897.47554174651, 9314.626351817591, 9217.28766862342, 8886.601245115793, 9228.635673789164, 9228.836829641514, 9351.316329714895, 9287.82589400281, 8984.662200602163, 9119.531214623603, 9378.413413684439, 9658.743558042868, 9831.29581333134, 9622.87895338868, 9336.75605021737, 9258.555372339571, 9186.464551989597, 9252.624044592803, 8690.821474489898, 8418.775460460372, 8547.051292112083, 8588.814774641643, 8642.816049048723, 8281.541513782111, 8271.908490868029, 8100.480455852627, 8257.334534537387, 8370.237306862742, 8449.860266125288, 8232.905048870885, 7784.646024824595, 7535.274208072432, 7493.417100832233, 7499.147834543186, 7323.030615081221, 7262.332702492214, 7296.884117829091, 7425.349503603963, 7497.9972135412645, 7479.947903211972, 7597.242334763985, 7696.225154564304, 7572.801975719298, 7503.242457335357, 7605.9439196896, 7694.38175611741, 7637.867801745429, 7634.122175258751, 7130.518701570195, 6759.777325672938, 6754.010007057156, 6434.30410008779, 6501.358582469683, 6549.002444132028, 6461.787661649038, 6510.29914591979, 6529.356700108128, 6724.676617009279, 6682.958971719275, 6733.271572205092, 6357.43915006895, 6138.968542695796, 6022.359808726021, 6201.692743527929, 6196.017704859531, 6099.921813574718, 6082.67179335497, 5907.316313219864, 6366.453458717366, 6351.812029308197, 6455.037847866724, 6600.723805125049, 6564.798042628822, 6577.515454379465, 6542.915835881583, 6584.846375500824, 6737.618298992107, 6706.558584380368, 6476.948213424428, 6355.794657709444, 6218.907739830067, 6236.3083853995, 6240.415803066214, 6323.136891380141, 6521.641926867632, 6869.604903161079, 7409.272251444031, 7394.856231043726, 7418.693631156968, 7349.545982388114, 7453.955545487645, 7673.534974926324, 8066.990839367659, 8240.090994749531, 8197.062077416556, 8015.75018803299, 8171.070109336217, 8196.25218934701, 8137.401192689654, 7922.6720300645065, 7569.805207158245, 7594.431973621364, 7396.859288562539, 7245.017244239369, 7001.96900024807, 6989.670163835144, 6993.47077908751, 6444.214273621912, 6397.656734907616, 6389.040317890655, 6188.722230520981, 6303.60004623978, 6349.869859870177, 6061.894414317892, 6375.35042886717, 6346.037240762881, 6468.810814894148, 6444.485109735266, 6397.814756184111, 6444.2214664413395, 6397.665181642328, 6581.466009929816, 6432.758349146019, 6558.073186308505, 6712.472289703769, 6669.957876511778, 6713.548001668823, 6994.494673167058, 7048.5594423870725, 6928.080209289305, 6972.504358652031, 7105.029624422261, 7242.174045326667, 7259.255542658507, 7323.205328052773, 7126.685763293415, 6417.410969901397, 6442.565810843332, 6365.230716367017, 6288.878670602897, 6287.134921908012, 6284.481503264109, 6259.5010866889925, 6445.214549616689, 6496.404562146539, 6517.056502414544, 6487.964068352319, 6401.753182010213, 6302.927706945644, 6338.760179717137, 6413.577934718445, 6661.652772271147, 6708.3091443630465, 6701.3393726091945, 6628.513195861471, 6412.782741937837, 6463.8049132280585, 6518.342339272284, 6664.8983329653165, 6539.426011209876, 6570.823717766029, 6578.148444817976, 6545.887459945879, 6446.535068502914, 6552.9111929432465, 6540.225933523557, 6560.820128646875, 6536.789988648338, 6593.580331132751, 6584.636997881777, 6515.1837933828965, 6213.45462414068, 6204.462834076948, 6199.33632430319, 6227.574779512279, 6367.025889601203, 6436.064384473945, 6433.032185725059, 6427.69878336822, 6389.1699551257725, 6390.363297700282, 6436.197593273851, 6409.563603135302, 6399.807341488838, 6424.260586152408, 6394.43327902804, 6400.6333584982485, 6403.730279587282, 6402.156788155328, 6334.836203108987, 6266.0695810015695, 6275.224097710675, 6312.487078261362, 6351.433460887222, 6333.056017066233, 6365.304937976729, 6406.655448521287, 6410.592072793505, 6508.297844589206, 6444.637087574999, 6360.271702289567, 6359.541610035244, 6337.12385584588, 6348.354437908521, 6285.862343264475, 6024.737379640903, 5498.229001341467, 5527.956199527701, 5480.505915986735, 5537.7962488390385, 5203.282485532735, 4529.7782641100985, 4444.9319848898795, 4465.309618795831, 4249.876698909635, 4203.4884032307455, 3752.7257517902503, 3848.240240776619, 3701.9972502775126, 4054.925999468132, 4224.326667294381, 4070.3447744503483, 4075.7622910031355, 4121.466764092921, 3925.2574777004843, 3903.121354957992, 3801.8540060651994, 3694.1089080555785, 3360.143986786924, 3385.42018062149, 3469.126436557288, 3468.0022707457933, 3367.883253183701, 3399.993329853063, 3361.8130366311507, 3231.7675220552474, 3176.3758031916504, 3216.489042443513, 3334.8259490528703, 3509.9964639061395, 3747.437413785703, 3923.3145898174216, 3977.3141693706807, 3848.116333414556, 3980.1059520687772, 4127.863575401293, 3771.0736101571124, 3779.2780523984998, 3718.9807100177045, 3699.6899630542, 3875.434211378144, 3786.6062766304153, 3758.507535343961, 3700.1589989286103, 3825.0759666177405, 3831.8687308912663, 3785.246155880033, 3837.4376423852254, 3873.290028871832, 4022.3182921830708, 4009.5871022215138, 4010.018086853795, 3798.5046643541955, 3640.7372112395437, 3626.0908042811716, 3576.7479641695604, 3578.6722979920546, 3636.80705946271, 3603.5334259089473, 3601.7209411968206, 3613.499500073069, 3672.5975044411116, 3607.5837514812692, 3533.4848977298557, 3551.267713466976, 3569.143179492548, 3556.5565768670344, 3557.524358547162, 3569.362232966812, 3544.43106406523, 3441.1116648925895, 3397.2663500343424, 3422.361174272552, 3425.123067801499, 3412.94868166132, 3431.153380682849, 3421.9793724599476, 3412.8726668589757, 3422.164650575279, 3370.848962527628, 3365.581928733953, 3450.622008574299, 3613.3759331572596, 3608.8307972556368, 3594.4154488075237, 3577.992386247971, 3582.2018232161768, 3567.5110678464944, 3571.6796272307574, 3588.6368131401996, 3587.481230756235, 3757.2775251751973, 3897.3109790495496, 3907.4489798319532, 3910.567461139906, 3921.757879929301, 3978.254051767013, 3989.3840558385796, 3792.3604892734525, 3802.7563801480114, 3796.099311362144, 3809.2863998334024, 3813.80306767851, 3805.137531010286, 3803.5651858349693, 3729.803415668661, 3763.3055329112026, 3836.4946164028142, 3857.412632928716, 3872.9873809873848, 3887.7625566329825, 3893.264071687519, 3862.8506434451606, 3845.419450987623, 3852.173075987897, 3849.2356742388333, 3878.904600831057, 3979.084082726618, 3964.501282410706, 3969.4359861222915, 3978.079449228341, 3996.656188259612, 4001.8988244123366, 3984.3058029204763, 3977.4562552172124, 3973.2621310775166, 3952.599809798565, 3907.8582767771054, 3990.158380121245, 4007.726234447975, 4054.662454516085, 4084.117204650687, 4087.1825682086474, 4127.472849536052, 4644.526551454629, 5034.429685068629, 4972.629944170042, 4976.09159059773, 5041.556662280325, 5125.593964910049, 5238.403657959582, 5225.986450503464, 5278.337127580446, 5129.744769142833, 5046.722705599623, 5082.642339897603, 5079.002829999359, 5122.324701796388, 5101.198097338881, 5217.858365363853, 5268.420653281125, 5257.871743040143, 5312.952363408463, 5287.792472776502, 5315.669943298087, 5524.147530833382, 5488.730642258575, 5428.504302249109, 5148.827548718546, 5164.282742601478, 5167.245228335306, 5155.166913719158, 5197.911831867727, 5303.530555931072, 5361.693713956711, 5617.898712047735, 5693.370196511453, 5724.252005862474, 5653.577273568698, 5860.272253191232, 5843.431195986868, 6049.985820683191, 6284.693176491132, 6809.836589652242, 7146.356662904828, 7411.891923990788, 7991.345516850542, 8052.6918166056785, 7997.282708680078, 7260.913831818574, 7321.203803979215, 7936.027465871303, 7903.518562382391, 7949.423804827691, 7884.617619872401, 7706.522932964075, 7982.693958822212, 8042.122738100573, 8124.238502729698, 8780.865949969679, 8727.446554243415, 8651.423494606908, 8630.369351318359, 8347.266829511442, 8539.267873296127, 8671.632865071273, 8535.774466575853, 7854.008039873766, 7777.741569114814, 7747.5444767322615, 7932.169400817339, 7932.582029800513, 7797.117053089315, 7818.404959499802, 7896.1862660215675, 8030.113864961869, 8167.772259218201, 8357.630161613926, 8734.370279825303, 9088.182798893562, 9240.188639823475, 9149.011119369721, 9141.752090127358, 9351.190913460865, 9805.21859790916, 10709.96439424137, 10755.204157622937, 10848.221944076702, 11319.35357708263, 12637.185919081834, 11806.175945810355, 11682.922281145356, 11846.503206750576, 11545.799238258365, 10688.699035959778, 10308.510706661757, 11338.425411637678, 11759.408419183635, 11138.59051734004, 11422.273073500746, 11299.619431245696, 11785.484753686773, 12519.053579098761, 12661.438396504569, 11582.82703564485, 11591.975837374794, 11430.476968674391, 10861.767606566113, 10422.912662258886, 10347.469569231816, 9576.780021542838, 10053.444972032887, 10475.5784795546, 10671.009619079965, 10572.675382923091, 10454.86941738426, 10081.484999730443, 9690.421508630723, 10018.049694573398, 9771.47548157671, 9745.606113901416, 9494.2377504079, 9538.487976844137, 9537.129674814856, 9857.169553511865, 10081.64081663918, 10479.108743740982, 10792.836587081645, 10816.913782693673, 11676.433777501157, 11746.329999977426, 11720.745013322716, 11802.077861789769, 11807.553140900867, 11572.162608995552, 11376.378020657192, 11508.034335467182]}],\n",
       "                        {\"height\": 400, \"template\": {\"data\": {\"bar\": [{\"error_x\": {\"color\": \"#2a3f5f\"}, \"error_y\": {\"color\": \"#2a3f5f\"}, \"marker\": {\"line\": {\"color\": \"#E5ECF6\", \"width\": 0.5}}, \"type\": \"bar\"}], \"barpolar\": [{\"marker\": {\"line\": {\"color\": \"#E5ECF6\", \"width\": 0.5}}, \"type\": \"barpolar\"}], \"carpet\": [{\"aaxis\": {\"endlinecolor\": \"#2a3f5f\", \"gridcolor\": \"white\", \"linecolor\": \"white\", \"minorgridcolor\": \"white\", \"startlinecolor\": \"#2a3f5f\"}, \"baxis\": {\"endlinecolor\": \"#2a3f5f\", \"gridcolor\": \"white\", \"linecolor\": \"white\", \"minorgridcolor\": \"white\", \"startlinecolor\": \"#2a3f5f\"}, \"type\": \"carpet\"}], \"choropleth\": [{\"colorbar\": {\"outlinewidth\": 0, \"ticks\": \"\"}, \"type\": \"choropleth\"}], \"contour\": [{\"colorbar\": {\"outlinewidth\": 0, \"ticks\": \"\"}, \"colorscale\": [[0.0, \"#0d0887\"], [0.1111111111111111, \"#46039f\"], [0.2222222222222222, \"#7201a8\"], [0.3333333333333333, \"#9c179e\"], [0.4444444444444444, \"#bd3786\"], [0.5555555555555556, \"#d8576b\"], [0.6666666666666666, \"#ed7953\"], [0.7777777777777778, \"#fb9f3a\"], [0.8888888888888888, \"#fdca26\"], [1.0, \"#f0f921\"]], \"type\": \"contour\"}], \"contourcarpet\": [{\"colorbar\": {\"outlinewidth\": 0, \"ticks\": \"\"}, \"type\": \"contourcarpet\"}], \"heatmap\": [{\"colorbar\": {\"outlinewidth\": 0, \"ticks\": \"\"}, \"colorscale\": [[0.0, \"#0d0887\"], [0.1111111111111111, \"#46039f\"], [0.2222222222222222, \"#7201a8\"], [0.3333333333333333, \"#9c179e\"], [0.4444444444444444, \"#bd3786\"], [0.5555555555555556, \"#d8576b\"], [0.6666666666666666, \"#ed7953\"], [0.7777777777777778, \"#fb9f3a\"], [0.8888888888888888, \"#fdca26\"], [1.0, \"#f0f921\"]], \"type\": \"heatmap\"}], \"heatmapgl\": [{\"colorbar\": {\"outlinewidth\": 0, \"ticks\": \"\"}, \"colorscale\": [[0.0, \"#0d0887\"], [0.1111111111111111, \"#46039f\"], [0.2222222222222222, \"#7201a8\"], [0.3333333333333333, \"#9c179e\"], [0.4444444444444444, \"#bd3786\"], [0.5555555555555556, \"#d8576b\"], [0.6666666666666666, \"#ed7953\"], [0.7777777777777778, \"#fb9f3a\"], [0.8888888888888888, \"#fdca26\"], [1.0, \"#f0f921\"]], \"type\": \"heatmapgl\"}], \"histogram\": [{\"marker\": {\"colorbar\": {\"outlinewidth\": 0, \"ticks\": \"\"}}, \"type\": \"histogram\"}], \"histogram2d\": [{\"colorbar\": {\"outlinewidth\": 0, \"ticks\": \"\"}, \"colorscale\": [[0.0, \"#0d0887\"], [0.1111111111111111, \"#46039f\"], [0.2222222222222222, \"#7201a8\"], [0.3333333333333333, \"#9c179e\"], [0.4444444444444444, \"#bd3786\"], [0.5555555555555556, \"#d8576b\"], [0.6666666666666666, \"#ed7953\"], [0.7777777777777778, \"#fb9f3a\"], [0.8888888888888888, \"#fdca26\"], [1.0, \"#f0f921\"]], \"type\": \"histogram2d\"}], \"histogram2dcontour\": [{\"colorbar\": {\"outlinewidth\": 0, \"ticks\": \"\"}, \"colorscale\": [[0.0, \"#0d0887\"], [0.1111111111111111, \"#46039f\"], [0.2222222222222222, \"#7201a8\"], [0.3333333333333333, \"#9c179e\"], [0.4444444444444444, \"#bd3786\"], [0.5555555555555556, \"#d8576b\"], [0.6666666666666666, \"#ed7953\"], [0.7777777777777778, \"#fb9f3a\"], [0.8888888888888888, \"#fdca26\"], [1.0, \"#f0f921\"]], \"type\": \"histogram2dcontour\"}], \"mesh3d\": [{\"colorbar\": {\"outlinewidth\": 0, \"ticks\": \"\"}, \"type\": \"mesh3d\"}], \"parcoords\": [{\"line\": {\"colorbar\": {\"outlinewidth\": 0, \"ticks\": \"\"}}, \"type\": \"parcoords\"}], \"scatter\": [{\"marker\": {\"colorbar\": {\"outlinewidth\": 0, \"ticks\": \"\"}}, \"type\": \"scatter\"}], \"scatter3d\": [{\"line\": {\"colorbar\": {\"outlinewidth\": 0, \"ticks\": \"\"}}, \"marker\": {\"colorbar\": {\"outlinewidth\": 0, \"ticks\": \"\"}}, \"type\": \"scatter3d\"}], \"scattercarpet\": [{\"marker\": {\"colorbar\": {\"outlinewidth\": 0, \"ticks\": \"\"}}, \"type\": \"scattercarpet\"}], \"scattergeo\": [{\"marker\": {\"colorbar\": {\"outlinewidth\": 0, \"ticks\": \"\"}}, \"type\": \"scattergeo\"}], \"scattergl\": [{\"marker\": {\"colorbar\": {\"outlinewidth\": 0, \"ticks\": \"\"}}, \"type\": \"scattergl\"}], \"scattermapbox\": [{\"marker\": {\"colorbar\": {\"outlinewidth\": 0, \"ticks\": \"\"}}, \"type\": \"scattermapbox\"}], \"scatterpolar\": [{\"marker\": {\"colorbar\": {\"outlinewidth\": 0, \"ticks\": \"\"}}, \"type\": \"scatterpolar\"}], \"scatterpolargl\": [{\"marker\": {\"colorbar\": {\"outlinewidth\": 0, \"ticks\": \"\"}}, \"type\": \"scatterpolargl\"}], \"scatterternary\": [{\"marker\": {\"colorbar\": {\"outlinewidth\": 0, \"ticks\": \"\"}}, \"type\": \"scatterternary\"}], \"surface\": [{\"colorbar\": {\"outlinewidth\": 0, \"ticks\": \"\"}, \"colorscale\": [[0.0, \"#0d0887\"], [0.1111111111111111, \"#46039f\"], [0.2222222222222222, \"#7201a8\"], [0.3333333333333333, \"#9c179e\"], [0.4444444444444444, \"#bd3786\"], [0.5555555555555556, \"#d8576b\"], [0.6666666666666666, \"#ed7953\"], [0.7777777777777778, \"#fb9f3a\"], [0.8888888888888888, \"#fdca26\"], [1.0, \"#f0f921\"]], \"type\": \"surface\"}], \"table\": [{\"cells\": {\"fill\": {\"color\": \"#EBF0F8\"}, \"line\": {\"color\": \"white\"}}, \"header\": {\"fill\": {\"color\": \"#C8D4E3\"}, \"line\": {\"color\": \"white\"}}, \"type\": \"table\"}]}, \"layout\": {\"annotationdefaults\": {\"arrowcolor\": \"#2a3f5f\", \"arrowhead\": 0, \"arrowwidth\": 1}, \"colorscale\": {\"diverging\": [[0, \"#8e0152\"], [0.1, \"#c51b7d\"], [0.2, \"#de77ae\"], [0.3, \"#f1b6da\"], [0.4, \"#fde0ef\"], [0.5, \"#f7f7f7\"], [0.6, \"#e6f5d0\"], [0.7, \"#b8e186\"], [0.8, \"#7fbc41\"], [0.9, \"#4d9221\"], [1, \"#276419\"]], \"sequential\": [[0.0, \"#0d0887\"], [0.1111111111111111, \"#46039f\"], [0.2222222222222222, \"#7201a8\"], [0.3333333333333333, \"#9c179e\"], [0.4444444444444444, \"#bd3786\"], [0.5555555555555556, \"#d8576b\"], [0.6666666666666666, \"#ed7953\"], [0.7777777777777778, \"#fb9f3a\"], [0.8888888888888888, \"#fdca26\"], [1.0, \"#f0f921\"]], \"sequentialminus\": [[0.0, \"#0d0887\"], [0.1111111111111111, \"#46039f\"], [0.2222222222222222, \"#7201a8\"], [0.3333333333333333, \"#9c179e\"], [0.4444444444444444, \"#bd3786\"], [0.5555555555555556, \"#d8576b\"], [0.6666666666666666, \"#ed7953\"], [0.7777777777777778, \"#fb9f3a\"], [0.8888888888888888, \"#fdca26\"], [1.0, \"#f0f921\"]]}, \"colorway\": [\"#636efa\", \"#EF553B\", \"#00cc96\", \"#ab63fa\", \"#FFA15A\", \"#19d3f3\", \"#FF6692\", \"#B6E880\", \"#FF97FF\", \"#FECB52\"], \"font\": {\"color\": \"#2a3f5f\"}, \"geo\": {\"bgcolor\": \"white\", \"lakecolor\": \"white\", \"landcolor\": \"#E5ECF6\", \"showlakes\": true, \"showland\": true, \"subunitcolor\": \"white\"}, \"hoverlabel\": {\"align\": \"left\"}, \"hovermode\": \"closest\", \"mapbox\": {\"style\": \"light\"}, \"paper_bgcolor\": \"white\", \"plot_bgcolor\": \"#E5ECF6\", \"polar\": {\"angularaxis\": {\"gridcolor\": \"white\", \"linecolor\": \"white\", \"ticks\": \"\"}, \"bgcolor\": \"#E5ECF6\", \"radialaxis\": {\"gridcolor\": \"white\", \"linecolor\": \"white\", \"ticks\": \"\"}}, \"scene\": {\"xaxis\": {\"backgroundcolor\": \"#E5ECF6\", \"gridcolor\": \"white\", \"gridwidth\": 2, \"linecolor\": \"white\", \"showbackground\": true, \"ticks\": \"\", \"zerolinecolor\": \"white\"}, \"yaxis\": {\"backgroundcolor\": \"#E5ECF6\", \"gridcolor\": \"white\", \"gridwidth\": 2, \"linecolor\": \"white\", \"showbackground\": true, \"ticks\": \"\", \"zerolinecolor\": \"white\"}, \"zaxis\": {\"backgroundcolor\": \"#E5ECF6\", \"gridcolor\": \"white\", \"gridwidth\": 2, \"linecolor\": \"white\", \"showbackground\": true, \"ticks\": \"\", \"zerolinecolor\": \"white\"}}, \"shapedefaults\": {\"line\": {\"color\": \"#2a3f5f\"}}, \"ternary\": {\"aaxis\": {\"gridcolor\": \"white\", \"linecolor\": \"white\", \"ticks\": \"\"}, \"baxis\": {\"gridcolor\": \"white\", \"linecolor\": \"white\", \"ticks\": \"\"}, \"bgcolor\": \"#E5ECF6\", \"caxis\": {\"gridcolor\": \"white\", \"linecolor\": \"white\", \"ticks\": \"\"}}, \"title\": {\"x\": 0.05}, \"xaxis\": {\"automargin\": true, \"gridcolor\": \"white\", \"linecolor\": \"white\", \"ticks\": \"\", \"zerolinecolor\": \"white\", \"zerolinewidth\": 2}, \"yaxis\": {\"automargin\": true, \"gridcolor\": \"white\", \"linecolor\": \"white\", \"ticks\": \"\", \"zerolinecolor\": \"white\", \"zerolinewidth\": 2}}}, \"title\": {\"text\": \"Random walk prediction\"}, \"width\": 550, \"xaxis\": {\"range\": [\"2017-06-01\", \"2018-12-31\"], \"title\": {\"text\": \"timestamp\"}}, \"yaxis\": {\"title\": {\"text\": \"Price /USD\"}}},\n",
       "                        {\"responsive\": true}\n",
       "                    ).then(function(){\n",
       "                            \n",
       "var gd = document.getElementById('52cadf4b-0e01-4795-a909-3ffac9f75c4c');\n",
       "var x = new MutationObserver(function (mutations, observer) {{\n",
       "        var display = window.getComputedStyle(gd).display;\n",
       "        if (!display || display === 'none') {{\n",
       "            console.log([gd, 'removed!']);\n",
       "            Plotly.purge(gd);\n",
       "            observer.disconnect();\n",
       "        }}\n",
       "}});\n",
       "\n",
       "// Listen for the removal of the full notebook cells\n",
       "var notebookContainer = gd.closest('#notebook-container');\n",
       "if (notebookContainer) {{\n",
       "    x.observe(notebookContainer, {childList: true});\n",
       "}}\n",
       "\n",
       "// Listen for the clearing of the current output cell\n",
       "var outputEl = gd.closest('.output');\n",
       "if (outputEl) {{\n",
       "    x.observe(outputEl, {childList: true});\n",
       "}}\n",
       "\n",
       "                        })\n",
       "                };\n",
       "                });\n",
       "            </script>\n",
       "        </div>"
      ]
     },
     "metadata": {},
     "output_type": "display_data"
    }
   ],
   "source": [
    "split_date = '2017-06-01'\n",
    "import datetime\n",
    "np.random.seed(202)\n",
    "bt_r_walk_mean, bt_r_walk_sd = (df_bitstamp[df_bitstamp['Timestamp']< split_date]['day_diff']).mean(), \\\n",
    "                         (df_bitstamp[df_bitstamp['Timestamp']< split_date]['day_diff']).std()\n",
    "bt_random_steps = np.random.normal(loc = bt_r_walk_mean, scale = bt_r_walk_sd, \n",
    "                size = (max(df_bitstamp['Timestamp']).to_pydatetime() - datetime.datetime.strptime(split_date, '%Y-%m-%d')).days + 1)\n",
    "\n",
    "trace_0 = go.Scatter(x = df_bitstamp[df_bitstamp['Timestamp']>= split_date]['Timestamp'],\n",
    "                   y = df_bitstamp[df_bitstamp['Timestamp']>= split_date]['Close'],\n",
    "                   mode = \"lines\",\n",
    "                   name = \"Actual\",\n",
    "                   marker = dict(color = 'rgba(235, 115, 150, 0.5)')\n",
    "                       )\n",
    "\n",
    "trace_1 = go.Scatter(x = df_bitstamp[df_bitstamp['Timestamp']>= split_date]['Timestamp'],\n",
    "                   y = df_bitstamp[(df_bitstamp['Timestamp']+ datetime.timedelta(days=1))>= split_date]['Close'].values[1:] * (1+bt_random_steps),\n",
    "                   mode = \"lines\",\n",
    "                   name = \"Predict\",\n",
    "                   marker = dict(color = 'rgba(115, 120, 235, 0.5)')\n",
    "                       )\n",
    "\n",
    "data_3 = [trace_0, trace_1]\n",
    "layout_3 = go.Layout(height=400, width=550,\n",
    "                title='Random walk prediction', \n",
    "                xaxis_title=\"timestamp\",\n",
    "                yaxis_title=\"Price /USD\", \n",
    "                     xaxis=dict(range=['2017-06-01', '2018-12-31']))\n",
    "\n",
    "fig = dict(data = data_3, layout = layout_3)\n",
    "iplot(fig);\n"
   ]
  },
  {
   "cell_type": "markdown",
   "metadata": {},
   "source": [
    "The prediction line tracks very closely the actual price, since at each new time point, the value follows the true price and the random step is added for prediction. Meaning that errors aren't carried over to subsequent predictions, no matter how large the error is. \n",
    "\n",
    "The Bitcoin random walk is particularly deceptive, as the scale of the y-axis is quite wide, making the prediction line appear quite smooth."
   ]
  },
  {
   "cell_type": "markdown",
   "metadata": {},
   "source": [
    "### Long Short Term Memory (LSTM)\n",
    "For the Bitcoin's price prediction, we're going to utilize a Long Short Term Memory (LSTM) model which is known to suit time-series data.(Theory behind LSTMs: [1](http://colah.github.io/posts/2015-08-Understanding-LSTMs/), [2](http://blog.echen.me/2017/05/30/exploring-lstms/), [3](http://www.bioinf.jku.at/publications/older/2604.pdf))\n",
    "Our LSTM model will use previous data to predict the next day's closing price.\n",
    "<br>We'll create a new dataframe called model_data.\n",
    "<br>The close_off_high represents the gap between the closing price and price high for that day. When High price equals to Close price, the value is -1. When Close price equals to Low price, the value is 1. \n",
    "<br>The volatility columns are simply the difference between high and low price divided by the opening price. "
   ]
  },
  {
   "cell_type": "code",
   "execution_count": 23,
   "metadata": {},
   "outputs": [],
   "source": [
    "# add close_off_high, bt_volatility\n",
    "kwargs = {'close_off_high': lambda x: 2*(x['High']- x['Close'])/(x['High']-x['Low'])-1,\n",
    "          'volatility': lambda x: (x['High']- x['Low'])/(x['Open'])}\n",
    "model_data = df_bitstamp.assign(**kwargs)"
   ]
  },
  {
   "cell_type": "code",
   "execution_count": 24,
   "metadata": {},
   "outputs": [],
   "source": [
    "# re-order model_data by the timestamp\n",
    "model_data = model_data.sort_values(by='Timestamp')"
   ]
  },
  {
   "cell_type": "markdown",
   "metadata": {},
   "source": [
    "Remove open price, Timestamp, Volume_(Currency), daily highs and lows."
   ]
  },
  {
   "cell_type": "code",
   "execution_count": 25,
   "metadata": {},
   "outputs": [],
   "source": [
    "# drop columns\n",
    "model_data = model_data[['Timestamp','Close','Volume_(BTC)','close_off_high','volatility']]"
   ]
  },
  {
   "cell_type": "code",
   "execution_count": 26,
   "metadata": {
    "scrolled": true
   },
   "outputs": [],
   "source": [
    "# drop all the nulls model_data the data frame \n",
    "# (LSTM model would not work if there is null in the data)\n",
    "model_data.dropna(inplace=True)"
   ]
  },
  {
   "cell_type": "code",
   "execution_count": 27,
   "metadata": {},
   "outputs": [],
   "source": [
    "# split data frame to training/test data　\n",
    "training_set, test_set = model_data[model_data['Timestamp']<split_date], model_data[model_data['Timestamp']>=split_date]\n",
    "training_set = training_set.drop('Timestamp', axis=1)\n",
    "test_set = test_set.drop('Timestamp', axis=1)"
   ]
  },
  {
   "cell_type": "markdown",
   "metadata": {},
   "source": [
    "Since the dataset is arranged in order of earliest to latest. The timestamp column is not needed anymore. \n",
    "\n",
    "We must decide how many previous days it will have access to. We'll use 10 days, as it's a nice round number. We build little data frames consisting of 10 consecutive days of data (called windows), so the first window will consist of the 0-9th rows of the training set (Python is zero-indexed), the second will be the rows 1-10, etc. Picking a small window size means we can feed more windows into our model.\n",
    "\n",
    "Deep learning models don't like inputs that vary wildly. Typically, you want values between -1 and 1. We'll normalise the inputs to the first value in the window."
   ]
  },
  {
   "cell_type": "code",
   "execution_count": 28,
   "metadata": {},
   "outputs": [],
   "source": [
    "# normalization of 'Close','Volume_(BTC)'\n",
    "window_len = 10\n",
    "norm_cols = [['Close','Volume_(BTC)']]\n",
    "LSTM_training_inputs = []\n",
    "for i in range(len(training_set)-window_len):\n",
    "    temp_set = training_set[i:(i+window_len)].copy()\n",
    "    for col in norm_cols:\n",
    "        # deviding all the values in the columns by the value of the first row\n",
    "        temp_set.loc[:, col] = temp_set[col]/temp_set[col].iloc[0] - 1\n",
    "    LSTM_training_inputs.append(temp_set)\n",
    "LSTM_training_outputs = (training_set['Close'][window_len:].values/training_set['Close'][:-window_len].values)-1"
   ]
  },
  {
   "cell_type": "code",
   "execution_count": 29,
   "metadata": {},
   "outputs": [],
   "source": [
    "LSTM_test_inputs = []\n",
    "for i in range(len(test_set)-window_len):\n",
    "    temp_set = test_set[i:(i+window_len)].copy()\n",
    "    for col in norm_cols:\n",
    "        temp_set.loc[:, col] = temp_set[col]/temp_set[col].iloc[0] - 1 \n",
    "    LSTM_test_inputs.append(temp_set)\n",
    "LSTM_test_outputs = (test_set['Close'][window_len:].values/test_set['Close'][:-window_len].values)-1"
   ]
  },
  {
   "cell_type": "code",
   "execution_count": 30,
   "metadata": {},
   "outputs": [
    {
     "data": {
      "text/html": [
       "<div>\n",
       "<style scoped>\n",
       "    .dataframe tbody tr th:only-of-type {\n",
       "        vertical-align: middle;\n",
       "    }\n",
       "\n",
       "    .dataframe tbody tr th {\n",
       "        vertical-align: top;\n",
       "    }\n",
       "\n",
       "    .dataframe thead th {\n",
       "        text-align: right;\n",
       "    }\n",
       "</style>\n",
       "<table border=\"1\" class=\"dataframe\">\n",
       "  <thead>\n",
       "    <tr style=\"text-align: right;\">\n",
       "      <th></th>\n",
       "      <th>Close</th>\n",
       "      <th>Volume_(BTC)</th>\n",
       "      <th>close_off_high</th>\n",
       "      <th>volatility</th>\n",
       "    </tr>\n",
       "  </thead>\n",
       "  <tbody>\n",
       "    <tr>\n",
       "      <th>0</th>\n",
       "      <td>0.000000</td>\n",
       "      <td>0.000000</td>\n",
       "      <td>-1.000000</td>\n",
       "      <td>0.000016</td>\n",
       "    </tr>\n",
       "    <tr>\n",
       "      <th>4</th>\n",
       "      <td>0.169052</td>\n",
       "      <td>1.268754</td>\n",
       "      <td>-1.000000</td>\n",
       "      <td>0.010049</td>\n",
       "    </tr>\n",
       "    <tr>\n",
       "      <th>5</th>\n",
       "      <td>0.371659</td>\n",
       "      <td>-0.167266</td>\n",
       "      <td>-1.000000</td>\n",
       "      <td>0.002965</td>\n",
       "    </tr>\n",
       "    <tr>\n",
       "      <th>6</th>\n",
       "      <td>0.464819</td>\n",
       "      <td>-0.512264</td>\n",
       "      <td>-1.000000</td>\n",
       "      <td>0.003141</td>\n",
       "    </tr>\n",
       "    <tr>\n",
       "      <th>9</th>\n",
       "      <td>0.494732</td>\n",
       "      <td>-0.631366</td>\n",
       "      <td>1.000000</td>\n",
       "      <td>0.004134</td>\n",
       "    </tr>\n",
       "    <tr>\n",
       "      <th>11</th>\n",
       "      <td>0.566810</td>\n",
       "      <td>-0.510114</td>\n",
       "      <td>-1.000000</td>\n",
       "      <td>0.000403</td>\n",
       "    </tr>\n",
       "    <tr>\n",
       "      <th>13</th>\n",
       "      <td>0.513384</td>\n",
       "      <td>-0.869066</td>\n",
       "      <td>-0.591148</td>\n",
       "      <td>0.002740</td>\n",
       "    </tr>\n",
       "    <tr>\n",
       "      <th>14</th>\n",
       "      <td>0.429561</td>\n",
       "      <td>-0.804193</td>\n",
       "      <td>1.000000</td>\n",
       "      <td>0.012580</td>\n",
       "    </tr>\n",
       "    <tr>\n",
       "      <th>17</th>\n",
       "      <td>0.545032</td>\n",
       "      <td>-0.540842</td>\n",
       "      <td>1.000000</td>\n",
       "      <td>0.000030</td>\n",
       "    </tr>\n",
       "    <tr>\n",
       "      <th>18</th>\n",
       "      <td>0.465353</td>\n",
       "      <td>-0.263106</td>\n",
       "      <td>-0.985697</td>\n",
       "      <td>0.003568</td>\n",
       "    </tr>\n",
       "  </tbody>\n",
       "</table>\n",
       "</div>"
      ],
      "text/plain": [
       "       Close  Volume_(BTC)  close_off_high  volatility\n",
       "0   0.000000      0.000000       -1.000000    0.000016\n",
       "4   0.169052      1.268754       -1.000000    0.010049\n",
       "5   0.371659     -0.167266       -1.000000    0.002965\n",
       "6   0.464819     -0.512264       -1.000000    0.003141\n",
       "9   0.494732     -0.631366        1.000000    0.004134\n",
       "11  0.566810     -0.510114       -1.000000    0.000403\n",
       "13  0.513384     -0.869066       -0.591148    0.002740\n",
       "14  0.429561     -0.804193        1.000000    0.012580\n",
       "17  0.545032     -0.540842        1.000000    0.000030\n",
       "18  0.465353     -0.263106       -0.985697    0.003568"
      ]
     },
     "execution_count": 30,
     "metadata": {},
     "output_type": "execute_result"
    }
   ],
   "source": [
    "LSTM_training_inputs[0]"
   ]
  },
  {
   "cell_type": "markdown",
   "metadata": {},
   "source": [
    "This table represents an example of our LSTM model input. The next table contains the next 10 days's dataset, meaning that it's single timepoint prediction. \n",
    "<br>We're now ready to build the LSTM model. This is actually quite straightforward with Keras, you simply stack componenets on top of each other. \n",
    "\n",
    "For LSTMs with Keras, I refered to several articles [1](https://qiita.com/yukiB/items/5d5b202af86e3c587843), [2](https://qiita.com/yuyakato/items/ab38064ca215e8750865). (both written in Japanese)."
   ]
  },
  {
   "cell_type": "code",
   "execution_count": 31,
   "metadata": {},
   "outputs": [],
   "source": [
    "# Work with numpy arraysespecially as we now only have numerical data\n",
    "LSTM_training_inputs = [np.array(LSTM_training_input) for LSTM_training_input in LSTM_training_inputs]\n",
    "LSTM_training_inputs = np.array(LSTM_training_inputs)\n",
    "LSTM_test_inputs = [np.array(LSTM_test_inputs) for LSTM_test_inputs in LSTM_test_inputs]\n",
    "LSTM_test_inputs = np.array(LSTM_test_inputs)"
   ]
  },
  {
   "cell_type": "code",
   "execution_count": 32,
   "metadata": {},
   "outputs": [
    {
     "name": "stderr",
     "output_type": "stream",
     "text": [
      "Using TensorFlow backend.\n"
     ]
    }
   ],
   "source": [
    "# import the relevant Keras modules\n",
    "from keras.models import Sequential\n",
    "from keras.layers import Activation, Dense\n",
    "from keras.layers import LSTM\n",
    "from keras.layers import Dropout\n",
    "\n",
    "def build_model(inputs, output_size, neurons, activ_func=\"linear\",\n",
    "                dropout=0.25, loss=\"mae\", optimizer=\"adam\"):\n",
    "    model = Sequential()\n",
    "\n",
    "    model.add(LSTM(neurons, input_shape=(inputs.shape[1], inputs.shape[2])))\n",
    "    model.add(Dropout(dropout))\n",
    "    model.add(Dense(units=output_size))\n",
    "    model.add(Activation(activ_func))\n",
    "\n",
    "    model.compile(loss=loss, optimizer=optimizer)\n",
    "    return model"
   ]
  },
  {
   "cell_type": "markdown",
   "metadata": {},
   "source": [
    "So, the build_model functions constructs an empty model called \"model\" (model = Sequential), to which an LSTM layer is added. That layer has been shaped to fit our inputs (n x m tables, where n and m represent the number of timepoints/rows and columns, respectively). The function also includes more generic neural network features, like [dropout](https://machinelearningmastery.com/dropout-regularization-deep-learning-models-keras/) and [activation functions](https://dashee87.github.io/deep%20learning/visualising-activation-functions-in-neural-networks/). Now, we just need to specify the number of neurons to place in the LSTM layer (I've opted for 20 to keep runtime reasonable), as well as the data on which the model will be trained."
   ]
  },
  {
   "cell_type": "code",
   "execution_count": 33,
   "metadata": {},
   "outputs": [
    {
     "name": "stdout",
     "output_type": "stream",
     "text": [
      "WARNING:tensorflow:From /Users/Rory/anaconda3/lib/python3.6/site-packages/tensorflow/python/ops/resource_variable_ops.py:435: colocate_with (from tensorflow.python.framework.ops) is deprecated and will be removed in a future version.\n",
      "Instructions for updating:\n",
      "Colocations handled automatically by placer.\n",
      "WARNING:tensorflow:From /Users/Rory/anaconda3/lib/python3.6/site-packages/tensorflow/python/ops/math_ops.py:3066: to_int32 (from tensorflow.python.ops.math_ops) is deprecated and will be removed in a future version.\n",
      "Instructions for updating:\n",
      "Use tf.cast instead.\n",
      "Epoch 1/50\n",
      " - 12s - loss: 0.0610\n",
      "Epoch 2/50\n",
      " - 12s - loss: 0.0405\n",
      "Epoch 3/50\n",
      " - 12s - loss: 0.0363\n",
      "Epoch 4/50\n",
      " - 12s - loss: 0.0337\n",
      "Epoch 5/50\n",
      " - 12s - loss: 0.0316\n",
      "Epoch 6/50\n",
      " - 12s - loss: 0.0300\n",
      "Epoch 7/50\n",
      " - 11s - loss: 0.0308\n",
      "Epoch 8/50\n",
      " - 12s - loss: 0.0301\n",
      "Epoch 9/50\n",
      " - 12s - loss: 0.0295\n",
      "Epoch 10/50\n",
      " - 12s - loss: 0.0302\n",
      "Epoch 11/50\n",
      " - 12s - loss: 0.0287\n",
      "Epoch 12/50\n",
      " - 12s - loss: 0.0280\n",
      "Epoch 13/50\n",
      " - 12s - loss: 0.0283\n",
      "Epoch 14/50\n",
      " - 11s - loss: 0.0289\n",
      "Epoch 15/50\n",
      " - 12s - loss: 0.0286\n",
      "Epoch 16/50\n",
      " - 12s - loss: 0.0279\n",
      "Epoch 17/50\n",
      " - 12s - loss: 0.0277\n",
      "Epoch 18/50\n",
      " - 12s - loss: 0.0293\n",
      "Epoch 19/50\n",
      " - 12s - loss: 0.0279\n",
      "Epoch 20/50\n",
      " - 12s - loss: 0.0279\n",
      "Epoch 21/50\n",
      " - 12s - loss: 0.0275\n",
      "Epoch 22/50\n",
      " - 12s - loss: 0.0275\n",
      "Epoch 23/50\n",
      " - 12s - loss: 0.0283\n",
      "Epoch 24/50\n",
      " - 12s - loss: 0.0274\n",
      "Epoch 25/50\n",
      " - 12s - loss: 0.0286\n",
      "Epoch 26/50\n",
      " - 12s - loss: 0.0281\n",
      "Epoch 27/50\n",
      " - 12s - loss: 0.0280\n",
      "Epoch 28/50\n",
      " - 12s - loss: 0.0267\n",
      "Epoch 29/50\n",
      " - 12s - loss: 0.0264\n",
      "Epoch 30/50\n",
      " - 12s - loss: 0.0285\n",
      "Epoch 31/50\n",
      " - 12s - loss: 0.0275\n",
      "Epoch 32/50\n",
      " - 12s - loss: 0.0275\n",
      "Epoch 33/50\n",
      " - 11s - loss: 0.0273\n",
      "Epoch 34/50\n",
      " - 12s - loss: 0.0281\n",
      "Epoch 35/50\n",
      " - 11s - loss: 0.0274\n",
      "Epoch 36/50\n",
      " - 11s - loss: 0.0270\n",
      "Epoch 37/50\n",
      " - 12s - loss: 0.0276\n",
      "Epoch 38/50\n",
      " - 11s - loss: 0.0279\n",
      "Epoch 39/50\n",
      " - 12s - loss: 0.0270\n",
      "Epoch 40/50\n",
      " - 12s - loss: 0.0278\n",
      "Epoch 41/50\n",
      " - 12s - loss: 0.0276\n",
      "Epoch 42/50\n",
      " - 12s - loss: 0.0276\n",
      "Epoch 43/50\n",
      " - 12s - loss: 0.0275\n",
      "Epoch 44/50\n",
      " - 12s - loss: 0.0275\n",
      "Epoch 45/50\n",
      " - 12s - loss: 0.0277\n",
      "Epoch 46/50\n",
      " - 12s - loss: 0.0271\n",
      "Epoch 47/50\n",
      " - 12s - loss: 0.0264\n",
      "Epoch 48/50\n",
      " - 12s - loss: 0.0277\n",
      "Epoch 49/50\n",
      " - 12s - loss: 0.0270\n",
      "Epoch 50/50\n",
      " - 12s - loss: 0.0267\n"
     ]
    }
   ],
   "source": [
    "# random seed for reproducibility\n",
    "np.random.seed(202)\n",
    "bit_model = build_model(LSTM_training_inputs, output_size=1, neurons = 20)\n",
    "# model output is next price normalised to 10th previous closing price\n",
    "LSTM_training_outputs = (training_set['Close'][window_len:].values/training_set['Close'][:-window_len].values)-1\n",
    "# train model on data\n",
    "# note: bit_history contains information on the training error per epoch\n",
    "bit_history = bit_model.fit(LSTM_training_inputs, LSTM_training_outputs, \n",
    "                            epochs=50, batch_size=1, verbose=2, shuffle=True)"
   ]
  },
  {
   "cell_type": "markdown",
   "metadata": {},
   "source": [
    "If everything went to plan, then we'd expect the training error to have gradually decreased over time."
   ]
  },
  {
   "cell_type": "code",
   "execution_count": 34,
   "metadata": {},
   "outputs": [
    {
     "data": {
      "image/png": "[encoded data removed]",
      "text/plain": [
       "<Figure size 432x288 with 1 Axes>"
      ]
     },
     "metadata": {
      "needs_background": "light"
     },
     "output_type": "display_data"
    }
   ],
   "source": [
    "fig, ax1 = plt.subplots(1,1)\n",
    "\n",
    "ax1.plot(bit_history.epoch, bit_history.history['loss'])\n",
    "ax1.set_title('Training Error')\n",
    "\n",
    "if bit_model.loss == 'mae':\n",
    "    ax1.set_ylabel('Mean Absolute Error (MAE)',fontsize=12)\n",
    "# just in case you decided to change the model loss calculation\n",
    "else:\n",
    "    ax1.set_ylabel('Model Loss',fontsize=12)\n",
    "ax1.set_xlabel('# Epochs',fontsize=12)\n",
    "plt.show()"
   ]
  },
  {
   "cell_type": "markdown",
   "metadata": {},
   "source": [
    "See how well this modeel performs on testset. That number below the code represents the model's mean absolute error (mae) on the training set after the 50th training iteration (or epoch)."
   ]
  },
  {
   "cell_type": "code",
   "execution_count": 35,
   "metadata": {},
   "outputs": [
    {
     "data": {
      "application/vnd.plotly.v1+json": {
       "config": {
        "linkText": "Export to plot.ly",
        "plotlyServerURL": "https://plot.ly",
        "showLink": false
       },
       "data": [
        {
         "marker": {
          "color": "rgba(235, 115, 150, 0.5)"
         },
         "mode": "lines",
         "name": "Actual",
         "type": "scatter",
         "x": [
          "2017-06-11T00:00:00",
          "2017-06-12T00:00:00",
          "2017-06-13T00:00:00",
          "2017-06-14T00:00:00",
          "2017-06-15T00:00:00",
          "2017-06-16T00:00:00",
          "2017-06-17T00:00:00",
          "2017-06-18T00:00:00",
          "2017-06-19T00:00:00",
          "2017-06-20T00:00:00",
          "2017-06-21T00:00:00",
          "2017-06-22T00:00:00",
          "2017-06-23T00:00:00",
          "2017-06-24T00:00:00",
          "2017-06-25T00:00:00",
          "2017-06-26T00:00:00",
          "2017-06-27T00:00:00",
          "2017-06-28T00:00:00",
          "2017-06-29T00:00:00",
          "2017-06-30T00:00:00",
          "2017-07-01T00:00:00",
          "2017-07-02T00:00:00",
          "2017-07-03T00:00:00",
          "2017-07-04T00:00:00",
          "2017-07-05T00:00:00",
          "2017-07-06T00:00:00",
          "2017-07-07T00:00:00",
          "2017-07-08T00:00:00",
          "2017-07-09T00:00:00",
          "2017-07-10T00:00:00",
          "2017-07-11T00:00:00",
          "2017-07-12T00:00:00",
          "2017-07-13T00:00:00",
          "2017-07-14T00:00:00",
          "2017-07-15T00:00:00",
          "2017-07-16T00:00:00",
          "2017-07-17T00:00:00",
          "2017-07-18T00:00:00",
          "2017-07-19T00:00:00",
          "2017-07-20T00:00:00",
          "2017-07-21T00:00:00",
          "2017-07-22T00:00:00",
          "2017-07-23T00:00:00",
          "2017-07-24T00:00:00",
          "2017-07-25T00:00:00",
          "2017-07-26T00:00:00",
          "2017-07-27T00:00:00",
          "2017-07-28T00:00:00",
          "2017-07-29T00:00:00",
          "2017-07-30T00:00:00",
          "2017-07-31T00:00:00",
          "2017-08-01T00:00:00",
          "2017-08-02T00:00:00",
          "2017-08-03T00:00:00",
          "2017-08-04T00:00:00",
          "2017-08-05T00:00:00",
          "2017-08-06T00:00:00",
          "2017-08-07T00:00:00",
          "2017-08-08T00:00:00",
          "2017-08-09T00:00:00",
          "2017-08-10T00:00:00",
          "2017-08-11T00:00:00",
          "2017-08-12T00:00:00",
          "2017-08-13T00:00:00",
          "2017-08-14T00:00:00",
          "2017-08-15T00:00:00",
          "2017-08-16T00:00:00",
          "2017-08-17T00:00:00",
          "2017-08-18T00:00:00",
          "2017-08-19T00:00:00",
          "2017-08-20T00:00:00",
          "2017-08-21T00:00:00",
          "2017-08-22T00:00:00",
          "2017-08-23T00:00:00",
          "2017-08-24T00:00:00",
          "2017-08-25T00:00:00",
          "2017-08-26T00:00:00",
          "2017-08-27T00:00:00",
          "2017-08-28T00:00:00",
          "2017-08-29T00:00:00",
          "2017-08-30T00:00:00",
          "2017-08-31T00:00:00",
          "2017-09-01T00:00:00",
          "2017-09-02T00:00:00",
          "2017-09-03T00:00:00",
          "2017-09-04T00:00:00",
          "2017-09-05T00:00:00",
          "2017-09-06T00:00:00",
          "2017-09-07T00:00:00",
          "2017-09-08T00:00:00",
          "2017-09-09T00:00:00",
          "2017-09-10T00:00:00",
          "2017-09-11T00:00:00",
          "2017-09-12T00:00:00",
          "2017-09-13T00:00:00",
          "2017-09-14T00:00:00",
          "2017-09-15T00:00:00",
          "2017-09-16T00:00:00",
          "2017-09-17T00:00:00",
          "2017-09-18T00:00:00",
          "2017-09-19T00:00:00",
          "2017-09-20T00:00:00",
          "2017-09-21T00:00:00",
          "2017-09-22T00:00:00",
          "2017-09-23T00:00:00",
          "2017-09-24T00:00:00",
          "2017-09-25T00:00:00",
          "2017-09-26T00:00:00",
          "2017-09-27T00:00:00",
          "2017-09-28T00:00:00",
          "2017-09-29T00:00:00",
          "2017-09-30T00:00:00",
          "2017-10-01T00:00:00",
          "2017-10-02T00:00:00",
          "2017-10-03T00:00:00",
          "2017-10-04T00:00:00",
          "2017-10-05T00:00:00",
          "2017-10-06T00:00:00",
          "2017-10-07T00:00:00",
          "2017-10-08T00:00:00",
          "2017-10-09T00:00:00",
          "2017-10-10T00:00:00",
          "2017-10-11T00:00:00",
          "2017-10-12T00:00:00",
          "2017-10-13T00:00:00",
          "2017-10-14T00:00:00",
          "2017-10-15T00:00:00",
          "2017-10-16T00:00:00",
          "2017-10-17T00:00:00",
          "2017-10-18T00:00:00",
          "2017-10-19T00:00:00",
          "2017-10-20T00:00:00",
          "2017-10-21T00:00:00",
          "2017-10-22T00:00:00",
          "2017-10-23T00:00:00",
          "2017-10-24T00:00:00",
          "2017-10-25T00:00:00",
          "2017-10-26T00:00:00",
          "2017-10-27T00:00:00",
          "2017-10-28T00:00:00",
          "2017-10-29T00:00:00",
          "2017-10-30T00:00:00",
          "2017-10-31T00:00:00",
          "2017-11-01T00:00:00",
          "2017-11-02T00:00:00",
          "2017-11-03T00:00:00",
          "2017-11-04T00:00:00",
          "2017-11-05T00:00:00",
          "2017-11-06T00:00:00",
          "2017-11-07T00:00:00",
          "2017-11-08T00:00:00",
          "2017-11-09T00:00:00",
          "2017-11-10T00:00:00",
          "2017-11-11T00:00:00",
          "2017-11-12T00:00:00",
          "2017-11-13T00:00:00",
          "2017-11-14T00:00:00",
          "2017-11-15T00:00:00",
          "2017-11-16T00:00:00",
          "2017-11-17T00:00:00",
          "2017-11-18T00:00:00",
          "2017-11-19T00:00:00",
          "2017-11-20T00:00:00",
          "2017-11-21T00:00:00",
          "2017-11-22T00:00:00",
          "2017-11-23T00:00:00",
          "2017-11-24T00:00:00",
          "2017-11-25T00:00:00",
          "2017-11-26T00:00:00",
          "2017-11-27T00:00:00",
          "2017-11-28T00:00:00",
          "2017-11-29T00:00:00",
          "2017-11-30T00:00:00",
          "2017-12-01T00:00:00",
          "2017-12-02T00:00:00",
          "2017-12-03T00:00:00",
          "2017-12-04T00:00:00",
          "2017-12-05T00:00:00",
          "2017-12-06T00:00:00",
          "2017-12-07T00:00:00",
          "2017-12-08T00:00:00",
          "2017-12-09T00:00:00",
          "2017-12-10T00:00:00",
          "2017-12-11T00:00:00",
          "2017-12-12T00:00:00",
          "2017-12-13T00:00:00",
          "2017-12-14T00:00:00",
          "2017-12-15T00:00:00",
          "2017-12-16T00:00:00",
          "2017-12-17T00:00:00",
          "2017-12-18T00:00:00",
          "2017-12-19T00:00:00",
          "2017-12-20T00:00:00",
          "2017-12-21T00:00:00",
          "2017-12-22T00:00:00",
          "2017-12-23T00:00:00",
          "2017-12-24T00:00:00",
          "2017-12-25T00:00:00",
          "2017-12-26T00:00:00",
          "2017-12-27T00:00:00",
          "2017-12-28T00:00:00",
          "2017-12-29T00:00:00",
          "2017-12-30T00:00:00",
          "2017-12-31T00:00:00",
          "2018-01-01T00:00:00",
          "2018-01-02T00:00:00",
          "2018-01-03T00:00:00",
          "2018-01-04T00:00:00",
          "2018-01-05T00:00:00",
          "2018-01-06T00:00:00",
          "2018-01-07T00:00:00",
          "2018-01-08T00:00:00",
          "2018-01-09T00:00:00",
          "2018-01-10T00:00:00",
          "2018-01-11T00:00:00",
          "2018-01-12T00:00:00",
          "2018-01-13T00:00:00",
          "2018-01-14T00:00:00",
          "2018-01-15T00:00:00",
          "2018-01-16T00:00:00",
          "2018-01-17T00:00:00",
          "2018-01-18T00:00:00",
          "2018-01-19T00:00:00",
          "2018-01-20T00:00:00",
          "2018-01-21T00:00:00",
          "2018-01-22T00:00:00",
          "2018-01-23T00:00:00",
          "2018-01-24T00:00:00",
          "2018-01-25T00:00:00",
          "2018-01-26T00:00:00",
          "2018-01-27T00:00:00",
          "2018-01-28T00:00:00",
          "2018-01-29T00:00:00",
          "2018-01-30T00:00:00",
          "2018-01-31T00:00:00",
          "2018-02-01T00:00:00",
          "2018-02-02T00:00:00",
          "2018-02-03T00:00:00",
          "2018-02-04T00:00:00",
          "2018-02-05T00:00:00",
          "2018-02-06T00:00:00",
          "2018-02-07T00:00:00",
          "2018-02-08T00:00:00",
          "2018-02-09T00:00:00",
          "2018-02-10T00:00:00",
          "2018-02-11T00:00:00",
          "2018-02-12T00:00:00",
          "2018-02-13T00:00:00",
          "2018-02-14T00:00:00",
          "2018-02-15T00:00:00",
          "2018-02-16T00:00:00",
          "2018-02-17T00:00:00",
          "2018-02-18T00:00:00",
          "2018-02-19T00:00:00",
          "2018-02-20T00:00:00",
          "2018-02-21T00:00:00",
          "2018-02-22T00:00:00",
          "2018-02-23T00:00:00",
          "2018-02-24T00:00:00",
          "2018-02-25T00:00:00",
          "2018-02-26T00:00:00",
          "2018-02-27T00:00:00",
          "2018-02-28T00:00:00",
          "2018-03-01T00:00:00",
          "2018-03-02T00:00:00",
          "2018-03-03T00:00:00",
          "2018-03-04T00:00:00",
          "2018-03-05T00:00:00",
          "2018-03-06T00:00:00",
          "2018-03-07T00:00:00",
          "2018-03-08T00:00:00",
          "2018-03-09T00:00:00",
          "2018-03-10T00:00:00",
          "2018-03-11T00:00:00",
          "2018-03-12T00:00:00",
          "2018-03-13T00:00:00",
          "2018-03-14T00:00:00",
          "2018-03-15T00:00:00",
          "2018-03-16T00:00:00",
          "2018-03-17T00:00:00",
          "2018-03-18T00:00:00",
          "2018-03-19T00:00:00",
          "2018-03-20T00:00:00",
          "2018-03-21T00:00:00",
          "2018-03-22T00:00:00",
          "2018-03-23T00:00:00",
          "2018-03-24T00:00:00",
          "2018-03-25T00:00:00",
          "2018-03-26T00:00:00",
          "2018-03-27T00:00:00",
          "2018-03-28T00:00:00",
          "2018-03-29T00:00:00",
          "2018-03-30T00:00:00",
          "2018-03-31T00:00:00",
          "2018-04-01T00:00:00",
          "2018-04-02T00:00:00",
          "2018-04-03T00:00:00",
          "2018-04-04T00:00:00",
          "2018-04-05T00:00:00",
          "2018-04-06T00:00:00",
          "2018-04-07T00:00:00",
          "2018-04-08T00:00:00",
          "2018-04-09T00:00:00",
          "2018-04-10T00:00:00",
          "2018-04-11T00:00:00",
          "2018-04-12T00:00:00",
          "2018-04-13T00:00:00",
          "2018-04-14T00:00:00",
          "2018-04-15T00:00:00",
          "2018-04-16T00:00:00",
          "2018-04-17T00:00:00",
          "2018-04-18T00:00:00",
          "2018-04-19T00:00:00",
          "2018-04-20T00:00:00",
          "2018-04-21T00:00:00",
          "2018-04-22T00:00:00",
          "2018-04-23T00:00:00",
          "2018-04-24T00:00:00",
          "2018-04-25T00:00:00",
          "2018-04-26T00:00:00",
          "2018-04-27T00:00:00",
          "2018-04-28T00:00:00",
          "2018-04-29T00:00:00",
          "2018-04-30T00:00:00",
          "2018-05-01T00:00:00",
          "2018-05-02T00:00:00",
          "2018-05-03T00:00:00",
          "2018-05-04T00:00:00",
          "2018-05-05T00:00:00",
          "2018-05-06T00:00:00",
          "2018-05-07T00:00:00",
          "2018-05-08T00:00:00",
          "2018-05-09T00:00:00",
          "2018-05-10T00:00:00",
          "2018-05-11T00:00:00",
          "2018-05-12T00:00:00",
          "2018-05-13T00:00:00",
          "2018-05-14T00:00:00",
          "2018-05-15T00:00:00",
          "2018-05-16T00:00:00",
          "2018-05-17T00:00:00",
          "2018-05-18T00:00:00",
          "2018-05-19T00:00:00",
          "2018-05-20T00:00:00",
          "2018-05-21T00:00:00",
          "2018-05-22T00:00:00",
          "2018-05-23T00:00:00",
          "2018-05-24T00:00:00",
          "2018-05-25T00:00:00",
          "2018-05-26T00:00:00",
          "2018-05-27T00:00:00",
          "2018-05-28T00:00:00",
          "2018-05-29T00:00:00",
          "2018-05-30T00:00:00",
          "2018-05-31T00:00:00",
          "2018-06-01T00:00:00",
          "2018-06-02T00:00:00",
          "2018-06-03T00:00:00",
          "2018-06-04T00:00:00",
          "2018-06-05T00:00:00",
          "2018-06-06T00:00:00",
          "2018-06-07T00:00:00",
          "2018-06-08T00:00:00",
          "2018-06-09T00:00:00",
          "2018-06-10T00:00:00",
          "2018-06-11T00:00:00",
          "2018-06-12T00:00:00",
          "2018-06-13T00:00:00",
          "2018-06-14T00:00:00",
          "2018-06-15T00:00:00",
          "2018-06-16T00:00:00",
          "2018-06-17T00:00:00",
          "2018-06-18T00:00:00",
          "2018-06-19T00:00:00",
          "2018-06-20T00:00:00",
          "2018-06-21T00:00:00",
          "2018-06-22T00:00:00",
          "2018-06-23T00:00:00",
          "2018-06-24T00:00:00",
          "2018-06-25T00:00:00",
          "2018-06-26T00:00:00",
          "2018-06-27T00:00:00",
          "2018-06-28T00:00:00",
          "2018-06-29T00:00:00",
          "2018-06-30T00:00:00",
          "2018-07-01T00:00:00",
          "2018-07-02T00:00:00",
          "2018-07-03T00:00:00",
          "2018-07-04T00:00:00",
          "2018-07-05T00:00:00",
          "2018-07-06T00:00:00",
          "2018-07-07T00:00:00",
          "2018-07-08T00:00:00",
          "2018-07-09T00:00:00",
          "2018-07-10T00:00:00",
          "2018-07-11T00:00:00",
          "2018-07-12T00:00:00",
          "2018-07-13T00:00:00",
          "2018-07-14T00:00:00",
          "2018-07-15T00:00:00",
          "2018-07-16T00:00:00",
          "2018-07-17T00:00:00",
          "2018-07-18T00:00:00",
          "2018-07-19T00:00:00",
          "2018-07-20T00:00:00",
          "2018-07-21T00:00:00",
          "2018-07-22T00:00:00",
          "2018-07-23T00:00:00",
          "2018-07-24T00:00:00",
          "2018-07-25T00:00:00",
          "2018-07-26T00:00:00",
          "2018-07-27T00:00:00",
          "2018-07-28T00:00:00",
          "2018-07-29T00:00:00",
          "2018-07-30T00:00:00",
          "2018-07-31T00:00:00",
          "2018-08-01T00:00:00",
          "2018-08-02T00:00:00",
          "2018-08-03T00:00:00",
          "2018-08-04T00:00:00",
          "2018-08-05T00:00:00",
          "2018-08-06T00:00:00",
          "2018-08-07T00:00:00",
          "2018-08-08T00:00:00",
          "2018-08-09T00:00:00",
          "2018-08-10T00:00:00",
          "2018-08-11T00:00:00",
          "2018-08-12T00:00:00",
          "2018-08-13T00:00:00",
          "2018-08-14T00:00:00",
          "2018-08-15T00:00:00",
          "2018-08-16T00:00:00",
          "2018-08-17T00:00:00",
          "2018-08-18T00:00:00",
          "2018-08-19T00:00:00",
          "2018-08-20T00:00:00",
          "2018-08-21T00:00:00",
          "2018-08-22T00:00:00",
          "2018-08-23T00:00:00",
          "2018-08-24T00:00:00",
          "2018-08-25T00:00:00",
          "2018-08-26T00:00:00",
          "2018-08-27T00:00:00",
          "2018-08-28T00:00:00",
          "2018-08-29T00:00:00",
          "2018-08-30T00:00:00",
          "2018-08-31T00:00:00",
          "2018-09-01T00:00:00",
          "2018-09-02T00:00:00",
          "2018-09-03T00:00:00",
          "2018-09-04T00:00:00",
          "2018-09-05T00:00:00",
          "2018-09-06T00:00:00",
          "2018-09-07T00:00:00",
          "2018-09-08T00:00:00",
          "2018-09-09T00:00:00",
          "2018-09-10T00:00:00",
          "2018-09-11T00:00:00",
          "2018-09-12T00:00:00",
          "2018-09-13T00:00:00",
          "2018-09-14T00:00:00",
          "2018-09-15T00:00:00",
          "2018-09-16T00:00:00",
          "2018-09-17T00:00:00",
          "2018-09-18T00:00:00",
          "2018-09-19T00:00:00",
          "2018-09-20T00:00:00",
          "2018-09-21T00:00:00",
          "2018-09-22T00:00:00",
          "2018-09-23T00:00:00",
          "2018-09-24T00:00:00",
          "2018-09-25T00:00:00",
          "2018-09-26T00:00:00",
          "2018-09-27T00:00:00",
          "2018-09-28T00:00:00",
          "2018-09-29T00:00:00",
          "2018-09-30T00:00:00",
          "2018-10-01T00:00:00",
          "2018-10-02T00:00:00",
          "2018-10-03T00:00:00",
          "2018-10-04T00:00:00",
          "2018-10-05T00:00:00",
          "2018-10-06T00:00:00",
          "2018-10-07T00:00:00",
          "2018-10-08T00:00:00",
          "2018-10-09T00:00:00",
          "2018-10-10T00:00:00",
          "2018-10-11T00:00:00",
          "2018-10-12T00:00:00",
          "2018-10-13T00:00:00",
          "2018-10-14T00:00:00",
          "2018-10-15T00:00:00",
          "2018-10-16T00:00:00",
          "2018-10-17T00:00:00",
          "2018-10-18T00:00:00",
          "2018-10-19T00:00:00",
          "2018-10-20T00:00:00",
          "2018-10-21T00:00:00",
          "2018-10-22T00:00:00",
          "2018-10-23T00:00:00",
          "2018-10-24T00:00:00",
          "2018-10-25T00:00:00",
          "2018-10-26T00:00:00",
          "2018-10-27T00:00:00",
          "2018-10-28T00:00:00",
          "2018-10-29T00:00:00",
          "2018-10-30T00:00:00",
          "2018-10-31T00:00:00",
          "2018-11-01T00:00:00",
          "2018-11-02T00:00:00",
          "2018-11-03T00:00:00",
          "2018-11-04T00:00:00",
          "2018-11-05T00:00:00",
          "2018-11-06T00:00:00",
          "2018-11-07T00:00:00",
          "2018-11-08T00:00:00",
          "2018-11-09T00:00:00",
          "2018-11-10T00:00:00",
          "2018-11-11T00:00:00",
          "2018-11-12T00:00:00",
          "2018-11-13T00:00:00",
          "2018-11-14T00:00:00",
          "2018-11-15T00:00:00",
          "2018-11-16T00:00:00",
          "2018-11-17T00:00:00",
          "2018-11-18T00:00:00",
          "2018-11-19T00:00:00",
          "2018-11-20T00:00:00",
          "2018-11-21T00:00:00",
          "2018-11-22T00:00:00",
          "2018-11-23T00:00:00",
          "2018-11-24T00:00:00",
          "2018-11-25T00:00:00",
          "2018-11-26T00:00:00",
          "2018-11-27T00:00:00",
          "2018-11-28T00:00:00",
          "2018-11-29T00:00:00",
          "2018-11-30T00:00:00",
          "2018-12-01T00:00:00",
          "2018-12-02T00:00:00",
          "2018-12-03T00:00:00",
          "2018-12-04T00:00:00",
          "2018-12-05T00:00:00",
          "2018-12-06T00:00:00",
          "2018-12-07T00:00:00",
          "2018-12-08T00:00:00",
          "2018-12-09T00:00:00",
          "2018-12-10T00:00:00",
          "2018-12-11T00:00:00",
          "2018-12-12T00:00:00",
          "2018-12-13T00:00:00",
          "2018-12-14T00:00:00",
          "2018-12-15T00:00:00",
          "2018-12-16T00:00:00",
          "2018-12-17T00:00:00",
          "2018-12-18T00:00:00",
          "2018-12-19T00:00:00",
          "2018-12-20T00:00:00",
          "2018-12-21T00:00:00",
          "2018-12-22T00:00:00",
          "2018-12-23T00:00:00",
          "2018-12-24T00:00:00",
          "2018-12-25T00:00:00",
          "2018-12-26T00:00:00",
          "2018-12-27T00:00:00",
          "2018-12-28T00:00:00",
          "2018-12-29T00:00:00",
          "2018-12-30T00:00:00",
          "2018-12-31T00:00:00",
          "2019-01-01T00:00:00",
          "2019-01-02T00:00:00",
          "2019-01-03T00:00:00",
          "2019-01-04T00:00:00",
          "2019-01-05T00:00:00",
          "2019-01-06T00:00:00",
          "2019-01-07T00:00:00",
          "2019-01-08T00:00:00",
          "2019-01-09T00:00:00",
          "2019-01-10T00:00:00",
          "2019-01-11T00:00:00",
          "2019-01-12T00:00:00",
          "2019-01-13T00:00:00",
          "2019-01-14T00:00:00",
          "2019-01-15T00:00:00",
          "2019-01-16T00:00:00",
          "2019-01-17T00:00:00",
          "2019-01-18T00:00:00",
          "2019-01-19T00:00:00",
          "2019-01-20T00:00:00",
          "2019-01-21T00:00:00",
          "2019-01-22T00:00:00",
          "2019-01-23T00:00:00",
          "2019-01-24T00:00:00",
          "2019-01-25T00:00:00",
          "2019-01-26T00:00:00",
          "2019-01-27T00:00:00",
          "2019-01-28T00:00:00",
          "2019-01-29T00:00:00",
          "2019-01-30T00:00:00",
          "2019-01-31T00:00:00",
          "2019-02-01T00:00:00",
          "2019-02-02T00:00:00",
          "2019-02-03T00:00:00",
          "2019-02-04T00:00:00",
          "2019-02-05T00:00:00",
          "2019-02-06T00:00:00",
          "2019-02-07T00:00:00",
          "2019-02-08T00:00:00",
          "2019-02-09T00:00:00",
          "2019-02-10T00:00:00",
          "2019-02-11T00:00:00",
          "2019-02-12T00:00:00",
          "2019-02-13T00:00:00",
          "2019-02-14T00:00:00",
          "2019-02-15T00:00:00",
          "2019-02-16T00:00:00",
          "2019-02-17T00:00:00",
          "2019-02-18T00:00:00",
          "2019-02-19T00:00:00",
          "2019-02-20T00:00:00",
          "2019-02-21T00:00:00",
          "2019-02-22T00:00:00",
          "2019-02-23T00:00:00",
          "2019-02-24T00:00:00",
          "2019-02-25T00:00:00",
          "2019-02-26T00:00:00",
          "2019-02-27T00:00:00",
          "2019-02-28T00:00:00",
          "2019-03-01T00:00:00",
          "2019-03-02T00:00:00",
          "2019-03-03T00:00:00",
          "2019-03-04T00:00:00",
          "2019-03-05T00:00:00",
          "2019-03-06T00:00:00",
          "2019-03-07T00:00:00",
          "2019-03-08T00:00:00",
          "2019-03-09T00:00:00",
          "2019-03-10T00:00:00",
          "2019-03-11T00:00:00",
          "2019-03-12T00:00:00",
          "2019-03-13T00:00:00",
          "2019-03-14T00:00:00",
          "2019-03-15T00:00:00",
          "2019-03-16T00:00:00",
          "2019-03-17T00:00:00",
          "2019-03-18T00:00:00",
          "2019-03-19T00:00:00",
          "2019-03-20T00:00:00",
          "2019-03-21T00:00:00",
          "2019-03-22T00:00:00",
          "2019-03-23T00:00:00",
          "2019-03-24T00:00:00",
          "2019-03-25T00:00:00",
          "2019-03-26T00:00:00",
          "2019-03-27T00:00:00",
          "2019-03-28T00:00:00",
          "2019-03-29T00:00:00",
          "2019-03-30T00:00:00",
          "2019-03-31T00:00:00",
          "2019-04-01T00:00:00",
          "2019-04-02T00:00:00",
          "2019-04-03T00:00:00",
          "2019-04-04T00:00:00",
          "2019-04-05T00:00:00",
          "2019-04-06T00:00:00",
          "2019-04-07T00:00:00",
          "2019-04-08T00:00:00",
          "2019-04-09T00:00:00",
          "2019-04-10T00:00:00",
          "2019-04-11T00:00:00",
          "2019-04-12T00:00:00",
          "2019-04-13T00:00:00",
          "2019-04-14T00:00:00",
          "2019-04-15T00:00:00",
          "2019-04-16T00:00:00",
          "2019-04-17T00:00:00",
          "2019-04-18T00:00:00",
          "2019-04-19T00:00:00",
          "2019-04-20T00:00:00",
          "2019-04-21T00:00:00",
          "2019-04-22T00:00:00",
          "2019-04-23T00:00:00",
          "2019-04-24T00:00:00",
          "2019-04-25T00:00:00",
          "2019-04-26T00:00:00",
          "2019-04-27T00:00:00",
          "2019-04-28T00:00:00",
          "2019-04-29T00:00:00",
          "2019-04-30T00:00:00",
          "2019-05-01T00:00:00",
          "2019-05-02T00:00:00",
          "2019-05-03T00:00:00",
          "2019-05-04T00:00:00",
          "2019-05-05T00:00:00",
          "2019-05-06T00:00:00",
          "2019-05-07T00:00:00",
          "2019-05-08T00:00:00",
          "2019-05-09T00:00:00",
          "2019-05-10T00:00:00",
          "2019-05-11T00:00:00",
          "2019-05-12T00:00:00",
          "2019-05-13T00:00:00",
          "2019-05-14T00:00:00",
          "2019-05-15T00:00:00",
          "2019-05-16T00:00:00",
          "2019-05-17T00:00:00",
          "2019-05-18T00:00:00",
          "2019-05-19T00:00:00",
          "2019-05-20T00:00:00",
          "2019-05-21T00:00:00",
          "2019-05-22T00:00:00",
          "2019-05-23T00:00:00",
          "2019-05-24T00:00:00",
          "2019-05-25T00:00:00",
          "2019-05-26T00:00:00",
          "2019-05-27T00:00:00",
          "2019-05-28T00:00:00",
          "2019-05-29T00:00:00",
          "2019-05-30T00:00:00",
          "2019-05-31T00:00:00",
          "2019-06-01T00:00:00",
          "2019-06-02T00:00:00",
          "2019-06-03T00:00:00",
          "2019-06-04T00:00:00",
          "2019-06-05T00:00:00",
          "2019-06-06T00:00:00",
          "2019-06-07T00:00:00",
          "2019-06-08T00:00:00",
          "2019-06-09T00:00:00",
          "2019-06-10T00:00:00",
          "2019-06-11T00:00:00",
          "2019-06-12T00:00:00",
          "2019-06-13T00:00:00",
          "2019-06-14T00:00:00",
          "2019-06-15T00:00:00",
          "2019-06-16T00:00:00",
          "2019-06-17T00:00:00",
          "2019-06-18T00:00:00",
          "2019-06-19T00:00:00",
          "2019-06-20T00:00:00",
          "2019-06-21T00:00:00",
          "2019-06-22T00:00:00",
          "2019-06-23T00:00:00",
          "2019-06-24T00:00:00",
          "2019-06-25T00:00:00",
          "2019-06-26T00:00:00",
          "2019-06-27T00:00:00",
          "2019-06-28T00:00:00",
          "2019-06-29T00:00:00",
          "2019-06-30T00:00:00",
          "2019-07-01T00:00:00",
          "2019-07-02T00:00:00",
          "2019-07-03T00:00:00",
          "2019-07-04T00:00:00",
          "2019-07-05T00:00:00",
          "2019-07-06T00:00:00",
          "2019-07-07T00:00:00",
          "2019-07-08T00:00:00",
          "2019-07-09T00:00:00",
          "2019-07-10T00:00:00",
          "2019-07-11T00:00:00",
          "2019-07-12T00:00:00",
          "2019-07-13T00:00:00",
          "2019-07-14T00:00:00",
          "2019-07-15T00:00:00",
          "2019-07-16T00:00:00",
          "2019-07-17T00:00:00",
          "2019-07-18T00:00:00",
          "2019-07-19T00:00:00",
          "2019-07-20T00:00:00",
          "2019-07-21T00:00:00",
          "2019-07-22T00:00:00",
          "2019-07-23T00:00:00",
          "2019-07-24T00:00:00",
          "2019-07-25T00:00:00",
          "2019-07-26T00:00:00",
          "2019-07-27T00:00:00",
          "2019-07-28T00:00:00",
          "2019-07-29T00:00:00",
          "2019-07-30T00:00:00",
          "2019-07-31T00:00:00",
          "2019-08-01T00:00:00",
          "2019-08-02T00:00:00",
          "2019-08-03T00:00:00",
          "2019-08-04T00:00:00",
          "2019-08-05T00:00:00",
          "2019-08-06T00:00:00",
          "2019-08-07T00:00:00",
          "2019-08-08T00:00:00",
          "2019-08-09T00:00:00",
          "2019-08-10T00:00:00",
          "2019-08-11T00:00:00",
          "2019-08-12T00:00:00"
         ],
         "y": [
          2906.474215277779,
          2803.581750000004,
          2715.928694444451,
          2653.0482708333398,
          2356.7296388888876,
          2450.1450486111107,
          2555.917826388888,
          2566.5587638888933,
          2558.1391805555563,
          2661.5631666666654,
          2712.268812500005,
          2680.862333333332,
          2718.264888888894,
          2657.009215277778,
          2559.341569444444,
          2464.9203888888896,
          2407.794423611114,
          2533.6016041666626,
          2558.770583333335,
          2524.0453819444497,
          2462.3251597222225,
          2444.7650347222207,
          2524.042131944447,
          2596.6061319444475,
          2569.9141666666737,
          2593.83718055556,
          2543.1207638888936,
          2516.3489097222214,
          2539.2847569444484,
          2455.0341527777796,
          2339.67059722222,
          2343.987402777782,
          2371.100986111114,
          2279.3203333333418,
          2073.9353055555507,
          1939.7691666666651,
          2056.5191180555607,
          2280.832284722225,
          2311.804187499999,
          2492.0011805555505,
          2718.66329861111,
          2779.7550000000033,
          2767.121493055555,
          2753.6120972222275,
          2624.099263888895,
          2499.1164097222277,
          2569.3229652777813,
          2737.2861944444467,
          2718.175916666668,
          2675.802902777784,
          2760.5994583333304,
          2769.700041666668,
          2713.936569444449,
          2743.284652777787,
          2827.005715277781,
          3153.660069444449,
          3236.0079166666746,
          3308.0867569444586,
          3416.0661041666613,
          3341.188736111121,
          3391.8064374999985,
          3503.103180555562,
          3757.487743055561,
          4023.2860000000037,
          4167.993833333334,
          4167.686743055565,
          4166.003368055552,
          4345.919243055558,
          4228.188402777789,
          4055.157333333346,
          4060.0714097222326,
          4022.7011666666704,
          3922.028104166666,
          4141.476888888893,
          4180.539020833341,
          4356.688888888902,
          4311.373458333351,
          4340.41629861112,
          4304.705208333351,
          4464.279500000008,
          4575.960375000009,
          4669.390076388895,
          4801.706236111117,
          4684.137694444455,
          4576.001104166673,
          4361.9361666666555,
          4252.457069444449,
          4528.704993055561,
          4584.30025694446,
          4482.604402777778,
          4292.220722222222,
          4180.850256944438,
          4210.225687500004,
          4253.140652777776,
          3934.011493055559,
          3624.5376458333308,
          3409.156631944439,
          3696.292625000008,
          3634.360208333341,
          3941.1198541666736,
          3962.9578749999987,
          3937.1915555555534,
          3791.3262638888873,
          3626.56877777778,
          3713.8222499999893,
          3695.2018541666625,
          3819.9963263888803,
          3914.8063263888916,
          4035.8797291666588,
          4188.612034722216,
          4144.9773819444545,
          4270.209180555565,
          4290.9005902777835,
          4395.493111111113,
          4311.992895833344,
          4249.643597222228,
          4255.330979166674,
          4359.174444444453,
          4351.288687500015,
          4495.808520833344,
          4643.429222222222,
          4811.700548611115,
          4787.352048611121,
          5114.763875000004,
          5618.339881944439,
          5666.474111111125,
          5610.077659722221,
          5673.469020833336,
          5625.583124999998,
          5402.310152777783,
          5654.104562500007,
          5788.776069444453,
          6073.861624999996,
          5910.377895833341,
          5869.137208333331,
          5659.772756944453,
          5547.822833333337,
          5826.5624305555675,
          5822.675326388888,
          5749.922930555566,
          5883.7243263888895,
          6122.401979166681,
          6240.408875000002,
          6502.706909722225,
          6952.339833333342,
          7240.374881944453,
          7258.124208333341,
          7458.392979166676,
          7228.157159722217,
          7102.901493055557,
          7386.520145833342,
          7244.327472222225,
          6961.358118055562,
          6556.024395833337,
          6114.231854166673,
          6346.988562500001,
          6590.393958333334,
          7046.016361111107,
          7459.5306875,
          7827.064805555566,
          7697.005916666671,
          7825.9264166666635,
          8090.021590277788,
          8157.685722222237,
          8194.893506944461,
          8175.670479166667,
          8168.087229166671,
          8428.860465277778,
          8972.45295138889,
          9556.814923611137,
          9833.026659722245,
          10403.94379166668,
          9888.908548611136,
          10194.8572638889,
          10938.31135416666,
          11291.630187499997,
          11346.529326388907,
          11656.498604166689,
          12580.533465277795,
          14778.207416666659,
          15432.868875000007,
          14806.800236111114,
          14134.664791666688,
          16202.50012500004,
          16730.929659722206,
          16540.327312500034,
          16343.036833333323,
          17365.62792361109,
          18176.730138888863,
          19190.340631944408,
          18720.01349999997,
          18320.41626388884,
          16834.521375000026,
          16221.424986111117,
          13761.145826388869,
          14768.55603472223,
          13656.086034722228,
          13966.06769444444,
          15243.615263888882,
          15581.444701388853,
          14248.632048611133,
          14534.974930555547,
          13212.859868055571,
          13339.22119444444,
          13425.415124999998,
          13879.358895833342,
          14963.699340277786,
          14818.780319444424,
          15792.452506944403,
          16666.922951388857,
          16517.014097222225,
          15300.74915277776,
          14868.201201388889,
          14194.688409722214,
          13697.100145833341,
          13661.494569444449,
          14224.945451388912,
          13679.928909722257,
          13821.277097222206,
          12164.619152777768,
          10680.231659722216,
          11495.746736111108,
          11513.536416666664,
          12471.649145833333,
          11895.589819444449,
          11131.135819444438,
          10724.710277777793,
          11007.914437500012,
          11300.592097222247,
          11011.94201388889,
          11238.782944444469,
          11673.103618055535,
          11283.896194444453,
          10628.612597222236,
          9987.00209722223,
          9497.750625000028,
          8558.503076388899,
          8912.281611111122,
          8722.604465277787,
          7611.722958333325,
          6828.462006944439,
          7914.380222222217,
          8216.322486111098,
          8261.487381944451,
          8656.487229166652,
          8188.491090277783,
          8624.076937500005,
          8609.80722222223,
          9025.642687500025,
          9803.039104166684,
          10025.99250694445,
          10677.811173611124,
          10737.341631944453,
          10867.436395833349,
          11498.189631944457,
          10791.702006944444,
          10272.655520833341,
          10013.161215277789,
          9931.702569444478,
          9595.83642361113,
          9910.592527777806,
          10552.671340277788,
          10621.063326388921,
          10650.838465277793,
          10980.791097222265,
          11344.269083333334,
          11242.097152777793,
          11520.930465277766,
          11021.738861111102,
          10399.997006944468,
          9705.391458333352,
          8907.997486111099,
          9236.650131944436,
          9058.136361111123,
          9436.36200694445,
          9155.890388888914,
          8769.349694444441,
          8112.515770833351,
          8315.006604166676,
          8079.593062500001,
          7679.651055555559,
          8355.255979166664,
          8622.49709722222,
          8983.081652777786,
          8793.326687500008,
          8529.94406944445,
          8857.918083333345,
          8535.650166666666,
          8208.19347916669,
          7965.760694444459,
          7916.943312500011,
          7518.686965277791,
          6888.176854166671,
          7005.669125000011,
          6797.412069444436,
          6978.018000000003,
          7325.304333333331,
          7077.711673611102,
          6758.105076388888,
          6649.452291666674,
          6891.6737638889,
          6988.428743055562,
          6891.471624999996,
          6779.244319444467,
          6879.948687500013,
          7336.708215277788,
          7992.690451388897,
          8010.872291666685,
          8215.487236111117,
          8080.020305555557,
          8036.633618055566,
          8057.3129930555615,
          8213.267708333358,
          8445.635604166675,
          8800.278312499991,
          8888.387819444462,
          8895.62331249999,
          9314.519125000023,
          9221.040361111107,
          8883.210298611131,
          9217.02084722222,
          9240.572972222244,
          9356.157784722249,
          9290.616041666668,
          8988.595694444466,
          9112.689791666677,
          9379.656666666657,
          9656.508229166666,
          9829.181138888915,
          9615.699180555568,
          9344.100527777799,
          9260.790923611114,
          9193.325472222248,
          9265.502951388902,
          8701.556430555573,
          8423.31487500004,
          8550.491187500027,
          8581.468430555582,
          8642.09697222224,
          8282.705625000013,
          8277.959930555586,
          8106.672548611127,
          8254.920923611124,
          8361.972944444464,
          8455.092916666694,
          8233.2557916667,
          7784.575402777791,
          7538.571881944487,
          7486.668048611141,
          7490.143826388919,
          7317.306069444448,
          7255.434381944465,
          7293.893402777787,
          7432.491090277765,
          7500.117368055571,
          7481.193180555582,
          7597.247354166683,
          7690.673791666691,
          7575.316763888909,
          7491.722708333352,
          7606.389534722249,
          7692.524618055574,
          7629.560597222222,
          7630.158000000005,
          7133.649305555566,
          6760.716284722224,
          6754.097347222223,
          6443.017722222231,
          6501.825152777797,
          6550.993312499992,
          6462.630548611125,
          6509.097465277774,
          6522.887597222218,
          6718.137923611121,
          6680.922951388888,
          6736.712444444453,
          6359.654034722214,
          6135.97526388889,
          6024.7279027777895,
          6203.3115555555705,
          6201.928152777776,
          6096.063604166686,
          6082.033944444458,
          5903.817749999997,
          6363.47595833333,
          6350.025388888889,
          6453.064812500014,
          6596.762625000031,
          6571.150868055561,
          6581.060631944442,
          6541.890631944446,
          6573.3242361111,
          6739.136618055562,
          6705.734666666673,
          6480.4565208333415,
          6354.405493055556,
          6219.166937500008,
          6236.785770833367,
          6236.172256944462,
          6318.537784722239,
          6521.181465277782,
          6877.720881944445,
          7402.712555555563,
          7390.11466666668,
          7420.562833333363,
          7347.857055555567,
          7448.0036597222515,
          7679.556715277796,
          8071.491902777785,
          8253.59904166666,
          8196.509159722247,
          8021.516604166678,
          8179.995840277793,
          8202.688618055583,
          8133.9497777778,
          7915.115548611122,
          7569.98511111112,
          7590.178583333349,
          7394.100701388909,
          7248.6566458333655,
          6995.644215277812,
          6987.8438472222315,
          6986.739444444467,
          6444.725208333348,
          6394.324194444451,
          6394.919993055561,
          6188.136972222216,
          6304.35070833334,
          6345.708180555566,
          6056.106715277783,
          6369.123708333329,
          6344.468576388896,
          6466.790055555574,
          6446.211965277772,
          6397.762687500009,
          6444.960090277811,
          6399.587041666682,
          6579.496944444452,
          6433.5398680555545,
          6551.867993055588,
          6713.861659722258,
          6669.950659722236,
          6712.779381944449,
          6986.976090277787,
          7049.229027777782,
          6929.053499999996,
          6979.79039583335,
          7105.35293750002,
          7239.421576388906,
          7259.906249999994,
          7322.047874999996,
          7125.833812499998,
          6421.734145833346,
          6443.361534722262,
          6360.320930555571,
          6289.750152777783,
          6287.392875000001,
          6290.2325902777875,
          6268.183465277798,
          6440.572034722228,
          6500.248395833359,
          6519.018743055587,
          6484.170666666674,
          6398.048562500014,
          6295.923305555575,
          6336.486597222232,
          6411.717736111115,
          6658.61240972222,
          6705.587187499994,
          6706.800166666679,
          6638.184479166654,
          6413.125020833338,
          6461.356423611127,
          6520.746958333349,
          6665.077402777776,
          6539.937986111108,
          6577.550055555549,
          6574.940298611117,
          6541.682701388867,
          6447.232340277765,
          6547.230777777762,
          6544.547159722216,
          6556.2918263888805,
          6533.511180555536,
          6586.734770833344,
          6587.5929722221945,
          6517.042173611102,
          6213.507291666667,
          6201.429923611101,
          6196.307437500009,
          6225.605215277768,
          6368.968388888887,
          6437.686604166653,
          6438.604631944451,
          6427.5492222222265,
          6385.541597222227,
          6396.777493055575,
          6433.669687499999,
          6405.4003749999765,
          6395.747611111114,
          6425.273986111101,
          6400.467819444443,
          6400.76842361109,
          6407.05902083333,
          6402.554041666676,
          6329.9985763889,
          6264.565631944463,
          6277.430083333336,
          6310.56606249998,
          6351.960548611104,
          6333.967756944455,
          6364.34178472219,
          6404.680194444427,
          6412.868326388882,
          6506.8773680555605,
          6449.525041666662,
          6365.883486111105,
          6354.911069444451,
          6339.537944444456,
          6350.976541666664,
          6290.059034722227,
          6019.894937499998,
          5494.714520833338,
          5530.675125000012,
          5485.194152777787,
          5534.090277777771,
          5203.1593819444415,
          4531.132569444447,
          4447.252770833336,
          4468.593826388887,
          4248.508673611109,
          4203.4345069444435,
          3756.95189583334,
          3850.8809305555556,
          3702.9673125000036,
          4057.7619513888876,
          4224.60156944445,
          4075.2327916666695,
          4078.2717500000003,
          4120.349090277774,
          3924.919868055556,
          3904.986423611119,
          3802.7635277777786,
          3694.9691111111147,
          3360.1898402777783,
          3384.9175000000073,
          3468.0102222222245,
          3468.8128611111065,
          3365.570430555562,
          3397.2696736111166,
          3360.91896527778,
          3233.8725902777715,
          3180.2247847222225,
          3217.120479166661,
          3333.074319444453,
          3508.6461597222205,
          3748.380458333341,
          3923.0398263888833,
          3972.550958333326,
          3851.8717222222185,
          3978.132437499989,
          4125.493027777772,
          3773.2280555555553,
          3779.5463055555515,
          3717.7947291666655,
          3700.835333333332,
          3873.5531736111043,
          3788.032055555552,
          3757.3624166666555,
          3700.3265972222234,
          3823.112729166656,
          3830.1849722222178,
          3785.05104861111,
          3834.452138888893,
          3874.5452152777775,
          4022.664298611106,
          4006.257034722222,
          4010.7763958333285,
          3795.507187500005,
          3636.7025416666634,
          3626.5706319444425,
          3580.619624999998,
          3580.005486111115,
          3641.574458333333,
          3603.472229166661,
          3602.951118055559,
          3615.6680555555517,
          3671.6374999999907,
          3607.2373958333274,
          3535.8616458333254,
          3551.567465277765,
          3569.4726805555633,
          3553.9397777777735,
          3557.15230555555,
          3571.367611111122,
          3545.671416666666,
          3438.032173611103,
          3398.639076388891,
          3423.095763888887,
          3424.856152777782,
          3416.3658680555586,
          3431.8366666666716,
          3425.4384861111216,
          3414.204527777778,
          3419.36813888888,
          3371.575750000001,
          3366.4235208333366,
          3451.4933402777733,
          3614.884708333324,
          3608.1552916666656,
          3595.2006875,
          3577.8480416666685,
          3582.285694444439,
          3569.1406111111155,
          3570.4032013888955,
          3587.6629097222267,
          3585.4940555555586,
          3756.019819444445,
          3900.652402777775,
          3910.843916666662,
          3906.7272222222296,
          3925.343680555563,
          3980.2158541666718,
          3989.5767638888838,
          3792.778916666669,
          3799.9307777777794,
          3795.3566597222207,
          3810.278263888891,
          3813.27386805555,
          3805.279194444444,
          3801.456263888886,
          3725.0505902777822,
          3765.770388888884,
          3838.784395833329,
          3861.3823194444494,
          3871.895409722215,
          3889.980624999997,
          3893.019138888882,
          3864.6125624999936,
          3847.294444444448,
          3853.5086458333462,
          3850.2652013888824,
          3877.4722777777793,
          3978.552020833331,
          3963.1048819444545,
          3969.4853958333247,
          3977.0401319444522,
          3995.406333333329,
          4005.9583888888824,
          3981.5695555555526,
          3980.761215277784,
          3968.612951388893,
          3949.801881944454,
          3908.431326388902,
          3993.995347222206,
          4009.194069444443,
          4057.541465277782,
          4083.772388888892,
          4088.348868055553,
          4125.548659722221,
          4647.141729166669,
          5038.50502083333,
          4971.659173611101,
          4981.012118055559,
          5042.754319444438,
          5128.465159722207,
          5241.546451388895,
          5221.413534722217,
          5270.475166666668,
          5129.761715277781,
          5047.637659722214,
          5084.51536805556,
          5078.802409722226,
          5122.114104166673,
          5098.620062500001,
          5218.718937499994,
          5263.983847222229,
          5259.1587361111115,
          5313.275881944437,
          5288.680506944438,
          5317.52523611111,
          5531.954173611113,
          5486.831687500015,
          5423.299951388892,
          5149.682201388893,
          5165.260756944446,
          5169.915263888891,
          5154.869499999995,
          5199.331576388891,
          5303.564006944443,
          5360.945784722242,
          5617.309986111107,
          5694.244680555553,
          5721.58211805556,
          5656.3270069444425,
          5863.695777777779,
          5843.870868055555,
          6047.245256944443,
          6290.585555555554,
          6806.6770625000045,
          7155.474208333327,
          7408.98296527779,
          7993.158020833342,
          8054.80577777778,
          7993.707881944452,
          7263.197819444444,
          7326.348763888892,
          7934.045673611123,
          7906.761131944451,
          7952.989784722219,
          7890.863298611112,
          7703.517611111119,
          7983.823395833333,
          8045.214743055539,
          8125.428284722212,
          8782.527847222222,
          8726.034833333331,
          8646.49276388888,
          8631.68847916668,
          8350.288833333312,
          8542.015763888876,
          8668.05993750001,
          8531.08584722222,
          7851.133666666666,
          7771.943777777767,
          7751.1627916666675,
          7938.752041666664,
          7941.170618055555,
          7799.946125000009,
          7820.271444444434,
          7897.226569444459,
          8036.859090277781,
          8169.982472222209,
          8353.574541666672,
          8727.897222222222,
          9096.019243055567,
          9236.642777777772,
          9153.257826388888,
          9148.226562500011,
          9353.45185416665,
          9802.451152777776,
          10725.602312500023,
          10747.117999999991,
          10844.867333333319,
          11314.388562500011,
          12643.553618055552,
          11803.958812500003,
          11678.356861111108,
          11850.858194444452,
          11540.011777777765,
          10687.819687499998,
          10305.094118055564,
          11345.892000000002,
          11760.026750000003,
          11141.252972222204,
          11416.435701388893,
          11311.678444444451,
          11794.189805555567,
          12514.21774305554,
          12649.908881944439,
          11584.54125000001,
          11585.792416666667,
          11430.236854166653,
          10860.6743263889,
          10419.180666666702,
          10356.278006944454,
          9577.303708333347,
          10053.263270833328,
          10473.079361111104,
          10680.938881944432,
          10578.370826388895,
          10451.459284722223,
          10071.961000000008,
          9703.44240277778,
          10023.55200000002,
          9775.523166666679,
          9731.698895833339,
          9486.49152083333,
          9541.105833333348,
          9541.569750000022,
          9857.407680555563,
          10085.621541666671,
          10475.718763888879,
          10785.766958333332,
          10820.892229166655,
          11676.32672916666,
          11758.30978472223,
          11712.383777777764,
          11802.534583333349,
          11820.873673611108,
          11582.249006944416,
          11379.078881944437,
          11520
         ]
        },
        {
         "marker": {
          "color": "rgba(115, 120, 235, 0.5)"
         },
         "mode": "lines",
         "name": "Predicted",
         "type": "scatter",
         "x": [
          "2017-06-11T00:00:00",
          "2017-06-12T00:00:00",
          "2017-06-13T00:00:00",
          "2017-06-14T00:00:00",
          "2017-06-15T00:00:00",
          "2017-06-16T00:00:00",
          "2017-06-17T00:00:00",
          "2017-06-18T00:00:00",
          "2017-06-19T00:00:00",
          "2017-06-20T00:00:00",
          "2017-06-21T00:00:00",
          "2017-06-22T00:00:00",
          "2017-06-23T00:00:00",
          "2017-06-24T00:00:00",
          "2017-06-25T00:00:00",
          "2017-06-26T00:00:00",
          "2017-06-27T00:00:00",
          "2017-06-28T00:00:00",
          "2017-06-29T00:00:00",
          "2017-06-30T00:00:00",
          "2017-07-01T00:00:00",
          "2017-07-02T00:00:00",
          "2017-07-03T00:00:00",
          "2017-07-04T00:00:00",
          "2017-07-05T00:00:00",
          "2017-07-06T00:00:00",
          "2017-07-07T00:00:00",
          "2017-07-08T00:00:00",
          "2017-07-09T00:00:00",
          "2017-07-10T00:00:00",
          "2017-07-11T00:00:00",
          "2017-07-12T00:00:00",
          "2017-07-13T00:00:00",
          "2017-07-14T00:00:00",
          "2017-07-15T00:00:00",
          "2017-07-16T00:00:00",
          "2017-07-17T00:00:00",
          "2017-07-18T00:00:00",
          "2017-07-19T00:00:00",
          "2017-07-20T00:00:00",
          "2017-07-21T00:00:00",
          "2017-07-22T00:00:00",
          "2017-07-23T00:00:00",
          "2017-07-24T00:00:00",
          "2017-07-25T00:00:00",
          "2017-07-26T00:00:00",
          "2017-07-27T00:00:00",
          "2017-07-28T00:00:00",
          "2017-07-29T00:00:00",
          "2017-07-30T00:00:00",
          "2017-07-31T00:00:00",
          "2017-08-01T00:00:00",
          "2017-08-02T00:00:00",
          "2017-08-03T00:00:00",
          "2017-08-04T00:00:00",
          "2017-08-05T00:00:00",
          "2017-08-06T00:00:00",
          "2017-08-07T00:00:00",
          "2017-08-08T00:00:00",
          "2017-08-09T00:00:00",
          "2017-08-10T00:00:00",
          "2017-08-11T00:00:00",
          "2017-08-12T00:00:00",
          "2017-08-13T00:00:00",
          "2017-08-14T00:00:00",
          "2017-08-15T00:00:00",
          "2017-08-16T00:00:00",
          "2017-08-17T00:00:00",
          "2017-08-18T00:00:00",
          "2017-08-19T00:00:00",
          "2017-08-20T00:00:00",
          "2017-08-21T00:00:00",
          "2017-08-22T00:00:00",
          "2017-08-23T00:00:00",
          "2017-08-24T00:00:00",
          "2017-08-25T00:00:00",
          "2017-08-26T00:00:00",
          "2017-08-27T00:00:00",
          "2017-08-28T00:00:00",
          "2017-08-29T00:00:00",
          "2017-08-30T00:00:00",
          "2017-08-31T00:00:00",
          "2017-09-01T00:00:00",
          "2017-09-02T00:00:00",
          "2017-09-03T00:00:00",
          "2017-09-04T00:00:00",
          "2017-09-05T00:00:00",
          "2017-09-06T00:00:00",
          "2017-09-07T00:00:00",
          "2017-09-08T00:00:00",
          "2017-09-09T00:00:00",
          "2017-09-10T00:00:00",
          "2017-09-11T00:00:00",
          "2017-09-12T00:00:00",
          "2017-09-13T00:00:00",
          "2017-09-14T00:00:00",
          "2017-09-15T00:00:00",
          "2017-09-16T00:00:00",
          "2017-09-17T00:00:00",
          "2017-09-18T00:00:00",
          "2017-09-19T00:00:00",
          "2017-09-20T00:00:00",
          "2017-09-21T00:00:00",
          "2017-09-22T00:00:00",
          "2017-09-23T00:00:00",
          "2017-09-24T00:00:00",
          "2017-09-25T00:00:00",
          "2017-09-26T00:00:00",
          "2017-09-27T00:00:00",
          "2017-09-28T00:00:00",
          "2017-09-29T00:00:00",
          "2017-09-30T00:00:00",
          "2017-10-01T00:00:00",
          "2017-10-02T00:00:00",
          "2017-10-03T00:00:00",
          "2017-10-04T00:00:00",
          "2017-10-05T00:00:00",
          "2017-10-06T00:00:00",
          "2017-10-07T00:00:00",
          "2017-10-08T00:00:00",
          "2017-10-09T00:00:00",
          "2017-10-10T00:00:00",
          "2017-10-11T00:00:00",
          "2017-10-12T00:00:00",
          "2017-10-13T00:00:00",
          "2017-10-14T00:00:00",
          "2017-10-15T00:00:00",
          "2017-10-16T00:00:00",
          "2017-10-17T00:00:00",
          "2017-10-18T00:00:00",
          "2017-10-19T00:00:00",
          "2017-10-20T00:00:00",
          "2017-10-21T00:00:00",
          "2017-10-22T00:00:00",
          "2017-10-23T00:00:00",
          "2017-10-24T00:00:00",
          "2017-10-25T00:00:00",
          "2017-10-26T00:00:00",
          "2017-10-27T00:00:00",
          "2017-10-28T00:00:00",
          "2017-10-29T00:00:00",
          "2017-10-30T00:00:00",
          "2017-10-31T00:00:00",
          "2017-11-01T00:00:00",
          "2017-11-02T00:00:00",
          "2017-11-03T00:00:00",
          "2017-11-04T00:00:00",
          "2017-11-05T00:00:00",
          "2017-11-06T00:00:00",
          "2017-11-07T00:00:00",
          "2017-11-08T00:00:00",
          "2017-11-09T00:00:00",
          "2017-11-10T00:00:00",
          "2017-11-11T00:00:00",
          "2017-11-12T00:00:00",
          "2017-11-13T00:00:00",
          "2017-11-14T00:00:00",
          "2017-11-15T00:00:00",
          "2017-11-16T00:00:00",
          "2017-11-17T00:00:00",
          "2017-11-18T00:00:00",
          "2017-11-19T00:00:00",
          "2017-11-20T00:00:00",
          "2017-11-21T00:00:00",
          "2017-11-22T00:00:00",
          "2017-11-23T00:00:00",
          "2017-11-24T00:00:00",
          "2017-11-25T00:00:00",
          "2017-11-26T00:00:00",
          "2017-11-27T00:00:00",
          "2017-11-28T00:00:00",
          "2017-11-29T00:00:00",
          "2017-11-30T00:00:00",
          "2017-12-01T00:00:00",
          "2017-12-02T00:00:00",
          "2017-12-03T00:00:00",
          "2017-12-04T00:00:00",
          "2017-12-05T00:00:00",
          "2017-12-06T00:00:00",
          "2017-12-07T00:00:00",
          "2017-12-08T00:00:00",
          "2017-12-09T00:00:00",
          "2017-12-10T00:00:00",
          "2017-12-11T00:00:00",
          "2017-12-12T00:00:00",
          "2017-12-13T00:00:00",
          "2017-12-14T00:00:00",
          "2017-12-15T00:00:00",
          "2017-12-16T00:00:00",
          "2017-12-17T00:00:00",
          "2017-12-18T00:00:00",
          "2017-12-19T00:00:00",
          "2017-12-20T00:00:00",
          "2017-12-21T00:00:00",
          "2017-12-22T00:00:00",
          "2017-12-23T00:00:00",
          "2017-12-24T00:00:00",
          "2017-12-25T00:00:00",
          "2017-12-26T00:00:00",
          "2017-12-27T00:00:00",
          "2017-12-28T00:00:00",
          "2017-12-29T00:00:00",
          "2017-12-30T00:00:00",
          "2017-12-31T00:00:00",
          "2018-01-01T00:00:00",
          "2018-01-02T00:00:00",
          "2018-01-03T00:00:00",
          "2018-01-04T00:00:00",
          "2018-01-05T00:00:00",
          "2018-01-06T00:00:00",
          "2018-01-07T00:00:00",
          "2018-01-08T00:00:00",
          "2018-01-09T00:00:00",
          "2018-01-10T00:00:00",
          "2018-01-11T00:00:00",
          "2018-01-12T00:00:00",
          "2018-01-13T00:00:00",
          "2018-01-14T00:00:00",
          "2018-01-15T00:00:00",
          "2018-01-16T00:00:00",
          "2018-01-17T00:00:00",
          "2018-01-18T00:00:00",
          "2018-01-19T00:00:00",
          "2018-01-20T00:00:00",
          "2018-01-21T00:00:00",
          "2018-01-22T00:00:00",
          "2018-01-23T00:00:00",
          "2018-01-24T00:00:00",
          "2018-01-25T00:00:00",
          "2018-01-26T00:00:00",
          "2018-01-27T00:00:00",
          "2018-01-28T00:00:00",
          "2018-01-29T00:00:00",
          "2018-01-30T00:00:00",
          "2018-01-31T00:00:00",
          "2018-02-01T00:00:00",
          "2018-02-02T00:00:00",
          "2018-02-03T00:00:00",
          "2018-02-04T00:00:00",
          "2018-02-05T00:00:00",
          "2018-02-06T00:00:00",
          "2018-02-07T00:00:00",
          "2018-02-08T00:00:00",
          "2018-02-09T00:00:00",
          "2018-02-10T00:00:00",
          "2018-02-11T00:00:00",
          "2018-02-12T00:00:00",
          "2018-02-13T00:00:00",
          "2018-02-14T00:00:00",
          "2018-02-15T00:00:00",
          "2018-02-16T00:00:00",
          "2018-02-17T00:00:00",
          "2018-02-18T00:00:00",
          "2018-02-19T00:00:00",
          "2018-02-20T00:00:00",
          "2018-02-21T00:00:00",
          "2018-02-22T00:00:00",
          "2018-02-23T00:00:00",
          "2018-02-24T00:00:00",
          "2018-02-25T00:00:00",
          "2018-02-26T00:00:00",
          "2018-02-27T00:00:00",
          "2018-02-28T00:00:00",
          "2018-03-01T00:00:00",
          "2018-03-02T00:00:00",
          "2018-03-03T00:00:00",
          "2018-03-04T00:00:00",
          "2018-03-05T00:00:00",
          "2018-03-06T00:00:00",
          "2018-03-07T00:00:00",
          "2018-03-08T00:00:00",
          "2018-03-09T00:00:00",
          "2018-03-10T00:00:00",
          "2018-03-11T00:00:00",
          "2018-03-12T00:00:00",
          "2018-03-13T00:00:00",
          "2018-03-14T00:00:00",
          "2018-03-15T00:00:00",
          "2018-03-16T00:00:00",
          "2018-03-17T00:00:00",
          "2018-03-18T00:00:00",
          "2018-03-19T00:00:00",
          "2018-03-20T00:00:00",
          "2018-03-21T00:00:00",
          "2018-03-22T00:00:00",
          "2018-03-23T00:00:00",
          "2018-03-24T00:00:00",
          "2018-03-25T00:00:00",
          "2018-03-26T00:00:00",
          "2018-03-27T00:00:00",
          "2018-03-28T00:00:00",
          "2018-03-29T00:00:00",
          "2018-03-30T00:00:00",
          "2018-03-31T00:00:00",
          "2018-04-01T00:00:00",
          "2018-04-02T00:00:00",
          "2018-04-03T00:00:00",
          "2018-04-04T00:00:00",
          "2018-04-05T00:00:00",
          "2018-04-06T00:00:00",
          "2018-04-07T00:00:00",
          "2018-04-08T00:00:00",
          "2018-04-09T00:00:00",
          "2018-04-10T00:00:00",
          "2018-04-11T00:00:00",
          "2018-04-12T00:00:00",
          "2018-04-13T00:00:00",
          "2018-04-14T00:00:00",
          "2018-04-15T00:00:00",
          "2018-04-16T00:00:00",
          "2018-04-17T00:00:00",
          "2018-04-18T00:00:00",
          "2018-04-19T00:00:00",
          "2018-04-20T00:00:00",
          "2018-04-21T00:00:00",
          "2018-04-22T00:00:00",
          "2018-04-23T00:00:00",
          "2018-04-24T00:00:00",
          "2018-04-25T00:00:00",
          "2018-04-26T00:00:00",
          "2018-04-27T00:00:00",
          "2018-04-28T00:00:00",
          "2018-04-29T00:00:00",
          "2018-04-30T00:00:00",
          "2018-05-01T00:00:00",
          "2018-05-02T00:00:00",
          "2018-05-03T00:00:00",
          "2018-05-04T00:00:00",
          "2018-05-05T00:00:00",
          "2018-05-06T00:00:00",
          "2018-05-07T00:00:00",
          "2018-05-08T00:00:00",
          "2018-05-09T00:00:00",
          "2018-05-10T00:00:00",
          "2018-05-11T00:00:00",
          "2018-05-12T00:00:00",
          "2018-05-13T00:00:00",
          "2018-05-14T00:00:00",
          "2018-05-15T00:00:00",
          "2018-05-16T00:00:00",
          "2018-05-17T00:00:00",
          "2018-05-18T00:00:00",
          "2018-05-19T00:00:00",
          "2018-05-20T00:00:00",
          "2018-05-21T00:00:00",
          "2018-05-22T00:00:00",
          "2018-05-23T00:00:00",
          "2018-05-24T00:00:00",
          "2018-05-25T00:00:00",
          "2018-05-26T00:00:00",
          "2018-05-27T00:00:00",
          "2018-05-28T00:00:00",
          "2018-05-29T00:00:00",
          "2018-05-30T00:00:00",
          "2018-05-31T00:00:00",
          "2018-06-01T00:00:00",
          "2018-06-02T00:00:00",
          "2018-06-03T00:00:00",
          "2018-06-04T00:00:00",
          "2018-06-05T00:00:00",
          "2018-06-06T00:00:00",
          "2018-06-07T00:00:00",
          "2018-06-08T00:00:00",
          "2018-06-09T00:00:00",
          "2018-06-10T00:00:00",
          "2018-06-11T00:00:00",
          "2018-06-12T00:00:00",
          "2018-06-13T00:00:00",
          "2018-06-14T00:00:00",
          "2018-06-15T00:00:00",
          "2018-06-16T00:00:00",
          "2018-06-17T00:00:00",
          "2018-06-18T00:00:00",
          "2018-06-19T00:00:00",
          "2018-06-20T00:00:00",
          "2018-06-21T00:00:00",
          "2018-06-22T00:00:00",
          "2018-06-23T00:00:00",
          "2018-06-24T00:00:00",
          "2018-06-25T00:00:00",
          "2018-06-26T00:00:00",
          "2018-06-27T00:00:00",
          "2018-06-28T00:00:00",
          "2018-06-29T00:00:00",
          "2018-06-30T00:00:00",
          "2018-07-01T00:00:00",
          "2018-07-02T00:00:00",
          "2018-07-03T00:00:00",
          "2018-07-04T00:00:00",
          "2018-07-05T00:00:00",
          "2018-07-06T00:00:00",
          "2018-07-07T00:00:00",
          "2018-07-08T00:00:00",
          "2018-07-09T00:00:00",
          "2018-07-10T00:00:00",
          "2018-07-11T00:00:00",
          "2018-07-12T00:00:00",
          "2018-07-13T00:00:00",
          "2018-07-14T00:00:00",
          "2018-07-15T00:00:00",
          "2018-07-16T00:00:00",
          "2018-07-17T00:00:00",
          "2018-07-18T00:00:00",
          "2018-07-19T00:00:00",
          "2018-07-20T00:00:00",
          "2018-07-21T00:00:00",
          "2018-07-22T00:00:00",
          "2018-07-23T00:00:00",
          "2018-07-24T00:00:00",
          "2018-07-25T00:00:00",
          "2018-07-26T00:00:00",
          "2018-07-27T00:00:00",
          "2018-07-28T00:00:00",
          "2018-07-29T00:00:00",
          "2018-07-30T00:00:00",
          "2018-07-31T00:00:00",
          "2018-08-01T00:00:00",
          "2018-08-02T00:00:00",
          "2018-08-03T00:00:00",
          "2018-08-04T00:00:00",
          "2018-08-05T00:00:00",
          "2018-08-06T00:00:00",
          "2018-08-07T00:00:00",
          "2018-08-08T00:00:00",
          "2018-08-09T00:00:00",
          "2018-08-10T00:00:00",
          "2018-08-11T00:00:00",
          "2018-08-12T00:00:00",
          "2018-08-13T00:00:00",
          "2018-08-14T00:00:00",
          "2018-08-15T00:00:00",
          "2018-08-16T00:00:00",
          "2018-08-17T00:00:00",
          "2018-08-18T00:00:00",
          "2018-08-19T00:00:00",
          "2018-08-20T00:00:00",
          "2018-08-21T00:00:00",
          "2018-08-22T00:00:00",
          "2018-08-23T00:00:00",
          "2018-08-24T00:00:00",
          "2018-08-25T00:00:00",
          "2018-08-26T00:00:00",
          "2018-08-27T00:00:00",
          "2018-08-28T00:00:00",
          "2018-08-29T00:00:00",
          "2018-08-30T00:00:00",
          "2018-08-31T00:00:00",
          "2018-09-01T00:00:00",
          "2018-09-02T00:00:00",
          "2018-09-03T00:00:00",
          "2018-09-04T00:00:00",
          "2018-09-05T00:00:00",
          "2018-09-06T00:00:00",
          "2018-09-07T00:00:00",
          "2018-09-08T00:00:00",
          "2018-09-09T00:00:00",
          "2018-09-10T00:00:00",
          "2018-09-11T00:00:00",
          "2018-09-12T00:00:00",
          "2018-09-13T00:00:00",
          "2018-09-14T00:00:00",
          "2018-09-15T00:00:00",
          "2018-09-16T00:00:00",
          "2018-09-17T00:00:00",
          "2018-09-18T00:00:00",
          "2018-09-19T00:00:00",
          "2018-09-20T00:00:00",
          "2018-09-21T00:00:00",
          "2018-09-22T00:00:00",
          "2018-09-23T00:00:00",
          "2018-09-24T00:00:00",
          "2018-09-25T00:00:00",
          "2018-09-26T00:00:00",
          "2018-09-27T00:00:00",
          "2018-09-28T00:00:00",
          "2018-09-29T00:00:00",
          "2018-09-30T00:00:00",
          "2018-10-01T00:00:00",
          "2018-10-02T00:00:00",
          "2018-10-03T00:00:00",
          "2018-10-04T00:00:00",
          "2018-10-05T00:00:00",
          "2018-10-06T00:00:00",
          "2018-10-07T00:00:00",
          "2018-10-08T00:00:00",
          "2018-10-09T00:00:00",
          "2018-10-10T00:00:00",
          "2018-10-11T00:00:00",
          "2018-10-12T00:00:00",
          "2018-10-13T00:00:00",
          "2018-10-14T00:00:00",
          "2018-10-15T00:00:00",
          "2018-10-16T00:00:00",
          "2018-10-17T00:00:00",
          "2018-10-18T00:00:00",
          "2018-10-19T00:00:00",
          "2018-10-20T00:00:00",
          "2018-10-21T00:00:00",
          "2018-10-22T00:00:00",
          "2018-10-23T00:00:00",
          "2018-10-24T00:00:00",
          "2018-10-25T00:00:00",
          "2018-10-26T00:00:00",
          "2018-10-27T00:00:00",
          "2018-10-28T00:00:00",
          "2018-10-29T00:00:00",
          "2018-10-30T00:00:00",
          "2018-10-31T00:00:00",
          "2018-11-01T00:00:00",
          "2018-11-02T00:00:00",
          "2018-11-03T00:00:00",
          "2018-11-04T00:00:00",
          "2018-11-05T00:00:00",
          "2018-11-06T00:00:00",
          "2018-11-07T00:00:00",
          "2018-11-08T00:00:00",
          "2018-11-09T00:00:00",
          "2018-11-10T00:00:00",
          "2018-11-11T00:00:00",
          "2018-11-12T00:00:00",
          "2018-11-13T00:00:00",
          "2018-11-14T00:00:00",
          "2018-11-15T00:00:00",
          "2018-11-16T00:00:00",
          "2018-11-17T00:00:00",
          "2018-11-18T00:00:00",
          "2018-11-19T00:00:00",
          "2018-11-20T00:00:00",
          "2018-11-21T00:00:00",
          "2018-11-22T00:00:00",
          "2018-11-23T00:00:00",
          "2018-11-24T00:00:00",
          "2018-11-25T00:00:00",
          "2018-11-26T00:00:00",
          "2018-11-27T00:00:00",
          "2018-11-28T00:00:00",
          "2018-11-29T00:00:00",
          "2018-11-30T00:00:00",
          "2018-12-01T00:00:00",
          "2018-12-02T00:00:00",
          "2018-12-03T00:00:00",
          "2018-12-04T00:00:00",
          "2018-12-05T00:00:00",
          "2018-12-06T00:00:00",
          "2018-12-07T00:00:00",
          "2018-12-08T00:00:00",
          "2018-12-09T00:00:00",
          "2018-12-10T00:00:00",
          "2018-12-11T00:00:00",
          "2018-12-12T00:00:00",
          "2018-12-13T00:00:00",
          "2018-12-14T00:00:00",
          "2018-12-15T00:00:00",
          "2018-12-16T00:00:00",
          "2018-12-17T00:00:00",
          "2018-12-18T00:00:00",
          "2018-12-19T00:00:00",
          "2018-12-20T00:00:00",
          "2018-12-21T00:00:00",
          "2018-12-22T00:00:00",
          "2018-12-23T00:00:00",
          "2018-12-24T00:00:00",
          "2018-12-25T00:00:00",
          "2018-12-26T00:00:00",
          "2018-12-27T00:00:00",
          "2018-12-28T00:00:00",
          "2018-12-29T00:00:00",
          "2018-12-30T00:00:00",
          "2018-12-31T00:00:00",
          "2019-01-01T00:00:00",
          "2019-01-02T00:00:00",
          "2019-01-03T00:00:00",
          "2019-01-04T00:00:00",
          "2019-01-05T00:00:00",
          "2019-01-06T00:00:00",
          "2019-01-07T00:00:00",
          "2019-01-08T00:00:00",
          "2019-01-09T00:00:00",
          "2019-01-10T00:00:00",
          "2019-01-11T00:00:00",
          "2019-01-12T00:00:00",
          "2019-01-13T00:00:00",
          "2019-01-14T00:00:00",
          "2019-01-15T00:00:00",
          "2019-01-16T00:00:00",
          "2019-01-17T00:00:00",
          "2019-01-18T00:00:00",
          "2019-01-19T00:00:00",
          "2019-01-20T00:00:00",
          "2019-01-21T00:00:00",
          "2019-01-22T00:00:00",
          "2019-01-23T00:00:00",
          "2019-01-24T00:00:00",
          "2019-01-25T00:00:00",
          "2019-01-26T00:00:00",
          "2019-01-27T00:00:00",
          "2019-01-28T00:00:00",
          "2019-01-29T00:00:00",
          "2019-01-30T00:00:00",
          "2019-01-31T00:00:00",
          "2019-02-01T00:00:00",
          "2019-02-02T00:00:00",
          "2019-02-03T00:00:00",
          "2019-02-04T00:00:00",
          "2019-02-05T00:00:00",
          "2019-02-06T00:00:00",
          "2019-02-07T00:00:00",
          "2019-02-08T00:00:00",
          "2019-02-09T00:00:00",
          "2019-02-10T00:00:00",
          "2019-02-11T00:00:00",
          "2019-02-12T00:00:00",
          "2019-02-13T00:00:00",
          "2019-02-14T00:00:00",
          "2019-02-15T00:00:00",
          "2019-02-16T00:00:00",
          "2019-02-17T00:00:00",
          "2019-02-18T00:00:00",
          "2019-02-19T00:00:00",
          "2019-02-20T00:00:00",
          "2019-02-21T00:00:00",
          "2019-02-22T00:00:00",
          "2019-02-23T00:00:00",
          "2019-02-24T00:00:00",
          "2019-02-25T00:00:00",
          "2019-02-26T00:00:00",
          "2019-02-27T00:00:00",
          "2019-02-28T00:00:00",
          "2019-03-01T00:00:00",
          "2019-03-02T00:00:00",
          "2019-03-03T00:00:00",
          "2019-03-04T00:00:00",
          "2019-03-05T00:00:00",
          "2019-03-06T00:00:00",
          "2019-03-07T00:00:00",
          "2019-03-08T00:00:00",
          "2019-03-09T00:00:00",
          "2019-03-10T00:00:00",
          "2019-03-11T00:00:00",
          "2019-03-12T00:00:00",
          "2019-03-13T00:00:00",
          "2019-03-14T00:00:00",
          "2019-03-15T00:00:00",
          "2019-03-16T00:00:00",
          "2019-03-17T00:00:00",
          "2019-03-18T00:00:00",
          "2019-03-19T00:00:00",
          "2019-03-20T00:00:00",
          "2019-03-21T00:00:00",
          "2019-03-22T00:00:00",
          "2019-03-23T00:00:00",
          "2019-03-24T00:00:00",
          "2019-03-25T00:00:00",
          "2019-03-26T00:00:00",
          "2019-03-27T00:00:00",
          "2019-03-28T00:00:00",
          "2019-03-29T00:00:00",
          "2019-03-30T00:00:00",
          "2019-03-31T00:00:00",
          "2019-04-01T00:00:00",
          "2019-04-02T00:00:00",
          "2019-04-03T00:00:00",
          "2019-04-04T00:00:00",
          "2019-04-05T00:00:00",
          "2019-04-06T00:00:00",
          "2019-04-07T00:00:00",
          "2019-04-08T00:00:00",
          "2019-04-09T00:00:00",
          "2019-04-10T00:00:00",
          "2019-04-11T00:00:00",
          "2019-04-12T00:00:00",
          "2019-04-13T00:00:00",
          "2019-04-14T00:00:00",
          "2019-04-15T00:00:00",
          "2019-04-16T00:00:00",
          "2019-04-17T00:00:00",
          "2019-04-18T00:00:00",
          "2019-04-19T00:00:00",
          "2019-04-20T00:00:00",
          "2019-04-21T00:00:00",
          "2019-04-22T00:00:00",
          "2019-04-23T00:00:00",
          "2019-04-24T00:00:00",
          "2019-04-25T00:00:00",
          "2019-04-26T00:00:00",
          "2019-04-27T00:00:00",
          "2019-04-28T00:00:00",
          "2019-04-29T00:00:00",
          "2019-04-30T00:00:00",
          "2019-05-01T00:00:00",
          "2019-05-02T00:00:00",
          "2019-05-03T00:00:00",
          "2019-05-04T00:00:00",
          "2019-05-05T00:00:00",
          "2019-05-06T00:00:00",
          "2019-05-07T00:00:00",
          "2019-05-08T00:00:00",
          "2019-05-09T00:00:00",
          "2019-05-10T00:00:00",
          "2019-05-11T00:00:00",
          "2019-05-12T00:00:00",
          "2019-05-13T00:00:00",
          "2019-05-14T00:00:00",
          "2019-05-15T00:00:00",
          "2019-05-16T00:00:00",
          "2019-05-17T00:00:00",
          "2019-05-18T00:00:00",
          "2019-05-19T00:00:00",
          "2019-05-20T00:00:00",
          "2019-05-21T00:00:00",
          "2019-05-22T00:00:00",
          "2019-05-23T00:00:00",
          "2019-05-24T00:00:00",
          "2019-05-25T00:00:00",
          "2019-05-26T00:00:00",
          "2019-05-27T00:00:00",
          "2019-05-28T00:00:00",
          "2019-05-29T00:00:00",
          "2019-05-30T00:00:00",
          "2019-05-31T00:00:00",
          "2019-06-01T00:00:00",
          "2019-06-02T00:00:00",
          "2019-06-03T00:00:00",
          "2019-06-04T00:00:00",
          "2019-06-05T00:00:00",
          "2019-06-06T00:00:00",
          "2019-06-07T00:00:00",
          "2019-06-08T00:00:00",
          "2019-06-09T00:00:00",
          "2019-06-10T00:00:00",
          "2019-06-11T00:00:00",
          "2019-06-12T00:00:00",
          "2019-06-13T00:00:00",
          "2019-06-14T00:00:00",
          "2019-06-15T00:00:00",
          "2019-06-16T00:00:00",
          "2019-06-17T00:00:00",
          "2019-06-18T00:00:00",
          "2019-06-19T00:00:00",
          "2019-06-20T00:00:00",
          "2019-06-21T00:00:00",
          "2019-06-22T00:00:00",
          "2019-06-23T00:00:00",
          "2019-06-24T00:00:00",
          "2019-06-25T00:00:00",
          "2019-06-26T00:00:00",
          "2019-06-27T00:00:00",
          "2019-06-28T00:00:00",
          "2019-06-29T00:00:00",
          "2019-06-30T00:00:00",
          "2019-07-01T00:00:00",
          "2019-07-02T00:00:00",
          "2019-07-03T00:00:00",
          "2019-07-04T00:00:00",
          "2019-07-05T00:00:00",
          "2019-07-06T00:00:00",
          "2019-07-07T00:00:00",
          "2019-07-08T00:00:00",
          "2019-07-09T00:00:00",
          "2019-07-10T00:00:00",
          "2019-07-11T00:00:00",
          "2019-07-12T00:00:00",
          "2019-07-13T00:00:00",
          "2019-07-14T00:00:00",
          "2019-07-15T00:00:00",
          "2019-07-16T00:00:00",
          "2019-07-17T00:00:00",
          "2019-07-18T00:00:00",
          "2019-07-19T00:00:00",
          "2019-07-20T00:00:00",
          "2019-07-21T00:00:00",
          "2019-07-22T00:00:00",
          "2019-07-23T00:00:00",
          "2019-07-24T00:00:00",
          "2019-07-25T00:00:00",
          "2019-07-26T00:00:00",
          "2019-07-27T00:00:00",
          "2019-07-28T00:00:00",
          "2019-07-29T00:00:00",
          "2019-07-30T00:00:00",
          "2019-07-31T00:00:00",
          "2019-08-01T00:00:00",
          "2019-08-02T00:00:00",
          "2019-08-03T00:00:00",
          "2019-08-04T00:00:00",
          "2019-08-05T00:00:00",
          "2019-08-06T00:00:00",
          "2019-08-07T00:00:00",
          "2019-08-08T00:00:00",
          "2019-08-09T00:00:00",
          "2019-08-10T00:00:00",
          "2019-08-11T00:00:00",
          "2019-08-12T00:00:00"
         ],
         "y": [
          2857.450246890603,
          2915.326951827276,
          2688.3678185852136,
          2698.72550934536,
          2594.1004394504803,
          2337.6733709352293,
          2497.4447835308965,
          2560.308016604352,
          2578.2689962434342,
          2573.5631573869123,
          2676.0048820318325,
          2719.6956267095843,
          2676.0147533734407,
          2723.485265808204,
          2638.6263861316197,
          2535.1333333974144,
          2423.6030598430702,
          2394.3062914886755,
          2542.322286285579,
          2561.98038999464,
          2531.7962163618663,
          2468.426582870502,
          2459.45998008898,
          2536.1357776696955,
          2598.875771212728,
          2563.142168778129,
          2593.426855496221,
          2530.2448555584656,
          2515.009565803619,
          2541.3934759954996,
          2405.419425391553,
          2308.988551776062,
          2349.313927899994,
          2380.441647992599,
          2278.695493889656,
          2074.4273926551064,
          1985.6063540007583,
          2087.3821132550615,
          2264.984841341568,
          2311.6101735433085,
          2508.727436939381,
          2741.6556662204944,
          2776.7087894738065,
          2752.8368205808106,
          2769.384589934892,
          2571.721799887814,
          2467.1866142780495,
          2572.79300363304,
          2759.065639415233,
          2711.72699456317,
          2673.392311951411,
          2769.0659134393964,
          2754.2783024127966,
          2702.3691798210302,
          2744.266353795421,
          2834.1057142845593,
          3203.7760007052666,
          3256.5432060033904,
          3303.933422008794,
          3421.391898542948,
          3303.2979897870932,
          3399.590761711013,
          3527.8637661301455,
          3814.4364473244427,
          4072.4012087467318,
          4202.738080013673,
          4011.0751662079592,
          4171.78737422959,
          4382.85798775959,
          4160.148818871437,
          3987.2157648445573,
          4057.2870940119124,
          3994.150208275465,
          3875.298510893825,
          4159.730991936009,
          4179.5350727722935,
          4371.041992884071,
          4308.351628978117,
          4347.577175961082,
          4287.829050889346,
          4463.299529667327,
          4577.158297125284,
          4683.063815954835,
          4803.950131043598,
          4591.890591232636,
          4539.395842292587,
          4173.196193409343,
          4208.044490046679,
          4539.344927852868,
          4572.177593641647,
          4391.63912564958,
          4285.075303522426,
          4209.942270923422,
          4243.126936384892,
          4257.944073990892,
          3886.2400938040814,
          3617.89380957159,
          3448.179664885398,
          3789.1468509612146,
          3685.7306660838776,
          4000.6591952028375,
          3953.822818584903,
          3951.6362875196,
          3786.8590044297734,
          3630.782532156941,
          3720.088362242403,
          3691.563329151147,
          3828.8529222027887,
          3915.195132697779,
          4042.63251093286,
          4200.721892938732,
          4114.630658581043,
          4283.156889295579,
          4295.6006052379635,
          4401.336042962896,
          4231.813052914863,
          4226.229501530216,
          4239.358889826652,
          4363.749539966317,
          4345.719539069668,
          4501.773884158095,
          4630.4129898859655,
          4812.775518744184,
          4752.495196909085,
          5151.528157603776,
          5657.42699723425,
          5740.475380922897,
          5531.665807207436,
          5700.137097667043,
          5610.256789077938,
          5271.762324909872,
          5691.408157642794,
          5783.41206530554,
          6104.885514046615,
          5872.580134819065,
          5824.813158249923,
          5569.372099653536,
          5521.53820217546,
          5841.941802163123,
          5801.971628290991,
          5738.215067395434,
          5882.923122108531,
          6140.703291211109,
          6229.7314732907125,
          6521.723549552602,
          7005.207261430256,
          7310.00983641168,
          7270.573483365482,
          7500.628182525435,
          6915.008812620936,
          7069.441711907558,
          7343.094760021336,
          7171.748430812242,
          6789.352555300521,
          6526.992812617439,
          6047.827083369162,
          6457.067245702567,
          6606.80012502237,
          7095.155524133769,
          7470.763294531617,
          7855.563639724333,
          7669.841275952018,
          7839.217352188344,
          8143.406716991782,
          8204.819596350613,
          8226.235914649935,
          8163.070253455267,
          8142.38708624585,
          8448.257697341442,
          9029.86815024008,
          9642.017068816578,
          9856.316056896187,
          10201.254243471618,
          9590.921644226362,
          10272.549951120987,
          11207.929483670168,
          11297.236923879655,
          11306.47868201384,
          11747.409686481044,
          12784.788259597322,
          15254.512771703481,
          15621.078944240222,
          14557.387020413935,
          13944.108882983846,
          16865.95351774262,
          17026.27494873875,
          16222.456444746394,
          16386.948735607297,
          17669.09239843525,
          18380.516679412118,
          19358.678190372895,
          18471.579528244227,
          18088.087301267115,
          16163.365270172793,
          16139.112928610155,
          12867.249712341756,
          15117.159251038134,
          13609.425857095754,
          14623.049091941346,
          15578.48181005539,
          15787.448499886546,
          14542.13267005267,
          14795.657000220828,
          13157.32069802125,
          13376.608898278142,
          13462.500627692061,
          13873.274996494722,
          15023.779129129041,
          14727.01900101821,
          15884.114802631706,
          16797.340384348976,
          16425.961479272784,
          14872.427884915984,
          14725.043244030872,
          13696.283811874015,
          13521.7307164863,
          13673.923908210692,
          14278.191071785544,
          13780.612020210952,
          14137.003644734708,
          11834.16960579571,
          11274.0682666248,
          11880.279802144085,
          11662.25136775268,
          12609.852425751998,
          11891.64496181402,
          11345.988201874823,
          10920.54412141486,
          11302.120010086872,
          11368.723100970552,
          10944.577517650192,
          11272.824485638823,
          11690.673911938227,
          11274.078487874804,
          10526.180939049205,
          9978.722807818247,
          9432.934053900652,
          8470.060201373184,
          9198.241572360217,
          8827.641134599226,
          7746.875004249311,
          7420.114524011545,
          8365.743472485932,
          8388.87783485415,
          8395.041955403141,
          8741.840289531116,
          8156.446847294876,
          8696.6610379175,
          8588.82232535655,
          9068.324016563465,
          10032.999205814403,
          10105.932907339142,
          10803.812217708288,
          10720.198857611109,
          10893.258200350652,
          11676.253359902425,
          10429.145943183847,
          10100.612303292497,
          9914.127414676494,
          9886.136860626288,
          9530.032279853234,
          9980.708073209904,
          10605.745770845662,
          10612.674501083324,
          10715.763561392068,
          11014.159881092675,
          11384.098819972882,
          11207.921218796351,
          11534.298923690623,
          10779.912046222667,
          10149.217525890488,
          9559.054864679878,
          8802.534311198422,
          9388.156144216315,
          9071.634611145331,
          9655.708169449037,
          9142.518304252406,
          9026.711690622262,
          8412.17393377662,
          8575.977432246253,
          8187.923839965391,
          7738.66597105819,
          8488.102417273103,
          8634.267793169216,
          9050.55267695016,
          8774.031315533586,
          8511.886846636868,
          8884.061840459435,
          8467.601886564547,
          8091.16064471157,
          7905.874907359842,
          7932.258973806493,
          7470.626079757612,
          6989.957626814082,
          7216.062036811761,
          6890.134912879642,
          7212.412427289659,
          7405.512989302268,
          7128.680957666596,
          6841.613896155965,
          6751.336237034911,
          6959.437763810765,
          7006.943309299168,
          6870.34206827211,
          6773.893901805954,
          6898.2599109513785,
          7371.837776940979,
          8057.530763466997,
          8012.777031506671,
          8252.133959457262,
          7973.343300439407,
          7978.5351803781095,
          8034.696061021323,
          8200.76853502004,
          8366.474160653488,
          8841.19812887108,
          8887.372421729408,
          8850.259754472121,
          9283.360488808334,
          8930.647614892265,
          8771.93325439076,
          9253.780473103332,
          9147.750966898751,
          9343.903996603694,
          9261.964647380559,
          8882.781590144836,
          9110.183387358828,
          9397.931771197,
          9683.025188859336,
          9842.423697037158,
          9552.89911245852,
          9274.46142986831,
          9231.263581238605,
          9132.268370880138,
          9239.600216460945,
          8493.452009581386,
          8467.684228268456,
          8591.338346504977,
          8576.586856640053,
          8686.224891943624,
          8289.679393831086,
          8364.025387114869,
          8154.106205369643,
          8360.879092523934,
          8396.15891586117,
          8470.425988547171,
          8193.094736852538,
          7763.299861603716,
          7601.2468796949015,
          7516.056967053798,
          7538.30805155388,
          7355.460353978564,
          7284.84120391429,
          7316.688945456883,
          7504.844832645679,
          7546.116334676361,
          7504.227113044587,
          7614.698031136286,
          7696.967662758623,
          7487.686133660622,
          7363.3220290746285,
          7595.376318950884,
          7684.164932722111,
          7611.572967351512,
          7635.175858020025,
          6924.036295545868,
          6777.1686384764325,
          6760.937071397857,
          6358.672528685162,
          6590.2662211013,
          6596.408934256335,
          6572.541016575425,
          6613.109022181259,
          6558.7328830572405,
          6770.314947826383,
          6682.345452207364,
          6748.317569718371,
          6265.898269410115,
          6147.702497664503,
          5989.127820332803,
          6228.206911326526,
          6100.242406348668,
          6090.531897123335,
          6098.00295310521,
          5862.11046523378,
          6439.850385965726,
          6357.26630479344,
          6423.228251500964,
          6606.683916368295,
          6547.775972335619,
          6553.51162448282,
          6515.650656015737,
          6564.9876970536925,
          6756.657706370649,
          6666.374576233552,
          6358.557333182646,
          6339.940507966749,
          6189.462896812372,
          6250.586078726774,
          6258.887009013766,
          6339.557476734668,
          6512.079132953569,
          6875.964596012571,
          7441.637303685036,
          7360.703400280169,
          7382.755271361751,
          7350.122174628059,
          7443.099254373811,
          7447.336025377338,
          7894.507021506858,
          8298.923522218513,
          8173.250855116022,
          7972.638632330386,
          8200.455833354965,
          8199.060391551846,
          7932.86280385918,
          7775.457670415663,
          7503.731140527147,
          7634.769531130578,
          7409.514723713791,
          7311.609262277797,
          7044.76693201494,
          7057.533193103005,
          7007.7536130645685,
          6535.298456066043,
          6580.518849625519,
          6459.94999735327,
          6299.818238438624,
          6417.029832875267,
          6395.45187754131,
          6011.450597537736,
          6461.264507931652,
          6361.894691592475,
          6487.858253454953,
          6450.871901291721,
          6410.052320357319,
          6433.566456478632,
          6380.186820984747,
          6575.555493805219,
          6414.536839309613,
          6565.1233078868445,
          6721.3222082385455,
          6658.44386459179,
          6677.5587197846735,
          6967.063571138608,
          7033.711542483033,
          6860.479541990038,
          6978.936328058185,
          7096.519177488135,
          7246.835838616246,
          7251.579950538136,
          7291.359265201405,
          6965.333001243362,
          6270.520204652987,
          6505.97647471295,
          6357.1390919666255,
          6333.9844201269125,
          6331.648112828622,
          6325.652811270439,
          6327.3377107176875,
          6510.828048619885,
          6555.356085081437,
          6534.029029575458,
          6493.158780183914,
          6365.311464427808,
          6265.033106304004,
          6315.786026389451,
          6410.161264923053,
          6648.76045761494,
          6695.2402683110695,
          6702.700804789147,
          6540.5552800383975,
          6112.673090686169,
          6464.632105497575,
          6488.711849682891,
          6662.155229615091,
          6511.887832020478,
          6598.860695521932,
          6571.270933368051,
          6531.766009237023,
          6424.268108161327,
          6561.120778178656,
          6529.281246921043,
          6566.908914896419,
          6551.070570372474,
          6578.042759752833,
          6581.799120925042,
          6492.758326021645,
          6091.978511681836,
          6221.115975865567,
          6207.123747226349,
          6251.022712942792,
          5996.062593497831,
          6449.359767650902,
          6440.468505157791,
          6415.226189906699,
          6392.3758733721315,
          6406.978684962044,
          6433.801094390446,
          6372.120457652034,
          6372.887104214231,
          6439.091054226138,
          6397.221447222319,
          6386.2606053688005,
          6420.542107616654,
          6412.15446550508,
          6173.081133139204,
          6252.323221621009,
          6230.584867200248,
          6312.044718362016,
          6355.359004800585,
          6344.38728916301,
          6367.519726845829,
          6378.988543212529,
          6247.588812650159,
          6507.372081667585,
          6397.322528896274,
          6353.232714439872,
          6349.774796914259,
          6336.204088054624,
          6283.233619106481,
          6266.49294921606,
          5475.6321556796875,
          5438.3221245314835,
          5606.469698315184,
          5537.994422334533,
          5605.686047074992,
          4458.207602574488,
          3840.0097587491578,
          4582.401305248226,
          4716.89641992466,
          4485.727402919716,
          4369.527610209311,
          3841.8442156447104,
          3962.6939357690903,
          3824.11039412849,
          4217.394652923065,
          4248.0629096017265,
          4083.7257503535157,
          4112.706885682014,
          4131.712527905074,
          3910.6014284108787,
          3896.4833420750742,
          3786.522904520815,
          3666.364314950369,
          3367.3403587583857,
          3493.3701480342093,
          3511.4187077560923,
          3507.7989588823025,
          3422.1601736859475,
          3450.9974518580725,
          3394.1778553099334,
          3266.2958589920972,
          3227.3863375310134,
          3232.783264379523,
          3335.737664682574,
          3517.5572532794235,
          3759.964438033013,
          3891.771003904815,
          3946.9370635414466,
          3827.6409704457346,
          4007.165091959375,
          4125.147878920726,
          3594.9463475710463,
          3775.237281715439,
          3686.49293394893,
          3697.867677126753,
          3894.804451576025,
          3791.3974371629856,
          3758.4598123879564,
          3699.559101768826,
          3857.8968853925976,
          3830.208755672872,
          3775.031498837343,
          3839.6451734427797,
          3875.1599259168293,
          4033.4429489279873,
          3951.626783205088,
          3999.059587273824,
          3649.1607622197653,
          3626.4686711069967,
          3624.1623928480585,
          3578.7006275126987,
          3560.170637210969,
          3651.0431611021345,
          3621.3350317261143,
          3637.4182086992305,
          3644.350777481759,
          3691.5378268988106,
          3601.0467548077895,
          3515.101873528351,
          3547.9151184409016,
          3570.8775178785204,
          3558.603977048198,
          3560.1784971338316,
          3578.2955843297705,
          3543.1392527977587,
          3385.255431748173,
          3402.927235436856,
          3421.7717744816837,
          3427.835767145159,
          3417.932357255999,
          3440.0094808571694,
          3432.5768255000207,
          3413.3933055953953,
          3420.806933423742,
          3369.67221956612,
          3369.85280994081,
          3428.952718165341,
          3627.665369673351,
          3602.6322815231597,
          3551.0090715714346,
          3514.315393624151,
          3553.38392206094,
          3547.327941849259,
          3558.492924287767,
          3581.700894703804,
          3584.3180629971816,
          3718.36858117952,
          3877.5679203385203,
          3892.1749699060024,
          3896.823258916678,
          3918.7390643100875,
          3968.6894512898043,
          3933.872250112363,
          3715.747904775169,
          3792.0297027791507,
          3792.0285195648394,
          3819.64347276818,
          3821.88402756698,
          3813.8238974754086,
          3812.3786712721685,
          3725.6547079942197,
          3789.1507314659143,
          3843.218134995324,
          3849.7933271261204,
          3864.2250838945765,
          3887.582061817135,
          3891.021650461778,
          3827.1901712894764,
          3822.4021836378133,
          3849.3187385136143,
          3843.62344027632,
          3874.755518507613,
          3984.4809676820487,
          3962.7334253041768,
          3961.2175720134346,
          3957.349077059239,
          3987.4488557386258,
          3988.329209915138,
          3972.620196913904,
          3979.6950524606755,
          3968.840498846612,
          3940.2545931964382,
          3892.7698294593697,
          3991.2558867903585,
          4005.707070323043,
          4049.0370130050533,
          4087.1405008905795,
          4084.154939537125,
          4067.2909401472016,
          4155.577939539982,
          5000.391866538418,
          4891.843073468415,
          4973.938782860848,
          5027.61996391977,
          5133.659582083245,
          5179.628389297747,
          5168.154727792399,
          5259.4709996148395,
          5089.440774422443,
          5046.321104960291,
          5091.198522730745,
          5082.132161056808,
          5121.728900920017,
          5091.3142991034465,
          5238.26947261431,
          5264.7839785756405,
          5263.495183353098,
          5322.821360196843,
          5277.15013029205,
          5288.833458724861,
          5504.664968013392,
          5430.816347200254,
          5384.653311240749,
          5025.1311269816,
          5176.2386302130235,
          5161.55380591863,
          5143.363136209198,
          5204.81894485309,
          5324.673074532262,
          5383.353361936636,
          5636.947272025049,
          5686.914126527219,
          5722.893353941982,
          5592.989455771649,
          5840.154085161581,
          5817.270766601259,
          6047.242789126822,
          6222.269696151882,
          6788.538607694429,
          7157.679298177094,
          7360.499668386128,
          8077.3048611892245,
          7972.371766425613,
          7916.821258140698,
          6703.218483866593,
          7392.051375599202,
          8059.364305107061,
          7872.93211627089,
          7942.71721844434,
          7873.479632450477,
          7700.421250849406,
          8019.568556652416,
          8065.452594860316,
          8120.255383794095,
          8871.13560461458,
          8721.013234016436,
          8611.594780932859,
          8523.187682421752,
          8249.113380811812,
          8554.571553662865,
          8677.66710621737,
          8318.696733161169,
          7634.938571075009,
          7876.351412149568,
          7755.087805830606,
          7993.236665236784,
          7992.206775621448,
          7834.156843946308,
          7844.096696227951,
          7935.759608387386,
          8074.065643015685,
          8179.192364777127,
          8350.961653372859,
          8769.278337776483,
          9094.549804355202,
          9155.110385895001,
          8979.964171932023,
          9152.836559554338,
          9341.333322664797,
          9855.249658621071,
          10890.5287212345,
          10778.577495357446,
          10769.999112346106,
          11410.278720431512,
          12786.722772640378,
          11046.115390174135,
          11684.346012925744,
          11884.959411379943,
          11381.990912518524,
          10393.025338023566,
          10234.313410668126,
          11421.743241304303,
          11748.50291848858,
          11217.455698841439,
          11494.112576664707,
          11318.653900578627,
          11851.599878947063,
          12559.670156110353,
          12617.512954401633,
          11230.994013168458,
          11593.500715109827,
          11366.014499311777,
          10727.357797957478,
          10329.231027572745,
          10277.728697066286,
          9624.71107469051,
          10388.158811803914,
          10646.616475890478,
          10758.396015004375,
          10628.98899204357,
          10489.317075618876,
          10062.477152078634,
          9700.616097290787,
          10071.973224610578,
          9736.065581789553,
          9747.782707048624,
          9540.373042174013,
          9637.067373089008,
          9585.96255561641,
          9918.099721099967,
          10093.963301850923,
          10497.911425617878,
          10786.029966156028,
          10750.507322089587,
          11789.232097883576,
          11426.03987623793,
          11548.594169136104,
          11807.286043228385,
          11801.421851214634,
          11468.883066912284,
          11328.510092261331
         ]
        }
       ],
       "layout": {
        "height": 400,
        "template": {
         "data": {
          "bar": [
           {
            "error_x": {
             "color": "#2a3f5f"
            },
            "error_y": {
             "color": "#2a3f5f"
            },
            "marker": {
             "line": {
              "color": "#E5ECF6",
              "width": 0.5
             }
            },
            "type": "bar"
           }
          ],
          "barpolar": [
           {
            "marker": {
             "line": {
              "color": "#E5ECF6",
              "width": 0.5
             }
            },
            "type": "barpolar"
           }
          ],
          "carpet": [
           {
            "aaxis": {
             "endlinecolor": "#2a3f5f",
             "gridcolor": "white",
             "linecolor": "white",
             "minorgridcolor": "white",
             "startlinecolor": "#2a3f5f"
            },
            "baxis": {
             "endlinecolor": "#2a3f5f",
             "gridcolor": "white",
             "linecolor": "white",
             "minorgridcolor": "white",
             "startlinecolor": "#2a3f5f"
            },
            "type": "carpet"
           }
          ],
          "choropleth": [
           {
            "colorbar": {
             "outlinewidth": 0,
             "ticks": ""
            },
            "type": "choropleth"
           }
          ],
          "contour": [
           {
            "colorbar": {
             "outlinewidth": 0,
             "ticks": ""
            },
            "colorscale": [
             [
              0,
              "#0d0887"
             ],
             [
              0.1111111111111111,
              "#46039f"
             ],
             [
              0.2222222222222222,
              "#7201a8"
             ],
             [
              0.3333333333333333,
              "#9c179e"
             ],
             [
              0.4444444444444444,
              "#bd3786"
             ],
             [
              0.5555555555555556,
              "#d8576b"
             ],
             [
              0.6666666666666666,
              "#ed7953"
             ],
             [
              0.7777777777777778,
              "#fb9f3a"
             ],
             [
              0.8888888888888888,
              "#fdca26"
             ],
             [
              1,
              "#f0f921"
             ]
            ],
            "type": "contour"
           }
          ],
          "contourcarpet": [
           {
            "colorbar": {
             "outlinewidth": 0,
             "ticks": ""
            },
            "type": "contourcarpet"
           }
          ],
          "heatmap": [
           {
            "colorbar": {
             "outlinewidth": 0,
             "ticks": ""
            },
            "colorscale": [
             [
              0,
              "#0d0887"
             ],
             [
              0.1111111111111111,
              "#46039f"
             ],
             [
              0.2222222222222222,
              "#7201a8"
             ],
             [
              0.3333333333333333,
              "#9c179e"
             ],
             [
              0.4444444444444444,
              "#bd3786"
             ],
             [
              0.5555555555555556,
              "#d8576b"
             ],
             [
              0.6666666666666666,
              "#ed7953"
             ],
             [
              0.7777777777777778,
              "#fb9f3a"
             ],
             [
              0.8888888888888888,
              "#fdca26"
             ],
             [
              1,
              "#f0f921"
             ]
            ],
            "type": "heatmap"
           }
          ],
          "heatmapgl": [
           {
            "colorbar": {
             "outlinewidth": 0,
             "ticks": ""
            },
            "colorscale": [
             [
              0,
              "#0d0887"
             ],
             [
              0.1111111111111111,
              "#46039f"
             ],
             [
              0.2222222222222222,
              "#7201a8"
             ],
             [
              0.3333333333333333,
              "#9c179e"
             ],
             [
              0.4444444444444444,
              "#bd3786"
             ],
             [
              0.5555555555555556,
              "#d8576b"
             ],
             [
              0.6666666666666666,
              "#ed7953"
             ],
             [
              0.7777777777777778,
              "#fb9f3a"
             ],
             [
              0.8888888888888888,
              "#fdca26"
             ],
             [
              1,
              "#f0f921"
             ]
            ],
            "type": "heatmapgl"
           }
          ],
          "histogram": [
           {
            "marker": {
             "colorbar": {
              "outlinewidth": 0,
              "ticks": ""
             }
            },
            "type": "histogram"
           }
          ],
          "histogram2d": [
           {
            "colorbar": {
             "outlinewidth": 0,
             "ticks": ""
            },
            "colorscale": [
             [
              0,
              "#0d0887"
             ],
             [
              0.1111111111111111,
              "#46039f"
             ],
             [
              0.2222222222222222,
              "#7201a8"
             ],
             [
              0.3333333333333333,
              "#9c179e"
             ],
             [
              0.4444444444444444,
              "#bd3786"
             ],
             [
              0.5555555555555556,
              "#d8576b"
             ],
             [
              0.6666666666666666,
              "#ed7953"
             ],
             [
              0.7777777777777778,
              "#fb9f3a"
             ],
             [
              0.8888888888888888,
              "#fdca26"
             ],
             [
              1,
              "#f0f921"
             ]
            ],
            "type": "histogram2d"
           }
          ],
          "histogram2dcontour": [
           {
            "colorbar": {
             "outlinewidth": 0,
             "ticks": ""
            },
            "colorscale": [
             [
              0,
              "#0d0887"
             ],
             [
              0.1111111111111111,
              "#46039f"
             ],
             [
              0.2222222222222222,
              "#7201a8"
             ],
             [
              0.3333333333333333,
              "#9c179e"
             ],
             [
              0.4444444444444444,
              "#bd3786"
             ],
             [
              0.5555555555555556,
              "#d8576b"
             ],
             [
              0.6666666666666666,
              "#ed7953"
             ],
             [
              0.7777777777777778,
              "#fb9f3a"
             ],
             [
              0.8888888888888888,
              "#fdca26"
             ],
             [
              1,
              "#f0f921"
             ]
            ],
            "type": "histogram2dcontour"
           }
          ],
          "mesh3d": [
           {
            "colorbar": {
             "outlinewidth": 0,
             "ticks": ""
            },
            "type": "mesh3d"
           }
          ],
          "parcoords": [
           {
            "line": {
             "colorbar": {
              "outlinewidth": 0,
              "ticks": ""
             }
            },
            "type": "parcoords"
           }
          ],
          "scatter": [
           {
            "marker": {
             "colorbar": {
              "outlinewidth": 0,
              "ticks": ""
             }
            },
            "type": "scatter"
           }
          ],
          "scatter3d": [
           {
            "line": {
             "colorbar": {
              "outlinewidth": 0,
              "ticks": ""
             }
            },
            "marker": {
             "colorbar": {
              "outlinewidth": 0,
              "ticks": ""
             }
            },
            "type": "scatter3d"
           }
          ],
          "scattercarpet": [
           {
            "marker": {
             "colorbar": {
              "outlinewidth": 0,
              "ticks": ""
             }
            },
            "type": "scattercarpet"
           }
          ],
          "scattergeo": [
           {
            "marker": {
             "colorbar": {
              "outlinewidth": 0,
              "ticks": ""
             }
            },
            "type": "scattergeo"
           }
          ],
          "scattergl": [
           {
            "marker": {
             "colorbar": {
              "outlinewidth": 0,
              "ticks": ""
             }
            },
            "type": "scattergl"
           }
          ],
          "scattermapbox": [
           {
            "marker": {
             "colorbar": {
              "outlinewidth": 0,
              "ticks": ""
             }
            },
            "type": "scattermapbox"
           }
          ],
          "scatterpolar": [
           {
            "marker": {
             "colorbar": {
              "outlinewidth": 0,
              "ticks": ""
             }
            },
            "type": "scatterpolar"
           }
          ],
          "scatterpolargl": [
           {
            "marker": {
             "colorbar": {
              "outlinewidth": 0,
              "ticks": ""
             }
            },
            "type": "scatterpolargl"
           }
          ],
          "scatterternary": [
           {
            "marker": {
             "colorbar": {
              "outlinewidth": 0,
              "ticks": ""
             }
            },
            "type": "scatterternary"
           }
          ],
          "surface": [
           {
            "colorbar": {
             "outlinewidth": 0,
             "ticks": ""
            },
            "colorscale": [
             [
              0,
              "#0d0887"
             ],
             [
              0.1111111111111111,
              "#46039f"
             ],
             [
              0.2222222222222222,
              "#7201a8"
             ],
             [
              0.3333333333333333,
              "#9c179e"
             ],
             [
              0.4444444444444444,
              "#bd3786"
             ],
             [
              0.5555555555555556,
              "#d8576b"
             ],
             [
              0.6666666666666666,
              "#ed7953"
             ],
             [
              0.7777777777777778,
              "#fb9f3a"
             ],
             [
              0.8888888888888888,
              "#fdca26"
             ],
             [
              1,
              "#f0f921"
             ]
            ],
            "type": "surface"
           }
          ],
          "table": [
           {
            "cells": {
             "fill": {
              "color": "#EBF0F8"
             },
             "line": {
              "color": "white"
             }
            },
            "header": {
             "fill": {
              "color": "#C8D4E3"
             },
             "line": {
              "color": "white"
             }
            },
            "type": "table"
           }
          ]
         },
         "layout": {
          "annotationdefaults": {
           "arrowcolor": "#2a3f5f",
           "arrowhead": 0,
           "arrowwidth": 1
          },
          "colorscale": {
           "diverging": [
            [
             0,
             "#8e0152"
            ],
            [
             0.1,
             "#c51b7d"
            ],
            [
             0.2,
             "#de77ae"
            ],
            [
             0.3,
             "#f1b6da"
            ],
            [
             0.4,
             "#fde0ef"
            ],
            [
             0.5,
             "#f7f7f7"
            ],
            [
             0.6,
             "#e6f5d0"
            ],
            [
             0.7,
             "#b8e186"
            ],
            [
             0.8,
             "#7fbc41"
            ],
            [
             0.9,
             "#4d9221"
            ],
            [
             1,
             "#276419"
            ]
           ],
           "sequential": [
            [
             0,
             "#0d0887"
            ],
            [
             0.1111111111111111,
             "#46039f"
            ],
            [
             0.2222222222222222,
             "#7201a8"
            ],
            [
             0.3333333333333333,
             "#9c179e"
            ],
            [
             0.4444444444444444,
             "#bd3786"
            ],
            [
             0.5555555555555556,
             "#d8576b"
            ],
            [
             0.6666666666666666,
             "#ed7953"
            ],
            [
             0.7777777777777778,
             "#fb9f3a"
            ],
            [
             0.8888888888888888,
             "#fdca26"
            ],
            [
             1,
             "#f0f921"
            ]
           ],
           "sequentialminus": [
            [
             0,
             "#0d0887"
            ],
            [
             0.1111111111111111,
             "#46039f"
            ],
            [
             0.2222222222222222,
             "#7201a8"
            ],
            [
             0.3333333333333333,
             "#9c179e"
            ],
            [
             0.4444444444444444,
             "#bd3786"
            ],
            [
             0.5555555555555556,
             "#d8576b"
            ],
            [
             0.6666666666666666,
             "#ed7953"
            ],
            [
             0.7777777777777778,
             "#fb9f3a"
            ],
            [
             0.8888888888888888,
             "#fdca26"
            ],
            [
             1,
             "#f0f921"
            ]
           ]
          },
          "colorway": [
           "#636efa",
           "#EF553B",
           "#00cc96",
           "#ab63fa",
           "#FFA15A",
           "#19d3f3",
           "#FF6692",
           "#B6E880",
           "#FF97FF",
           "#FECB52"
          ],
          "font": {
           "color": "#2a3f5f"
          },
          "geo": {
           "bgcolor": "white",
           "lakecolor": "white",
           "landcolor": "#E5ECF6",
           "showlakes": true,
           "showland": true,
           "subunitcolor": "white"
          },
          "hoverlabel": {
           "align": "left"
          },
          "hovermode": "closest",
          "mapbox": {
           "style": "light"
          },
          "paper_bgcolor": "white",
          "plot_bgcolor": "#E5ECF6",
          "polar": {
           "angularaxis": {
            "gridcolor": "white",
            "linecolor": "white",
            "ticks": ""
           },
           "bgcolor": "#E5ECF6",
           "radialaxis": {
            "gridcolor": "white",
            "linecolor": "white",
            "ticks": ""
           }
          },
          "scene": {
           "xaxis": {
            "backgroundcolor": "#E5ECF6",
            "gridcolor": "white",
            "gridwidth": 2,
            "linecolor": "white",
            "showbackground": true,
            "ticks": "",
            "zerolinecolor": "white"
           },
           "yaxis": {
            "backgroundcolor": "#E5ECF6",
            "gridcolor": "white",
            "gridwidth": 2,
            "linecolor": "white",
            "showbackground": true,
            "ticks": "",
            "zerolinecolor": "white"
           },
           "zaxis": {
            "backgroundcolor": "#E5ECF6",
            "gridcolor": "white",
            "gridwidth": 2,
            "linecolor": "white",
            "showbackground": true,
            "ticks": "",
            "zerolinecolor": "white"
           }
          },
          "shapedefaults": {
           "line": {
            "color": "#2a3f5f"
           }
          },
          "ternary": {
           "aaxis": {
            "gridcolor": "white",
            "linecolor": "white",
            "ticks": ""
           },
           "baxis": {
            "gridcolor": "white",
            "linecolor": "white",
            "ticks": ""
           },
           "bgcolor": "#E5ECF6",
           "caxis": {
            "gridcolor": "white",
            "linecolor": "white",
            "ticks": ""
           }
          },
          "title": {
           "x": 0.05
          },
          "xaxis": {
           "automargin": true,
           "gridcolor": "white",
           "linecolor": "white",
           "ticks": "",
           "zerolinecolor": "white",
           "zerolinewidth": 2
          },
          "yaxis": {
           "automargin": true,
           "gridcolor": "white",
           "linecolor": "white",
           "ticks": "",
           "zerolinecolor": "white",
           "zerolinewidth": 2
          }
         }
        },
        "title": {
         "text": "Test Set: Single Timepoint Prediction"
        },
        "width": 550,
        "xaxis": {
         "range": [
          "2017-06-01",
          "2018-12-31"
         ],
         "title": {
          "text": "timestamp"
         }
        },
        "yaxis": {
         "title": {
          "text": "Price /USD"
         }
        }
       }
      },
      "text/html": [
       "<div>\n",
       "        \n",
       "        \n",
       "            <div id=\"87aaabb8-8221-40ae-a0f9-b209d92848f4\" class=\"plotly-graph-div\" style=\"height:400px; width:550px;\"></div>\n",
       "            <script type=\"text/javascript\">\n",
       "                require([\"plotly\"], function(Plotly) {\n",
       "                    window.PLOTLYENV=window.PLOTLYENV || {};\n",
       "                    \n",
       "                if (document.getElementById(\"87aaabb8-8221-40ae-a0f9-b209d92848f4\")) {\n",
       "                    Plotly.newPlot(\n",
       "                        '87aaabb8-8221-40ae-a0f9-b209d92848f4',\n",
       "                        [{\"marker\": {\"color\": \"rgba(235, 115, 150, 0.5)\"}, \"mode\": \"lines\", \"name\": \"Actual\", \"type\": \"scatter\", \"x\": [\"2017-06-11T00:00:00\", \"2017-06-12T00:00:00\", \"2017-06-13T00:00:00\", \"2017-06-14T00:00:00\", \"2017-06-15T00:00:00\", \"2017-06-16T00:00:00\", \"2017-06-17T00:00:00\", \"2017-06-18T00:00:00\", \"2017-06-19T00:00:00\", \"2017-06-20T00:00:00\", \"2017-06-21T00:00:00\", \"2017-06-22T00:00:00\", \"2017-06-23T00:00:00\", \"2017-06-24T00:00:00\", \"2017-06-25T00:00:00\", \"2017-06-26T00:00:00\", \"2017-06-27T00:00:00\", \"2017-06-28T00:00:00\", \"2017-06-29T00:00:00\", \"2017-06-30T00:00:00\", \"2017-07-01T00:00:00\", \"2017-07-02T00:00:00\", \"2017-07-03T00:00:00\", \"2017-07-04T00:00:00\", \"2017-07-05T00:00:00\", \"2017-07-06T00:00:00\", \"2017-07-07T00:00:00\", \"2017-07-08T00:00:00\", \"2017-07-09T00:00:00\", \"2017-07-10T00:00:00\", \"2017-07-11T00:00:00\", \"2017-07-12T00:00:00\", \"2017-07-13T00:00:00\", \"2017-07-14T00:00:00\", \"2017-07-15T00:00:00\", \"2017-07-16T00:00:00\", \"2017-07-17T00:00:00\", \"2017-07-18T00:00:00\", \"2017-07-19T00:00:00\", \"2017-07-20T00:00:00\", \"2017-07-21T00:00:00\", \"2017-07-22T00:00:00\", \"2017-07-23T00:00:00\", \"2017-07-24T00:00:00\", \"2017-07-25T00:00:00\", \"2017-07-26T00:00:00\", \"2017-07-27T00:00:00\", \"2017-07-28T00:00:00\", \"2017-07-29T00:00:00\", \"2017-07-30T00:00:00\", \"2017-07-31T00:00:00\", \"2017-08-01T00:00:00\", \"2017-08-02T00:00:00\", \"2017-08-03T00:00:00\", \"2017-08-04T00:00:00\", \"2017-08-05T00:00:00\", \"2017-08-06T00:00:00\", \"2017-08-07T00:00:00\", \"2017-08-08T00:00:00\", \"2017-08-09T00:00:00\", \"2017-08-10T00:00:00\", \"2017-08-11T00:00:00\", \"2017-08-12T00:00:00\", \"2017-08-13T00:00:00\", \"2017-08-14T00:00:00\", \"2017-08-15T00:00:00\", \"2017-08-16T00:00:00\", \"2017-08-17T00:00:00\", \"2017-08-18T00:00:00\", \"2017-08-19T00:00:00\", \"2017-08-20T00:00:00\", \"2017-08-21T00:00:00\", \"2017-08-22T00:00:00\", \"2017-08-23T00:00:00\", \"2017-08-24T00:00:00\", \"2017-08-25T00:00:00\", \"2017-08-26T00:00:00\", \"2017-08-27T00:00:00\", \"2017-08-28T00:00:00\", \"2017-08-29T00:00:00\", \"2017-08-30T00:00:00\", \"2017-08-31T00:00:00\", \"2017-09-01T00:00:00\", \"2017-09-02T00:00:00\", \"2017-09-03T00:00:00\", \"2017-09-04T00:00:00\", \"2017-09-05T00:00:00\", \"2017-09-06T00:00:00\", \"2017-09-07T00:00:00\", \"2017-09-08T00:00:00\", \"2017-09-09T00:00:00\", \"2017-09-10T00:00:00\", \"2017-09-11T00:00:00\", \"2017-09-12T00:00:00\", \"2017-09-13T00:00:00\", \"2017-09-14T00:00:00\", \"2017-09-15T00:00:00\", \"2017-09-16T00:00:00\", \"2017-09-17T00:00:00\", \"2017-09-18T00:00:00\", \"2017-09-19T00:00:00\", \"2017-09-20T00:00:00\", \"2017-09-21T00:00:00\", \"2017-09-22T00:00:00\", \"2017-09-23T00:00:00\", \"2017-09-24T00:00:00\", \"2017-09-25T00:00:00\", \"2017-09-26T00:00:00\", \"2017-09-27T00:00:00\", \"2017-09-28T00:00:00\", \"2017-09-29T00:00:00\", \"2017-09-30T00:00:00\", \"2017-10-01T00:00:00\", \"2017-10-02T00:00:00\", \"2017-10-03T00:00:00\", \"2017-10-04T00:00:00\", \"2017-10-05T00:00:00\", \"2017-10-06T00:00:00\", \"2017-10-07T00:00:00\", \"2017-10-08T00:00:00\", \"2017-10-09T00:00:00\", \"2017-10-10T00:00:00\", \"2017-10-11T00:00:00\", \"2017-10-12T00:00:00\", \"2017-10-13T00:00:00\", \"2017-10-14T00:00:00\", \"2017-10-15T00:00:00\", \"2017-10-16T00:00:00\", \"2017-10-17T00:00:00\", \"2017-10-18T00:00:00\", \"2017-10-19T00:00:00\", \"2017-10-20T00:00:00\", \"2017-10-21T00:00:00\", \"2017-10-22T00:00:00\", \"2017-10-23T00:00:00\", \"2017-10-24T00:00:00\", \"2017-10-25T00:00:00\", \"2017-10-26T00:00:00\", \"2017-10-27T00:00:00\", \"2017-10-28T00:00:00\", \"2017-10-29T00:00:00\", \"2017-10-30T00:00:00\", \"2017-10-31T00:00:00\", \"2017-11-01T00:00:00\", \"2017-11-02T00:00:00\", \"2017-11-03T00:00:00\", \"2017-11-04T00:00:00\", \"2017-11-05T00:00:00\", \"2017-11-06T00:00:00\", \"2017-11-07T00:00:00\", \"2017-11-08T00:00:00\", \"2017-11-09T00:00:00\", \"2017-11-10T00:00:00\", \"2017-11-11T00:00:00\", \"2017-11-12T00:00:00\", \"2017-11-13T00:00:00\", \"2017-11-14T00:00:00\", \"2017-11-15T00:00:00\", \"2017-11-16T00:00:00\", \"2017-11-17T00:00:00\", \"2017-11-18T00:00:00\", \"2017-11-19T00:00:00\", \"2017-11-20T00:00:00\", \"2017-11-21T00:00:00\", \"2017-11-22T00:00:00\", \"2017-11-23T00:00:00\", \"2017-11-24T00:00:00\", \"2017-11-25T00:00:00\", \"2017-11-26T00:00:00\", \"2017-11-27T00:00:00\", \"2017-11-28T00:00:00\", \"2017-11-29T00:00:00\", \"2017-11-30T00:00:00\", \"2017-12-01T00:00:00\", \"2017-12-02T00:00:00\", \"2017-12-03T00:00:00\", \"2017-12-04T00:00:00\", \"2017-12-05T00:00:00\", \"2017-12-06T00:00:00\", \"2017-12-07T00:00:00\", \"2017-12-08T00:00:00\", \"2017-12-09T00:00:00\", \"2017-12-10T00:00:00\", \"2017-12-11T00:00:00\", \"2017-12-12T00:00:00\", \"2017-12-13T00:00:00\", \"2017-12-14T00:00:00\", \"2017-12-15T00:00:00\", \"2017-12-16T00:00:00\", \"2017-12-17T00:00:00\", \"2017-12-18T00:00:00\", \"2017-12-19T00:00:00\", \"2017-12-20T00:00:00\", \"2017-12-21T00:00:00\", \"2017-12-22T00:00:00\", \"2017-12-23T00:00:00\", \"2017-12-24T00:00:00\", \"2017-12-25T00:00:00\", \"2017-12-26T00:00:00\", \"2017-12-27T00:00:00\", \"2017-12-28T00:00:00\", \"2017-12-29T00:00:00\", \"2017-12-30T00:00:00\", \"2017-12-31T00:00:00\", \"2018-01-01T00:00:00\", \"2018-01-02T00:00:00\", \"2018-01-03T00:00:00\", \"2018-01-04T00:00:00\", \"2018-01-05T00:00:00\", \"2018-01-06T00:00:00\", \"2018-01-07T00:00:00\", \"2018-01-08T00:00:00\", \"2018-01-09T00:00:00\", \"2018-01-10T00:00:00\", \"2018-01-11T00:00:00\", \"2018-01-12T00:00:00\", \"2018-01-13T00:00:00\", \"2018-01-14T00:00:00\", \"2018-01-15T00:00:00\", \"2018-01-16T00:00:00\", \"2018-01-17T00:00:00\", \"2018-01-18T00:00:00\", \"2018-01-19T00:00:00\", \"2018-01-20T00:00:00\", \"2018-01-21T00:00:00\", \"2018-01-22T00:00:00\", \"2018-01-23T00:00:00\", \"2018-01-24T00:00:00\", \"2018-01-25T00:00:00\", \"2018-01-26T00:00:00\", \"2018-01-27T00:00:00\", \"2018-01-28T00:00:00\", \"2018-01-29T00:00:00\", \"2018-01-30T00:00:00\", \"2018-01-31T00:00:00\", \"2018-02-01T00:00:00\", \"2018-02-02T00:00:00\", \"2018-02-03T00:00:00\", \"2018-02-04T00:00:00\", \"2018-02-05T00:00:00\", \"2018-02-06T00:00:00\", \"2018-02-07T00:00:00\", \"2018-02-08T00:00:00\", \"2018-02-09T00:00:00\", \"2018-02-10T00:00:00\", \"2018-02-11T00:00:00\", \"2018-02-12T00:00:00\", \"2018-02-13T00:00:00\", \"2018-02-14T00:00:00\", \"2018-02-15T00:00:00\", \"2018-02-16T00:00:00\", \"2018-02-17T00:00:00\", \"2018-02-18T00:00:00\", \"2018-02-19T00:00:00\", \"2018-02-20T00:00:00\", \"2018-02-21T00:00:00\", \"2018-02-22T00:00:00\", \"2018-02-23T00:00:00\", \"2018-02-24T00:00:00\", \"2018-02-25T00:00:00\", \"2018-02-26T00:00:00\", \"2018-02-27T00:00:00\", \"2018-02-28T00:00:00\", \"2018-03-01T00:00:00\", \"2018-03-02T00:00:00\", \"2018-03-03T00:00:00\", \"2018-03-04T00:00:00\", \"2018-03-05T00:00:00\", \"2018-03-06T00:00:00\", \"2018-03-07T00:00:00\", \"2018-03-08T00:00:00\", \"2018-03-09T00:00:00\", \"2018-03-10T00:00:00\", \"2018-03-11T00:00:00\", \"2018-03-12T00:00:00\", \"2018-03-13T00:00:00\", \"2018-03-14T00:00:00\", \"2018-03-15T00:00:00\", \"2018-03-16T00:00:00\", \"2018-03-17T00:00:00\", \"2018-03-18T00:00:00\", \"2018-03-19T00:00:00\", \"2018-03-20T00:00:00\", \"2018-03-21T00:00:00\", \"2018-03-22T00:00:00\", \"2018-03-23T00:00:00\", \"2018-03-24T00:00:00\", \"2018-03-25T00:00:00\", \"2018-03-26T00:00:00\", \"2018-03-27T00:00:00\", \"2018-03-28T00:00:00\", \"2018-03-29T00:00:00\", \"2018-03-30T00:00:00\", \"2018-03-31T00:00:00\", \"2018-04-01T00:00:00\", \"2018-04-02T00:00:00\", \"2018-04-03T00:00:00\", \"2018-04-04T00:00:00\", \"2018-04-05T00:00:00\", \"2018-04-06T00:00:00\", \"2018-04-07T00:00:00\", \"2018-04-08T00:00:00\", \"2018-04-09T00:00:00\", \"2018-04-10T00:00:00\", \"2018-04-11T00:00:00\", \"2018-04-12T00:00:00\", \"2018-04-13T00:00:00\", \"2018-04-14T00:00:00\", \"2018-04-15T00:00:00\", \"2018-04-16T00:00:00\", \"2018-04-17T00:00:00\", \"2018-04-18T00:00:00\", \"2018-04-19T00:00:00\", \"2018-04-20T00:00:00\", \"2018-04-21T00:00:00\", \"2018-04-22T00:00:00\", \"2018-04-23T00:00:00\", \"2018-04-24T00:00:00\", \"2018-04-25T00:00:00\", \"2018-04-26T00:00:00\", \"2018-04-27T00:00:00\", \"2018-04-28T00:00:00\", \"2018-04-29T00:00:00\", \"2018-04-30T00:00:00\", \"2018-05-01T00:00:00\", \"2018-05-02T00:00:00\", \"2018-05-03T00:00:00\", \"2018-05-04T00:00:00\", \"2018-05-05T00:00:00\", \"2018-05-06T00:00:00\", \"2018-05-07T00:00:00\", \"2018-05-08T00:00:00\", \"2018-05-09T00:00:00\", \"2018-05-10T00:00:00\", \"2018-05-11T00:00:00\", \"2018-05-12T00:00:00\", \"2018-05-13T00:00:00\", \"2018-05-14T00:00:00\", \"2018-05-15T00:00:00\", \"2018-05-16T00:00:00\", \"2018-05-17T00:00:00\", \"2018-05-18T00:00:00\", \"2018-05-19T00:00:00\", \"2018-05-20T00:00:00\", \"2018-05-21T00:00:00\", \"2018-05-22T00:00:00\", \"2018-05-23T00:00:00\", \"2018-05-24T00:00:00\", \"2018-05-25T00:00:00\", \"2018-05-26T00:00:00\", \"2018-05-27T00:00:00\", \"2018-05-28T00:00:00\", \"2018-05-29T00:00:00\", \"2018-05-30T00:00:00\", \"2018-05-31T00:00:00\", \"2018-06-01T00:00:00\", \"2018-06-02T00:00:00\", \"2018-06-03T00:00:00\", \"2018-06-04T00:00:00\", \"2018-06-05T00:00:00\", \"2018-06-06T00:00:00\", \"2018-06-07T00:00:00\", \"2018-06-08T00:00:00\", \"2018-06-09T00:00:00\", \"2018-06-10T00:00:00\", \"2018-06-11T00:00:00\", \"2018-06-12T00:00:00\", \"2018-06-13T00:00:00\", \"2018-06-14T00:00:00\", \"2018-06-15T00:00:00\", \"2018-06-16T00:00:00\", \"2018-06-17T00:00:00\", \"2018-06-18T00:00:00\", \"2018-06-19T00:00:00\", \"2018-06-20T00:00:00\", \"2018-06-21T00:00:00\", \"2018-06-22T00:00:00\", \"2018-06-23T00:00:00\", \"2018-06-24T00:00:00\", \"2018-06-25T00:00:00\", \"2018-06-26T00:00:00\", \"2018-06-27T00:00:00\", \"2018-06-28T00:00:00\", \"2018-06-29T00:00:00\", \"2018-06-30T00:00:00\", \"2018-07-01T00:00:00\", \"2018-07-02T00:00:00\", \"2018-07-03T00:00:00\", \"2018-07-04T00:00:00\", \"2018-07-05T00:00:00\", \"2018-07-06T00:00:00\", \"2018-07-07T00:00:00\", \"2018-07-08T00:00:00\", \"2018-07-09T00:00:00\", \"2018-07-10T00:00:00\", \"2018-07-11T00:00:00\", \"2018-07-12T00:00:00\", \"2018-07-13T00:00:00\", \"2018-07-14T00:00:00\", \"2018-07-15T00:00:00\", \"2018-07-16T00:00:00\", \"2018-07-17T00:00:00\", \"2018-07-18T00:00:00\", \"2018-07-19T00:00:00\", \"2018-07-20T00:00:00\", \"2018-07-21T00:00:00\", \"2018-07-22T00:00:00\", \"2018-07-23T00:00:00\", \"2018-07-24T00:00:00\", \"2018-07-25T00:00:00\", \"2018-07-26T00:00:00\", \"2018-07-27T00:00:00\", \"2018-07-28T00:00:00\", \"2018-07-29T00:00:00\", \"2018-07-30T00:00:00\", \"2018-07-31T00:00:00\", \"2018-08-01T00:00:00\", \"2018-08-02T00:00:00\", \"2018-08-03T00:00:00\", \"2018-08-04T00:00:00\", \"2018-08-05T00:00:00\", \"2018-08-06T00:00:00\", \"2018-08-07T00:00:00\", \"2018-08-08T00:00:00\", \"2018-08-09T00:00:00\", \"2018-08-10T00:00:00\", \"2018-08-11T00:00:00\", \"2018-08-12T00:00:00\", \"2018-08-13T00:00:00\", \"2018-08-14T00:00:00\", \"2018-08-15T00:00:00\", \"2018-08-16T00:00:00\", \"2018-08-17T00:00:00\", \"2018-08-18T00:00:00\", \"2018-08-19T00:00:00\", \"2018-08-20T00:00:00\", \"2018-08-21T00:00:00\", \"2018-08-22T00:00:00\", \"2018-08-23T00:00:00\", \"2018-08-24T00:00:00\", \"2018-08-25T00:00:00\", \"2018-08-26T00:00:00\", \"2018-08-27T00:00:00\", \"2018-08-28T00:00:00\", \"2018-08-29T00:00:00\", \"2018-08-30T00:00:00\", \"2018-08-31T00:00:00\", \"2018-09-01T00:00:00\", \"2018-09-02T00:00:00\", \"2018-09-03T00:00:00\", \"2018-09-04T00:00:00\", \"2018-09-05T00:00:00\", \"2018-09-06T00:00:00\", \"2018-09-07T00:00:00\", \"2018-09-08T00:00:00\", \"2018-09-09T00:00:00\", \"2018-09-10T00:00:00\", \"2018-09-11T00:00:00\", \"2018-09-12T00:00:00\", \"2018-09-13T00:00:00\", \"2018-09-14T00:00:00\", \"2018-09-15T00:00:00\", \"2018-09-16T00:00:00\", \"2018-09-17T00:00:00\", \"2018-09-18T00:00:00\", \"2018-09-19T00:00:00\", \"2018-09-20T00:00:00\", \"2018-09-21T00:00:00\", \"2018-09-22T00:00:00\", \"2018-09-23T00:00:00\", \"2018-09-24T00:00:00\", \"2018-09-25T00:00:00\", \"2018-09-26T00:00:00\", \"2018-09-27T00:00:00\", \"2018-09-28T00:00:00\", \"2018-09-29T00:00:00\", \"2018-09-30T00:00:00\", \"2018-10-01T00:00:00\", \"2018-10-02T00:00:00\", \"2018-10-03T00:00:00\", \"2018-10-04T00:00:00\", \"2018-10-05T00:00:00\", \"2018-10-06T00:00:00\", \"2018-10-07T00:00:00\", \"2018-10-08T00:00:00\", \"2018-10-09T00:00:00\", \"2018-10-10T00:00:00\", \"2018-10-11T00:00:00\", \"2018-10-12T00:00:00\", \"2018-10-13T00:00:00\", \"2018-10-14T00:00:00\", \"2018-10-15T00:00:00\", \"2018-10-16T00:00:00\", \"2018-10-17T00:00:00\", \"2018-10-18T00:00:00\", \"2018-10-19T00:00:00\", \"2018-10-20T00:00:00\", \"2018-10-21T00:00:00\", \"2018-10-22T00:00:00\", \"2018-10-23T00:00:00\", \"2018-10-24T00:00:00\", \"2018-10-25T00:00:00\", \"2018-10-26T00:00:00\", \"2018-10-27T00:00:00\", \"2018-10-28T00:00:00\", \"2018-10-29T00:00:00\", \"2018-10-30T00:00:00\", \"2018-10-31T00:00:00\", \"2018-11-01T00:00:00\", \"2018-11-02T00:00:00\", \"2018-11-03T00:00:00\", \"2018-11-04T00:00:00\", \"2018-11-05T00:00:00\", \"2018-11-06T00:00:00\", \"2018-11-07T00:00:00\", \"2018-11-08T00:00:00\", \"2018-11-09T00:00:00\", \"2018-11-10T00:00:00\", \"2018-11-11T00:00:00\", \"2018-11-12T00:00:00\", \"2018-11-13T00:00:00\", \"2018-11-14T00:00:00\", \"2018-11-15T00:00:00\", \"2018-11-16T00:00:00\", \"2018-11-17T00:00:00\", \"2018-11-18T00:00:00\", \"2018-11-19T00:00:00\", \"2018-11-20T00:00:00\", \"2018-11-21T00:00:00\", \"2018-11-22T00:00:00\", \"2018-11-23T00:00:00\", \"2018-11-24T00:00:00\", \"2018-11-25T00:00:00\", \"2018-11-26T00:00:00\", \"2018-11-27T00:00:00\", \"2018-11-28T00:00:00\", \"2018-11-29T00:00:00\", \"2018-11-30T00:00:00\", \"2018-12-01T00:00:00\", \"2018-12-02T00:00:00\", \"2018-12-03T00:00:00\", \"2018-12-04T00:00:00\", \"2018-12-05T00:00:00\", \"2018-12-06T00:00:00\", \"2018-12-07T00:00:00\", \"2018-12-08T00:00:00\", \"2018-12-09T00:00:00\", \"2018-12-10T00:00:00\", \"2018-12-11T00:00:00\", \"2018-12-12T00:00:00\", \"2018-12-13T00:00:00\", \"2018-12-14T00:00:00\", \"2018-12-15T00:00:00\", \"2018-12-16T00:00:00\", \"2018-12-17T00:00:00\", \"2018-12-18T00:00:00\", \"2018-12-19T00:00:00\", \"2018-12-20T00:00:00\", \"2018-12-21T00:00:00\", \"2018-12-22T00:00:00\", \"2018-12-23T00:00:00\", \"2018-12-24T00:00:00\", \"2018-12-25T00:00:00\", \"2018-12-26T00:00:00\", \"2018-12-27T00:00:00\", \"2018-12-28T00:00:00\", \"2018-12-29T00:00:00\", \"2018-12-30T00:00:00\", \"2018-12-31T00:00:00\", \"2019-01-01T00:00:00\", \"2019-01-02T00:00:00\", \"2019-01-03T00:00:00\", \"2019-01-04T00:00:00\", \"2019-01-05T00:00:00\", \"2019-01-06T00:00:00\", \"2019-01-07T00:00:00\", \"2019-01-08T00:00:00\", \"2019-01-09T00:00:00\", \"2019-01-10T00:00:00\", \"2019-01-11T00:00:00\", \"2019-01-12T00:00:00\", \"2019-01-13T00:00:00\", \"2019-01-14T00:00:00\", \"2019-01-15T00:00:00\", \"2019-01-16T00:00:00\", \"2019-01-17T00:00:00\", \"2019-01-18T00:00:00\", \"2019-01-19T00:00:00\", \"2019-01-20T00:00:00\", \"2019-01-21T00:00:00\", \"2019-01-22T00:00:00\", \"2019-01-23T00:00:00\", \"2019-01-24T00:00:00\", \"2019-01-25T00:00:00\", \"2019-01-26T00:00:00\", \"2019-01-27T00:00:00\", \"2019-01-28T00:00:00\", \"2019-01-29T00:00:00\", \"2019-01-30T00:00:00\", \"2019-01-31T00:00:00\", \"2019-02-01T00:00:00\", \"2019-02-02T00:00:00\", \"2019-02-03T00:00:00\", \"2019-02-04T00:00:00\", \"2019-02-05T00:00:00\", \"2019-02-06T00:00:00\", \"2019-02-07T00:00:00\", \"2019-02-08T00:00:00\", \"2019-02-09T00:00:00\", \"2019-02-10T00:00:00\", \"2019-02-11T00:00:00\", \"2019-02-12T00:00:00\", \"2019-02-13T00:00:00\", \"2019-02-14T00:00:00\", \"2019-02-15T00:00:00\", \"2019-02-16T00:00:00\", \"2019-02-17T00:00:00\", \"2019-02-18T00:00:00\", \"2019-02-19T00:00:00\", \"2019-02-20T00:00:00\", \"2019-02-21T00:00:00\", \"2019-02-22T00:00:00\", \"2019-02-23T00:00:00\", \"2019-02-24T00:00:00\", \"2019-02-25T00:00:00\", \"2019-02-26T00:00:00\", \"2019-02-27T00:00:00\", \"2019-02-28T00:00:00\", \"2019-03-01T00:00:00\", \"2019-03-02T00:00:00\", \"2019-03-03T00:00:00\", \"2019-03-04T00:00:00\", \"2019-03-05T00:00:00\", \"2019-03-06T00:00:00\", \"2019-03-07T00:00:00\", \"2019-03-08T00:00:00\", \"2019-03-09T00:00:00\", \"2019-03-10T00:00:00\", \"2019-03-11T00:00:00\", \"2019-03-12T00:00:00\", \"2019-03-13T00:00:00\", \"2019-03-14T00:00:00\", \"2019-03-15T00:00:00\", \"2019-03-16T00:00:00\", \"2019-03-17T00:00:00\", \"2019-03-18T00:00:00\", \"2019-03-19T00:00:00\", \"2019-03-20T00:00:00\", \"2019-03-21T00:00:00\", \"2019-03-22T00:00:00\", \"2019-03-23T00:00:00\", \"2019-03-24T00:00:00\", \"2019-03-25T00:00:00\", \"2019-03-26T00:00:00\", \"2019-03-27T00:00:00\", \"2019-03-28T00:00:00\", \"2019-03-29T00:00:00\", \"2019-03-30T00:00:00\", \"2019-03-31T00:00:00\", \"2019-04-01T00:00:00\", \"2019-04-02T00:00:00\", \"2019-04-03T00:00:00\", \"2019-04-04T00:00:00\", \"2019-04-05T00:00:00\", \"2019-04-06T00:00:00\", \"2019-04-07T00:00:00\", \"2019-04-08T00:00:00\", \"2019-04-09T00:00:00\", \"2019-04-10T00:00:00\", \"2019-04-11T00:00:00\", \"2019-04-12T00:00:00\", \"2019-04-13T00:00:00\", \"2019-04-14T00:00:00\", \"2019-04-15T00:00:00\", \"2019-04-16T00:00:00\", \"2019-04-17T00:00:00\", \"2019-04-18T00:00:00\", \"2019-04-19T00:00:00\", \"2019-04-20T00:00:00\", \"2019-04-21T00:00:00\", \"2019-04-22T00:00:00\", \"2019-04-23T00:00:00\", \"2019-04-24T00:00:00\", \"2019-04-25T00:00:00\", \"2019-04-26T00:00:00\", \"2019-04-27T00:00:00\", \"2019-04-28T00:00:00\", \"2019-04-29T00:00:00\", \"2019-04-30T00:00:00\", \"2019-05-01T00:00:00\", \"2019-05-02T00:00:00\", \"2019-05-03T00:00:00\", \"2019-05-04T00:00:00\", \"2019-05-05T00:00:00\", \"2019-05-06T00:00:00\", \"2019-05-07T00:00:00\", \"2019-05-08T00:00:00\", \"2019-05-09T00:00:00\", \"2019-05-10T00:00:00\", \"2019-05-11T00:00:00\", \"2019-05-12T00:00:00\", \"2019-05-13T00:00:00\", \"2019-05-14T00:00:00\", \"2019-05-15T00:00:00\", \"2019-05-16T00:00:00\", \"2019-05-17T00:00:00\", \"2019-05-18T00:00:00\", \"2019-05-19T00:00:00\", \"2019-05-20T00:00:00\", \"2019-05-21T00:00:00\", \"2019-05-22T00:00:00\", \"2019-05-23T00:00:00\", \"2019-05-24T00:00:00\", \"2019-05-25T00:00:00\", \"2019-05-26T00:00:00\", \"2019-05-27T00:00:00\", \"2019-05-28T00:00:00\", \"2019-05-29T00:00:00\", \"2019-05-30T00:00:00\", \"2019-05-31T00:00:00\", \"2019-06-01T00:00:00\", \"2019-06-02T00:00:00\", \"2019-06-03T00:00:00\", \"2019-06-04T00:00:00\", \"2019-06-05T00:00:00\", \"2019-06-06T00:00:00\", \"2019-06-07T00:00:00\", \"2019-06-08T00:00:00\", \"2019-06-09T00:00:00\", \"2019-06-10T00:00:00\", \"2019-06-11T00:00:00\", \"2019-06-12T00:00:00\", \"2019-06-13T00:00:00\", \"2019-06-14T00:00:00\", \"2019-06-15T00:00:00\", \"2019-06-16T00:00:00\", \"2019-06-17T00:00:00\", \"2019-06-18T00:00:00\", \"2019-06-19T00:00:00\", \"2019-06-20T00:00:00\", \"2019-06-21T00:00:00\", \"2019-06-22T00:00:00\", \"2019-06-23T00:00:00\", \"2019-06-24T00:00:00\", \"2019-06-25T00:00:00\", \"2019-06-26T00:00:00\", \"2019-06-27T00:00:00\", \"2019-06-28T00:00:00\", \"2019-06-29T00:00:00\", \"2019-06-30T00:00:00\", \"2019-07-01T00:00:00\", \"2019-07-02T00:00:00\", \"2019-07-03T00:00:00\", \"2019-07-04T00:00:00\", \"2019-07-05T00:00:00\", \"2019-07-06T00:00:00\", \"2019-07-07T00:00:00\", \"2019-07-08T00:00:00\", \"2019-07-09T00:00:00\", \"2019-07-10T00:00:00\", \"2019-07-11T00:00:00\", \"2019-07-12T00:00:00\", \"2019-07-13T00:00:00\", \"2019-07-14T00:00:00\", \"2019-07-15T00:00:00\", \"2019-07-16T00:00:00\", \"2019-07-17T00:00:00\", \"2019-07-18T00:00:00\", \"2019-07-19T00:00:00\", \"2019-07-20T00:00:00\", \"2019-07-21T00:00:00\", \"2019-07-22T00:00:00\", \"2019-07-23T00:00:00\", \"2019-07-24T00:00:00\", \"2019-07-25T00:00:00\", \"2019-07-26T00:00:00\", \"2019-07-27T00:00:00\", \"2019-07-28T00:00:00\", \"2019-07-29T00:00:00\", \"2019-07-30T00:00:00\", \"2019-07-31T00:00:00\", \"2019-08-01T00:00:00\", \"2019-08-02T00:00:00\", \"2019-08-03T00:00:00\", \"2019-08-04T00:00:00\", \"2019-08-05T00:00:00\", \"2019-08-06T00:00:00\", \"2019-08-07T00:00:00\", \"2019-08-08T00:00:00\", \"2019-08-09T00:00:00\", \"2019-08-10T00:00:00\", \"2019-08-11T00:00:00\", \"2019-08-12T00:00:00\"], \"y\": [2906.474215277779, 2803.581750000004, 2715.928694444451, 2653.0482708333398, 2356.7296388888876, 2450.1450486111107, 2555.917826388888, 2566.5587638888933, 2558.1391805555563, 2661.5631666666654, 2712.268812500005, 2680.862333333332, 2718.264888888894, 2657.009215277778, 2559.341569444444, 2464.9203888888896, 2407.794423611114, 2533.6016041666626, 2558.770583333335, 2524.0453819444497, 2462.3251597222225, 2444.7650347222207, 2524.042131944447, 2596.6061319444475, 2569.9141666666737, 2593.83718055556, 2543.1207638888936, 2516.3489097222214, 2539.2847569444484, 2455.0341527777796, 2339.67059722222, 2343.987402777782, 2371.100986111114, 2279.3203333333418, 2073.9353055555507, 1939.7691666666651, 2056.5191180555607, 2280.832284722225, 2311.804187499999, 2492.0011805555505, 2718.66329861111, 2779.7550000000033, 2767.121493055555, 2753.6120972222275, 2624.099263888895, 2499.1164097222277, 2569.3229652777813, 2737.2861944444467, 2718.175916666668, 2675.802902777784, 2760.5994583333304, 2769.700041666668, 2713.936569444449, 2743.284652777787, 2827.005715277781, 3153.660069444449, 3236.0079166666746, 3308.0867569444586, 3416.0661041666613, 3341.188736111121, 3391.8064374999985, 3503.103180555562, 3757.487743055561, 4023.2860000000037, 4167.993833333334, 4167.686743055565, 4166.003368055552, 4345.919243055558, 4228.188402777789, 4055.157333333346, 4060.0714097222326, 4022.7011666666704, 3922.028104166666, 4141.476888888893, 4180.539020833341, 4356.688888888902, 4311.373458333351, 4340.41629861112, 4304.705208333351, 4464.279500000008, 4575.960375000009, 4669.390076388895, 4801.706236111117, 4684.137694444455, 4576.001104166673, 4361.9361666666555, 4252.457069444449, 4528.704993055561, 4584.30025694446, 4482.604402777778, 4292.220722222222, 4180.850256944438, 4210.225687500004, 4253.140652777776, 3934.011493055559, 3624.5376458333308, 3409.156631944439, 3696.292625000008, 3634.360208333341, 3941.1198541666736, 3962.9578749999987, 3937.1915555555534, 3791.3262638888873, 3626.56877777778, 3713.8222499999893, 3695.2018541666625, 3819.9963263888803, 3914.8063263888916, 4035.8797291666588, 4188.612034722216, 4144.9773819444545, 4270.209180555565, 4290.9005902777835, 4395.493111111113, 4311.992895833344, 4249.643597222228, 4255.330979166674, 4359.174444444453, 4351.288687500015, 4495.808520833344, 4643.429222222222, 4811.700548611115, 4787.352048611121, 5114.763875000004, 5618.339881944439, 5666.474111111125, 5610.077659722221, 5673.469020833336, 5625.583124999998, 5402.310152777783, 5654.104562500007, 5788.776069444453, 6073.861624999996, 5910.377895833341, 5869.137208333331, 5659.772756944453, 5547.822833333337, 5826.5624305555675, 5822.675326388888, 5749.922930555566, 5883.7243263888895, 6122.401979166681, 6240.408875000002, 6502.706909722225, 6952.339833333342, 7240.374881944453, 7258.124208333341, 7458.392979166676, 7228.157159722217, 7102.901493055557, 7386.520145833342, 7244.327472222225, 6961.358118055562, 6556.024395833337, 6114.231854166673, 6346.988562500001, 6590.393958333334, 7046.016361111107, 7459.5306875, 7827.064805555566, 7697.005916666671, 7825.9264166666635, 8090.021590277788, 8157.685722222237, 8194.893506944461, 8175.670479166667, 8168.087229166671, 8428.860465277778, 8972.45295138889, 9556.814923611137, 9833.026659722245, 10403.94379166668, 9888.908548611136, 10194.8572638889, 10938.31135416666, 11291.630187499997, 11346.529326388907, 11656.498604166689, 12580.533465277795, 14778.207416666659, 15432.868875000007, 14806.800236111114, 14134.664791666688, 16202.50012500004, 16730.929659722206, 16540.327312500034, 16343.036833333323, 17365.62792361109, 18176.730138888863, 19190.340631944408, 18720.01349999997, 18320.41626388884, 16834.521375000026, 16221.424986111117, 13761.145826388869, 14768.55603472223, 13656.086034722228, 13966.06769444444, 15243.615263888882, 15581.444701388853, 14248.632048611133, 14534.974930555547, 13212.859868055571, 13339.22119444444, 13425.415124999998, 13879.358895833342, 14963.699340277786, 14818.780319444424, 15792.452506944403, 16666.922951388857, 16517.014097222225, 15300.74915277776, 14868.201201388889, 14194.688409722214, 13697.100145833341, 13661.494569444449, 14224.945451388912, 13679.928909722257, 13821.277097222206, 12164.619152777768, 10680.231659722216, 11495.746736111108, 11513.536416666664, 12471.649145833333, 11895.589819444449, 11131.135819444438, 10724.710277777793, 11007.914437500012, 11300.592097222247, 11011.94201388889, 11238.782944444469, 11673.103618055535, 11283.896194444453, 10628.612597222236, 9987.00209722223, 9497.750625000028, 8558.503076388899, 8912.281611111122, 8722.604465277787, 7611.722958333325, 6828.462006944439, 7914.380222222217, 8216.322486111098, 8261.487381944451, 8656.487229166652, 8188.491090277783, 8624.076937500005, 8609.80722222223, 9025.642687500025, 9803.039104166684, 10025.99250694445, 10677.811173611124, 10737.341631944453, 10867.436395833349, 11498.189631944457, 10791.702006944444, 10272.655520833341, 10013.161215277789, 9931.702569444478, 9595.83642361113, 9910.592527777806, 10552.671340277788, 10621.063326388921, 10650.838465277793, 10980.791097222265, 11344.269083333334, 11242.097152777793, 11520.930465277766, 11021.738861111102, 10399.997006944468, 9705.391458333352, 8907.997486111099, 9236.650131944436, 9058.136361111123, 9436.36200694445, 9155.890388888914, 8769.349694444441, 8112.515770833351, 8315.006604166676, 8079.593062500001, 7679.651055555559, 8355.255979166664, 8622.49709722222, 8983.081652777786, 8793.326687500008, 8529.94406944445, 8857.918083333345, 8535.650166666666, 8208.19347916669, 7965.760694444459, 7916.943312500011, 7518.686965277791, 6888.176854166671, 7005.669125000011, 6797.412069444436, 6978.018000000003, 7325.304333333331, 7077.711673611102, 6758.105076388888, 6649.452291666674, 6891.6737638889, 6988.428743055562, 6891.471624999996, 6779.244319444467, 6879.948687500013, 7336.708215277788, 7992.690451388897, 8010.872291666685, 8215.487236111117, 8080.020305555557, 8036.633618055566, 8057.3129930555615, 8213.267708333358, 8445.635604166675, 8800.278312499991, 8888.387819444462, 8895.62331249999, 9314.519125000023, 9221.040361111107, 8883.210298611131, 9217.02084722222, 9240.572972222244, 9356.157784722249, 9290.616041666668, 8988.595694444466, 9112.689791666677, 9379.656666666657, 9656.508229166666, 9829.181138888915, 9615.699180555568, 9344.100527777799, 9260.790923611114, 9193.325472222248, 9265.502951388902, 8701.556430555573, 8423.31487500004, 8550.491187500027, 8581.468430555582, 8642.09697222224, 8282.705625000013, 8277.959930555586, 8106.672548611127, 8254.920923611124, 8361.972944444464, 8455.092916666694, 8233.2557916667, 7784.575402777791, 7538.571881944487, 7486.668048611141, 7490.143826388919, 7317.306069444448, 7255.434381944465, 7293.893402777787, 7432.491090277765, 7500.117368055571, 7481.193180555582, 7597.247354166683, 7690.673791666691, 7575.316763888909, 7491.722708333352, 7606.389534722249, 7692.524618055574, 7629.560597222222, 7630.158000000005, 7133.649305555566, 6760.716284722224, 6754.097347222223, 6443.017722222231, 6501.825152777797, 6550.993312499992, 6462.630548611125, 6509.097465277774, 6522.887597222218, 6718.137923611121, 6680.922951388888, 6736.712444444453, 6359.654034722214, 6135.97526388889, 6024.7279027777895, 6203.3115555555705, 6201.928152777776, 6096.063604166686, 6082.033944444458, 5903.817749999997, 6363.47595833333, 6350.025388888889, 6453.064812500014, 6596.762625000031, 6571.150868055561, 6581.060631944442, 6541.890631944446, 6573.3242361111, 6739.136618055562, 6705.734666666673, 6480.4565208333415, 6354.405493055556, 6219.166937500008, 6236.785770833367, 6236.172256944462, 6318.537784722239, 6521.181465277782, 6877.720881944445, 7402.712555555563, 7390.11466666668, 7420.562833333363, 7347.857055555567, 7448.0036597222515, 7679.556715277796, 8071.491902777785, 8253.59904166666, 8196.509159722247, 8021.516604166678, 8179.995840277793, 8202.688618055583, 8133.9497777778, 7915.115548611122, 7569.98511111112, 7590.178583333349, 7394.100701388909, 7248.6566458333655, 6995.644215277812, 6987.8438472222315, 6986.739444444467, 6444.725208333348, 6394.324194444451, 6394.919993055561, 6188.136972222216, 6304.35070833334, 6345.708180555566, 6056.106715277783, 6369.123708333329, 6344.468576388896, 6466.790055555574, 6446.211965277772, 6397.762687500009, 6444.960090277811, 6399.587041666682, 6579.496944444452, 6433.5398680555545, 6551.867993055588, 6713.861659722258, 6669.950659722236, 6712.779381944449, 6986.976090277787, 7049.229027777782, 6929.053499999996, 6979.79039583335, 7105.35293750002, 7239.421576388906, 7259.906249999994, 7322.047874999996, 7125.833812499998, 6421.734145833346, 6443.361534722262, 6360.320930555571, 6289.750152777783, 6287.392875000001, 6290.2325902777875, 6268.183465277798, 6440.572034722228, 6500.248395833359, 6519.018743055587, 6484.170666666674, 6398.048562500014, 6295.923305555575, 6336.486597222232, 6411.717736111115, 6658.61240972222, 6705.587187499994, 6706.800166666679, 6638.184479166654, 6413.125020833338, 6461.356423611127, 6520.746958333349, 6665.077402777776, 6539.937986111108, 6577.550055555549, 6574.940298611117, 6541.682701388867, 6447.232340277765, 6547.230777777762, 6544.547159722216, 6556.2918263888805, 6533.511180555536, 6586.734770833344, 6587.5929722221945, 6517.042173611102, 6213.507291666667, 6201.429923611101, 6196.307437500009, 6225.605215277768, 6368.968388888887, 6437.686604166653, 6438.604631944451, 6427.5492222222265, 6385.541597222227, 6396.777493055575, 6433.669687499999, 6405.4003749999765, 6395.747611111114, 6425.273986111101, 6400.467819444443, 6400.76842361109, 6407.05902083333, 6402.554041666676, 6329.9985763889, 6264.565631944463, 6277.430083333336, 6310.56606249998, 6351.960548611104, 6333.967756944455, 6364.34178472219, 6404.680194444427, 6412.868326388882, 6506.8773680555605, 6449.525041666662, 6365.883486111105, 6354.911069444451, 6339.537944444456, 6350.976541666664, 6290.059034722227, 6019.894937499998, 5494.714520833338, 5530.675125000012, 5485.194152777787, 5534.090277777771, 5203.1593819444415, 4531.132569444447, 4447.252770833336, 4468.593826388887, 4248.508673611109, 4203.4345069444435, 3756.95189583334, 3850.8809305555556, 3702.9673125000036, 4057.7619513888876, 4224.60156944445, 4075.2327916666695, 4078.2717500000003, 4120.349090277774, 3924.919868055556, 3904.986423611119, 3802.7635277777786, 3694.9691111111147, 3360.1898402777783, 3384.9175000000073, 3468.0102222222245, 3468.8128611111065, 3365.570430555562, 3397.2696736111166, 3360.91896527778, 3233.8725902777715, 3180.2247847222225, 3217.120479166661, 3333.074319444453, 3508.6461597222205, 3748.380458333341, 3923.0398263888833, 3972.550958333326, 3851.8717222222185, 3978.132437499989, 4125.493027777772, 3773.2280555555553, 3779.5463055555515, 3717.7947291666655, 3700.835333333332, 3873.5531736111043, 3788.032055555552, 3757.3624166666555, 3700.3265972222234, 3823.112729166656, 3830.1849722222178, 3785.05104861111, 3834.452138888893, 3874.5452152777775, 4022.664298611106, 4006.257034722222, 4010.7763958333285, 3795.507187500005, 3636.7025416666634, 3626.5706319444425, 3580.619624999998, 3580.005486111115, 3641.574458333333, 3603.472229166661, 3602.951118055559, 3615.6680555555517, 3671.6374999999907, 3607.2373958333274, 3535.8616458333254, 3551.567465277765, 3569.4726805555633, 3553.9397777777735, 3557.15230555555, 3571.367611111122, 3545.671416666666, 3438.032173611103, 3398.639076388891, 3423.095763888887, 3424.856152777782, 3416.3658680555586, 3431.8366666666716, 3425.4384861111216, 3414.204527777778, 3419.36813888888, 3371.575750000001, 3366.4235208333366, 3451.4933402777733, 3614.884708333324, 3608.1552916666656, 3595.2006875, 3577.8480416666685, 3582.285694444439, 3569.1406111111155, 3570.4032013888955, 3587.6629097222267, 3585.4940555555586, 3756.019819444445, 3900.652402777775, 3910.843916666662, 3906.7272222222296, 3925.343680555563, 3980.2158541666718, 3989.5767638888838, 3792.778916666669, 3799.9307777777794, 3795.3566597222207, 3810.278263888891, 3813.27386805555, 3805.279194444444, 3801.456263888886, 3725.0505902777822, 3765.770388888884, 3838.784395833329, 3861.3823194444494, 3871.895409722215, 3889.980624999997, 3893.019138888882, 3864.6125624999936, 3847.294444444448, 3853.5086458333462, 3850.2652013888824, 3877.4722777777793, 3978.552020833331, 3963.1048819444545, 3969.4853958333247, 3977.0401319444522, 3995.406333333329, 4005.9583888888824, 3981.5695555555526, 3980.761215277784, 3968.612951388893, 3949.801881944454, 3908.431326388902, 3993.995347222206, 4009.194069444443, 4057.541465277782, 4083.772388888892, 4088.348868055553, 4125.548659722221, 4647.141729166669, 5038.50502083333, 4971.659173611101, 4981.012118055559, 5042.754319444438, 5128.465159722207, 5241.546451388895, 5221.413534722217, 5270.475166666668, 5129.761715277781, 5047.637659722214, 5084.51536805556, 5078.802409722226, 5122.114104166673, 5098.620062500001, 5218.718937499994, 5263.983847222229, 5259.1587361111115, 5313.275881944437, 5288.680506944438, 5317.52523611111, 5531.954173611113, 5486.831687500015, 5423.299951388892, 5149.682201388893, 5165.260756944446, 5169.915263888891, 5154.869499999995, 5199.331576388891, 5303.564006944443, 5360.945784722242, 5617.309986111107, 5694.244680555553, 5721.58211805556, 5656.3270069444425, 5863.695777777779, 5843.870868055555, 6047.245256944443, 6290.585555555554, 6806.6770625000045, 7155.474208333327, 7408.98296527779, 7993.158020833342, 8054.80577777778, 7993.707881944452, 7263.197819444444, 7326.348763888892, 7934.045673611123, 7906.761131944451, 7952.989784722219, 7890.863298611112, 7703.517611111119, 7983.823395833333, 8045.214743055539, 8125.428284722212, 8782.527847222222, 8726.034833333331, 8646.49276388888, 8631.68847916668, 8350.288833333312, 8542.015763888876, 8668.05993750001, 8531.08584722222, 7851.133666666666, 7771.943777777767, 7751.1627916666675, 7938.752041666664, 7941.170618055555, 7799.946125000009, 7820.271444444434, 7897.226569444459, 8036.859090277781, 8169.982472222209, 8353.574541666672, 8727.897222222222, 9096.019243055567, 9236.642777777772, 9153.257826388888, 9148.226562500011, 9353.45185416665, 9802.451152777776, 10725.602312500023, 10747.117999999991, 10844.867333333319, 11314.388562500011, 12643.553618055552, 11803.958812500003, 11678.356861111108, 11850.858194444452, 11540.011777777765, 10687.819687499998, 10305.094118055564, 11345.892000000002, 11760.026750000003, 11141.252972222204, 11416.435701388893, 11311.678444444451, 11794.189805555567, 12514.21774305554, 12649.908881944439, 11584.54125000001, 11585.792416666667, 11430.236854166653, 10860.6743263889, 10419.180666666702, 10356.278006944454, 9577.303708333347, 10053.263270833328, 10473.079361111104, 10680.938881944432, 10578.370826388895, 10451.459284722223, 10071.961000000008, 9703.44240277778, 10023.55200000002, 9775.523166666679, 9731.698895833339, 9486.49152083333, 9541.105833333348, 9541.569750000022, 9857.407680555563, 10085.621541666671, 10475.718763888879, 10785.766958333332, 10820.892229166655, 11676.32672916666, 11758.30978472223, 11712.383777777764, 11802.534583333349, 11820.873673611108, 11582.249006944416, 11379.078881944437, 11520.0]}, {\"marker\": {\"color\": \"rgba(115, 120, 235, 0.5)\"}, \"mode\": \"lines\", \"name\": \"Predicted\", \"type\": \"scatter\", \"x\": [\"2017-06-11T00:00:00\", \"2017-06-12T00:00:00\", \"2017-06-13T00:00:00\", \"2017-06-14T00:00:00\", \"2017-06-15T00:00:00\", \"2017-06-16T00:00:00\", \"2017-06-17T00:00:00\", \"2017-06-18T00:00:00\", \"2017-06-19T00:00:00\", \"2017-06-20T00:00:00\", \"2017-06-21T00:00:00\", \"2017-06-22T00:00:00\", \"2017-06-23T00:00:00\", \"2017-06-24T00:00:00\", \"2017-06-25T00:00:00\", \"2017-06-26T00:00:00\", \"2017-06-27T00:00:00\", \"2017-06-28T00:00:00\", \"2017-06-29T00:00:00\", \"2017-06-30T00:00:00\", \"2017-07-01T00:00:00\", \"2017-07-02T00:00:00\", \"2017-07-03T00:00:00\", \"2017-07-04T00:00:00\", \"2017-07-05T00:00:00\", \"2017-07-06T00:00:00\", \"2017-07-07T00:00:00\", \"2017-07-08T00:00:00\", \"2017-07-09T00:00:00\", \"2017-07-10T00:00:00\", \"2017-07-11T00:00:00\", \"2017-07-12T00:00:00\", \"2017-07-13T00:00:00\", \"2017-07-14T00:00:00\", \"2017-07-15T00:00:00\", \"2017-07-16T00:00:00\", \"2017-07-17T00:00:00\", \"2017-07-18T00:00:00\", \"2017-07-19T00:00:00\", \"2017-07-20T00:00:00\", \"2017-07-21T00:00:00\", \"2017-07-22T00:00:00\", \"2017-07-23T00:00:00\", \"2017-07-24T00:00:00\", \"2017-07-25T00:00:00\", \"2017-07-26T00:00:00\", \"2017-07-27T00:00:00\", \"2017-07-28T00:00:00\", \"2017-07-29T00:00:00\", \"2017-07-30T00:00:00\", \"2017-07-31T00:00:00\", \"2017-08-01T00:00:00\", \"2017-08-02T00:00:00\", \"2017-08-03T00:00:00\", \"2017-08-04T00:00:00\", \"2017-08-05T00:00:00\", \"2017-08-06T00:00:00\", \"2017-08-07T00:00:00\", \"2017-08-08T00:00:00\", \"2017-08-09T00:00:00\", \"2017-08-10T00:00:00\", \"2017-08-11T00:00:00\", \"2017-08-12T00:00:00\", \"2017-08-13T00:00:00\", \"2017-08-14T00:00:00\", \"2017-08-15T00:00:00\", \"2017-08-16T00:00:00\", \"2017-08-17T00:00:00\", \"2017-08-18T00:00:00\", \"2017-08-19T00:00:00\", \"2017-08-20T00:00:00\", \"2017-08-21T00:00:00\", \"2017-08-22T00:00:00\", \"2017-08-23T00:00:00\", \"2017-08-24T00:00:00\", \"2017-08-25T00:00:00\", \"2017-08-26T00:00:00\", \"2017-08-27T00:00:00\", \"2017-08-28T00:00:00\", \"2017-08-29T00:00:00\", \"2017-08-30T00:00:00\", \"2017-08-31T00:00:00\", \"2017-09-01T00:00:00\", \"2017-09-02T00:00:00\", \"2017-09-03T00:00:00\", \"2017-09-04T00:00:00\", \"2017-09-05T00:00:00\", \"2017-09-06T00:00:00\", \"2017-09-07T00:00:00\", \"2017-09-08T00:00:00\", \"2017-09-09T00:00:00\", \"2017-09-10T00:00:00\", \"2017-09-11T00:00:00\", \"2017-09-12T00:00:00\", \"2017-09-13T00:00:00\", \"2017-09-14T00:00:00\", \"2017-09-15T00:00:00\", \"2017-09-16T00:00:00\", \"2017-09-17T00:00:00\", \"2017-09-18T00:00:00\", \"2017-09-19T00:00:00\", \"2017-09-20T00:00:00\", \"2017-09-21T00:00:00\", \"2017-09-22T00:00:00\", \"2017-09-23T00:00:00\", \"2017-09-24T00:00:00\", \"2017-09-25T00:00:00\", \"2017-09-26T00:00:00\", \"2017-09-27T00:00:00\", \"2017-09-28T00:00:00\", \"2017-09-29T00:00:00\", \"2017-09-30T00:00:00\", \"2017-10-01T00:00:00\", \"2017-10-02T00:00:00\", \"2017-10-03T00:00:00\", \"2017-10-04T00:00:00\", \"2017-10-05T00:00:00\", \"2017-10-06T00:00:00\", \"2017-10-07T00:00:00\", \"2017-10-08T00:00:00\", \"2017-10-09T00:00:00\", \"2017-10-10T00:00:00\", \"2017-10-11T00:00:00\", \"2017-10-12T00:00:00\", \"2017-10-13T00:00:00\", \"2017-10-14T00:00:00\", \"2017-10-15T00:00:00\", \"2017-10-16T00:00:00\", \"2017-10-17T00:00:00\", \"2017-10-18T00:00:00\", \"2017-10-19T00:00:00\", \"2017-10-20T00:00:00\", \"2017-10-21T00:00:00\", \"2017-10-22T00:00:00\", \"2017-10-23T00:00:00\", \"2017-10-24T00:00:00\", \"2017-10-25T00:00:00\", \"2017-10-26T00:00:00\", \"2017-10-27T00:00:00\", \"2017-10-28T00:00:00\", \"2017-10-29T00:00:00\", \"2017-10-30T00:00:00\", \"2017-10-31T00:00:00\", \"2017-11-01T00:00:00\", \"2017-11-02T00:00:00\", \"2017-11-03T00:00:00\", \"2017-11-04T00:00:00\", \"2017-11-05T00:00:00\", \"2017-11-06T00:00:00\", \"2017-11-07T00:00:00\", \"2017-11-08T00:00:00\", \"2017-11-09T00:00:00\", \"2017-11-10T00:00:00\", \"2017-11-11T00:00:00\", \"2017-11-12T00:00:00\", \"2017-11-13T00:00:00\", \"2017-11-14T00:00:00\", \"2017-11-15T00:00:00\", \"2017-11-16T00:00:00\", \"2017-11-17T00:00:00\", \"2017-11-18T00:00:00\", \"2017-11-19T00:00:00\", \"2017-11-20T00:00:00\", \"2017-11-21T00:00:00\", \"2017-11-22T00:00:00\", \"2017-11-23T00:00:00\", \"2017-11-24T00:00:00\", \"2017-11-25T00:00:00\", \"2017-11-26T00:00:00\", \"2017-11-27T00:00:00\", \"2017-11-28T00:00:00\", \"2017-11-29T00:00:00\", \"2017-11-30T00:00:00\", \"2017-12-01T00:00:00\", \"2017-12-02T00:00:00\", \"2017-12-03T00:00:00\", \"2017-12-04T00:00:00\", \"2017-12-05T00:00:00\", \"2017-12-06T00:00:00\", \"2017-12-07T00:00:00\", \"2017-12-08T00:00:00\", \"2017-12-09T00:00:00\", \"2017-12-10T00:00:00\", \"2017-12-11T00:00:00\", \"2017-12-12T00:00:00\", \"2017-12-13T00:00:00\", \"2017-12-14T00:00:00\", \"2017-12-15T00:00:00\", \"2017-12-16T00:00:00\", \"2017-12-17T00:00:00\", \"2017-12-18T00:00:00\", \"2017-12-19T00:00:00\", \"2017-12-20T00:00:00\", \"2017-12-21T00:00:00\", \"2017-12-22T00:00:00\", \"2017-12-23T00:00:00\", \"2017-12-24T00:00:00\", \"2017-12-25T00:00:00\", \"2017-12-26T00:00:00\", \"2017-12-27T00:00:00\", \"2017-12-28T00:00:00\", \"2017-12-29T00:00:00\", \"2017-12-30T00:00:00\", \"2017-12-31T00:00:00\", \"2018-01-01T00:00:00\", \"2018-01-02T00:00:00\", \"2018-01-03T00:00:00\", \"2018-01-04T00:00:00\", \"2018-01-05T00:00:00\", \"2018-01-06T00:00:00\", \"2018-01-07T00:00:00\", \"2018-01-08T00:00:00\", \"2018-01-09T00:00:00\", \"2018-01-10T00:00:00\", \"2018-01-11T00:00:00\", \"2018-01-12T00:00:00\", \"2018-01-13T00:00:00\", \"2018-01-14T00:00:00\", \"2018-01-15T00:00:00\", \"2018-01-16T00:00:00\", \"2018-01-17T00:00:00\", \"2018-01-18T00:00:00\", \"2018-01-19T00:00:00\", \"2018-01-20T00:00:00\", \"2018-01-21T00:00:00\", \"2018-01-22T00:00:00\", \"2018-01-23T00:00:00\", \"2018-01-24T00:00:00\", \"2018-01-25T00:00:00\", \"2018-01-26T00:00:00\", \"2018-01-27T00:00:00\", \"2018-01-28T00:00:00\", \"2018-01-29T00:00:00\", \"2018-01-30T00:00:00\", \"2018-01-31T00:00:00\", \"2018-02-01T00:00:00\", \"2018-02-02T00:00:00\", \"2018-02-03T00:00:00\", \"2018-02-04T00:00:00\", \"2018-02-05T00:00:00\", \"2018-02-06T00:00:00\", \"2018-02-07T00:00:00\", \"2018-02-08T00:00:00\", \"2018-02-09T00:00:00\", \"2018-02-10T00:00:00\", \"2018-02-11T00:00:00\", \"2018-02-12T00:00:00\", \"2018-02-13T00:00:00\", \"2018-02-14T00:00:00\", \"2018-02-15T00:00:00\", \"2018-02-16T00:00:00\", \"2018-02-17T00:00:00\", \"2018-02-18T00:00:00\", \"2018-02-19T00:00:00\", \"2018-02-20T00:00:00\", \"2018-02-21T00:00:00\", \"2018-02-22T00:00:00\", \"2018-02-23T00:00:00\", \"2018-02-24T00:00:00\", \"2018-02-25T00:00:00\", \"2018-02-26T00:00:00\", \"2018-02-27T00:00:00\", \"2018-02-28T00:00:00\", \"2018-03-01T00:00:00\", \"2018-03-02T00:00:00\", \"2018-03-03T00:00:00\", \"2018-03-04T00:00:00\", \"2018-03-05T00:00:00\", \"2018-03-06T00:00:00\", \"2018-03-07T00:00:00\", \"2018-03-08T00:00:00\", \"2018-03-09T00:00:00\", \"2018-03-10T00:00:00\", \"2018-03-11T00:00:00\", \"2018-03-12T00:00:00\", \"2018-03-13T00:00:00\", \"2018-03-14T00:00:00\", \"2018-03-15T00:00:00\", \"2018-03-16T00:00:00\", \"2018-03-17T00:00:00\", \"2018-03-18T00:00:00\", \"2018-03-19T00:00:00\", \"2018-03-20T00:00:00\", \"2018-03-21T00:00:00\", \"2018-03-22T00:00:00\", \"2018-03-23T00:00:00\", \"2018-03-24T00:00:00\", \"2018-03-25T00:00:00\", \"2018-03-26T00:00:00\", \"2018-03-27T00:00:00\", \"2018-03-28T00:00:00\", \"2018-03-29T00:00:00\", \"2018-03-30T00:00:00\", \"2018-03-31T00:00:00\", \"2018-04-01T00:00:00\", \"2018-04-02T00:00:00\", \"2018-04-03T00:00:00\", \"2018-04-04T00:00:00\", \"2018-04-05T00:00:00\", \"2018-04-06T00:00:00\", \"2018-04-07T00:00:00\", \"2018-04-08T00:00:00\", \"2018-04-09T00:00:00\", \"2018-04-10T00:00:00\", \"2018-04-11T00:00:00\", \"2018-04-12T00:00:00\", \"2018-04-13T00:00:00\", \"2018-04-14T00:00:00\", \"2018-04-15T00:00:00\", \"2018-04-16T00:00:00\", \"2018-04-17T00:00:00\", \"2018-04-18T00:00:00\", \"2018-04-19T00:00:00\", \"2018-04-20T00:00:00\", \"2018-04-21T00:00:00\", \"2018-04-22T00:00:00\", \"2018-04-23T00:00:00\", \"2018-04-24T00:00:00\", \"2018-04-25T00:00:00\", \"2018-04-26T00:00:00\", \"2018-04-27T00:00:00\", \"2018-04-28T00:00:00\", \"2018-04-29T00:00:00\", \"2018-04-30T00:00:00\", \"2018-05-01T00:00:00\", \"2018-05-02T00:00:00\", \"2018-05-03T00:00:00\", \"2018-05-04T00:00:00\", \"2018-05-05T00:00:00\", \"2018-05-06T00:00:00\", \"2018-05-07T00:00:00\", \"2018-05-08T00:00:00\", \"2018-05-09T00:00:00\", \"2018-05-10T00:00:00\", \"2018-05-11T00:00:00\", \"2018-05-12T00:00:00\", \"2018-05-13T00:00:00\", \"2018-05-14T00:00:00\", \"2018-05-15T00:00:00\", \"2018-05-16T00:00:00\", \"2018-05-17T00:00:00\", \"2018-05-18T00:00:00\", \"2018-05-19T00:00:00\", \"2018-05-20T00:00:00\", \"2018-05-21T00:00:00\", \"2018-05-22T00:00:00\", \"2018-05-23T00:00:00\", \"2018-05-24T00:00:00\", \"2018-05-25T00:00:00\", \"2018-05-26T00:00:00\", \"2018-05-27T00:00:00\", \"2018-05-28T00:00:00\", \"2018-05-29T00:00:00\", \"2018-05-30T00:00:00\", \"2018-05-31T00:00:00\", \"2018-06-01T00:00:00\", \"2018-06-02T00:00:00\", \"2018-06-03T00:00:00\", \"2018-06-04T00:00:00\", \"2018-06-05T00:00:00\", \"2018-06-06T00:00:00\", \"2018-06-07T00:00:00\", \"2018-06-08T00:00:00\", \"2018-06-09T00:00:00\", \"2018-06-10T00:00:00\", \"2018-06-11T00:00:00\", \"2018-06-12T00:00:00\", \"2018-06-13T00:00:00\", \"2018-06-14T00:00:00\", \"2018-06-15T00:00:00\", \"2018-06-16T00:00:00\", \"2018-06-17T00:00:00\", \"2018-06-18T00:00:00\", \"2018-06-19T00:00:00\", \"2018-06-20T00:00:00\", \"2018-06-21T00:00:00\", \"2018-06-22T00:00:00\", \"2018-06-23T00:00:00\", \"2018-06-24T00:00:00\", \"2018-06-25T00:00:00\", \"2018-06-26T00:00:00\", \"2018-06-27T00:00:00\", \"2018-06-28T00:00:00\", \"2018-06-29T00:00:00\", \"2018-06-30T00:00:00\", \"2018-07-01T00:00:00\", \"2018-07-02T00:00:00\", \"2018-07-03T00:00:00\", \"2018-07-04T00:00:00\", \"2018-07-05T00:00:00\", \"2018-07-06T00:00:00\", \"2018-07-07T00:00:00\", \"2018-07-08T00:00:00\", \"2018-07-09T00:00:00\", \"2018-07-10T00:00:00\", \"2018-07-11T00:00:00\", \"2018-07-12T00:00:00\", \"2018-07-13T00:00:00\", \"2018-07-14T00:00:00\", \"2018-07-15T00:00:00\", \"2018-07-16T00:00:00\", \"2018-07-17T00:00:00\", \"2018-07-18T00:00:00\", \"2018-07-19T00:00:00\", \"2018-07-20T00:00:00\", \"2018-07-21T00:00:00\", \"2018-07-22T00:00:00\", \"2018-07-23T00:00:00\", \"2018-07-24T00:00:00\", \"2018-07-25T00:00:00\", \"2018-07-26T00:00:00\", \"2018-07-27T00:00:00\", \"2018-07-28T00:00:00\", \"2018-07-29T00:00:00\", \"2018-07-30T00:00:00\", \"2018-07-31T00:00:00\", \"2018-08-01T00:00:00\", \"2018-08-02T00:00:00\", \"2018-08-03T00:00:00\", \"2018-08-04T00:00:00\", \"2018-08-05T00:00:00\", \"2018-08-06T00:00:00\", \"2018-08-07T00:00:00\", \"2018-08-08T00:00:00\", \"2018-08-09T00:00:00\", \"2018-08-10T00:00:00\", \"2018-08-11T00:00:00\", \"2018-08-12T00:00:00\", \"2018-08-13T00:00:00\", \"2018-08-14T00:00:00\", \"2018-08-15T00:00:00\", \"2018-08-16T00:00:00\", \"2018-08-17T00:00:00\", \"2018-08-18T00:00:00\", \"2018-08-19T00:00:00\", \"2018-08-20T00:00:00\", \"2018-08-21T00:00:00\", \"2018-08-22T00:00:00\", \"2018-08-23T00:00:00\", \"2018-08-24T00:00:00\", \"2018-08-25T00:00:00\", \"2018-08-26T00:00:00\", \"2018-08-27T00:00:00\", \"2018-08-28T00:00:00\", \"2018-08-29T00:00:00\", \"2018-08-30T00:00:00\", \"2018-08-31T00:00:00\", \"2018-09-01T00:00:00\", \"2018-09-02T00:00:00\", \"2018-09-03T00:00:00\", \"2018-09-04T00:00:00\", \"2018-09-05T00:00:00\", \"2018-09-06T00:00:00\", \"2018-09-07T00:00:00\", \"2018-09-08T00:00:00\", \"2018-09-09T00:00:00\", \"2018-09-10T00:00:00\", \"2018-09-11T00:00:00\", \"2018-09-12T00:00:00\", \"2018-09-13T00:00:00\", \"2018-09-14T00:00:00\", \"2018-09-15T00:00:00\", \"2018-09-16T00:00:00\", \"2018-09-17T00:00:00\", \"2018-09-18T00:00:00\", \"2018-09-19T00:00:00\", \"2018-09-20T00:00:00\", \"2018-09-21T00:00:00\", \"2018-09-22T00:00:00\", \"2018-09-23T00:00:00\", \"2018-09-24T00:00:00\", \"2018-09-25T00:00:00\", \"2018-09-26T00:00:00\", \"2018-09-27T00:00:00\", \"2018-09-28T00:00:00\", \"2018-09-29T00:00:00\", \"2018-09-30T00:00:00\", \"2018-10-01T00:00:00\", \"2018-10-02T00:00:00\", \"2018-10-03T00:00:00\", \"2018-10-04T00:00:00\", \"2018-10-05T00:00:00\", \"2018-10-06T00:00:00\", \"2018-10-07T00:00:00\", \"2018-10-08T00:00:00\", \"2018-10-09T00:00:00\", \"2018-10-10T00:00:00\", \"2018-10-11T00:00:00\", \"2018-10-12T00:00:00\", \"2018-10-13T00:00:00\", \"2018-10-14T00:00:00\", \"2018-10-15T00:00:00\", \"2018-10-16T00:00:00\", \"2018-10-17T00:00:00\", \"2018-10-18T00:00:00\", \"2018-10-19T00:00:00\", \"2018-10-20T00:00:00\", \"2018-10-21T00:00:00\", \"2018-10-22T00:00:00\", \"2018-10-23T00:00:00\", \"2018-10-24T00:00:00\", \"2018-10-25T00:00:00\", \"2018-10-26T00:00:00\", \"2018-10-27T00:00:00\", \"2018-10-28T00:00:00\", \"2018-10-29T00:00:00\", \"2018-10-30T00:00:00\", \"2018-10-31T00:00:00\", \"2018-11-01T00:00:00\", \"2018-11-02T00:00:00\", \"2018-11-03T00:00:00\", \"2018-11-04T00:00:00\", \"2018-11-05T00:00:00\", \"2018-11-06T00:00:00\", \"2018-11-07T00:00:00\", \"2018-11-08T00:00:00\", \"2018-11-09T00:00:00\", \"2018-11-10T00:00:00\", \"2018-11-11T00:00:00\", \"2018-11-12T00:00:00\", \"2018-11-13T00:00:00\", \"2018-11-14T00:00:00\", \"2018-11-15T00:00:00\", \"2018-11-16T00:00:00\", \"2018-11-17T00:00:00\", \"2018-11-18T00:00:00\", \"2018-11-19T00:00:00\", \"2018-11-20T00:00:00\", \"2018-11-21T00:00:00\", \"2018-11-22T00:00:00\", \"2018-11-23T00:00:00\", \"2018-11-24T00:00:00\", \"2018-11-25T00:00:00\", \"2018-11-26T00:00:00\", \"2018-11-27T00:00:00\", \"2018-11-28T00:00:00\", \"2018-11-29T00:00:00\", \"2018-11-30T00:00:00\", \"2018-12-01T00:00:00\", \"2018-12-02T00:00:00\", \"2018-12-03T00:00:00\", \"2018-12-04T00:00:00\", \"2018-12-05T00:00:00\", \"2018-12-06T00:00:00\", \"2018-12-07T00:00:00\", \"2018-12-08T00:00:00\", \"2018-12-09T00:00:00\", \"2018-12-10T00:00:00\", \"2018-12-11T00:00:00\", \"2018-12-12T00:00:00\", \"2018-12-13T00:00:00\", \"2018-12-14T00:00:00\", \"2018-12-15T00:00:00\", \"2018-12-16T00:00:00\", \"2018-12-17T00:00:00\", \"2018-12-18T00:00:00\", \"2018-12-19T00:00:00\", \"2018-12-20T00:00:00\", \"2018-12-21T00:00:00\", \"2018-12-22T00:00:00\", \"2018-12-23T00:00:00\", \"2018-12-24T00:00:00\", \"2018-12-25T00:00:00\", \"2018-12-26T00:00:00\", \"2018-12-27T00:00:00\", \"2018-12-28T00:00:00\", \"2018-12-29T00:00:00\", \"2018-12-30T00:00:00\", \"2018-12-31T00:00:00\", \"2019-01-01T00:00:00\", \"2019-01-02T00:00:00\", \"2019-01-03T00:00:00\", \"2019-01-04T00:00:00\", \"2019-01-05T00:00:00\", \"2019-01-06T00:00:00\", \"2019-01-07T00:00:00\", \"2019-01-08T00:00:00\", \"2019-01-09T00:00:00\", \"2019-01-10T00:00:00\", \"2019-01-11T00:00:00\", \"2019-01-12T00:00:00\", \"2019-01-13T00:00:00\", \"2019-01-14T00:00:00\", \"2019-01-15T00:00:00\", \"2019-01-16T00:00:00\", \"2019-01-17T00:00:00\", \"2019-01-18T00:00:00\", \"2019-01-19T00:00:00\", \"2019-01-20T00:00:00\", \"2019-01-21T00:00:00\", \"2019-01-22T00:00:00\", \"2019-01-23T00:00:00\", \"2019-01-24T00:00:00\", \"2019-01-25T00:00:00\", \"2019-01-26T00:00:00\", \"2019-01-27T00:00:00\", \"2019-01-28T00:00:00\", \"2019-01-29T00:00:00\", \"2019-01-30T00:00:00\", \"2019-01-31T00:00:00\", \"2019-02-01T00:00:00\", \"2019-02-02T00:00:00\", \"2019-02-03T00:00:00\", \"2019-02-04T00:00:00\", \"2019-02-05T00:00:00\", \"2019-02-06T00:00:00\", \"2019-02-07T00:00:00\", \"2019-02-08T00:00:00\", \"2019-02-09T00:00:00\", \"2019-02-10T00:00:00\", \"2019-02-11T00:00:00\", \"2019-02-12T00:00:00\", \"2019-02-13T00:00:00\", \"2019-02-14T00:00:00\", \"2019-02-15T00:00:00\", \"2019-02-16T00:00:00\", \"2019-02-17T00:00:00\", \"2019-02-18T00:00:00\", \"2019-02-19T00:00:00\", \"2019-02-20T00:00:00\", \"2019-02-21T00:00:00\", \"2019-02-22T00:00:00\", \"2019-02-23T00:00:00\", \"2019-02-24T00:00:00\", \"2019-02-25T00:00:00\", \"2019-02-26T00:00:00\", \"2019-02-27T00:00:00\", \"2019-02-28T00:00:00\", \"2019-03-01T00:00:00\", \"2019-03-02T00:00:00\", \"2019-03-03T00:00:00\", \"2019-03-04T00:00:00\", \"2019-03-05T00:00:00\", \"2019-03-06T00:00:00\", \"2019-03-07T00:00:00\", \"2019-03-08T00:00:00\", \"2019-03-09T00:00:00\", \"2019-03-10T00:00:00\", \"2019-03-11T00:00:00\", \"2019-03-12T00:00:00\", \"2019-03-13T00:00:00\", \"2019-03-14T00:00:00\", \"2019-03-15T00:00:00\", \"2019-03-16T00:00:00\", \"2019-03-17T00:00:00\", \"2019-03-18T00:00:00\", \"2019-03-19T00:00:00\", \"2019-03-20T00:00:00\", \"2019-03-21T00:00:00\", \"2019-03-22T00:00:00\", \"2019-03-23T00:00:00\", \"2019-03-24T00:00:00\", \"2019-03-25T00:00:00\", \"2019-03-26T00:00:00\", \"2019-03-27T00:00:00\", \"2019-03-28T00:00:00\", \"2019-03-29T00:00:00\", \"2019-03-30T00:00:00\", \"2019-03-31T00:00:00\", \"2019-04-01T00:00:00\", \"2019-04-02T00:00:00\", \"2019-04-03T00:00:00\", \"2019-04-04T00:00:00\", \"2019-04-05T00:00:00\", \"2019-04-06T00:00:00\", \"2019-04-07T00:00:00\", \"2019-04-08T00:00:00\", \"2019-04-09T00:00:00\", \"2019-04-10T00:00:00\", \"2019-04-11T00:00:00\", \"2019-04-12T00:00:00\", \"2019-04-13T00:00:00\", \"2019-04-14T00:00:00\", \"2019-04-15T00:00:00\", \"2019-04-16T00:00:00\", \"2019-04-17T00:00:00\", \"2019-04-18T00:00:00\", \"2019-04-19T00:00:00\", \"2019-04-20T00:00:00\", \"2019-04-21T00:00:00\", \"2019-04-22T00:00:00\", \"2019-04-23T00:00:00\", \"2019-04-24T00:00:00\", \"2019-04-25T00:00:00\", \"2019-04-26T00:00:00\", \"2019-04-27T00:00:00\", \"2019-04-28T00:00:00\", \"2019-04-29T00:00:00\", \"2019-04-30T00:00:00\", \"2019-05-01T00:00:00\", \"2019-05-02T00:00:00\", \"2019-05-03T00:00:00\", \"2019-05-04T00:00:00\", \"2019-05-05T00:00:00\", \"2019-05-06T00:00:00\", \"2019-05-07T00:00:00\", \"2019-05-08T00:00:00\", \"2019-05-09T00:00:00\", \"2019-05-10T00:00:00\", \"2019-05-11T00:00:00\", \"2019-05-12T00:00:00\", \"2019-05-13T00:00:00\", \"2019-05-14T00:00:00\", \"2019-05-15T00:00:00\", \"2019-05-16T00:00:00\", \"2019-05-17T00:00:00\", \"2019-05-18T00:00:00\", \"2019-05-19T00:00:00\", \"2019-05-20T00:00:00\", \"2019-05-21T00:00:00\", \"2019-05-22T00:00:00\", \"2019-05-23T00:00:00\", \"2019-05-24T00:00:00\", \"2019-05-25T00:00:00\", \"2019-05-26T00:00:00\", \"2019-05-27T00:00:00\", \"2019-05-28T00:00:00\", \"2019-05-29T00:00:00\", \"2019-05-30T00:00:00\", \"2019-05-31T00:00:00\", \"2019-06-01T00:00:00\", \"2019-06-02T00:00:00\", \"2019-06-03T00:00:00\", \"2019-06-04T00:00:00\", \"2019-06-05T00:00:00\", \"2019-06-06T00:00:00\", \"2019-06-07T00:00:00\", \"2019-06-08T00:00:00\", \"2019-06-09T00:00:00\", \"2019-06-10T00:00:00\", \"2019-06-11T00:00:00\", \"2019-06-12T00:00:00\", \"2019-06-13T00:00:00\", \"2019-06-14T00:00:00\", \"2019-06-15T00:00:00\", \"2019-06-16T00:00:00\", \"2019-06-17T00:00:00\", \"2019-06-18T00:00:00\", \"2019-06-19T00:00:00\", \"2019-06-20T00:00:00\", \"2019-06-21T00:00:00\", \"2019-06-22T00:00:00\", \"2019-06-23T00:00:00\", \"2019-06-24T00:00:00\", \"2019-06-25T00:00:00\", \"2019-06-26T00:00:00\", \"2019-06-27T00:00:00\", \"2019-06-28T00:00:00\", \"2019-06-29T00:00:00\", \"2019-06-30T00:00:00\", \"2019-07-01T00:00:00\", \"2019-07-02T00:00:00\", \"2019-07-03T00:00:00\", \"2019-07-04T00:00:00\", \"2019-07-05T00:00:00\", \"2019-07-06T00:00:00\", \"2019-07-07T00:00:00\", \"2019-07-08T00:00:00\", \"2019-07-09T00:00:00\", \"2019-07-10T00:00:00\", \"2019-07-11T00:00:00\", \"2019-07-12T00:00:00\", \"2019-07-13T00:00:00\", \"2019-07-14T00:00:00\", \"2019-07-15T00:00:00\", \"2019-07-16T00:00:00\", \"2019-07-17T00:00:00\", \"2019-07-18T00:00:00\", \"2019-07-19T00:00:00\", \"2019-07-20T00:00:00\", \"2019-07-21T00:00:00\", \"2019-07-22T00:00:00\", \"2019-07-23T00:00:00\", \"2019-07-24T00:00:00\", \"2019-07-25T00:00:00\", \"2019-07-26T00:00:00\", \"2019-07-27T00:00:00\", \"2019-07-28T00:00:00\", \"2019-07-29T00:00:00\", \"2019-07-30T00:00:00\", \"2019-07-31T00:00:00\", \"2019-08-01T00:00:00\", \"2019-08-02T00:00:00\", \"2019-08-03T00:00:00\", \"2019-08-04T00:00:00\", \"2019-08-05T00:00:00\", \"2019-08-06T00:00:00\", \"2019-08-07T00:00:00\", \"2019-08-08T00:00:00\", \"2019-08-09T00:00:00\", \"2019-08-10T00:00:00\", \"2019-08-11T00:00:00\", \"2019-08-12T00:00:00\"], \"y\": [2857.450246890603, 2915.326951827276, 2688.3678185852136, 2698.72550934536, 2594.1004394504803, 2337.6733709352293, 2497.4447835308965, 2560.308016604352, 2578.2689962434342, 2573.5631573869123, 2676.0048820318325, 2719.6956267095843, 2676.0147533734407, 2723.485265808204, 2638.6263861316197, 2535.1333333974144, 2423.6030598430702, 2394.3062914886755, 2542.322286285579, 2561.98038999464, 2531.7962163618663, 2468.426582870502, 2459.45998008898, 2536.1357776696955, 2598.875771212728, 2563.142168778129, 2593.426855496221, 2530.2448555584656, 2515.009565803619, 2541.3934759954996, 2405.419425391553, 2308.988551776062, 2349.313927899994, 2380.441647992599, 2278.695493889656, 2074.4273926551064, 1985.6063540007583, 2087.3821132550615, 2264.984841341568, 2311.6101735433085, 2508.727436939381, 2741.6556662204944, 2776.7087894738065, 2752.8368205808106, 2769.384589934892, 2571.721799887814, 2467.1866142780495, 2572.79300363304, 2759.065639415233, 2711.72699456317, 2673.392311951411, 2769.0659134393964, 2754.2783024127966, 2702.3691798210302, 2744.266353795421, 2834.1057142845593, 3203.7760007052666, 3256.5432060033904, 3303.933422008794, 3421.391898542948, 3303.2979897870932, 3399.590761711013, 3527.8637661301455, 3814.4364473244427, 4072.4012087467318, 4202.738080013673, 4011.0751662079592, 4171.78737422959, 4382.85798775959, 4160.148818871437, 3987.2157648445573, 4057.2870940119124, 3994.150208275465, 3875.298510893825, 4159.730991936009, 4179.5350727722935, 4371.041992884071, 4308.351628978117, 4347.577175961082, 4287.829050889346, 4463.299529667327, 4577.158297125284, 4683.063815954835, 4803.950131043598, 4591.890591232636, 4539.395842292587, 4173.196193409343, 4208.044490046679, 4539.344927852868, 4572.177593641647, 4391.63912564958, 4285.075303522426, 4209.942270923422, 4243.126936384892, 4257.944073990892, 3886.2400938040814, 3617.89380957159, 3448.179664885398, 3789.1468509612146, 3685.7306660838776, 4000.6591952028375, 3953.822818584903, 3951.6362875196, 3786.8590044297734, 3630.782532156941, 3720.088362242403, 3691.563329151147, 3828.8529222027887, 3915.195132697779, 4042.63251093286, 4200.721892938732, 4114.630658581043, 4283.156889295579, 4295.6006052379635, 4401.336042962896, 4231.813052914863, 4226.229501530216, 4239.358889826652, 4363.749539966317, 4345.719539069668, 4501.773884158095, 4630.4129898859655, 4812.775518744184, 4752.495196909085, 5151.528157603776, 5657.42699723425, 5740.475380922897, 5531.665807207436, 5700.137097667043, 5610.256789077938, 5271.762324909872, 5691.408157642794, 5783.41206530554, 6104.885514046615, 5872.580134819065, 5824.813158249923, 5569.372099653536, 5521.53820217546, 5841.941802163123, 5801.971628290991, 5738.215067395434, 5882.923122108531, 6140.703291211109, 6229.7314732907125, 6521.723549552602, 7005.207261430256, 7310.00983641168, 7270.573483365482, 7500.628182525435, 6915.008812620936, 7069.441711907558, 7343.094760021336, 7171.748430812242, 6789.352555300521, 6526.992812617439, 6047.827083369162, 6457.067245702567, 6606.80012502237, 7095.155524133769, 7470.763294531617, 7855.563639724333, 7669.841275952018, 7839.217352188344, 8143.406716991782, 8204.819596350613, 8226.235914649935, 8163.070253455267, 8142.38708624585, 8448.257697341442, 9029.86815024008, 9642.017068816578, 9856.316056896187, 10201.254243471618, 9590.921644226362, 10272.549951120987, 11207.929483670168, 11297.236923879655, 11306.47868201384, 11747.409686481044, 12784.788259597322, 15254.512771703481, 15621.078944240222, 14557.387020413935, 13944.108882983846, 16865.95351774262, 17026.27494873875, 16222.456444746394, 16386.948735607297, 17669.09239843525, 18380.516679412118, 19358.678190372895, 18471.579528244227, 18088.087301267115, 16163.365270172793, 16139.112928610155, 12867.249712341756, 15117.159251038134, 13609.425857095754, 14623.049091941346, 15578.48181005539, 15787.448499886546, 14542.13267005267, 14795.657000220828, 13157.32069802125, 13376.608898278142, 13462.500627692061, 13873.274996494722, 15023.779129129041, 14727.01900101821, 15884.114802631706, 16797.340384348976, 16425.961479272784, 14872.427884915984, 14725.043244030872, 13696.283811874015, 13521.7307164863, 13673.923908210692, 14278.191071785544, 13780.612020210952, 14137.003644734708, 11834.16960579571, 11274.0682666248, 11880.279802144085, 11662.25136775268, 12609.852425751998, 11891.64496181402, 11345.988201874823, 10920.54412141486, 11302.120010086872, 11368.723100970552, 10944.577517650192, 11272.824485638823, 11690.673911938227, 11274.078487874804, 10526.180939049205, 9978.722807818247, 9432.934053900652, 8470.060201373184, 9198.241572360217, 8827.641134599226, 7746.875004249311, 7420.114524011545, 8365.743472485932, 8388.87783485415, 8395.041955403141, 8741.840289531116, 8156.446847294876, 8696.6610379175, 8588.82232535655, 9068.324016563465, 10032.999205814403, 10105.932907339142, 10803.812217708288, 10720.198857611109, 10893.258200350652, 11676.253359902425, 10429.145943183847, 10100.612303292497, 9914.127414676494, 9886.136860626288, 9530.032279853234, 9980.708073209904, 10605.745770845662, 10612.674501083324, 10715.763561392068, 11014.159881092675, 11384.098819972882, 11207.921218796351, 11534.298923690623, 10779.912046222667, 10149.217525890488, 9559.054864679878, 8802.534311198422, 9388.156144216315, 9071.634611145331, 9655.708169449037, 9142.518304252406, 9026.711690622262, 8412.17393377662, 8575.977432246253, 8187.923839965391, 7738.66597105819, 8488.102417273103, 8634.267793169216, 9050.55267695016, 8774.031315533586, 8511.886846636868, 8884.061840459435, 8467.601886564547, 8091.16064471157, 7905.874907359842, 7932.258973806493, 7470.626079757612, 6989.957626814082, 7216.062036811761, 6890.134912879642, 7212.412427289659, 7405.512989302268, 7128.680957666596, 6841.613896155965, 6751.336237034911, 6959.437763810765, 7006.943309299168, 6870.34206827211, 6773.893901805954, 6898.2599109513785, 7371.837776940979, 8057.530763466997, 8012.777031506671, 8252.133959457262, 7973.343300439407, 7978.5351803781095, 8034.696061021323, 8200.76853502004, 8366.474160653488, 8841.19812887108, 8887.372421729408, 8850.259754472121, 9283.360488808334, 8930.647614892265, 8771.93325439076, 9253.780473103332, 9147.750966898751, 9343.903996603694, 9261.964647380559, 8882.781590144836, 9110.183387358828, 9397.931771197, 9683.025188859336, 9842.423697037158, 9552.89911245852, 9274.46142986831, 9231.263581238605, 9132.268370880138, 9239.600216460945, 8493.452009581386, 8467.684228268456, 8591.338346504977, 8576.586856640053, 8686.224891943624, 8289.679393831086, 8364.025387114869, 8154.106205369643, 8360.879092523934, 8396.15891586117, 8470.425988547171, 8193.094736852538, 7763.299861603716, 7601.2468796949015, 7516.056967053798, 7538.30805155388, 7355.460353978564, 7284.84120391429, 7316.688945456883, 7504.844832645679, 7546.116334676361, 7504.227113044587, 7614.698031136286, 7696.967662758623, 7487.686133660622, 7363.3220290746285, 7595.376318950884, 7684.164932722111, 7611.572967351512, 7635.175858020025, 6924.036295545868, 6777.1686384764325, 6760.937071397857, 6358.672528685162, 6590.2662211013, 6596.408934256335, 6572.541016575425, 6613.109022181259, 6558.7328830572405, 6770.314947826383, 6682.345452207364, 6748.317569718371, 6265.898269410115, 6147.702497664503, 5989.127820332803, 6228.206911326526, 6100.242406348668, 6090.531897123335, 6098.00295310521, 5862.11046523378, 6439.850385965726, 6357.26630479344, 6423.228251500964, 6606.683916368295, 6547.775972335619, 6553.51162448282, 6515.650656015737, 6564.9876970536925, 6756.657706370649, 6666.374576233552, 6358.557333182646, 6339.940507966749, 6189.462896812372, 6250.586078726774, 6258.887009013766, 6339.557476734668, 6512.079132953569, 6875.964596012571, 7441.637303685036, 7360.703400280169, 7382.755271361751, 7350.122174628059, 7443.099254373811, 7447.336025377338, 7894.507021506858, 8298.923522218513, 8173.250855116022, 7972.638632330386, 8200.455833354965, 8199.060391551846, 7932.86280385918, 7775.457670415663, 7503.731140527147, 7634.769531130578, 7409.514723713791, 7311.609262277797, 7044.76693201494, 7057.533193103005, 7007.7536130645685, 6535.298456066043, 6580.518849625519, 6459.94999735327, 6299.818238438624, 6417.029832875267, 6395.45187754131, 6011.450597537736, 6461.264507931652, 6361.894691592475, 6487.858253454953, 6450.871901291721, 6410.052320357319, 6433.566456478632, 6380.186820984747, 6575.555493805219, 6414.536839309613, 6565.1233078868445, 6721.3222082385455, 6658.44386459179, 6677.5587197846735, 6967.063571138608, 7033.711542483033, 6860.479541990038, 6978.936328058185, 7096.519177488135, 7246.835838616246, 7251.579950538136, 7291.359265201405, 6965.333001243362, 6270.520204652987, 6505.97647471295, 6357.1390919666255, 6333.9844201269125, 6331.648112828622, 6325.652811270439, 6327.3377107176875, 6510.828048619885, 6555.356085081437, 6534.029029575458, 6493.158780183914, 6365.311464427808, 6265.033106304004, 6315.786026389451, 6410.161264923053, 6648.76045761494, 6695.2402683110695, 6702.700804789147, 6540.5552800383975, 6112.673090686169, 6464.632105497575, 6488.711849682891, 6662.155229615091, 6511.887832020478, 6598.860695521932, 6571.270933368051, 6531.766009237023, 6424.268108161327, 6561.120778178656, 6529.281246921043, 6566.908914896419, 6551.070570372474, 6578.042759752833, 6581.799120925042, 6492.758326021645, 6091.978511681836, 6221.115975865567, 6207.123747226349, 6251.022712942792, 5996.062593497831, 6449.359767650902, 6440.468505157791, 6415.226189906699, 6392.3758733721315, 6406.978684962044, 6433.801094390446, 6372.120457652034, 6372.887104214231, 6439.091054226138, 6397.221447222319, 6386.2606053688005, 6420.542107616654, 6412.15446550508, 6173.081133139204, 6252.323221621009, 6230.584867200248, 6312.044718362016, 6355.359004800585, 6344.38728916301, 6367.519726845829, 6378.988543212529, 6247.588812650159, 6507.372081667585, 6397.322528896274, 6353.232714439872, 6349.774796914259, 6336.204088054624, 6283.233619106481, 6266.49294921606, 5475.6321556796875, 5438.3221245314835, 5606.469698315184, 5537.994422334533, 5605.686047074992, 4458.207602574488, 3840.0097587491578, 4582.401305248226, 4716.89641992466, 4485.727402919716, 4369.527610209311, 3841.8442156447104, 3962.6939357690903, 3824.11039412849, 4217.394652923065, 4248.0629096017265, 4083.7257503535157, 4112.706885682014, 4131.712527905074, 3910.6014284108787, 3896.4833420750742, 3786.522904520815, 3666.364314950369, 3367.3403587583857, 3493.3701480342093, 3511.4187077560923, 3507.7989588823025, 3422.1601736859475, 3450.9974518580725, 3394.1778553099334, 3266.2958589920972, 3227.3863375310134, 3232.783264379523, 3335.737664682574, 3517.5572532794235, 3759.964438033013, 3891.771003904815, 3946.9370635414466, 3827.6409704457346, 4007.165091959375, 4125.147878920726, 3594.9463475710463, 3775.237281715439, 3686.49293394893, 3697.867677126753, 3894.804451576025, 3791.3974371629856, 3758.4598123879564, 3699.559101768826, 3857.8968853925976, 3830.208755672872, 3775.031498837343, 3839.6451734427797, 3875.1599259168293, 4033.4429489279873, 3951.626783205088, 3999.059587273824, 3649.1607622197653, 3626.4686711069967, 3624.1623928480585, 3578.7006275126987, 3560.170637210969, 3651.0431611021345, 3621.3350317261143, 3637.4182086992305, 3644.350777481759, 3691.5378268988106, 3601.0467548077895, 3515.101873528351, 3547.9151184409016, 3570.8775178785204, 3558.603977048198, 3560.1784971338316, 3578.2955843297705, 3543.1392527977587, 3385.255431748173, 3402.927235436856, 3421.7717744816837, 3427.835767145159, 3417.932357255999, 3440.0094808571694, 3432.5768255000207, 3413.3933055953953, 3420.806933423742, 3369.67221956612, 3369.85280994081, 3428.952718165341, 3627.665369673351, 3602.6322815231597, 3551.0090715714346, 3514.315393624151, 3553.38392206094, 3547.327941849259, 3558.492924287767, 3581.700894703804, 3584.3180629971816, 3718.36858117952, 3877.5679203385203, 3892.1749699060024, 3896.823258916678, 3918.7390643100875, 3968.6894512898043, 3933.872250112363, 3715.747904775169, 3792.0297027791507, 3792.0285195648394, 3819.64347276818, 3821.88402756698, 3813.8238974754086, 3812.3786712721685, 3725.6547079942197, 3789.1507314659143, 3843.218134995324, 3849.7933271261204, 3864.2250838945765, 3887.582061817135, 3891.021650461778, 3827.1901712894764, 3822.4021836378133, 3849.3187385136143, 3843.62344027632, 3874.755518507613, 3984.4809676820487, 3962.7334253041768, 3961.2175720134346, 3957.349077059239, 3987.4488557386258, 3988.329209915138, 3972.620196913904, 3979.6950524606755, 3968.840498846612, 3940.2545931964382, 3892.7698294593697, 3991.2558867903585, 4005.707070323043, 4049.0370130050533, 4087.1405008905795, 4084.154939537125, 4067.2909401472016, 4155.577939539982, 5000.391866538418, 4891.843073468415, 4973.938782860848, 5027.61996391977, 5133.659582083245, 5179.628389297747, 5168.154727792399, 5259.4709996148395, 5089.440774422443, 5046.321104960291, 5091.198522730745, 5082.132161056808, 5121.728900920017, 5091.3142991034465, 5238.26947261431, 5264.7839785756405, 5263.495183353098, 5322.821360196843, 5277.15013029205, 5288.833458724861, 5504.664968013392, 5430.816347200254, 5384.653311240749, 5025.1311269816, 5176.2386302130235, 5161.55380591863, 5143.363136209198, 5204.81894485309, 5324.673074532262, 5383.353361936636, 5636.947272025049, 5686.914126527219, 5722.893353941982, 5592.989455771649, 5840.154085161581, 5817.270766601259, 6047.242789126822, 6222.269696151882, 6788.538607694429, 7157.679298177094, 7360.499668386128, 8077.3048611892245, 7972.371766425613, 7916.821258140698, 6703.218483866593, 7392.051375599202, 8059.364305107061, 7872.93211627089, 7942.71721844434, 7873.479632450477, 7700.421250849406, 8019.568556652416, 8065.452594860316, 8120.255383794095, 8871.13560461458, 8721.013234016436, 8611.594780932859, 8523.187682421752, 8249.113380811812, 8554.571553662865, 8677.66710621737, 8318.696733161169, 7634.938571075009, 7876.351412149568, 7755.087805830606, 7993.236665236784, 7992.206775621448, 7834.156843946308, 7844.096696227951, 7935.759608387386, 8074.065643015685, 8179.192364777127, 8350.961653372859, 8769.278337776483, 9094.549804355202, 9155.110385895001, 8979.964171932023, 9152.836559554338, 9341.333322664797, 9855.249658621071, 10890.5287212345, 10778.577495357446, 10769.999112346106, 11410.278720431512, 12786.722772640378, 11046.115390174135, 11684.346012925744, 11884.959411379943, 11381.990912518524, 10393.025338023566, 10234.313410668126, 11421.743241304303, 11748.50291848858, 11217.455698841439, 11494.112576664707, 11318.653900578627, 11851.599878947063, 12559.670156110353, 12617.512954401633, 11230.994013168458, 11593.500715109827, 11366.014499311777, 10727.357797957478, 10329.231027572745, 10277.728697066286, 9624.71107469051, 10388.158811803914, 10646.616475890478, 10758.396015004375, 10628.98899204357, 10489.317075618876, 10062.477152078634, 9700.616097290787, 10071.973224610578, 9736.065581789553, 9747.782707048624, 9540.373042174013, 9637.067373089008, 9585.96255561641, 9918.099721099967, 10093.963301850923, 10497.911425617878, 10786.029966156028, 10750.507322089587, 11789.232097883576, 11426.03987623793, 11548.594169136104, 11807.286043228385, 11801.421851214634, 11468.883066912284, 11328.510092261331]}],\n",
       "                        {\"height\": 400, \"template\": {\"data\": {\"bar\": [{\"error_x\": {\"color\": \"#2a3f5f\"}, \"error_y\": {\"color\": \"#2a3f5f\"}, \"marker\": {\"line\": {\"color\": \"#E5ECF6\", \"width\": 0.5}}, \"type\": \"bar\"}], \"barpolar\": [{\"marker\": {\"line\": {\"color\": \"#E5ECF6\", \"width\": 0.5}}, \"type\": \"barpolar\"}], \"carpet\": [{\"aaxis\": {\"endlinecolor\": \"#2a3f5f\", \"gridcolor\": \"white\", \"linecolor\": \"white\", \"minorgridcolor\": \"white\", \"startlinecolor\": \"#2a3f5f\"}, \"baxis\": {\"endlinecolor\": \"#2a3f5f\", \"gridcolor\": \"white\", \"linecolor\": \"white\", \"minorgridcolor\": \"white\", \"startlinecolor\": \"#2a3f5f\"}, \"type\": \"carpet\"}], \"choropleth\": [{\"colorbar\": {\"outlinewidth\": 0, \"ticks\": \"\"}, \"type\": \"choropleth\"}], \"contour\": [{\"colorbar\": {\"outlinewidth\": 0, \"ticks\": \"\"}, \"colorscale\": [[0.0, \"#0d0887\"], [0.1111111111111111, \"#46039f\"], [0.2222222222222222, \"#7201a8\"], [0.3333333333333333, \"#9c179e\"], [0.4444444444444444, \"#bd3786\"], [0.5555555555555556, \"#d8576b\"], [0.6666666666666666, \"#ed7953\"], [0.7777777777777778, \"#fb9f3a\"], [0.8888888888888888, \"#fdca26\"], [1.0, \"#f0f921\"]], \"type\": \"contour\"}], \"contourcarpet\": [{\"colorbar\": {\"outlinewidth\": 0, \"ticks\": \"\"}, \"type\": \"contourcarpet\"}], \"heatmap\": [{\"colorbar\": {\"outlinewidth\": 0, \"ticks\": \"\"}, \"colorscale\": [[0.0, \"#0d0887\"], [0.1111111111111111, \"#46039f\"], [0.2222222222222222, \"#7201a8\"], [0.3333333333333333, \"#9c179e\"], [0.4444444444444444, \"#bd3786\"], [0.5555555555555556, \"#d8576b\"], [0.6666666666666666, \"#ed7953\"], [0.7777777777777778, \"#fb9f3a\"], [0.8888888888888888, \"#fdca26\"], [1.0, \"#f0f921\"]], \"type\": \"heatmap\"}], \"heatmapgl\": [{\"colorbar\": {\"outlinewidth\": 0, \"ticks\": \"\"}, \"colorscale\": [[0.0, \"#0d0887\"], [0.1111111111111111, \"#46039f\"], [0.2222222222222222, \"#7201a8\"], [0.3333333333333333, \"#9c179e\"], [0.4444444444444444, \"#bd3786\"], [0.5555555555555556, \"#d8576b\"], [0.6666666666666666, \"#ed7953\"], [0.7777777777777778, \"#fb9f3a\"], [0.8888888888888888, \"#fdca26\"], [1.0, \"#f0f921\"]], \"type\": \"heatmapgl\"}], \"histogram\": [{\"marker\": {\"colorbar\": {\"outlinewidth\": 0, \"ticks\": \"\"}}, \"type\": \"histogram\"}], \"histogram2d\": [{\"colorbar\": {\"outlinewidth\": 0, \"ticks\": \"\"}, \"colorscale\": [[0.0, \"#0d0887\"], [0.1111111111111111, \"#46039f\"], [0.2222222222222222, \"#7201a8\"], [0.3333333333333333, \"#9c179e\"], [0.4444444444444444, \"#bd3786\"], [0.5555555555555556, \"#d8576b\"], [0.6666666666666666, \"#ed7953\"], [0.7777777777777778, \"#fb9f3a\"], [0.8888888888888888, \"#fdca26\"], [1.0, \"#f0f921\"]], \"type\": \"histogram2d\"}], \"histogram2dcontour\": [{\"colorbar\": {\"outlinewidth\": 0, \"ticks\": \"\"}, \"colorscale\": [[0.0, \"#0d0887\"], [0.1111111111111111, \"#46039f\"], [0.2222222222222222, \"#7201a8\"], [0.3333333333333333, \"#9c179e\"], [0.4444444444444444, \"#bd3786\"], [0.5555555555555556, \"#d8576b\"], [0.6666666666666666, \"#ed7953\"], [0.7777777777777778, \"#fb9f3a\"], [0.8888888888888888, \"#fdca26\"], [1.0, \"#f0f921\"]], \"type\": \"histogram2dcontour\"}], \"mesh3d\": [{\"colorbar\": {\"outlinewidth\": 0, \"ticks\": \"\"}, \"type\": \"mesh3d\"}], \"parcoords\": [{\"line\": {\"colorbar\": {\"outlinewidth\": 0, \"ticks\": \"\"}}, \"type\": \"parcoords\"}], \"scatter\": [{\"marker\": {\"colorbar\": {\"outlinewidth\": 0, \"ticks\": \"\"}}, \"type\": \"scatter\"}], \"scatter3d\": [{\"line\": {\"colorbar\": {\"outlinewidth\": 0, \"ticks\": \"\"}}, \"marker\": {\"colorbar\": {\"outlinewidth\": 0, \"ticks\": \"\"}}, \"type\": \"scatter3d\"}], \"scattercarpet\": [{\"marker\": {\"colorbar\": {\"outlinewidth\": 0, \"ticks\": \"\"}}, \"type\": \"scattercarpet\"}], \"scattergeo\": [{\"marker\": {\"colorbar\": {\"outlinewidth\": 0, \"ticks\": \"\"}}, \"type\": \"scattergeo\"}], \"scattergl\": [{\"marker\": {\"colorbar\": {\"outlinewidth\": 0, \"ticks\": \"\"}}, \"type\": \"scattergl\"}], \"scattermapbox\": [{\"marker\": {\"colorbar\": {\"outlinewidth\": 0, \"ticks\": \"\"}}, \"type\": \"scattermapbox\"}], \"scatterpolar\": [{\"marker\": {\"colorbar\": {\"outlinewidth\": 0, \"ticks\": \"\"}}, \"type\": \"scatterpolar\"}], \"scatterpolargl\": [{\"marker\": {\"colorbar\": {\"outlinewidth\": 0, \"ticks\": \"\"}}, \"type\": \"scatterpolargl\"}], \"scatterternary\": [{\"marker\": {\"colorbar\": {\"outlinewidth\": 0, \"ticks\": \"\"}}, \"type\": \"scatterternary\"}], \"surface\": [{\"colorbar\": {\"outlinewidth\": 0, \"ticks\": \"\"}, \"colorscale\": [[0.0, \"#0d0887\"], [0.1111111111111111, \"#46039f\"], [0.2222222222222222, \"#7201a8\"], [0.3333333333333333, \"#9c179e\"], [0.4444444444444444, \"#bd3786\"], [0.5555555555555556, \"#d8576b\"], [0.6666666666666666, \"#ed7953\"], [0.7777777777777778, \"#fb9f3a\"], [0.8888888888888888, \"#fdca26\"], [1.0, \"#f0f921\"]], \"type\": \"surface\"}], \"table\": [{\"cells\": {\"fill\": {\"color\": \"#EBF0F8\"}, \"line\": {\"color\": \"white\"}}, \"header\": {\"fill\": {\"color\": \"#C8D4E3\"}, \"line\": {\"color\": \"white\"}}, \"type\": \"table\"}]}, \"layout\": {\"annotationdefaults\": {\"arrowcolor\": \"#2a3f5f\", \"arrowhead\": 0, \"arrowwidth\": 1}, \"colorscale\": {\"diverging\": [[0, \"#8e0152\"], [0.1, \"#c51b7d\"], [0.2, \"#de77ae\"], [0.3, \"#f1b6da\"], [0.4, \"#fde0ef\"], [0.5, \"#f7f7f7\"], [0.6, \"#e6f5d0\"], [0.7, \"#b8e186\"], [0.8, \"#7fbc41\"], [0.9, \"#4d9221\"], [1, \"#276419\"]], \"sequential\": [[0.0, \"#0d0887\"], [0.1111111111111111, \"#46039f\"], [0.2222222222222222, \"#7201a8\"], [0.3333333333333333, \"#9c179e\"], [0.4444444444444444, \"#bd3786\"], [0.5555555555555556, \"#d8576b\"], [0.6666666666666666, \"#ed7953\"], [0.7777777777777778, \"#fb9f3a\"], [0.8888888888888888, \"#fdca26\"], [1.0, \"#f0f921\"]], \"sequentialminus\": [[0.0, \"#0d0887\"], [0.1111111111111111, \"#46039f\"], [0.2222222222222222, \"#7201a8\"], [0.3333333333333333, \"#9c179e\"], [0.4444444444444444, \"#bd3786\"], [0.5555555555555556, \"#d8576b\"], [0.6666666666666666, \"#ed7953\"], [0.7777777777777778, \"#fb9f3a\"], [0.8888888888888888, \"#fdca26\"], [1.0, \"#f0f921\"]]}, \"colorway\": [\"#636efa\", \"#EF553B\", \"#00cc96\", \"#ab63fa\", \"#FFA15A\", \"#19d3f3\", \"#FF6692\", \"#B6E880\", \"#FF97FF\", \"#FECB52\"], \"font\": {\"color\": \"#2a3f5f\"}, \"geo\": {\"bgcolor\": \"white\", \"lakecolor\": \"white\", \"landcolor\": \"#E5ECF6\", \"showlakes\": true, \"showland\": true, \"subunitcolor\": \"white\"}, \"hoverlabel\": {\"align\": \"left\"}, \"hovermode\": \"closest\", \"mapbox\": {\"style\": \"light\"}, \"paper_bgcolor\": \"white\", \"plot_bgcolor\": \"#E5ECF6\", \"polar\": {\"angularaxis\": {\"gridcolor\": \"white\", \"linecolor\": \"white\", \"ticks\": \"\"}, \"bgcolor\": \"#E5ECF6\", \"radialaxis\": {\"gridcolor\": \"white\", \"linecolor\": \"white\", \"ticks\": \"\"}}, \"scene\": {\"xaxis\": {\"backgroundcolor\": \"#E5ECF6\", \"gridcolor\": \"white\", \"gridwidth\": 2, \"linecolor\": \"white\", \"showbackground\": true, \"ticks\": \"\", \"zerolinecolor\": \"white\"}, \"yaxis\": {\"backgroundcolor\": \"#E5ECF6\", \"gridcolor\": \"white\", \"gridwidth\": 2, \"linecolor\": \"white\", \"showbackground\": true, \"ticks\": \"\", \"zerolinecolor\": \"white\"}, \"zaxis\": {\"backgroundcolor\": \"#E5ECF6\", \"gridcolor\": \"white\", \"gridwidth\": 2, \"linecolor\": \"white\", \"showbackground\": true, \"ticks\": \"\", \"zerolinecolor\": \"white\"}}, \"shapedefaults\": {\"line\": {\"color\": \"#2a3f5f\"}}, \"ternary\": {\"aaxis\": {\"gridcolor\": \"white\", \"linecolor\": \"white\", \"ticks\": \"\"}, \"baxis\": {\"gridcolor\": \"white\", \"linecolor\": \"white\", \"ticks\": \"\"}, \"bgcolor\": \"#E5ECF6\", \"caxis\": {\"gridcolor\": \"white\", \"linecolor\": \"white\", \"ticks\": \"\"}}, \"title\": {\"x\": 0.05}, \"xaxis\": {\"automargin\": true, \"gridcolor\": \"white\", \"linecolor\": \"white\", \"ticks\": \"\", \"zerolinecolor\": \"white\", \"zerolinewidth\": 2}, \"yaxis\": {\"automargin\": true, \"gridcolor\": \"white\", \"linecolor\": \"white\", \"ticks\": \"\", \"zerolinecolor\": \"white\", \"zerolinewidth\": 2}}}, \"title\": {\"text\": \"Test Set: Single Timepoint Prediction\"}, \"width\": 550, \"xaxis\": {\"range\": [\"2017-06-01\", \"2018-12-31\"], \"title\": {\"text\": \"timestamp\"}}, \"yaxis\": {\"title\": {\"text\": \"Price /USD\"}}},\n",
       "                        {\"responsive\": true}\n",
       "                    ).then(function(){\n",
       "                            \n",
       "var gd = document.getElementById('87aaabb8-8221-40ae-a0f9-b209d92848f4');\n",
       "var x = new MutationObserver(function (mutations, observer) {{\n",
       "        var display = window.getComputedStyle(gd).display;\n",
       "        if (!display || display === 'none') {{\n",
       "            console.log([gd, 'removed!']);\n",
       "            Plotly.purge(gd);\n",
       "            observer.disconnect();\n",
       "        }}\n",
       "}});\n",
       "\n",
       "// Listen for the removal of the full notebook cells\n",
       "var notebookContainer = gd.closest('#notebook-container');\n",
       "if (notebookContainer) {{\n",
       "    x.observe(notebookContainer, {childList: true});\n",
       "}}\n",
       "\n",
       "// Listen for the clearing of the current output cell\n",
       "var outputEl = gd.closest('.output');\n",
       "if (outputEl) {{\n",
       "    x.observe(outputEl, {childList: true});\n",
       "}}\n",
       "\n",
       "                        })\n",
       "                };\n",
       "                });\n",
       "            </script>\n",
       "        </div>"
      ]
     },
     "metadata": {},
     "output_type": "display_data"
    }
   ],
   "source": [
    "trace_ac = go.Scatter(x = model_data[model_data['Timestamp']>= split_date]['Timestamp'][window_len:],\n",
    "                   y = test_set['Close'][window_len:],\n",
    "                   mode = \"lines\",\n",
    "                   name = \"Actual\",\n",
    "                   marker = dict(color = 'rgba(235, 115, 150, 0.5)')\n",
    "                       )\n",
    "\n",
    "trace_pre = go.Scatter(x = model_data[model_data['Timestamp']>= split_date]['Timestamp'][window_len:],\n",
    "                   y = ((np.transpose(bit_model.predict(LSTM_test_inputs))+1) * test_set['Close'].values[:-window_len])[0],\n",
    "                   mode = \"lines\",\n",
    "                   name = \"Predicted\",\n",
    "                   marker = dict(color = 'rgba(115, 120, 235, 0.5)')\n",
    "                      )\n",
    "            \n",
    "data_3 = [trace_ac, trace_pre]\n",
    "\n",
    "layout_3 = go.Layout(height=400, width=550,\n",
    "                title='Test Set: Single Timepoint Prediction', \n",
    "                xaxis_title=\"timestamp\",\n",
    "                yaxis_title=\"Price /USD\", \n",
    "                     xaxis=dict(range=['2017-06-01', '2018-12-31']))\n",
    "\n",
    "fig = dict(data = data_3, layout = layout_3)\n",
    "\n",
    "\n",
    "iplot(fig);"
   ]
  },
  {
   "cell_type": "markdown",
   "metadata": {},
   "source": [
    "Single point predictions can be deceptive, as we saw in the random walk prediction. Looking more closely, you'll notice that, again, the predicted values regularly mirror the previous values (e.g. October). \n",
    "<br>LSTM model has partially reproducted a autregressive (AR) model of some order p, where future values are simply the weighted sum of the previous p values. We can define an AR model in these mathematical terms:\n",
    "$$\\begin{align}\n",
    "PredPrice_{t} &amp; = \\phi_0 + \\phi_1*Price_{t-1} + \\ldots + \\phi_p*Price_{t-p} + \\epsilon_t, \\ \\epsilon_t \\sim N(0, \\sigma)\\\n",
    "\\end{align}$$\n",
    "The good news is that AR models are commonly employed in time series tasks (e.g. stock market prices), so the LSTM model appears to have landed on a sensible solution. The bad news is that it's a waste of the LSTM capabilities, we could have a built a much simpler AR model in much less time and probably achieved similar results.([More complex does not automatically equal more accurate](https://pdfs.semanticscholar.org/696c/2fa5697f58914921ff37d69ced44ddea143f.pdf)).\n",
    "\n",
    "We'll now build LSTM models to predict crypto prices for the next 5 days."
   ]
  },
  {
   "cell_type": "code",
   "execution_count": 36,
   "metadata": {},
   "outputs": [
    {
     "name": "stdout",
     "output_type": "stream",
     "text": [
      "Epoch 1/50\n",
      " - 12s - loss: 0.0814\n",
      "Epoch 2/50\n",
      " - 12s - loss: 0.0613\n",
      "Epoch 3/50\n",
      " - 11s - loss: 0.0570\n",
      "Epoch 4/50\n",
      " - 12s - loss: 0.0541\n",
      "Epoch 5/50\n",
      " - 12s - loss: 0.0542\n",
      "Epoch 6/50\n",
      " - 12s - loss: 0.0532\n",
      "Epoch 7/50\n",
      " - 12s - loss: 0.0543\n",
      "Epoch 8/50\n",
      " - 12s - loss: 0.0527\n",
      "Epoch 9/50\n",
      " - 12s - loss: 0.0531\n",
      "Epoch 10/50\n",
      " - 12s - loss: 0.0524\n",
      "Epoch 11/50\n",
      " - 12s - loss: 0.0522\n",
      "Epoch 12/50\n",
      " - 12s - loss: 0.0519\n",
      "Epoch 13/50\n",
      " - 12s - loss: 0.0524\n",
      "Epoch 14/50\n",
      " - 18s - loss: 0.0526\n",
      "Epoch 15/50\n",
      " - 12s - loss: 0.0521\n",
      "Epoch 16/50\n",
      " - 12s - loss: 0.0514\n",
      "Epoch 17/50\n",
      " - 14s - loss: 0.0515\n",
      "Epoch 18/50\n",
      " - 12s - loss: 0.0516\n",
      "Epoch 19/50\n",
      " - 12s - loss: 0.0507\n",
      "Epoch 20/50\n",
      " - 17s - loss: 0.0520\n",
      "Epoch 21/50\n",
      " - 13s - loss: 0.0514\n",
      "Epoch 22/50\n",
      " - 13s - loss: 0.0514\n",
      "Epoch 23/50\n",
      " - 14s - loss: 0.0513\n",
      "Epoch 24/50\n",
      " - 14s - loss: 0.0520\n",
      "Epoch 25/50\n",
      " - 13s - loss: 0.0521\n",
      "Epoch 26/50\n",
      " - 13s - loss: 0.0509\n",
      "Epoch 27/50\n",
      " - 15s - loss: 0.0510\n",
      "Epoch 28/50\n",
      " - 16s - loss: 0.0504\n",
      "Epoch 29/50\n",
      " - 16s - loss: 0.0512\n",
      "Epoch 30/50\n",
      " - 14s - loss: 0.0508\n",
      "Epoch 31/50\n",
      " - 13s - loss: 0.0510\n",
      "Epoch 32/50\n",
      " - 12s - loss: 0.0507\n",
      "Epoch 33/50\n",
      " - 16s - loss: 0.0507\n",
      "Epoch 34/50\n",
      " - 18s - loss: 0.0502\n",
      "Epoch 35/50\n",
      " - 17s - loss: 0.0520\n",
      "Epoch 36/50\n",
      " - 18s - loss: 0.0499\n",
      "Epoch 37/50\n",
      " - 17s - loss: 0.0503\n",
      "Epoch 38/50\n",
      " - 18s - loss: 0.0505\n",
      "Epoch 39/50\n",
      " - 15s - loss: 0.0506\n",
      "Epoch 40/50\n",
      " - 16s - loss: 0.0510\n",
      "Epoch 41/50\n",
      " - 18s - loss: 0.0504\n",
      "Epoch 42/50\n",
      " - 14s - loss: 0.0509\n",
      "Epoch 43/50\n",
      " - 13s - loss: 0.0505\n",
      "Epoch 44/50\n",
      " - 16s - loss: 0.0516\n",
      "Epoch 45/50\n",
      " - 17s - loss: 0.0506\n",
      "Epoch 46/50\n",
      " - 15s - loss: 0.0505\n",
      "Epoch 47/50\n",
      " - 15s - loss: 0.0496\n",
      "Epoch 48/50\n",
      " - 15s - loss: 0.0503\n",
      "Epoch 49/50\n",
      " - 15s - loss: 0.0497\n",
      "Epoch 50/50\n",
      " - 15s - loss: 0.0503\n"
     ]
    }
   ],
   "source": [
    "# random seed for reproducibility\n",
    "np.random.seed(202)\n",
    "\n",
    "# we'll try to predict the closing price for the next 5 days\n",
    "# change this value if you want to make longer/shorter prediction\n",
    "pred_range = 5\n",
    "\n",
    "# initialise model architecture\n",
    "bit_model = build_model(LSTM_training_inputs, output_size=pred_range, neurons = 20)\n",
    "\n",
    "# model output is next 5 prices normalised to 10th previous closing price\n",
    "LSTM_training_outputs = []\n",
    "for i in range(window_len, len(training_set['Close'])-pred_range):\n",
    "    LSTM_training_outputs.append((training_set['Close'][i:i+pred_range].values/\n",
    "                                  training_set['Close'].values[i-window_len])-1)\n",
    "LSTM_training_outputs = np.array(LSTM_training_outputs)\n",
    "\n",
    "# train model on data (same as single point prediction)\n",
    "# note: bit_history contains information on the training error per epoch\n",
    "bit_history = bit_model.fit(LSTM_training_inputs[:-pred_range], LSTM_training_outputs, \n",
    "                            epochs=50, batch_size=1, verbose=2, shuffle=True)"
   ]
  },
  {
   "cell_type": "code",
   "execution_count": 37,
   "metadata": {},
   "outputs": [
    {
     "data": {
      "image/png": "[encoded data removed]",
      "text/plain": [
       "<Figure size 432x288 with 1 Axes>"
      ]
     },
     "metadata": {
      "needs_background": "light"
     },
     "output_type": "display_data"
    }
   ],
   "source": [
    "# little bit of reformatting the predictions to closing prices\n",
    "bt_pred_prices = ((bit_model.predict(LSTM_test_inputs)[:-pred_range][::pred_range]+1)*\\\n",
    "                   test_set['Close'].values[:-(window_len + pred_range)][::5].reshape(int(np.ceil((len(LSTM_test_inputs)-pred_range)/float(pred_range))),1))\n",
    "\n",
    "pred_colors = [\"#FF69B4\", \"#5D6D7E\", \"#F4D03F\",\"#A569BD\",\"#45B39D\"]\n",
    "fig, ax1 = plt.subplots(1,1)\n",
    "ax1.plot(model_data[model_data['Timestamp']>= split_date]['Timestamp'][window_len:],\n",
    "         test_set['Close'][window_len:], label='Actual')\n",
    "\n",
    "for i, (bt_pred) in enumerate(bt_pred_prices):\n",
    "    # Only adding lines to the legend once\n",
    "    if i<5:\n",
    "        ax1.plot(model_data[model_data['Timestamp']>= split_date]['Timestamp'][window_len:][i*pred_range:i*pred_range+pred_range],\n",
    "                 bt_pred, color=pred_colors[i%5], label=\"Predicted\")\n",
    "    else: \n",
    "        ax1.plot(model_data[model_data['Timestamp']>= split_date]['Timestamp'][window_len:][i*pred_range:i*pred_range+pred_range],\n",
    "                 bt_pred, color=pred_colors[i%5])\n",
    "\n",
    "ax1.set_title('Test Set: 5 Timepoint Predictions',fontsize=13)\n",
    "ax1.set_ylabel('Bitcoin Price ($)',fontsize=12)\n",
    "ax1.set_xlim('2017-06-01', '2017-12-31')\n",
    "ax1.legend(bbox_to_anchor=(1.05, 1), loc=2, borderaxespad=0., prop={'size': 12})\n",
    "\n",
    "plt.show()"
   ]
  },
  {
   "cell_type": "markdown",
   "metadata": {},
   "source": [
    "The predictions are visibly less impressive than their single point counterparts. Nevertheless, the model returned somewhat nuanced behaviours. It didn't simply forecast prices to move uniformly in one direction. So there are some grounds for optimism.\n",
    "\n",
    "Moving back to the single point predictions, our deep machine artificial neural model looks okay, but so did that boring random walk model. Like the random walk model, LSTM models can be sensitive to the choice of random seed (the model weights are initially randomly assigned)."
   ]
  }
 ],
 "metadata": {
  "kernelspec": {
   "display_name": "Python 3",
   "language": "python",
   "name": "python3"
  },
  "language_info": {
   "codemirror_mode": {
    "name": "ipython",
    "version": 3
   },
   "file_extension": ".py",
   "mimetype": "text/x-python",
   "name": "python",
   "nbconvert_exporter": "python",
   "pygments_lexer": "ipython3",
   "version": "3.6.9"
  }
 },
 "nbformat": 4,
 "nbformat_minor": 2
}
