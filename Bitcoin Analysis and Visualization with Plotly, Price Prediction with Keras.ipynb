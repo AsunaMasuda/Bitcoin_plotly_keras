{
 "cells": [
  {
   "cell_type": "markdown",
   "metadata": {},
   "source": [
    "## Bitcoin Analysis and Visualization with Plotly, Price Prediction with LSTM model"
   ]
  },
  {
   "cell_type": "markdown",
   "metadata": {},
   "source": [
    "\\* In order to see fully rendered visualizations by Plotly in jupyter notebook, please visit [this link](https://nbviewer.jupyter.org/github/AsunaMasuda/Bitcoin_plotly_keras/tree/master/Bitcoin%20Analysis%20and%20Visualization%20with%20Plotly,%20Price%20Prediction%20with%20Keras.ipynb) on jupyter nbviewer. (ipython files in Github repository cannot show visualizations by plotly.)"
   ]
  },
  {
   "cell_type": "markdown",
   "metadata": {},
   "source": [
    "### Overview of this notebook\n",
    "This notebook focuses on these two aspects below, mainly for the writer's self-learning purpose:\n",
    "\n",
    "- Data clearning and analysis with Python libraries and Bitcoin price prediction by deep learning algolism called LSTM with Keras\n",
    "- Interactive Data visualizations with Plotly\n",
    "\n",
    "To create this notebook, \n",
    "<br>For data visualization with Plotly:\n",
    "<br>I refered to [a Kaggle post](https://www.kaggle.com/kanncaa1/plotly-tutorial-for-beginners) by [DATAI](https://www.kaggle.com/kanncaa1) and Plotly [official document](https://plot.ly/python/).\n",
    "<br>For price prediction with LSTM by Keras:\n",
    "<br>I refered to [a jupyter notebook](https://github.com/dashee87/blogScripts/blob/master/Jupyter/2017-11-20-predicting-cryptocurrency-prices-with-deep-learning.ipynb) which explained an applicaiton of deep learning to Bitcoin/Etherium price prediction by a data scientist [David Sheeran](https://dashee87.github.io/about/)."
   ]
  },
  {
   "cell_type": "markdown",
   "metadata": {},
   "source": [
    "<p><img src=\"bit_image.jpg\" style=\"width:500px\"></p>"
   ]
  },
  {
   "cell_type": "markdown",
   "metadata": {},
   "source": [
    "### Context\n",
    "\n",
    "Bitcoin is the longest running and most well known cryptocurrency, first released as open source in 2009 by the anonymous Satoshi Nakamoto. Bitcoin serves as a decentralized medium of digital exchange, with transactions verified and recorded in a public distributed ledger (the blockchain) without the need for a trusted record keeping authority or central intermediary. Transaction blocks contain a SHA-256 cryptographic hash of previous transaction blocks, and are thus \"chained\" together, serving as an immutable record of all transactions that have ever occurred. As with any currency/commodity on the market, bitcoin trading and financial instruments soon followed public adoption of bitcoin and continue to grow. Included here is historical bitcoin market data at 1-min intervals for select bitcoin exchanges where trading takes place."
   ]
  },
  {
   "cell_type": "markdown",
   "metadata": {},
   "source": [
    "### Datasets\n",
    "- coinbaseUSD_1-min_data_2014-12-01_to_2019-01-09.csv\n",
    "- bitstampUSD_1-min_data_2012-01-01_to_2019-08-12.csv\n",
    "\n",
    "CSV files for select bitcoin exchanges for the time period of Jan 2012 to August 2019, with minute to minute updates of OHLC (Open, High, Low, Close), Volume in BTC and indicated currency, and weighted bitcoin price. Timestamps are in Unix time. Timestamps without any trades or activity have their data fields filled with NaNs. If a timestamp is missing, or if there are jumps, this may be because the exchange (or its API) was down, the exchange (or its API) did not exist, or some other unforseen technical error in data reporting or gathering. All effort has been made to deduplicate entries and verify the contents are correct and complete to the best of my ability, but obviously trust at your own risk."
   ]
  },
  {
   "cell_type": "markdown",
   "metadata": {},
   "source": [
    "Explanation of the columns:\n",
    "- Timestamp: Start time of time window (60s window), in Unix time\n",
    "- OpenOpen: price at start time window\n",
    "- High: High price within time window\n",
    "- Low: Low price within time window\n",
    "- Close: Close price at end of time window\n",
    "- Volume_(BTC): Amount of BTC transacted in time window\n",
    "- Volume_(Currency): Amount of Currency transacted in time window\n",
    "- Weighted_Price: Volume-Weighted Average Price price (VWAP)"
   ]
  },
  {
   "cell_type": "code",
   "execution_count": 1,
   "metadata": {},
   "outputs": [
    {
     "data": {
      "text/html": [
       "        <script type=\"text/javascript\">\n",
       "        window.PlotlyConfig = {MathJaxConfig: 'local'};\n",
       "        if (window.MathJax) {MathJax.Hub.Config({SVG: {font: \"STIX-Web\"}});}\n",
       "        if (typeof require !== 'undefined') {\n",
       "        require.undef(\"plotly\");\n",
       "        requirejs.config({\n",
       "            paths: {\n",
       "                'plotly': ['https://cdn.plot.ly/plotly-latest.min']\n",
       "            }\n",
       "        });\n",
       "        require(['plotly'], function(Plotly) {\n",
       "            window._Plotly = Plotly;\n",
       "        });\n",
       "        }\n",
       "        </script>\n",
       "        "
      ]
     },
     "metadata": {},
     "output_type": "display_data"
    }
   ],
   "source": [
    "# import libraries\n",
    "import time\n",
    "start_time=time.time()\n",
    "import numpy as np\n",
    "from collections import Counter\n",
    "import pandas as pd\n",
    "import matplotlib.pyplot as plt\n",
    "from plotly import __version__\n",
    "from plotly.offline import download_plotlyjs, init_notebook_mode, plot, iplot\n",
    "import plotly as py\n",
    "import plotly.graph_objs as go\n",
    "init_notebook_mode(connected=True)\n",
    "plt.rcParams['figure.figsize']=(12,5)\n",
    "import numpy as np\n",
    "import operator\n",
    "import pandas as pd\n",
    "\n",
    "# not to show warning messages\n",
    "import warnings\n",
    "warnings.filterwarnings('ignore')"
   ]
  },
  {
   "cell_type": "code",
   "execution_count": 2,
   "metadata": {},
   "outputs": [],
   "source": [
    "# read csv files\n",
    "df_bitstamp = pd.read_csv('bitstampUSD_1-min_data_2012-01-01_to_2019-08-12.csv')\n",
    "df_coinbase = pd.read_csv('coinbaseUSD_1-min_data_2014-12-01_to_2019-01-09.csv')"
   ]
  },
  {
   "cell_type": "code",
   "execution_count": 3,
   "metadata": {
    "scrolled": true
   },
   "outputs": [
    {
     "data": {
      "text/html": [
       "<div>\n",
       "<style scoped>\n",
       "    .dataframe tbody tr th:only-of-type {\n",
       "        vertical-align: middle;\n",
       "    }\n",
       "\n",
       "    .dataframe tbody tr th {\n",
       "        vertical-align: top;\n",
       "    }\n",
       "\n",
       "    .dataframe thead th {\n",
       "        text-align: right;\n",
       "    }\n",
       "</style>\n",
       "<table border=\"1\" class=\"dataframe\">\n",
       "  <thead>\n",
       "    <tr style=\"text-align: right;\">\n",
       "      <th></th>\n",
       "      <th>Timestamp</th>\n",
       "      <th>Open</th>\n",
       "      <th>High</th>\n",
       "      <th>Low</th>\n",
       "      <th>Close</th>\n",
       "      <th>Volume_(BTC)</th>\n",
       "      <th>Volume_(Currency)</th>\n",
       "      <th>Weighted_Price</th>\n",
       "    </tr>\n",
       "  </thead>\n",
       "  <tbody>\n",
       "    <tr>\n",
       "      <th>0</th>\n",
       "      <td>1325317920</td>\n",
       "      <td>4.39</td>\n",
       "      <td>4.39</td>\n",
       "      <td>4.39</td>\n",
       "      <td>4.39</td>\n",
       "      <td>0.455581</td>\n",
       "      <td>2.0</td>\n",
       "      <td>4.39</td>\n",
       "    </tr>\n",
       "    <tr>\n",
       "      <th>1</th>\n",
       "      <td>1325317980</td>\n",
       "      <td>NaN</td>\n",
       "      <td>NaN</td>\n",
       "      <td>NaN</td>\n",
       "      <td>NaN</td>\n",
       "      <td>NaN</td>\n",
       "      <td>NaN</td>\n",
       "      <td>NaN</td>\n",
       "    </tr>\n",
       "    <tr>\n",
       "      <th>2</th>\n",
       "      <td>1325318040</td>\n",
       "      <td>NaN</td>\n",
       "      <td>NaN</td>\n",
       "      <td>NaN</td>\n",
       "      <td>NaN</td>\n",
       "      <td>NaN</td>\n",
       "      <td>NaN</td>\n",
       "      <td>NaN</td>\n",
       "    </tr>\n",
       "    <tr>\n",
       "      <th>3</th>\n",
       "      <td>1325318100</td>\n",
       "      <td>NaN</td>\n",
       "      <td>NaN</td>\n",
       "      <td>NaN</td>\n",
       "      <td>NaN</td>\n",
       "      <td>NaN</td>\n",
       "      <td>NaN</td>\n",
       "      <td>NaN</td>\n",
       "    </tr>\n",
       "    <tr>\n",
       "      <th>4</th>\n",
       "      <td>1325318160</td>\n",
       "      <td>NaN</td>\n",
       "      <td>NaN</td>\n",
       "      <td>NaN</td>\n",
       "      <td>NaN</td>\n",
       "      <td>NaN</td>\n",
       "      <td>NaN</td>\n",
       "      <td>NaN</td>\n",
       "    </tr>\n",
       "  </tbody>\n",
       "</table>\n",
       "</div>"
      ],
      "text/plain": [
       "    Timestamp  Open  High   Low  Close  Volume_(BTC)  Volume_(Currency)  \\\n",
       "0  1325317920  4.39  4.39  4.39   4.39      0.455581                2.0   \n",
       "1  1325317980   NaN   NaN   NaN    NaN           NaN                NaN   \n",
       "2  1325318040   NaN   NaN   NaN    NaN           NaN                NaN   \n",
       "3  1325318100   NaN   NaN   NaN    NaN           NaN                NaN   \n",
       "4  1325318160   NaN   NaN   NaN    NaN           NaN                NaN   \n",
       "\n",
       "   Weighted_Price  \n",
       "0            4.39  \n",
       "1             NaN  \n",
       "2             NaN  \n",
       "3             NaN  \n",
       "4             NaN  "
      ]
     },
     "execution_count": 3,
     "metadata": {},
     "output_type": "execute_result"
    }
   ],
   "source": [
    "df_bitstamp.head()"
   ]
  },
  {
   "cell_type": "code",
   "execution_count": 4,
   "metadata": {
    "scrolled": true
   },
   "outputs": [
    {
     "data": {
      "text/plain": [
       "(3997697, 8)"
      ]
     },
     "execution_count": 4,
     "metadata": {},
     "output_type": "execute_result"
    }
   ],
   "source": [
    "df_bitstamp.shape"
   ]
  },
  {
   "cell_type": "code",
   "execution_count": 5,
   "metadata": {},
   "outputs": [
    {
     "data": {
      "text/html": [
       "<div>\n",
       "<style scoped>\n",
       "    .dataframe tbody tr th:only-of-type {\n",
       "        vertical-align: middle;\n",
       "    }\n",
       "\n",
       "    .dataframe tbody tr th {\n",
       "        vertical-align: top;\n",
       "    }\n",
       "\n",
       "    .dataframe thead th {\n",
       "        text-align: right;\n",
       "    }\n",
       "</style>\n",
       "<table border=\"1\" class=\"dataframe\">\n",
       "  <thead>\n",
       "    <tr style=\"text-align: right;\">\n",
       "      <th></th>\n",
       "      <th>Timestamp</th>\n",
       "      <th>Open</th>\n",
       "      <th>High</th>\n",
       "      <th>Low</th>\n",
       "      <th>Close</th>\n",
       "      <th>Volume_(BTC)</th>\n",
       "      <th>Volume_(Currency)</th>\n",
       "      <th>Weighted_Price</th>\n",
       "    </tr>\n",
       "  </thead>\n",
       "  <tbody>\n",
       "    <tr>\n",
       "      <th>0</th>\n",
       "      <td>1417411980</td>\n",
       "      <td>300.0</td>\n",
       "      <td>300.0</td>\n",
       "      <td>300.0</td>\n",
       "      <td>300.0</td>\n",
       "      <td>0.01</td>\n",
       "      <td>3.0</td>\n",
       "      <td>300.0</td>\n",
       "    </tr>\n",
       "    <tr>\n",
       "      <th>1</th>\n",
       "      <td>1417412040</td>\n",
       "      <td>NaN</td>\n",
       "      <td>NaN</td>\n",
       "      <td>NaN</td>\n",
       "      <td>NaN</td>\n",
       "      <td>NaN</td>\n",
       "      <td>NaN</td>\n",
       "      <td>NaN</td>\n",
       "    </tr>\n",
       "    <tr>\n",
       "      <th>2</th>\n",
       "      <td>1417412100</td>\n",
       "      <td>NaN</td>\n",
       "      <td>NaN</td>\n",
       "      <td>NaN</td>\n",
       "      <td>NaN</td>\n",
       "      <td>NaN</td>\n",
       "      <td>NaN</td>\n",
       "      <td>NaN</td>\n",
       "    </tr>\n",
       "    <tr>\n",
       "      <th>3</th>\n",
       "      <td>1417412160</td>\n",
       "      <td>NaN</td>\n",
       "      <td>NaN</td>\n",
       "      <td>NaN</td>\n",
       "      <td>NaN</td>\n",
       "      <td>NaN</td>\n",
       "      <td>NaN</td>\n",
       "      <td>NaN</td>\n",
       "    </tr>\n",
       "    <tr>\n",
       "      <th>4</th>\n",
       "      <td>1417412220</td>\n",
       "      <td>NaN</td>\n",
       "      <td>NaN</td>\n",
       "      <td>NaN</td>\n",
       "      <td>NaN</td>\n",
       "      <td>NaN</td>\n",
       "      <td>NaN</td>\n",
       "      <td>NaN</td>\n",
       "    </tr>\n",
       "  </tbody>\n",
       "</table>\n",
       "</div>"
      ],
      "text/plain": [
       "    Timestamp   Open   High    Low  Close  Volume_(BTC)  Volume_(Currency)  \\\n",
       "0  1417411980  300.0  300.0  300.0  300.0          0.01                3.0   \n",
       "1  1417412040    NaN    NaN    NaN    NaN           NaN                NaN   \n",
       "2  1417412100    NaN    NaN    NaN    NaN           NaN                NaN   \n",
       "3  1417412160    NaN    NaN    NaN    NaN           NaN                NaN   \n",
       "4  1417412220    NaN    NaN    NaN    NaN           NaN                NaN   \n",
       "\n",
       "   Weighted_Price  \n",
       "0           300.0  \n",
       "1             NaN  \n",
       "2             NaN  \n",
       "3             NaN  \n",
       "4             NaN  "
      ]
     },
     "execution_count": 5,
     "metadata": {},
     "output_type": "execute_result"
    }
   ],
   "source": [
    "df_coinbase.head()"
   ]
  },
  {
   "cell_type": "code",
   "execution_count": 6,
   "metadata": {
    "scrolled": true
   },
   "outputs": [
    {
     "data": {
      "text/plain": [
       "(2099760, 8)"
      ]
     },
     "execution_count": 6,
     "metadata": {},
     "output_type": "execute_result"
    }
   ],
   "source": [
    "df_coinbase.shape"
   ]
  },
  {
   "cell_type": "code",
   "execution_count": 7,
   "metadata": {},
   "outputs": [],
   "source": [
    "# Convert Timestamp from unix\n",
    "df_bitstamp = pd.concat([df_bitstamp.drop('Timestamp', axis=1),\n",
    "                         pd.DataFrame(pd.to_datetime(df_bitstamp['Timestamp'], unit='s'))], axis=1)"
   ]
  },
  {
   "cell_type": "code",
   "execution_count": 8,
   "metadata": {},
   "outputs": [],
   "source": [
    "df_bitstamp.index = df_bitstamp.Timestamp"
   ]
  },
  {
   "cell_type": "code",
   "execution_count": 9,
   "metadata": {},
   "outputs": [],
   "source": [
    "# Convert Timestamp from unix\n",
    "df_coinbase = pd.concat([df_coinbase.drop('Timestamp', axis=1), \n",
    "                         pd.DataFrame(pd.to_datetime(df_coinbase['Timestamp'], unit='s'))], axis=1)"
   ]
  },
  {
   "cell_type": "code",
   "execution_count": 10,
   "metadata": {},
   "outputs": [],
   "source": [
    "df_coinbase.index = df_coinbase.Timestamp"
   ]
  },
  {
   "cell_type": "markdown",
   "metadata": {},
   "source": [
    "### Check null percentages in both datasets"
   ]
  },
  {
   "cell_type": "code",
   "execution_count": 11,
   "metadata": {},
   "outputs": [],
   "source": [
    "# Create dataframes that hold missing values\n",
    "bitstamp_missing = df_bitstamp.isnull().mean()*100\n",
    "coinbase_missing = df_coinbase.isnull().mean()*100"
   ]
  },
  {
   "cell_type": "code",
   "execution_count": 12,
   "metadata": {
    "scrolled": true
   },
   "outputs": [
    {
     "data": {
      "application/vnd.plotly.v1+json": {
       "config": {
        "linkText": "Export to plot.ly",
        "plotlyServerURL": "https://plot.ly",
        "showLink": false
       },
       "data": [
        {
         "marker": {
          "color": "rgba(245, 140, 130, 0.5)",
          "line": {
           "color": "rgb(0,0,0)",
           "width": 1.5
          }
         },
         "type": "bar",
         "x": [
          "Open",
          "High",
          "Low",
          "Close",
          "Volume_(BTC)",
          "Volume_(Currency)",
          "Weighted_Price",
          "Timestamp"
         ],
         "xaxis": "x",
         "y": [
          30.814691558664904,
          30.814691558664904,
          30.814691558664904,
          30.814691558664904,
          30.814691558664904,
          30.814691558664904,
          30.814691558664904,
          0
         ],
         "yaxis": "y"
        },
        {
         "marker": {
          "color": "rgba(130, 135, 245, 0.5)",
          "line": {
           "color": "rgb(0,0,0)",
           "width": 1.5
          }
         },
         "type": "bar",
         "x": [
          "Open",
          "High",
          "Low",
          "Close",
          "Volume_(BTC)",
          "Volume_(Currency)",
          "Weighted_Price",
          "Timestamp"
         ],
         "xaxis": "x2",
         "y": [
          5.1943555453956645,
          5.1943555453956645,
          5.1943555453956645,
          5.1943555453956645,
          5.1943555453956645,
          5.1943555453956645,
          5.1943555453956645,
          0
         ],
         "yaxis": "y2"
        }
       ],
       "layout": {
        "annotations": [
         {
          "font": {
           "size": 16
          },
          "showarrow": false,
          "text": "bitstamp dataframe",
          "x": 0.225,
          "xanchor": "center",
          "xref": "paper",
          "y": 1,
          "yanchor": "bottom",
          "yref": "paper"
         },
         {
          "font": {
           "size": 16
          },
          "showarrow": false,
          "text": "coinbase dataframe",
          "x": 0.775,
          "xanchor": "center",
          "xref": "paper",
          "y": 1,
          "yanchor": "bottom",
          "yref": "paper"
         }
        ],
        "height": 400,
        "template": {
         "data": {
          "bar": [
           {
            "error_x": {
             "color": "#2a3f5f"
            },
            "error_y": {
             "color": "#2a3f5f"
            },
            "marker": {
             "line": {
              "color": "#E5ECF6",
              "width": 0.5
             }
            },
            "type": "bar"
           }
          ],
          "barpolar": [
           {
            "marker": {
             "line": {
              "color": "#E5ECF6",
              "width": 0.5
             }
            },
            "type": "barpolar"
           }
          ],
          "carpet": [
           {
            "aaxis": {
             "endlinecolor": "#2a3f5f",
             "gridcolor": "white",
             "linecolor": "white",
             "minorgridcolor": "white",
             "startlinecolor": "#2a3f5f"
            },
            "baxis": {
             "endlinecolor": "#2a3f5f",
             "gridcolor": "white",
             "linecolor": "white",
             "minorgridcolor": "white",
             "startlinecolor": "#2a3f5f"
            },
            "type": "carpet"
           }
          ],
          "choropleth": [
           {
            "colorbar": {
             "outlinewidth": 0,
             "ticks": ""
            },
            "type": "choropleth"
           }
          ],
          "contour": [
           {
            "colorbar": {
             "outlinewidth": 0,
             "ticks": ""
            },
            "colorscale": [
             [
              0,
              "#0d0887"
             ],
             [
              0.1111111111111111,
              "#46039f"
             ],
             [
              0.2222222222222222,
              "#7201a8"
             ],
             [
              0.3333333333333333,
              "#9c179e"
             ],
             [
              0.4444444444444444,
              "#bd3786"
             ],
             [
              0.5555555555555556,
              "#d8576b"
             ],
             [
              0.6666666666666666,
              "#ed7953"
             ],
             [
              0.7777777777777778,
              "#fb9f3a"
             ],
             [
              0.8888888888888888,
              "#fdca26"
             ],
             [
              1,
              "#f0f921"
             ]
            ],
            "type": "contour"
           }
          ],
          "contourcarpet": [
           {
            "colorbar": {
             "outlinewidth": 0,
             "ticks": ""
            },
            "type": "contourcarpet"
           }
          ],
          "heatmap": [
           {
            "colorbar": {
             "outlinewidth": 0,
             "ticks": ""
            },
            "colorscale": [
             [
              0,
              "#0d0887"
             ],
             [
              0.1111111111111111,
              "#46039f"
             ],
             [
              0.2222222222222222,
              "#7201a8"
             ],
             [
              0.3333333333333333,
              "#9c179e"
             ],
             [
              0.4444444444444444,
              "#bd3786"
             ],
             [
              0.5555555555555556,
              "#d8576b"
             ],
             [
              0.6666666666666666,
              "#ed7953"
             ],
             [
              0.7777777777777778,
              "#fb9f3a"
             ],
             [
              0.8888888888888888,
              "#fdca26"
             ],
             [
              1,
              "#f0f921"
             ]
            ],
            "type": "heatmap"
           }
          ],
          "heatmapgl": [
           {
            "colorbar": {
             "outlinewidth": 0,
             "ticks": ""
            },
            "colorscale": [
             [
              0,
              "#0d0887"
             ],
             [
              0.1111111111111111,
              "#46039f"
             ],
             [
              0.2222222222222222,
              "#7201a8"
             ],
             [
              0.3333333333333333,
              "#9c179e"
             ],
             [
              0.4444444444444444,
              "#bd3786"
             ],
             [
              0.5555555555555556,
              "#d8576b"
             ],
             [
              0.6666666666666666,
              "#ed7953"
             ],
             [
              0.7777777777777778,
              "#fb9f3a"
             ],
             [
              0.8888888888888888,
              "#fdca26"
             ],
             [
              1,
              "#f0f921"
             ]
            ],
            "type": "heatmapgl"
           }
          ],
          "histogram": [
           {
            "marker": {
             "colorbar": {
              "outlinewidth": 0,
              "ticks": ""
             }
            },
            "type": "histogram"
           }
          ],
          "histogram2d": [
           {
            "colorbar": {
             "outlinewidth": 0,
             "ticks": ""
            },
            "colorscale": [
             [
              0,
              "#0d0887"
             ],
             [
              0.1111111111111111,
              "#46039f"
             ],
             [
              0.2222222222222222,
              "#7201a8"
             ],
             [
              0.3333333333333333,
              "#9c179e"
             ],
             [
              0.4444444444444444,
              "#bd3786"
             ],
             [
              0.5555555555555556,
              "#d8576b"
             ],
             [
              0.6666666666666666,
              "#ed7953"
             ],
             [
              0.7777777777777778,
              "#fb9f3a"
             ],
             [
              0.8888888888888888,
              "#fdca26"
             ],
             [
              1,
              "#f0f921"
             ]
            ],
            "type": "histogram2d"
           }
          ],
          "histogram2dcontour": [
           {
            "colorbar": {
             "outlinewidth": 0,
             "ticks": ""
            },
            "colorscale": [
             [
              0,
              "#0d0887"
             ],
             [
              0.1111111111111111,
              "#46039f"
             ],
             [
              0.2222222222222222,
              "#7201a8"
             ],
             [
              0.3333333333333333,
              "#9c179e"
             ],
             [
              0.4444444444444444,
              "#bd3786"
             ],
             [
              0.5555555555555556,
              "#d8576b"
             ],
             [
              0.6666666666666666,
              "#ed7953"
             ],
             [
              0.7777777777777778,
              "#fb9f3a"
             ],
             [
              0.8888888888888888,
              "#fdca26"
             ],
             [
              1,
              "#f0f921"
             ]
            ],
            "type": "histogram2dcontour"
           }
          ],
          "mesh3d": [
           {
            "colorbar": {
             "outlinewidth": 0,
             "ticks": ""
            },
            "type": "mesh3d"
           }
          ],
          "parcoords": [
           {
            "line": {
             "colorbar": {
              "outlinewidth": 0,
              "ticks": ""
             }
            },
            "type": "parcoords"
           }
          ],
          "scatter": [
           {
            "marker": {
             "colorbar": {
              "outlinewidth": 0,
              "ticks": ""
             }
            },
            "type": "scatter"
           }
          ],
          "scatter3d": [
           {
            "line": {
             "colorbar": {
              "outlinewidth": 0,
              "ticks": ""
             }
            },
            "marker": {
             "colorbar": {
              "outlinewidth": 0,
              "ticks": ""
             }
            },
            "type": "scatter3d"
           }
          ],
          "scattercarpet": [
           {
            "marker": {
             "colorbar": {
              "outlinewidth": 0,
              "ticks": ""
             }
            },
            "type": "scattercarpet"
           }
          ],
          "scattergeo": [
           {
            "marker": {
             "colorbar": {
              "outlinewidth": 0,
              "ticks": ""
             }
            },
            "type": "scattergeo"
           }
          ],
          "scattergl": [
           {
            "marker": {
             "colorbar": {
              "outlinewidth": 0,
              "ticks": ""
             }
            },
            "type": "scattergl"
           }
          ],
          "scattermapbox": [
           {
            "marker": {
             "colorbar": {
              "outlinewidth": 0,
              "ticks": ""
             }
            },
            "type": "scattermapbox"
           }
          ],
          "scatterpolar": [
           {
            "marker": {
             "colorbar": {
              "outlinewidth": 0,
              "ticks": ""
             }
            },
            "type": "scatterpolar"
           }
          ],
          "scatterpolargl": [
           {
            "marker": {
             "colorbar": {
              "outlinewidth": 0,
              "ticks": ""
             }
            },
            "type": "scatterpolargl"
           }
          ],
          "scatterternary": [
           {
            "marker": {
             "colorbar": {
              "outlinewidth": 0,
              "ticks": ""
             }
            },
            "type": "scatterternary"
           }
          ],
          "surface": [
           {
            "colorbar": {
             "outlinewidth": 0,
             "ticks": ""
            },
            "colorscale": [
             [
              0,
              "#0d0887"
             ],
             [
              0.1111111111111111,
              "#46039f"
             ],
             [
              0.2222222222222222,
              "#7201a8"
             ],
             [
              0.3333333333333333,
              "#9c179e"
             ],
             [
              0.4444444444444444,
              "#bd3786"
             ],
             [
              0.5555555555555556,
              "#d8576b"
             ],
             [
              0.6666666666666666,
              "#ed7953"
             ],
             [
              0.7777777777777778,
              "#fb9f3a"
             ],
             [
              0.8888888888888888,
              "#fdca26"
             ],
             [
              1,
              "#f0f921"
             ]
            ],
            "type": "surface"
           }
          ],
          "table": [
           {
            "cells": {
             "fill": {
              "color": "#EBF0F8"
             },
             "line": {
              "color": "white"
             }
            },
            "header": {
             "fill": {
              "color": "#C8D4E3"
             },
             "line": {
              "color": "white"
             }
            },
            "type": "table"
           }
          ]
         },
         "layout": {
          "annotationdefaults": {
           "arrowcolor": "#2a3f5f",
           "arrowhead": 0,
           "arrowwidth": 1
          },
          "colorscale": {
           "diverging": [
            [
             0,
             "#8e0152"
            ],
            [
             0.1,
             "#c51b7d"
            ],
            [
             0.2,
             "#de77ae"
            ],
            [
             0.3,
             "#f1b6da"
            ],
            [
             0.4,
             "#fde0ef"
            ],
            [
             0.5,
             "#f7f7f7"
            ],
            [
             0.6,
             "#e6f5d0"
            ],
            [
             0.7,
             "#b8e186"
            ],
            [
             0.8,
             "#7fbc41"
            ],
            [
             0.9,
             "#4d9221"
            ],
            [
             1,
             "#276419"
            ]
           ],
           "sequential": [
            [
             0,
             "#0d0887"
            ],
            [
             0.1111111111111111,
             "#46039f"
            ],
            [
             0.2222222222222222,
             "#7201a8"
            ],
            [
             0.3333333333333333,
             "#9c179e"
            ],
            [
             0.4444444444444444,
             "#bd3786"
            ],
            [
             0.5555555555555556,
             "#d8576b"
            ],
            [
             0.6666666666666666,
             "#ed7953"
            ],
            [
             0.7777777777777778,
             "#fb9f3a"
            ],
            [
             0.8888888888888888,
             "#fdca26"
            ],
            [
             1,
             "#f0f921"
            ]
           ],
           "sequentialminus": [
            [
             0,
             "#0d0887"
            ],
            [
             0.1111111111111111,
             "#46039f"
            ],
            [
             0.2222222222222222,
             "#7201a8"
            ],
            [
             0.3333333333333333,
             "#9c179e"
            ],
            [
             0.4444444444444444,
             "#bd3786"
            ],
            [
             0.5555555555555556,
             "#d8576b"
            ],
            [
             0.6666666666666666,
             "#ed7953"
            ],
            [
             0.7777777777777778,
             "#fb9f3a"
            ],
            [
             0.8888888888888888,
             "#fdca26"
            ],
            [
             1,
             "#f0f921"
            ]
           ]
          },
          "colorway": [
           "#636efa",
           "#EF553B",
           "#00cc96",
           "#ab63fa",
           "#FFA15A",
           "#19d3f3",
           "#FF6692",
           "#B6E880",
           "#FF97FF",
           "#FECB52"
          ],
          "font": {
           "color": "#2a3f5f"
          },
          "geo": {
           "bgcolor": "white",
           "lakecolor": "white",
           "landcolor": "#E5ECF6",
           "showlakes": true,
           "showland": true,
           "subunitcolor": "white"
          },
          "hoverlabel": {
           "align": "left"
          },
          "hovermode": "closest",
          "mapbox": {
           "style": "light"
          },
          "paper_bgcolor": "white",
          "plot_bgcolor": "#E5ECF6",
          "polar": {
           "angularaxis": {
            "gridcolor": "white",
            "linecolor": "white",
            "ticks": ""
           },
           "bgcolor": "#E5ECF6",
           "radialaxis": {
            "gridcolor": "white",
            "linecolor": "white",
            "ticks": ""
           }
          },
          "scene": {
           "xaxis": {
            "backgroundcolor": "#E5ECF6",
            "gridcolor": "white",
            "gridwidth": 2,
            "linecolor": "white",
            "showbackground": true,
            "ticks": "",
            "zerolinecolor": "white"
           },
           "yaxis": {
            "backgroundcolor": "#E5ECF6",
            "gridcolor": "white",
            "gridwidth": 2,
            "linecolor": "white",
            "showbackground": true,
            "ticks": "",
            "zerolinecolor": "white"
           },
           "zaxis": {
            "backgroundcolor": "#E5ECF6",
            "gridcolor": "white",
            "gridwidth": 2,
            "linecolor": "white",
            "showbackground": true,
            "ticks": "",
            "zerolinecolor": "white"
           }
          },
          "shapedefaults": {
           "line": {
            "color": "#2a3f5f"
           }
          },
          "ternary": {
           "aaxis": {
            "gridcolor": "white",
            "linecolor": "white",
            "ticks": ""
           },
           "baxis": {
            "gridcolor": "white",
            "linecolor": "white",
            "ticks": ""
           },
           "bgcolor": "#E5ECF6",
           "caxis": {
            "gridcolor": "white",
            "linecolor": "white",
            "ticks": ""
           }
          },
          "title": {
           "x": 0.05
          },
          "xaxis": {
           "automargin": true,
           "gridcolor": "white",
           "linecolor": "white",
           "ticks": "",
           "zerolinecolor": "white",
           "zerolinewidth": 2
          },
          "yaxis": {
           "automargin": true,
           "gridcolor": "white",
           "linecolor": "white",
           "ticks": "",
           "zerolinecolor": "white",
           "zerolinewidth": 2
          }
         }
        },
        "title": {
         "text": "Null Percentages"
        },
        "width": 800,
        "xaxis": {
         "anchor": "y",
         "domain": [
          0,
          0.45
         ]
        },
        "xaxis2": {
         "anchor": "y2",
         "domain": [
          0.55,
          1
         ]
        },
        "yaxis": {
         "anchor": "x",
         "domain": [
          0,
          1
         ]
        },
        "yaxis2": {
         "anchor": "x2",
         "domain": [
          0,
          1
         ]
        }
       }
      },
      "text/html": [
       "<div>\n",
       "        \n",
       "        \n",
       "            <div id=\"262bc597-3102-41c6-a51e-00a2b6543b18\" class=\"plotly-graph-div\" style=\"height:400px; width:800px;\"></div>\n",
       "            <script type=\"text/javascript\">\n",
       "                require([\"plotly\"], function(Plotly) {\n",
       "                    window.PLOTLYENV=window.PLOTLYENV || {};\n",
       "                    \n",
       "                if (document.getElementById(\"262bc597-3102-41c6-a51e-00a2b6543b18\")) {\n",
       "                    Plotly.newPlot(\n",
       "                        '262bc597-3102-41c6-a51e-00a2b6543b18',\n",
       "                        [{\"marker\": {\"color\": \"rgba(245, 140, 130, 0.5)\", \"line\": {\"color\": \"rgb(0,0,0)\", \"width\": 1.5}}, \"type\": \"bar\", \"x\": [\"Open\", \"High\", \"Low\", \"Close\", \"Volume_(BTC)\", \"Volume_(Currency)\", \"Weighted_Price\", \"Timestamp\"], \"xaxis\": \"x\", \"y\": [30.814691558664904, 30.814691558664904, 30.814691558664904, 30.814691558664904, 30.814691558664904, 30.814691558664904, 30.814691558664904, 0.0], \"yaxis\": \"y\"}, {\"marker\": {\"color\": \"rgba(130, 135, 245, 0.5)\", \"line\": {\"color\": \"rgb(0,0,0)\", \"width\": 1.5}}, \"type\": \"bar\", \"x\": [\"Open\", \"High\", \"Low\", \"Close\", \"Volume_(BTC)\", \"Volume_(Currency)\", \"Weighted_Price\", \"Timestamp\"], \"xaxis\": \"x2\", \"y\": [5.1943555453956645, 5.1943555453956645, 5.1943555453956645, 5.1943555453956645, 5.1943555453956645, 5.1943555453956645, 5.1943555453956645, 0.0], \"yaxis\": \"y2\"}],\n",
       "                        {\"annotations\": [{\"font\": {\"size\": 16}, \"showarrow\": false, \"text\": \"bitstamp dataframe\", \"x\": 0.225, \"xanchor\": \"center\", \"xref\": \"paper\", \"y\": 1.0, \"yanchor\": \"bottom\", \"yref\": \"paper\"}, {\"font\": {\"size\": 16}, \"showarrow\": false, \"text\": \"coinbase dataframe\", \"x\": 0.775, \"xanchor\": \"center\", \"xref\": \"paper\", \"y\": 1.0, \"yanchor\": \"bottom\", \"yref\": \"paper\"}], \"height\": 400, \"template\": {\"data\": {\"bar\": [{\"error_x\": {\"color\": \"#2a3f5f\"}, \"error_y\": {\"color\": \"#2a3f5f\"}, \"marker\": {\"line\": {\"color\": \"#E5ECF6\", \"width\": 0.5}}, \"type\": \"bar\"}], \"barpolar\": [{\"marker\": {\"line\": {\"color\": \"#E5ECF6\", \"width\": 0.5}}, \"type\": \"barpolar\"}], \"carpet\": [{\"aaxis\": {\"endlinecolor\": \"#2a3f5f\", \"gridcolor\": \"white\", \"linecolor\": \"white\", \"minorgridcolor\": \"white\", \"startlinecolor\": \"#2a3f5f\"}, \"baxis\": {\"endlinecolor\": \"#2a3f5f\", \"gridcolor\": \"white\", \"linecolor\": \"white\", \"minorgridcolor\": \"white\", \"startlinecolor\": \"#2a3f5f\"}, \"type\": \"carpet\"}], \"choropleth\": [{\"colorbar\": {\"outlinewidth\": 0, \"ticks\": \"\"}, \"type\": \"choropleth\"}], \"contour\": [{\"colorbar\": {\"outlinewidth\": 0, \"ticks\": \"\"}, \"colorscale\": [[0.0, \"#0d0887\"], [0.1111111111111111, \"#46039f\"], [0.2222222222222222, \"#7201a8\"], [0.3333333333333333, \"#9c179e\"], [0.4444444444444444, \"#bd3786\"], [0.5555555555555556, \"#d8576b\"], [0.6666666666666666, \"#ed7953\"], [0.7777777777777778, \"#fb9f3a\"], [0.8888888888888888, \"#fdca26\"], [1.0, \"#f0f921\"]], \"type\": \"contour\"}], \"contourcarpet\": [{\"colorbar\": {\"outlinewidth\": 0, \"ticks\": \"\"}, \"type\": \"contourcarpet\"}], \"heatmap\": [{\"colorbar\": {\"outlinewidth\": 0, \"ticks\": \"\"}, \"colorscale\": [[0.0, \"#0d0887\"], [0.1111111111111111, \"#46039f\"], [0.2222222222222222, \"#7201a8\"], [0.3333333333333333, \"#9c179e\"], [0.4444444444444444, \"#bd3786\"], [0.5555555555555556, \"#d8576b\"], [0.6666666666666666, \"#ed7953\"], [0.7777777777777778, \"#fb9f3a\"], [0.8888888888888888, \"#fdca26\"], [1.0, \"#f0f921\"]], \"type\": \"heatmap\"}], \"heatmapgl\": [{\"colorbar\": {\"outlinewidth\": 0, \"ticks\": \"\"}, \"colorscale\": [[0.0, \"#0d0887\"], [0.1111111111111111, \"#46039f\"], [0.2222222222222222, \"#7201a8\"], [0.3333333333333333, \"#9c179e\"], [0.4444444444444444, \"#bd3786\"], [0.5555555555555556, \"#d8576b\"], [0.6666666666666666, \"#ed7953\"], [0.7777777777777778, \"#fb9f3a\"], [0.8888888888888888, \"#fdca26\"], [1.0, \"#f0f921\"]], \"type\": \"heatmapgl\"}], \"histogram\": [{\"marker\": {\"colorbar\": {\"outlinewidth\": 0, \"ticks\": \"\"}}, \"type\": \"histogram\"}], \"histogram2d\": [{\"colorbar\": {\"outlinewidth\": 0, \"ticks\": \"\"}, \"colorscale\": [[0.0, \"#0d0887\"], [0.1111111111111111, \"#46039f\"], [0.2222222222222222, \"#7201a8\"], [0.3333333333333333, \"#9c179e\"], [0.4444444444444444, \"#bd3786\"], [0.5555555555555556, \"#d8576b\"], [0.6666666666666666, \"#ed7953\"], [0.7777777777777778, \"#fb9f3a\"], [0.8888888888888888, \"#fdca26\"], [1.0, \"#f0f921\"]], \"type\": \"histogram2d\"}], \"histogram2dcontour\": [{\"colorbar\": {\"outlinewidth\": 0, \"ticks\": \"\"}, \"colorscale\": [[0.0, \"#0d0887\"], [0.1111111111111111, \"#46039f\"], [0.2222222222222222, \"#7201a8\"], [0.3333333333333333, \"#9c179e\"], [0.4444444444444444, \"#bd3786\"], [0.5555555555555556, \"#d8576b\"], [0.6666666666666666, \"#ed7953\"], [0.7777777777777778, \"#fb9f3a\"], [0.8888888888888888, \"#fdca26\"], [1.0, \"#f0f921\"]], \"type\": \"histogram2dcontour\"}], \"mesh3d\": [{\"colorbar\": {\"outlinewidth\": 0, \"ticks\": \"\"}, \"type\": \"mesh3d\"}], \"parcoords\": [{\"line\": {\"colorbar\": {\"outlinewidth\": 0, \"ticks\": \"\"}}, \"type\": \"parcoords\"}], \"scatter\": [{\"marker\": {\"colorbar\": {\"outlinewidth\": 0, \"ticks\": \"\"}}, \"type\": \"scatter\"}], \"scatter3d\": [{\"line\": {\"colorbar\": {\"outlinewidth\": 0, \"ticks\": \"\"}}, \"marker\": {\"colorbar\": {\"outlinewidth\": 0, \"ticks\": \"\"}}, \"type\": \"scatter3d\"}], \"scattercarpet\": [{\"marker\": {\"colorbar\": {\"outlinewidth\": 0, \"ticks\": \"\"}}, \"type\": \"scattercarpet\"}], \"scattergeo\": [{\"marker\": {\"colorbar\": {\"outlinewidth\": 0, \"ticks\": \"\"}}, \"type\": \"scattergeo\"}], \"scattergl\": [{\"marker\": {\"colorbar\": {\"outlinewidth\": 0, \"ticks\": \"\"}}, \"type\": \"scattergl\"}], \"scattermapbox\": [{\"marker\": {\"colorbar\": {\"outlinewidth\": 0, \"ticks\": \"\"}}, \"type\": \"scattermapbox\"}], \"scatterpolar\": [{\"marker\": {\"colorbar\": {\"outlinewidth\": 0, \"ticks\": \"\"}}, \"type\": \"scatterpolar\"}], \"scatterpolargl\": [{\"marker\": {\"colorbar\": {\"outlinewidth\": 0, \"ticks\": \"\"}}, \"type\": \"scatterpolargl\"}], \"scatterternary\": [{\"marker\": {\"colorbar\": {\"outlinewidth\": 0, \"ticks\": \"\"}}, \"type\": \"scatterternary\"}], \"surface\": [{\"colorbar\": {\"outlinewidth\": 0, \"ticks\": \"\"}, \"colorscale\": [[0.0, \"#0d0887\"], [0.1111111111111111, \"#46039f\"], [0.2222222222222222, \"#7201a8\"], [0.3333333333333333, \"#9c179e\"], [0.4444444444444444, \"#bd3786\"], [0.5555555555555556, \"#d8576b\"], [0.6666666666666666, \"#ed7953\"], [0.7777777777777778, \"#fb9f3a\"], [0.8888888888888888, \"#fdca26\"], [1.0, \"#f0f921\"]], \"type\": \"surface\"}], \"table\": [{\"cells\": {\"fill\": {\"color\": \"#EBF0F8\"}, \"line\": {\"color\": \"white\"}}, \"header\": {\"fill\": {\"color\": \"#C8D4E3\"}, \"line\": {\"color\": \"white\"}}, \"type\": \"table\"}]}, \"layout\": {\"annotationdefaults\": {\"arrowcolor\": \"#2a3f5f\", \"arrowhead\": 0, \"arrowwidth\": 1}, \"colorscale\": {\"diverging\": [[0, \"#8e0152\"], [0.1, \"#c51b7d\"], [0.2, \"#de77ae\"], [0.3, \"#f1b6da\"], [0.4, \"#fde0ef\"], [0.5, \"#f7f7f7\"], [0.6, \"#e6f5d0\"], [0.7, \"#b8e186\"], [0.8, \"#7fbc41\"], [0.9, \"#4d9221\"], [1, \"#276419\"]], \"sequential\": [[0.0, \"#0d0887\"], [0.1111111111111111, \"#46039f\"], [0.2222222222222222, \"#7201a8\"], [0.3333333333333333, \"#9c179e\"], [0.4444444444444444, \"#bd3786\"], [0.5555555555555556, \"#d8576b\"], [0.6666666666666666, \"#ed7953\"], [0.7777777777777778, \"#fb9f3a\"], [0.8888888888888888, \"#fdca26\"], [1.0, \"#f0f921\"]], \"sequentialminus\": [[0.0, \"#0d0887\"], [0.1111111111111111, \"#46039f\"], [0.2222222222222222, \"#7201a8\"], [0.3333333333333333, \"#9c179e\"], [0.4444444444444444, \"#bd3786\"], [0.5555555555555556, \"#d8576b\"], [0.6666666666666666, \"#ed7953\"], [0.7777777777777778, \"#fb9f3a\"], [0.8888888888888888, \"#fdca26\"], [1.0, \"#f0f921\"]]}, \"colorway\": [\"#636efa\", \"#EF553B\", \"#00cc96\", \"#ab63fa\", \"#FFA15A\", \"#19d3f3\", \"#FF6692\", \"#B6E880\", \"#FF97FF\", \"#FECB52\"], \"font\": {\"color\": \"#2a3f5f\"}, \"geo\": {\"bgcolor\": \"white\", \"lakecolor\": \"white\", \"landcolor\": \"#E5ECF6\", \"showlakes\": true, \"showland\": true, \"subunitcolor\": \"white\"}, \"hoverlabel\": {\"align\": \"left\"}, \"hovermode\": \"closest\", \"mapbox\": {\"style\": \"light\"}, \"paper_bgcolor\": \"white\", \"plot_bgcolor\": \"#E5ECF6\", \"polar\": {\"angularaxis\": {\"gridcolor\": \"white\", \"linecolor\": \"white\", \"ticks\": \"\"}, \"bgcolor\": \"#E5ECF6\", \"radialaxis\": {\"gridcolor\": \"white\", \"linecolor\": \"white\", \"ticks\": \"\"}}, \"scene\": {\"xaxis\": {\"backgroundcolor\": \"#E5ECF6\", \"gridcolor\": \"white\", \"gridwidth\": 2, \"linecolor\": \"white\", \"showbackground\": true, \"ticks\": \"\", \"zerolinecolor\": \"white\"}, \"yaxis\": {\"backgroundcolor\": \"#E5ECF6\", \"gridcolor\": \"white\", \"gridwidth\": 2, \"linecolor\": \"white\", \"showbackground\": true, \"ticks\": \"\", \"zerolinecolor\": \"white\"}, \"zaxis\": {\"backgroundcolor\": \"#E5ECF6\", \"gridcolor\": \"white\", \"gridwidth\": 2, \"linecolor\": \"white\", \"showbackground\": true, \"ticks\": \"\", \"zerolinecolor\": \"white\"}}, \"shapedefaults\": {\"line\": {\"color\": \"#2a3f5f\"}}, \"ternary\": {\"aaxis\": {\"gridcolor\": \"white\", \"linecolor\": \"white\", \"ticks\": \"\"}, \"baxis\": {\"gridcolor\": \"white\", \"linecolor\": \"white\", \"ticks\": \"\"}, \"bgcolor\": \"#E5ECF6\", \"caxis\": {\"gridcolor\": \"white\", \"linecolor\": \"white\", \"ticks\": \"\"}}, \"title\": {\"x\": 0.05}, \"xaxis\": {\"automargin\": true, \"gridcolor\": \"white\", \"linecolor\": \"white\", \"ticks\": \"\", \"zerolinecolor\": \"white\", \"zerolinewidth\": 2}, \"yaxis\": {\"automargin\": true, \"gridcolor\": \"white\", \"linecolor\": \"white\", \"ticks\": \"\", \"zerolinecolor\": \"white\", \"zerolinewidth\": 2}}}, \"title\": {\"text\": \"Null Percentages\"}, \"width\": 800, \"xaxis\": {\"anchor\": \"y\", \"domain\": [0.0, 0.45]}, \"xaxis2\": {\"anchor\": \"y2\", \"domain\": [0.55, 1.0]}, \"yaxis\": {\"anchor\": \"x\", \"domain\": [0.0, 1.0]}, \"yaxis2\": {\"anchor\": \"x2\", \"domain\": [0.0, 1.0]}},\n",
       "                        {\"responsive\": true}\n",
       "                    ).then(function(){\n",
       "                            \n",
       "var gd = document.getElementById('262bc597-3102-41c6-a51e-00a2b6543b18');\n",
       "var x = new MutationObserver(function (mutations, observer) {{\n",
       "        var display = window.getComputedStyle(gd).display;\n",
       "        if (!display || display === 'none') {{\n",
       "            console.log([gd, 'removed!']);\n",
       "            Plotly.purge(gd);\n",
       "            observer.disconnect();\n",
       "        }}\n",
       "}});\n",
       "\n",
       "// Listen for the removal of the full notebook cells\n",
       "var notebookContainer = gd.closest('#notebook-container');\n",
       "if (notebookContainer) {{\n",
       "    x.observe(notebookContainer, {childList: true});\n",
       "}}\n",
       "\n",
       "// Listen for the clearing of the current output cell\n",
       "var outputEl = gd.closest('.output');\n",
       "if (outputEl) {{\n",
       "    x.observe(outputEl, {childList: true});\n",
       "}}\n",
       "\n",
       "                        })\n",
       "                };\n",
       "                });\n",
       "            </script>\n",
       "        </div>"
      ]
     },
     "metadata": {},
     "output_type": "display_data"
    }
   ],
   "source": [
    "# import graph objects as \"go\"\n",
    "import plotly.graph_objs as go\n",
    "from plotly import subplots\n",
    "\n",
    "# Draw graphes\n",
    "trace0 = go.Bar(x = bitstamp_missing.index,\n",
    "               y = bitstamp_missing,\n",
    "               marker = dict(color = 'rgba(245, 140, 130, 0.5)',\n",
    "               line=dict(color='rgb(0,0,0)',width=1.5)))\n",
    "\n",
    "trace1 = go.Bar(x = coinbase_missing.index,\n",
    "               y = coinbase_missing,\n",
    "               marker = dict(color = 'rgba(130, 135, 245, 0.5)',\n",
    "               line=dict(color='rgb(0,0,0)',width=1.5)))\n",
    "\n",
    "fig = subplots.make_subplots(rows=1, cols=2,subplot_titles=(\"bitstamp dataframe\",\"coinbase dataframe\"))\n",
    "\n",
    "fig.append_trace(trace0, 1, 1)\n",
    "fig.append_trace(trace1, 1, 2)\n",
    "\n",
    "fig['layout'].update(height=400, width=800, title='Null Percentages')\n",
    "iplot(fig);"
   ]
  },
  {
   "cell_type": "markdown",
   "metadata": {},
   "source": [
    "It seems all columns except Timestamp have missing values at the same rows."
   ]
  },
  {
   "cell_type": "code",
   "execution_count": 13,
   "metadata": {},
   "outputs": [],
   "source": [
    "# Since the timestamp is not empty, we fill missing value with ffill method\n",
    "df_bitstamp['Open'].fillna(method='ffill', inplace=True)\n",
    "df_bitstamp['High'].fillna(method='ffill', inplace=True)\n",
    "df_bitstamp['Low'].fillna(method='ffill', inplace=True)\n",
    "df_bitstamp['Close'].fillna(method='ffill', inplace=True)\n",
    "df_bitstamp['Volume_(BTC)'].fillna(method='ffill', inplace=True)\n",
    "df_bitstamp['Volume_(Currency)'].fillna(method='ffill', inplace=True)\n",
    "df_bitstamp['Weighted_Price'].fillna(method='ffill', inplace=True)\n",
    "\n",
    "df_coinbase['Open'].fillna(method='ffill', inplace=True)\n",
    "df_coinbase['High'].fillna(method='ffill', inplace=True)\n",
    "df_coinbase['Low'].fillna(method='ffill', inplace=True)\n",
    "df_coinbase['Close'].fillna(method='ffill', inplace=True)\n",
    "df_coinbase['Volume_(BTC)'].fillna(method='ffill', inplace=True)\n",
    "df_coinbase['Volume_(Currency)'].fillna(method='ffill', inplace=True)\n",
    "df_coinbase['Weighted_Price'].fillna(method='ffill', inplace=True)"
   ]
  },
  {
   "cell_type": "markdown",
   "metadata": {},
   "source": [
    "### Price change with timeseries"
   ]
  },
  {
   "cell_type": "code",
   "execution_count": 14,
   "metadata": {},
   "outputs": [
    {
     "data": {
      "image/png": "[encoded data removed]",
      "text/plain": [
       "<Figure size 432x288 with 1 Axes>"
      ]
     },
     "metadata": {
      "needs_background": "light"
     },
     "output_type": "display_data"
    }
   ],
   "source": [
    "# draw graphs of daily Close prices of both datasets  \n",
    "plt.plot(df_bitstamp.index, df_bitstamp.Close, alpha=0.5, color='blue')\n",
    "plt.plot(df_coinbase.index, df_coinbase.Close, alpha=0.5, color='orange')\n",
    "plt.xlabel('time', fontsize=12)\n",
    "plt.ylabel('price /USD', fontsize=12);"
   ]
  },
  {
   "cell_type": "markdown",
   "metadata": {},
   "source": [
    "- coinbase data is missing before 2015 and after 2019\n",
    "- There was a peak in price between late 2017 and middle of 2018\n",
    "\n",
    "bitstamp data seems to have more comprehensive data than coinbase data, so I'll be using only bitstamp data for further analysis."
   ]
  },
  {
   "cell_type": "markdown",
   "metadata": {},
   "source": [
    "### More insights on bitstamp data"
   ]
  },
  {
   "cell_type": "code",
   "execution_count": 15,
   "metadata": {},
   "outputs": [],
   "source": [
    "# change timeseries to monthly and weekly\n",
    "df_bitstamp_m = df_bitstamp.resample('M').mean()\n",
    "df_bitstamp_w = df_bitstamp.resample('W').mean()"
   ]
  },
  {
   "cell_type": "code",
   "execution_count": 16,
   "metadata": {},
   "outputs": [
    {
     "data": {
      "application/vnd.plotly.v1+json": {
       "config": {
        "linkText": "Export to plot.ly",
        "plotlyServerURL": "https://plot.ly",
        "showLink": false
       },
       "data": [
        {
         "marker": {
          "color": "rgba(235, 115, 150, 0.8)"
         },
         "mode": "lines",
         "name": "Weekly",
         "type": "scatter",
         "x": [
          "2012-01-01T00:00:00",
          "2012-01-08T00:00:00",
          "2012-01-15T00:00:00",
          "2012-01-22T00:00:00",
          "2012-01-29T00:00:00",
          "2012-02-05T00:00:00",
          "2012-02-12T00:00:00",
          "2012-02-19T00:00:00",
          "2012-02-26T00:00:00",
          "2012-03-04T00:00:00",
          "2012-03-11T00:00:00",
          "2012-03-18T00:00:00",
          "2012-03-25T00:00:00",
          "2012-04-01T00:00:00",
          "2012-04-08T00:00:00",
          "2012-04-15T00:00:00",
          "2012-04-22T00:00:00",
          "2012-04-29T00:00:00",
          "2012-05-06T00:00:00",
          "2012-05-13T00:00:00",
          "2012-05-20T00:00:00",
          "2012-05-27T00:00:00",
          "2012-06-03T00:00:00",
          "2012-06-10T00:00:00",
          "2012-06-17T00:00:00",
          "2012-06-24T00:00:00",
          "2012-07-01T00:00:00",
          "2012-07-08T00:00:00",
          "2012-07-15T00:00:00",
          "2012-07-22T00:00:00",
          "2012-07-29T00:00:00",
          "2012-08-05T00:00:00",
          "2012-08-12T00:00:00",
          "2012-08-19T00:00:00",
          "2012-08-26T00:00:00",
          "2012-09-02T00:00:00",
          "2012-09-09T00:00:00",
          "2012-09-16T00:00:00",
          "2012-09-23T00:00:00",
          "2012-09-30T00:00:00",
          "2012-10-07T00:00:00",
          "2012-10-14T00:00:00",
          "2012-10-21T00:00:00",
          "2012-10-28T00:00:00",
          "2012-11-04T00:00:00",
          "2012-11-11T00:00:00",
          "2012-11-18T00:00:00",
          "2012-11-25T00:00:00",
          "2012-12-02T00:00:00",
          "2012-12-09T00:00:00",
          "2012-12-16T00:00:00",
          "2012-12-23T00:00:00",
          "2012-12-30T00:00:00",
          "2013-01-06T00:00:00",
          "2013-01-13T00:00:00",
          "2013-01-20T00:00:00",
          "2013-01-27T00:00:00",
          "2013-02-03T00:00:00",
          "2013-02-10T00:00:00",
          "2013-02-17T00:00:00",
          "2013-02-24T00:00:00",
          "2013-03-03T00:00:00",
          "2013-03-10T00:00:00",
          "2013-03-17T00:00:00",
          "2013-03-24T00:00:00",
          "2013-03-31T00:00:00",
          "2013-04-07T00:00:00",
          "2013-04-14T00:00:00",
          "2013-04-21T00:00:00",
          "2013-04-28T00:00:00",
          "2013-05-05T00:00:00",
          "2013-05-12T00:00:00",
          "2013-05-19T00:00:00",
          "2013-05-26T00:00:00",
          "2013-06-02T00:00:00",
          "2013-06-09T00:00:00",
          "2013-06-16T00:00:00",
          "2013-06-23T00:00:00",
          "2013-06-30T00:00:00",
          "2013-07-07T00:00:00",
          "2013-07-14T00:00:00",
          "2013-07-21T00:00:00",
          "2013-07-28T00:00:00",
          "2013-08-04T00:00:00",
          "2013-08-11T00:00:00",
          "2013-08-18T00:00:00",
          "2013-08-25T00:00:00",
          "2013-09-01T00:00:00",
          "2013-09-08T00:00:00",
          "2013-09-15T00:00:00",
          "2013-09-22T00:00:00",
          "2013-09-29T00:00:00",
          "2013-10-06T00:00:00",
          "2013-10-13T00:00:00",
          "2013-10-20T00:00:00",
          "2013-10-27T00:00:00",
          "2013-11-03T00:00:00",
          "2013-11-10T00:00:00",
          "2013-11-17T00:00:00",
          "2013-11-24T00:00:00",
          "2013-12-01T00:00:00",
          "2013-12-08T00:00:00",
          "2013-12-15T00:00:00",
          "2013-12-22T00:00:00",
          "2013-12-29T00:00:00",
          "2014-01-05T00:00:00",
          "2014-01-12T00:00:00",
          "2014-01-19T00:00:00",
          "2014-01-26T00:00:00",
          "2014-02-02T00:00:00",
          "2014-02-09T00:00:00",
          "2014-02-16T00:00:00",
          "2014-02-23T00:00:00",
          "2014-03-02T00:00:00",
          "2014-03-09T00:00:00",
          "2014-03-16T00:00:00",
          "2014-03-23T00:00:00",
          "2014-03-30T00:00:00",
          "2014-04-06T00:00:00",
          "2014-04-13T00:00:00",
          "2014-04-20T00:00:00",
          "2014-04-27T00:00:00",
          "2014-05-04T00:00:00",
          "2014-05-11T00:00:00",
          "2014-05-18T00:00:00",
          "2014-05-25T00:00:00",
          "2014-06-01T00:00:00",
          "2014-06-08T00:00:00",
          "2014-06-15T00:00:00",
          "2014-06-22T00:00:00",
          "2014-06-29T00:00:00",
          "2014-07-06T00:00:00",
          "2014-07-13T00:00:00",
          "2014-07-20T00:00:00",
          "2014-07-27T00:00:00",
          "2014-08-03T00:00:00",
          "2014-08-10T00:00:00",
          "2014-08-17T00:00:00",
          "2014-08-24T00:00:00",
          "2014-08-31T00:00:00",
          "2014-09-07T00:00:00",
          "2014-09-14T00:00:00",
          "2014-09-21T00:00:00",
          "2014-09-28T00:00:00",
          "2014-10-05T00:00:00",
          "2014-10-12T00:00:00",
          "2014-10-19T00:00:00",
          "2014-10-26T00:00:00",
          "2014-11-02T00:00:00",
          "2014-11-09T00:00:00",
          "2014-11-16T00:00:00",
          "2014-11-23T00:00:00",
          "2014-11-30T00:00:00",
          "2014-12-07T00:00:00",
          "2014-12-14T00:00:00",
          "2014-12-21T00:00:00",
          "2014-12-28T00:00:00",
          "2015-01-04T00:00:00",
          "2015-01-11T00:00:00",
          "2015-01-18T00:00:00",
          "2015-01-25T00:00:00",
          "2015-02-01T00:00:00",
          "2015-02-08T00:00:00",
          "2015-02-15T00:00:00",
          "2015-02-22T00:00:00",
          "2015-03-01T00:00:00",
          "2015-03-08T00:00:00",
          "2015-03-15T00:00:00",
          "2015-03-22T00:00:00",
          "2015-03-29T00:00:00",
          "2015-04-05T00:00:00",
          "2015-04-12T00:00:00",
          "2015-04-19T00:00:00",
          "2015-04-26T00:00:00",
          "2015-05-03T00:00:00",
          "2015-05-10T00:00:00",
          "2015-05-17T00:00:00",
          "2015-05-24T00:00:00",
          "2015-05-31T00:00:00",
          "2015-06-07T00:00:00",
          "2015-06-14T00:00:00",
          "2015-06-21T00:00:00",
          "2015-06-28T00:00:00",
          "2015-07-05T00:00:00",
          "2015-07-12T00:00:00",
          "2015-07-19T00:00:00",
          "2015-07-26T00:00:00",
          "2015-08-02T00:00:00",
          "2015-08-09T00:00:00",
          "2015-08-16T00:00:00",
          "2015-08-23T00:00:00",
          "2015-08-30T00:00:00",
          "2015-09-06T00:00:00",
          "2015-09-13T00:00:00",
          "2015-09-20T00:00:00",
          "2015-09-27T00:00:00",
          "2015-10-04T00:00:00",
          "2015-10-11T00:00:00",
          "2015-10-18T00:00:00",
          "2015-10-25T00:00:00",
          "2015-11-01T00:00:00",
          "2015-11-08T00:00:00",
          "2015-11-15T00:00:00",
          "2015-11-22T00:00:00",
          "2015-11-29T00:00:00",
          "2015-12-06T00:00:00",
          "2015-12-13T00:00:00",
          "2015-12-20T00:00:00",
          "2015-12-27T00:00:00",
          "2016-01-03T00:00:00",
          "2016-01-10T00:00:00",
          "2016-01-17T00:00:00",
          "2016-01-24T00:00:00",
          "2016-01-31T00:00:00",
          "2016-02-07T00:00:00",
          "2016-02-14T00:00:00",
          "2016-02-21T00:00:00",
          "2016-02-28T00:00:00",
          "2016-03-06T00:00:00",
          "2016-03-13T00:00:00",
          "2016-03-20T00:00:00",
          "2016-03-27T00:00:00",
          "2016-04-03T00:00:00",
          "2016-04-10T00:00:00",
          "2016-04-17T00:00:00",
          "2016-04-24T00:00:00",
          "2016-05-01T00:00:00",
          "2016-05-08T00:00:00",
          "2016-05-15T00:00:00",
          "2016-05-22T00:00:00",
          "2016-05-29T00:00:00",
          "2016-06-05T00:00:00",
          "2016-06-12T00:00:00",
          "2016-06-19T00:00:00",
          "2016-06-26T00:00:00",
          "2016-07-03T00:00:00",
          "2016-07-10T00:00:00",
          "2016-07-17T00:00:00",
          "2016-07-24T00:00:00",
          "2016-07-31T00:00:00",
          "2016-08-07T00:00:00",
          "2016-08-14T00:00:00",
          "2016-08-21T00:00:00",
          "2016-08-28T00:00:00",
          "2016-09-04T00:00:00",
          "2016-09-11T00:00:00",
          "2016-09-18T00:00:00",
          "2016-09-25T00:00:00",
          "2016-10-02T00:00:00",
          "2016-10-09T00:00:00",
          "2016-10-16T00:00:00",
          "2016-10-23T00:00:00",
          "2016-10-30T00:00:00",
          "2016-11-06T00:00:00",
          "2016-11-13T00:00:00",
          "2016-11-20T00:00:00",
          "2016-11-27T00:00:00",
          "2016-12-04T00:00:00",
          "2016-12-11T00:00:00",
          "2016-12-18T00:00:00",
          "2016-12-25T00:00:00",
          "2017-01-01T00:00:00",
          "2017-01-08T00:00:00",
          "2017-01-15T00:00:00",
          "2017-01-22T00:00:00",
          "2017-01-29T00:00:00",
          "2017-02-05T00:00:00",
          "2017-02-12T00:00:00",
          "2017-02-19T00:00:00",
          "2017-02-26T00:00:00",
          "2017-03-05T00:00:00",
          "2017-03-12T00:00:00",
          "2017-03-19T00:00:00",
          "2017-03-26T00:00:00",
          "2017-04-02T00:00:00",
          "2017-04-09T00:00:00",
          "2017-04-16T00:00:00",
          "2017-04-23T00:00:00",
          "2017-04-30T00:00:00",
          "2017-05-07T00:00:00",
          "2017-05-14T00:00:00",
          "2017-05-21T00:00:00",
          "2017-05-28T00:00:00",
          "2017-06-04T00:00:00",
          "2017-06-11T00:00:00",
          "2017-06-18T00:00:00",
          "2017-06-25T00:00:00",
          "2017-07-02T00:00:00",
          "2017-07-09T00:00:00",
          "2017-07-16T00:00:00",
          "2017-07-23T00:00:00",
          "2017-07-30T00:00:00",
          "2017-08-06T00:00:00",
          "2017-08-13T00:00:00",
          "2017-08-20T00:00:00",
          "2017-08-27T00:00:00",
          "2017-09-03T00:00:00",
          "2017-09-10T00:00:00",
          "2017-09-17T00:00:00",
          "2017-09-24T00:00:00",
          "2017-10-01T00:00:00",
          "2017-10-08T00:00:00",
          "2017-10-15T00:00:00",
          "2017-10-22T00:00:00",
          "2017-10-29T00:00:00",
          "2017-11-05T00:00:00",
          "2017-11-12T00:00:00",
          "2017-11-19T00:00:00",
          "2017-11-26T00:00:00",
          "2017-12-03T00:00:00",
          "2017-12-10T00:00:00",
          "2017-12-17T00:00:00",
          "2017-12-24T00:00:00",
          "2017-12-31T00:00:00",
          "2018-01-07T00:00:00",
          "2018-01-14T00:00:00",
          "2018-01-21T00:00:00",
          "2018-01-28T00:00:00",
          "2018-02-04T00:00:00",
          "2018-02-11T00:00:00",
          "2018-02-18T00:00:00",
          "2018-02-25T00:00:00",
          "2018-03-04T00:00:00",
          "2018-03-11T00:00:00",
          "2018-03-18T00:00:00",
          "2018-03-25T00:00:00",
          "2018-04-01T00:00:00",
          "2018-04-08T00:00:00",
          "2018-04-15T00:00:00",
          "2018-04-22T00:00:00",
          "2018-04-29T00:00:00",
          "2018-05-06T00:00:00",
          "2018-05-13T00:00:00",
          "2018-05-20T00:00:00",
          "2018-05-27T00:00:00",
          "2018-06-03T00:00:00",
          "2018-06-10T00:00:00",
          "2018-06-17T00:00:00",
          "2018-06-24T00:00:00",
          "2018-07-01T00:00:00",
          "2018-07-08T00:00:00",
          "2018-07-15T00:00:00",
          "2018-07-22T00:00:00",
          "2018-07-29T00:00:00",
          "2018-08-05T00:00:00",
          "2018-08-12T00:00:00",
          "2018-08-19T00:00:00",
          "2018-08-26T00:00:00",
          "2018-09-02T00:00:00",
          "2018-09-09T00:00:00",
          "2018-09-16T00:00:00",
          "2018-09-23T00:00:00",
          "2018-09-30T00:00:00",
          "2018-10-07T00:00:00",
          "2018-10-14T00:00:00",
          "2018-10-21T00:00:00",
          "2018-10-28T00:00:00",
          "2018-11-04T00:00:00",
          "2018-11-11T00:00:00",
          "2018-11-18T00:00:00",
          "2018-11-25T00:00:00",
          "2018-12-02T00:00:00",
          "2018-12-09T00:00:00",
          "2018-12-16T00:00:00",
          "2018-12-23T00:00:00",
          "2018-12-30T00:00:00",
          "2019-01-06T00:00:00",
          "2019-01-13T00:00:00",
          "2019-01-20T00:00:00",
          "2019-01-27T00:00:00",
          "2019-02-03T00:00:00",
          "2019-02-10T00:00:00",
          "2019-02-17T00:00:00",
          "2019-02-24T00:00:00",
          "2019-03-03T00:00:00",
          "2019-03-10T00:00:00",
          "2019-03-17T00:00:00",
          "2019-03-24T00:00:00",
          "2019-03-31T00:00:00",
          "2019-04-07T00:00:00",
          "2019-04-14T00:00:00",
          "2019-04-21T00:00:00",
          "2019-04-28T00:00:00",
          "2019-05-05T00:00:00",
          "2019-05-12T00:00:00",
          "2019-05-19T00:00:00",
          "2019-05-26T00:00:00",
          "2019-06-02T00:00:00",
          "2019-06-09T00:00:00",
          "2019-06-16T00:00:00",
          "2019-06-23T00:00:00",
          "2019-06-30T00:00:00",
          "2019-07-07T00:00:00",
          "2019-07-14T00:00:00",
          "2019-07-21T00:00:00",
          "2019-07-28T00:00:00",
          "2019-08-04T00:00:00",
          "2019-08-11T00:00:00",
          "2019-08-18T00:00:00"
         ],
         "y": [
          4.597101328903644,
          5.870808531746655,
          6.724608134920922,
          6.71512499999916,
          6.050625992063692,
          5.871852182539883,
          5.686942460316916,
          4.802238095238033,
          4.760390873015585,
          4.897773809523966,
          4.970852182539799,
          5.254234126984064,
          4.848571428571462,
          4.804049603174285,
          4.908586309523865,
          4.864255952380947,
          5.122292658730152,
          5.050317460317804,
          5.04833134920636,
          4.9922321428573,
          5.0122817460317295,
          5.071747023809254,
          5.140667658730177,
          5.437460317460253,
          5.928800595238248,
          6.466183531745757,
          6.4568541666665675,
          6.58329563492037,
          7.2482182539686795,
          8.498597222222399,
          8.677212301587891,
          9.852252976190334,
          11.078488095238196,
          12.196884920635046,
          10.085720238095103,
          10.585099206349017,
          10.661314484126805,
          11.23717559523856,
          12.074261904762544,
          12.070582341269377,
          12.435364087301794,
          11.838424603174559,
          11.674784722222064,
          10.934993055555356,
          10.710805555555796,
          10.708098214285945,
          11.140709325397248,
          11.857368055555622,
          12.284731150793604,
          13.054926587301207,
          13.377827380952343,
          13.217221230158673,
          13.165268849205841,
          13.158450396825224,
          13.64591170634914,
          14.824726190475761,
          17.157746031745994,
          19.57242559523807,
          21.62377678571428,
          25.933641865078886,
          29.123015873015532,
          32.514612103174436,
          42.3860763888895,
          46.578383928572066,
          62.45119246031738,
          86.61316964285639,
          128.80443948412776,
          142.79539980158592,
          98.9743630952383,
          135.4334761904771,
          119.33772420634946,
          113.94707242063431,
          114.56299007936472,
          122.51401091269746,
          127.3814365079392,
          115.21210119047578,
          103.31576388888878,
          102.53283035714242,
          95.14940079365024,
          77.6600357142851,
          83.52787698412679,
          88.1146706349212,
          88.28186408730231,
          96.00760416666614,
          95.56874603174728,
          97.60970039682415,
          107.44882043650631,
          120.72761408729933,
          124.08977480158475,
          124.31625892856987,
          125.19804662698314,
          124.88138293650698,
          121.48982738095319,
          125.90863988095406,
          147.48996329364735,
          185.70298511904517,
          201.28408333333178,
          279.0896240079375,
          397.08613789682397,
          675.0893630952443,
          969.6259821428697,
          943.1736666666782,
          880.7214960317502,
          651.2808541666691,
          688.9710476190496,
          776.7989375000003,
          861.3559454365201,
          819.1963501984209,
          811.9763115079438,
          799.7589593254022,
          759.7760307539752,
          655.7707738095262,
          609.1748412698412,
          560.6332093254039,
          644.8530664682534,
          634.5906220238162,
          594.37990972223,
          533.6035049603232,
          455.4868412698429,
          430.53258432540486,
          492.4125406746024,
          479.2755744047568,
          445.24933531746666,
          441.6149533730187,
          445.12576091270154,
          505.4643621031778,
          595.0504295634919,
          652.2373988095308,
          611.6513650793684,
          598.1377281746144,
          584.534203373022,
          637.6899811508061,
          625.8773035714385,
          623.5201408730269,
          609.744609126982,
          584.6804791666743,
          586.4714623015949,
          534.627279761905,
          499.63023214285954,
          505.8017857142908,
          480.1156835317555,
          473.909498015876,
          437.50392757936385,
          408.06305456349156,
          365.3098581349228,
          348.87660813492084,
          388.8477113095253,
          369.090292658733,
          341.83294047619216,
          339.6646577380955,
          389.6698412698414,
          371.0311349206389,
          375.1787906746049,
          376.10239384920567,
          354.88299503968415,
          327.6431676587339,
          324.51450099206716,
          307.7390000000012,
          277.9574307095332,
          218.43653273809386,
          227.1718323412682,
          244.48156746031785,
          226.41543750000193,
          230.17497916666622,
          240.89681249999816,
          243.3319176587309,
          272.1933244047624,
          288.28146428571955,
          270.5751140872994,
          251.74518353174733,
          249.1632539682481,
          245.10490773809443,
          224.2198363095247,
          228.56063690476134,
          229.86313690476462,
          237.38324107142944,
          238.4748224206339,
          235.9525674603144,
          235.09371924602985,
          224.7307817460322,
          229.09200496031943,
          243.58797916666737,
          244.3332053571379,
          257.87015476190237,
          279.0383829365079,
          284.32082242063643,
          281.8826884920667,
          287.2510555555561,
          277.75909027778056,
          264.6838660714231,
          238.73073412698412,
          224.98108630952382,
          230.8181825396827,
          239.0943035714259,
          230.51459623015992,
          231.48980257936313,
          237.70397519841254,
          243.68095238095339,
          256.19331150793454,
          274.0231011904775,
          307.3193204365058,
          387.1744325396836,
          339.4868373015888,
          327.3316240079363,
          340.2571150793671,
          369.8884226190476,
          417.26802777777755,
          454.79971428571497,
          439.32854960317104,
          428.6569305555552,
          441.90760615079597,
          415.90096726190757,
          392.6015932539694,
          385.1646061507927,
          376.20563392857287,
          381.5496001984161,
          417.84251289682845,
          427.09398809523594,
          421.0906894841315,
          413.12972718254395,
          413.13085615079393,
          415.40170138889283,
          417.3243829365081,
          419.9291517857179,
          425.49382242063615,
          441.3421517857145,
          455.11939285714533,
          451.03587499999566,
          455.3157847222255,
          448.3579503968305,
          466.2544573412673,
          547.4862936507974,
          588.3828482142852,
          722.2330644841329,
          661.6420992063511,
          658.4366765873133,
          657.5018005952446,
          660.4012787698457,
          664.5680119047527,
          651.6841686507964,
          580.9085109127016,
          586.1156418650844,
          572.6560843254001,
          576.2927688492074,
          576.631581349207,
          614.4669077381027,
          606.5060783730155,
          600.4092470238187,
          605.6726061507931,
          610.7337579365241,
          632.5101359126897,
          635.9345734127098,
          676.1885744047681,
          710.4925456349223,
          709.8472797619141,
          730.17040873016,
          734.8380000000143,
          747.7875178571447,
          763.5731746031933,
          780.1507261904876,
          846.8341696428636,
          946.8654246031919,
          981.5053015873016,
          839.5594077380986,
          888.3886646825434,
          911.4220069444334,
          981.5590615079491,
          1018.6610446428643,
          1028.9525317460377,
          1135.0116220238183,
          1232.0829543650877,
          1210.1009404761892,
          1160.7422251984196,
          1012.7393055555617,
          1045.317267857138,
          1162.5320952380944,
          1192.6739771825416,
          1215.5504692460302,
          1299.3483382936658,
          1494.4915476190504,
          1731.965047619058,
          1851.9882916666788,
          2270.4848541666715,
          2375.4382023809458,
          2798.475909722215,
          2585.987141865082,
          2649.635595238076,
          2485.174653769825,
          2554.736291666641,
          2257.5454206349295,
          2486.670937499995,
          2653.9165357142915,
          2886.3134890873116,
          3534.4321369047425,
          4170.145761904759,
          4182.174832341265,
          4582.31145634921,
          4383.296266865068,
          3823.103563492081,
          3809.7412043650766,
          4095.054509920627,
          4345.533176587304,
          5178.876763888922,
          5732.640350198429,
          5765.659687499991,
          6824.964238095242,
          6941.93151984128,
          7256.132386904761,
          8312.524563492003,
          10301.070389880955,
          13533.728959325394,
          17221.35608928579,
          16040.309145833313,
          14303.83081448412,
          15151.949033730185,
          14232.44397718248,
          12006.09286111105,
          11155.454458333255,
          9655.80723809517,
          7953.907624999966,
          9643.38732341263,
          10424.383394841143,
          10757.474713293463,
          9978.6916815476,
          8506.909797619017,
          8668.239105158713,
          7471.548928571395,
          6952.670554563489,
          7443.7746894841175,
          8360.21948015869,
          9161.163528769803,
          9410.4209632936,
          8962.726052579299,
          8358.256767857121,
          7757.944848214368,
          7464.4357956349395,
          7537.045932539677,
          6568.911119047653,
          6454.145445436526,
          6171.522336309535,
          6579.484346230152,
          6364.4656329365625,
          7201.164731150783,
          8086.479697420611,
          7549.66151190474,
          6528.720052579357,
          6346.59598412702,
          6541.894893849287,
          7000.371844246057,
          6746.136385912759,
          6398.5455386904705,
          6501.882280753955,
          6545.139760912694,
          6535.062326388904,
          6361.174254960347,
          6412.685374999997,
          6405.324468254007,
          6318.975777777841,
          6404.897632936501,
          5815.086370039655,
          4408.433374999997,
          4015.7236279761905,
          3648.67949900792,
          3317.6842549603157,
          3759.385125992088,
          3822.640382936517,
          3800.719302579381,
          3811.299673611088,
          3617.506606150811,
          3555.004700396809,
          3422.6091696428616,
          3463.729325396835,
          3581.1478859127105,
          3909.9113799603183,
          3802.6219920634985,
          3835.126124007938,
          3890.6871478174494,
          3982.690567460288,
          4013.012192460342,
          4847.86945436508,
          5153.450329365079,
          5223.507439484137,
          5320.638467261902,
          5435.978236111115,
          6237.696533730138,
          7710.606700396815,
          7944.085464285713,
          8621.01549404761,
          7940.742124007868,
          8300.261511904746,
          9738.107212301606,
          11667.999308531718,
          11138.314239087269,
          11774.223039682516,
          10305.487817460313,
          9892.018324404713,
          10158.29753670636,
          11675.965205357155,
          11520
         ]
        },
        {
         "marker": {
          "color": "rgba(115, 120, 235, 0.8)"
         },
         "mode": "lines",
         "name": "Monthly",
         "type": "scatter",
         "x": [
          "2011-12-31T00:00:00",
          "2012-01-31T00:00:00",
          "2012-02-29T00:00:00",
          "2012-03-31T00:00:00",
          "2012-04-30T00:00:00",
          "2012-05-31T00:00:00",
          "2012-06-30T00:00:00",
          "2012-07-31T00:00:00",
          "2012-08-31T00:00:00",
          "2012-09-30T00:00:00",
          "2012-10-31T00:00:00",
          "2012-11-30T00:00:00",
          "2012-12-31T00:00:00",
          "2013-01-31T00:00:00",
          "2013-02-28T00:00:00",
          "2013-03-31T00:00:00",
          "2013-04-30T00:00:00",
          "2013-05-31T00:00:00",
          "2013-06-30T00:00:00",
          "2013-07-31T00:00:00",
          "2013-08-31T00:00:00",
          "2013-09-30T00:00:00",
          "2013-10-31T00:00:00",
          "2013-11-30T00:00:00",
          "2013-12-31T00:00:00",
          "2014-01-31T00:00:00",
          "2014-02-28T00:00:00",
          "2014-03-31T00:00:00",
          "2014-04-30T00:00:00",
          "2014-05-31T00:00:00",
          "2014-06-30T00:00:00",
          "2014-07-31T00:00:00",
          "2014-08-31T00:00:00",
          "2014-09-30T00:00:00",
          "2014-10-31T00:00:00",
          "2014-11-30T00:00:00",
          "2014-12-31T00:00:00",
          "2015-01-31T00:00:00",
          "2015-02-28T00:00:00",
          "2015-03-31T00:00:00",
          "2015-04-30T00:00:00",
          "2015-05-31T00:00:00",
          "2015-06-30T00:00:00",
          "2015-07-31T00:00:00",
          "2015-08-31T00:00:00",
          "2015-09-30T00:00:00",
          "2015-10-31T00:00:00",
          "2015-11-30T00:00:00",
          "2015-12-31T00:00:00",
          "2016-01-31T00:00:00",
          "2016-02-29T00:00:00",
          "2016-03-31T00:00:00",
          "2016-04-30T00:00:00",
          "2016-05-31T00:00:00",
          "2016-06-30T00:00:00",
          "2016-07-31T00:00:00",
          "2016-08-31T00:00:00",
          "2016-09-30T00:00:00",
          "2016-10-31T00:00:00",
          "2016-11-30T00:00:00",
          "2016-12-31T00:00:00",
          "2017-01-31T00:00:00",
          "2017-02-28T00:00:00",
          "2017-03-31T00:00:00",
          "2017-04-30T00:00:00",
          "2017-05-31T00:00:00",
          "2017-06-30T00:00:00",
          "2017-07-31T00:00:00",
          "2017-08-31T00:00:00",
          "2017-09-30T00:00:00",
          "2017-10-31T00:00:00",
          "2017-11-30T00:00:00",
          "2017-12-31T00:00:00",
          "2018-01-31T00:00:00",
          "2018-02-28T00:00:00",
          "2018-03-31T00:00:00",
          "2018-04-30T00:00:00",
          "2018-05-31T00:00:00",
          "2018-06-30T00:00:00",
          "2018-07-31T00:00:00",
          "2018-08-31T00:00:00",
          "2018-09-30T00:00:00",
          "2018-10-31T00:00:00",
          "2018-11-30T00:00:00",
          "2018-12-31T00:00:00",
          "2019-01-31T00:00:00",
          "2019-02-28T00:00:00",
          "2019-03-31T00:00:00",
          "2019-04-30T00:00:00",
          "2019-05-31T00:00:00",
          "2019-06-30T00:00:00",
          "2019-07-31T00:00:00",
          "2019-08-31T00:00:00"
         ],
         "y": [
          4.472623966942128,
          6.236086021505003,
          5.2323060344827965,
          4.953967069892953,
          4.980801851851757,
          5.0425237455189595,
          5.967728009260031,
          7.792718413977957,
          10.923262768818,
          11.411100462962624,
          11.62360707885319,
          11.332354398147965,
          13.152061827956912,
          15.311421818996191,
          25.804066220238546,
          57.05487948028503,
          127.4523379629676,
          117.75818660394957,
          105.52177129629682,
          85.43869847670291,
          103.41510707885645,
          124.85867175926235,
          152.72389717742578,
          528.006719675924,
          794.5134939515951,
          819.0494536290122,
          664.3416004464233,
          594.6716332885185,
          462.5736148148224,
          485.54925694444046,
          613.0983685185003,
          618.645241487445,
          537.332898745528,
          445.1967476852015,
          363.99250582438566,
          366.1329293981566,
          342.7484816308402,
          245.92339472857734,
          234.08491071429066,
          268.4253357974895,
          234.71102986111129,
          236.60713754480787,
          236.89043773148072,
          279.26832571683985,
          252.6686581541291,
          233.5340145833384,
          264.68463911290866,
          348.38838865740814,
          422.51978024193926,
          411.1061948924678,
          401.8878311781728,
          415.2417412634504,
          433.151630092599,
          459.9160515232973,
          638.3158638888876,
          660.5488369175742,
          578.4359605734752,
          602.835983101872,
          638.9159359318751,
          723.2232388888701,
          820.069229614696,
          909.0586158154065,
          1059.6586480654655,
          1131.9633210125628,
          1208.2725583333286,
          1877.679476926511,
          2619.677824305532,
          2494.7669016576874,
          3827.909653001837,
          4084.977108564804,
          5284.280041666705,
          7755.6250675927195,
          14842.560447356704,
          12894.228812948337,
          9390.257691964629,
          9025.751945788796,
          7983.760862731631,
          8439.250342742258,
          6784.682092361159,
          7097.427469982336,
          6689.576456989446,
          6589.556742592639,
          6415.216750448044,
          5389.040078472173,
          3670.7970353942405,
          3658.6765396505252,
          3648.410920634906,
          3918.4071467294048,
          5139.082030324077,
          7228.432265232988,
          9357.994893287025,
          10668.077006720501,
          11263.630360457044
         ]
        }
       ],
       "layout": {
        "height": 400,
        "template": {
         "data": {
          "bar": [
           {
            "error_x": {
             "color": "#2a3f5f"
            },
            "error_y": {
             "color": "#2a3f5f"
            },
            "marker": {
             "line": {
              "color": "#E5ECF6",
              "width": 0.5
             }
            },
            "type": "bar"
           }
          ],
          "barpolar": [
           {
            "marker": {
             "line": {
              "color": "#E5ECF6",
              "width": 0.5
             }
            },
            "type": "barpolar"
           }
          ],
          "carpet": [
           {
            "aaxis": {
             "endlinecolor": "#2a3f5f",
             "gridcolor": "white",
             "linecolor": "white",
             "minorgridcolor": "white",
             "startlinecolor": "#2a3f5f"
            },
            "baxis": {
             "endlinecolor": "#2a3f5f",
             "gridcolor": "white",
             "linecolor": "white",
             "minorgridcolor": "white",
             "startlinecolor": "#2a3f5f"
            },
            "type": "carpet"
           }
          ],
          "choropleth": [
           {
            "colorbar": {
             "outlinewidth": 0,
             "ticks": ""
            },
            "type": "choropleth"
           }
          ],
          "contour": [
           {
            "colorbar": {
             "outlinewidth": 0,
             "ticks": ""
            },
            "colorscale": [
             [
              0,
              "#0d0887"
             ],
             [
              0.1111111111111111,
              "#46039f"
             ],
             [
              0.2222222222222222,
              "#7201a8"
             ],
             [
              0.3333333333333333,
              "#9c179e"
             ],
             [
              0.4444444444444444,
              "#bd3786"
             ],
             [
              0.5555555555555556,
              "#d8576b"
             ],
             [
              0.6666666666666666,
              "#ed7953"
             ],
             [
              0.7777777777777778,
              "#fb9f3a"
             ],
             [
              0.8888888888888888,
              "#fdca26"
             ],
             [
              1,
              "#f0f921"
             ]
            ],
            "type": "contour"
           }
          ],
          "contourcarpet": [
           {
            "colorbar": {
             "outlinewidth": 0,
             "ticks": ""
            },
            "type": "contourcarpet"
           }
          ],
          "heatmap": [
           {
            "colorbar": {
             "outlinewidth": 0,
             "ticks": ""
            },
            "colorscale": [
             [
              0,
              "#0d0887"
             ],
             [
              0.1111111111111111,
              "#46039f"
             ],
             [
              0.2222222222222222,
              "#7201a8"
             ],
             [
              0.3333333333333333,
              "#9c179e"
             ],
             [
              0.4444444444444444,
              "#bd3786"
             ],
             [
              0.5555555555555556,
              "#d8576b"
             ],
             [
              0.6666666666666666,
              "#ed7953"
             ],
             [
              0.7777777777777778,
              "#fb9f3a"
             ],
             [
              0.8888888888888888,
              "#fdca26"
             ],
             [
              1,
              "#f0f921"
             ]
            ],
            "type": "heatmap"
           }
          ],
          "heatmapgl": [
           {
            "colorbar": {
             "outlinewidth": 0,
             "ticks": ""
            },
            "colorscale": [
             [
              0,
              "#0d0887"
             ],
             [
              0.1111111111111111,
              "#46039f"
             ],
             [
              0.2222222222222222,
              "#7201a8"
             ],
             [
              0.3333333333333333,
              "#9c179e"
             ],
             [
              0.4444444444444444,
              "#bd3786"
             ],
             [
              0.5555555555555556,
              "#d8576b"
             ],
             [
              0.6666666666666666,
              "#ed7953"
             ],
             [
              0.7777777777777778,
              "#fb9f3a"
             ],
             [
              0.8888888888888888,
              "#fdca26"
             ],
             [
              1,
              "#f0f921"
             ]
            ],
            "type": "heatmapgl"
           }
          ],
          "histogram": [
           {
            "marker": {
             "colorbar": {
              "outlinewidth": 0,
              "ticks": ""
             }
            },
            "type": "histogram"
           }
          ],
          "histogram2d": [
           {
            "colorbar": {
             "outlinewidth": 0,
             "ticks": ""
            },
            "colorscale": [
             [
              0,
              "#0d0887"
             ],
             [
              0.1111111111111111,
              "#46039f"
             ],
             [
              0.2222222222222222,
              "#7201a8"
             ],
             [
              0.3333333333333333,
              "#9c179e"
             ],
             [
              0.4444444444444444,
              "#bd3786"
             ],
             [
              0.5555555555555556,
              "#d8576b"
             ],
             [
              0.6666666666666666,
              "#ed7953"
             ],
             [
              0.7777777777777778,
              "#fb9f3a"
             ],
             [
              0.8888888888888888,
              "#fdca26"
             ],
             [
              1,
              "#f0f921"
             ]
            ],
            "type": "histogram2d"
           }
          ],
          "histogram2dcontour": [
           {
            "colorbar": {
             "outlinewidth": 0,
             "ticks": ""
            },
            "colorscale": [
             [
              0,
              "#0d0887"
             ],
             [
              0.1111111111111111,
              "#46039f"
             ],
             [
              0.2222222222222222,
              "#7201a8"
             ],
             [
              0.3333333333333333,
              "#9c179e"
             ],
             [
              0.4444444444444444,
              "#bd3786"
             ],
             [
              0.5555555555555556,
              "#d8576b"
             ],
             [
              0.6666666666666666,
              "#ed7953"
             ],
             [
              0.7777777777777778,
              "#fb9f3a"
             ],
             [
              0.8888888888888888,
              "#fdca26"
             ],
             [
              1,
              "#f0f921"
             ]
            ],
            "type": "histogram2dcontour"
           }
          ],
          "mesh3d": [
           {
            "colorbar": {
             "outlinewidth": 0,
             "ticks": ""
            },
            "type": "mesh3d"
           }
          ],
          "parcoords": [
           {
            "line": {
             "colorbar": {
              "outlinewidth": 0,
              "ticks": ""
             }
            },
            "type": "parcoords"
           }
          ],
          "scatter": [
           {
            "marker": {
             "colorbar": {
              "outlinewidth": 0,
              "ticks": ""
             }
            },
            "type": "scatter"
           }
          ],
          "scatter3d": [
           {
            "line": {
             "colorbar": {
              "outlinewidth": 0,
              "ticks": ""
             }
            },
            "marker": {
             "colorbar": {
              "outlinewidth": 0,
              "ticks": ""
             }
            },
            "type": "scatter3d"
           }
          ],
          "scattercarpet": [
           {
            "marker": {
             "colorbar": {
              "outlinewidth": 0,
              "ticks": ""
             }
            },
            "type": "scattercarpet"
           }
          ],
          "scattergeo": [
           {
            "marker": {
             "colorbar": {
              "outlinewidth": 0,
              "ticks": ""
             }
            },
            "type": "scattergeo"
           }
          ],
          "scattergl": [
           {
            "marker": {
             "colorbar": {
              "outlinewidth": 0,
              "ticks": ""
             }
            },
            "type": "scattergl"
           }
          ],
          "scattermapbox": [
           {
            "marker": {
             "colorbar": {
              "outlinewidth": 0,
              "ticks": ""
             }
            },
            "type": "scattermapbox"
           }
          ],
          "scatterpolar": [
           {
            "marker": {
             "colorbar": {
              "outlinewidth": 0,
              "ticks": ""
             }
            },
            "type": "scatterpolar"
           }
          ],
          "scatterpolargl": [
           {
            "marker": {
             "colorbar": {
              "outlinewidth": 0,
              "ticks": ""
             }
            },
            "type": "scatterpolargl"
           }
          ],
          "scatterternary": [
           {
            "marker": {
             "colorbar": {
              "outlinewidth": 0,
              "ticks": ""
             }
            },
            "type": "scatterternary"
           }
          ],
          "surface": [
           {
            "colorbar": {
             "outlinewidth": 0,
             "ticks": ""
            },
            "colorscale": [
             [
              0,
              "#0d0887"
             ],
             [
              0.1111111111111111,
              "#46039f"
             ],
             [
              0.2222222222222222,
              "#7201a8"
             ],
             [
              0.3333333333333333,
              "#9c179e"
             ],
             [
              0.4444444444444444,
              "#bd3786"
             ],
             [
              0.5555555555555556,
              "#d8576b"
             ],
             [
              0.6666666666666666,
              "#ed7953"
             ],
             [
              0.7777777777777778,
              "#fb9f3a"
             ],
             [
              0.8888888888888888,
              "#fdca26"
             ],
             [
              1,
              "#f0f921"
             ]
            ],
            "type": "surface"
           }
          ],
          "table": [
           {
            "cells": {
             "fill": {
              "color": "#EBF0F8"
             },
             "line": {
              "color": "white"
             }
            },
            "header": {
             "fill": {
              "color": "#C8D4E3"
             },
             "line": {
              "color": "white"
             }
            },
            "type": "table"
           }
          ]
         },
         "layout": {
          "annotationdefaults": {
           "arrowcolor": "#2a3f5f",
           "arrowhead": 0,
           "arrowwidth": 1
          },
          "colorscale": {
           "diverging": [
            [
             0,
             "#8e0152"
            ],
            [
             0.1,
             "#c51b7d"
            ],
            [
             0.2,
             "#de77ae"
            ],
            [
             0.3,
             "#f1b6da"
            ],
            [
             0.4,
             "#fde0ef"
            ],
            [
             0.5,
             "#f7f7f7"
            ],
            [
             0.6,
             "#e6f5d0"
            ],
            [
             0.7,
             "#b8e186"
            ],
            [
             0.8,
             "#7fbc41"
            ],
            [
             0.9,
             "#4d9221"
            ],
            [
             1,
             "#276419"
            ]
           ],
           "sequential": [
            [
             0,
             "#0d0887"
            ],
            [
             0.1111111111111111,
             "#46039f"
            ],
            [
             0.2222222222222222,
             "#7201a8"
            ],
            [
             0.3333333333333333,
             "#9c179e"
            ],
            [
             0.4444444444444444,
             "#bd3786"
            ],
            [
             0.5555555555555556,
             "#d8576b"
            ],
            [
             0.6666666666666666,
             "#ed7953"
            ],
            [
             0.7777777777777778,
             "#fb9f3a"
            ],
            [
             0.8888888888888888,
             "#fdca26"
            ],
            [
             1,
             "#f0f921"
            ]
           ],
           "sequentialminus": [
            [
             0,
             "#0d0887"
            ],
            [
             0.1111111111111111,
             "#46039f"
            ],
            [
             0.2222222222222222,
             "#7201a8"
            ],
            [
             0.3333333333333333,
             "#9c179e"
            ],
            [
             0.4444444444444444,
             "#bd3786"
            ],
            [
             0.5555555555555556,
             "#d8576b"
            ],
            [
             0.6666666666666666,
             "#ed7953"
            ],
            [
             0.7777777777777778,
             "#fb9f3a"
            ],
            [
             0.8888888888888888,
             "#fdca26"
            ],
            [
             1,
             "#f0f921"
            ]
           ]
          },
          "colorway": [
           "#636efa",
           "#EF553B",
           "#00cc96",
           "#ab63fa",
           "#FFA15A",
           "#19d3f3",
           "#FF6692",
           "#B6E880",
           "#FF97FF",
           "#FECB52"
          ],
          "font": {
           "color": "#2a3f5f"
          },
          "geo": {
           "bgcolor": "white",
           "lakecolor": "white",
           "landcolor": "#E5ECF6",
           "showlakes": true,
           "showland": true,
           "subunitcolor": "white"
          },
          "hoverlabel": {
           "align": "left"
          },
          "hovermode": "closest",
          "mapbox": {
           "style": "light"
          },
          "paper_bgcolor": "white",
          "plot_bgcolor": "#E5ECF6",
          "polar": {
           "angularaxis": {
            "gridcolor": "white",
            "linecolor": "white",
            "ticks": ""
           },
           "bgcolor": "#E5ECF6",
           "radialaxis": {
            "gridcolor": "white",
            "linecolor": "white",
            "ticks": ""
           }
          },
          "scene": {
           "xaxis": {
            "backgroundcolor": "#E5ECF6",
            "gridcolor": "white",
            "gridwidth": 2,
            "linecolor": "white",
            "showbackground": true,
            "ticks": "",
            "zerolinecolor": "white"
           },
           "yaxis": {
            "backgroundcolor": "#E5ECF6",
            "gridcolor": "white",
            "gridwidth": 2,
            "linecolor": "white",
            "showbackground": true,
            "ticks": "",
            "zerolinecolor": "white"
           },
           "zaxis": {
            "backgroundcolor": "#E5ECF6",
            "gridcolor": "white",
            "gridwidth": 2,
            "linecolor": "white",
            "showbackground": true,
            "ticks": "",
            "zerolinecolor": "white"
           }
          },
          "shapedefaults": {
           "line": {
            "color": "#2a3f5f"
           }
          },
          "ternary": {
           "aaxis": {
            "gridcolor": "white",
            "linecolor": "white",
            "ticks": ""
           },
           "baxis": {
            "gridcolor": "white",
            "linecolor": "white",
            "ticks": ""
           },
           "bgcolor": "#E5ECF6",
           "caxis": {
            "gridcolor": "white",
            "linecolor": "white",
            "ticks": ""
           }
          },
          "title": {
           "x": 0.05
          },
          "xaxis": {
           "automargin": true,
           "gridcolor": "white",
           "linecolor": "white",
           "ticks": "",
           "zerolinecolor": "white",
           "zerolinewidth": 2
          },
          "yaxis": {
           "automargin": true,
           "gridcolor": "white",
           "linecolor": "white",
           "ticks": "",
           "zerolinecolor": "white",
           "zerolinewidth": 2
          }
         }
        },
        "title": {
         "text": "Weekly/Monthly Close Price"
        },
        "updatemenus": [
         {
          "active": -1,
          "buttons": [
           {
            "args": [
             {
              "visible": [
               true,
               false
              ]
             }
            ],
            "label": "Weekly",
            "method": "update"
           },
           {
            "args": [
             {
              "visible": [
               false,
               true
              ]
             }
            ],
            "label": "Monthly",
            "method": "update"
           },
           {
            "args": [
             {
              "visible": [
               true,
               true
              ]
             }
            ],
            "label": "Reset",
            "method": "update"
           }
          ],
          "x": 1.28,
          "y": 0.75
         }
        ],
        "width": 550,
        "xaxis": {
         "title": {
          "text": "timestamp"
         }
        },
        "yaxis": {
         "title": {
          "text": "VWAP /USD"
         }
        }
       }
      },
      "text/html": [
       "<div>\n",
       "        \n",
       "        \n",
       "            <div id=\"cdbe05b5-1493-4884-b5ce-f71693afcfc8\" class=\"plotly-graph-div\" style=\"height:400px; width:550px;\"></div>\n",
       "            <script type=\"text/javascript\">\n",
       "                require([\"plotly\"], function(Plotly) {\n",
       "                    window.PLOTLYENV=window.PLOTLYENV || {};\n",
       "                    \n",
       "                if (document.getElementById(\"cdbe05b5-1493-4884-b5ce-f71693afcfc8\")) {\n",
       "                    Plotly.newPlot(\n",
       "                        'cdbe05b5-1493-4884-b5ce-f71693afcfc8',\n",
       "                        [{\"marker\": {\"color\": \"rgba(235, 115, 150, 0.8)\"}, \"mode\": \"lines\", \"name\": \"Weekly\", \"type\": \"scatter\", \"x\": [\"2012-01-01T00:00:00\", \"2012-01-08T00:00:00\", \"2012-01-15T00:00:00\", \"2012-01-22T00:00:00\", \"2012-01-29T00:00:00\", \"2012-02-05T00:00:00\", \"2012-02-12T00:00:00\", \"2012-02-19T00:00:00\", \"2012-02-26T00:00:00\", \"2012-03-04T00:00:00\", \"2012-03-11T00:00:00\", \"2012-03-18T00:00:00\", \"2012-03-25T00:00:00\", \"2012-04-01T00:00:00\", \"2012-04-08T00:00:00\", \"2012-04-15T00:00:00\", \"2012-04-22T00:00:00\", \"2012-04-29T00:00:00\", \"2012-05-06T00:00:00\", \"2012-05-13T00:00:00\", \"2012-05-20T00:00:00\", \"2012-05-27T00:00:00\", \"2012-06-03T00:00:00\", \"2012-06-10T00:00:00\", \"2012-06-17T00:00:00\", \"2012-06-24T00:00:00\", \"2012-07-01T00:00:00\", \"2012-07-08T00:00:00\", \"2012-07-15T00:00:00\", \"2012-07-22T00:00:00\", \"2012-07-29T00:00:00\", \"2012-08-05T00:00:00\", \"2012-08-12T00:00:00\", \"2012-08-19T00:00:00\", \"2012-08-26T00:00:00\", \"2012-09-02T00:00:00\", \"2012-09-09T00:00:00\", \"2012-09-16T00:00:00\", \"2012-09-23T00:00:00\", \"2012-09-30T00:00:00\", \"2012-10-07T00:00:00\", \"2012-10-14T00:00:00\", \"2012-10-21T00:00:00\", \"2012-10-28T00:00:00\", \"2012-11-04T00:00:00\", \"2012-11-11T00:00:00\", \"2012-11-18T00:00:00\", \"2012-11-25T00:00:00\", \"2012-12-02T00:00:00\", \"2012-12-09T00:00:00\", \"2012-12-16T00:00:00\", \"2012-12-23T00:00:00\", \"2012-12-30T00:00:00\", \"2013-01-06T00:00:00\", \"2013-01-13T00:00:00\", \"2013-01-20T00:00:00\", \"2013-01-27T00:00:00\", \"2013-02-03T00:00:00\", \"2013-02-10T00:00:00\", \"2013-02-17T00:00:00\", \"2013-02-24T00:00:00\", \"2013-03-03T00:00:00\", \"2013-03-10T00:00:00\", \"2013-03-17T00:00:00\", \"2013-03-24T00:00:00\", \"2013-03-31T00:00:00\", \"2013-04-07T00:00:00\", \"2013-04-14T00:00:00\", \"2013-04-21T00:00:00\", \"2013-04-28T00:00:00\", \"2013-05-05T00:00:00\", \"2013-05-12T00:00:00\", \"2013-05-19T00:00:00\", \"2013-05-26T00:00:00\", \"2013-06-02T00:00:00\", \"2013-06-09T00:00:00\", \"2013-06-16T00:00:00\", \"2013-06-23T00:00:00\", \"2013-06-30T00:00:00\", \"2013-07-07T00:00:00\", \"2013-07-14T00:00:00\", \"2013-07-21T00:00:00\", \"2013-07-28T00:00:00\", \"2013-08-04T00:00:00\", \"2013-08-11T00:00:00\", \"2013-08-18T00:00:00\", \"2013-08-25T00:00:00\", \"2013-09-01T00:00:00\", \"2013-09-08T00:00:00\", \"2013-09-15T00:00:00\", \"2013-09-22T00:00:00\", \"2013-09-29T00:00:00\", \"2013-10-06T00:00:00\", \"2013-10-13T00:00:00\", \"2013-10-20T00:00:00\", \"2013-10-27T00:00:00\", \"2013-11-03T00:00:00\", \"2013-11-10T00:00:00\", \"2013-11-17T00:00:00\", \"2013-11-24T00:00:00\", \"2013-12-01T00:00:00\", \"2013-12-08T00:00:00\", \"2013-12-15T00:00:00\", \"2013-12-22T00:00:00\", \"2013-12-29T00:00:00\", \"2014-01-05T00:00:00\", \"2014-01-12T00:00:00\", \"2014-01-19T00:00:00\", \"2014-01-26T00:00:00\", \"2014-02-02T00:00:00\", \"2014-02-09T00:00:00\", \"2014-02-16T00:00:00\", \"2014-02-23T00:00:00\", \"2014-03-02T00:00:00\", \"2014-03-09T00:00:00\", \"2014-03-16T00:00:00\", \"2014-03-23T00:00:00\", \"2014-03-30T00:00:00\", \"2014-04-06T00:00:00\", \"2014-04-13T00:00:00\", \"2014-04-20T00:00:00\", \"2014-04-27T00:00:00\", \"2014-05-04T00:00:00\", \"2014-05-11T00:00:00\", \"2014-05-18T00:00:00\", \"2014-05-25T00:00:00\", \"2014-06-01T00:00:00\", \"2014-06-08T00:00:00\", \"2014-06-15T00:00:00\", \"2014-06-22T00:00:00\", \"2014-06-29T00:00:00\", \"2014-07-06T00:00:00\", \"2014-07-13T00:00:00\", \"2014-07-20T00:00:00\", \"2014-07-27T00:00:00\", \"2014-08-03T00:00:00\", \"2014-08-10T00:00:00\", \"2014-08-17T00:00:00\", \"2014-08-24T00:00:00\", \"2014-08-31T00:00:00\", \"2014-09-07T00:00:00\", \"2014-09-14T00:00:00\", \"2014-09-21T00:00:00\", \"2014-09-28T00:00:00\", \"2014-10-05T00:00:00\", \"2014-10-12T00:00:00\", \"2014-10-19T00:00:00\", \"2014-10-26T00:00:00\", \"2014-11-02T00:00:00\", \"2014-11-09T00:00:00\", \"2014-11-16T00:00:00\", \"2014-11-23T00:00:00\", \"2014-11-30T00:00:00\", \"2014-12-07T00:00:00\", \"2014-12-14T00:00:00\", \"2014-12-21T00:00:00\", \"2014-12-28T00:00:00\", \"2015-01-04T00:00:00\", \"2015-01-11T00:00:00\", \"2015-01-18T00:00:00\", \"2015-01-25T00:00:00\", \"2015-02-01T00:00:00\", \"2015-02-08T00:00:00\", \"2015-02-15T00:00:00\", \"2015-02-22T00:00:00\", \"2015-03-01T00:00:00\", \"2015-03-08T00:00:00\", \"2015-03-15T00:00:00\", \"2015-03-22T00:00:00\", \"2015-03-29T00:00:00\", \"2015-04-05T00:00:00\", \"2015-04-12T00:00:00\", \"2015-04-19T00:00:00\", \"2015-04-26T00:00:00\", \"2015-05-03T00:00:00\", \"2015-05-10T00:00:00\", \"2015-05-17T00:00:00\", \"2015-05-24T00:00:00\", \"2015-05-31T00:00:00\", \"2015-06-07T00:00:00\", \"2015-06-14T00:00:00\", \"2015-06-21T00:00:00\", \"2015-06-28T00:00:00\", \"2015-07-05T00:00:00\", \"2015-07-12T00:00:00\", \"2015-07-19T00:00:00\", \"2015-07-26T00:00:00\", \"2015-08-02T00:00:00\", \"2015-08-09T00:00:00\", \"2015-08-16T00:00:00\", \"2015-08-23T00:00:00\", \"2015-08-30T00:00:00\", \"2015-09-06T00:00:00\", \"2015-09-13T00:00:00\", \"2015-09-20T00:00:00\", \"2015-09-27T00:00:00\", \"2015-10-04T00:00:00\", \"2015-10-11T00:00:00\", \"2015-10-18T00:00:00\", \"2015-10-25T00:00:00\", \"2015-11-01T00:00:00\", \"2015-11-08T00:00:00\", \"2015-11-15T00:00:00\", \"2015-11-22T00:00:00\", \"2015-11-29T00:00:00\", \"2015-12-06T00:00:00\", \"2015-12-13T00:00:00\", \"2015-12-20T00:00:00\", \"2015-12-27T00:00:00\", \"2016-01-03T00:00:00\", \"2016-01-10T00:00:00\", \"2016-01-17T00:00:00\", \"2016-01-24T00:00:00\", \"2016-01-31T00:00:00\", \"2016-02-07T00:00:00\", \"2016-02-14T00:00:00\", \"2016-02-21T00:00:00\", \"2016-02-28T00:00:00\", \"2016-03-06T00:00:00\", \"2016-03-13T00:00:00\", \"2016-03-20T00:00:00\", \"2016-03-27T00:00:00\", \"2016-04-03T00:00:00\", \"2016-04-10T00:00:00\", \"2016-04-17T00:00:00\", \"2016-04-24T00:00:00\", \"2016-05-01T00:00:00\", \"2016-05-08T00:00:00\", \"2016-05-15T00:00:00\", \"2016-05-22T00:00:00\", \"2016-05-29T00:00:00\", \"2016-06-05T00:00:00\", \"2016-06-12T00:00:00\", \"2016-06-19T00:00:00\", \"2016-06-26T00:00:00\", \"2016-07-03T00:00:00\", \"2016-07-10T00:00:00\", \"2016-07-17T00:00:00\", \"2016-07-24T00:00:00\", \"2016-07-31T00:00:00\", \"2016-08-07T00:00:00\", \"2016-08-14T00:00:00\", \"2016-08-21T00:00:00\", \"2016-08-28T00:00:00\", \"2016-09-04T00:00:00\", \"2016-09-11T00:00:00\", \"2016-09-18T00:00:00\", \"2016-09-25T00:00:00\", \"2016-10-02T00:00:00\", \"2016-10-09T00:00:00\", \"2016-10-16T00:00:00\", \"2016-10-23T00:00:00\", \"2016-10-30T00:00:00\", \"2016-11-06T00:00:00\", \"2016-11-13T00:00:00\", \"2016-11-20T00:00:00\", \"2016-11-27T00:00:00\", \"2016-12-04T00:00:00\", \"2016-12-11T00:00:00\", \"2016-12-18T00:00:00\", \"2016-12-25T00:00:00\", \"2017-01-01T00:00:00\", \"2017-01-08T00:00:00\", \"2017-01-15T00:00:00\", \"2017-01-22T00:00:00\", \"2017-01-29T00:00:00\", \"2017-02-05T00:00:00\", \"2017-02-12T00:00:00\", \"2017-02-19T00:00:00\", \"2017-02-26T00:00:00\", \"2017-03-05T00:00:00\", \"2017-03-12T00:00:00\", \"2017-03-19T00:00:00\", \"2017-03-26T00:00:00\", \"2017-04-02T00:00:00\", \"2017-04-09T00:00:00\", \"2017-04-16T00:00:00\", \"2017-04-23T00:00:00\", \"2017-04-30T00:00:00\", \"2017-05-07T00:00:00\", \"2017-05-14T00:00:00\", \"2017-05-21T00:00:00\", \"2017-05-28T00:00:00\", \"2017-06-04T00:00:00\", \"2017-06-11T00:00:00\", \"2017-06-18T00:00:00\", \"2017-06-25T00:00:00\", \"2017-07-02T00:00:00\", \"2017-07-09T00:00:00\", \"2017-07-16T00:00:00\", \"2017-07-23T00:00:00\", \"2017-07-30T00:00:00\", \"2017-08-06T00:00:00\", \"2017-08-13T00:00:00\", \"2017-08-20T00:00:00\", \"2017-08-27T00:00:00\", \"2017-09-03T00:00:00\", \"2017-09-10T00:00:00\", \"2017-09-17T00:00:00\", \"2017-09-24T00:00:00\", \"2017-10-01T00:00:00\", \"2017-10-08T00:00:00\", \"2017-10-15T00:00:00\", \"2017-10-22T00:00:00\", \"2017-10-29T00:00:00\", \"2017-11-05T00:00:00\", \"2017-11-12T00:00:00\", \"2017-11-19T00:00:00\", \"2017-11-26T00:00:00\", \"2017-12-03T00:00:00\", \"2017-12-10T00:00:00\", \"2017-12-17T00:00:00\", \"2017-12-24T00:00:00\", \"2017-12-31T00:00:00\", \"2018-01-07T00:00:00\", \"2018-01-14T00:00:00\", \"2018-01-21T00:00:00\", \"2018-01-28T00:00:00\", \"2018-02-04T00:00:00\", \"2018-02-11T00:00:00\", \"2018-02-18T00:00:00\", \"2018-02-25T00:00:00\", \"2018-03-04T00:00:00\", \"2018-03-11T00:00:00\", \"2018-03-18T00:00:00\", \"2018-03-25T00:00:00\", \"2018-04-01T00:00:00\", \"2018-04-08T00:00:00\", \"2018-04-15T00:00:00\", \"2018-04-22T00:00:00\", \"2018-04-29T00:00:00\", \"2018-05-06T00:00:00\", \"2018-05-13T00:00:00\", \"2018-05-20T00:00:00\", \"2018-05-27T00:00:00\", \"2018-06-03T00:00:00\", \"2018-06-10T00:00:00\", \"2018-06-17T00:00:00\", \"2018-06-24T00:00:00\", \"2018-07-01T00:00:00\", \"2018-07-08T00:00:00\", \"2018-07-15T00:00:00\", \"2018-07-22T00:00:00\", \"2018-07-29T00:00:00\", \"2018-08-05T00:00:00\", \"2018-08-12T00:00:00\", \"2018-08-19T00:00:00\", \"2018-08-26T00:00:00\", \"2018-09-02T00:00:00\", \"2018-09-09T00:00:00\", \"2018-09-16T00:00:00\", \"2018-09-23T00:00:00\", \"2018-09-30T00:00:00\", \"2018-10-07T00:00:00\", \"2018-10-14T00:00:00\", \"2018-10-21T00:00:00\", \"2018-10-28T00:00:00\", \"2018-11-04T00:00:00\", \"2018-11-11T00:00:00\", \"2018-11-18T00:00:00\", \"2018-11-25T00:00:00\", \"2018-12-02T00:00:00\", \"2018-12-09T00:00:00\", \"2018-12-16T00:00:00\", \"2018-12-23T00:00:00\", \"2018-12-30T00:00:00\", \"2019-01-06T00:00:00\", \"2019-01-13T00:00:00\", \"2019-01-20T00:00:00\", \"2019-01-27T00:00:00\", \"2019-02-03T00:00:00\", \"2019-02-10T00:00:00\", \"2019-02-17T00:00:00\", \"2019-02-24T00:00:00\", \"2019-03-03T00:00:00\", \"2019-03-10T00:00:00\", \"2019-03-17T00:00:00\", \"2019-03-24T00:00:00\", \"2019-03-31T00:00:00\", \"2019-04-07T00:00:00\", \"2019-04-14T00:00:00\", \"2019-04-21T00:00:00\", \"2019-04-28T00:00:00\", \"2019-05-05T00:00:00\", \"2019-05-12T00:00:00\", \"2019-05-19T00:00:00\", \"2019-05-26T00:00:00\", \"2019-06-02T00:00:00\", \"2019-06-09T00:00:00\", \"2019-06-16T00:00:00\", \"2019-06-23T00:00:00\", \"2019-06-30T00:00:00\", \"2019-07-07T00:00:00\", \"2019-07-14T00:00:00\", \"2019-07-21T00:00:00\", \"2019-07-28T00:00:00\", \"2019-08-04T00:00:00\", \"2019-08-11T00:00:00\", \"2019-08-18T00:00:00\"], \"y\": [4.597101328903644, 5.870808531746655, 6.724608134920922, 6.71512499999916, 6.050625992063692, 5.871852182539883, 5.686942460316916, 4.802238095238033, 4.760390873015585, 4.897773809523966, 4.970852182539799, 5.254234126984064, 4.848571428571462, 4.804049603174285, 4.908586309523865, 4.864255952380947, 5.122292658730152, 5.050317460317804, 5.04833134920636, 4.9922321428573, 5.0122817460317295, 5.071747023809254, 5.140667658730177, 5.437460317460253, 5.928800595238248, 6.466183531745757, 6.4568541666665675, 6.58329563492037, 7.2482182539686795, 8.498597222222399, 8.677212301587891, 9.852252976190334, 11.078488095238196, 12.196884920635046, 10.085720238095103, 10.585099206349017, 10.661314484126805, 11.23717559523856, 12.074261904762544, 12.070582341269377, 12.435364087301794, 11.838424603174559, 11.674784722222064, 10.934993055555356, 10.710805555555796, 10.708098214285945, 11.140709325397248, 11.857368055555622, 12.284731150793604, 13.054926587301207, 13.377827380952343, 13.217221230158673, 13.165268849205841, 13.158450396825224, 13.64591170634914, 14.824726190475761, 17.157746031745994, 19.57242559523807, 21.62377678571428, 25.933641865078886, 29.123015873015532, 32.514612103174436, 42.3860763888895, 46.578383928572066, 62.45119246031738, 86.61316964285639, 128.80443948412776, 142.79539980158592, 98.9743630952383, 135.4334761904771, 119.33772420634946, 113.94707242063431, 114.56299007936472, 122.51401091269746, 127.3814365079392, 115.21210119047578, 103.31576388888878, 102.53283035714242, 95.14940079365024, 77.6600357142851, 83.52787698412679, 88.1146706349212, 88.28186408730231, 96.00760416666614, 95.56874603174728, 97.60970039682415, 107.44882043650631, 120.72761408729933, 124.08977480158475, 124.31625892856987, 125.19804662698314, 124.88138293650698, 121.48982738095319, 125.90863988095406, 147.48996329364735, 185.70298511904517, 201.28408333333178, 279.0896240079375, 397.08613789682397, 675.0893630952443, 969.6259821428697, 943.1736666666782, 880.7214960317502, 651.2808541666691, 688.9710476190496, 776.7989375000003, 861.3559454365201, 819.1963501984209, 811.9763115079438, 799.7589593254022, 759.7760307539752, 655.7707738095262, 609.1748412698412, 560.6332093254039, 644.8530664682534, 634.5906220238162, 594.37990972223, 533.6035049603232, 455.4868412698429, 430.53258432540486, 492.4125406746024, 479.2755744047568, 445.24933531746666, 441.6149533730187, 445.12576091270154, 505.4643621031778, 595.0504295634919, 652.2373988095308, 611.6513650793684, 598.1377281746144, 584.534203373022, 637.6899811508061, 625.8773035714385, 623.5201408730269, 609.744609126982, 584.6804791666743, 586.4714623015949, 534.627279761905, 499.63023214285954, 505.8017857142908, 480.1156835317555, 473.909498015876, 437.50392757936385, 408.06305456349156, 365.3098581349228, 348.87660813492084, 388.8477113095253, 369.090292658733, 341.83294047619216, 339.6646577380955, 389.6698412698414, 371.0311349206389, 375.1787906746049, 376.10239384920567, 354.88299503968415, 327.6431676587339, 324.51450099206716, 307.7390000000012, 277.9574307095332, 218.43653273809386, 227.1718323412682, 244.48156746031785, 226.41543750000193, 230.17497916666622, 240.89681249999816, 243.3319176587309, 272.1933244047624, 288.28146428571955, 270.5751140872994, 251.74518353174733, 249.1632539682481, 245.10490773809443, 224.2198363095247, 228.56063690476134, 229.86313690476462, 237.38324107142944, 238.4748224206339, 235.9525674603144, 235.09371924602985, 224.7307817460322, 229.09200496031943, 243.58797916666737, 244.3332053571379, 257.87015476190237, 279.0383829365079, 284.32082242063643, 281.8826884920667, 287.2510555555561, 277.75909027778056, 264.6838660714231, 238.73073412698412, 224.98108630952382, 230.8181825396827, 239.0943035714259, 230.51459623015992, 231.48980257936313, 237.70397519841254, 243.68095238095339, 256.19331150793454, 274.0231011904775, 307.3193204365058, 387.1744325396836, 339.4868373015888, 327.3316240079363, 340.2571150793671, 369.8884226190476, 417.26802777777755, 454.79971428571497, 439.32854960317104, 428.6569305555552, 441.90760615079597, 415.90096726190757, 392.6015932539694, 385.1646061507927, 376.20563392857287, 381.5496001984161, 417.84251289682845, 427.09398809523594, 421.0906894841315, 413.12972718254395, 413.13085615079393, 415.40170138889283, 417.3243829365081, 419.9291517857179, 425.49382242063615, 441.3421517857145, 455.11939285714533, 451.03587499999566, 455.3157847222255, 448.3579503968305, 466.2544573412673, 547.4862936507974, 588.3828482142852, 722.2330644841329, 661.6420992063511, 658.4366765873133, 657.5018005952446, 660.4012787698457, 664.5680119047527, 651.6841686507964, 580.9085109127016, 586.1156418650844, 572.6560843254001, 576.2927688492074, 576.631581349207, 614.4669077381027, 606.5060783730155, 600.4092470238187, 605.6726061507931, 610.7337579365241, 632.5101359126897, 635.9345734127098, 676.1885744047681, 710.4925456349223, 709.8472797619141, 730.17040873016, 734.8380000000143, 747.7875178571447, 763.5731746031933, 780.1507261904876, 846.8341696428636, 946.8654246031919, 981.5053015873016, 839.5594077380986, 888.3886646825434, 911.4220069444334, 981.5590615079491, 1018.6610446428643, 1028.9525317460377, 1135.0116220238183, 1232.0829543650877, 1210.1009404761892, 1160.7422251984196, 1012.7393055555617, 1045.317267857138, 1162.5320952380944, 1192.6739771825416, 1215.5504692460302, 1299.3483382936658, 1494.4915476190504, 1731.965047619058, 1851.9882916666788, 2270.4848541666715, 2375.4382023809458, 2798.475909722215, 2585.987141865082, 2649.635595238076, 2485.174653769825, 2554.736291666641, 2257.5454206349295, 2486.670937499995, 2653.9165357142915, 2886.3134890873116, 3534.4321369047425, 4170.145761904759, 4182.174832341265, 4582.31145634921, 4383.296266865068, 3823.103563492081, 3809.7412043650766, 4095.054509920627, 4345.533176587304, 5178.876763888922, 5732.640350198429, 5765.659687499991, 6824.964238095242, 6941.93151984128, 7256.132386904761, 8312.524563492003, 10301.070389880955, 13533.728959325394, 17221.35608928579, 16040.309145833313, 14303.83081448412, 15151.949033730185, 14232.44397718248, 12006.09286111105, 11155.454458333255, 9655.80723809517, 7953.907624999966, 9643.38732341263, 10424.383394841143, 10757.474713293463, 9978.6916815476, 8506.909797619017, 8668.239105158713, 7471.548928571395, 6952.670554563489, 7443.7746894841175, 8360.21948015869, 9161.163528769803, 9410.4209632936, 8962.726052579299, 8358.256767857121, 7757.944848214368, 7464.4357956349395, 7537.045932539677, 6568.911119047653, 6454.145445436526, 6171.522336309535, 6579.484346230152, 6364.4656329365625, 7201.164731150783, 8086.479697420611, 7549.66151190474, 6528.720052579357, 6346.59598412702, 6541.894893849287, 7000.371844246057, 6746.136385912759, 6398.5455386904705, 6501.882280753955, 6545.139760912694, 6535.062326388904, 6361.174254960347, 6412.685374999997, 6405.324468254007, 6318.975777777841, 6404.897632936501, 5815.086370039655, 4408.433374999997, 4015.7236279761905, 3648.67949900792, 3317.6842549603157, 3759.385125992088, 3822.640382936517, 3800.719302579381, 3811.299673611088, 3617.506606150811, 3555.004700396809, 3422.6091696428616, 3463.729325396835, 3581.1478859127105, 3909.9113799603183, 3802.6219920634985, 3835.126124007938, 3890.6871478174494, 3982.690567460288, 4013.012192460342, 4847.86945436508, 5153.450329365079, 5223.507439484137, 5320.638467261902, 5435.978236111115, 6237.696533730138, 7710.606700396815, 7944.085464285713, 8621.01549404761, 7940.742124007868, 8300.261511904746, 9738.107212301606, 11667.999308531718, 11138.314239087269, 11774.223039682516, 10305.487817460313, 9892.018324404713, 10158.29753670636, 11675.965205357155, 11520.0]}, {\"marker\": {\"color\": \"rgba(115, 120, 235, 0.8)\"}, \"mode\": \"lines\", \"name\": \"Monthly\", \"type\": \"scatter\", \"x\": [\"2011-12-31T00:00:00\", \"2012-01-31T00:00:00\", \"2012-02-29T00:00:00\", \"2012-03-31T00:00:00\", \"2012-04-30T00:00:00\", \"2012-05-31T00:00:00\", \"2012-06-30T00:00:00\", \"2012-07-31T00:00:00\", \"2012-08-31T00:00:00\", \"2012-09-30T00:00:00\", \"2012-10-31T00:00:00\", \"2012-11-30T00:00:00\", \"2012-12-31T00:00:00\", \"2013-01-31T00:00:00\", \"2013-02-28T00:00:00\", \"2013-03-31T00:00:00\", \"2013-04-30T00:00:00\", \"2013-05-31T00:00:00\", \"2013-06-30T00:00:00\", \"2013-07-31T00:00:00\", \"2013-08-31T00:00:00\", \"2013-09-30T00:00:00\", \"2013-10-31T00:00:00\", \"2013-11-30T00:00:00\", \"2013-12-31T00:00:00\", \"2014-01-31T00:00:00\", \"2014-02-28T00:00:00\", \"2014-03-31T00:00:00\", \"2014-04-30T00:00:00\", \"2014-05-31T00:00:00\", \"2014-06-30T00:00:00\", \"2014-07-31T00:00:00\", \"2014-08-31T00:00:00\", \"2014-09-30T00:00:00\", \"2014-10-31T00:00:00\", \"2014-11-30T00:00:00\", \"2014-12-31T00:00:00\", \"2015-01-31T00:00:00\", \"2015-02-28T00:00:00\", \"2015-03-31T00:00:00\", \"2015-04-30T00:00:00\", \"2015-05-31T00:00:00\", \"2015-06-30T00:00:00\", \"2015-07-31T00:00:00\", \"2015-08-31T00:00:00\", \"2015-09-30T00:00:00\", \"2015-10-31T00:00:00\", \"2015-11-30T00:00:00\", \"2015-12-31T00:00:00\", \"2016-01-31T00:00:00\", \"2016-02-29T00:00:00\", \"2016-03-31T00:00:00\", \"2016-04-30T00:00:00\", \"2016-05-31T00:00:00\", \"2016-06-30T00:00:00\", \"2016-07-31T00:00:00\", \"2016-08-31T00:00:00\", \"2016-09-30T00:00:00\", \"2016-10-31T00:00:00\", \"2016-11-30T00:00:00\", \"2016-12-31T00:00:00\", \"2017-01-31T00:00:00\", \"2017-02-28T00:00:00\", \"2017-03-31T00:00:00\", \"2017-04-30T00:00:00\", \"2017-05-31T00:00:00\", \"2017-06-30T00:00:00\", \"2017-07-31T00:00:00\", \"2017-08-31T00:00:00\", \"2017-09-30T00:00:00\", \"2017-10-31T00:00:00\", \"2017-11-30T00:00:00\", \"2017-12-31T00:00:00\", \"2018-01-31T00:00:00\", \"2018-02-28T00:00:00\", \"2018-03-31T00:00:00\", \"2018-04-30T00:00:00\", \"2018-05-31T00:00:00\", \"2018-06-30T00:00:00\", \"2018-07-31T00:00:00\", \"2018-08-31T00:00:00\", \"2018-09-30T00:00:00\", \"2018-10-31T00:00:00\", \"2018-11-30T00:00:00\", \"2018-12-31T00:00:00\", \"2019-01-31T00:00:00\", \"2019-02-28T00:00:00\", \"2019-03-31T00:00:00\", \"2019-04-30T00:00:00\", \"2019-05-31T00:00:00\", \"2019-06-30T00:00:00\", \"2019-07-31T00:00:00\", \"2019-08-31T00:00:00\"], \"y\": [4.472623966942128, 6.236086021505003, 5.2323060344827965, 4.953967069892953, 4.980801851851757, 5.0425237455189595, 5.967728009260031, 7.792718413977957, 10.923262768818, 11.411100462962624, 11.62360707885319, 11.332354398147965, 13.152061827956912, 15.311421818996191, 25.804066220238546, 57.05487948028503, 127.4523379629676, 117.75818660394957, 105.52177129629682, 85.43869847670291, 103.41510707885645, 124.85867175926235, 152.72389717742578, 528.006719675924, 794.5134939515951, 819.0494536290122, 664.3416004464233, 594.6716332885185, 462.5736148148224, 485.54925694444046, 613.0983685185003, 618.645241487445, 537.332898745528, 445.1967476852015, 363.99250582438566, 366.1329293981566, 342.7484816308402, 245.92339472857734, 234.08491071429066, 268.4253357974895, 234.71102986111129, 236.60713754480787, 236.89043773148072, 279.26832571683985, 252.6686581541291, 233.5340145833384, 264.68463911290866, 348.38838865740814, 422.51978024193926, 411.1061948924678, 401.8878311781728, 415.2417412634504, 433.151630092599, 459.9160515232973, 638.3158638888876, 660.5488369175742, 578.4359605734752, 602.835983101872, 638.9159359318751, 723.2232388888701, 820.069229614696, 909.0586158154065, 1059.6586480654655, 1131.9633210125628, 1208.2725583333286, 1877.679476926511, 2619.677824305532, 2494.7669016576874, 3827.909653001837, 4084.977108564804, 5284.280041666705, 7755.6250675927195, 14842.560447356704, 12894.228812948337, 9390.257691964629, 9025.751945788796, 7983.760862731631, 8439.250342742258, 6784.682092361159, 7097.427469982336, 6689.576456989446, 6589.556742592639, 6415.216750448044, 5389.040078472173, 3670.7970353942405, 3658.6765396505252, 3648.410920634906, 3918.4071467294048, 5139.082030324077, 7228.432265232988, 9357.994893287025, 10668.077006720501, 11263.630360457044]}],\n",
       "                        {\"height\": 400, \"template\": {\"data\": {\"bar\": [{\"error_x\": {\"color\": \"#2a3f5f\"}, \"error_y\": {\"color\": \"#2a3f5f\"}, \"marker\": {\"line\": {\"color\": \"#E5ECF6\", \"width\": 0.5}}, \"type\": \"bar\"}], \"barpolar\": [{\"marker\": {\"line\": {\"color\": \"#E5ECF6\", \"width\": 0.5}}, \"type\": \"barpolar\"}], \"carpet\": [{\"aaxis\": {\"endlinecolor\": \"#2a3f5f\", \"gridcolor\": \"white\", \"linecolor\": \"white\", \"minorgridcolor\": \"white\", \"startlinecolor\": \"#2a3f5f\"}, \"baxis\": {\"endlinecolor\": \"#2a3f5f\", \"gridcolor\": \"white\", \"linecolor\": \"white\", \"minorgridcolor\": \"white\", \"startlinecolor\": \"#2a3f5f\"}, \"type\": \"carpet\"}], \"choropleth\": [{\"colorbar\": {\"outlinewidth\": 0, \"ticks\": \"\"}, \"type\": \"choropleth\"}], \"contour\": [{\"colorbar\": {\"outlinewidth\": 0, \"ticks\": \"\"}, \"colorscale\": [[0.0, \"#0d0887\"], [0.1111111111111111, \"#46039f\"], [0.2222222222222222, \"#7201a8\"], [0.3333333333333333, \"#9c179e\"], [0.4444444444444444, \"#bd3786\"], [0.5555555555555556, \"#d8576b\"], [0.6666666666666666, \"#ed7953\"], [0.7777777777777778, \"#fb9f3a\"], [0.8888888888888888, \"#fdca26\"], [1.0, \"#f0f921\"]], \"type\": \"contour\"}], \"contourcarpet\": [{\"colorbar\": {\"outlinewidth\": 0, \"ticks\": \"\"}, \"type\": \"contourcarpet\"}], \"heatmap\": [{\"colorbar\": {\"outlinewidth\": 0, \"ticks\": \"\"}, \"colorscale\": [[0.0, \"#0d0887\"], [0.1111111111111111, \"#46039f\"], [0.2222222222222222, \"#7201a8\"], [0.3333333333333333, \"#9c179e\"], [0.4444444444444444, \"#bd3786\"], [0.5555555555555556, \"#d8576b\"], [0.6666666666666666, \"#ed7953\"], [0.7777777777777778, \"#fb9f3a\"], [0.8888888888888888, \"#fdca26\"], [1.0, \"#f0f921\"]], \"type\": \"heatmap\"}], \"heatmapgl\": [{\"colorbar\": {\"outlinewidth\": 0, \"ticks\": \"\"}, \"colorscale\": [[0.0, \"#0d0887\"], [0.1111111111111111, \"#46039f\"], [0.2222222222222222, \"#7201a8\"], [0.3333333333333333, \"#9c179e\"], [0.4444444444444444, \"#bd3786\"], [0.5555555555555556, \"#d8576b\"], [0.6666666666666666, \"#ed7953\"], [0.7777777777777778, \"#fb9f3a\"], [0.8888888888888888, \"#fdca26\"], [1.0, \"#f0f921\"]], \"type\": \"heatmapgl\"}], \"histogram\": [{\"marker\": {\"colorbar\": {\"outlinewidth\": 0, \"ticks\": \"\"}}, \"type\": \"histogram\"}], \"histogram2d\": [{\"colorbar\": {\"outlinewidth\": 0, \"ticks\": \"\"}, \"colorscale\": [[0.0, \"#0d0887\"], [0.1111111111111111, \"#46039f\"], [0.2222222222222222, \"#7201a8\"], [0.3333333333333333, \"#9c179e\"], [0.4444444444444444, \"#bd3786\"], [0.5555555555555556, \"#d8576b\"], [0.6666666666666666, \"#ed7953\"], [0.7777777777777778, \"#fb9f3a\"], [0.8888888888888888, \"#fdca26\"], [1.0, \"#f0f921\"]], \"type\": \"histogram2d\"}], \"histogram2dcontour\": [{\"colorbar\": {\"outlinewidth\": 0, \"ticks\": \"\"}, \"colorscale\": [[0.0, \"#0d0887\"], [0.1111111111111111, \"#46039f\"], [0.2222222222222222, \"#7201a8\"], [0.3333333333333333, \"#9c179e\"], [0.4444444444444444, \"#bd3786\"], [0.5555555555555556, \"#d8576b\"], [0.6666666666666666, \"#ed7953\"], [0.7777777777777778, \"#fb9f3a\"], [0.8888888888888888, \"#fdca26\"], [1.0, \"#f0f921\"]], \"type\": \"histogram2dcontour\"}], \"mesh3d\": [{\"colorbar\": {\"outlinewidth\": 0, \"ticks\": \"\"}, \"type\": \"mesh3d\"}], \"parcoords\": [{\"line\": {\"colorbar\": {\"outlinewidth\": 0, \"ticks\": \"\"}}, \"type\": \"parcoords\"}], \"scatter\": [{\"marker\": {\"colorbar\": {\"outlinewidth\": 0, \"ticks\": \"\"}}, \"type\": \"scatter\"}], \"scatter3d\": [{\"line\": {\"colorbar\": {\"outlinewidth\": 0, \"ticks\": \"\"}}, \"marker\": {\"colorbar\": {\"outlinewidth\": 0, \"ticks\": \"\"}}, \"type\": \"scatter3d\"}], \"scattercarpet\": [{\"marker\": {\"colorbar\": {\"outlinewidth\": 0, \"ticks\": \"\"}}, \"type\": \"scattercarpet\"}], \"scattergeo\": [{\"marker\": {\"colorbar\": {\"outlinewidth\": 0, \"ticks\": \"\"}}, \"type\": \"scattergeo\"}], \"scattergl\": [{\"marker\": {\"colorbar\": {\"outlinewidth\": 0, \"ticks\": \"\"}}, \"type\": \"scattergl\"}], \"scattermapbox\": [{\"marker\": {\"colorbar\": {\"outlinewidth\": 0, \"ticks\": \"\"}}, \"type\": \"scattermapbox\"}], \"scatterpolar\": [{\"marker\": {\"colorbar\": {\"outlinewidth\": 0, \"ticks\": \"\"}}, \"type\": \"scatterpolar\"}], \"scatterpolargl\": [{\"marker\": {\"colorbar\": {\"outlinewidth\": 0, \"ticks\": \"\"}}, \"type\": \"scatterpolargl\"}], \"scatterternary\": [{\"marker\": {\"colorbar\": {\"outlinewidth\": 0, \"ticks\": \"\"}}, \"type\": \"scatterternary\"}], \"surface\": [{\"colorbar\": {\"outlinewidth\": 0, \"ticks\": \"\"}, \"colorscale\": [[0.0, \"#0d0887\"], [0.1111111111111111, \"#46039f\"], [0.2222222222222222, \"#7201a8\"], [0.3333333333333333, \"#9c179e\"], [0.4444444444444444, \"#bd3786\"], [0.5555555555555556, \"#d8576b\"], [0.6666666666666666, \"#ed7953\"], [0.7777777777777778, \"#fb9f3a\"], [0.8888888888888888, \"#fdca26\"], [1.0, \"#f0f921\"]], \"type\": \"surface\"}], \"table\": [{\"cells\": {\"fill\": {\"color\": \"#EBF0F8\"}, \"line\": {\"color\": \"white\"}}, \"header\": {\"fill\": {\"color\": \"#C8D4E3\"}, \"line\": {\"color\": \"white\"}}, \"type\": \"table\"}]}, \"layout\": {\"annotationdefaults\": {\"arrowcolor\": \"#2a3f5f\", \"arrowhead\": 0, \"arrowwidth\": 1}, \"colorscale\": {\"diverging\": [[0, \"#8e0152\"], [0.1, \"#c51b7d\"], [0.2, \"#de77ae\"], [0.3, \"#f1b6da\"], [0.4, \"#fde0ef\"], [0.5, \"#f7f7f7\"], [0.6, \"#e6f5d0\"], [0.7, \"#b8e186\"], [0.8, \"#7fbc41\"], [0.9, \"#4d9221\"], [1, \"#276419\"]], \"sequential\": [[0.0, \"#0d0887\"], [0.1111111111111111, \"#46039f\"], [0.2222222222222222, \"#7201a8\"], [0.3333333333333333, \"#9c179e\"], [0.4444444444444444, \"#bd3786\"], [0.5555555555555556, \"#d8576b\"], [0.6666666666666666, \"#ed7953\"], [0.7777777777777778, \"#fb9f3a\"], [0.8888888888888888, \"#fdca26\"], [1.0, \"#f0f921\"]], \"sequentialminus\": [[0.0, \"#0d0887\"], [0.1111111111111111, \"#46039f\"], [0.2222222222222222, \"#7201a8\"], [0.3333333333333333, \"#9c179e\"], [0.4444444444444444, \"#bd3786\"], [0.5555555555555556, \"#d8576b\"], [0.6666666666666666, \"#ed7953\"], [0.7777777777777778, \"#fb9f3a\"], [0.8888888888888888, \"#fdca26\"], [1.0, \"#f0f921\"]]}, \"colorway\": [\"#636efa\", \"#EF553B\", \"#00cc96\", \"#ab63fa\", \"#FFA15A\", \"#19d3f3\", \"#FF6692\", \"#B6E880\", \"#FF97FF\", \"#FECB52\"], \"font\": {\"color\": \"#2a3f5f\"}, \"geo\": {\"bgcolor\": \"white\", \"lakecolor\": \"white\", \"landcolor\": \"#E5ECF6\", \"showlakes\": true, \"showland\": true, \"subunitcolor\": \"white\"}, \"hoverlabel\": {\"align\": \"left\"}, \"hovermode\": \"closest\", \"mapbox\": {\"style\": \"light\"}, \"paper_bgcolor\": \"white\", \"plot_bgcolor\": \"#E5ECF6\", \"polar\": {\"angularaxis\": {\"gridcolor\": \"white\", \"linecolor\": \"white\", \"ticks\": \"\"}, \"bgcolor\": \"#E5ECF6\", \"radialaxis\": {\"gridcolor\": \"white\", \"linecolor\": \"white\", \"ticks\": \"\"}}, \"scene\": {\"xaxis\": {\"backgroundcolor\": \"#E5ECF6\", \"gridcolor\": \"white\", \"gridwidth\": 2, \"linecolor\": \"white\", \"showbackground\": true, \"ticks\": \"\", \"zerolinecolor\": \"white\"}, \"yaxis\": {\"backgroundcolor\": \"#E5ECF6\", \"gridcolor\": \"white\", \"gridwidth\": 2, \"linecolor\": \"white\", \"showbackground\": true, \"ticks\": \"\", \"zerolinecolor\": \"white\"}, \"zaxis\": {\"backgroundcolor\": \"#E5ECF6\", \"gridcolor\": \"white\", \"gridwidth\": 2, \"linecolor\": \"white\", \"showbackground\": true, \"ticks\": \"\", \"zerolinecolor\": \"white\"}}, \"shapedefaults\": {\"line\": {\"color\": \"#2a3f5f\"}}, \"ternary\": {\"aaxis\": {\"gridcolor\": \"white\", \"linecolor\": \"white\", \"ticks\": \"\"}, \"baxis\": {\"gridcolor\": \"white\", \"linecolor\": \"white\", \"ticks\": \"\"}, \"bgcolor\": \"#E5ECF6\", \"caxis\": {\"gridcolor\": \"white\", \"linecolor\": \"white\", \"ticks\": \"\"}}, \"title\": {\"x\": 0.05}, \"xaxis\": {\"automargin\": true, \"gridcolor\": \"white\", \"linecolor\": \"white\", \"ticks\": \"\", \"zerolinecolor\": \"white\", \"zerolinewidth\": 2}, \"yaxis\": {\"automargin\": true, \"gridcolor\": \"white\", \"linecolor\": \"white\", \"ticks\": \"\", \"zerolinecolor\": \"white\", \"zerolinewidth\": 2}}}, \"title\": {\"text\": \"Weekly/Monthly Close Price\"}, \"updatemenus\": [{\"active\": -1, \"buttons\": [{\"args\": [{\"visible\": [true, false]}], \"label\": \"Weekly\", \"method\": \"update\"}, {\"args\": [{\"visible\": [false, true]}], \"label\": \"Monthly\", \"method\": \"update\"}, {\"args\": [{\"visible\": [true, true]}], \"label\": \"Reset\", \"method\": \"update\"}], \"x\": 1.28, \"y\": 0.75}], \"width\": 550, \"xaxis\": {\"title\": {\"text\": \"timestamp\"}}, \"yaxis\": {\"title\": {\"text\": \"VWAP /USD\"}}},\n",
       "                        {\"responsive\": true}\n",
       "                    ).then(function(){\n",
       "                            \n",
       "var gd = document.getElementById('cdbe05b5-1493-4884-b5ce-f71693afcfc8');\n",
       "var x = new MutationObserver(function (mutations, observer) {{\n",
       "        var display = window.getComputedStyle(gd).display;\n",
       "        if (!display || display === 'none') {{\n",
       "            console.log([gd, 'removed!']);\n",
       "            Plotly.purge(gd);\n",
       "            observer.disconnect();\n",
       "        }}\n",
       "}});\n",
       "\n",
       "// Listen for the removal of the full notebook cells\n",
       "var notebookContainer = gd.closest('#notebook-container');\n",
       "if (notebookContainer) {{\n",
       "    x.observe(notebookContainer, {childList: true});\n",
       "}}\n",
       "\n",
       "// Listen for the clearing of the current output cell\n",
       "var outputEl = gd.closest('.output');\n",
       "if (outputEl) {{\n",
       "    x.observe(outputEl, {childList: true});\n",
       "}}\n",
       "\n",
       "                        })\n",
       "                };\n",
       "                });\n",
       "            </script>\n",
       "        </div>"
      ]
     },
     "metadata": {},
     "output_type": "display_data"
    }
   ],
   "source": [
    "# vizualize monthly and weekly roundad Close price\n",
    "trace_week = go.Scatter(x = df_bitstamp_w.index,\n",
    "                   y = df_bitstamp_w.Close,\n",
    "                   mode = \"lines\",\n",
    "                   name = \"Weekly\",\n",
    "                   marker = dict(color = 'rgba(235, 115, 150, 0.8)')\n",
    "                       )\n",
    "trace_month = go.Scatter(x = df_bitstamp_m.index,\n",
    "                   y = df_bitstamp_m.Close,\n",
    "                   mode = \"lines\",\n",
    "                   name = \"Monthly\",\n",
    "                   marker = dict(color = 'rgba(115, 120, 235, 0.8)')\n",
    "                       )\n",
    "\n",
    "data_2 = [trace_week, trace_month]\n",
    "\n",
    "\n",
    "updatemenus = list([\n",
    "    dict(active=-1,\n",
    "         buttons=list([\n",
    "            dict(label = 'Weekly',\n",
    "                 method = 'update',\n",
    "                 args = [{'visible': [True, False]}\n",
    "                         ]),\n",
    "            dict(label = 'Monthly',\n",
    "                 method = 'update',\n",
    "                 args = [{'visible': [False, True]}\n",
    "                         ]),\n",
    "            dict(label = 'Reset',\n",
    "                 method = 'update',\n",
    "                 args = [{'visible': [True, True]}])\n",
    "         ]),\n",
    "         x = 1.28, y = 0.75),\n",
    "])\n",
    "\n",
    "layout_2 = go.Layout(height=400, width=550,\n",
    "                title='Weekly/Monthly Close Price', \n",
    "                xaxis_title=\"timestamp\",\n",
    "                yaxis_title=\"VWAP /USD\",\n",
    "                updatemenus=updatemenus)\n",
    "\n",
    "fig = dict(data = data_2, layout = layout_2)\n",
    "iplot(fig);"
   ]
  },
  {
   "cell_type": "code",
   "execution_count": 17,
   "metadata": {
    "scrolled": true
   },
   "outputs": [
    {
     "data": {
      "application/vnd.plotly.v1+json": {
       "config": {
        "linkText": "Export to plot.ly",
        "plotlyServerURL": "https://plot.ly",
        "showLink": false
       },
       "data": [
        {
         "marker": {
          "color": "rgba(235, 115, 150, 0.8)"
         },
         "mode": "lines",
         "name": "Volume_(BTC)",
         "type": "scatter",
         "x": [
          "2011-12-31T00:00:00",
          "2012-01-31T00:00:00",
          "2012-02-29T00:00:00",
          "2012-03-31T00:00:00",
          "2012-04-30T00:00:00",
          "2012-05-31T00:00:00",
          "2012-06-30T00:00:00",
          "2012-07-31T00:00:00",
          "2012-08-31T00:00:00",
          "2012-09-30T00:00:00",
          "2012-10-31T00:00:00",
          "2012-11-30T00:00:00",
          "2012-12-31T00:00:00",
          "2013-01-31T00:00:00",
          "2013-02-28T00:00:00",
          "2013-03-31T00:00:00",
          "2013-04-30T00:00:00",
          "2013-05-31T00:00:00",
          "2013-06-30T00:00:00",
          "2013-07-31T00:00:00",
          "2013-08-31T00:00:00",
          "2013-09-30T00:00:00",
          "2013-10-31T00:00:00",
          "2013-11-30T00:00:00",
          "2013-12-31T00:00:00",
          "2014-01-31T00:00:00",
          "2014-02-28T00:00:00",
          "2014-03-31T00:00:00",
          "2014-04-30T00:00:00",
          "2014-05-31T00:00:00",
          "2014-06-30T00:00:00",
          "2014-07-31T00:00:00",
          "2014-08-31T00:00:00",
          "2014-09-30T00:00:00",
          "2014-10-31T00:00:00",
          "2014-11-30T00:00:00",
          "2014-12-31T00:00:00",
          "2015-01-31T00:00:00",
          "2015-02-28T00:00:00",
          "2015-03-31T00:00:00",
          "2015-04-30T00:00:00",
          "2015-05-31T00:00:00",
          "2015-06-30T00:00:00",
          "2015-07-31T00:00:00",
          "2015-08-31T00:00:00",
          "2015-09-30T00:00:00",
          "2015-10-31T00:00:00",
          "2015-11-30T00:00:00",
          "2015-12-31T00:00:00",
          "2016-01-31T00:00:00",
          "2016-02-29T00:00:00",
          "2016-03-31T00:00:00",
          "2016-04-30T00:00:00",
          "2016-05-31T00:00:00",
          "2016-06-30T00:00:00",
          "2016-07-31T00:00:00",
          "2016-08-31T00:00:00",
          "2016-09-30T00:00:00",
          "2016-10-31T00:00:00",
          "2016-11-30T00:00:00",
          "2016-12-31T00:00:00",
          "2017-01-31T00:00:00",
          "2017-02-28T00:00:00",
          "2017-03-31T00:00:00",
          "2017-04-30T00:00:00",
          "2017-05-31T00:00:00",
          "2017-06-30T00:00:00",
          "2017-07-31T00:00:00",
          "2017-08-31T00:00:00",
          "2017-09-30T00:00:00",
          "2017-10-31T00:00:00",
          "2017-11-30T00:00:00",
          "2017-12-31T00:00:00",
          "2018-01-31T00:00:00",
          "2018-02-28T00:00:00",
          "2018-03-31T00:00:00",
          "2018-04-30T00:00:00",
          "2018-05-31T00:00:00",
          "2018-06-30T00:00:00",
          "2018-07-31T00:00:00",
          "2018-08-31T00:00:00",
          "2018-09-30T00:00:00",
          "2018-10-31T00:00:00",
          "2018-11-30T00:00:00",
          "2018-12-31T00:00:00",
          "2019-01-31T00:00:00",
          "2019-02-28T00:00:00",
          "2019-03-31T00:00:00",
          "2019-04-30T00:00:00",
          "2019-05-31T00:00:00",
          "2019-06-30T00:00:00",
          "2019-07-31T00:00:00",
          "2019-08-31T00:00:00"
         ],
         "xaxis": "x",
         "y": [
          6.556675229688664,
          7.8392718828376715,
          2.446148338657723,
          6.7171946525655875,
          3.172426830296848,
          3.3942914683790404,
          7.886049664259714,
          7.117262757401796,
          8.467129496326148,
          9.349769319789486,
          12.965068209317678,
          12.592548749741658,
          17.408967959471894,
          12.191243595435287,
          19.025479282982165,
          29.426655686951516,
          14.456954573768902,
          14.926304458786719,
          17.695996404368113,
          18.50534183033272,
          11.762667000462221,
          21.395172289902533,
          11.0777906340123,
          14.495011679212398,
          20.382110007585066,
          15.990953066034821,
          33.125790034774795,
          24.82450280316794,
          15.201056529334167,
          16.560518152855725,
          16.25051445408748,
          18.440579786362076,
          15.478024071912662,
          19.757196920903297,
          23.166942302125044,
          19.757441815663555,
          15.621611227241402,
          17.514474338585984,
          10.859024266621304,
          16.405668151711772,
          22.470022025559146,
          11.704400476058684,
          20.65857613717627,
          16.58340028935996,
          12.40830265707312,
          20.930940771544687,
          15.169279053950275,
          15.856034690017172,
          28.10156540984987,
          19.1359120899054,
          30.410785246342694,
          22.30569331067475,
          15.12193758584675,
          17.684965698574583,
          20.49759626566557,
          29.35636355642579,
          18.615802766041647,
          18.666442497311426,
          18.10812487361375,
          19.865612928663687,
          14.97853298822426,
          10.277414869045256,
          13.989921245016916,
          8.33399885446637,
          10.713732594291695,
          9.550367378943397,
          7.903666124503983,
          14.919425288553597,
          16.587750729918806,
          8.921872286514093,
          11.6096276880679,
          7.383873879922088,
          6.045071852400753,
          6.243973147419616,
          6.416210162553585,
          9.282722095650803,
          7.363509714085269,
          6.257239699231206,
          7.4932701893769655,
          16.06702211223706,
          15.071973636898859,
          9.061944188066544,
          7.872972596622038,
          10.518451385369968,
          8.680916692229237,
          10.23203721486509,
          12.22654397382959,
          12.454659230414713,
          12.453187528382069,
          11.10059713749113,
          7.742600551619013,
          8.647032211101116,
          14.746753200645859,
          10.539638974775748,
          15.844604705577389,
          23.022343116311763,
          10.641420070021795,
          31.33127159409907,
          20.04627561060025,
          28.629825348801774,
          21.593764841946435,
          27.30945397808333,
          13.259001328995048,
          37.2390606349814,
          10.171175124447423,
          9.144053409849182,
          15.491682284685405,
          8.501086777229172,
          7.120523797371096,
          9.098325193845088,
          14.31233105122714,
          27.74626247933135,
          15.392316942731178,
          28.07852667157135,
          16.223604363729134,
          6.637658592051552,
          9.433245695378975,
          16.275352497025825,
          14.30440082429065,
          14.600831798294683,
          15.95691515268343,
          9.476267835221226,
          8.6108769558015,
          7.358905629083251,
          4.409538588090321,
          11.07362026391069,
          11.600248494353163,
          8.635851478544618,
          10.103265749741077,
          5.182050444348142,
          5.114288600927578,
          5.638067587854248,
          4.279861066417625,
          3.7793439039256254,
          4.408381975749036,
          6.570247355743068,
          4.488590671083361,
          11.335577716549551,
          11.992746259208229,
          6.36288109888595,
          5.136005571360183,
          6.662922549176599,
          11.941533820531728,
          10.61111830273012,
          17.680143061716233,
          21.851654567241887,
          12.50364271309435,
          9.570859471903795,
          8.413686944626027,
          9.101695034427635,
          17.59628779272124,
          10.480456329625989,
          8.774792244845234,
          5.866957847622026,
          8.372323656258878,
          11.478541470446508,
          6.083324391877003,
          10.453577677898828,
          18.597374238943935,
          35.31561794843635,
          14.82602667455953,
          19.459648661606277,
          10.566141995496073,
          13.010072999128978,
          8.145862355949438,
          7.289052504325384,
          9.371956746218245,
          6.922630685059461,
          7.637382934430578,
          7.869424527255951,
          5.687753239704346,
          6.255027798409685,
          7.868054827914596,
          6.816034946192426,
          6.834845621454459,
          6.357625521008951,
          5.743247970681503,
          5.466661031807547,
          5.93317844613589,
          5.6914843284533685,
          5.154193931840235,
          7.658489359742098,
          4.865814892479194,
          11.008473567815495,
          14.595732556425673,
          12.047344414067396,
          8.44202590548212,
          8.467555019855242,
          7.444009922666645,
          8.460046069477235,
          13.092656144161637,
          19.745978810942425,
          17.712360782677642,
          16.56449773679664,
          13.357800101197418,
          15.621584774643841,
          16.312175724394823,
          17.2891294753431,
          18.32610996918867,
          19.00745569029656,
          21.31201736931643,
          39.45252289680242,
          25.293462562838368,
          14.904294277429468,
          10.101956639899857,
          11.33251319565676,
          13.763231194887926,
          10.751332342716289,
          8.851001207773802,
          4.972699499355113,
          6.001241155246063,
          10.75102120011898,
          8.40079598110713,
          5.6906149897579335,
          5.8308658655506,
          6.13929589614287,
          7.296679106629924,
          5.1301178458065655,
          6.61320121334522,
          4.359340718410703,
          3.622689065177585,
          3.0470260719980318,
          2.87391532378273,
          2.8580573500009825,
          2.7728417139146746,
          4.489853248248991,
          4.4411361742946065,
          3.849085192055523,
          3.061539705838271,
          3.5770324697748115,
          5.866496055712303,
          5.84723082424009,
          5.114161606995054,
          8.21585905569147,
          11.740482417568499,
          6.1058668357063555,
          4.986991791456375,
          3.515004970564499,
          3.01070952689285,
          2.607850506730165,
          7.379309974372014,
          3.167863181664685,
          3.7357903693164802,
          3.591183581994077,
          3.570838586851201,
          3.6013163894840963,
          2.5410888167876986,
          2.6604221706002185,
          2.6507336455108947,
          2.510925986153759,
          3.1740969283274,
          3.373317087019847,
          4.311952336661717,
          4.806668396721213,
          4.659553451709281,
          5.469554879309551,
          3.6729106694751747,
          4.733643562990114,
          3.7370351440327543,
          3.056387229766846,
          6.52134465519147,
          6.131243021963295,
          13.58972499541583,
          9.949931031146814,
          6.727243751394891,
          3.7298943076180473,
          5.659450102553567,
          6.747964698116074,
          3.8744557954662713,
          6.986207501815427,
          4.601647694516787,
          9.080828626917649,
          8.580544217604153,
          8.434513003382932,
          6.4782991230912605,
          4.965130918398795,
          3.6751402519989753,
          3.7463423310397235,
          4.323294104084335,
          8.163925107172627,
          9.606589938624051,
          9.366108894863101,
          15.549958416599221,
          9.338229840675625,
          9.390718619577441,
          14.844798144947463,
          8.529582029847203,
          8.860598283197406,
          6.115411405868059,
          11.453797645171598,
          14.430868348647785,
          9.600725862054583,
          7.283430719215304,
          9.132322284157766,
          10.60897095005858,
          7.933447263486111,
          8.16560610286314,
          11.957358835484133,
          18.95752559005652,
          9.374022268509908,
          7.696504012614027,
          6.136997220594202,
          10.19954823307337,
          8.943817930091278,
          9.05215959656649,
          9.651378785137911,
          14.832314364490095,
          10.816019811496068,
          7.028339769762888,
          12.280830282471209,
          13.059319356856134,
          9.841057236577408,
          18.406194127403786,
          10.482012865429592,
          8.497484169128022,
          9.652150641548655,
          14.575284178126056,
          9.086843718894873,
          14.876514712103198,
          21.700044288162673,
          10.814736618832338,
          10.796862645745039,
          6.9102309245277675,
          13.063631576569406,
          12.167939169564484,
          8.966445103653763,
          11.848993654755937,
          7.739735424067434,
          7.696814518066472,
          7.891981464618067,
          12.07381977916374,
          6.484725133650791,
          9.317044897498002,
          6.812928606347193,
          6.133213022645864,
          4.907786986407702,
          5.29957422660615,
          6.680632649534744,
          5.5607572923313136,
          5.652413688937503,
          4.438210885640866,
          4.229626609071428,
          6.237646690358129,
          6.477756673176578,
          6.246896508673619,
          6.934366684412701,
          5.601112287314474,
          4.316584597722208,
          4.09098917536211,
          5.016669114723239,
          3.1348158029305555,
          3.9093495468353137,
          3.635640832719256,
          2.6692555751845286,
          2.992639905580365,
          3.513454426464253,
          1.8799129919226105,
          2.367901843817461,
          2.2736347039057603,
          6.656752888769797,
          15.385920573447468,
          10.798158543247995,
          9.738257146522818,
          6.570532627330353,
          10.645791660320427,
          7.255072826929573,
          4.045305043991089,
          6.3517933836507785,
          4.946305649162693,
          3.680787823876977,
          4.35704195374109,
          4.222253904297626,
          4.837658241704376,
          7.5045647172003696,
          4.175853957729177,
          4.645101775980175,
          3.991932555616063,
          3.3364927558849127,
          3.90759708119938,
          11.677102969851244,
          6.45421151584127,
          4.213239849303567,
          6.070102887445411,
          4.727544897467246,
          9.587300336574378,
          12.932969053085285,
          5.8526528914781855,
          5.690284019782756,
          6.074463634646835,
          5.708580709949403,
          6.963195603508903,
          13.651477406562524,
          9.95086890515773,
          9.534195969880994,
          10.077863549111107,
          5.304556734854156,
          4.995856885037701,
          7.803308708616014,
          23.80593911
         ],
         "yaxis": "y"
        },
        {
         "marker": {
          "color": "rgba(115, 120, 235, 0.8)"
         },
         "mode": "lines",
         "name": "Volume_(Currency)",
         "type": "scatter",
         "x": [
          "2011-12-31T00:00:00",
          "2012-01-31T00:00:00",
          "2012-02-29T00:00:00",
          "2012-03-31T00:00:00",
          "2012-04-30T00:00:00",
          "2012-05-31T00:00:00",
          "2012-06-30T00:00:00",
          "2012-07-31T00:00:00",
          "2012-08-31T00:00:00",
          "2012-09-30T00:00:00",
          "2012-10-31T00:00:00",
          "2012-11-30T00:00:00",
          "2012-12-31T00:00:00",
          "2013-01-31T00:00:00",
          "2013-02-28T00:00:00",
          "2013-03-31T00:00:00",
          "2013-04-30T00:00:00",
          "2013-05-31T00:00:00",
          "2013-06-30T00:00:00",
          "2013-07-31T00:00:00",
          "2013-08-31T00:00:00",
          "2013-09-30T00:00:00",
          "2013-10-31T00:00:00",
          "2013-11-30T00:00:00",
          "2013-12-31T00:00:00",
          "2014-01-31T00:00:00",
          "2014-02-28T00:00:00",
          "2014-03-31T00:00:00",
          "2014-04-30T00:00:00",
          "2014-05-31T00:00:00",
          "2014-06-30T00:00:00",
          "2014-07-31T00:00:00",
          "2014-08-31T00:00:00",
          "2014-09-30T00:00:00",
          "2014-10-31T00:00:00",
          "2014-11-30T00:00:00",
          "2014-12-31T00:00:00",
          "2015-01-31T00:00:00",
          "2015-02-28T00:00:00",
          "2015-03-31T00:00:00",
          "2015-04-30T00:00:00",
          "2015-05-31T00:00:00",
          "2015-06-30T00:00:00",
          "2015-07-31T00:00:00",
          "2015-08-31T00:00:00",
          "2015-09-30T00:00:00",
          "2015-10-31T00:00:00",
          "2015-11-30T00:00:00",
          "2015-12-31T00:00:00",
          "2016-01-31T00:00:00",
          "2016-02-29T00:00:00",
          "2016-03-31T00:00:00",
          "2016-04-30T00:00:00",
          "2016-05-31T00:00:00",
          "2016-06-30T00:00:00",
          "2016-07-31T00:00:00",
          "2016-08-31T00:00:00",
          "2016-09-30T00:00:00",
          "2016-10-31T00:00:00",
          "2016-11-30T00:00:00",
          "2016-12-31T00:00:00",
          "2017-01-31T00:00:00",
          "2017-02-28T00:00:00",
          "2017-03-31T00:00:00",
          "2017-04-30T00:00:00",
          "2017-05-31T00:00:00",
          "2017-06-30T00:00:00",
          "2017-07-31T00:00:00",
          "2017-08-31T00:00:00",
          "2017-09-30T00:00:00",
          "2017-10-31T00:00:00",
          "2017-11-30T00:00:00",
          "2017-12-31T00:00:00",
          "2018-01-31T00:00:00",
          "2018-02-28T00:00:00",
          "2018-03-31T00:00:00",
          "2018-04-30T00:00:00",
          "2018-05-31T00:00:00",
          "2018-06-30T00:00:00",
          "2018-07-31T00:00:00",
          "2018-08-31T00:00:00",
          "2018-09-30T00:00:00",
          "2018-10-31T00:00:00",
          "2018-11-30T00:00:00",
          "2018-12-31T00:00:00",
          "2019-01-31T00:00:00",
          "2019-02-28T00:00:00",
          "2019-03-31T00:00:00",
          "2019-04-30T00:00:00",
          "2019-05-31T00:00:00",
          "2019-06-30T00:00:00",
          "2019-07-31T00:00:00",
          "2019-08-31T00:00:00"
         ],
         "xaxis": "x2",
         "y": [
          34.069690440863475,
          29.527545116281118,
          37.120786072062494,
          66.44504771519429,
          92.67470660295804,
          85.42902252394447,
          123.10804874167769,
          140.53727166564877,
          207.54550439260652,
          172.18634532880114,
          203.94169145888853,
          212.51151261699,
          280.30426505585194,
          330.16926307114596,
          419.032206414432,
          579.7315045170603,
          1388.0935665275686,
          875.5285202685885,
          786.9596197965566,
          1028.8917136632228,
          1117.2932197059317,
          1234.0232116177579,
          2488.7763518333263,
          11684.16129109226,
          16355.396221742709,
          8623.627897182367,
          13075.090795288797,
          6992.780579247037,
          6063.098911538084,
          4030.2043306537876,
          4756.38705382602,
          2852.883589162981,
          4339.006506665734,
          3837.996470312793,
          5094.869089435158,
          4247.053758463559,
          2656.1784118254604,
          5089.8259161860105,
          2327.8154887095257,
          2107.147236494501,
          1607.9499852838564,
          1363.69384588817,
          1507.3132270676945,
          3097.7357519477437,
          2884.5477606100435,
          3720.7234724483537,
          5067.464234381109,
          7901.803850906251,
          4398.704419747362,
          2961.0882670306587,
          2462.7959840095327,
          1760.9287088072165,
          1534.3128052738805,
          1968.1627677207418,
          4918.450098902082,
          2462.1699898338525,
          2521.3204269299254,
          1813.0833130014812,
          2103.679881274824,
          3394.9497333915533,
          4006.5662470258453,
          7469.03403976802,
          6163.813097424285,
          8613.86608701661,
          5083.465124210736,
          20571.280671131604,
          27165.33837451848,
          24643.849762549,
          32596.401998659225,
          47905.238197348706,
          45390.31939677721,
          86648.95205840595,
          186045.21007861223,
          130899.70329081907,
          128014.96269472298,
          94491.05280062361,
          72055.3664986191,
          60063.42464437873,
          37822.98191344472,
          39452.906296351655,
          36090.014372217694,
          25340.329316977048,
          17952.35342014338,
          38211.79021373276,
          30073.387752956653,
          17689.139768787532,
          19295.98489916979,
          15057.562788659128,
          35107.296387335446,
          61009.596999067435,
          77888.92250043298,
          89041.8296670957,
          79278.42993117523
         ],
         "yaxis": "y2"
        },
        {
         "marker": {
          "color": "rgba(245, 170, 60, 0.8)"
         },
         "mode": "lines",
         "name": "Weighted_Price",
         "type": "scatter",
         "x": [
          "2011-12-31T00:00:00",
          "2012-01-31T00:00:00",
          "2012-02-29T00:00:00",
          "2012-03-31T00:00:00",
          "2012-04-30T00:00:00",
          "2012-05-31T00:00:00",
          "2012-06-30T00:00:00",
          "2012-07-31T00:00:00",
          "2012-08-31T00:00:00",
          "2012-09-30T00:00:00",
          "2012-10-31T00:00:00",
          "2012-11-30T00:00:00",
          "2012-12-31T00:00:00",
          "2013-01-31T00:00:00",
          "2013-02-28T00:00:00",
          "2013-03-31T00:00:00",
          "2013-04-30T00:00:00",
          "2013-05-31T00:00:00",
          "2013-06-30T00:00:00",
          "2013-07-31T00:00:00",
          "2013-08-31T00:00:00",
          "2013-09-30T00:00:00",
          "2013-10-31T00:00:00",
          "2013-11-30T00:00:00",
          "2013-12-31T00:00:00",
          "2014-01-31T00:00:00",
          "2014-02-28T00:00:00",
          "2014-03-31T00:00:00",
          "2014-04-30T00:00:00",
          "2014-05-31T00:00:00",
          "2014-06-30T00:00:00",
          "2014-07-31T00:00:00",
          "2014-08-31T00:00:00",
          "2014-09-30T00:00:00",
          "2014-10-31T00:00:00",
          "2014-11-30T00:00:00",
          "2014-12-31T00:00:00",
          "2015-01-31T00:00:00",
          "2015-02-28T00:00:00",
          "2015-03-31T00:00:00",
          "2015-04-30T00:00:00",
          "2015-05-31T00:00:00",
          "2015-06-30T00:00:00",
          "2015-07-31T00:00:00",
          "2015-08-31T00:00:00",
          "2015-09-30T00:00:00",
          "2015-10-31T00:00:00",
          "2015-11-30T00:00:00",
          "2015-12-31T00:00:00",
          "2016-01-31T00:00:00",
          "2016-02-29T00:00:00",
          "2016-03-31T00:00:00",
          "2016-04-30T00:00:00",
          "2016-05-31T00:00:00",
          "2016-06-30T00:00:00",
          "2016-07-31T00:00:00",
          "2016-08-31T00:00:00",
          "2016-09-30T00:00:00",
          "2016-10-31T00:00:00",
          "2016-11-30T00:00:00",
          "2016-12-31T00:00:00",
          "2017-01-31T00:00:00",
          "2017-02-28T00:00:00",
          "2017-03-31T00:00:00",
          "2017-04-30T00:00:00",
          "2017-05-31T00:00:00",
          "2017-06-30T00:00:00",
          "2017-07-31T00:00:00",
          "2017-08-31T00:00:00",
          "2017-09-30T00:00:00",
          "2017-10-31T00:00:00",
          "2017-11-30T00:00:00",
          "2017-12-31T00:00:00",
          "2018-01-31T00:00:00",
          "2018-02-28T00:00:00",
          "2018-03-31T00:00:00",
          "2018-04-30T00:00:00",
          "2018-05-31T00:00:00",
          "2018-06-30T00:00:00",
          "2018-07-31T00:00:00",
          "2018-08-31T00:00:00",
          "2018-09-30T00:00:00",
          "2018-10-31T00:00:00",
          "2018-11-30T00:00:00",
          "2018-12-31T00:00:00",
          "2019-01-31T00:00:00",
          "2019-02-28T00:00:00",
          "2019-03-31T00:00:00",
          "2019-04-30T00:00:00",
          "2019-05-31T00:00:00",
          "2019-06-30T00:00:00",
          "2019-07-31T00:00:00",
          "2019-08-31T00:00:00"
         ],
         "xaxis": "x3",
         "y": [
          4.472578937498223,
          6.234949110730185,
          5.2327342338462595,
          4.958307975702499,
          4.980866314073925,
          5.042617526977678,
          5.967470396375956,
          7.792521248320498,
          10.923611035541764,
          11.41232585152871,
          11.623722499758541,
          11.332316984429418,
          13.152245008498273,
          15.311496408739869,
          25.803891188048983,
          57.0521247531452,
          127.44740014518952,
          117.77537766336307,
          105.51173019915487,
          85.43469682770503,
          103.41296905548889,
          124.84986739479814,
          152.7191270779157,
          527.9646645135326,
          794.3961102311084,
          819.0045274809869,
          664.2766335617035,
          594.6266570064308,
          462.55699859230805,
          485.5461156361267,
          613.1004681844607,
          618.6102294729346,
          537.2959484017488,
          445.1787694250584,
          363.975195694624,
          366.11550884985087,
          342.7381074673848,
          245.90844672153162,
          234.07062025238642,
          268.41094876129256,
          234.7066295892274,
          236.60217692468754,
          236.88882537349693,
          279.26365705673925,
          252.66300298864357,
          233.52765483350942,
          264.67429761541297,
          348.37287409653186,
          422.4996182724463,
          411.08571672823587,
          401.8637724568032,
          415.22369923641344,
          433.1439889651864,
          459.90201350122777,
          638.2916879658313,
          660.5331736401068,
          578.4277707291537,
          602.8389412354658,
          638.9048297681456,
          723.2217759301456,
          820.0562028784154,
          909.0338788219314,
          1059.6244334762275,
          1131.8914016347976,
          1208.2018142095283,
          1877.5631228195948,
          2619.6004346033546,
          2494.6309739849457,
          3827.6240634817436,
          4084.6936857828014,
          5283.855989615605,
          7755.046356146434,
          14840.370581076375,
          12893.449406623446,
          9389.711654988998,
          9025.692916218119,
          7983.605096681939,
          8438.863063242026,
          6784.279614226831,
          7097.209566480597,
          6689.449425724835,
          6589.396239621773,
          6415.127929125973,
          5388.904282010079,
          3670.6403517861095,
          3658.5632290356803,
          3648.339476322903,
          3918.3650457358754,
          5138.997776288963,
          7228.675751112861,
          9358.37074881566,
          10667.295974215494,
          11262.82674455223
         ],
         "yaxis": "y3"
        }
       ],
       "layout": {
        "annotations": [
         {
          "font": {
           "size": 16
          },
          "showarrow": false,
          "text": "Volume_(BTC)",
          "x": 0.5,
          "xanchor": "center",
          "xref": "paper",
          "y": 1,
          "yanchor": "bottom",
          "yref": "paper"
         },
         {
          "font": {
           "size": 16
          },
          "showarrow": false,
          "text": "Volume_(Currency)",
          "x": 0.5,
          "xanchor": "center",
          "xref": "paper",
          "y": 0.6111111111111112,
          "yanchor": "bottom",
          "yref": "paper"
         },
         {
          "font": {
           "size": 16
          },
          "showarrow": false,
          "text": "Weighted_Price",
          "x": 0.5,
          "xanchor": "center",
          "xref": "paper",
          "y": 0.22222222222222224,
          "yanchor": "bottom",
          "yref": "paper"
         }
        ],
        "height": 650,
        "showlegend": false,
        "template": {
         "data": {
          "bar": [
           {
            "error_x": {
             "color": "#2a3f5f"
            },
            "error_y": {
             "color": "#2a3f5f"
            },
            "marker": {
             "line": {
              "color": "#E5ECF6",
              "width": 0.5
             }
            },
            "type": "bar"
           }
          ],
          "barpolar": [
           {
            "marker": {
             "line": {
              "color": "#E5ECF6",
              "width": 0.5
             }
            },
            "type": "barpolar"
           }
          ],
          "carpet": [
           {
            "aaxis": {
             "endlinecolor": "#2a3f5f",
             "gridcolor": "white",
             "linecolor": "white",
             "minorgridcolor": "white",
             "startlinecolor": "#2a3f5f"
            },
            "baxis": {
             "endlinecolor": "#2a3f5f",
             "gridcolor": "white",
             "linecolor": "white",
             "minorgridcolor": "white",
             "startlinecolor": "#2a3f5f"
            },
            "type": "carpet"
           }
          ],
          "choropleth": [
           {
            "colorbar": {
             "outlinewidth": 0,
             "ticks": ""
            },
            "type": "choropleth"
           }
          ],
          "contour": [
           {
            "colorbar": {
             "outlinewidth": 0,
             "ticks": ""
            },
            "colorscale": [
             [
              0,
              "#0d0887"
             ],
             [
              0.1111111111111111,
              "#46039f"
             ],
             [
              0.2222222222222222,
              "#7201a8"
             ],
             [
              0.3333333333333333,
              "#9c179e"
             ],
             [
              0.4444444444444444,
              "#bd3786"
             ],
             [
              0.5555555555555556,
              "#d8576b"
             ],
             [
              0.6666666666666666,
              "#ed7953"
             ],
             [
              0.7777777777777778,
              "#fb9f3a"
             ],
             [
              0.8888888888888888,
              "#fdca26"
             ],
             [
              1,
              "#f0f921"
             ]
            ],
            "type": "contour"
           }
          ],
          "contourcarpet": [
           {
            "colorbar": {
             "outlinewidth": 0,
             "ticks": ""
            },
            "type": "contourcarpet"
           }
          ],
          "heatmap": [
           {
            "colorbar": {
             "outlinewidth": 0,
             "ticks": ""
            },
            "colorscale": [
             [
              0,
              "#0d0887"
             ],
             [
              0.1111111111111111,
              "#46039f"
             ],
             [
              0.2222222222222222,
              "#7201a8"
             ],
             [
              0.3333333333333333,
              "#9c179e"
             ],
             [
              0.4444444444444444,
              "#bd3786"
             ],
             [
              0.5555555555555556,
              "#d8576b"
             ],
             [
              0.6666666666666666,
              "#ed7953"
             ],
             [
              0.7777777777777778,
              "#fb9f3a"
             ],
             [
              0.8888888888888888,
              "#fdca26"
             ],
             [
              1,
              "#f0f921"
             ]
            ],
            "type": "heatmap"
           }
          ],
          "heatmapgl": [
           {
            "colorbar": {
             "outlinewidth": 0,
             "ticks": ""
            },
            "colorscale": [
             [
              0,
              "#0d0887"
             ],
             [
              0.1111111111111111,
              "#46039f"
             ],
             [
              0.2222222222222222,
              "#7201a8"
             ],
             [
              0.3333333333333333,
              "#9c179e"
             ],
             [
              0.4444444444444444,
              "#bd3786"
             ],
             [
              0.5555555555555556,
              "#d8576b"
             ],
             [
              0.6666666666666666,
              "#ed7953"
             ],
             [
              0.7777777777777778,
              "#fb9f3a"
             ],
             [
              0.8888888888888888,
              "#fdca26"
             ],
             [
              1,
              "#f0f921"
             ]
            ],
            "type": "heatmapgl"
           }
          ],
          "histogram": [
           {
            "marker": {
             "colorbar": {
              "outlinewidth": 0,
              "ticks": ""
             }
            },
            "type": "histogram"
           }
          ],
          "histogram2d": [
           {
            "colorbar": {
             "outlinewidth": 0,
             "ticks": ""
            },
            "colorscale": [
             [
              0,
              "#0d0887"
             ],
             [
              0.1111111111111111,
              "#46039f"
             ],
             [
              0.2222222222222222,
              "#7201a8"
             ],
             [
              0.3333333333333333,
              "#9c179e"
             ],
             [
              0.4444444444444444,
              "#bd3786"
             ],
             [
              0.5555555555555556,
              "#d8576b"
             ],
             [
              0.6666666666666666,
              "#ed7953"
             ],
             [
              0.7777777777777778,
              "#fb9f3a"
             ],
             [
              0.8888888888888888,
              "#fdca26"
             ],
             [
              1,
              "#f0f921"
             ]
            ],
            "type": "histogram2d"
           }
          ],
          "histogram2dcontour": [
           {
            "colorbar": {
             "outlinewidth": 0,
             "ticks": ""
            },
            "colorscale": [
             [
              0,
              "#0d0887"
             ],
             [
              0.1111111111111111,
              "#46039f"
             ],
             [
              0.2222222222222222,
              "#7201a8"
             ],
             [
              0.3333333333333333,
              "#9c179e"
             ],
             [
              0.4444444444444444,
              "#bd3786"
             ],
             [
              0.5555555555555556,
              "#d8576b"
             ],
             [
              0.6666666666666666,
              "#ed7953"
             ],
             [
              0.7777777777777778,
              "#fb9f3a"
             ],
             [
              0.8888888888888888,
              "#fdca26"
             ],
             [
              1,
              "#f0f921"
             ]
            ],
            "type": "histogram2dcontour"
           }
          ],
          "mesh3d": [
           {
            "colorbar": {
             "outlinewidth": 0,
             "ticks": ""
            },
            "type": "mesh3d"
           }
          ],
          "parcoords": [
           {
            "line": {
             "colorbar": {
              "outlinewidth": 0,
              "ticks": ""
             }
            },
            "type": "parcoords"
           }
          ],
          "scatter": [
           {
            "marker": {
             "colorbar": {
              "outlinewidth": 0,
              "ticks": ""
             }
            },
            "type": "scatter"
           }
          ],
          "scatter3d": [
           {
            "line": {
             "colorbar": {
              "outlinewidth": 0,
              "ticks": ""
             }
            },
            "marker": {
             "colorbar": {
              "outlinewidth": 0,
              "ticks": ""
             }
            },
            "type": "scatter3d"
           }
          ],
          "scattercarpet": [
           {
            "marker": {
             "colorbar": {
              "outlinewidth": 0,
              "ticks": ""
             }
            },
            "type": "scattercarpet"
           }
          ],
          "scattergeo": [
           {
            "marker": {
             "colorbar": {
              "outlinewidth": 0,
              "ticks": ""
             }
            },
            "type": "scattergeo"
           }
          ],
          "scattergl": [
           {
            "marker": {
             "colorbar": {
              "outlinewidth": 0,
              "ticks": ""
             }
            },
            "type": "scattergl"
           }
          ],
          "scattermapbox": [
           {
            "marker": {
             "colorbar": {
              "outlinewidth": 0,
              "ticks": ""
             }
            },
            "type": "scattermapbox"
           }
          ],
          "scatterpolar": [
           {
            "marker": {
             "colorbar": {
              "outlinewidth": 0,
              "ticks": ""
             }
            },
            "type": "scatterpolar"
           }
          ],
          "scatterpolargl": [
           {
            "marker": {
             "colorbar": {
              "outlinewidth": 0,
              "ticks": ""
             }
            },
            "type": "scatterpolargl"
           }
          ],
          "scatterternary": [
           {
            "marker": {
             "colorbar": {
              "outlinewidth": 0,
              "ticks": ""
             }
            },
            "type": "scatterternary"
           }
          ],
          "surface": [
           {
            "colorbar": {
             "outlinewidth": 0,
             "ticks": ""
            },
            "colorscale": [
             [
              0,
              "#0d0887"
             ],
             [
              0.1111111111111111,
              "#46039f"
             ],
             [
              0.2222222222222222,
              "#7201a8"
             ],
             [
              0.3333333333333333,
              "#9c179e"
             ],
             [
              0.4444444444444444,
              "#bd3786"
             ],
             [
              0.5555555555555556,
              "#d8576b"
             ],
             [
              0.6666666666666666,
              "#ed7953"
             ],
             [
              0.7777777777777778,
              "#fb9f3a"
             ],
             [
              0.8888888888888888,
              "#fdca26"
             ],
             [
              1,
              "#f0f921"
             ]
            ],
            "type": "surface"
           }
          ],
          "table": [
           {
            "cells": {
             "fill": {
              "color": "#EBF0F8"
             },
             "line": {
              "color": "white"
             }
            },
            "header": {
             "fill": {
              "color": "#C8D4E3"
             },
             "line": {
              "color": "white"
             }
            },
            "type": "table"
           }
          ]
         },
         "layout": {
          "annotationdefaults": {
           "arrowcolor": "#2a3f5f",
           "arrowhead": 0,
           "arrowwidth": 1
          },
          "colorscale": {
           "diverging": [
            [
             0,
             "#8e0152"
            ],
            [
             0.1,
             "#c51b7d"
            ],
            [
             0.2,
             "#de77ae"
            ],
            [
             0.3,
             "#f1b6da"
            ],
            [
             0.4,
             "#fde0ef"
            ],
            [
             0.5,
             "#f7f7f7"
            ],
            [
             0.6,
             "#e6f5d0"
            ],
            [
             0.7,
             "#b8e186"
            ],
            [
             0.8,
             "#7fbc41"
            ],
            [
             0.9,
             "#4d9221"
            ],
            [
             1,
             "#276419"
            ]
           ],
           "sequential": [
            [
             0,
             "#0d0887"
            ],
            [
             0.1111111111111111,
             "#46039f"
            ],
            [
             0.2222222222222222,
             "#7201a8"
            ],
            [
             0.3333333333333333,
             "#9c179e"
            ],
            [
             0.4444444444444444,
             "#bd3786"
            ],
            [
             0.5555555555555556,
             "#d8576b"
            ],
            [
             0.6666666666666666,
             "#ed7953"
            ],
            [
             0.7777777777777778,
             "#fb9f3a"
            ],
            [
             0.8888888888888888,
             "#fdca26"
            ],
            [
             1,
             "#f0f921"
            ]
           ],
           "sequentialminus": [
            [
             0,
             "#0d0887"
            ],
            [
             0.1111111111111111,
             "#46039f"
            ],
            [
             0.2222222222222222,
             "#7201a8"
            ],
            [
             0.3333333333333333,
             "#9c179e"
            ],
            [
             0.4444444444444444,
             "#bd3786"
            ],
            [
             0.5555555555555556,
             "#d8576b"
            ],
            [
             0.6666666666666666,
             "#ed7953"
            ],
            [
             0.7777777777777778,
             "#fb9f3a"
            ],
            [
             0.8888888888888888,
             "#fdca26"
            ],
            [
             1,
             "#f0f921"
            ]
           ]
          },
          "colorway": [
           "#636efa",
           "#EF553B",
           "#00cc96",
           "#ab63fa",
           "#FFA15A",
           "#19d3f3",
           "#FF6692",
           "#B6E880",
           "#FF97FF",
           "#FECB52"
          ],
          "font": {
           "color": "#2a3f5f"
          },
          "geo": {
           "bgcolor": "white",
           "lakecolor": "white",
           "landcolor": "#E5ECF6",
           "showlakes": true,
           "showland": true,
           "subunitcolor": "white"
          },
          "hoverlabel": {
           "align": "left"
          },
          "hovermode": "closest",
          "mapbox": {
           "style": "light"
          },
          "paper_bgcolor": "white",
          "plot_bgcolor": "#E5ECF6",
          "polar": {
           "angularaxis": {
            "gridcolor": "white",
            "linecolor": "white",
            "ticks": ""
           },
           "bgcolor": "#E5ECF6",
           "radialaxis": {
            "gridcolor": "white",
            "linecolor": "white",
            "ticks": ""
           }
          },
          "scene": {
           "xaxis": {
            "backgroundcolor": "#E5ECF6",
            "gridcolor": "white",
            "gridwidth": 2,
            "linecolor": "white",
            "showbackground": true,
            "ticks": "",
            "zerolinecolor": "white"
           },
           "yaxis": {
            "backgroundcolor": "#E5ECF6",
            "gridcolor": "white",
            "gridwidth": 2,
            "linecolor": "white",
            "showbackground": true,
            "ticks": "",
            "zerolinecolor": "white"
           },
           "zaxis": {
            "backgroundcolor": "#E5ECF6",
            "gridcolor": "white",
            "gridwidth": 2,
            "linecolor": "white",
            "showbackground": true,
            "ticks": "",
            "zerolinecolor": "white"
           }
          },
          "shapedefaults": {
           "line": {
            "color": "#2a3f5f"
           }
          },
          "ternary": {
           "aaxis": {
            "gridcolor": "white",
            "linecolor": "white",
            "ticks": ""
           },
           "baxis": {
            "gridcolor": "white",
            "linecolor": "white",
            "ticks": ""
           },
           "bgcolor": "#E5ECF6",
           "caxis": {
            "gridcolor": "white",
            "linecolor": "white",
            "ticks": ""
           }
          },
          "title": {
           "x": 0.05
          },
          "xaxis": {
           "automargin": true,
           "gridcolor": "white",
           "linecolor": "white",
           "ticks": "",
           "zerolinecolor": "white",
           "zerolinewidth": 2
          },
          "yaxis": {
           "automargin": true,
           "gridcolor": "white",
           "linecolor": "white",
           "ticks": "",
           "zerolinecolor": "white",
           "zerolinewidth": 2
          }
         }
        },
        "width": 750,
        "xaxis": {
         "anchor": "y",
         "domain": [
          0,
          1
         ]
        },
        "xaxis2": {
         "anchor": "y2",
         "domain": [
          0,
          1
         ]
        },
        "xaxis3": {
         "anchor": "y3",
         "domain": [
          0,
          1
         ]
        },
        "yaxis": {
         "anchor": "x",
         "domain": [
          0.7777777777777778,
          1
         ]
        },
        "yaxis2": {
         "anchor": "x2",
         "domain": [
          0.3888888888888889,
          0.6111111111111112
         ]
        },
        "yaxis3": {
         "anchor": "x3",
         "domain": [
          0,
          0.22222222222222224
         ]
        }
       }
      },
      "text/html": [
       "<div>\n",
       "        \n",
       "        \n",
       "            <div id=\"409204c8-b27c-459f-8f58-229b9c021317\" class=\"plotly-graph-div\" style=\"height:650px; width:750px;\"></div>\n",
       "            <script type=\"text/javascript\">\n",
       "                require([\"plotly\"], function(Plotly) {\n",
       "                    window.PLOTLYENV=window.PLOTLYENV || {};\n",
       "                    \n",
       "                if (document.getElementById(\"409204c8-b27c-459f-8f58-229b9c021317\")) {\n",
       "                    Plotly.newPlot(\n",
       "                        '409204c8-b27c-459f-8f58-229b9c021317',\n",
       "                        [{\"marker\": {\"color\": \"rgba(235, 115, 150, 0.8)\"}, \"mode\": \"lines\", \"name\": \"Volume_(BTC)\", \"type\": \"scatter\", \"x\": [\"2011-12-31T00:00:00\", \"2012-01-31T00:00:00\", \"2012-02-29T00:00:00\", \"2012-03-31T00:00:00\", \"2012-04-30T00:00:00\", \"2012-05-31T00:00:00\", \"2012-06-30T00:00:00\", \"2012-07-31T00:00:00\", \"2012-08-31T00:00:00\", \"2012-09-30T00:00:00\", \"2012-10-31T00:00:00\", \"2012-11-30T00:00:00\", \"2012-12-31T00:00:00\", \"2013-01-31T00:00:00\", \"2013-02-28T00:00:00\", \"2013-03-31T00:00:00\", \"2013-04-30T00:00:00\", \"2013-05-31T00:00:00\", \"2013-06-30T00:00:00\", \"2013-07-31T00:00:00\", \"2013-08-31T00:00:00\", \"2013-09-30T00:00:00\", \"2013-10-31T00:00:00\", \"2013-11-30T00:00:00\", \"2013-12-31T00:00:00\", \"2014-01-31T00:00:00\", \"2014-02-28T00:00:00\", \"2014-03-31T00:00:00\", \"2014-04-30T00:00:00\", \"2014-05-31T00:00:00\", \"2014-06-30T00:00:00\", \"2014-07-31T00:00:00\", \"2014-08-31T00:00:00\", \"2014-09-30T00:00:00\", \"2014-10-31T00:00:00\", \"2014-11-30T00:00:00\", \"2014-12-31T00:00:00\", \"2015-01-31T00:00:00\", \"2015-02-28T00:00:00\", \"2015-03-31T00:00:00\", \"2015-04-30T00:00:00\", \"2015-05-31T00:00:00\", \"2015-06-30T00:00:00\", \"2015-07-31T00:00:00\", \"2015-08-31T00:00:00\", \"2015-09-30T00:00:00\", \"2015-10-31T00:00:00\", \"2015-11-30T00:00:00\", \"2015-12-31T00:00:00\", \"2016-01-31T00:00:00\", \"2016-02-29T00:00:00\", \"2016-03-31T00:00:00\", \"2016-04-30T00:00:00\", \"2016-05-31T00:00:00\", \"2016-06-30T00:00:00\", \"2016-07-31T00:00:00\", \"2016-08-31T00:00:00\", \"2016-09-30T00:00:00\", \"2016-10-31T00:00:00\", \"2016-11-30T00:00:00\", \"2016-12-31T00:00:00\", \"2017-01-31T00:00:00\", \"2017-02-28T00:00:00\", \"2017-03-31T00:00:00\", \"2017-04-30T00:00:00\", \"2017-05-31T00:00:00\", \"2017-06-30T00:00:00\", \"2017-07-31T00:00:00\", \"2017-08-31T00:00:00\", \"2017-09-30T00:00:00\", \"2017-10-31T00:00:00\", \"2017-11-30T00:00:00\", \"2017-12-31T00:00:00\", \"2018-01-31T00:00:00\", \"2018-02-28T00:00:00\", \"2018-03-31T00:00:00\", \"2018-04-30T00:00:00\", \"2018-05-31T00:00:00\", \"2018-06-30T00:00:00\", \"2018-07-31T00:00:00\", \"2018-08-31T00:00:00\", \"2018-09-30T00:00:00\", \"2018-10-31T00:00:00\", \"2018-11-30T00:00:00\", \"2018-12-31T00:00:00\", \"2019-01-31T00:00:00\", \"2019-02-28T00:00:00\", \"2019-03-31T00:00:00\", \"2019-04-30T00:00:00\", \"2019-05-31T00:00:00\", \"2019-06-30T00:00:00\", \"2019-07-31T00:00:00\", \"2019-08-31T00:00:00\"], \"xaxis\": \"x\", \"y\": [6.556675229688664, 7.8392718828376715, 2.446148338657723, 6.7171946525655875, 3.172426830296848, 3.3942914683790404, 7.886049664259714, 7.117262757401796, 8.467129496326148, 9.349769319789486, 12.965068209317678, 12.592548749741658, 17.408967959471894, 12.191243595435287, 19.025479282982165, 29.426655686951516, 14.456954573768902, 14.926304458786719, 17.695996404368113, 18.50534183033272, 11.762667000462221, 21.395172289902533, 11.0777906340123, 14.495011679212398, 20.382110007585066, 15.990953066034821, 33.125790034774795, 24.82450280316794, 15.201056529334167, 16.560518152855725, 16.25051445408748, 18.440579786362076, 15.478024071912662, 19.757196920903297, 23.166942302125044, 19.757441815663555, 15.621611227241402, 17.514474338585984, 10.859024266621304, 16.405668151711772, 22.470022025559146, 11.704400476058684, 20.65857613717627, 16.58340028935996, 12.40830265707312, 20.930940771544687, 15.169279053950275, 15.856034690017172, 28.10156540984987, 19.1359120899054, 30.410785246342694, 22.30569331067475, 15.12193758584675, 17.684965698574583, 20.49759626566557, 29.35636355642579, 18.615802766041647, 18.666442497311426, 18.10812487361375, 19.865612928663687, 14.97853298822426, 10.277414869045256, 13.989921245016916, 8.33399885446637, 10.713732594291695, 9.550367378943397, 7.903666124503983, 14.919425288553597, 16.587750729918806, 8.921872286514093, 11.6096276880679, 7.383873879922088, 6.045071852400753, 6.243973147419616, 6.416210162553585, 9.282722095650803, 7.363509714085269, 6.257239699231206, 7.4932701893769655, 16.06702211223706, 15.071973636898859, 9.061944188066544, 7.872972596622038, 10.518451385369968, 8.680916692229237, 10.23203721486509, 12.22654397382959, 12.454659230414713, 12.453187528382069, 11.10059713749113, 7.742600551619013, 8.647032211101116, 14.746753200645859, 10.539638974775748, 15.844604705577389, 23.022343116311763, 10.641420070021795, 31.33127159409907, 20.04627561060025, 28.629825348801774, 21.593764841946435, 27.30945397808333, 13.259001328995048, 37.2390606349814, 10.171175124447423, 9.144053409849182, 15.491682284685405, 8.501086777229172, 7.120523797371096, 9.098325193845088, 14.31233105122714, 27.74626247933135, 15.392316942731178, 28.07852667157135, 16.223604363729134, 6.637658592051552, 9.433245695378975, 16.275352497025825, 14.30440082429065, 14.600831798294683, 15.95691515268343, 9.476267835221226, 8.6108769558015, 7.358905629083251, 4.409538588090321, 11.07362026391069, 11.600248494353163, 8.635851478544618, 10.103265749741077, 5.182050444348142, 5.114288600927578, 5.638067587854248, 4.279861066417625, 3.7793439039256254, 4.408381975749036, 6.570247355743068, 4.488590671083361, 11.335577716549551, 11.992746259208229, 6.36288109888595, 5.136005571360183, 6.662922549176599, 11.941533820531728, 10.61111830273012, 17.680143061716233, 21.851654567241887, 12.50364271309435, 9.570859471903795, 8.413686944626027, 9.101695034427635, 17.59628779272124, 10.480456329625989, 8.774792244845234, 5.866957847622026, 8.372323656258878, 11.478541470446508, 6.083324391877003, 10.453577677898828, 18.597374238943935, 35.31561794843635, 14.82602667455953, 19.459648661606277, 10.566141995496073, 13.010072999128978, 8.145862355949438, 7.289052504325384, 9.371956746218245, 6.922630685059461, 7.637382934430578, 7.869424527255951, 5.687753239704346, 6.255027798409685, 7.868054827914596, 6.816034946192426, 6.834845621454459, 6.357625521008951, 5.743247970681503, 5.466661031807547, 5.93317844613589, 5.6914843284533685, 5.154193931840235, 7.658489359742098, 4.865814892479194, 11.008473567815495, 14.595732556425673, 12.047344414067396, 8.44202590548212, 8.467555019855242, 7.444009922666645, 8.460046069477235, 13.092656144161637, 19.745978810942425, 17.712360782677642, 16.56449773679664, 13.357800101197418, 15.621584774643841, 16.312175724394823, 17.2891294753431, 18.32610996918867, 19.00745569029656, 21.31201736931643, 39.45252289680242, 25.293462562838368, 14.904294277429468, 10.101956639899857, 11.33251319565676, 13.763231194887926, 10.751332342716289, 8.851001207773802, 4.972699499355113, 6.001241155246063, 10.75102120011898, 8.40079598110713, 5.6906149897579335, 5.8308658655506, 6.13929589614287, 7.296679106629924, 5.1301178458065655, 6.61320121334522, 4.359340718410703, 3.622689065177585, 3.0470260719980318, 2.87391532378273, 2.8580573500009825, 2.7728417139146746, 4.489853248248991, 4.4411361742946065, 3.849085192055523, 3.061539705838271, 3.5770324697748115, 5.866496055712303, 5.84723082424009, 5.114161606995054, 8.21585905569147, 11.740482417568499, 6.1058668357063555, 4.986991791456375, 3.515004970564499, 3.01070952689285, 2.607850506730165, 7.379309974372014, 3.167863181664685, 3.7357903693164802, 3.591183581994077, 3.570838586851201, 3.6013163894840963, 2.5410888167876986, 2.6604221706002185, 2.6507336455108947, 2.510925986153759, 3.1740969283274, 3.373317087019847, 4.311952336661717, 4.806668396721213, 4.659553451709281, 5.469554879309551, 3.6729106694751747, 4.733643562990114, 3.7370351440327543, 3.056387229766846, 6.52134465519147, 6.131243021963295, 13.58972499541583, 9.949931031146814, 6.727243751394891, 3.7298943076180473, 5.659450102553567, 6.747964698116074, 3.8744557954662713, 6.986207501815427, 4.601647694516787, 9.080828626917649, 8.580544217604153, 8.434513003382932, 6.4782991230912605, 4.965130918398795, 3.6751402519989753, 3.7463423310397235, 4.323294104084335, 8.163925107172627, 9.606589938624051, 9.366108894863101, 15.549958416599221, 9.338229840675625, 9.390718619577441, 14.844798144947463, 8.529582029847203, 8.860598283197406, 6.115411405868059, 11.453797645171598, 14.430868348647785, 9.600725862054583, 7.283430719215304, 9.132322284157766, 10.60897095005858, 7.933447263486111, 8.16560610286314, 11.957358835484133, 18.95752559005652, 9.374022268509908, 7.696504012614027, 6.136997220594202, 10.19954823307337, 8.943817930091278, 9.05215959656649, 9.651378785137911, 14.832314364490095, 10.816019811496068, 7.028339769762888, 12.280830282471209, 13.059319356856134, 9.841057236577408, 18.406194127403786, 10.482012865429592, 8.497484169128022, 9.652150641548655, 14.575284178126056, 9.086843718894873, 14.876514712103198, 21.700044288162673, 10.814736618832338, 10.796862645745039, 6.9102309245277675, 13.063631576569406, 12.167939169564484, 8.966445103653763, 11.848993654755937, 7.739735424067434, 7.696814518066472, 7.891981464618067, 12.07381977916374, 6.484725133650791, 9.317044897498002, 6.812928606347193, 6.133213022645864, 4.907786986407702, 5.29957422660615, 6.680632649534744, 5.5607572923313136, 5.652413688937503, 4.438210885640866, 4.229626609071428, 6.237646690358129, 6.477756673176578, 6.246896508673619, 6.934366684412701, 5.601112287314474, 4.316584597722208, 4.09098917536211, 5.016669114723239, 3.1348158029305555, 3.9093495468353137, 3.635640832719256, 2.6692555751845286, 2.992639905580365, 3.513454426464253, 1.8799129919226105, 2.367901843817461, 2.2736347039057603, 6.656752888769797, 15.385920573447468, 10.798158543247995, 9.738257146522818, 6.570532627330353, 10.645791660320427, 7.255072826929573, 4.045305043991089, 6.3517933836507785, 4.946305649162693, 3.680787823876977, 4.35704195374109, 4.222253904297626, 4.837658241704376, 7.5045647172003696, 4.175853957729177, 4.645101775980175, 3.991932555616063, 3.3364927558849127, 3.90759708119938, 11.677102969851244, 6.45421151584127, 4.213239849303567, 6.070102887445411, 4.727544897467246, 9.587300336574378, 12.932969053085285, 5.8526528914781855, 5.690284019782756, 6.074463634646835, 5.708580709949403, 6.963195603508903, 13.651477406562524, 9.95086890515773, 9.534195969880994, 10.077863549111107, 5.304556734854156, 4.995856885037701, 7.803308708616014, 23.80593911], \"yaxis\": \"y\"}, {\"marker\": {\"color\": \"rgba(115, 120, 235, 0.8)\"}, \"mode\": \"lines\", \"name\": \"Volume_(Currency)\", \"type\": \"scatter\", \"x\": [\"2011-12-31T00:00:00\", \"2012-01-31T00:00:00\", \"2012-02-29T00:00:00\", \"2012-03-31T00:00:00\", \"2012-04-30T00:00:00\", \"2012-05-31T00:00:00\", \"2012-06-30T00:00:00\", \"2012-07-31T00:00:00\", \"2012-08-31T00:00:00\", \"2012-09-30T00:00:00\", \"2012-10-31T00:00:00\", \"2012-11-30T00:00:00\", \"2012-12-31T00:00:00\", \"2013-01-31T00:00:00\", \"2013-02-28T00:00:00\", \"2013-03-31T00:00:00\", \"2013-04-30T00:00:00\", \"2013-05-31T00:00:00\", \"2013-06-30T00:00:00\", \"2013-07-31T00:00:00\", \"2013-08-31T00:00:00\", \"2013-09-30T00:00:00\", \"2013-10-31T00:00:00\", \"2013-11-30T00:00:00\", \"2013-12-31T00:00:00\", \"2014-01-31T00:00:00\", \"2014-02-28T00:00:00\", \"2014-03-31T00:00:00\", \"2014-04-30T00:00:00\", \"2014-05-31T00:00:00\", \"2014-06-30T00:00:00\", \"2014-07-31T00:00:00\", \"2014-08-31T00:00:00\", \"2014-09-30T00:00:00\", \"2014-10-31T00:00:00\", \"2014-11-30T00:00:00\", \"2014-12-31T00:00:00\", \"2015-01-31T00:00:00\", \"2015-02-28T00:00:00\", \"2015-03-31T00:00:00\", \"2015-04-30T00:00:00\", \"2015-05-31T00:00:00\", \"2015-06-30T00:00:00\", \"2015-07-31T00:00:00\", \"2015-08-31T00:00:00\", \"2015-09-30T00:00:00\", \"2015-10-31T00:00:00\", \"2015-11-30T00:00:00\", \"2015-12-31T00:00:00\", \"2016-01-31T00:00:00\", \"2016-02-29T00:00:00\", \"2016-03-31T00:00:00\", \"2016-04-30T00:00:00\", \"2016-05-31T00:00:00\", \"2016-06-30T00:00:00\", \"2016-07-31T00:00:00\", \"2016-08-31T00:00:00\", \"2016-09-30T00:00:00\", \"2016-10-31T00:00:00\", \"2016-11-30T00:00:00\", \"2016-12-31T00:00:00\", \"2017-01-31T00:00:00\", \"2017-02-28T00:00:00\", \"2017-03-31T00:00:00\", \"2017-04-30T00:00:00\", \"2017-05-31T00:00:00\", \"2017-06-30T00:00:00\", \"2017-07-31T00:00:00\", \"2017-08-31T00:00:00\", \"2017-09-30T00:00:00\", \"2017-10-31T00:00:00\", \"2017-11-30T00:00:00\", \"2017-12-31T00:00:00\", \"2018-01-31T00:00:00\", \"2018-02-28T00:00:00\", \"2018-03-31T00:00:00\", \"2018-04-30T00:00:00\", \"2018-05-31T00:00:00\", \"2018-06-30T00:00:00\", \"2018-07-31T00:00:00\", \"2018-08-31T00:00:00\", \"2018-09-30T00:00:00\", \"2018-10-31T00:00:00\", \"2018-11-30T00:00:00\", \"2018-12-31T00:00:00\", \"2019-01-31T00:00:00\", \"2019-02-28T00:00:00\", \"2019-03-31T00:00:00\", \"2019-04-30T00:00:00\", \"2019-05-31T00:00:00\", \"2019-06-30T00:00:00\", \"2019-07-31T00:00:00\", \"2019-08-31T00:00:00\"], \"xaxis\": \"x2\", \"y\": [34.069690440863475, 29.527545116281118, 37.120786072062494, 66.44504771519429, 92.67470660295804, 85.42902252394447, 123.10804874167769, 140.53727166564877, 207.54550439260652, 172.18634532880114, 203.94169145888853, 212.51151261699, 280.30426505585194, 330.16926307114596, 419.032206414432, 579.7315045170603, 1388.0935665275686, 875.5285202685885, 786.9596197965566, 1028.8917136632228, 1117.2932197059317, 1234.0232116177579, 2488.7763518333263, 11684.16129109226, 16355.396221742709, 8623.627897182367, 13075.090795288797, 6992.780579247037, 6063.098911538084, 4030.2043306537876, 4756.38705382602, 2852.883589162981, 4339.006506665734, 3837.996470312793, 5094.869089435158, 4247.053758463559, 2656.1784118254604, 5089.8259161860105, 2327.8154887095257, 2107.147236494501, 1607.9499852838564, 1363.69384588817, 1507.3132270676945, 3097.7357519477437, 2884.5477606100435, 3720.7234724483537, 5067.464234381109, 7901.803850906251, 4398.704419747362, 2961.0882670306587, 2462.7959840095327, 1760.9287088072165, 1534.3128052738805, 1968.1627677207418, 4918.450098902082, 2462.1699898338525, 2521.3204269299254, 1813.0833130014812, 2103.679881274824, 3394.9497333915533, 4006.5662470258453, 7469.03403976802, 6163.813097424285, 8613.86608701661, 5083.465124210736, 20571.280671131604, 27165.33837451848, 24643.849762549, 32596.401998659225, 47905.238197348706, 45390.31939677721, 86648.95205840595, 186045.21007861223, 130899.70329081907, 128014.96269472298, 94491.05280062361, 72055.3664986191, 60063.42464437873, 37822.98191344472, 39452.906296351655, 36090.014372217694, 25340.329316977048, 17952.35342014338, 38211.79021373276, 30073.387752956653, 17689.139768787532, 19295.98489916979, 15057.562788659128, 35107.296387335446, 61009.596999067435, 77888.92250043298, 89041.8296670957, 79278.42993117523], \"yaxis\": \"y2\"}, {\"marker\": {\"color\": \"rgba(245, 170, 60, 0.8)\"}, \"mode\": \"lines\", \"name\": \"Weighted_Price\", \"type\": \"scatter\", \"x\": [\"2011-12-31T00:00:00\", \"2012-01-31T00:00:00\", \"2012-02-29T00:00:00\", \"2012-03-31T00:00:00\", \"2012-04-30T00:00:00\", \"2012-05-31T00:00:00\", \"2012-06-30T00:00:00\", \"2012-07-31T00:00:00\", \"2012-08-31T00:00:00\", \"2012-09-30T00:00:00\", \"2012-10-31T00:00:00\", \"2012-11-30T00:00:00\", \"2012-12-31T00:00:00\", \"2013-01-31T00:00:00\", \"2013-02-28T00:00:00\", \"2013-03-31T00:00:00\", \"2013-04-30T00:00:00\", \"2013-05-31T00:00:00\", \"2013-06-30T00:00:00\", \"2013-07-31T00:00:00\", \"2013-08-31T00:00:00\", \"2013-09-30T00:00:00\", \"2013-10-31T00:00:00\", \"2013-11-30T00:00:00\", \"2013-12-31T00:00:00\", \"2014-01-31T00:00:00\", \"2014-02-28T00:00:00\", \"2014-03-31T00:00:00\", \"2014-04-30T00:00:00\", \"2014-05-31T00:00:00\", \"2014-06-30T00:00:00\", \"2014-07-31T00:00:00\", \"2014-08-31T00:00:00\", \"2014-09-30T00:00:00\", \"2014-10-31T00:00:00\", \"2014-11-30T00:00:00\", \"2014-12-31T00:00:00\", \"2015-01-31T00:00:00\", \"2015-02-28T00:00:00\", \"2015-03-31T00:00:00\", \"2015-04-30T00:00:00\", \"2015-05-31T00:00:00\", \"2015-06-30T00:00:00\", \"2015-07-31T00:00:00\", \"2015-08-31T00:00:00\", \"2015-09-30T00:00:00\", \"2015-10-31T00:00:00\", \"2015-11-30T00:00:00\", \"2015-12-31T00:00:00\", \"2016-01-31T00:00:00\", \"2016-02-29T00:00:00\", \"2016-03-31T00:00:00\", \"2016-04-30T00:00:00\", \"2016-05-31T00:00:00\", \"2016-06-30T00:00:00\", \"2016-07-31T00:00:00\", \"2016-08-31T00:00:00\", \"2016-09-30T00:00:00\", \"2016-10-31T00:00:00\", \"2016-11-30T00:00:00\", \"2016-12-31T00:00:00\", \"2017-01-31T00:00:00\", \"2017-02-28T00:00:00\", \"2017-03-31T00:00:00\", \"2017-04-30T00:00:00\", \"2017-05-31T00:00:00\", \"2017-06-30T00:00:00\", \"2017-07-31T00:00:00\", \"2017-08-31T00:00:00\", \"2017-09-30T00:00:00\", \"2017-10-31T00:00:00\", \"2017-11-30T00:00:00\", \"2017-12-31T00:00:00\", \"2018-01-31T00:00:00\", \"2018-02-28T00:00:00\", \"2018-03-31T00:00:00\", \"2018-04-30T00:00:00\", \"2018-05-31T00:00:00\", \"2018-06-30T00:00:00\", \"2018-07-31T00:00:00\", \"2018-08-31T00:00:00\", \"2018-09-30T00:00:00\", \"2018-10-31T00:00:00\", \"2018-11-30T00:00:00\", \"2018-12-31T00:00:00\", \"2019-01-31T00:00:00\", \"2019-02-28T00:00:00\", \"2019-03-31T00:00:00\", \"2019-04-30T00:00:00\", \"2019-05-31T00:00:00\", \"2019-06-30T00:00:00\", \"2019-07-31T00:00:00\", \"2019-08-31T00:00:00\"], \"xaxis\": \"x3\", \"y\": [4.472578937498223, 6.234949110730185, 5.2327342338462595, 4.958307975702499, 4.980866314073925, 5.042617526977678, 5.967470396375956, 7.792521248320498, 10.923611035541764, 11.41232585152871, 11.623722499758541, 11.332316984429418, 13.152245008498273, 15.311496408739869, 25.803891188048983, 57.0521247531452, 127.44740014518952, 117.77537766336307, 105.51173019915487, 85.43469682770503, 103.41296905548889, 124.84986739479814, 152.7191270779157, 527.9646645135326, 794.3961102311084, 819.0045274809869, 664.2766335617035, 594.6266570064308, 462.55699859230805, 485.5461156361267, 613.1004681844607, 618.6102294729346, 537.2959484017488, 445.1787694250584, 363.975195694624, 366.11550884985087, 342.7381074673848, 245.90844672153162, 234.07062025238642, 268.41094876129256, 234.7066295892274, 236.60217692468754, 236.88882537349693, 279.26365705673925, 252.66300298864357, 233.52765483350942, 264.67429761541297, 348.37287409653186, 422.4996182724463, 411.08571672823587, 401.8637724568032, 415.22369923641344, 433.1439889651864, 459.90201350122777, 638.2916879658313, 660.5331736401068, 578.4277707291537, 602.8389412354658, 638.9048297681456, 723.2217759301456, 820.0562028784154, 909.0338788219314, 1059.6244334762275, 1131.8914016347976, 1208.2018142095283, 1877.5631228195948, 2619.6004346033546, 2494.6309739849457, 3827.6240634817436, 4084.6936857828014, 5283.855989615605, 7755.046356146434, 14840.370581076375, 12893.449406623446, 9389.711654988998, 9025.692916218119, 7983.605096681939, 8438.863063242026, 6784.279614226831, 7097.209566480597, 6689.449425724835, 6589.396239621773, 6415.127929125973, 5388.904282010079, 3670.6403517861095, 3658.5632290356803, 3648.339476322903, 3918.3650457358754, 5138.997776288963, 7228.675751112861, 9358.37074881566, 10667.295974215494, 11262.82674455223], \"yaxis\": \"y3\"}],\n",
       "                        {\"annotations\": [{\"font\": {\"size\": 16}, \"showarrow\": false, \"text\": \"Volume_(BTC)\", \"x\": 0.5, \"xanchor\": \"center\", \"xref\": \"paper\", \"y\": 1.0, \"yanchor\": \"bottom\", \"yref\": \"paper\"}, {\"font\": {\"size\": 16}, \"showarrow\": false, \"text\": \"Volume_(Currency)\", \"x\": 0.5, \"xanchor\": \"center\", \"xref\": \"paper\", \"y\": 0.6111111111111112, \"yanchor\": \"bottom\", \"yref\": \"paper\"}, {\"font\": {\"size\": 16}, \"showarrow\": false, \"text\": \"Weighted_Price\", \"x\": 0.5, \"xanchor\": \"center\", \"xref\": \"paper\", \"y\": 0.22222222222222224, \"yanchor\": \"bottom\", \"yref\": \"paper\"}], \"height\": 650, \"showlegend\": false, \"template\": {\"data\": {\"bar\": [{\"error_x\": {\"color\": \"#2a3f5f\"}, \"error_y\": {\"color\": \"#2a3f5f\"}, \"marker\": {\"line\": {\"color\": \"#E5ECF6\", \"width\": 0.5}}, \"type\": \"bar\"}], \"barpolar\": [{\"marker\": {\"line\": {\"color\": \"#E5ECF6\", \"width\": 0.5}}, \"type\": \"barpolar\"}], \"carpet\": [{\"aaxis\": {\"endlinecolor\": \"#2a3f5f\", \"gridcolor\": \"white\", \"linecolor\": \"white\", \"minorgridcolor\": \"white\", \"startlinecolor\": \"#2a3f5f\"}, \"baxis\": {\"endlinecolor\": \"#2a3f5f\", \"gridcolor\": \"white\", \"linecolor\": \"white\", \"minorgridcolor\": \"white\", \"startlinecolor\": \"#2a3f5f\"}, \"type\": \"carpet\"}], \"choropleth\": [{\"colorbar\": {\"outlinewidth\": 0, \"ticks\": \"\"}, \"type\": \"choropleth\"}], \"contour\": [{\"colorbar\": {\"outlinewidth\": 0, \"ticks\": \"\"}, \"colorscale\": [[0.0, \"#0d0887\"], [0.1111111111111111, \"#46039f\"], [0.2222222222222222, \"#7201a8\"], [0.3333333333333333, \"#9c179e\"], [0.4444444444444444, \"#bd3786\"], [0.5555555555555556, \"#d8576b\"], [0.6666666666666666, \"#ed7953\"], [0.7777777777777778, \"#fb9f3a\"], [0.8888888888888888, \"#fdca26\"], [1.0, \"#f0f921\"]], \"type\": \"contour\"}], \"contourcarpet\": [{\"colorbar\": {\"outlinewidth\": 0, \"ticks\": \"\"}, \"type\": \"contourcarpet\"}], \"heatmap\": [{\"colorbar\": {\"outlinewidth\": 0, \"ticks\": \"\"}, \"colorscale\": [[0.0, \"#0d0887\"], [0.1111111111111111, \"#46039f\"], [0.2222222222222222, \"#7201a8\"], [0.3333333333333333, \"#9c179e\"], [0.4444444444444444, \"#bd3786\"], [0.5555555555555556, \"#d8576b\"], [0.6666666666666666, \"#ed7953\"], [0.7777777777777778, \"#fb9f3a\"], [0.8888888888888888, \"#fdca26\"], [1.0, \"#f0f921\"]], \"type\": \"heatmap\"}], \"heatmapgl\": [{\"colorbar\": {\"outlinewidth\": 0, \"ticks\": \"\"}, \"colorscale\": [[0.0, \"#0d0887\"], [0.1111111111111111, \"#46039f\"], [0.2222222222222222, \"#7201a8\"], [0.3333333333333333, \"#9c179e\"], [0.4444444444444444, \"#bd3786\"], [0.5555555555555556, \"#d8576b\"], [0.6666666666666666, \"#ed7953\"], [0.7777777777777778, \"#fb9f3a\"], [0.8888888888888888, \"#fdca26\"], [1.0, \"#f0f921\"]], \"type\": \"heatmapgl\"}], \"histogram\": [{\"marker\": {\"colorbar\": {\"outlinewidth\": 0, \"ticks\": \"\"}}, \"type\": \"histogram\"}], \"histogram2d\": [{\"colorbar\": {\"outlinewidth\": 0, \"ticks\": \"\"}, \"colorscale\": [[0.0, \"#0d0887\"], [0.1111111111111111, \"#46039f\"], [0.2222222222222222, \"#7201a8\"], [0.3333333333333333, \"#9c179e\"], [0.4444444444444444, \"#bd3786\"], [0.5555555555555556, \"#d8576b\"], [0.6666666666666666, \"#ed7953\"], [0.7777777777777778, \"#fb9f3a\"], [0.8888888888888888, \"#fdca26\"], [1.0, \"#f0f921\"]], \"type\": \"histogram2d\"}], \"histogram2dcontour\": [{\"colorbar\": {\"outlinewidth\": 0, \"ticks\": \"\"}, \"colorscale\": [[0.0, \"#0d0887\"], [0.1111111111111111, \"#46039f\"], [0.2222222222222222, \"#7201a8\"], [0.3333333333333333, \"#9c179e\"], [0.4444444444444444, \"#bd3786\"], [0.5555555555555556, \"#d8576b\"], [0.6666666666666666, \"#ed7953\"], [0.7777777777777778, \"#fb9f3a\"], [0.8888888888888888, \"#fdca26\"], [1.0, \"#f0f921\"]], \"type\": \"histogram2dcontour\"}], \"mesh3d\": [{\"colorbar\": {\"outlinewidth\": 0, \"ticks\": \"\"}, \"type\": \"mesh3d\"}], \"parcoords\": [{\"line\": {\"colorbar\": {\"outlinewidth\": 0, \"ticks\": \"\"}}, \"type\": \"parcoords\"}], \"scatter\": [{\"marker\": {\"colorbar\": {\"outlinewidth\": 0, \"ticks\": \"\"}}, \"type\": \"scatter\"}], \"scatter3d\": [{\"line\": {\"colorbar\": {\"outlinewidth\": 0, \"ticks\": \"\"}}, \"marker\": {\"colorbar\": {\"outlinewidth\": 0, \"ticks\": \"\"}}, \"type\": \"scatter3d\"}], \"scattercarpet\": [{\"marker\": {\"colorbar\": {\"outlinewidth\": 0, \"ticks\": \"\"}}, \"type\": \"scattercarpet\"}], \"scattergeo\": [{\"marker\": {\"colorbar\": {\"outlinewidth\": 0, \"ticks\": \"\"}}, \"type\": \"scattergeo\"}], \"scattergl\": [{\"marker\": {\"colorbar\": {\"outlinewidth\": 0, \"ticks\": \"\"}}, \"type\": \"scattergl\"}], \"scattermapbox\": [{\"marker\": {\"colorbar\": {\"outlinewidth\": 0, \"ticks\": \"\"}}, \"type\": \"scattermapbox\"}], \"scatterpolar\": [{\"marker\": {\"colorbar\": {\"outlinewidth\": 0, \"ticks\": \"\"}}, \"type\": \"scatterpolar\"}], \"scatterpolargl\": [{\"marker\": {\"colorbar\": {\"outlinewidth\": 0, \"ticks\": \"\"}}, \"type\": \"scatterpolargl\"}], \"scatterternary\": [{\"marker\": {\"colorbar\": {\"outlinewidth\": 0, \"ticks\": \"\"}}, \"type\": \"scatterternary\"}], \"surface\": [{\"colorbar\": {\"outlinewidth\": 0, \"ticks\": \"\"}, \"colorscale\": [[0.0, \"#0d0887\"], [0.1111111111111111, \"#46039f\"], [0.2222222222222222, \"#7201a8\"], [0.3333333333333333, \"#9c179e\"], [0.4444444444444444, \"#bd3786\"], [0.5555555555555556, \"#d8576b\"], [0.6666666666666666, \"#ed7953\"], [0.7777777777777778, \"#fb9f3a\"], [0.8888888888888888, \"#fdca26\"], [1.0, \"#f0f921\"]], \"type\": \"surface\"}], \"table\": [{\"cells\": {\"fill\": {\"color\": \"#EBF0F8\"}, \"line\": {\"color\": \"white\"}}, \"header\": {\"fill\": {\"color\": \"#C8D4E3\"}, \"line\": {\"color\": \"white\"}}, \"type\": \"table\"}]}, \"layout\": {\"annotationdefaults\": {\"arrowcolor\": \"#2a3f5f\", \"arrowhead\": 0, \"arrowwidth\": 1}, \"colorscale\": {\"diverging\": [[0, \"#8e0152\"], [0.1, \"#c51b7d\"], [0.2, \"#de77ae\"], [0.3, \"#f1b6da\"], [0.4, \"#fde0ef\"], [0.5, \"#f7f7f7\"], [0.6, \"#e6f5d0\"], [0.7, \"#b8e186\"], [0.8, \"#7fbc41\"], [0.9, \"#4d9221\"], [1, \"#276419\"]], \"sequential\": [[0.0, \"#0d0887\"], [0.1111111111111111, \"#46039f\"], [0.2222222222222222, \"#7201a8\"], [0.3333333333333333, \"#9c179e\"], [0.4444444444444444, \"#bd3786\"], [0.5555555555555556, \"#d8576b\"], [0.6666666666666666, \"#ed7953\"], [0.7777777777777778, \"#fb9f3a\"], [0.8888888888888888, \"#fdca26\"], [1.0, \"#f0f921\"]], \"sequentialminus\": [[0.0, \"#0d0887\"], [0.1111111111111111, \"#46039f\"], [0.2222222222222222, \"#7201a8\"], [0.3333333333333333, \"#9c179e\"], [0.4444444444444444, \"#bd3786\"], [0.5555555555555556, \"#d8576b\"], [0.6666666666666666, \"#ed7953\"], [0.7777777777777778, \"#fb9f3a\"], [0.8888888888888888, \"#fdca26\"], [1.0, \"#f0f921\"]]}, \"colorway\": [\"#636efa\", \"#EF553B\", \"#00cc96\", \"#ab63fa\", \"#FFA15A\", \"#19d3f3\", \"#FF6692\", \"#B6E880\", \"#FF97FF\", \"#FECB52\"], \"font\": {\"color\": \"#2a3f5f\"}, \"geo\": {\"bgcolor\": \"white\", \"lakecolor\": \"white\", \"landcolor\": \"#E5ECF6\", \"showlakes\": true, \"showland\": true, \"subunitcolor\": \"white\"}, \"hoverlabel\": {\"align\": \"left\"}, \"hovermode\": \"closest\", \"mapbox\": {\"style\": \"light\"}, \"paper_bgcolor\": \"white\", \"plot_bgcolor\": \"#E5ECF6\", \"polar\": {\"angularaxis\": {\"gridcolor\": \"white\", \"linecolor\": \"white\", \"ticks\": \"\"}, \"bgcolor\": \"#E5ECF6\", \"radialaxis\": {\"gridcolor\": \"white\", \"linecolor\": \"white\", \"ticks\": \"\"}}, \"scene\": {\"xaxis\": {\"backgroundcolor\": \"#E5ECF6\", \"gridcolor\": \"white\", \"gridwidth\": 2, \"linecolor\": \"white\", \"showbackground\": true, \"ticks\": \"\", \"zerolinecolor\": \"white\"}, \"yaxis\": {\"backgroundcolor\": \"#E5ECF6\", \"gridcolor\": \"white\", \"gridwidth\": 2, \"linecolor\": \"white\", \"showbackground\": true, \"ticks\": \"\", \"zerolinecolor\": \"white\"}, \"zaxis\": {\"backgroundcolor\": \"#E5ECF6\", \"gridcolor\": \"white\", \"gridwidth\": 2, \"linecolor\": \"white\", \"showbackground\": true, \"ticks\": \"\", \"zerolinecolor\": \"white\"}}, \"shapedefaults\": {\"line\": {\"color\": \"#2a3f5f\"}}, \"ternary\": {\"aaxis\": {\"gridcolor\": \"white\", \"linecolor\": \"white\", \"ticks\": \"\"}, \"baxis\": {\"gridcolor\": \"white\", \"linecolor\": \"white\", \"ticks\": \"\"}, \"bgcolor\": \"#E5ECF6\", \"caxis\": {\"gridcolor\": \"white\", \"linecolor\": \"white\", \"ticks\": \"\"}}, \"title\": {\"x\": 0.05}, \"xaxis\": {\"automargin\": true, \"gridcolor\": \"white\", \"linecolor\": \"white\", \"ticks\": \"\", \"zerolinecolor\": \"white\", \"zerolinewidth\": 2}, \"yaxis\": {\"automargin\": true, \"gridcolor\": \"white\", \"linecolor\": \"white\", \"ticks\": \"\", \"zerolinecolor\": \"white\", \"zerolinewidth\": 2}}}, \"width\": 750, \"xaxis\": {\"anchor\": \"y\", \"domain\": [0.0, 1.0]}, \"xaxis2\": {\"anchor\": \"y2\", \"domain\": [0.0, 1.0]}, \"xaxis3\": {\"anchor\": \"y3\", \"domain\": [0.0, 1.0]}, \"yaxis\": {\"anchor\": \"x\", \"domain\": [0.7777777777777778, 1.0]}, \"yaxis2\": {\"anchor\": \"x2\", \"domain\": [0.3888888888888889, 0.6111111111111112]}, \"yaxis3\": {\"anchor\": \"x3\", \"domain\": [0.0, 0.22222222222222224]}},\n",
       "                        {\"responsive\": true}\n",
       "                    ).then(function(){\n",
       "                            \n",
       "var gd = document.getElementById('409204c8-b27c-459f-8f58-229b9c021317');\n",
       "var x = new MutationObserver(function (mutations, observer) {{\n",
       "        var display = window.getComputedStyle(gd).display;\n",
       "        if (!display || display === 'none') {{\n",
       "            console.log([gd, 'removed!']);\n",
       "            Plotly.purge(gd);\n",
       "            observer.disconnect();\n",
       "        }}\n",
       "}});\n",
       "\n",
       "// Listen for the removal of the full notebook cells\n",
       "var notebookContainer = gd.closest('#notebook-container');\n",
       "if (notebookContainer) {{\n",
       "    x.observe(notebookContainer, {childList: true});\n",
       "}}\n",
       "\n",
       "// Listen for the clearing of the current output cell\n",
       "var outputEl = gd.closest('.output');\n",
       "if (outputEl) {{\n",
       "    x.observe(outputEl, {childList: true});\n",
       "}}\n",
       "\n",
       "                        })\n",
       "                };\n",
       "                });\n",
       "            </script>\n",
       "        </div>"
      ]
     },
     "metadata": {},
     "output_type": "display_data"
    }
   ],
   "source": [
    "# visualize the other data, Volume_(BTC), Volume_(Currency), \n",
    "# Weighted_Price, in monthly basis\n",
    "\n",
    "trace_btc = go.Scatter(x = df_bitstamp_m.index,\n",
    "                   y = df_bitstamp_w['Volume_(BTC)'],\n",
    "                   mode = \"lines\",\n",
    "                   name = \"Volume_(BTC)\",\n",
    "                   marker = dict(color = 'rgba(235, 115, 150, 0.8)')\n",
    "                       )\n",
    "trace_currency = go.Scatter(x = df_bitstamp_m.index,\n",
    "                   y = df_bitstamp_m['Volume_(Currency)'],\n",
    "                   mode = \"lines\",\n",
    "                   name = \"Volume_(Currency)\",\n",
    "                   marker = dict(color = 'rgba(115, 120, 235, 0.8)')\n",
    "                       )\n",
    "trace_weighted_price = go.Scatter(x = df_bitstamp_m.index,\n",
    "                   y = df_bitstamp_m['Weighted_Price'],\n",
    "                   mode = \"lines\",\n",
    "                   name = \"Weighted_Price\",\n",
    "                   marker = dict(color = 'rgba(245, 170, 60, 0.8)')\n",
    "                       )\n",
    "\n",
    "fig = subplots.make_subplots(rows=3, cols=1,\n",
    "                             subplot_titles=(\"Volume_(BTC)\",\"Volume_(Currency)\", \"Weighted_Price\"))\n",
    "\n",
    "fig.append_trace(trace_btc, 1, 1)\n",
    "fig.append_trace(trace_currency, 2, 1)\n",
    "fig.append_trace(trace_weighted_price, 3, 1)\n",
    "\n",
    "fig['layout'].update(height=650, width=750, showlegend=False)\n",
    "\n",
    "iplot(fig);"
   ]
  },
  {
   "cell_type": "markdown",
   "metadata": {},
   "source": [
    "### Seasonal Trend Decomposition"
   ]
  },
  {
   "cell_type": "code",
   "execution_count": 18,
   "metadata": {
    "scrolled": false
   },
   "outputs": [
    {
     "data": {
      "text/plain": [
       "<Figure size 1224x864 with 0 Axes>"
      ]
     },
     "metadata": {},
     "output_type": "display_data"
    },
    {
     "data": {
      "image/png": "[encoded data removed]",
      "text/plain": [
       "<Figure size 432x288 with 4 Axes>"
      ]
     },
     "metadata": {
      "needs_background": "light"
     },
     "output_type": "display_data"
    }
   ],
   "source": [
    "# define seasonal trend decomposition\n",
    "from statsmodels.tsa.seasonal import seasonal_decompose\n",
    "\n",
    "def decompose(series):\n",
    "    plt.figure(figsize = (17,12))\n",
    "    seasonal_decompose(series).plot()\n",
    "    plt.show()\n",
    "\n",
    "decompose(df_bitstamp_m.Weighted_Price)"
   ]
  },
  {
   "cell_type": "markdown",
   "metadata": {},
   "source": [
    "### Price prediction with random walks"
   ]
  },
  {
   "cell_type": "code",
   "execution_count": 19,
   "metadata": {},
   "outputs": [],
   "source": [
    "# change timeseries to daily\n",
    "df_bitstamp = df_bitstamp.resample('D').mean()\n",
    "df_bitstamp = df_bitstamp.reset_index()"
   ]
  },
  {
   "cell_type": "code",
   "execution_count": 20,
   "metadata": {
    "scrolled": true
   },
   "outputs": [
    {
     "data": {
      "text/html": [
       "<div>\n",
       "<style scoped>\n",
       "    .dataframe tbody tr th:only-of-type {\n",
       "        vertical-align: middle;\n",
       "    }\n",
       "\n",
       "    .dataframe tbody tr th {\n",
       "        vertical-align: top;\n",
       "    }\n",
       "\n",
       "    .dataframe thead th {\n",
       "        text-align: right;\n",
       "    }\n",
       "</style>\n",
       "<table border=\"1\" class=\"dataframe\">\n",
       "  <thead>\n",
       "    <tr style=\"text-align: right;\">\n",
       "      <th></th>\n",
       "      <th>Timestamp</th>\n",
       "      <th>Open</th>\n",
       "      <th>High</th>\n",
       "      <th>Low</th>\n",
       "      <th>Close</th>\n",
       "      <th>Volume_(BTC)</th>\n",
       "      <th>Volume_(Currency)</th>\n",
       "      <th>Weighted_Price</th>\n",
       "      <th>day_diff</th>\n",
       "    </tr>\n",
       "  </thead>\n",
       "  <tbody>\n",
       "    <tr>\n",
       "      <th>0</th>\n",
       "      <td>2011-12-31</td>\n",
       "      <td>4.472552</td>\n",
       "      <td>4.472624</td>\n",
       "      <td>4.472552</td>\n",
       "      <td>4.472624</td>\n",
       "      <td>7.590527</td>\n",
       "      <td>34.069690</td>\n",
       "      <td>4.472579</td>\n",
       "      <td>0.000016</td>\n",
       "    </tr>\n",
       "    <tr>\n",
       "      <th>1</th>\n",
       "      <td>2012-01-01</td>\n",
       "      <td>4.680778</td>\n",
       "      <td>4.680778</td>\n",
       "      <td>4.680778</td>\n",
       "      <td>4.680778</td>\n",
       "      <td>5.861697</td>\n",
       "      <td>27.856539</td>\n",
       "      <td>4.680778</td>\n",
       "      <td>0.000000</td>\n",
       "    </tr>\n",
       "    <tr>\n",
       "      <th>2</th>\n",
       "      <td>2012-01-02</td>\n",
       "      <td>5.000000</td>\n",
       "      <td>5.000000</td>\n",
       "      <td>5.000000</td>\n",
       "      <td>5.000000</td>\n",
       "      <td>11.566478</td>\n",
       "      <td>57.832389</td>\n",
       "      <td>5.000000</td>\n",
       "      <td>0.000000</td>\n",
       "    </tr>\n",
       "    <tr>\n",
       "      <th>3</th>\n",
       "      <td>2012-01-03</td>\n",
       "      <td>5.145917</td>\n",
       "      <td>5.145917</td>\n",
       "      <td>5.145917</td>\n",
       "      <td>5.145917</td>\n",
       "      <td>13.506125</td>\n",
       "      <td>68.725391</td>\n",
       "      <td>5.145917</td>\n",
       "      <td>0.000000</td>\n",
       "    </tr>\n",
       "    <tr>\n",
       "      <th>4</th>\n",
       "      <td>2012-01-04</td>\n",
       "      <td>5.176708</td>\n",
       "      <td>5.228729</td>\n",
       "      <td>5.176708</td>\n",
       "      <td>5.228729</td>\n",
       "      <td>17.221039</td>\n",
       "      <td>91.624089</td>\n",
       "      <td>5.195443</td>\n",
       "      <td>0.010049</td>\n",
       "    </tr>\n",
       "  </tbody>\n",
       "</table>\n",
       "</div>"
      ],
      "text/plain": [
       "   Timestamp      Open      High       Low     Close  Volume_(BTC)  \\\n",
       "0 2011-12-31  4.472552  4.472624  4.472552  4.472624      7.590527   \n",
       "1 2012-01-01  4.680778  4.680778  4.680778  4.680778      5.861697   \n",
       "2 2012-01-02  5.000000  5.000000  5.000000  5.000000     11.566478   \n",
       "3 2012-01-03  5.145917  5.145917  5.145917  5.145917     13.506125   \n",
       "4 2012-01-04  5.176708  5.228729  5.176708  5.228729     17.221039   \n",
       "\n",
       "   Volume_(Currency)  Weighted_Price  day_diff  \n",
       "0          34.069690        4.472579  0.000016  \n",
       "1          27.856539        4.680778  0.000000  \n",
       "2          57.832389        5.000000  0.000000  \n",
       "3          68.725391        5.145917  0.000000  \n",
       "4          91.624089        5.195443  0.010049  "
      ]
     },
     "execution_count": 20,
     "metadata": {},
     "output_type": "execute_result"
    }
   ],
   "source": [
    "# add a value day_diff to df_bitstamp *day_diff = (close price - open price) / open price\n",
    "kwargs = { 'day_diff': lambda x: (x['Close']-x['Open'])/x['Open']}\n",
    "df_bitstamp = df_bitstamp.assign(**kwargs)\n",
    "df_bitstamp.head()"
   ]
  },
  {
   "cell_type": "markdown",
   "metadata": {},
   "source": [
    "Stock prices are commonly treated as random walks, which can be defined in these mathematical terms:\n",
    "$$\\begin{align}\n",
    "PredPrice_{t} &amp; = ActualPrice_{t-1} * \\epsilon, \\epsilon \\sim N(\\mu, \\sigma)\n",
    "\\end{align}$$\n",
    "We'll determine μ and σ from the training sets and apply the random walk model to the Bitcoin test sets.\n",
    "<br>Data that follows random walks should be normally distributed. Therefore, first, to make sure the daily change in price follows a normal distribution, We'll plot the histogram of values."
   ]
  },
  {
   "cell_type": "code",
   "execution_count": 21,
   "metadata": {},
   "outputs": [
    {
     "data": {
      "image/png": "[encoded data removed]",
      "text/plain": [
       "<Figure size 432x288 with 1 Axes>"
      ]
     },
     "metadata": {
      "needs_background": "light"
     },
     "output_type": "display_data"
    }
   ],
   "source": [
    "# We'll set a split date between train and test set to 2017-06-01\n",
    "split_date = '2017-06-01'\n",
    "\n",
    "fig, ax1 = plt.subplots(1,1)\n",
    "ax1.hist(df_bitstamp['day_diff'].values, bins=300)\n",
    "ax1.set_xlim([-0.002, 0.002])\n",
    "ax1.set_title('Bitcoin Daily Price Changes')\n",
    "plt.show()"
   ]
  },
  {
   "cell_type": "code",
   "execution_count": 22,
   "metadata": {
    "scrolled": true
   },
   "outputs": [
    {
     "data": {
      "application/vnd.plotly.v1+json": {
       "config": {
        "linkText": "Export to plot.ly",
        "plotlyServerURL": "https://plot.ly",
        "showLink": false
       },
       "data": [
        {
         "marker": {
          "color": "rgba(235, 115, 150, 0.5)"
         },
         "mode": "lines",
         "name": "Actual",
         "type": "scatter",
         "x": [
          "2017-06-01T00:00:00",
          "2017-06-02T00:00:00",
          "2017-06-03T00:00:00",
          "2017-06-04T00:00:00",
          "2017-06-05T00:00:00",
          "2017-06-06T00:00:00",
          "2017-06-07T00:00:00",
          "2017-06-08T00:00:00",
          "2017-06-09T00:00:00",
          "2017-06-10T00:00:00",
          "2017-06-11T00:00:00",
          "2017-06-12T00:00:00",
          "2017-06-13T00:00:00",
          "2017-06-14T00:00:00",
          "2017-06-15T00:00:00",
          "2017-06-16T00:00:00",
          "2017-06-17T00:00:00",
          "2017-06-18T00:00:00",
          "2017-06-19T00:00:00",
          "2017-06-20T00:00:00",
          "2017-06-21T00:00:00",
          "2017-06-22T00:00:00",
          "2017-06-23T00:00:00",
          "2017-06-24T00:00:00",
          "2017-06-25T00:00:00",
          "2017-06-26T00:00:00",
          "2017-06-27T00:00:00",
          "2017-06-28T00:00:00",
          "2017-06-29T00:00:00",
          "2017-06-30T00:00:00",
          "2017-07-01T00:00:00",
          "2017-07-02T00:00:00",
          "2017-07-03T00:00:00",
          "2017-07-04T00:00:00",
          "2017-07-05T00:00:00",
          "2017-07-06T00:00:00",
          "2017-07-07T00:00:00",
          "2017-07-08T00:00:00",
          "2017-07-09T00:00:00",
          "2017-07-10T00:00:00",
          "2017-07-11T00:00:00",
          "2017-07-12T00:00:00",
          "2017-07-13T00:00:00",
          "2017-07-14T00:00:00",
          "2017-07-15T00:00:00",
          "2017-07-16T00:00:00",
          "2017-07-17T00:00:00",
          "2017-07-18T00:00:00",
          "2017-07-19T00:00:00",
          "2017-07-20T00:00:00",
          "2017-07-21T00:00:00",
          "2017-07-22T00:00:00",
          "2017-07-23T00:00:00",
          "2017-07-24T00:00:00",
          "2017-07-25T00:00:00",
          "2017-07-26T00:00:00",
          "2017-07-27T00:00:00",
          "2017-07-28T00:00:00",
          "2017-07-29T00:00:00",
          "2017-07-30T00:00:00",
          "2017-07-31T00:00:00",
          "2017-08-01T00:00:00",
          "2017-08-02T00:00:00",
          "2017-08-03T00:00:00",
          "2017-08-04T00:00:00",
          "2017-08-05T00:00:00",
          "2017-08-06T00:00:00",
          "2017-08-07T00:00:00",
          "2017-08-08T00:00:00",
          "2017-08-09T00:00:00",
          "2017-08-10T00:00:00",
          "2017-08-11T00:00:00",
          "2017-08-12T00:00:00",
          "2017-08-13T00:00:00",
          "2017-08-14T00:00:00",
          "2017-08-15T00:00:00",
          "2017-08-16T00:00:00",
          "2017-08-17T00:00:00",
          "2017-08-18T00:00:00",
          "2017-08-19T00:00:00",
          "2017-08-20T00:00:00",
          "2017-08-21T00:00:00",
          "2017-08-22T00:00:00",
          "2017-08-23T00:00:00",
          "2017-08-24T00:00:00",
          "2017-08-25T00:00:00",
          "2017-08-26T00:00:00",
          "2017-08-27T00:00:00",
          "2017-08-28T00:00:00",
          "2017-08-29T00:00:00",
          "2017-08-30T00:00:00",
          "2017-08-31T00:00:00",
          "2017-09-01T00:00:00",
          "2017-09-02T00:00:00",
          "2017-09-03T00:00:00",
          "2017-09-04T00:00:00",
          "2017-09-05T00:00:00",
          "2017-09-06T00:00:00",
          "2017-09-07T00:00:00",
          "2017-09-08T00:00:00",
          "2017-09-09T00:00:00",
          "2017-09-10T00:00:00",
          "2017-09-11T00:00:00",
          "2017-09-12T00:00:00",
          "2017-09-13T00:00:00",
          "2017-09-14T00:00:00",
          "2017-09-15T00:00:00",
          "2017-09-16T00:00:00",
          "2017-09-17T00:00:00",
          "2017-09-18T00:00:00",
          "2017-09-19T00:00:00",
          "2017-09-20T00:00:00",
          "2017-09-21T00:00:00",
          "2017-09-22T00:00:00",
          "2017-09-23T00:00:00",
          "2017-09-24T00:00:00",
          "2017-09-25T00:00:00",
          "2017-09-26T00:00:00",
          "2017-09-27T00:00:00",
          "2017-09-28T00:00:00",
          "2017-09-29T00:00:00",
          "2017-09-30T00:00:00",
          "2017-10-01T00:00:00",
          "2017-10-02T00:00:00",
          "2017-10-03T00:00:00",
          "2017-10-04T00:00:00",
          "2017-10-05T00:00:00",
          "2017-10-06T00:00:00",
          "2017-10-07T00:00:00",
          "2017-10-08T00:00:00",
          "2017-10-09T00:00:00",
          "2017-10-10T00:00:00",
          "2017-10-11T00:00:00",
          "2017-10-12T00:00:00",
          "2017-10-13T00:00:00",
          "2017-10-14T00:00:00",
          "2017-10-15T00:00:00",
          "2017-10-16T00:00:00",
          "2017-10-17T00:00:00",
          "2017-10-18T00:00:00",
          "2017-10-19T00:00:00",
          "2017-10-20T00:00:00",
          "2017-10-21T00:00:00",
          "2017-10-22T00:00:00",
          "2017-10-23T00:00:00",
          "2017-10-24T00:00:00",
          "2017-10-25T00:00:00",
          "2017-10-26T00:00:00",
          "2017-10-27T00:00:00",
          "2017-10-28T00:00:00",
          "2017-10-29T00:00:00",
          "2017-10-30T00:00:00",
          "2017-10-31T00:00:00",
          "2017-11-01T00:00:00",
          "2017-11-02T00:00:00",
          "2017-11-03T00:00:00",
          "2017-11-04T00:00:00",
          "2017-11-05T00:00:00",
          "2017-11-06T00:00:00",
          "2017-11-07T00:00:00",
          "2017-11-08T00:00:00",
          "2017-11-09T00:00:00",
          "2017-11-10T00:00:00",
          "2017-11-11T00:00:00",
          "2017-11-12T00:00:00",
          "2017-11-13T00:00:00",
          "2017-11-14T00:00:00",
          "2017-11-15T00:00:00",
          "2017-11-16T00:00:00",
          "2017-11-17T00:00:00",
          "2017-11-18T00:00:00",
          "2017-11-19T00:00:00",
          "2017-11-20T00:00:00",
          "2017-11-21T00:00:00",
          "2017-11-22T00:00:00",
          "2017-11-23T00:00:00",
          "2017-11-24T00:00:00",
          "2017-11-25T00:00:00",
          "2017-11-26T00:00:00",
          "2017-11-27T00:00:00",
          "2017-11-28T00:00:00",
          "2017-11-29T00:00:00",
          "2017-11-30T00:00:00",
          "2017-12-01T00:00:00",
          "2017-12-02T00:00:00",
          "2017-12-03T00:00:00",
          "2017-12-04T00:00:00",
          "2017-12-05T00:00:00",
          "2017-12-06T00:00:00",
          "2017-12-07T00:00:00",
          "2017-12-08T00:00:00",
          "2017-12-09T00:00:00",
          "2017-12-10T00:00:00",
          "2017-12-11T00:00:00",
          "2017-12-12T00:00:00",
          "2017-12-13T00:00:00",
          "2017-12-14T00:00:00",
          "2017-12-15T00:00:00",
          "2017-12-16T00:00:00",
          "2017-12-17T00:00:00",
          "2017-12-18T00:00:00",
          "2017-12-19T00:00:00",
          "2017-12-20T00:00:00",
          "2017-12-21T00:00:00",
          "2017-12-22T00:00:00",
          "2017-12-23T00:00:00",
          "2017-12-24T00:00:00",
          "2017-12-25T00:00:00",
          "2017-12-26T00:00:00",
          "2017-12-27T00:00:00",
          "2017-12-28T00:00:00",
          "2017-12-29T00:00:00",
          "2017-12-30T00:00:00",
          "2017-12-31T00:00:00",
          "2018-01-01T00:00:00",
          "2018-01-02T00:00:00",
          "2018-01-03T00:00:00",
          "2018-01-04T00:00:00",
          "2018-01-05T00:00:00",
          "2018-01-06T00:00:00",
          "2018-01-07T00:00:00",
          "2018-01-08T00:00:00",
          "2018-01-09T00:00:00",
          "2018-01-10T00:00:00",
          "2018-01-11T00:00:00",
          "2018-01-12T00:00:00",
          "2018-01-13T00:00:00",
          "2018-01-14T00:00:00",
          "2018-01-15T00:00:00",
          "2018-01-16T00:00:00",
          "2018-01-17T00:00:00",
          "2018-01-18T00:00:00",
          "2018-01-19T00:00:00",
          "2018-01-20T00:00:00",
          "2018-01-21T00:00:00",
          "2018-01-22T00:00:00",
          "2018-01-23T00:00:00",
          "2018-01-24T00:00:00",
          "2018-01-25T00:00:00",
          "2018-01-26T00:00:00",
          "2018-01-27T00:00:00",
          "2018-01-28T00:00:00",
          "2018-01-29T00:00:00",
          "2018-01-30T00:00:00",
          "2018-01-31T00:00:00",
          "2018-02-01T00:00:00",
          "2018-02-02T00:00:00",
          "2018-02-03T00:00:00",
          "2018-02-04T00:00:00",
          "2018-02-05T00:00:00",
          "2018-02-06T00:00:00",
          "2018-02-07T00:00:00",
          "2018-02-08T00:00:00",
          "2018-02-09T00:00:00",
          "2018-02-10T00:00:00",
          "2018-02-11T00:00:00",
          "2018-02-12T00:00:00",
          "2018-02-13T00:00:00",
          "2018-02-14T00:00:00",
          "2018-02-15T00:00:00",
          "2018-02-16T00:00:00",
          "2018-02-17T00:00:00",
          "2018-02-18T00:00:00",
          "2018-02-19T00:00:00",
          "2018-02-20T00:00:00",
          "2018-02-21T00:00:00",
          "2018-02-22T00:00:00",
          "2018-02-23T00:00:00",
          "2018-02-24T00:00:00",
          "2018-02-25T00:00:00",
          "2018-02-26T00:00:00",
          "2018-02-27T00:00:00",
          "2018-02-28T00:00:00",
          "2018-03-01T00:00:00",
          "2018-03-02T00:00:00",
          "2018-03-03T00:00:00",
          "2018-03-04T00:00:00",
          "2018-03-05T00:00:00",
          "2018-03-06T00:00:00",
          "2018-03-07T00:00:00",
          "2018-03-08T00:00:00",
          "2018-03-09T00:00:00",
          "2018-03-10T00:00:00",
          "2018-03-11T00:00:00",
          "2018-03-12T00:00:00",
          "2018-03-13T00:00:00",
          "2018-03-14T00:00:00",
          "2018-03-15T00:00:00",
          "2018-03-16T00:00:00",
          "2018-03-17T00:00:00",
          "2018-03-18T00:00:00",
          "2018-03-19T00:00:00",
          "2018-03-20T00:00:00",
          "2018-03-21T00:00:00",
          "2018-03-22T00:00:00",
          "2018-03-23T00:00:00",
          "2018-03-24T00:00:00",
          "2018-03-25T00:00:00",
          "2018-03-26T00:00:00",
          "2018-03-27T00:00:00",
          "2018-03-28T00:00:00",
          "2018-03-29T00:00:00",
          "2018-03-30T00:00:00",
          "2018-03-31T00:00:00",
          "2018-04-01T00:00:00",
          "2018-04-02T00:00:00",
          "2018-04-03T00:00:00",
          "2018-04-04T00:00:00",
          "2018-04-05T00:00:00",
          "2018-04-06T00:00:00",
          "2018-04-07T00:00:00",
          "2018-04-08T00:00:00",
          "2018-04-09T00:00:00",
          "2018-04-10T00:00:00",
          "2018-04-11T00:00:00",
          "2018-04-12T00:00:00",
          "2018-04-13T00:00:00",
          "2018-04-14T00:00:00",
          "2018-04-15T00:00:00",
          "2018-04-16T00:00:00",
          "2018-04-17T00:00:00",
          "2018-04-18T00:00:00",
          "2018-04-19T00:00:00",
          "2018-04-20T00:00:00",
          "2018-04-21T00:00:00",
          "2018-04-22T00:00:00",
          "2018-04-23T00:00:00",
          "2018-04-24T00:00:00",
          "2018-04-25T00:00:00",
          "2018-04-26T00:00:00",
          "2018-04-27T00:00:00",
          "2018-04-28T00:00:00",
          "2018-04-29T00:00:00",
          "2018-04-30T00:00:00",
          "2018-05-01T00:00:00",
          "2018-05-02T00:00:00",
          "2018-05-03T00:00:00",
          "2018-05-04T00:00:00",
          "2018-05-05T00:00:00",
          "2018-05-06T00:00:00",
          "2018-05-07T00:00:00",
          "2018-05-08T00:00:00",
          "2018-05-09T00:00:00",
          "2018-05-10T00:00:00",
          "2018-05-11T00:00:00",
          "2018-05-12T00:00:00",
          "2018-05-13T00:00:00",
          "2018-05-14T00:00:00",
          "2018-05-15T00:00:00",
          "2018-05-16T00:00:00",
          "2018-05-17T00:00:00",
          "2018-05-18T00:00:00",
          "2018-05-19T00:00:00",
          "2018-05-20T00:00:00",
          "2018-05-21T00:00:00",
          "2018-05-22T00:00:00",
          "2018-05-23T00:00:00",
          "2018-05-24T00:00:00",
          "2018-05-25T00:00:00",
          "2018-05-26T00:00:00",
          "2018-05-27T00:00:00",
          "2018-05-28T00:00:00",
          "2018-05-29T00:00:00",
          "2018-05-30T00:00:00",
          "2018-05-31T00:00:00",
          "2018-06-01T00:00:00",
          "2018-06-02T00:00:00",
          "2018-06-03T00:00:00",
          "2018-06-04T00:00:00",
          "2018-06-05T00:00:00",
          "2018-06-06T00:00:00",
          "2018-06-07T00:00:00",
          "2018-06-08T00:00:00",
          "2018-06-09T00:00:00",
          "2018-06-10T00:00:00",
          "2018-06-11T00:00:00",
          "2018-06-12T00:00:00",
          "2018-06-13T00:00:00",
          "2018-06-14T00:00:00",
          "2018-06-15T00:00:00",
          "2018-06-16T00:00:00",
          "2018-06-17T00:00:00",
          "2018-06-18T00:00:00",
          "2018-06-19T00:00:00",
          "2018-06-20T00:00:00",
          "2018-06-21T00:00:00",
          "2018-06-22T00:00:00",
          "2018-06-23T00:00:00",
          "2018-06-24T00:00:00",
          "2018-06-25T00:00:00",
          "2018-06-26T00:00:00",
          "2018-06-27T00:00:00",
          "2018-06-28T00:00:00",
          "2018-06-29T00:00:00",
          "2018-06-30T00:00:00",
          "2018-07-01T00:00:00",
          "2018-07-02T00:00:00",
          "2018-07-03T00:00:00",
          "2018-07-04T00:00:00",
          "2018-07-05T00:00:00",
          "2018-07-06T00:00:00",
          "2018-07-07T00:00:00",
          "2018-07-08T00:00:00",
          "2018-07-09T00:00:00",
          "2018-07-10T00:00:00",
          "2018-07-11T00:00:00",
          "2018-07-12T00:00:00",
          "2018-07-13T00:00:00",
          "2018-07-14T00:00:00",
          "2018-07-15T00:00:00",
          "2018-07-16T00:00:00",
          "2018-07-17T00:00:00",
          "2018-07-18T00:00:00",
          "2018-07-19T00:00:00",
          "2018-07-20T00:00:00",
          "2018-07-21T00:00:00",
          "2018-07-22T00:00:00",
          "2018-07-23T00:00:00",
          "2018-07-24T00:00:00",
          "2018-07-25T00:00:00",
          "2018-07-26T00:00:00",
          "2018-07-27T00:00:00",
          "2018-07-28T00:00:00",
          "2018-07-29T00:00:00",
          "2018-07-30T00:00:00",
          "2018-07-31T00:00:00",
          "2018-08-01T00:00:00",
          "2018-08-02T00:00:00",
          "2018-08-03T00:00:00",
          "2018-08-04T00:00:00",
          "2018-08-05T00:00:00",
          "2018-08-06T00:00:00",
          "2018-08-07T00:00:00",
          "2018-08-08T00:00:00",
          "2018-08-09T00:00:00",
          "2018-08-10T00:00:00",
          "2018-08-11T00:00:00",
          "2018-08-12T00:00:00",
          "2018-08-13T00:00:00",
          "2018-08-14T00:00:00",
          "2018-08-15T00:00:00",
          "2018-08-16T00:00:00",
          "2018-08-17T00:00:00",
          "2018-08-18T00:00:00",
          "2018-08-19T00:00:00",
          "2018-08-20T00:00:00",
          "2018-08-21T00:00:00",
          "2018-08-22T00:00:00",
          "2018-08-23T00:00:00",
          "2018-08-24T00:00:00",
          "2018-08-25T00:00:00",
          "2018-08-26T00:00:00",
          "2018-08-27T00:00:00",
          "2018-08-28T00:00:00",
          "2018-08-29T00:00:00",
          "2018-08-30T00:00:00",
          "2018-08-31T00:00:00",
          "2018-09-01T00:00:00",
          "2018-09-02T00:00:00",
          "2018-09-03T00:00:00",
          "2018-09-04T00:00:00",
          "2018-09-05T00:00:00",
          "2018-09-06T00:00:00",
          "2018-09-07T00:00:00",
          "2018-09-08T00:00:00",
          "2018-09-09T00:00:00",
          "2018-09-10T00:00:00",
          "2018-09-11T00:00:00",
          "2018-09-12T00:00:00",
          "2018-09-13T00:00:00",
          "2018-09-14T00:00:00",
          "2018-09-15T00:00:00",
          "2018-09-16T00:00:00",
          "2018-09-17T00:00:00",
          "2018-09-18T00:00:00",
          "2018-09-19T00:00:00",
          "2018-09-20T00:00:00",
          "2018-09-21T00:00:00",
          "2018-09-22T00:00:00",
          "2018-09-23T00:00:00",
          "2018-09-24T00:00:00",
          "2018-09-25T00:00:00",
          "2018-09-26T00:00:00",
          "2018-09-27T00:00:00",
          "2018-09-28T00:00:00",
          "2018-09-29T00:00:00",
          "2018-09-30T00:00:00",
          "2018-10-01T00:00:00",
          "2018-10-02T00:00:00",
          "2018-10-03T00:00:00",
          "2018-10-04T00:00:00",
          "2018-10-05T00:00:00",
          "2018-10-06T00:00:00",
          "2018-10-07T00:00:00",
          "2018-10-08T00:00:00",
          "2018-10-09T00:00:00",
          "2018-10-10T00:00:00",
          "2018-10-11T00:00:00",
          "2018-10-12T00:00:00",
          "2018-10-13T00:00:00",
          "2018-10-14T00:00:00",
          "2018-10-15T00:00:00",
          "2018-10-16T00:00:00",
          "2018-10-17T00:00:00",
          "2018-10-18T00:00:00",
          "2018-10-19T00:00:00",
          "2018-10-20T00:00:00",
          "2018-10-21T00:00:00",
          "2018-10-22T00:00:00",
          "2018-10-23T00:00:00",
          "2018-10-24T00:00:00",
          "2018-10-25T00:00:00",
          "2018-10-26T00:00:00",
          "2018-10-27T00:00:00",
          "2018-10-28T00:00:00",
          "2018-10-29T00:00:00",
          "2018-10-30T00:00:00",
          "2018-10-31T00:00:00",
          "2018-11-01T00:00:00",
          "2018-11-02T00:00:00",
          "2018-11-03T00:00:00",
          "2018-11-04T00:00:00",
          "2018-11-05T00:00:00",
          "2018-11-06T00:00:00",
          "2018-11-07T00:00:00",
          "2018-11-08T00:00:00",
          "2018-11-09T00:00:00",
          "2018-11-10T00:00:00",
          "2018-11-11T00:00:00",
          "2018-11-12T00:00:00",
          "2018-11-13T00:00:00",
          "2018-11-14T00:00:00",
          "2018-11-15T00:00:00",
          "2018-11-16T00:00:00",
          "2018-11-17T00:00:00",
          "2018-11-18T00:00:00",
          "2018-11-19T00:00:00",
          "2018-11-20T00:00:00",
          "2018-11-21T00:00:00",
          "2018-11-22T00:00:00",
          "2018-11-23T00:00:00",
          "2018-11-24T00:00:00",
          "2018-11-25T00:00:00",
          "2018-11-26T00:00:00",
          "2018-11-27T00:00:00",
          "2018-11-28T00:00:00",
          "2018-11-29T00:00:00",
          "2018-11-30T00:00:00",
          "2018-12-01T00:00:00",
          "2018-12-02T00:00:00",
          "2018-12-03T00:00:00",
          "2018-12-04T00:00:00",
          "2018-12-05T00:00:00",
          "2018-12-06T00:00:00",
          "2018-12-07T00:00:00",
          "2018-12-08T00:00:00",
          "2018-12-09T00:00:00",
          "2018-12-10T00:00:00",
          "2018-12-11T00:00:00",
          "2018-12-12T00:00:00",
          "2018-12-13T00:00:00",
          "2018-12-14T00:00:00",
          "2018-12-15T00:00:00",
          "2018-12-16T00:00:00",
          "2018-12-17T00:00:00",
          "2018-12-18T00:00:00",
          "2018-12-19T00:00:00",
          "2018-12-20T00:00:00",
          "2018-12-21T00:00:00",
          "2018-12-22T00:00:00",
          "2018-12-23T00:00:00",
          "2018-12-24T00:00:00",
          "2018-12-25T00:00:00",
          "2018-12-26T00:00:00",
          "2018-12-27T00:00:00",
          "2018-12-28T00:00:00",
          "2018-12-29T00:00:00",
          "2018-12-30T00:00:00",
          "2018-12-31T00:00:00",
          "2019-01-01T00:00:00",
          "2019-01-02T00:00:00",
          "2019-01-03T00:00:00",
          "2019-01-04T00:00:00",
          "2019-01-05T00:00:00",
          "2019-01-06T00:00:00",
          "2019-01-07T00:00:00",
          "2019-01-08T00:00:00",
          "2019-01-09T00:00:00",
          "2019-01-10T00:00:00",
          "2019-01-11T00:00:00",
          "2019-01-12T00:00:00",
          "2019-01-13T00:00:00",
          "2019-01-14T00:00:00",
          "2019-01-15T00:00:00",
          "2019-01-16T00:00:00",
          "2019-01-17T00:00:00",
          "2019-01-18T00:00:00",
          "2019-01-19T00:00:00",
          "2019-01-20T00:00:00",
          "2019-01-21T00:00:00",
          "2019-01-22T00:00:00",
          "2019-01-23T00:00:00",
          "2019-01-24T00:00:00",
          "2019-01-25T00:00:00",
          "2019-01-26T00:00:00",
          "2019-01-27T00:00:00",
          "2019-01-28T00:00:00",
          "2019-01-29T00:00:00",
          "2019-01-30T00:00:00",
          "2019-01-31T00:00:00",
          "2019-02-01T00:00:00",
          "2019-02-02T00:00:00",
          "2019-02-03T00:00:00",
          "2019-02-04T00:00:00",
          "2019-02-05T00:00:00",
          "2019-02-06T00:00:00",
          "2019-02-07T00:00:00",
          "2019-02-08T00:00:00",
          "2019-02-09T00:00:00",
          "2019-02-10T00:00:00",
          "2019-02-11T00:00:00",
          "2019-02-12T00:00:00",
          "2019-02-13T00:00:00",
          "2019-02-14T00:00:00",
          "2019-02-15T00:00:00",
          "2019-02-16T00:00:00",
          "2019-02-17T00:00:00",
          "2019-02-18T00:00:00",
          "2019-02-19T00:00:00",
          "2019-02-20T00:00:00",
          "2019-02-21T00:00:00",
          "2019-02-22T00:00:00",
          "2019-02-23T00:00:00",
          "2019-02-24T00:00:00",
          "2019-02-25T00:00:00",
          "2019-02-26T00:00:00",
          "2019-02-27T00:00:00",
          "2019-02-28T00:00:00",
          "2019-03-01T00:00:00",
          "2019-03-02T00:00:00",
          "2019-03-03T00:00:00",
          "2019-03-04T00:00:00",
          "2019-03-05T00:00:00",
          "2019-03-06T00:00:00",
          "2019-03-07T00:00:00",
          "2019-03-08T00:00:00",
          "2019-03-09T00:00:00",
          "2019-03-10T00:00:00",
          "2019-03-11T00:00:00",
          "2019-03-12T00:00:00",
          "2019-03-13T00:00:00",
          "2019-03-14T00:00:00",
          "2019-03-15T00:00:00",
          "2019-03-16T00:00:00",
          "2019-03-17T00:00:00",
          "2019-03-18T00:00:00",
          "2019-03-19T00:00:00",
          "2019-03-20T00:00:00",
          "2019-03-21T00:00:00",
          "2019-03-22T00:00:00",
          "2019-03-23T00:00:00",
          "2019-03-24T00:00:00",
          "2019-03-25T00:00:00",
          "2019-03-26T00:00:00",
          "2019-03-27T00:00:00",
          "2019-03-28T00:00:00",
          "2019-03-29T00:00:00",
          "2019-03-30T00:00:00",
          "2019-03-31T00:00:00",
          "2019-04-01T00:00:00",
          "2019-04-02T00:00:00",
          "2019-04-03T00:00:00",
          "2019-04-04T00:00:00",
          "2019-04-05T00:00:00",
          "2019-04-06T00:00:00",
          "2019-04-07T00:00:00",
          "2019-04-08T00:00:00",
          "2019-04-09T00:00:00",
          "2019-04-10T00:00:00",
          "2019-04-11T00:00:00",
          "2019-04-12T00:00:00",
          "2019-04-13T00:00:00",
          "2019-04-14T00:00:00",
          "2019-04-15T00:00:00",
          "2019-04-16T00:00:00",
          "2019-04-17T00:00:00",
          "2019-04-18T00:00:00",
          "2019-04-19T00:00:00",
          "2019-04-20T00:00:00",
          "2019-04-21T00:00:00",
          "2019-04-22T00:00:00",
          "2019-04-23T00:00:00",
          "2019-04-24T00:00:00",
          "2019-04-25T00:00:00",
          "2019-04-26T00:00:00",
          "2019-04-27T00:00:00",
          "2019-04-28T00:00:00",
          "2019-04-29T00:00:00",
          "2019-04-30T00:00:00",
          "2019-05-01T00:00:00",
          "2019-05-02T00:00:00",
          "2019-05-03T00:00:00",
          "2019-05-04T00:00:00",
          "2019-05-05T00:00:00",
          "2019-05-06T00:00:00",
          "2019-05-07T00:00:00",
          "2019-05-08T00:00:00",
          "2019-05-09T00:00:00",
          "2019-05-10T00:00:00",
          "2019-05-11T00:00:00",
          "2019-05-12T00:00:00",
          "2019-05-13T00:00:00",
          "2019-05-14T00:00:00",
          "2019-05-15T00:00:00",
          "2019-05-16T00:00:00",
          "2019-05-17T00:00:00",
          "2019-05-18T00:00:00",
          "2019-05-19T00:00:00",
          "2019-05-20T00:00:00",
          "2019-05-21T00:00:00",
          "2019-05-22T00:00:00",
          "2019-05-23T00:00:00",
          "2019-05-24T00:00:00",
          "2019-05-25T00:00:00",
          "2019-05-26T00:00:00",
          "2019-05-27T00:00:00",
          "2019-05-28T00:00:00",
          "2019-05-29T00:00:00",
          "2019-05-30T00:00:00",
          "2019-05-31T00:00:00",
          "2019-06-01T00:00:00",
          "2019-06-02T00:00:00",
          "2019-06-03T00:00:00",
          "2019-06-04T00:00:00",
          "2019-06-05T00:00:00",
          "2019-06-06T00:00:00",
          "2019-06-07T00:00:00",
          "2019-06-08T00:00:00",
          "2019-06-09T00:00:00",
          "2019-06-10T00:00:00",
          "2019-06-11T00:00:00",
          "2019-06-12T00:00:00",
          "2019-06-13T00:00:00",
          "2019-06-14T00:00:00",
          "2019-06-15T00:00:00",
          "2019-06-16T00:00:00",
          "2019-06-17T00:00:00",
          "2019-06-18T00:00:00",
          "2019-06-19T00:00:00",
          "2019-06-20T00:00:00",
          "2019-06-21T00:00:00",
          "2019-06-22T00:00:00",
          "2019-06-23T00:00:00",
          "2019-06-24T00:00:00",
          "2019-06-25T00:00:00",
          "2019-06-26T00:00:00",
          "2019-06-27T00:00:00",
          "2019-06-28T00:00:00",
          "2019-06-29T00:00:00",
          "2019-06-30T00:00:00",
          "2019-07-01T00:00:00",
          "2019-07-02T00:00:00",
          "2019-07-03T00:00:00",
          "2019-07-04T00:00:00",
          "2019-07-05T00:00:00",
          "2019-07-06T00:00:00",
          "2019-07-07T00:00:00",
          "2019-07-08T00:00:00",
          "2019-07-09T00:00:00",
          "2019-07-10T00:00:00",
          "2019-07-11T00:00:00",
          "2019-07-12T00:00:00",
          "2019-07-13T00:00:00",
          "2019-07-14T00:00:00",
          "2019-07-15T00:00:00",
          "2019-07-16T00:00:00",
          "2019-07-17T00:00:00",
          "2019-07-18T00:00:00",
          "2019-07-19T00:00:00",
          "2019-07-20T00:00:00",
          "2019-07-21T00:00:00",
          "2019-07-22T00:00:00",
          "2019-07-23T00:00:00",
          "2019-07-24T00:00:00",
          "2019-07-25T00:00:00",
          "2019-07-26T00:00:00",
          "2019-07-27T00:00:00",
          "2019-07-28T00:00:00",
          "2019-07-29T00:00:00",
          "2019-07-30T00:00:00",
          "2019-07-31T00:00:00",
          "2019-08-01T00:00:00",
          "2019-08-02T00:00:00",
          "2019-08-03T00:00:00",
          "2019-08-04T00:00:00",
          "2019-08-05T00:00:00",
          "2019-08-06T00:00:00",
          "2019-08-07T00:00:00",
          "2019-08-08T00:00:00",
          "2019-08-09T00:00:00",
          "2019-08-10T00:00:00",
          "2019-08-11T00:00:00",
          "2019-08-12T00:00:00"
         ],
         "y": [
          2389.7124652777793,
          2429.3014722222233,
          2518.750888888892,
          2524.7469930555603,
          2600.7444444444486,
          2835.1260555555527,
          2815.6953194444473,
          2753.5724375000073,
          2823.8471180555543,
          2853.871777777778,
          2906.474215277779,
          2803.581750000004,
          2715.928694444451,
          2653.0482708333398,
          2356.7296388888876,
          2450.1450486111107,
          2555.917826388888,
          2566.5587638888933,
          2558.1391805555563,
          2661.5631666666654,
          2712.268812500005,
          2680.862333333332,
          2718.264888888894,
          2657.009215277778,
          2559.341569444444,
          2464.9203888888896,
          2407.794423611114,
          2533.6016041666626,
          2558.770583333335,
          2524.0453819444497,
          2462.3251597222225,
          2444.7650347222207,
          2524.042131944447,
          2596.6061319444475,
          2569.9141666666737,
          2593.83718055556,
          2543.1207638888936,
          2516.3489097222214,
          2539.2847569444484,
          2455.0341527777796,
          2339.67059722222,
          2343.987402777782,
          2371.100986111114,
          2279.3203333333418,
          2073.9353055555507,
          1939.7691666666651,
          2056.5191180555607,
          2280.832284722225,
          2311.804187499999,
          2492.0011805555505,
          2718.66329861111,
          2779.7550000000033,
          2767.121493055555,
          2753.6120972222275,
          2624.099263888895,
          2499.1164097222277,
          2569.3229652777813,
          2737.2861944444467,
          2718.175916666668,
          2675.802902777784,
          2760.5994583333304,
          2769.700041666668,
          2713.936569444449,
          2743.284652777787,
          2827.005715277781,
          3153.660069444449,
          3236.0079166666746,
          3308.0867569444586,
          3416.0661041666613,
          3341.188736111121,
          3391.8064374999985,
          3503.103180555562,
          3757.487743055561,
          4023.2860000000037,
          4167.993833333334,
          4167.686743055565,
          4166.003368055552,
          4345.919243055558,
          4228.188402777789,
          4055.157333333346,
          4060.0714097222326,
          4022.7011666666704,
          3922.028104166666,
          4141.476888888893,
          4180.539020833341,
          4356.688888888902,
          4311.373458333351,
          4340.41629861112,
          4304.705208333351,
          4464.279500000008,
          4575.960375000009,
          4669.390076388895,
          4801.706236111117,
          4684.137694444455,
          4576.001104166673,
          4361.9361666666555,
          4252.457069444449,
          4528.704993055561,
          4584.30025694446,
          4482.604402777778,
          4292.220722222222,
          4180.850256944438,
          4210.225687500004,
          4253.140652777776,
          3934.011493055559,
          3624.5376458333308,
          3409.156631944439,
          3696.292625000008,
          3634.360208333341,
          3941.1198541666736,
          3962.9578749999987,
          3937.1915555555534,
          3791.3262638888873,
          3626.56877777778,
          3713.8222499999893,
          3695.2018541666625,
          3819.9963263888803,
          3914.8063263888916,
          4035.8797291666588,
          4188.612034722216,
          4144.9773819444545,
          4270.209180555565,
          4290.9005902777835,
          4395.493111111113,
          4311.992895833344,
          4249.643597222228,
          4255.330979166674,
          4359.174444444453,
          4351.288687500015,
          4495.808520833344,
          4643.429222222222,
          4811.700548611115,
          4787.352048611121,
          5114.763875000004,
          5618.339881944439,
          5666.474111111125,
          5610.077659722221,
          5673.469020833336,
          5625.583124999998,
          5402.310152777783,
          5654.104562500007,
          5788.776069444453,
          6073.861624999996,
          5910.377895833341,
          5869.137208333331,
          5659.772756944453,
          5547.822833333337,
          5826.5624305555675,
          5822.675326388888,
          5749.922930555566,
          5883.7243263888895,
          6122.401979166681,
          6240.408875000002,
          6502.706909722225,
          6952.339833333342,
          7240.374881944453,
          7258.124208333341,
          7458.392979166676,
          7228.157159722217,
          7102.901493055557,
          7386.520145833342,
          7244.327472222225,
          6961.358118055562,
          6556.024395833337,
          6114.231854166673,
          6346.988562500001,
          6590.393958333334,
          7046.016361111107,
          7459.5306875,
          7827.064805555566,
          7697.005916666671,
          7825.9264166666635,
          8090.021590277788,
          8157.685722222237,
          8194.893506944461,
          8175.670479166667,
          8168.087229166671,
          8428.860465277778,
          8972.45295138889,
          9556.814923611137,
          9833.026659722245,
          10403.94379166668,
          9888.908548611136,
          10194.8572638889,
          10938.31135416666,
          11291.630187499997,
          11346.529326388907,
          11656.498604166689,
          12580.533465277795,
          14778.207416666659,
          15432.868875000007,
          14806.800236111114,
          14134.664791666688,
          16202.50012500004,
          16730.929659722206,
          16540.327312500034,
          16343.036833333323,
          17365.62792361109,
          18176.730138888863,
          19190.340631944408,
          18720.01349999997,
          18320.41626388884,
          16834.521375000026,
          16221.424986111117,
          13761.145826388869,
          14768.55603472223,
          13656.086034722228,
          13966.06769444444,
          15243.615263888882,
          15581.444701388853,
          14248.632048611133,
          14534.974930555547,
          13212.859868055571,
          13339.22119444444,
          13425.415124999998,
          13879.358895833342,
          14963.699340277786,
          14818.780319444424,
          15792.452506944403,
          16666.922951388857,
          16517.014097222225,
          15300.74915277776,
          14868.201201388889,
          14194.688409722214,
          13697.100145833341,
          13661.494569444449,
          14224.945451388912,
          13679.928909722257,
          13821.277097222206,
          12164.619152777768,
          10680.231659722216,
          11495.746736111108,
          11513.536416666664,
          12471.649145833333,
          11895.589819444449,
          11131.135819444438,
          10724.710277777793,
          11007.914437500012,
          11300.592097222247,
          11011.94201388889,
          11238.782944444469,
          11673.103618055535,
          11283.896194444453,
          10628.612597222236,
          9987.00209722223,
          9497.750625000028,
          8558.503076388899,
          8912.281611111122,
          8722.604465277787,
          7611.722958333325,
          6828.462006944439,
          7914.380222222217,
          8216.322486111098,
          8261.487381944451,
          8656.487229166652,
          8188.491090277783,
          8624.076937500005,
          8609.80722222223,
          9025.642687500025,
          9803.039104166684,
          10025.99250694445,
          10677.811173611124,
          10737.341631944453,
          10867.436395833349,
          11498.189631944457,
          10791.702006944444,
          10272.655520833341,
          10013.161215277789,
          9931.702569444478,
          9595.83642361113,
          9910.592527777806,
          10552.671340277788,
          10621.063326388921,
          10650.838465277793,
          10980.791097222265,
          11344.269083333334,
          11242.097152777793,
          11520.930465277766,
          11021.738861111102,
          10399.997006944468,
          9705.391458333352,
          8907.997486111099,
          9236.650131944436,
          9058.136361111123,
          9436.36200694445,
          9155.890388888914,
          8769.349694444441,
          8112.515770833351,
          8315.006604166676,
          8079.593062500001,
          7679.651055555559,
          8355.255979166664,
          8622.49709722222,
          8983.081652777786,
          8793.326687500008,
          8529.94406944445,
          8857.918083333345,
          8535.650166666666,
          8208.19347916669,
          7965.760694444459,
          7916.943312500011,
          7518.686965277791,
          6888.176854166671,
          7005.669125000011,
          6797.412069444436,
          6978.018000000003,
          7325.304333333331,
          7077.711673611102,
          6758.105076388888,
          6649.452291666674,
          6891.6737638889,
          6988.428743055562,
          6891.471624999996,
          6779.244319444467,
          6879.948687500013,
          7336.708215277788,
          7992.690451388897,
          8010.872291666685,
          8215.487236111117,
          8080.020305555557,
          8036.633618055566,
          8057.3129930555615,
          8213.267708333358,
          8445.635604166675,
          8800.278312499991,
          8888.387819444462,
          8895.62331249999,
          9314.519125000023,
          9221.040361111107,
          8883.210298611131,
          9217.02084722222,
          9240.572972222244,
          9356.157784722249,
          9290.616041666668,
          8988.595694444466,
          9112.689791666677,
          9379.656666666657,
          9656.508229166666,
          9829.181138888915,
          9615.699180555568,
          9344.100527777799,
          9260.790923611114,
          9193.325472222248,
          9265.502951388902,
          8701.556430555573,
          8423.31487500004,
          8550.491187500027,
          8581.468430555582,
          8642.09697222224,
          8282.705625000013,
          8277.959930555586,
          8106.672548611127,
          8254.920923611124,
          8361.972944444464,
          8455.092916666694,
          8233.2557916667,
          7784.575402777791,
          7538.571881944487,
          7486.668048611141,
          7490.143826388919,
          7317.306069444448,
          7255.434381944465,
          7293.893402777787,
          7432.491090277765,
          7500.117368055571,
          7481.193180555582,
          7597.247354166683,
          7690.673791666691,
          7575.316763888909,
          7491.722708333352,
          7606.389534722249,
          7692.524618055574,
          7629.560597222222,
          7630.158000000005,
          7133.649305555566,
          6760.716284722224,
          6754.097347222223,
          6443.017722222231,
          6501.825152777797,
          6550.993312499992,
          6462.630548611125,
          6509.097465277774,
          6522.887597222218,
          6718.137923611121,
          6680.922951388888,
          6736.712444444453,
          6359.654034722214,
          6135.97526388889,
          6024.7279027777895,
          6203.3115555555705,
          6201.928152777776,
          6096.063604166686,
          6082.033944444458,
          5903.817749999997,
          6363.47595833333,
          6350.025388888889,
          6453.064812500014,
          6596.762625000031,
          6571.150868055561,
          6581.060631944442,
          6541.890631944446,
          6573.3242361111,
          6739.136618055562,
          6705.734666666673,
          6480.4565208333415,
          6354.405493055556,
          6219.166937500008,
          6236.785770833367,
          6236.172256944462,
          6318.537784722239,
          6521.181465277782,
          6877.720881944445,
          7402.712555555563,
          7390.11466666668,
          7420.562833333363,
          7347.857055555567,
          7448.0036597222515,
          7679.556715277796,
          8071.491902777785,
          8253.59904166666,
          8196.509159722247,
          8021.516604166678,
          8179.995840277793,
          8202.688618055583,
          8133.9497777778,
          7915.115548611122,
          7569.98511111112,
          7590.178583333349,
          7394.100701388909,
          7248.6566458333655,
          6995.644215277812,
          6987.8438472222315,
          6986.739444444467,
          6444.725208333348,
          6394.324194444451,
          6394.919993055561,
          6188.136972222216,
          6304.35070833334,
          6345.708180555566,
          6056.106715277783,
          6369.123708333329,
          6344.468576388896,
          6466.790055555574,
          6446.211965277772,
          6397.762687500009,
          6444.960090277811,
          6399.587041666682,
          6579.496944444452,
          6433.5398680555545,
          6551.867993055588,
          6713.861659722258,
          6669.950659722236,
          6712.779381944449,
          6986.976090277787,
          7049.229027777782,
          6929.053499999996,
          6979.79039583335,
          7105.35293750002,
          7239.421576388906,
          7259.906249999994,
          7322.047874999996,
          7125.833812499998,
          6421.734145833346,
          6443.361534722262,
          6360.320930555571,
          6289.750152777783,
          6287.392875000001,
          6290.2325902777875,
          6268.183465277798,
          6440.572034722228,
          6500.248395833359,
          6519.018743055587,
          6484.170666666674,
          6398.048562500014,
          6295.923305555575,
          6336.486597222232,
          6411.717736111115,
          6658.61240972222,
          6705.587187499994,
          6706.800166666679,
          6638.184479166654,
          6413.125020833338,
          6461.356423611127,
          6520.746958333349,
          6665.077402777776,
          6539.937986111108,
          6577.550055555549,
          6574.940298611117,
          6541.682701388867,
          6447.232340277765,
          6547.230777777762,
          6544.547159722216,
          6556.2918263888805,
          6533.511180555536,
          6586.734770833344,
          6587.5929722221945,
          6517.042173611102,
          6213.507291666667,
          6201.429923611101,
          6196.307437500009,
          6225.605215277768,
          6368.968388888887,
          6437.686604166653,
          6438.604631944451,
          6427.5492222222265,
          6385.541597222227,
          6396.777493055575,
          6433.669687499999,
          6405.4003749999765,
          6395.747611111114,
          6425.273986111101,
          6400.467819444443,
          6400.76842361109,
          6407.05902083333,
          6402.554041666676,
          6329.9985763889,
          6264.565631944463,
          6277.430083333336,
          6310.56606249998,
          6351.960548611104,
          6333.967756944455,
          6364.34178472219,
          6404.680194444427,
          6412.868326388882,
          6506.8773680555605,
          6449.525041666662,
          6365.883486111105,
          6354.911069444451,
          6339.537944444456,
          6350.976541666664,
          6290.059034722227,
          6019.894937499998,
          5494.714520833338,
          5530.675125000012,
          5485.194152777787,
          5534.090277777771,
          5203.1593819444415,
          4531.132569444447,
          4447.252770833336,
          4468.593826388887,
          4248.508673611109,
          4203.4345069444435,
          3756.95189583334,
          3850.8809305555556,
          3702.9673125000036,
          4057.7619513888876,
          4224.60156944445,
          4075.2327916666695,
          4078.2717500000003,
          4120.349090277774,
          3924.919868055556,
          3904.986423611119,
          3802.7635277777786,
          3694.9691111111147,
          3360.1898402777783,
          3384.9175000000073,
          3468.0102222222245,
          3468.8128611111065,
          3365.570430555562,
          3397.2696736111166,
          3360.91896527778,
          3233.8725902777715,
          3180.2247847222225,
          3217.120479166661,
          3333.074319444453,
          3508.6461597222205,
          3748.380458333341,
          3923.0398263888833,
          3972.550958333326,
          3851.8717222222185,
          3978.132437499989,
          4125.493027777772,
          3773.2280555555553,
          3779.5463055555515,
          3717.7947291666655,
          3700.835333333332,
          3873.5531736111043,
          3788.032055555552,
          3757.3624166666555,
          3700.3265972222234,
          3823.112729166656,
          3830.1849722222178,
          3785.05104861111,
          3834.452138888893,
          3874.5452152777775,
          4022.664298611106,
          4006.257034722222,
          4010.7763958333285,
          3795.507187500005,
          3636.7025416666634,
          3626.5706319444425,
          3580.619624999998,
          3580.005486111115,
          3641.574458333333,
          3603.472229166661,
          3602.951118055559,
          3615.6680555555517,
          3671.6374999999907,
          3607.2373958333274,
          3535.8616458333254,
          3551.567465277765,
          3569.4726805555633,
          3553.9397777777735,
          3557.15230555555,
          3571.367611111122,
          3545.671416666666,
          3438.032173611103,
          3398.639076388891,
          3423.095763888887,
          3424.856152777782,
          3416.3658680555586,
          3431.8366666666716,
          3425.4384861111216,
          3414.204527777778,
          3419.36813888888,
          3371.575750000001,
          3366.4235208333366,
          3451.4933402777733,
          3614.884708333324,
          3608.1552916666656,
          3595.2006875,
          3577.8480416666685,
          3582.285694444439,
          3569.1406111111155,
          3570.4032013888955,
          3587.6629097222267,
          3585.4940555555586,
          3756.019819444445,
          3900.652402777775,
          3910.843916666662,
          3906.7272222222296,
          3925.343680555563,
          3980.2158541666718,
          3989.5767638888838,
          3792.778916666669,
          3799.9307777777794,
          3795.3566597222207,
          3810.278263888891,
          3813.27386805555,
          3805.279194444444,
          3801.456263888886,
          3725.0505902777822,
          3765.770388888884,
          3838.784395833329,
          3861.3823194444494,
          3871.895409722215,
          3889.980624999997,
          3893.019138888882,
          3864.6125624999936,
          3847.294444444448,
          3853.5086458333462,
          3850.2652013888824,
          3877.4722777777793,
          3978.552020833331,
          3963.1048819444545,
          3969.4853958333247,
          3977.0401319444522,
          3995.406333333329,
          4005.9583888888824,
          3981.5695555555526,
          3980.761215277784,
          3968.612951388893,
          3949.801881944454,
          3908.431326388902,
          3993.995347222206,
          4009.194069444443,
          4057.541465277782,
          4083.772388888892,
          4088.348868055553,
          4125.548659722221,
          4647.141729166669,
          5038.50502083333,
          4971.659173611101,
          4981.012118055559,
          5042.754319444438,
          5128.465159722207,
          5241.546451388895,
          5221.413534722217,
          5270.475166666668,
          5129.761715277781,
          5047.637659722214,
          5084.51536805556,
          5078.802409722226,
          5122.114104166673,
          5098.620062500001,
          5218.718937499994,
          5263.983847222229,
          5259.1587361111115,
          5313.275881944437,
          5288.680506944438,
          5317.52523611111,
          5531.954173611113,
          5486.831687500015,
          5423.299951388892,
          5149.682201388893,
          5165.260756944446,
          5169.915263888891,
          5154.869499999995,
          5199.331576388891,
          5303.564006944443,
          5360.945784722242,
          5617.309986111107,
          5694.244680555553,
          5721.58211805556,
          5656.3270069444425,
          5863.695777777779,
          5843.870868055555,
          6047.245256944443,
          6290.585555555554,
          6806.6770625000045,
          7155.474208333327,
          7408.98296527779,
          7993.158020833342,
          8054.80577777778,
          7993.707881944452,
          7263.197819444444,
          7326.348763888892,
          7934.045673611123,
          7906.761131944451,
          7952.989784722219,
          7890.863298611112,
          7703.517611111119,
          7983.823395833333,
          8045.214743055539,
          8125.428284722212,
          8782.527847222222,
          8726.034833333331,
          8646.49276388888,
          8631.68847916668,
          8350.288833333312,
          8542.015763888876,
          8668.05993750001,
          8531.08584722222,
          7851.133666666666,
          7771.943777777767,
          7751.1627916666675,
          7938.752041666664,
          7941.170618055555,
          7799.946125000009,
          7820.271444444434,
          7897.226569444459,
          8036.859090277781,
          8169.982472222209,
          8353.574541666672,
          8727.897222222222,
          9096.019243055567,
          9236.642777777772,
          9153.257826388888,
          9148.226562500011,
          9353.45185416665,
          9802.451152777776,
          10725.602312500023,
          10747.117999999991,
          10844.867333333319,
          11314.388562500011,
          12643.553618055552,
          11803.958812500003,
          11678.356861111108,
          11850.858194444452,
          11540.011777777765,
          10687.819687499998,
          10305.094118055564,
          11345.892000000002,
          11760.026750000003,
          11141.252972222204,
          11416.435701388893,
          11311.678444444451,
          11794.189805555567,
          12514.21774305554,
          12649.908881944439,
          11584.54125000001,
          11585.792416666667,
          11430.236854166653,
          10860.6743263889,
          10419.180666666702,
          10356.278006944454,
          9577.303708333347,
          10053.263270833328,
          10473.079361111104,
          10680.938881944432,
          10578.370826388895,
          10451.459284722223,
          10071.961000000008,
          9703.44240277778,
          10023.55200000002,
          9775.523166666679,
          9731.698895833339,
          9486.49152083333,
          9541.105833333348,
          9541.569750000022,
          9857.407680555563,
          10085.621541666671,
          10475.718763888879,
          10785.766958333332,
          10820.892229166655,
          11676.32672916666,
          11758.30978472223,
          11712.383777777764,
          11802.534583333349,
          11820.873673611108,
          11582.249006944416,
          11379.078881944437,
          11520
         ]
        },
        {
         "marker": {
          "color": "rgba(115, 120, 235, 0.5)"
         },
         "mode": "lines",
         "name": "Predict",
         "type": "scatter",
         "x": [
          "2017-06-01T00:00:00",
          "2017-06-02T00:00:00",
          "2017-06-03T00:00:00",
          "2017-06-04T00:00:00",
          "2017-06-05T00:00:00",
          "2017-06-06T00:00:00",
          "2017-06-07T00:00:00",
          "2017-06-08T00:00:00",
          "2017-06-09T00:00:00",
          "2017-06-10T00:00:00",
          "2017-06-11T00:00:00",
          "2017-06-12T00:00:00",
          "2017-06-13T00:00:00",
          "2017-06-14T00:00:00",
          "2017-06-15T00:00:00",
          "2017-06-16T00:00:00",
          "2017-06-17T00:00:00",
          "2017-06-18T00:00:00",
          "2017-06-19T00:00:00",
          "2017-06-20T00:00:00",
          "2017-06-21T00:00:00",
          "2017-06-22T00:00:00",
          "2017-06-23T00:00:00",
          "2017-06-24T00:00:00",
          "2017-06-25T00:00:00",
          "2017-06-26T00:00:00",
          "2017-06-27T00:00:00",
          "2017-06-28T00:00:00",
          "2017-06-29T00:00:00",
          "2017-06-30T00:00:00",
          "2017-07-01T00:00:00",
          "2017-07-02T00:00:00",
          "2017-07-03T00:00:00",
          "2017-07-04T00:00:00",
          "2017-07-05T00:00:00",
          "2017-07-06T00:00:00",
          "2017-07-07T00:00:00",
          "2017-07-08T00:00:00",
          "2017-07-09T00:00:00",
          "2017-07-10T00:00:00",
          "2017-07-11T00:00:00",
          "2017-07-12T00:00:00",
          "2017-07-13T00:00:00",
          "2017-07-14T00:00:00",
          "2017-07-15T00:00:00",
          "2017-07-16T00:00:00",
          "2017-07-17T00:00:00",
          "2017-07-18T00:00:00",
          "2017-07-19T00:00:00",
          "2017-07-20T00:00:00",
          "2017-07-21T00:00:00",
          "2017-07-22T00:00:00",
          "2017-07-23T00:00:00",
          "2017-07-24T00:00:00",
          "2017-07-25T00:00:00",
          "2017-07-26T00:00:00",
          "2017-07-27T00:00:00",
          "2017-07-28T00:00:00",
          "2017-07-29T00:00:00",
          "2017-07-30T00:00:00",
          "2017-07-31T00:00:00",
          "2017-08-01T00:00:00",
          "2017-08-02T00:00:00",
          "2017-08-03T00:00:00",
          "2017-08-04T00:00:00",
          "2017-08-05T00:00:00",
          "2017-08-06T00:00:00",
          "2017-08-07T00:00:00",
          "2017-08-08T00:00:00",
          "2017-08-09T00:00:00",
          "2017-08-10T00:00:00",
          "2017-08-11T00:00:00",
          "2017-08-12T00:00:00",
          "2017-08-13T00:00:00",
          "2017-08-14T00:00:00",
          "2017-08-15T00:00:00",
          "2017-08-16T00:00:00",
          "2017-08-17T00:00:00",
          "2017-08-18T00:00:00",
          "2017-08-19T00:00:00",
          "2017-08-20T00:00:00",
          "2017-08-21T00:00:00",
          "2017-08-22T00:00:00",
          "2017-08-23T00:00:00",
          "2017-08-24T00:00:00",
          "2017-08-25T00:00:00",
          "2017-08-26T00:00:00",
          "2017-08-27T00:00:00",
          "2017-08-28T00:00:00",
          "2017-08-29T00:00:00",
          "2017-08-30T00:00:00",
          "2017-08-31T00:00:00",
          "2017-09-01T00:00:00",
          "2017-09-02T00:00:00",
          "2017-09-03T00:00:00",
          "2017-09-04T00:00:00",
          "2017-09-05T00:00:00",
          "2017-09-06T00:00:00",
          "2017-09-07T00:00:00",
          "2017-09-08T00:00:00",
          "2017-09-09T00:00:00",
          "2017-09-10T00:00:00",
          "2017-09-11T00:00:00",
          "2017-09-12T00:00:00",
          "2017-09-13T00:00:00",
          "2017-09-14T00:00:00",
          "2017-09-15T00:00:00",
          "2017-09-16T00:00:00",
          "2017-09-17T00:00:00",
          "2017-09-18T00:00:00",
          "2017-09-19T00:00:00",
          "2017-09-20T00:00:00",
          "2017-09-21T00:00:00",
          "2017-09-22T00:00:00",
          "2017-09-23T00:00:00",
          "2017-09-24T00:00:00",
          "2017-09-25T00:00:00",
          "2017-09-26T00:00:00",
          "2017-09-27T00:00:00",
          "2017-09-28T00:00:00",
          "2017-09-29T00:00:00",
          "2017-09-30T00:00:00",
          "2017-10-01T00:00:00",
          "2017-10-02T00:00:00",
          "2017-10-03T00:00:00",
          "2017-10-04T00:00:00",
          "2017-10-05T00:00:00",
          "2017-10-06T00:00:00",
          "2017-10-07T00:00:00",
          "2017-10-08T00:00:00",
          "2017-10-09T00:00:00",
          "2017-10-10T00:00:00",
          "2017-10-11T00:00:00",
          "2017-10-12T00:00:00",
          "2017-10-13T00:00:00",
          "2017-10-14T00:00:00",
          "2017-10-15T00:00:00",
          "2017-10-16T00:00:00",
          "2017-10-17T00:00:00",
          "2017-10-18T00:00:00",
          "2017-10-19T00:00:00",
          "2017-10-20T00:00:00",
          "2017-10-21T00:00:00",
          "2017-10-22T00:00:00",
          "2017-10-23T00:00:00",
          "2017-10-24T00:00:00",
          "2017-10-25T00:00:00",
          "2017-10-26T00:00:00",
          "2017-10-27T00:00:00",
          "2017-10-28T00:00:00",
          "2017-10-29T00:00:00",
          "2017-10-30T00:00:00",
          "2017-10-31T00:00:00",
          "2017-11-01T00:00:00",
          "2017-11-02T00:00:00",
          "2017-11-03T00:00:00",
          "2017-11-04T00:00:00",
          "2017-11-05T00:00:00",
          "2017-11-06T00:00:00",
          "2017-11-07T00:00:00",
          "2017-11-08T00:00:00",
          "2017-11-09T00:00:00",
          "2017-11-10T00:00:00",
          "2017-11-11T00:00:00",
          "2017-11-12T00:00:00",
          "2017-11-13T00:00:00",
          "2017-11-14T00:00:00",
          "2017-11-15T00:00:00",
          "2017-11-16T00:00:00",
          "2017-11-17T00:00:00",
          "2017-11-18T00:00:00",
          "2017-11-19T00:00:00",
          "2017-11-20T00:00:00",
          "2017-11-21T00:00:00",
          "2017-11-22T00:00:00",
          "2017-11-23T00:00:00",
          "2017-11-24T00:00:00",
          "2017-11-25T00:00:00",
          "2017-11-26T00:00:00",
          "2017-11-27T00:00:00",
          "2017-11-28T00:00:00",
          "2017-11-29T00:00:00",
          "2017-11-30T00:00:00",
          "2017-12-01T00:00:00",
          "2017-12-02T00:00:00",
          "2017-12-03T00:00:00",
          "2017-12-04T00:00:00",
          "2017-12-05T00:00:00",
          "2017-12-06T00:00:00",
          "2017-12-07T00:00:00",
          "2017-12-08T00:00:00",
          "2017-12-09T00:00:00",
          "2017-12-10T00:00:00",
          "2017-12-11T00:00:00",
          "2017-12-12T00:00:00",
          "2017-12-13T00:00:00",
          "2017-12-14T00:00:00",
          "2017-12-15T00:00:00",
          "2017-12-16T00:00:00",
          "2017-12-17T00:00:00",
          "2017-12-18T00:00:00",
          "2017-12-19T00:00:00",
          "2017-12-20T00:00:00",
          "2017-12-21T00:00:00",
          "2017-12-22T00:00:00",
          "2017-12-23T00:00:00",
          "2017-12-24T00:00:00",
          "2017-12-25T00:00:00",
          "2017-12-26T00:00:00",
          "2017-12-27T00:00:00",
          "2017-12-28T00:00:00",
          "2017-12-29T00:00:00",
          "2017-12-30T00:00:00",
          "2017-12-31T00:00:00",
          "2018-01-01T00:00:00",
          "2018-01-02T00:00:00",
          "2018-01-03T00:00:00",
          "2018-01-04T00:00:00",
          "2018-01-05T00:00:00",
          "2018-01-06T00:00:00",
          "2018-01-07T00:00:00",
          "2018-01-08T00:00:00",
          "2018-01-09T00:00:00",
          "2018-01-10T00:00:00",
          "2018-01-11T00:00:00",
          "2018-01-12T00:00:00",
          "2018-01-13T00:00:00",
          "2018-01-14T00:00:00",
          "2018-01-15T00:00:00",
          "2018-01-16T00:00:00",
          "2018-01-17T00:00:00",
          "2018-01-18T00:00:00",
          "2018-01-19T00:00:00",
          "2018-01-20T00:00:00",
          "2018-01-21T00:00:00",
          "2018-01-22T00:00:00",
          "2018-01-23T00:00:00",
          "2018-01-24T00:00:00",
          "2018-01-25T00:00:00",
          "2018-01-26T00:00:00",
          "2018-01-27T00:00:00",
          "2018-01-28T00:00:00",
          "2018-01-29T00:00:00",
          "2018-01-30T00:00:00",
          "2018-01-31T00:00:00",
          "2018-02-01T00:00:00",
          "2018-02-02T00:00:00",
          "2018-02-03T00:00:00",
          "2018-02-04T00:00:00",
          "2018-02-05T00:00:00",
          "2018-02-06T00:00:00",
          "2018-02-07T00:00:00",
          "2018-02-08T00:00:00",
          "2018-02-09T00:00:00",
          "2018-02-10T00:00:00",
          "2018-02-11T00:00:00",
          "2018-02-12T00:00:00",
          "2018-02-13T00:00:00",
          "2018-02-14T00:00:00",
          "2018-02-15T00:00:00",
          "2018-02-16T00:00:00",
          "2018-02-17T00:00:00",
          "2018-02-18T00:00:00",
          "2018-02-19T00:00:00",
          "2018-02-20T00:00:00",
          "2018-02-21T00:00:00",
          "2018-02-22T00:00:00",
          "2018-02-23T00:00:00",
          "2018-02-24T00:00:00",
          "2018-02-25T00:00:00",
          "2018-02-26T00:00:00",
          "2018-02-27T00:00:00",
          "2018-02-28T00:00:00",
          "2018-03-01T00:00:00",
          "2018-03-02T00:00:00",
          "2018-03-03T00:00:00",
          "2018-03-04T00:00:00",
          "2018-03-05T00:00:00",
          "2018-03-06T00:00:00",
          "2018-03-07T00:00:00",
          "2018-03-08T00:00:00",
          "2018-03-09T00:00:00",
          "2018-03-10T00:00:00",
          "2018-03-11T00:00:00",
          "2018-03-12T00:00:00",
          "2018-03-13T00:00:00",
          "2018-03-14T00:00:00",
          "2018-03-15T00:00:00",
          "2018-03-16T00:00:00",
          "2018-03-17T00:00:00",
          "2018-03-18T00:00:00",
          "2018-03-19T00:00:00",
          "2018-03-20T00:00:00",
          "2018-03-21T00:00:00",
          "2018-03-22T00:00:00",
          "2018-03-23T00:00:00",
          "2018-03-24T00:00:00",
          "2018-03-25T00:00:00",
          "2018-03-26T00:00:00",
          "2018-03-27T00:00:00",
          "2018-03-28T00:00:00",
          "2018-03-29T00:00:00",
          "2018-03-30T00:00:00",
          "2018-03-31T00:00:00",
          "2018-04-01T00:00:00",
          "2018-04-02T00:00:00",
          "2018-04-03T00:00:00",
          "2018-04-04T00:00:00",
          "2018-04-05T00:00:00",
          "2018-04-06T00:00:00",
          "2018-04-07T00:00:00",
          "2018-04-08T00:00:00",
          "2018-04-09T00:00:00",
          "2018-04-10T00:00:00",
          "2018-04-11T00:00:00",
          "2018-04-12T00:00:00",
          "2018-04-13T00:00:00",
          "2018-04-14T00:00:00",
          "2018-04-15T00:00:00",
          "2018-04-16T00:00:00",
          "2018-04-17T00:00:00",
          "2018-04-18T00:00:00",
          "2018-04-19T00:00:00",
          "2018-04-20T00:00:00",
          "2018-04-21T00:00:00",
          "2018-04-22T00:00:00",
          "2018-04-23T00:00:00",
          "2018-04-24T00:00:00",
          "2018-04-25T00:00:00",
          "2018-04-26T00:00:00",
          "2018-04-27T00:00:00",
          "2018-04-28T00:00:00",
          "2018-04-29T00:00:00",
          "2018-04-30T00:00:00",
          "2018-05-01T00:00:00",
          "2018-05-02T00:00:00",
          "2018-05-03T00:00:00",
          "2018-05-04T00:00:00",
          "2018-05-05T00:00:00",
          "2018-05-06T00:00:00",
          "2018-05-07T00:00:00",
          "2018-05-08T00:00:00",
          "2018-05-09T00:00:00",
          "2018-05-10T00:00:00",
          "2018-05-11T00:00:00",
          "2018-05-12T00:00:00",
          "2018-05-13T00:00:00",
          "2018-05-14T00:00:00",
          "2018-05-15T00:00:00",
          "2018-05-16T00:00:00",
          "2018-05-17T00:00:00",
          "2018-05-18T00:00:00",
          "2018-05-19T00:00:00",
          "2018-05-20T00:00:00",
          "2018-05-21T00:00:00",
          "2018-05-22T00:00:00",
          "2018-05-23T00:00:00",
          "2018-05-24T00:00:00",
          "2018-05-25T00:00:00",
          "2018-05-26T00:00:00",
          "2018-05-27T00:00:00",
          "2018-05-28T00:00:00",
          "2018-05-29T00:00:00",
          "2018-05-30T00:00:00",
          "2018-05-31T00:00:00",
          "2018-06-01T00:00:00",
          "2018-06-02T00:00:00",
          "2018-06-03T00:00:00",
          "2018-06-04T00:00:00",
          "2018-06-05T00:00:00",
          "2018-06-06T00:00:00",
          "2018-06-07T00:00:00",
          "2018-06-08T00:00:00",
          "2018-06-09T00:00:00",
          "2018-06-10T00:00:00",
          "2018-06-11T00:00:00",
          "2018-06-12T00:00:00",
          "2018-06-13T00:00:00",
          "2018-06-14T00:00:00",
          "2018-06-15T00:00:00",
          "2018-06-16T00:00:00",
          "2018-06-17T00:00:00",
          "2018-06-18T00:00:00",
          "2018-06-19T00:00:00",
          "2018-06-20T00:00:00",
          "2018-06-21T00:00:00",
          "2018-06-22T00:00:00",
          "2018-06-23T00:00:00",
          "2018-06-24T00:00:00",
          "2018-06-25T00:00:00",
          "2018-06-26T00:00:00",
          "2018-06-27T00:00:00",
          "2018-06-28T00:00:00",
          "2018-06-29T00:00:00",
          "2018-06-30T00:00:00",
          "2018-07-01T00:00:00",
          "2018-07-02T00:00:00",
          "2018-07-03T00:00:00",
          "2018-07-04T00:00:00",
          "2018-07-05T00:00:00",
          "2018-07-06T00:00:00",
          "2018-07-07T00:00:00",
          "2018-07-08T00:00:00",
          "2018-07-09T00:00:00",
          "2018-07-10T00:00:00",
          "2018-07-11T00:00:00",
          "2018-07-12T00:00:00",
          "2018-07-13T00:00:00",
          "2018-07-14T00:00:00",
          "2018-07-15T00:00:00",
          "2018-07-16T00:00:00",
          "2018-07-17T00:00:00",
          "2018-07-18T00:00:00",
          "2018-07-19T00:00:00",
          "2018-07-20T00:00:00",
          "2018-07-21T00:00:00",
          "2018-07-22T00:00:00",
          "2018-07-23T00:00:00",
          "2018-07-24T00:00:00",
          "2018-07-25T00:00:00",
          "2018-07-26T00:00:00",
          "2018-07-27T00:00:00",
          "2018-07-28T00:00:00",
          "2018-07-29T00:00:00",
          "2018-07-30T00:00:00",
          "2018-07-31T00:00:00",
          "2018-08-01T00:00:00",
          "2018-08-02T00:00:00",
          "2018-08-03T00:00:00",
          "2018-08-04T00:00:00",
          "2018-08-05T00:00:00",
          "2018-08-06T00:00:00",
          "2018-08-07T00:00:00",
          "2018-08-08T00:00:00",
          "2018-08-09T00:00:00",
          "2018-08-10T00:00:00",
          "2018-08-11T00:00:00",
          "2018-08-12T00:00:00",
          "2018-08-13T00:00:00",
          "2018-08-14T00:00:00",
          "2018-08-15T00:00:00",
          "2018-08-16T00:00:00",
          "2018-08-17T00:00:00",
          "2018-08-18T00:00:00",
          "2018-08-19T00:00:00",
          "2018-08-20T00:00:00",
          "2018-08-21T00:00:00",
          "2018-08-22T00:00:00",
          "2018-08-23T00:00:00",
          "2018-08-24T00:00:00",
          "2018-08-25T00:00:00",
          "2018-08-26T00:00:00",
          "2018-08-27T00:00:00",
          "2018-08-28T00:00:00",
          "2018-08-29T00:00:00",
          "2018-08-30T00:00:00",
          "2018-08-31T00:00:00",
          "2018-09-01T00:00:00",
          "2018-09-02T00:00:00",
          "2018-09-03T00:00:00",
          "2018-09-04T00:00:00",
          "2018-09-05T00:00:00",
          "2018-09-06T00:00:00",
          "2018-09-07T00:00:00",
          "2018-09-08T00:00:00",
          "2018-09-09T00:00:00",
          "2018-09-10T00:00:00",
          "2018-09-11T00:00:00",
          "2018-09-12T00:00:00",
          "2018-09-13T00:00:00",
          "2018-09-14T00:00:00",
          "2018-09-15T00:00:00",
          "2018-09-16T00:00:00",
          "2018-09-17T00:00:00",
          "2018-09-18T00:00:00",
          "2018-09-19T00:00:00",
          "2018-09-20T00:00:00",
          "2018-09-21T00:00:00",
          "2018-09-22T00:00:00",
          "2018-09-23T00:00:00",
          "2018-09-24T00:00:00",
          "2018-09-25T00:00:00",
          "2018-09-26T00:00:00",
          "2018-09-27T00:00:00",
          "2018-09-28T00:00:00",
          "2018-09-29T00:00:00",
          "2018-09-30T00:00:00",
          "2018-10-01T00:00:00",
          "2018-10-02T00:00:00",
          "2018-10-03T00:00:00",
          "2018-10-04T00:00:00",
          "2018-10-05T00:00:00",
          "2018-10-06T00:00:00",
          "2018-10-07T00:00:00",
          "2018-10-08T00:00:00",
          "2018-10-09T00:00:00",
          "2018-10-10T00:00:00",
          "2018-10-11T00:00:00",
          "2018-10-12T00:00:00",
          "2018-10-13T00:00:00",
          "2018-10-14T00:00:00",
          "2018-10-15T00:00:00",
          "2018-10-16T00:00:00",
          "2018-10-17T00:00:00",
          "2018-10-18T00:00:00",
          "2018-10-19T00:00:00",
          "2018-10-20T00:00:00",
          "2018-10-21T00:00:00",
          "2018-10-22T00:00:00",
          "2018-10-23T00:00:00",
          "2018-10-24T00:00:00",
          "2018-10-25T00:00:00",
          "2018-10-26T00:00:00",
          "2018-10-27T00:00:00",
          "2018-10-28T00:00:00",
          "2018-10-29T00:00:00",
          "2018-10-30T00:00:00",
          "2018-10-31T00:00:00",
          "2018-11-01T00:00:00",
          "2018-11-02T00:00:00",
          "2018-11-03T00:00:00",
          "2018-11-04T00:00:00",
          "2018-11-05T00:00:00",
          "2018-11-06T00:00:00",
          "2018-11-07T00:00:00",
          "2018-11-08T00:00:00",
          "2018-11-09T00:00:00",
          "2018-11-10T00:00:00",
          "2018-11-11T00:00:00",
          "2018-11-12T00:00:00",
          "2018-11-13T00:00:00",
          "2018-11-14T00:00:00",
          "2018-11-15T00:00:00",
          "2018-11-16T00:00:00",
          "2018-11-17T00:00:00",
          "2018-11-18T00:00:00",
          "2018-11-19T00:00:00",
          "2018-11-20T00:00:00",
          "2018-11-21T00:00:00",
          "2018-11-22T00:00:00",
          "2018-11-23T00:00:00",
          "2018-11-24T00:00:00",
          "2018-11-25T00:00:00",
          "2018-11-26T00:00:00",
          "2018-11-27T00:00:00",
          "2018-11-28T00:00:00",
          "2018-11-29T00:00:00",
          "2018-11-30T00:00:00",
          "2018-12-01T00:00:00",
          "2018-12-02T00:00:00",
          "2018-12-03T00:00:00",
          "2018-12-04T00:00:00",
          "2018-12-05T00:00:00",
          "2018-12-06T00:00:00",
          "2018-12-07T00:00:00",
          "2018-12-08T00:00:00",
          "2018-12-09T00:00:00",
          "2018-12-10T00:00:00",
          "2018-12-11T00:00:00",
          "2018-12-12T00:00:00",
          "2018-12-13T00:00:00",
          "2018-12-14T00:00:00",
          "2018-12-15T00:00:00",
          "2018-12-16T00:00:00",
          "2018-12-17T00:00:00",
          "2018-12-18T00:00:00",
          "2018-12-19T00:00:00",
          "2018-12-20T00:00:00",
          "2018-12-21T00:00:00",
          "2018-12-22T00:00:00",
          "2018-12-23T00:00:00",
          "2018-12-24T00:00:00",
          "2018-12-25T00:00:00",
          "2018-12-26T00:00:00",
          "2018-12-27T00:00:00",
          "2018-12-28T00:00:00",
          "2018-12-29T00:00:00",
          "2018-12-30T00:00:00",
          "2018-12-31T00:00:00",
          "2019-01-01T00:00:00",
          "2019-01-02T00:00:00",
          "2019-01-03T00:00:00",
          "2019-01-04T00:00:00",
          "2019-01-05T00:00:00",
          "2019-01-06T00:00:00",
          "2019-01-07T00:00:00",
          "2019-01-08T00:00:00",
          "2019-01-09T00:00:00",
          "2019-01-10T00:00:00",
          "2019-01-11T00:00:00",
          "2019-01-12T00:00:00",
          "2019-01-13T00:00:00",
          "2019-01-14T00:00:00",
          "2019-01-15T00:00:00",
          "2019-01-16T00:00:00",
          "2019-01-17T00:00:00",
          "2019-01-18T00:00:00",
          "2019-01-19T00:00:00",
          "2019-01-20T00:00:00",
          "2019-01-21T00:00:00",
          "2019-01-22T00:00:00",
          "2019-01-23T00:00:00",
          "2019-01-24T00:00:00",
          "2019-01-25T00:00:00",
          "2019-01-26T00:00:00",
          "2019-01-27T00:00:00",
          "2019-01-28T00:00:00",
          "2019-01-29T00:00:00",
          "2019-01-30T00:00:00",
          "2019-01-31T00:00:00",
          "2019-02-01T00:00:00",
          "2019-02-02T00:00:00",
          "2019-02-03T00:00:00",
          "2019-02-04T00:00:00",
          "2019-02-05T00:00:00",
          "2019-02-06T00:00:00",
          "2019-02-07T00:00:00",
          "2019-02-08T00:00:00",
          "2019-02-09T00:00:00",
          "2019-02-10T00:00:00",
          "2019-02-11T00:00:00",
          "2019-02-12T00:00:00",
          "2019-02-13T00:00:00",
          "2019-02-14T00:00:00",
          "2019-02-15T00:00:00",
          "2019-02-16T00:00:00",
          "2019-02-17T00:00:00",
          "2019-02-18T00:00:00",
          "2019-02-19T00:00:00",
          "2019-02-20T00:00:00",
          "2019-02-21T00:00:00",
          "2019-02-22T00:00:00",
          "2019-02-23T00:00:00",
          "2019-02-24T00:00:00",
          "2019-02-25T00:00:00",
          "2019-02-26T00:00:00",
          "2019-02-27T00:00:00",
          "2019-02-28T00:00:00",
          "2019-03-01T00:00:00",
          "2019-03-02T00:00:00",
          "2019-03-03T00:00:00",
          "2019-03-04T00:00:00",
          "2019-03-05T00:00:00",
          "2019-03-06T00:00:00",
          "2019-03-07T00:00:00",
          "2019-03-08T00:00:00",
          "2019-03-09T00:00:00",
          "2019-03-10T00:00:00",
          "2019-03-11T00:00:00",
          "2019-03-12T00:00:00",
          "2019-03-13T00:00:00",
          "2019-03-14T00:00:00",
          "2019-03-15T00:00:00",
          "2019-03-16T00:00:00",
          "2019-03-17T00:00:00",
          "2019-03-18T00:00:00",
          "2019-03-19T00:00:00",
          "2019-03-20T00:00:00",
          "2019-03-21T00:00:00",
          "2019-03-22T00:00:00",
          "2019-03-23T00:00:00",
          "2019-03-24T00:00:00",
          "2019-03-25T00:00:00",
          "2019-03-26T00:00:00",
          "2019-03-27T00:00:00",
          "2019-03-28T00:00:00",
          "2019-03-29T00:00:00",
          "2019-03-30T00:00:00",
          "2019-03-31T00:00:00",
          "2019-04-01T00:00:00",
          "2019-04-02T00:00:00",
          "2019-04-03T00:00:00",
          "2019-04-04T00:00:00",
          "2019-04-05T00:00:00",
          "2019-04-06T00:00:00",
          "2019-04-07T00:00:00",
          "2019-04-08T00:00:00",
          "2019-04-09T00:00:00",
          "2019-04-10T00:00:00",
          "2019-04-11T00:00:00",
          "2019-04-12T00:00:00",
          "2019-04-13T00:00:00",
          "2019-04-14T00:00:00",
          "2019-04-15T00:00:00",
          "2019-04-16T00:00:00",
          "2019-04-17T00:00:00",
          "2019-04-18T00:00:00",
          "2019-04-19T00:00:00",
          "2019-04-20T00:00:00",
          "2019-04-21T00:00:00",
          "2019-04-22T00:00:00",
          "2019-04-23T00:00:00",
          "2019-04-24T00:00:00",
          "2019-04-25T00:00:00",
          "2019-04-26T00:00:00",
          "2019-04-27T00:00:00",
          "2019-04-28T00:00:00",
          "2019-04-29T00:00:00",
          "2019-04-30T00:00:00",
          "2019-05-01T00:00:00",
          "2019-05-02T00:00:00",
          "2019-05-03T00:00:00",
          "2019-05-04T00:00:00",
          "2019-05-05T00:00:00",
          "2019-05-06T00:00:00",
          "2019-05-07T00:00:00",
          "2019-05-08T00:00:00",
          "2019-05-09T00:00:00",
          "2019-05-10T00:00:00",
          "2019-05-11T00:00:00",
          "2019-05-12T00:00:00",
          "2019-05-13T00:00:00",
          "2019-05-14T00:00:00",
          "2019-05-15T00:00:00",
          "2019-05-16T00:00:00",
          "2019-05-17T00:00:00",
          "2019-05-18T00:00:00",
          "2019-05-19T00:00:00",
          "2019-05-20T00:00:00",
          "2019-05-21T00:00:00",
          "2019-05-22T00:00:00",
          "2019-05-23T00:00:00",
          "2019-05-24T00:00:00",
          "2019-05-25T00:00:00",
          "2019-05-26T00:00:00",
          "2019-05-27T00:00:00",
          "2019-05-28T00:00:00",
          "2019-05-29T00:00:00",
          "2019-05-30T00:00:00",
          "2019-05-31T00:00:00",
          "2019-06-01T00:00:00",
          "2019-06-02T00:00:00",
          "2019-06-03T00:00:00",
          "2019-06-04T00:00:00",
          "2019-06-05T00:00:00",
          "2019-06-06T00:00:00",
          "2019-06-07T00:00:00",
          "2019-06-08T00:00:00",
          "2019-06-09T00:00:00",
          "2019-06-10T00:00:00",
          "2019-06-11T00:00:00",
          "2019-06-12T00:00:00",
          "2019-06-13T00:00:00",
          "2019-06-14T00:00:00",
          "2019-06-15T00:00:00",
          "2019-06-16T00:00:00",
          "2019-06-17T00:00:00",
          "2019-06-18T00:00:00",
          "2019-06-19T00:00:00",
          "2019-06-20T00:00:00",
          "2019-06-21T00:00:00",
          "2019-06-22T00:00:00",
          "2019-06-23T00:00:00",
          "2019-06-24T00:00:00",
          "2019-06-25T00:00:00",
          "2019-06-26T00:00:00",
          "2019-06-27T00:00:00",
          "2019-06-28T00:00:00",
          "2019-06-29T00:00:00",
          "2019-06-30T00:00:00",
          "2019-07-01T00:00:00",
          "2019-07-02T00:00:00",
          "2019-07-03T00:00:00",
          "2019-07-04T00:00:00",
          "2019-07-05T00:00:00",
          "2019-07-06T00:00:00",
          "2019-07-07T00:00:00",
          "2019-07-08T00:00:00",
          "2019-07-09T00:00:00",
          "2019-07-10T00:00:00",
          "2019-07-11T00:00:00",
          "2019-07-12T00:00:00",
          "2019-07-13T00:00:00",
          "2019-07-14T00:00:00",
          "2019-07-15T00:00:00",
          "2019-07-16T00:00:00",
          "2019-07-17T00:00:00",
          "2019-07-18T00:00:00",
          "2019-07-19T00:00:00",
          "2019-07-20T00:00:00",
          "2019-07-21T00:00:00",
          "2019-07-22T00:00:00",
          "2019-07-23T00:00:00",
          "2019-07-24T00:00:00",
          "2019-07-25T00:00:00",
          "2019-07-26T00:00:00",
          "2019-07-27T00:00:00",
          "2019-07-28T00:00:00",
          "2019-07-29T00:00:00",
          "2019-07-30T00:00:00",
          "2019-07-31T00:00:00",
          "2019-08-01T00:00:00",
          "2019-08-02T00:00:00",
          "2019-08-03T00:00:00",
          "2019-08-04T00:00:00",
          "2019-08-05T00:00:00",
          "2019-08-06T00:00:00",
          "2019-08-07T00:00:00",
          "2019-08-08T00:00:00",
          "2019-08-09T00:00:00",
          "2019-08-10T00:00:00",
          "2019-08-11T00:00:00",
          "2019-08-12T00:00:00"
         ],
         "y": [
          2388.579875026918,
          2427.9684659991785,
          2517.2731295474427,
          2525.030481533539,
          2599.7507156856054,
          2836.1879163584626,
          2815.6476570550403,
          2753.8529005284636,
          2822.3318758242367,
          2853.5689328689464,
          2908.2093826491728,
          2803.203162824941,
          2718.334304215492,
          2652.0777526337656,
          2357.256514680669,
          2449.5949416274575,
          2553.747971336364,
          2566.839244171188,
          2560.43983143381,
          2660.8161131263037,
          2709.262774126953,
          2680.307472814914,
          2717.6386948621202,
          2658.221192824159,
          2557.5211356091204,
          2464.2695354434463,
          2407.6134393550237,
          2533.2306812591446,
          2558.798318079778,
          2522.5362395351317,
          2461.1679175303457,
          2444.459859527675,
          2527.2491374584724,
          2596.4382602645146,
          2568.016397467303,
          2592.8878899230735,
          2543.9857787819433,
          2517.9476256752623,
          2539.3768544952195,
          2456.2747428352313,
          2338.340822194898,
          2342.1312022202787,
          2371.940693979107,
          2278.72802977935,
          2073.5628102633023,
          1939.5702884106022,
          2055.7844549045594,
          2279.520712782407,
          2311.446082644817,
          2492.357701698901,
          2718.396316200771,
          2777.623212342187,
          2767.513065632965,
          2754.251979292954,
          2624.9705053968405,
          2499.9815658142197,
          2572.4301519580504,
          2735.4348812619833,
          2717.617881295624,
          2677.523874383181,
          2760.3648575947736,
          2767.4017847791915,
          2714.600308113173,
          2745.4180116384523,
          2824.5567808960022,
          3152.1593292312155,
          3234.5939754224105,
          3304.623349775857,
          3415.613025723062,
          3343.202894759201,
          3391.60627431759,
          3505.5231514121256,
          3757.5869282825706,
          4023.023294753051,
          4169.278787363013,
          4166.681448916113,
          4160.070547056282,
          4348.2649799398605,
          4233.519978463672,
          4060.506371688498,
          4068.312584500995,
          4021.8486833205106,
          3923.7797744639283,
          4138.9410379720175,
          4178.964682674675,
          4354.8466694444605,
          4313.760092584753,
          4339.887384781217,
          4301.370170864653,
          4462.131202676006,
          4570.986819022317,
          4665.125734428626,
          4804.9560229816725,
          4682.358487406368,
          4574.432837462143,
          4365.153105590177,
          4253.429488814755,
          4527.267692532989,
          4578.231760213517,
          4481.36444486341,
          4288.6184819323435,
          4181.365955245373,
          4208.536624161478,
          4253.4732015273785,
          3931.875251850797,
          3622.01227613208,
          3408.9955307468667,
          3695.034440468479,
          3631.6292829969984,
          3943.0140681192147,
          3965.1630083214022,
          3936.9847713393533,
          3790.0314953461375,
          3624.2754147714836,
          3713.7802663025154,
          3694.724356950307,
          3823.581782051079,
          3916.490113846318,
          4031.8800120503074,
          4186.127557984337,
          4146.1524338919935,
          4266.653151633268,
          4294.191137692327,
          4392.689783427268,
          4307.036473870801,
          4251.624157385725,
          4255.969290892179,
          4362.285542434008,
          4351.766194373002,
          4492.445518670854,
          4641.586757859631,
          4810.964829462019,
          4788.16830930058,
          5113.9988639305,
          5618.698192864294,
          5671.165188057461,
          5615.7780484407385,
          5668.7067663488,
          5628.350901328305,
          5399.987910540806,
          5660.104544640417,
          5787.817870493002,
          6069.485534638142,
          5911.870777254555,
          5870.084034181252,
          5662.357393130186,
          5548.637295299297,
          5828.039592510038,
          5821.26110229157,
          5751.281359885549,
          5880.988306594645,
          6117.301185471419,
          6237.256033302716,
          6496.283271467,
          6953.447821286792,
          7237.280695951408,
          7256.4526912001875,
          7456.506282456426,
          7231.763107407978,
          7096.779894573889,
          7388.126583247378,
          7245.375867211653,
          6959.2629550046995,
          6559.140109188551,
          6110.301088582153,
          6347.096640276897,
          6593.79128198939,
          7040.667457799413,
          7453.795907976661,
          7822.915901927729,
          7694.321401686762,
          7823.264398731986,
          8088.767968120852,
          8153.317809825473,
          8190.625125105522,
          8169.710291088275,
          8165.570673970841,
          8425.346969160328,
          8977.075194014049,
          9560.699031987531,
          9823.511356503479,
          10401.855882992206,
          9888.439198611464,
          10201.016837224217,
          10946.077214827099,
          11298.898196288861,
          11340.006387503654,
          11645.740126856103,
          12573.30138642704,
          14765.59582349784,
          15436.869811658096,
          14810.959005975395,
          14125.449165541724,
          16191.061360481477,
          16721.880371703217,
          16548.102574347813,
          16321.984622243297,
          17371.207942450794,
          18183.892171615647,
          19198.052540253873,
          18726.44952749519,
          18327.857924666634,
          16829.325520586466,
          16212.882202172614,
          13745.19626153647,
          14762.518778666714,
          13656.605814690553,
          13966.465464005307,
          15250.631439961218,
          15578.790892066116,
          14251.978830251372,
          14542.9919404017,
          13212.907356386828,
          13336.410641043156,
          13413.135653552159,
          13870.54325970443,
          14972.25107991147,
          14819.971463123731,
          15775.43025854663,
          16668.209201147223,
          16509.2976338817,
          15308.103830968872,
          14862.409662438748,
          14193.671775732371,
          13708.192035411064,
          13667.544001859975,
          14227.27540953617,
          13692.42379440366,
          13831.064862786983,
          12158.329737876424,
          10679.413685353284,
          11497.8401897297,
          11521.551976873094,
          12469.476816535212,
          11884.298083473603,
          11134.722996853474,
          10722.82279042149,
          11017.444309189503,
          11284.658094563041,
          11025.590039321549,
          11233.831171763315,
          11658.2831800494,
          11284.155099287165,
          10634.5518299176,
          9985.21303109883,
          9503.137920333884,
          8555.571022577102,
          8918.652718697549,
          8720.731917698728,
          7613.357319058523,
          6835.250590665179,
          7916.4227313594465,
          8213.99023569132,
          8257.954342718343,
          8658.663492937374,
          8182.941388618236,
          8622.827941962221,
          8607.047605631098,
          9015.94872421616,
          9804.812803115097,
          10032.05927683427,
          10675.555116754307,
          10727.44976187261,
          10870.09027315917,
          11484.090398904804,
          10787.253898420031,
          10271.930847607025,
          10009.572874038047,
          9921.702075342719,
          9597.969866447596,
          9910.781644422184,
          10551.084976422584,
          10628.504487262764,
          10648.173477607948,
          10983.927273525116,
          11330.099785205703,
          11245.180815845708,
          11514.327297652942,
          11026.46644675543,
          10392.941910627891,
          9710.346149344035,
          8907.177545229804,
          9241.660429625686,
          9065.597061183676,
          9438.331000266371,
          9150.005524932201,
          8771.4214557844,
          8107.943345443022,
          8316.36684162075,
          8075.447778990482,
          7674.4894981759535,
          8350.691476379186,
          8624.244468620112,
          8982.241984275608,
          8796.119915854159,
          8527.020808878759,
          8864.883934618647,
          8527.779441496103,
          8207.455101486608,
          7960.166496592872,
          7917.944196184737,
          7524.864656753012,
          6888.6579280726555,
          7009.503404720789,
          6799.282042740652,
          6978.40792307537,
          7329.239994146742,
          7078.177931598886,
          6757.948724415294,
          6648.184983253715,
          6893.843376126852,
          6982.530141102855,
          6895.544079682092,
          6770.222355461926,
          6879.289976711666,
          7339.149089088701,
          7989.141996432903,
          8012.004232638982,
          8211.811688154177,
          8077.218788716056,
          8041.902761107214,
          8060.00925946473,
          8209.958060980509,
          8440.981833588852,
          8803.454200452989,
          8883.650882090516,
          8897.47554174651,
          9314.626351817591,
          9217.28766862342,
          8886.601245115793,
          9228.635673789164,
          9228.836829641514,
          9351.316329714895,
          9287.82589400281,
          8984.662200602163,
          9119.531214623603,
          9378.413413684439,
          9658.743558042868,
          9831.29581333134,
          9622.87895338868,
          9336.75605021737,
          9258.555372339571,
          9186.464551989597,
          9252.624044592803,
          8690.821474489898,
          8418.775460460372,
          8547.051292112083,
          8588.814774641643,
          8642.816049048723,
          8281.541513782111,
          8271.908490868029,
          8100.480455852627,
          8257.334534537387,
          8370.237306862742,
          8449.860266125288,
          8232.905048870885,
          7784.646024824595,
          7535.274208072432,
          7493.417100832233,
          7499.147834543186,
          7323.030615081221,
          7262.332702492214,
          7296.884117829091,
          7425.349503603963,
          7497.9972135412645,
          7479.947903211972,
          7597.242334763985,
          7696.225154564304,
          7572.801975719298,
          7503.242457335357,
          7605.9439196896,
          7694.38175611741,
          7637.867801745429,
          7634.122175258751,
          7130.518701570195,
          6759.777325672938,
          6754.010007057156,
          6434.30410008779,
          6501.358582469683,
          6549.002444132028,
          6461.787661649038,
          6510.29914591979,
          6529.356700108128,
          6724.676617009279,
          6682.958971719275,
          6733.271572205092,
          6357.43915006895,
          6138.968542695796,
          6022.359808726021,
          6201.692743527929,
          6196.017704859531,
          6099.921813574718,
          6082.67179335497,
          5907.316313219864,
          6366.453458717366,
          6351.812029308197,
          6455.037847866724,
          6600.723805125049,
          6564.798042628822,
          6577.515454379465,
          6542.915835881583,
          6584.846375500824,
          6737.618298992107,
          6706.558584380368,
          6476.948213424428,
          6355.794657709444,
          6218.907739830067,
          6236.3083853995,
          6240.415803066214,
          6323.136891380141,
          6521.641926867632,
          6869.604903161079,
          7409.272251444031,
          7394.856231043726,
          7418.693631156968,
          7349.545982388114,
          7453.955545487645,
          7673.534974926324,
          8066.990839367659,
          8240.090994749531,
          8197.062077416556,
          8015.75018803299,
          8171.070109336217,
          8196.25218934701,
          8137.401192689654,
          7922.6720300645065,
          7569.805207158245,
          7594.431973621364,
          7396.859288562539,
          7245.017244239369,
          7001.96900024807,
          6989.670163835144,
          6993.47077908751,
          6444.214273621912,
          6397.656734907616,
          6389.040317890655,
          6188.722230520981,
          6303.60004623978,
          6349.869859870177,
          6061.894414317892,
          6375.35042886717,
          6346.037240762881,
          6468.810814894148,
          6444.485109735266,
          6397.814756184111,
          6444.2214664413395,
          6397.665181642328,
          6581.466009929816,
          6432.758349146019,
          6558.073186308505,
          6712.472289703769,
          6669.957876511778,
          6713.548001668823,
          6994.494673167058,
          7048.5594423870725,
          6928.080209289305,
          6972.504358652031,
          7105.029624422261,
          7242.174045326667,
          7259.255542658507,
          7323.205328052773,
          7126.685763293415,
          6417.410969901397,
          6442.565810843332,
          6365.230716367017,
          6288.878670602897,
          6287.134921908012,
          6284.481503264109,
          6259.5010866889925,
          6445.214549616689,
          6496.404562146539,
          6517.056502414544,
          6487.964068352319,
          6401.753182010213,
          6302.927706945644,
          6338.760179717137,
          6413.577934718445,
          6661.652772271147,
          6708.3091443630465,
          6701.3393726091945,
          6628.513195861471,
          6412.782741937837,
          6463.8049132280585,
          6518.342339272284,
          6664.8983329653165,
          6539.426011209876,
          6570.823717766029,
          6578.148444817976,
          6545.887459945879,
          6446.535068502914,
          6552.9111929432465,
          6540.225933523557,
          6560.820128646875,
          6536.789988648338,
          6593.580331132751,
          6584.636997881777,
          6515.1837933828965,
          6213.45462414068,
          6204.462834076948,
          6199.33632430319,
          6227.574779512279,
          6367.025889601203,
          6436.064384473945,
          6433.032185725059,
          6427.69878336822,
          6389.1699551257725,
          6390.363297700282,
          6436.197593273851,
          6409.563603135302,
          6399.807341488838,
          6424.260586152408,
          6394.43327902804,
          6400.6333584982485,
          6403.730279587282,
          6402.156788155328,
          6334.836203108987,
          6266.0695810015695,
          6275.224097710675,
          6312.487078261362,
          6351.433460887222,
          6333.056017066233,
          6365.304937976729,
          6406.655448521287,
          6410.592072793505,
          6508.297844589206,
          6444.637087574999,
          6360.271702289567,
          6359.541610035244,
          6337.12385584588,
          6348.354437908521,
          6285.862343264475,
          6024.737379640903,
          5498.229001341467,
          5527.956199527701,
          5480.505915986735,
          5537.7962488390385,
          5203.282485532735,
          4529.7782641100985,
          4444.9319848898795,
          4465.309618795831,
          4249.876698909635,
          4203.4884032307455,
          3752.7257517902503,
          3848.240240776619,
          3701.9972502775126,
          4054.925999468132,
          4224.326667294381,
          4070.3447744503483,
          4075.7622910031355,
          4121.466764092921,
          3925.2574777004843,
          3903.121354957992,
          3801.8540060651994,
          3694.1089080555785,
          3360.143986786924,
          3385.42018062149,
          3469.126436557288,
          3468.0022707457933,
          3367.883253183701,
          3399.993329853063,
          3361.8130366311507,
          3231.7675220552474,
          3176.3758031916504,
          3216.489042443513,
          3334.8259490528703,
          3509.9964639061395,
          3747.437413785703,
          3923.3145898174216,
          3977.3141693706807,
          3848.116333414556,
          3980.1059520687772,
          4127.863575401293,
          3771.0736101571124,
          3779.2780523984998,
          3718.9807100177045,
          3699.6899630542,
          3875.434211378144,
          3786.6062766304153,
          3758.507535343961,
          3700.1589989286103,
          3825.0759666177405,
          3831.8687308912663,
          3785.246155880033,
          3837.4376423852254,
          3873.290028871832,
          4022.3182921830708,
          4009.5871022215138,
          4010.018086853795,
          3798.5046643541955,
          3640.7372112395437,
          3626.0908042811716,
          3576.7479641695604,
          3578.6722979920546,
          3636.80705946271,
          3603.5334259089473,
          3601.7209411968206,
          3613.499500073069,
          3672.5975044411116,
          3607.5837514812692,
          3533.4848977298557,
          3551.267713466976,
          3569.143179492548,
          3556.5565768670344,
          3557.524358547162,
          3569.362232966812,
          3544.43106406523,
          3441.1116648925895,
          3397.2663500343424,
          3422.361174272552,
          3425.123067801499,
          3412.94868166132,
          3431.153380682849,
          3421.9793724599476,
          3412.8726668589757,
          3422.164650575279,
          3370.848962527628,
          3365.581928733953,
          3450.622008574299,
          3613.3759331572596,
          3608.8307972556368,
          3594.4154488075237,
          3577.992386247971,
          3582.2018232161768,
          3567.5110678464944,
          3571.6796272307574,
          3588.6368131401996,
          3587.481230756235,
          3757.2775251751973,
          3897.3109790495496,
          3907.4489798319532,
          3910.567461139906,
          3921.757879929301,
          3978.254051767013,
          3989.3840558385796,
          3792.3604892734525,
          3802.7563801480114,
          3796.099311362144,
          3809.2863998334024,
          3813.80306767851,
          3805.137531010286,
          3803.5651858349693,
          3729.803415668661,
          3763.3055329112026,
          3836.4946164028142,
          3857.412632928716,
          3872.9873809873848,
          3887.7625566329825,
          3893.264071687519,
          3862.8506434451606,
          3845.419450987623,
          3852.173075987897,
          3849.2356742388333,
          3878.904600831057,
          3979.084082726618,
          3964.501282410706,
          3969.4359861222915,
          3978.079449228341,
          3996.656188259612,
          4001.8988244123366,
          3984.3058029204763,
          3977.4562552172124,
          3973.2621310775166,
          3952.599809798565,
          3907.8582767771054,
          3990.158380121245,
          4007.726234447975,
          4054.662454516085,
          4084.117204650687,
          4087.1825682086474,
          4127.472849536052,
          4644.526551454629,
          5034.429685068629,
          4972.629944170042,
          4976.09159059773,
          5041.556662280325,
          5125.593964910049,
          5238.403657959582,
          5225.986450503464,
          5278.337127580446,
          5129.744769142833,
          5046.722705599623,
          5082.642339897603,
          5079.002829999359,
          5122.324701796388,
          5101.198097338881,
          5217.858365363853,
          5268.420653281125,
          5257.871743040143,
          5312.952363408463,
          5287.792472776502,
          5315.669943298087,
          5524.147530833382,
          5488.730642258575,
          5428.504302249109,
          5148.827548718546,
          5164.282742601478,
          5167.245228335306,
          5155.166913719158,
          5197.911831867727,
          5303.530555931072,
          5361.693713956711,
          5617.898712047735,
          5693.370196511453,
          5724.252005862474,
          5653.577273568698,
          5860.272253191232,
          5843.431195986868,
          6049.985820683191,
          6284.693176491132,
          6809.836589652242,
          7146.356662904828,
          7411.891923990788,
          7991.345516850542,
          8052.6918166056785,
          7997.282708680078,
          7260.913831818574,
          7321.203803979215,
          7936.027465871303,
          7903.518562382391,
          7949.423804827691,
          7884.617619872401,
          7706.522932964075,
          7982.693958822212,
          8042.122738100573,
          8124.238502729698,
          8780.865949969679,
          8727.446554243415,
          8651.423494606908,
          8630.369351318359,
          8347.266829511442,
          8539.267873296127,
          8671.632865071273,
          8535.774466575853,
          7854.008039873766,
          7777.741569114814,
          7747.5444767322615,
          7932.169400817339,
          7932.582029800513,
          7797.117053089315,
          7818.404959499802,
          7896.1862660215675,
          8030.113864961869,
          8167.772259218201,
          8357.630161613926,
          8734.370279825303,
          9088.182798893562,
          9240.188639823475,
          9149.011119369721,
          9141.752090127358,
          9351.190913460865,
          9805.21859790916,
          10709.96439424137,
          10755.204157622937,
          10848.221944076702,
          11319.35357708263,
          12637.185919081834,
          11806.175945810355,
          11682.922281145356,
          11846.503206750576,
          11545.799238258365,
          10688.699035959778,
          10308.510706661757,
          11338.425411637678,
          11759.408419183635,
          11138.59051734004,
          11422.273073500746,
          11299.619431245696,
          11785.484753686773,
          12519.053579098761,
          12661.438396504569,
          11582.82703564485,
          11591.975837374794,
          11430.476968674391,
          10861.767606566113,
          10422.912662258886,
          10347.469569231816,
          9576.780021542838,
          10053.444972032887,
          10475.5784795546,
          10671.009619079965,
          10572.675382923091,
          10454.86941738426,
          10081.484999730443,
          9690.421508630723,
          10018.049694573398,
          9771.47548157671,
          9745.606113901416,
          9494.2377504079,
          9538.487976844137,
          9537.129674814856,
          9857.169553511865,
          10081.64081663918,
          10479.108743740982,
          10792.836587081645,
          10816.913782693673,
          11676.433777501157,
          11746.329999977426,
          11720.745013322716,
          11802.077861789769,
          11807.553140900867,
          11572.162608995552,
          11376.378020657192,
          11508.034335467182
         ]
        }
       ],
       "layout": {
        "height": 400,
        "template": {
         "data": {
          "bar": [
           {
            "error_x": {
             "color": "#2a3f5f"
            },
            "error_y": {
             "color": "#2a3f5f"
            },
            "marker": {
             "line": {
              "color": "#E5ECF6",
              "width": 0.5
             }
            },
            "type": "bar"
           }
          ],
          "barpolar": [
           {
            "marker": {
             "line": {
              "color": "#E5ECF6",
              "width": 0.5
             }
            },
            "type": "barpolar"
           }
          ],
          "carpet": [
           {
            "aaxis": {
             "endlinecolor": "#2a3f5f",
             "gridcolor": "white",
             "linecolor": "white",
             "minorgridcolor": "white",
             "startlinecolor": "#2a3f5f"
            },
            "baxis": {
             "endlinecolor": "#2a3f5f",
             "gridcolor": "white",
             "linecolor": "white",
             "minorgridcolor": "white",
             "startlinecolor": "#2a3f5f"
            },
            "type": "carpet"
           }
          ],
          "choropleth": [
           {
            "colorbar": {
             "outlinewidth": 0,
             "ticks": ""
            },
            "type": "choropleth"
           }
          ],
          "contour": [
           {
            "colorbar": {
             "outlinewidth": 0,
             "ticks": ""
            },
            "colorscale": [
             [
              0,
              "#0d0887"
             ],
             [
              0.1111111111111111,
              "#46039f"
             ],
             [
              0.2222222222222222,
              "#7201a8"
             ],
             [
              0.3333333333333333,
              "#9c179e"
             ],
             [
              0.4444444444444444,
              "#bd3786"
             ],
             [
              0.5555555555555556,
              "#d8576b"
             ],
             [
              0.6666666666666666,
              "#ed7953"
             ],
             [
              0.7777777777777778,
              "#fb9f3a"
             ],
             [
              0.8888888888888888,
              "#fdca26"
             ],
             [
              1,
              "#f0f921"
             ]
            ],
            "type": "contour"
           }
          ],
          "contourcarpet": [
           {
            "colorbar": {
             "outlinewidth": 0,
             "ticks": ""
            },
            "type": "contourcarpet"
           }
          ],
          "heatmap": [
           {
            "colorbar": {
             "outlinewidth": 0,
             "ticks": ""
            },
            "colorscale": [
             [
              0,
              "#0d0887"
             ],
             [
              0.1111111111111111,
              "#46039f"
             ],
             [
              0.2222222222222222,
              "#7201a8"
             ],
             [
              0.3333333333333333,
              "#9c179e"
             ],
             [
              0.4444444444444444,
              "#bd3786"
             ],
             [
              0.5555555555555556,
              "#d8576b"
             ],
             [
              0.6666666666666666,
              "#ed7953"
             ],
             [
              0.7777777777777778,
              "#fb9f3a"
             ],
             [
              0.8888888888888888,
              "#fdca26"
             ],
             [
              1,
              "#f0f921"
             ]
            ],
            "type": "heatmap"
           }
          ],
          "heatmapgl": [
           {
            "colorbar": {
             "outlinewidth": 0,
             "ticks": ""
            },
            "colorscale": [
             [
              0,
              "#0d0887"
             ],
             [
              0.1111111111111111,
              "#46039f"
             ],
             [
              0.2222222222222222,
              "#7201a8"
             ],
             [
              0.3333333333333333,
              "#9c179e"
             ],
             [
              0.4444444444444444,
              "#bd3786"
             ],
             [
              0.5555555555555556,
              "#d8576b"
             ],
             [
              0.6666666666666666,
              "#ed7953"
             ],
             [
              0.7777777777777778,
              "#fb9f3a"
             ],
             [
              0.8888888888888888,
              "#fdca26"
             ],
             [
              1,
              "#f0f921"
             ]
            ],
            "type": "heatmapgl"
           }
          ],
          "histogram": [
           {
            "marker": {
             "colorbar": {
              "outlinewidth": 0,
              "ticks": ""
             }
            },
            "type": "histogram"
           }
          ],
          "histogram2d": [
           {
            "colorbar": {
             "outlinewidth": 0,
             "ticks": ""
            },
            "colorscale": [
             [
              0,
              "#0d0887"
             ],
             [
              0.1111111111111111,
              "#46039f"
             ],
             [
              0.2222222222222222,
              "#7201a8"
             ],
             [
              0.3333333333333333,
              "#9c179e"
             ],
             [
              0.4444444444444444,
              "#bd3786"
             ],
             [
              0.5555555555555556,
              "#d8576b"
             ],
             [
              0.6666666666666666,
              "#ed7953"
             ],
             [
              0.7777777777777778,
              "#fb9f3a"
             ],
             [
              0.8888888888888888,
              "#fdca26"
             ],
             [
              1,
              "#f0f921"
             ]
            ],
            "type": "histogram2d"
           }
          ],
          "histogram2dcontour": [
           {
            "colorbar": {
             "outlinewidth": 0,
             "ticks": ""
            },
            "colorscale": [
             [
              0,
              "#0d0887"
             ],
             [
              0.1111111111111111,
              "#46039f"
             ],
             [
              0.2222222222222222,
              "#7201a8"
             ],
             [
              0.3333333333333333,
              "#9c179e"
             ],
             [
              0.4444444444444444,
              "#bd3786"
             ],
             [
              0.5555555555555556,
              "#d8576b"
             ],
             [
              0.6666666666666666,
              "#ed7953"
             ],
             [
              0.7777777777777778,
              "#fb9f3a"
             ],
             [
              0.8888888888888888,
              "#fdca26"
             ],
             [
              1,
              "#f0f921"
             ]
            ],
            "type": "histogram2dcontour"
           }
          ],
          "mesh3d": [
           {
            "colorbar": {
             "outlinewidth": 0,
             "ticks": ""
            },
            "type": "mesh3d"
           }
          ],
          "parcoords": [
           {
            "line": {
             "colorbar": {
              "outlinewidth": 0,
              "ticks": ""
             }
            },
            "type": "parcoords"
           }
          ],
          "scatter": [
           {
            "marker": {
             "colorbar": {
              "outlinewidth": 0,
              "ticks": ""
             }
            },
            "type": "scatter"
           }
          ],
          "scatter3d": [
           {
            "line": {
             "colorbar": {
              "outlinewidth": 0,
              "ticks": ""
             }
            },
            "marker": {
             "colorbar": {
              "outlinewidth": 0,
              "ticks": ""
             }
            },
            "type": "scatter3d"
           }
          ],
          "scattercarpet": [
           {
            "marker": {
             "colorbar": {
              "outlinewidth": 0,
              "ticks": ""
             }
            },
            "type": "scattercarpet"
           }
          ],
          "scattergeo": [
           {
            "marker": {
             "colorbar": {
              "outlinewidth": 0,
              "ticks": ""
             }
            },
            "type": "scattergeo"
           }
          ],
          "scattergl": [
           {
            "marker": {
             "colorbar": {
              "outlinewidth": 0,
              "ticks": ""
             }
            },
            "type": "scattergl"
           }
          ],
          "scattermapbox": [
           {
            "marker": {
             "colorbar": {
              "outlinewidth": 0,
              "ticks": ""
             }
            },
            "type": "scattermapbox"
           }
          ],
          "scatterpolar": [
           {
            "marker": {
             "colorbar": {
              "outlinewidth": 0,
              "ticks": ""
             }
            },
            "type": "scatterpolar"
           }
          ],
          "scatterpolargl": [
           {
            "marker": {
             "colorbar": {
              "outlinewidth": 0,
              "ticks": ""
             }
            },
            "type": "scatterpolargl"
           }
          ],
          "scatterternary": [
           {
            "marker": {
             "colorbar": {
              "outlinewidth": 0,
              "ticks": ""
             }
            },
            "type": "scatterternary"
           }
          ],
          "surface": [
           {
            "colorbar": {
             "outlinewidth": 0,
             "ticks": ""
            },
            "colorscale": [
             [
              0,
              "#0d0887"
             ],
             [
              0.1111111111111111,
              "#46039f"
             ],
             [
              0.2222222222222222,
              "#7201a8"
             ],
             [
              0.3333333333333333,
              "#9c179e"
             ],
             [
              0.4444444444444444,
              "#bd3786"
             ],
             [
              0.5555555555555556,
              "#d8576b"
             ],
             [
              0.6666666666666666,
              "#ed7953"
             ],
             [
              0.7777777777777778,
              "#fb9f3a"
             ],
             [
              0.8888888888888888,
              "#fdca26"
             ],
             [
              1,
              "#f0f921"
             ]
            ],
            "type": "surface"
           }
          ],
          "table": [
           {
            "cells": {
             "fill": {
              "color": "#EBF0F8"
             },
             "line": {
              "color": "white"
             }
            },
            "header": {
             "fill": {
              "color": "#C8D4E3"
             },
             "line": {
              "color": "white"
             }
            },
            "type": "table"
           }
          ]
         },
         "layout": {
          "annotationdefaults": {
           "arrowcolor": "#2a3f5f",
           "arrowhead": 0,
           "arrowwidth": 1
          },
          "colorscale": {
           "diverging": [
            [
             0,
             "#8e0152"
            ],
            [
             0.1,
             "#c51b7d"
            ],
            [
             0.2,
             "#de77ae"
            ],
            [
             0.3,
             "#f1b6da"
            ],
            [
             0.4,
             "#fde0ef"
            ],
            [
             0.5,
             "#f7f7f7"
            ],
            [
             0.6,
             "#e6f5d0"
            ],
            [
             0.7,
             "#b8e186"
            ],
            [
             0.8,
             "#7fbc41"
            ],
            [
             0.9,
             "#4d9221"
            ],
            [
             1,
             "#276419"
            ]
           ],
           "sequential": [
            [
             0,
             "#0d0887"
            ],
            [
             0.1111111111111111,
             "#46039f"
            ],
            [
             0.2222222222222222,
             "#7201a8"
            ],
            [
             0.3333333333333333,
             "#9c179e"
            ],
            [
             0.4444444444444444,
             "#bd3786"
            ],
            [
             0.5555555555555556,
             "#d8576b"
            ],
            [
             0.6666666666666666,
             "#ed7953"
            ],
            [
             0.7777777777777778,
             "#fb9f3a"
            ],
            [
             0.8888888888888888,
             "#fdca26"
            ],
            [
             1,
             "#f0f921"
            ]
           ],
           "sequentialminus": [
            [
             0,
             "#0d0887"
            ],
            [
             0.1111111111111111,
             "#46039f"
            ],
            [
             0.2222222222222222,
             "#7201a8"
            ],
            [
             0.3333333333333333,
             "#9c179e"
            ],
            [
             0.4444444444444444,
             "#bd3786"
            ],
            [
             0.5555555555555556,
             "#d8576b"
            ],
            [
             0.6666666666666666,
             "#ed7953"
            ],
            [
             0.7777777777777778,
             "#fb9f3a"
            ],
            [
             0.8888888888888888,
             "#fdca26"
            ],
            [
             1,
             "#f0f921"
            ]
           ]
          },
          "colorway": [
           "#636efa",
           "#EF553B",
           "#00cc96",
           "#ab63fa",
           "#FFA15A",
           "#19d3f3",
           "#FF6692",
           "#B6E880",
           "#FF97FF",
           "#FECB52"
          ],
          "font": {
           "color": "#2a3f5f"
          },
          "geo": {
           "bgcolor": "white",
           "lakecolor": "white",
           "landcolor": "#E5ECF6",
           "showlakes": true,
           "showland": true,
           "subunitcolor": "white"
          },
          "hoverlabel": {
           "align": "left"
          },
          "hovermode": "closest",
          "mapbox": {
           "style": "light"
          },
          "paper_bgcolor": "white",
          "plot_bgcolor": "#E5ECF6",
          "polar": {
           "angularaxis": {
            "gridcolor": "white",
            "linecolor": "white",
            "ticks": ""
           },
           "bgcolor": "#E5ECF6",
           "radialaxis": {
            "gridcolor": "white",
            "linecolor": "white",
            "ticks": ""
           }
          },
          "scene": {
           "xaxis": {
            "backgroundcolor": "#E5ECF6",
            "gridcolor": "white",
            "gridwidth": 2,
            "linecolor": "white",
            "showbackground": true,
            "ticks": "",
            "zerolinecolor": "white"
           },
           "yaxis": {
            "backgroundcolor": "#E5ECF6",
            "gridcolor": "white",
            "gridwidth": 2,
            "linecolor": "white",
            "showbackground": true,
            "ticks": "",
            "zerolinecolor": "white"
           },
           "zaxis": {
            "backgroundcolor": "#E5ECF6",
            "gridcolor": "white",
            "gridwidth": 2,
            "linecolor": "white",
            "showbackground": true,
            "ticks": "",
            "zerolinecolor": "white"
           }
          },
          "shapedefaults": {
           "line": {
            "color": "#2a3f5f"
           }
          },
          "ternary": {
           "aaxis": {
            "gridcolor": "white",
            "linecolor": "white",
            "ticks": ""
           },
           "baxis": {
            "gridcolor": "white",
            "linecolor": "white",
            "ticks": ""
           },
           "bgcolor": "#E5ECF6",
           "caxis": {
            "gridcolor": "white",
            "linecolor": "white",
            "ticks": ""
           }
          },
          "title": {
           "x": 0.05
          },
          "xaxis": {
           "automargin": true,
           "gridcolor": "white",
           "linecolor": "white",
           "ticks": "",
           "zerolinecolor": "white",
           "zerolinewidth": 2
          },
          "yaxis": {
           "automargin": true,
           "gridcolor": "white",
           "linecolor": "white",
           "ticks": "",
           "zerolinecolor": "white",
           "zerolinewidth": 2
          }
         }
        },
        "title": {
         "text": "Random walk prediction"
        },
        "width": 550,
        "xaxis": {
         "range": [
          "2017-06-01",
          "2018-12-31"
         ],
         "title": {
          "text": "timestamp"
         }
        },
        "yaxis": {
         "title": {
          "text": "Price /USD"
         }
        }
       }
      },
      "text/html": [
       "<div>\n",
       "        \n",
       "        \n",
       "            <div id=\"2d901c02-c2ec-44c2-b9b8-860a010831ba\" class=\"plotly-graph-div\" style=\"height:400px; width:550px;\"></div>\n",
       "            <script type=\"text/javascript\">\n",
       "                require([\"plotly\"], function(Plotly) {\n",
       "                    window.PLOTLYENV=window.PLOTLYENV || {};\n",
       "                    \n",
       "                if (document.getElementById(\"2d901c02-c2ec-44c2-b9b8-860a010831ba\")) {\n",
       "                    Plotly.newPlot(\n",
       "                        '2d901c02-c2ec-44c2-b9b8-860a010831ba',\n",
       "                        [{\"marker\": {\"color\": \"rgba(235, 115, 150, 0.5)\"}, \"mode\": \"lines\", \"name\": \"Actual\", \"type\": \"scatter\", \"x\": [\"2017-06-01T00:00:00\", \"2017-06-02T00:00:00\", \"2017-06-03T00:00:00\", \"2017-06-04T00:00:00\", \"2017-06-05T00:00:00\", \"2017-06-06T00:00:00\", \"2017-06-07T00:00:00\", \"2017-06-08T00:00:00\", \"2017-06-09T00:00:00\", \"2017-06-10T00:00:00\", \"2017-06-11T00:00:00\", \"2017-06-12T00:00:00\", \"2017-06-13T00:00:00\", \"2017-06-14T00:00:00\", \"2017-06-15T00:00:00\", \"2017-06-16T00:00:00\", \"2017-06-17T00:00:00\", \"2017-06-18T00:00:00\", \"2017-06-19T00:00:00\", \"2017-06-20T00:00:00\", \"2017-06-21T00:00:00\", \"2017-06-22T00:00:00\", \"2017-06-23T00:00:00\", \"2017-06-24T00:00:00\", \"2017-06-25T00:00:00\", \"2017-06-26T00:00:00\", \"2017-06-27T00:00:00\", \"2017-06-28T00:00:00\", \"2017-06-29T00:00:00\", \"2017-06-30T00:00:00\", \"2017-07-01T00:00:00\", \"2017-07-02T00:00:00\", \"2017-07-03T00:00:00\", \"2017-07-04T00:00:00\", \"2017-07-05T00:00:00\", \"2017-07-06T00:00:00\", \"2017-07-07T00:00:00\", \"2017-07-08T00:00:00\", \"2017-07-09T00:00:00\", \"2017-07-10T00:00:00\", \"2017-07-11T00:00:00\", \"2017-07-12T00:00:00\", \"2017-07-13T00:00:00\", \"2017-07-14T00:00:00\", \"2017-07-15T00:00:00\", \"2017-07-16T00:00:00\", \"2017-07-17T00:00:00\", \"2017-07-18T00:00:00\", \"2017-07-19T00:00:00\", \"2017-07-20T00:00:00\", \"2017-07-21T00:00:00\", \"2017-07-22T00:00:00\", \"2017-07-23T00:00:00\", \"2017-07-24T00:00:00\", \"2017-07-25T00:00:00\", \"2017-07-26T00:00:00\", \"2017-07-27T00:00:00\", \"2017-07-28T00:00:00\", \"2017-07-29T00:00:00\", \"2017-07-30T00:00:00\", \"2017-07-31T00:00:00\", \"2017-08-01T00:00:00\", \"2017-08-02T00:00:00\", \"2017-08-03T00:00:00\", \"2017-08-04T00:00:00\", \"2017-08-05T00:00:00\", \"2017-08-06T00:00:00\", \"2017-08-07T00:00:00\", \"2017-08-08T00:00:00\", \"2017-08-09T00:00:00\", \"2017-08-10T00:00:00\", \"2017-08-11T00:00:00\", \"2017-08-12T00:00:00\", \"2017-08-13T00:00:00\", \"2017-08-14T00:00:00\", \"2017-08-15T00:00:00\", \"2017-08-16T00:00:00\", \"2017-08-17T00:00:00\", \"2017-08-18T00:00:00\", \"2017-08-19T00:00:00\", \"2017-08-20T00:00:00\", \"2017-08-21T00:00:00\", \"2017-08-22T00:00:00\", \"2017-08-23T00:00:00\", \"2017-08-24T00:00:00\", \"2017-08-25T00:00:00\", \"2017-08-26T00:00:00\", \"2017-08-27T00:00:00\", \"2017-08-28T00:00:00\", \"2017-08-29T00:00:00\", \"2017-08-30T00:00:00\", \"2017-08-31T00:00:00\", \"2017-09-01T00:00:00\", \"2017-09-02T00:00:00\", \"2017-09-03T00:00:00\", \"2017-09-04T00:00:00\", \"2017-09-05T00:00:00\", \"2017-09-06T00:00:00\", \"2017-09-07T00:00:00\", \"2017-09-08T00:00:00\", \"2017-09-09T00:00:00\", \"2017-09-10T00:00:00\", \"2017-09-11T00:00:00\", \"2017-09-12T00:00:00\", \"2017-09-13T00:00:00\", \"2017-09-14T00:00:00\", \"2017-09-15T00:00:00\", \"2017-09-16T00:00:00\", \"2017-09-17T00:00:00\", \"2017-09-18T00:00:00\", \"2017-09-19T00:00:00\", \"2017-09-20T00:00:00\", \"2017-09-21T00:00:00\", \"2017-09-22T00:00:00\", \"2017-09-23T00:00:00\", \"2017-09-24T00:00:00\", \"2017-09-25T00:00:00\", \"2017-09-26T00:00:00\", \"2017-09-27T00:00:00\", \"2017-09-28T00:00:00\", \"2017-09-29T00:00:00\", \"2017-09-30T00:00:00\", \"2017-10-01T00:00:00\", \"2017-10-02T00:00:00\", \"2017-10-03T00:00:00\", \"2017-10-04T00:00:00\", \"2017-10-05T00:00:00\", \"2017-10-06T00:00:00\", \"2017-10-07T00:00:00\", \"2017-10-08T00:00:00\", \"2017-10-09T00:00:00\", \"2017-10-10T00:00:00\", \"2017-10-11T00:00:00\", \"2017-10-12T00:00:00\", \"2017-10-13T00:00:00\", \"2017-10-14T00:00:00\", \"2017-10-15T00:00:00\", \"2017-10-16T00:00:00\", \"2017-10-17T00:00:00\", \"2017-10-18T00:00:00\", \"2017-10-19T00:00:00\", \"2017-10-20T00:00:00\", \"2017-10-21T00:00:00\", \"2017-10-22T00:00:00\", \"2017-10-23T00:00:00\", \"2017-10-24T00:00:00\", \"2017-10-25T00:00:00\", \"2017-10-26T00:00:00\", \"2017-10-27T00:00:00\", \"2017-10-28T00:00:00\", \"2017-10-29T00:00:00\", \"2017-10-30T00:00:00\", \"2017-10-31T00:00:00\", \"2017-11-01T00:00:00\", \"2017-11-02T00:00:00\", \"2017-11-03T00:00:00\", \"2017-11-04T00:00:00\", \"2017-11-05T00:00:00\", \"2017-11-06T00:00:00\", \"2017-11-07T00:00:00\", \"2017-11-08T00:00:00\", \"2017-11-09T00:00:00\", \"2017-11-10T00:00:00\", \"2017-11-11T00:00:00\", \"2017-11-12T00:00:00\", \"2017-11-13T00:00:00\", \"2017-11-14T00:00:00\", \"2017-11-15T00:00:00\", \"2017-11-16T00:00:00\", \"2017-11-17T00:00:00\", \"2017-11-18T00:00:00\", \"2017-11-19T00:00:00\", \"2017-11-20T00:00:00\", \"2017-11-21T00:00:00\", \"2017-11-22T00:00:00\", \"2017-11-23T00:00:00\", \"2017-11-24T00:00:00\", \"2017-11-25T00:00:00\", \"2017-11-26T00:00:00\", \"2017-11-27T00:00:00\", \"2017-11-28T00:00:00\", \"2017-11-29T00:00:00\", \"2017-11-30T00:00:00\", \"2017-12-01T00:00:00\", \"2017-12-02T00:00:00\", \"2017-12-03T00:00:00\", \"2017-12-04T00:00:00\", \"2017-12-05T00:00:00\", \"2017-12-06T00:00:00\", \"2017-12-07T00:00:00\", \"2017-12-08T00:00:00\", \"2017-12-09T00:00:00\", \"2017-12-10T00:00:00\", \"2017-12-11T00:00:00\", \"2017-12-12T00:00:00\", \"2017-12-13T00:00:00\", \"2017-12-14T00:00:00\", \"2017-12-15T00:00:00\", \"2017-12-16T00:00:00\", \"2017-12-17T00:00:00\", \"2017-12-18T00:00:00\", \"2017-12-19T00:00:00\", \"2017-12-20T00:00:00\", \"2017-12-21T00:00:00\", \"2017-12-22T00:00:00\", \"2017-12-23T00:00:00\", \"2017-12-24T00:00:00\", \"2017-12-25T00:00:00\", \"2017-12-26T00:00:00\", \"2017-12-27T00:00:00\", \"2017-12-28T00:00:00\", \"2017-12-29T00:00:00\", \"2017-12-30T00:00:00\", \"2017-12-31T00:00:00\", \"2018-01-01T00:00:00\", \"2018-01-02T00:00:00\", \"2018-01-03T00:00:00\", \"2018-01-04T00:00:00\", \"2018-01-05T00:00:00\", \"2018-01-06T00:00:00\", \"2018-01-07T00:00:00\", \"2018-01-08T00:00:00\", \"2018-01-09T00:00:00\", \"2018-01-10T00:00:00\", \"2018-01-11T00:00:00\", \"2018-01-12T00:00:00\", \"2018-01-13T00:00:00\", \"2018-01-14T00:00:00\", \"2018-01-15T00:00:00\", \"2018-01-16T00:00:00\", \"2018-01-17T00:00:00\", \"2018-01-18T00:00:00\", \"2018-01-19T00:00:00\", \"2018-01-20T00:00:00\", \"2018-01-21T00:00:00\", \"2018-01-22T00:00:00\", \"2018-01-23T00:00:00\", \"2018-01-24T00:00:00\", \"2018-01-25T00:00:00\", \"2018-01-26T00:00:00\", \"2018-01-27T00:00:00\", \"2018-01-28T00:00:00\", \"2018-01-29T00:00:00\", \"2018-01-30T00:00:00\", \"2018-01-31T00:00:00\", \"2018-02-01T00:00:00\", \"2018-02-02T00:00:00\", \"2018-02-03T00:00:00\", \"2018-02-04T00:00:00\", \"2018-02-05T00:00:00\", \"2018-02-06T00:00:00\", \"2018-02-07T00:00:00\", \"2018-02-08T00:00:00\", \"2018-02-09T00:00:00\", \"2018-02-10T00:00:00\", \"2018-02-11T00:00:00\", \"2018-02-12T00:00:00\", \"2018-02-13T00:00:00\", \"2018-02-14T00:00:00\", \"2018-02-15T00:00:00\", \"2018-02-16T00:00:00\", \"2018-02-17T00:00:00\", \"2018-02-18T00:00:00\", \"2018-02-19T00:00:00\", \"2018-02-20T00:00:00\", \"2018-02-21T00:00:00\", \"2018-02-22T00:00:00\", \"2018-02-23T00:00:00\", \"2018-02-24T00:00:00\", \"2018-02-25T00:00:00\", \"2018-02-26T00:00:00\", \"2018-02-27T00:00:00\", \"2018-02-28T00:00:00\", \"2018-03-01T00:00:00\", \"2018-03-02T00:00:00\", \"2018-03-03T00:00:00\", \"2018-03-04T00:00:00\", \"2018-03-05T00:00:00\", \"2018-03-06T00:00:00\", \"2018-03-07T00:00:00\", \"2018-03-08T00:00:00\", \"2018-03-09T00:00:00\", \"2018-03-10T00:00:00\", \"2018-03-11T00:00:00\", \"2018-03-12T00:00:00\", \"2018-03-13T00:00:00\", \"2018-03-14T00:00:00\", \"2018-03-15T00:00:00\", \"2018-03-16T00:00:00\", \"2018-03-17T00:00:00\", \"2018-03-18T00:00:00\", \"2018-03-19T00:00:00\", \"2018-03-20T00:00:00\", \"2018-03-21T00:00:00\", \"2018-03-22T00:00:00\", \"2018-03-23T00:00:00\", \"2018-03-24T00:00:00\", \"2018-03-25T00:00:00\", \"2018-03-26T00:00:00\", \"2018-03-27T00:00:00\", \"2018-03-28T00:00:00\", \"2018-03-29T00:00:00\", \"2018-03-30T00:00:00\", \"2018-03-31T00:00:00\", \"2018-04-01T00:00:00\", \"2018-04-02T00:00:00\", \"2018-04-03T00:00:00\", \"2018-04-04T00:00:00\", \"2018-04-05T00:00:00\", \"2018-04-06T00:00:00\", \"2018-04-07T00:00:00\", \"2018-04-08T00:00:00\", \"2018-04-09T00:00:00\", \"2018-04-10T00:00:00\", \"2018-04-11T00:00:00\", \"2018-04-12T00:00:00\", \"2018-04-13T00:00:00\", \"2018-04-14T00:00:00\", \"2018-04-15T00:00:00\", \"2018-04-16T00:00:00\", \"2018-04-17T00:00:00\", \"2018-04-18T00:00:00\", \"2018-04-19T00:00:00\", \"2018-04-20T00:00:00\", \"2018-04-21T00:00:00\", \"2018-04-22T00:00:00\", \"2018-04-23T00:00:00\", \"2018-04-24T00:00:00\", \"2018-04-25T00:00:00\", \"2018-04-26T00:00:00\", \"2018-04-27T00:00:00\", \"2018-04-28T00:00:00\", \"2018-04-29T00:00:00\", \"2018-04-30T00:00:00\", \"2018-05-01T00:00:00\", \"2018-05-02T00:00:00\", \"2018-05-03T00:00:00\", \"2018-05-04T00:00:00\", \"2018-05-05T00:00:00\", \"2018-05-06T00:00:00\", \"2018-05-07T00:00:00\", \"2018-05-08T00:00:00\", \"2018-05-09T00:00:00\", \"2018-05-10T00:00:00\", \"2018-05-11T00:00:00\", \"2018-05-12T00:00:00\", \"2018-05-13T00:00:00\", \"2018-05-14T00:00:00\", \"2018-05-15T00:00:00\", \"2018-05-16T00:00:00\", \"2018-05-17T00:00:00\", \"2018-05-18T00:00:00\", \"2018-05-19T00:00:00\", \"2018-05-20T00:00:00\", \"2018-05-21T00:00:00\", \"2018-05-22T00:00:00\", \"2018-05-23T00:00:00\", \"2018-05-24T00:00:00\", \"2018-05-25T00:00:00\", \"2018-05-26T00:00:00\", \"2018-05-27T00:00:00\", \"2018-05-28T00:00:00\", \"2018-05-29T00:00:00\", \"2018-05-30T00:00:00\", \"2018-05-31T00:00:00\", \"2018-06-01T00:00:00\", \"2018-06-02T00:00:00\", \"2018-06-03T00:00:00\", \"2018-06-04T00:00:00\", \"2018-06-05T00:00:00\", \"2018-06-06T00:00:00\", \"2018-06-07T00:00:00\", \"2018-06-08T00:00:00\", \"2018-06-09T00:00:00\", \"2018-06-10T00:00:00\", \"2018-06-11T00:00:00\", \"2018-06-12T00:00:00\", \"2018-06-13T00:00:00\", \"2018-06-14T00:00:00\", \"2018-06-15T00:00:00\", \"2018-06-16T00:00:00\", \"2018-06-17T00:00:00\", \"2018-06-18T00:00:00\", \"2018-06-19T00:00:00\", \"2018-06-20T00:00:00\", \"2018-06-21T00:00:00\", \"2018-06-22T00:00:00\", \"2018-06-23T00:00:00\", \"2018-06-24T00:00:00\", \"2018-06-25T00:00:00\", \"2018-06-26T00:00:00\", \"2018-06-27T00:00:00\", \"2018-06-28T00:00:00\", \"2018-06-29T00:00:00\", \"2018-06-30T00:00:00\", \"2018-07-01T00:00:00\", \"2018-07-02T00:00:00\", \"2018-07-03T00:00:00\", \"2018-07-04T00:00:00\", \"2018-07-05T00:00:00\", \"2018-07-06T00:00:00\", \"2018-07-07T00:00:00\", \"2018-07-08T00:00:00\", \"2018-07-09T00:00:00\", \"2018-07-10T00:00:00\", \"2018-07-11T00:00:00\", \"2018-07-12T00:00:00\", \"2018-07-13T00:00:00\", \"2018-07-14T00:00:00\", \"2018-07-15T00:00:00\", \"2018-07-16T00:00:00\", \"2018-07-17T00:00:00\", \"2018-07-18T00:00:00\", \"2018-07-19T00:00:00\", \"2018-07-20T00:00:00\", \"2018-07-21T00:00:00\", \"2018-07-22T00:00:00\", \"2018-07-23T00:00:00\", \"2018-07-24T00:00:00\", \"2018-07-25T00:00:00\", \"2018-07-26T00:00:00\", \"2018-07-27T00:00:00\", \"2018-07-28T00:00:00\", \"2018-07-29T00:00:00\", \"2018-07-30T00:00:00\", \"2018-07-31T00:00:00\", \"2018-08-01T00:00:00\", \"2018-08-02T00:00:00\", \"2018-08-03T00:00:00\", \"2018-08-04T00:00:00\", \"2018-08-05T00:00:00\", \"2018-08-06T00:00:00\", \"2018-08-07T00:00:00\", \"2018-08-08T00:00:00\", \"2018-08-09T00:00:00\", \"2018-08-10T00:00:00\", \"2018-08-11T00:00:00\", \"2018-08-12T00:00:00\", \"2018-08-13T00:00:00\", \"2018-08-14T00:00:00\", \"2018-08-15T00:00:00\", \"2018-08-16T00:00:00\", \"2018-08-17T00:00:00\", \"2018-08-18T00:00:00\", \"2018-08-19T00:00:00\", \"2018-08-20T00:00:00\", \"2018-08-21T00:00:00\", \"2018-08-22T00:00:00\", \"2018-08-23T00:00:00\", \"2018-08-24T00:00:00\", \"2018-08-25T00:00:00\", \"2018-08-26T00:00:00\", \"2018-08-27T00:00:00\", \"2018-08-28T00:00:00\", \"2018-08-29T00:00:00\", \"2018-08-30T00:00:00\", \"2018-08-31T00:00:00\", \"2018-09-01T00:00:00\", \"2018-09-02T00:00:00\", \"2018-09-03T00:00:00\", \"2018-09-04T00:00:00\", \"2018-09-05T00:00:00\", \"2018-09-06T00:00:00\", \"2018-09-07T00:00:00\", \"2018-09-08T00:00:00\", \"2018-09-09T00:00:00\", \"2018-09-10T00:00:00\", \"2018-09-11T00:00:00\", \"2018-09-12T00:00:00\", \"2018-09-13T00:00:00\", \"2018-09-14T00:00:00\", \"2018-09-15T00:00:00\", \"2018-09-16T00:00:00\", \"2018-09-17T00:00:00\", \"2018-09-18T00:00:00\", \"2018-09-19T00:00:00\", \"2018-09-20T00:00:00\", \"2018-09-21T00:00:00\", \"2018-09-22T00:00:00\", \"2018-09-23T00:00:00\", \"2018-09-24T00:00:00\", \"2018-09-25T00:00:00\", \"2018-09-26T00:00:00\", \"2018-09-27T00:00:00\", \"2018-09-28T00:00:00\", \"2018-09-29T00:00:00\", \"2018-09-30T00:00:00\", \"2018-10-01T00:00:00\", \"2018-10-02T00:00:00\", \"2018-10-03T00:00:00\", \"2018-10-04T00:00:00\", \"2018-10-05T00:00:00\", \"2018-10-06T00:00:00\", \"2018-10-07T00:00:00\", \"2018-10-08T00:00:00\", \"2018-10-09T00:00:00\", \"2018-10-10T00:00:00\", \"2018-10-11T00:00:00\", \"2018-10-12T00:00:00\", \"2018-10-13T00:00:00\", \"2018-10-14T00:00:00\", \"2018-10-15T00:00:00\", \"2018-10-16T00:00:00\", \"2018-10-17T00:00:00\", \"2018-10-18T00:00:00\", \"2018-10-19T00:00:00\", \"2018-10-20T00:00:00\", \"2018-10-21T00:00:00\", \"2018-10-22T00:00:00\", \"2018-10-23T00:00:00\", \"2018-10-24T00:00:00\", \"2018-10-25T00:00:00\", \"2018-10-26T00:00:00\", \"2018-10-27T00:00:00\", \"2018-10-28T00:00:00\", \"2018-10-29T00:00:00\", \"2018-10-30T00:00:00\", \"2018-10-31T00:00:00\", \"2018-11-01T00:00:00\", \"2018-11-02T00:00:00\", \"2018-11-03T00:00:00\", \"2018-11-04T00:00:00\", \"2018-11-05T00:00:00\", \"2018-11-06T00:00:00\", \"2018-11-07T00:00:00\", \"2018-11-08T00:00:00\", \"2018-11-09T00:00:00\", \"2018-11-10T00:00:00\", \"2018-11-11T00:00:00\", \"2018-11-12T00:00:00\", \"2018-11-13T00:00:00\", \"2018-11-14T00:00:00\", \"2018-11-15T00:00:00\", \"2018-11-16T00:00:00\", \"2018-11-17T00:00:00\", \"2018-11-18T00:00:00\", \"2018-11-19T00:00:00\", \"2018-11-20T00:00:00\", \"2018-11-21T00:00:00\", \"2018-11-22T00:00:00\", \"2018-11-23T00:00:00\", \"2018-11-24T00:00:00\", \"2018-11-25T00:00:00\", \"2018-11-26T00:00:00\", \"2018-11-27T00:00:00\", \"2018-11-28T00:00:00\", \"2018-11-29T00:00:00\", \"2018-11-30T00:00:00\", \"2018-12-01T00:00:00\", \"2018-12-02T00:00:00\", \"2018-12-03T00:00:00\", \"2018-12-04T00:00:00\", \"2018-12-05T00:00:00\", \"2018-12-06T00:00:00\", \"2018-12-07T00:00:00\", \"2018-12-08T00:00:00\", \"2018-12-09T00:00:00\", \"2018-12-10T00:00:00\", \"2018-12-11T00:00:00\", \"2018-12-12T00:00:00\", \"2018-12-13T00:00:00\", \"2018-12-14T00:00:00\", \"2018-12-15T00:00:00\", \"2018-12-16T00:00:00\", \"2018-12-17T00:00:00\", \"2018-12-18T00:00:00\", \"2018-12-19T00:00:00\", \"2018-12-20T00:00:00\", \"2018-12-21T00:00:00\", \"2018-12-22T00:00:00\", \"2018-12-23T00:00:00\", \"2018-12-24T00:00:00\", \"2018-12-25T00:00:00\", \"2018-12-26T00:00:00\", \"2018-12-27T00:00:00\", \"2018-12-28T00:00:00\", \"2018-12-29T00:00:00\", \"2018-12-30T00:00:00\", \"2018-12-31T00:00:00\", \"2019-01-01T00:00:00\", \"2019-01-02T00:00:00\", \"2019-01-03T00:00:00\", \"2019-01-04T00:00:00\", \"2019-01-05T00:00:00\", \"2019-01-06T00:00:00\", \"2019-01-07T00:00:00\", \"2019-01-08T00:00:00\", \"2019-01-09T00:00:00\", \"2019-01-10T00:00:00\", \"2019-01-11T00:00:00\", \"2019-01-12T00:00:00\", \"2019-01-13T00:00:00\", \"2019-01-14T00:00:00\", \"2019-01-15T00:00:00\", \"2019-01-16T00:00:00\", \"2019-01-17T00:00:00\", \"2019-01-18T00:00:00\", \"2019-01-19T00:00:00\", \"2019-01-20T00:00:00\", \"2019-01-21T00:00:00\", \"2019-01-22T00:00:00\", \"2019-01-23T00:00:00\", \"2019-01-24T00:00:00\", \"2019-01-25T00:00:00\", \"2019-01-26T00:00:00\", \"2019-01-27T00:00:00\", \"2019-01-28T00:00:00\", \"2019-01-29T00:00:00\", \"2019-01-30T00:00:00\", \"2019-01-31T00:00:00\", \"2019-02-01T00:00:00\", \"2019-02-02T00:00:00\", \"2019-02-03T00:00:00\", \"2019-02-04T00:00:00\", \"2019-02-05T00:00:00\", \"2019-02-06T00:00:00\", \"2019-02-07T00:00:00\", \"2019-02-08T00:00:00\", \"2019-02-09T00:00:00\", \"2019-02-10T00:00:00\", \"2019-02-11T00:00:00\", \"2019-02-12T00:00:00\", \"2019-02-13T00:00:00\", \"2019-02-14T00:00:00\", \"2019-02-15T00:00:00\", \"2019-02-16T00:00:00\", \"2019-02-17T00:00:00\", \"2019-02-18T00:00:00\", \"2019-02-19T00:00:00\", \"2019-02-20T00:00:00\", \"2019-02-21T00:00:00\", \"2019-02-22T00:00:00\", \"2019-02-23T00:00:00\", \"2019-02-24T00:00:00\", \"2019-02-25T00:00:00\", \"2019-02-26T00:00:00\", \"2019-02-27T00:00:00\", \"2019-02-28T00:00:00\", \"2019-03-01T00:00:00\", \"2019-03-02T00:00:00\", \"2019-03-03T00:00:00\", \"2019-03-04T00:00:00\", \"2019-03-05T00:00:00\", \"2019-03-06T00:00:00\", \"2019-03-07T00:00:00\", \"2019-03-08T00:00:00\", \"2019-03-09T00:00:00\", \"2019-03-10T00:00:00\", \"2019-03-11T00:00:00\", \"2019-03-12T00:00:00\", \"2019-03-13T00:00:00\", \"2019-03-14T00:00:00\", \"2019-03-15T00:00:00\", \"2019-03-16T00:00:00\", \"2019-03-17T00:00:00\", \"2019-03-18T00:00:00\", \"2019-03-19T00:00:00\", \"2019-03-20T00:00:00\", \"2019-03-21T00:00:00\", \"2019-03-22T00:00:00\", \"2019-03-23T00:00:00\", \"2019-03-24T00:00:00\", \"2019-03-25T00:00:00\", \"2019-03-26T00:00:00\", \"2019-03-27T00:00:00\", \"2019-03-28T00:00:00\", \"2019-03-29T00:00:00\", \"2019-03-30T00:00:00\", \"2019-03-31T00:00:00\", \"2019-04-01T00:00:00\", \"2019-04-02T00:00:00\", \"2019-04-03T00:00:00\", \"2019-04-04T00:00:00\", \"2019-04-05T00:00:00\", \"2019-04-06T00:00:00\", \"2019-04-07T00:00:00\", \"2019-04-08T00:00:00\", \"2019-04-09T00:00:00\", \"2019-04-10T00:00:00\", \"2019-04-11T00:00:00\", \"2019-04-12T00:00:00\", \"2019-04-13T00:00:00\", \"2019-04-14T00:00:00\", \"2019-04-15T00:00:00\", \"2019-04-16T00:00:00\", \"2019-04-17T00:00:00\", \"2019-04-18T00:00:00\", \"2019-04-19T00:00:00\", \"2019-04-20T00:00:00\", \"2019-04-21T00:00:00\", \"2019-04-22T00:00:00\", \"2019-04-23T00:00:00\", \"2019-04-24T00:00:00\", \"2019-04-25T00:00:00\", \"2019-04-26T00:00:00\", \"2019-04-27T00:00:00\", \"2019-04-28T00:00:00\", \"2019-04-29T00:00:00\", \"2019-04-30T00:00:00\", \"2019-05-01T00:00:00\", \"2019-05-02T00:00:00\", \"2019-05-03T00:00:00\", \"2019-05-04T00:00:00\", \"2019-05-05T00:00:00\", \"2019-05-06T00:00:00\", \"2019-05-07T00:00:00\", \"2019-05-08T00:00:00\", \"2019-05-09T00:00:00\", \"2019-05-10T00:00:00\", \"2019-05-11T00:00:00\", \"2019-05-12T00:00:00\", \"2019-05-13T00:00:00\", \"2019-05-14T00:00:00\", \"2019-05-15T00:00:00\", \"2019-05-16T00:00:00\", \"2019-05-17T00:00:00\", \"2019-05-18T00:00:00\", \"2019-05-19T00:00:00\", \"2019-05-20T00:00:00\", \"2019-05-21T00:00:00\", \"2019-05-22T00:00:00\", \"2019-05-23T00:00:00\", \"2019-05-24T00:00:00\", \"2019-05-25T00:00:00\", \"2019-05-26T00:00:00\", \"2019-05-27T00:00:00\", \"2019-05-28T00:00:00\", \"2019-05-29T00:00:00\", \"2019-05-30T00:00:00\", \"2019-05-31T00:00:00\", \"2019-06-01T00:00:00\", \"2019-06-02T00:00:00\", \"2019-06-03T00:00:00\", \"2019-06-04T00:00:00\", \"2019-06-05T00:00:00\", \"2019-06-06T00:00:00\", \"2019-06-07T00:00:00\", \"2019-06-08T00:00:00\", \"2019-06-09T00:00:00\", \"2019-06-10T00:00:00\", \"2019-06-11T00:00:00\", \"2019-06-12T00:00:00\", \"2019-06-13T00:00:00\", \"2019-06-14T00:00:00\", \"2019-06-15T00:00:00\", \"2019-06-16T00:00:00\", \"2019-06-17T00:00:00\", \"2019-06-18T00:00:00\", \"2019-06-19T00:00:00\", \"2019-06-20T00:00:00\", \"2019-06-21T00:00:00\", \"2019-06-22T00:00:00\", \"2019-06-23T00:00:00\", \"2019-06-24T00:00:00\", \"2019-06-25T00:00:00\", \"2019-06-26T00:00:00\", \"2019-06-27T00:00:00\", \"2019-06-28T00:00:00\", \"2019-06-29T00:00:00\", \"2019-06-30T00:00:00\", \"2019-07-01T00:00:00\", \"2019-07-02T00:00:00\", \"2019-07-03T00:00:00\", \"2019-07-04T00:00:00\", \"2019-07-05T00:00:00\", \"2019-07-06T00:00:00\", \"2019-07-07T00:00:00\", \"2019-07-08T00:00:00\", \"2019-07-09T00:00:00\", \"2019-07-10T00:00:00\", \"2019-07-11T00:00:00\", \"2019-07-12T00:00:00\", \"2019-07-13T00:00:00\", \"2019-07-14T00:00:00\", \"2019-07-15T00:00:00\", \"2019-07-16T00:00:00\", \"2019-07-17T00:00:00\", \"2019-07-18T00:00:00\", \"2019-07-19T00:00:00\", \"2019-07-20T00:00:00\", \"2019-07-21T00:00:00\", \"2019-07-22T00:00:00\", \"2019-07-23T00:00:00\", \"2019-07-24T00:00:00\", \"2019-07-25T00:00:00\", \"2019-07-26T00:00:00\", \"2019-07-27T00:00:00\", \"2019-07-28T00:00:00\", \"2019-07-29T00:00:00\", \"2019-07-30T00:00:00\", \"2019-07-31T00:00:00\", \"2019-08-01T00:00:00\", \"2019-08-02T00:00:00\", \"2019-08-03T00:00:00\", \"2019-08-04T00:00:00\", \"2019-08-05T00:00:00\", \"2019-08-06T00:00:00\", \"2019-08-07T00:00:00\", \"2019-08-08T00:00:00\", \"2019-08-09T00:00:00\", \"2019-08-10T00:00:00\", \"2019-08-11T00:00:00\", \"2019-08-12T00:00:00\"], \"y\": [2389.7124652777793, 2429.3014722222233, 2518.750888888892, 2524.7469930555603, 2600.7444444444486, 2835.1260555555527, 2815.6953194444473, 2753.5724375000073, 2823.8471180555543, 2853.871777777778, 2906.474215277779, 2803.581750000004, 2715.928694444451, 2653.0482708333398, 2356.7296388888876, 2450.1450486111107, 2555.917826388888, 2566.5587638888933, 2558.1391805555563, 2661.5631666666654, 2712.268812500005, 2680.862333333332, 2718.264888888894, 2657.009215277778, 2559.341569444444, 2464.9203888888896, 2407.794423611114, 2533.6016041666626, 2558.770583333335, 2524.0453819444497, 2462.3251597222225, 2444.7650347222207, 2524.042131944447, 2596.6061319444475, 2569.9141666666737, 2593.83718055556, 2543.1207638888936, 2516.3489097222214, 2539.2847569444484, 2455.0341527777796, 2339.67059722222, 2343.987402777782, 2371.100986111114, 2279.3203333333418, 2073.9353055555507, 1939.7691666666651, 2056.5191180555607, 2280.832284722225, 2311.804187499999, 2492.0011805555505, 2718.66329861111, 2779.7550000000033, 2767.121493055555, 2753.6120972222275, 2624.099263888895, 2499.1164097222277, 2569.3229652777813, 2737.2861944444467, 2718.175916666668, 2675.802902777784, 2760.5994583333304, 2769.700041666668, 2713.936569444449, 2743.284652777787, 2827.005715277781, 3153.660069444449, 3236.0079166666746, 3308.0867569444586, 3416.0661041666613, 3341.188736111121, 3391.8064374999985, 3503.103180555562, 3757.487743055561, 4023.2860000000037, 4167.993833333334, 4167.686743055565, 4166.003368055552, 4345.919243055558, 4228.188402777789, 4055.157333333346, 4060.0714097222326, 4022.7011666666704, 3922.028104166666, 4141.476888888893, 4180.539020833341, 4356.688888888902, 4311.373458333351, 4340.41629861112, 4304.705208333351, 4464.279500000008, 4575.960375000009, 4669.390076388895, 4801.706236111117, 4684.137694444455, 4576.001104166673, 4361.9361666666555, 4252.457069444449, 4528.704993055561, 4584.30025694446, 4482.604402777778, 4292.220722222222, 4180.850256944438, 4210.225687500004, 4253.140652777776, 3934.011493055559, 3624.5376458333308, 3409.156631944439, 3696.292625000008, 3634.360208333341, 3941.1198541666736, 3962.9578749999987, 3937.1915555555534, 3791.3262638888873, 3626.56877777778, 3713.8222499999893, 3695.2018541666625, 3819.9963263888803, 3914.8063263888916, 4035.8797291666588, 4188.612034722216, 4144.9773819444545, 4270.209180555565, 4290.9005902777835, 4395.493111111113, 4311.992895833344, 4249.643597222228, 4255.330979166674, 4359.174444444453, 4351.288687500015, 4495.808520833344, 4643.429222222222, 4811.700548611115, 4787.352048611121, 5114.763875000004, 5618.339881944439, 5666.474111111125, 5610.077659722221, 5673.469020833336, 5625.583124999998, 5402.310152777783, 5654.104562500007, 5788.776069444453, 6073.861624999996, 5910.377895833341, 5869.137208333331, 5659.772756944453, 5547.822833333337, 5826.5624305555675, 5822.675326388888, 5749.922930555566, 5883.7243263888895, 6122.401979166681, 6240.408875000002, 6502.706909722225, 6952.339833333342, 7240.374881944453, 7258.124208333341, 7458.392979166676, 7228.157159722217, 7102.901493055557, 7386.520145833342, 7244.327472222225, 6961.358118055562, 6556.024395833337, 6114.231854166673, 6346.988562500001, 6590.393958333334, 7046.016361111107, 7459.5306875, 7827.064805555566, 7697.005916666671, 7825.9264166666635, 8090.021590277788, 8157.685722222237, 8194.893506944461, 8175.670479166667, 8168.087229166671, 8428.860465277778, 8972.45295138889, 9556.814923611137, 9833.026659722245, 10403.94379166668, 9888.908548611136, 10194.8572638889, 10938.31135416666, 11291.630187499997, 11346.529326388907, 11656.498604166689, 12580.533465277795, 14778.207416666659, 15432.868875000007, 14806.800236111114, 14134.664791666688, 16202.50012500004, 16730.929659722206, 16540.327312500034, 16343.036833333323, 17365.62792361109, 18176.730138888863, 19190.340631944408, 18720.01349999997, 18320.41626388884, 16834.521375000026, 16221.424986111117, 13761.145826388869, 14768.55603472223, 13656.086034722228, 13966.06769444444, 15243.615263888882, 15581.444701388853, 14248.632048611133, 14534.974930555547, 13212.859868055571, 13339.22119444444, 13425.415124999998, 13879.358895833342, 14963.699340277786, 14818.780319444424, 15792.452506944403, 16666.922951388857, 16517.014097222225, 15300.74915277776, 14868.201201388889, 14194.688409722214, 13697.100145833341, 13661.494569444449, 14224.945451388912, 13679.928909722257, 13821.277097222206, 12164.619152777768, 10680.231659722216, 11495.746736111108, 11513.536416666664, 12471.649145833333, 11895.589819444449, 11131.135819444438, 10724.710277777793, 11007.914437500012, 11300.592097222247, 11011.94201388889, 11238.782944444469, 11673.103618055535, 11283.896194444453, 10628.612597222236, 9987.00209722223, 9497.750625000028, 8558.503076388899, 8912.281611111122, 8722.604465277787, 7611.722958333325, 6828.462006944439, 7914.380222222217, 8216.322486111098, 8261.487381944451, 8656.487229166652, 8188.491090277783, 8624.076937500005, 8609.80722222223, 9025.642687500025, 9803.039104166684, 10025.99250694445, 10677.811173611124, 10737.341631944453, 10867.436395833349, 11498.189631944457, 10791.702006944444, 10272.655520833341, 10013.161215277789, 9931.702569444478, 9595.83642361113, 9910.592527777806, 10552.671340277788, 10621.063326388921, 10650.838465277793, 10980.791097222265, 11344.269083333334, 11242.097152777793, 11520.930465277766, 11021.738861111102, 10399.997006944468, 9705.391458333352, 8907.997486111099, 9236.650131944436, 9058.136361111123, 9436.36200694445, 9155.890388888914, 8769.349694444441, 8112.515770833351, 8315.006604166676, 8079.593062500001, 7679.651055555559, 8355.255979166664, 8622.49709722222, 8983.081652777786, 8793.326687500008, 8529.94406944445, 8857.918083333345, 8535.650166666666, 8208.19347916669, 7965.760694444459, 7916.943312500011, 7518.686965277791, 6888.176854166671, 7005.669125000011, 6797.412069444436, 6978.018000000003, 7325.304333333331, 7077.711673611102, 6758.105076388888, 6649.452291666674, 6891.6737638889, 6988.428743055562, 6891.471624999996, 6779.244319444467, 6879.948687500013, 7336.708215277788, 7992.690451388897, 8010.872291666685, 8215.487236111117, 8080.020305555557, 8036.633618055566, 8057.3129930555615, 8213.267708333358, 8445.635604166675, 8800.278312499991, 8888.387819444462, 8895.62331249999, 9314.519125000023, 9221.040361111107, 8883.210298611131, 9217.02084722222, 9240.572972222244, 9356.157784722249, 9290.616041666668, 8988.595694444466, 9112.689791666677, 9379.656666666657, 9656.508229166666, 9829.181138888915, 9615.699180555568, 9344.100527777799, 9260.790923611114, 9193.325472222248, 9265.502951388902, 8701.556430555573, 8423.31487500004, 8550.491187500027, 8581.468430555582, 8642.09697222224, 8282.705625000013, 8277.959930555586, 8106.672548611127, 8254.920923611124, 8361.972944444464, 8455.092916666694, 8233.2557916667, 7784.575402777791, 7538.571881944487, 7486.668048611141, 7490.143826388919, 7317.306069444448, 7255.434381944465, 7293.893402777787, 7432.491090277765, 7500.117368055571, 7481.193180555582, 7597.247354166683, 7690.673791666691, 7575.316763888909, 7491.722708333352, 7606.389534722249, 7692.524618055574, 7629.560597222222, 7630.158000000005, 7133.649305555566, 6760.716284722224, 6754.097347222223, 6443.017722222231, 6501.825152777797, 6550.993312499992, 6462.630548611125, 6509.097465277774, 6522.887597222218, 6718.137923611121, 6680.922951388888, 6736.712444444453, 6359.654034722214, 6135.97526388889, 6024.7279027777895, 6203.3115555555705, 6201.928152777776, 6096.063604166686, 6082.033944444458, 5903.817749999997, 6363.47595833333, 6350.025388888889, 6453.064812500014, 6596.762625000031, 6571.150868055561, 6581.060631944442, 6541.890631944446, 6573.3242361111, 6739.136618055562, 6705.734666666673, 6480.4565208333415, 6354.405493055556, 6219.166937500008, 6236.785770833367, 6236.172256944462, 6318.537784722239, 6521.181465277782, 6877.720881944445, 7402.712555555563, 7390.11466666668, 7420.562833333363, 7347.857055555567, 7448.0036597222515, 7679.556715277796, 8071.491902777785, 8253.59904166666, 8196.509159722247, 8021.516604166678, 8179.995840277793, 8202.688618055583, 8133.9497777778, 7915.115548611122, 7569.98511111112, 7590.178583333349, 7394.100701388909, 7248.6566458333655, 6995.644215277812, 6987.8438472222315, 6986.739444444467, 6444.725208333348, 6394.324194444451, 6394.919993055561, 6188.136972222216, 6304.35070833334, 6345.708180555566, 6056.106715277783, 6369.123708333329, 6344.468576388896, 6466.790055555574, 6446.211965277772, 6397.762687500009, 6444.960090277811, 6399.587041666682, 6579.496944444452, 6433.5398680555545, 6551.867993055588, 6713.861659722258, 6669.950659722236, 6712.779381944449, 6986.976090277787, 7049.229027777782, 6929.053499999996, 6979.79039583335, 7105.35293750002, 7239.421576388906, 7259.906249999994, 7322.047874999996, 7125.833812499998, 6421.734145833346, 6443.361534722262, 6360.320930555571, 6289.750152777783, 6287.392875000001, 6290.2325902777875, 6268.183465277798, 6440.572034722228, 6500.248395833359, 6519.018743055587, 6484.170666666674, 6398.048562500014, 6295.923305555575, 6336.486597222232, 6411.717736111115, 6658.61240972222, 6705.587187499994, 6706.800166666679, 6638.184479166654, 6413.125020833338, 6461.356423611127, 6520.746958333349, 6665.077402777776, 6539.937986111108, 6577.550055555549, 6574.940298611117, 6541.682701388867, 6447.232340277765, 6547.230777777762, 6544.547159722216, 6556.2918263888805, 6533.511180555536, 6586.734770833344, 6587.5929722221945, 6517.042173611102, 6213.507291666667, 6201.429923611101, 6196.307437500009, 6225.605215277768, 6368.968388888887, 6437.686604166653, 6438.604631944451, 6427.5492222222265, 6385.541597222227, 6396.777493055575, 6433.669687499999, 6405.4003749999765, 6395.747611111114, 6425.273986111101, 6400.467819444443, 6400.76842361109, 6407.05902083333, 6402.554041666676, 6329.9985763889, 6264.565631944463, 6277.430083333336, 6310.56606249998, 6351.960548611104, 6333.967756944455, 6364.34178472219, 6404.680194444427, 6412.868326388882, 6506.8773680555605, 6449.525041666662, 6365.883486111105, 6354.911069444451, 6339.537944444456, 6350.976541666664, 6290.059034722227, 6019.894937499998, 5494.714520833338, 5530.675125000012, 5485.194152777787, 5534.090277777771, 5203.1593819444415, 4531.132569444447, 4447.252770833336, 4468.593826388887, 4248.508673611109, 4203.4345069444435, 3756.95189583334, 3850.8809305555556, 3702.9673125000036, 4057.7619513888876, 4224.60156944445, 4075.2327916666695, 4078.2717500000003, 4120.349090277774, 3924.919868055556, 3904.986423611119, 3802.7635277777786, 3694.9691111111147, 3360.1898402777783, 3384.9175000000073, 3468.0102222222245, 3468.8128611111065, 3365.570430555562, 3397.2696736111166, 3360.91896527778, 3233.8725902777715, 3180.2247847222225, 3217.120479166661, 3333.074319444453, 3508.6461597222205, 3748.380458333341, 3923.0398263888833, 3972.550958333326, 3851.8717222222185, 3978.132437499989, 4125.493027777772, 3773.2280555555553, 3779.5463055555515, 3717.7947291666655, 3700.835333333332, 3873.5531736111043, 3788.032055555552, 3757.3624166666555, 3700.3265972222234, 3823.112729166656, 3830.1849722222178, 3785.05104861111, 3834.452138888893, 3874.5452152777775, 4022.664298611106, 4006.257034722222, 4010.7763958333285, 3795.507187500005, 3636.7025416666634, 3626.5706319444425, 3580.619624999998, 3580.005486111115, 3641.574458333333, 3603.472229166661, 3602.951118055559, 3615.6680555555517, 3671.6374999999907, 3607.2373958333274, 3535.8616458333254, 3551.567465277765, 3569.4726805555633, 3553.9397777777735, 3557.15230555555, 3571.367611111122, 3545.671416666666, 3438.032173611103, 3398.639076388891, 3423.095763888887, 3424.856152777782, 3416.3658680555586, 3431.8366666666716, 3425.4384861111216, 3414.204527777778, 3419.36813888888, 3371.575750000001, 3366.4235208333366, 3451.4933402777733, 3614.884708333324, 3608.1552916666656, 3595.2006875, 3577.8480416666685, 3582.285694444439, 3569.1406111111155, 3570.4032013888955, 3587.6629097222267, 3585.4940555555586, 3756.019819444445, 3900.652402777775, 3910.843916666662, 3906.7272222222296, 3925.343680555563, 3980.2158541666718, 3989.5767638888838, 3792.778916666669, 3799.9307777777794, 3795.3566597222207, 3810.278263888891, 3813.27386805555, 3805.279194444444, 3801.456263888886, 3725.0505902777822, 3765.770388888884, 3838.784395833329, 3861.3823194444494, 3871.895409722215, 3889.980624999997, 3893.019138888882, 3864.6125624999936, 3847.294444444448, 3853.5086458333462, 3850.2652013888824, 3877.4722777777793, 3978.552020833331, 3963.1048819444545, 3969.4853958333247, 3977.0401319444522, 3995.406333333329, 4005.9583888888824, 3981.5695555555526, 3980.761215277784, 3968.612951388893, 3949.801881944454, 3908.431326388902, 3993.995347222206, 4009.194069444443, 4057.541465277782, 4083.772388888892, 4088.348868055553, 4125.548659722221, 4647.141729166669, 5038.50502083333, 4971.659173611101, 4981.012118055559, 5042.754319444438, 5128.465159722207, 5241.546451388895, 5221.413534722217, 5270.475166666668, 5129.761715277781, 5047.637659722214, 5084.51536805556, 5078.802409722226, 5122.114104166673, 5098.620062500001, 5218.718937499994, 5263.983847222229, 5259.1587361111115, 5313.275881944437, 5288.680506944438, 5317.52523611111, 5531.954173611113, 5486.831687500015, 5423.299951388892, 5149.682201388893, 5165.260756944446, 5169.915263888891, 5154.869499999995, 5199.331576388891, 5303.564006944443, 5360.945784722242, 5617.309986111107, 5694.244680555553, 5721.58211805556, 5656.3270069444425, 5863.695777777779, 5843.870868055555, 6047.245256944443, 6290.585555555554, 6806.6770625000045, 7155.474208333327, 7408.98296527779, 7993.158020833342, 8054.80577777778, 7993.707881944452, 7263.197819444444, 7326.348763888892, 7934.045673611123, 7906.761131944451, 7952.989784722219, 7890.863298611112, 7703.517611111119, 7983.823395833333, 8045.214743055539, 8125.428284722212, 8782.527847222222, 8726.034833333331, 8646.49276388888, 8631.68847916668, 8350.288833333312, 8542.015763888876, 8668.05993750001, 8531.08584722222, 7851.133666666666, 7771.943777777767, 7751.1627916666675, 7938.752041666664, 7941.170618055555, 7799.946125000009, 7820.271444444434, 7897.226569444459, 8036.859090277781, 8169.982472222209, 8353.574541666672, 8727.897222222222, 9096.019243055567, 9236.642777777772, 9153.257826388888, 9148.226562500011, 9353.45185416665, 9802.451152777776, 10725.602312500023, 10747.117999999991, 10844.867333333319, 11314.388562500011, 12643.553618055552, 11803.958812500003, 11678.356861111108, 11850.858194444452, 11540.011777777765, 10687.819687499998, 10305.094118055564, 11345.892000000002, 11760.026750000003, 11141.252972222204, 11416.435701388893, 11311.678444444451, 11794.189805555567, 12514.21774305554, 12649.908881944439, 11584.54125000001, 11585.792416666667, 11430.236854166653, 10860.6743263889, 10419.180666666702, 10356.278006944454, 9577.303708333347, 10053.263270833328, 10473.079361111104, 10680.938881944432, 10578.370826388895, 10451.459284722223, 10071.961000000008, 9703.44240277778, 10023.55200000002, 9775.523166666679, 9731.698895833339, 9486.49152083333, 9541.105833333348, 9541.569750000022, 9857.407680555563, 10085.621541666671, 10475.718763888879, 10785.766958333332, 10820.892229166655, 11676.32672916666, 11758.30978472223, 11712.383777777764, 11802.534583333349, 11820.873673611108, 11582.249006944416, 11379.078881944437, 11520.0]}, {\"marker\": {\"color\": \"rgba(115, 120, 235, 0.5)\"}, \"mode\": \"lines\", \"name\": \"Predict\", \"type\": \"scatter\", \"x\": [\"2017-06-01T00:00:00\", \"2017-06-02T00:00:00\", \"2017-06-03T00:00:00\", \"2017-06-04T00:00:00\", \"2017-06-05T00:00:00\", \"2017-06-06T00:00:00\", \"2017-06-07T00:00:00\", \"2017-06-08T00:00:00\", \"2017-06-09T00:00:00\", \"2017-06-10T00:00:00\", \"2017-06-11T00:00:00\", \"2017-06-12T00:00:00\", \"2017-06-13T00:00:00\", \"2017-06-14T00:00:00\", \"2017-06-15T00:00:00\", \"2017-06-16T00:00:00\", \"2017-06-17T00:00:00\", \"2017-06-18T00:00:00\", \"2017-06-19T00:00:00\", \"2017-06-20T00:00:00\", \"2017-06-21T00:00:00\", \"2017-06-22T00:00:00\", \"2017-06-23T00:00:00\", \"2017-06-24T00:00:00\", \"2017-06-25T00:00:00\", \"2017-06-26T00:00:00\", \"2017-06-27T00:00:00\", \"2017-06-28T00:00:00\", \"2017-06-29T00:00:00\", \"2017-06-30T00:00:00\", \"2017-07-01T00:00:00\", \"2017-07-02T00:00:00\", \"2017-07-03T00:00:00\", \"2017-07-04T00:00:00\", \"2017-07-05T00:00:00\", \"2017-07-06T00:00:00\", \"2017-07-07T00:00:00\", \"2017-07-08T00:00:00\", \"2017-07-09T00:00:00\", \"2017-07-10T00:00:00\", \"2017-07-11T00:00:00\", \"2017-07-12T00:00:00\", \"2017-07-13T00:00:00\", \"2017-07-14T00:00:00\", \"2017-07-15T00:00:00\", \"2017-07-16T00:00:00\", \"2017-07-17T00:00:00\", \"2017-07-18T00:00:00\", \"2017-07-19T00:00:00\", \"2017-07-20T00:00:00\", \"2017-07-21T00:00:00\", \"2017-07-22T00:00:00\", \"2017-07-23T00:00:00\", \"2017-07-24T00:00:00\", \"2017-07-25T00:00:00\", \"2017-07-26T00:00:00\", \"2017-07-27T00:00:00\", \"2017-07-28T00:00:00\", \"2017-07-29T00:00:00\", \"2017-07-30T00:00:00\", \"2017-07-31T00:00:00\", \"2017-08-01T00:00:00\", \"2017-08-02T00:00:00\", \"2017-08-03T00:00:00\", \"2017-08-04T00:00:00\", \"2017-08-05T00:00:00\", \"2017-08-06T00:00:00\", \"2017-08-07T00:00:00\", \"2017-08-08T00:00:00\", \"2017-08-09T00:00:00\", \"2017-08-10T00:00:00\", \"2017-08-11T00:00:00\", \"2017-08-12T00:00:00\", \"2017-08-13T00:00:00\", \"2017-08-14T00:00:00\", \"2017-08-15T00:00:00\", \"2017-08-16T00:00:00\", \"2017-08-17T00:00:00\", \"2017-08-18T00:00:00\", \"2017-08-19T00:00:00\", \"2017-08-20T00:00:00\", \"2017-08-21T00:00:00\", \"2017-08-22T00:00:00\", \"2017-08-23T00:00:00\", \"2017-08-24T00:00:00\", \"2017-08-25T00:00:00\", \"2017-08-26T00:00:00\", \"2017-08-27T00:00:00\", \"2017-08-28T00:00:00\", \"2017-08-29T00:00:00\", \"2017-08-30T00:00:00\", \"2017-08-31T00:00:00\", \"2017-09-01T00:00:00\", \"2017-09-02T00:00:00\", \"2017-09-03T00:00:00\", \"2017-09-04T00:00:00\", \"2017-09-05T00:00:00\", \"2017-09-06T00:00:00\", \"2017-09-07T00:00:00\", \"2017-09-08T00:00:00\", \"2017-09-09T00:00:00\", \"2017-09-10T00:00:00\", \"2017-09-11T00:00:00\", \"2017-09-12T00:00:00\", \"2017-09-13T00:00:00\", \"2017-09-14T00:00:00\", \"2017-09-15T00:00:00\", \"2017-09-16T00:00:00\", \"2017-09-17T00:00:00\", \"2017-09-18T00:00:00\", \"2017-09-19T00:00:00\", \"2017-09-20T00:00:00\", \"2017-09-21T00:00:00\", \"2017-09-22T00:00:00\", \"2017-09-23T00:00:00\", \"2017-09-24T00:00:00\", \"2017-09-25T00:00:00\", \"2017-09-26T00:00:00\", \"2017-09-27T00:00:00\", \"2017-09-28T00:00:00\", \"2017-09-29T00:00:00\", \"2017-09-30T00:00:00\", \"2017-10-01T00:00:00\", \"2017-10-02T00:00:00\", \"2017-10-03T00:00:00\", \"2017-10-04T00:00:00\", \"2017-10-05T00:00:00\", \"2017-10-06T00:00:00\", \"2017-10-07T00:00:00\", \"2017-10-08T00:00:00\", \"2017-10-09T00:00:00\", \"2017-10-10T00:00:00\", \"2017-10-11T00:00:00\", \"2017-10-12T00:00:00\", \"2017-10-13T00:00:00\", \"2017-10-14T00:00:00\", \"2017-10-15T00:00:00\", \"2017-10-16T00:00:00\", \"2017-10-17T00:00:00\", \"2017-10-18T00:00:00\", \"2017-10-19T00:00:00\", \"2017-10-20T00:00:00\", \"2017-10-21T00:00:00\", \"2017-10-22T00:00:00\", \"2017-10-23T00:00:00\", \"2017-10-24T00:00:00\", \"2017-10-25T00:00:00\", \"2017-10-26T00:00:00\", \"2017-10-27T00:00:00\", \"2017-10-28T00:00:00\", \"2017-10-29T00:00:00\", \"2017-10-30T00:00:00\", \"2017-10-31T00:00:00\", \"2017-11-01T00:00:00\", \"2017-11-02T00:00:00\", \"2017-11-03T00:00:00\", \"2017-11-04T00:00:00\", \"2017-11-05T00:00:00\", \"2017-11-06T00:00:00\", \"2017-11-07T00:00:00\", \"2017-11-08T00:00:00\", \"2017-11-09T00:00:00\", \"2017-11-10T00:00:00\", \"2017-11-11T00:00:00\", \"2017-11-12T00:00:00\", \"2017-11-13T00:00:00\", \"2017-11-14T00:00:00\", \"2017-11-15T00:00:00\", \"2017-11-16T00:00:00\", \"2017-11-17T00:00:00\", \"2017-11-18T00:00:00\", \"2017-11-19T00:00:00\", \"2017-11-20T00:00:00\", \"2017-11-21T00:00:00\", \"2017-11-22T00:00:00\", \"2017-11-23T00:00:00\", \"2017-11-24T00:00:00\", \"2017-11-25T00:00:00\", \"2017-11-26T00:00:00\", \"2017-11-27T00:00:00\", \"2017-11-28T00:00:00\", \"2017-11-29T00:00:00\", \"2017-11-30T00:00:00\", \"2017-12-01T00:00:00\", \"2017-12-02T00:00:00\", \"2017-12-03T00:00:00\", \"2017-12-04T00:00:00\", \"2017-12-05T00:00:00\", \"2017-12-06T00:00:00\", \"2017-12-07T00:00:00\", \"2017-12-08T00:00:00\", \"2017-12-09T00:00:00\", \"2017-12-10T00:00:00\", \"2017-12-11T00:00:00\", \"2017-12-12T00:00:00\", \"2017-12-13T00:00:00\", \"2017-12-14T00:00:00\", \"2017-12-15T00:00:00\", \"2017-12-16T00:00:00\", \"2017-12-17T00:00:00\", \"2017-12-18T00:00:00\", \"2017-12-19T00:00:00\", \"2017-12-20T00:00:00\", \"2017-12-21T00:00:00\", \"2017-12-22T00:00:00\", \"2017-12-23T00:00:00\", \"2017-12-24T00:00:00\", \"2017-12-25T00:00:00\", \"2017-12-26T00:00:00\", \"2017-12-27T00:00:00\", \"2017-12-28T00:00:00\", \"2017-12-29T00:00:00\", \"2017-12-30T00:00:00\", \"2017-12-31T00:00:00\", \"2018-01-01T00:00:00\", \"2018-01-02T00:00:00\", \"2018-01-03T00:00:00\", \"2018-01-04T00:00:00\", \"2018-01-05T00:00:00\", \"2018-01-06T00:00:00\", \"2018-01-07T00:00:00\", \"2018-01-08T00:00:00\", \"2018-01-09T00:00:00\", \"2018-01-10T00:00:00\", \"2018-01-11T00:00:00\", \"2018-01-12T00:00:00\", \"2018-01-13T00:00:00\", \"2018-01-14T00:00:00\", \"2018-01-15T00:00:00\", \"2018-01-16T00:00:00\", \"2018-01-17T00:00:00\", \"2018-01-18T00:00:00\", \"2018-01-19T00:00:00\", \"2018-01-20T00:00:00\", \"2018-01-21T00:00:00\", \"2018-01-22T00:00:00\", \"2018-01-23T00:00:00\", \"2018-01-24T00:00:00\", \"2018-01-25T00:00:00\", \"2018-01-26T00:00:00\", \"2018-01-27T00:00:00\", \"2018-01-28T00:00:00\", \"2018-01-29T00:00:00\", \"2018-01-30T00:00:00\", \"2018-01-31T00:00:00\", \"2018-02-01T00:00:00\", \"2018-02-02T00:00:00\", \"2018-02-03T00:00:00\", \"2018-02-04T00:00:00\", \"2018-02-05T00:00:00\", \"2018-02-06T00:00:00\", \"2018-02-07T00:00:00\", \"2018-02-08T00:00:00\", \"2018-02-09T00:00:00\", \"2018-02-10T00:00:00\", \"2018-02-11T00:00:00\", \"2018-02-12T00:00:00\", \"2018-02-13T00:00:00\", \"2018-02-14T00:00:00\", \"2018-02-15T00:00:00\", \"2018-02-16T00:00:00\", \"2018-02-17T00:00:00\", \"2018-02-18T00:00:00\", \"2018-02-19T00:00:00\", \"2018-02-20T00:00:00\", \"2018-02-21T00:00:00\", \"2018-02-22T00:00:00\", \"2018-02-23T00:00:00\", \"2018-02-24T00:00:00\", \"2018-02-25T00:00:00\", \"2018-02-26T00:00:00\", \"2018-02-27T00:00:00\", \"2018-02-28T00:00:00\", \"2018-03-01T00:00:00\", \"2018-03-02T00:00:00\", \"2018-03-03T00:00:00\", \"2018-03-04T00:00:00\", \"2018-03-05T00:00:00\", \"2018-03-06T00:00:00\", \"2018-03-07T00:00:00\", \"2018-03-08T00:00:00\", \"2018-03-09T00:00:00\", \"2018-03-10T00:00:00\", \"2018-03-11T00:00:00\", \"2018-03-12T00:00:00\", \"2018-03-13T00:00:00\", \"2018-03-14T00:00:00\", \"2018-03-15T00:00:00\", \"2018-03-16T00:00:00\", \"2018-03-17T00:00:00\", \"2018-03-18T00:00:00\", \"2018-03-19T00:00:00\", \"2018-03-20T00:00:00\", \"2018-03-21T00:00:00\", \"2018-03-22T00:00:00\", \"2018-03-23T00:00:00\", \"2018-03-24T00:00:00\", \"2018-03-25T00:00:00\", \"2018-03-26T00:00:00\", \"2018-03-27T00:00:00\", \"2018-03-28T00:00:00\", \"2018-03-29T00:00:00\", \"2018-03-30T00:00:00\", \"2018-03-31T00:00:00\", \"2018-04-01T00:00:00\", \"2018-04-02T00:00:00\", \"2018-04-03T00:00:00\", \"2018-04-04T00:00:00\", \"2018-04-05T00:00:00\", \"2018-04-06T00:00:00\", \"2018-04-07T00:00:00\", \"2018-04-08T00:00:00\", \"2018-04-09T00:00:00\", \"2018-04-10T00:00:00\", \"2018-04-11T00:00:00\", \"2018-04-12T00:00:00\", \"2018-04-13T00:00:00\", \"2018-04-14T00:00:00\", \"2018-04-15T00:00:00\", \"2018-04-16T00:00:00\", \"2018-04-17T00:00:00\", \"2018-04-18T00:00:00\", \"2018-04-19T00:00:00\", \"2018-04-20T00:00:00\", \"2018-04-21T00:00:00\", \"2018-04-22T00:00:00\", \"2018-04-23T00:00:00\", \"2018-04-24T00:00:00\", \"2018-04-25T00:00:00\", \"2018-04-26T00:00:00\", \"2018-04-27T00:00:00\", \"2018-04-28T00:00:00\", \"2018-04-29T00:00:00\", \"2018-04-30T00:00:00\", \"2018-05-01T00:00:00\", \"2018-05-02T00:00:00\", \"2018-05-03T00:00:00\", \"2018-05-04T00:00:00\", \"2018-05-05T00:00:00\", \"2018-05-06T00:00:00\", \"2018-05-07T00:00:00\", \"2018-05-08T00:00:00\", \"2018-05-09T00:00:00\", \"2018-05-10T00:00:00\", \"2018-05-11T00:00:00\", \"2018-05-12T00:00:00\", \"2018-05-13T00:00:00\", \"2018-05-14T00:00:00\", \"2018-05-15T00:00:00\", \"2018-05-16T00:00:00\", \"2018-05-17T00:00:00\", \"2018-05-18T00:00:00\", \"2018-05-19T00:00:00\", \"2018-05-20T00:00:00\", \"2018-05-21T00:00:00\", \"2018-05-22T00:00:00\", \"2018-05-23T00:00:00\", \"2018-05-24T00:00:00\", \"2018-05-25T00:00:00\", \"2018-05-26T00:00:00\", \"2018-05-27T00:00:00\", \"2018-05-28T00:00:00\", \"2018-05-29T00:00:00\", \"2018-05-30T00:00:00\", \"2018-05-31T00:00:00\", \"2018-06-01T00:00:00\", \"2018-06-02T00:00:00\", \"2018-06-03T00:00:00\", \"2018-06-04T00:00:00\", \"2018-06-05T00:00:00\", \"2018-06-06T00:00:00\", \"2018-06-07T00:00:00\", \"2018-06-08T00:00:00\", \"2018-06-09T00:00:00\", \"2018-06-10T00:00:00\", \"2018-06-11T00:00:00\", \"2018-06-12T00:00:00\", \"2018-06-13T00:00:00\", \"2018-06-14T00:00:00\", \"2018-06-15T00:00:00\", \"2018-06-16T00:00:00\", \"2018-06-17T00:00:00\", \"2018-06-18T00:00:00\", \"2018-06-19T00:00:00\", \"2018-06-20T00:00:00\", \"2018-06-21T00:00:00\", \"2018-06-22T00:00:00\", \"2018-06-23T00:00:00\", \"2018-06-24T00:00:00\", \"2018-06-25T00:00:00\", \"2018-06-26T00:00:00\", \"2018-06-27T00:00:00\", \"2018-06-28T00:00:00\", \"2018-06-29T00:00:00\", \"2018-06-30T00:00:00\", \"2018-07-01T00:00:00\", \"2018-07-02T00:00:00\", \"2018-07-03T00:00:00\", \"2018-07-04T00:00:00\", \"2018-07-05T00:00:00\", \"2018-07-06T00:00:00\", \"2018-07-07T00:00:00\", \"2018-07-08T00:00:00\", \"2018-07-09T00:00:00\", \"2018-07-10T00:00:00\", \"2018-07-11T00:00:00\", \"2018-07-12T00:00:00\", \"2018-07-13T00:00:00\", \"2018-07-14T00:00:00\", \"2018-07-15T00:00:00\", \"2018-07-16T00:00:00\", \"2018-07-17T00:00:00\", \"2018-07-18T00:00:00\", \"2018-07-19T00:00:00\", \"2018-07-20T00:00:00\", \"2018-07-21T00:00:00\", \"2018-07-22T00:00:00\", \"2018-07-23T00:00:00\", \"2018-07-24T00:00:00\", \"2018-07-25T00:00:00\", \"2018-07-26T00:00:00\", \"2018-07-27T00:00:00\", \"2018-07-28T00:00:00\", \"2018-07-29T00:00:00\", \"2018-07-30T00:00:00\", \"2018-07-31T00:00:00\", \"2018-08-01T00:00:00\", \"2018-08-02T00:00:00\", \"2018-08-03T00:00:00\", \"2018-08-04T00:00:00\", \"2018-08-05T00:00:00\", \"2018-08-06T00:00:00\", \"2018-08-07T00:00:00\", \"2018-08-08T00:00:00\", \"2018-08-09T00:00:00\", \"2018-08-10T00:00:00\", \"2018-08-11T00:00:00\", \"2018-08-12T00:00:00\", \"2018-08-13T00:00:00\", \"2018-08-14T00:00:00\", \"2018-08-15T00:00:00\", \"2018-08-16T00:00:00\", \"2018-08-17T00:00:00\", \"2018-08-18T00:00:00\", \"2018-08-19T00:00:00\", \"2018-08-20T00:00:00\", \"2018-08-21T00:00:00\", \"2018-08-22T00:00:00\", \"2018-08-23T00:00:00\", \"2018-08-24T00:00:00\", \"2018-08-25T00:00:00\", \"2018-08-26T00:00:00\", \"2018-08-27T00:00:00\", \"2018-08-28T00:00:00\", \"2018-08-29T00:00:00\", \"2018-08-30T00:00:00\", \"2018-08-31T00:00:00\", \"2018-09-01T00:00:00\", \"2018-09-02T00:00:00\", \"2018-09-03T00:00:00\", \"2018-09-04T00:00:00\", \"2018-09-05T00:00:00\", \"2018-09-06T00:00:00\", \"2018-09-07T00:00:00\", \"2018-09-08T00:00:00\", \"2018-09-09T00:00:00\", \"2018-09-10T00:00:00\", \"2018-09-11T00:00:00\", \"2018-09-12T00:00:00\", \"2018-09-13T00:00:00\", \"2018-09-14T00:00:00\", \"2018-09-15T00:00:00\", \"2018-09-16T00:00:00\", \"2018-09-17T00:00:00\", \"2018-09-18T00:00:00\", \"2018-09-19T00:00:00\", \"2018-09-20T00:00:00\", \"2018-09-21T00:00:00\", \"2018-09-22T00:00:00\", \"2018-09-23T00:00:00\", \"2018-09-24T00:00:00\", \"2018-09-25T00:00:00\", \"2018-09-26T00:00:00\", \"2018-09-27T00:00:00\", \"2018-09-28T00:00:00\", \"2018-09-29T00:00:00\", \"2018-09-30T00:00:00\", \"2018-10-01T00:00:00\", \"2018-10-02T00:00:00\", \"2018-10-03T00:00:00\", \"2018-10-04T00:00:00\", \"2018-10-05T00:00:00\", \"2018-10-06T00:00:00\", \"2018-10-07T00:00:00\", \"2018-10-08T00:00:00\", \"2018-10-09T00:00:00\", \"2018-10-10T00:00:00\", \"2018-10-11T00:00:00\", \"2018-10-12T00:00:00\", \"2018-10-13T00:00:00\", \"2018-10-14T00:00:00\", \"2018-10-15T00:00:00\", \"2018-10-16T00:00:00\", \"2018-10-17T00:00:00\", \"2018-10-18T00:00:00\", \"2018-10-19T00:00:00\", \"2018-10-20T00:00:00\", \"2018-10-21T00:00:00\", \"2018-10-22T00:00:00\", \"2018-10-23T00:00:00\", \"2018-10-24T00:00:00\", \"2018-10-25T00:00:00\", \"2018-10-26T00:00:00\", \"2018-10-27T00:00:00\", \"2018-10-28T00:00:00\", \"2018-10-29T00:00:00\", \"2018-10-30T00:00:00\", \"2018-10-31T00:00:00\", \"2018-11-01T00:00:00\", \"2018-11-02T00:00:00\", \"2018-11-03T00:00:00\", \"2018-11-04T00:00:00\", \"2018-11-05T00:00:00\", \"2018-11-06T00:00:00\", \"2018-11-07T00:00:00\", \"2018-11-08T00:00:00\", \"2018-11-09T00:00:00\", \"2018-11-10T00:00:00\", \"2018-11-11T00:00:00\", \"2018-11-12T00:00:00\", \"2018-11-13T00:00:00\", \"2018-11-14T00:00:00\", \"2018-11-15T00:00:00\", \"2018-11-16T00:00:00\", \"2018-11-17T00:00:00\", \"2018-11-18T00:00:00\", \"2018-11-19T00:00:00\", \"2018-11-20T00:00:00\", \"2018-11-21T00:00:00\", \"2018-11-22T00:00:00\", \"2018-11-23T00:00:00\", \"2018-11-24T00:00:00\", \"2018-11-25T00:00:00\", \"2018-11-26T00:00:00\", \"2018-11-27T00:00:00\", \"2018-11-28T00:00:00\", \"2018-11-29T00:00:00\", \"2018-11-30T00:00:00\", \"2018-12-01T00:00:00\", \"2018-12-02T00:00:00\", \"2018-12-03T00:00:00\", \"2018-12-04T00:00:00\", \"2018-12-05T00:00:00\", \"2018-12-06T00:00:00\", \"2018-12-07T00:00:00\", \"2018-12-08T00:00:00\", \"2018-12-09T00:00:00\", \"2018-12-10T00:00:00\", \"2018-12-11T00:00:00\", \"2018-12-12T00:00:00\", \"2018-12-13T00:00:00\", \"2018-12-14T00:00:00\", \"2018-12-15T00:00:00\", \"2018-12-16T00:00:00\", \"2018-12-17T00:00:00\", \"2018-12-18T00:00:00\", \"2018-12-19T00:00:00\", \"2018-12-20T00:00:00\", \"2018-12-21T00:00:00\", \"2018-12-22T00:00:00\", \"2018-12-23T00:00:00\", \"2018-12-24T00:00:00\", \"2018-12-25T00:00:00\", \"2018-12-26T00:00:00\", \"2018-12-27T00:00:00\", \"2018-12-28T00:00:00\", \"2018-12-29T00:00:00\", \"2018-12-30T00:00:00\", \"2018-12-31T00:00:00\", \"2019-01-01T00:00:00\", \"2019-01-02T00:00:00\", \"2019-01-03T00:00:00\", \"2019-01-04T00:00:00\", \"2019-01-05T00:00:00\", \"2019-01-06T00:00:00\", \"2019-01-07T00:00:00\", \"2019-01-08T00:00:00\", \"2019-01-09T00:00:00\", \"2019-01-10T00:00:00\", \"2019-01-11T00:00:00\", \"2019-01-12T00:00:00\", \"2019-01-13T00:00:00\", \"2019-01-14T00:00:00\", \"2019-01-15T00:00:00\", \"2019-01-16T00:00:00\", \"2019-01-17T00:00:00\", \"2019-01-18T00:00:00\", \"2019-01-19T00:00:00\", \"2019-01-20T00:00:00\", \"2019-01-21T00:00:00\", \"2019-01-22T00:00:00\", \"2019-01-23T00:00:00\", \"2019-01-24T00:00:00\", \"2019-01-25T00:00:00\", \"2019-01-26T00:00:00\", \"2019-01-27T00:00:00\", \"2019-01-28T00:00:00\", \"2019-01-29T00:00:00\", \"2019-01-30T00:00:00\", \"2019-01-31T00:00:00\", \"2019-02-01T00:00:00\", \"2019-02-02T00:00:00\", \"2019-02-03T00:00:00\", \"2019-02-04T00:00:00\", \"2019-02-05T00:00:00\", \"2019-02-06T00:00:00\", \"2019-02-07T00:00:00\", \"2019-02-08T00:00:00\", \"2019-02-09T00:00:00\", \"2019-02-10T00:00:00\", \"2019-02-11T00:00:00\", \"2019-02-12T00:00:00\", \"2019-02-13T00:00:00\", \"2019-02-14T00:00:00\", \"2019-02-15T00:00:00\", \"2019-02-16T00:00:00\", \"2019-02-17T00:00:00\", \"2019-02-18T00:00:00\", \"2019-02-19T00:00:00\", \"2019-02-20T00:00:00\", \"2019-02-21T00:00:00\", \"2019-02-22T00:00:00\", \"2019-02-23T00:00:00\", \"2019-02-24T00:00:00\", \"2019-02-25T00:00:00\", \"2019-02-26T00:00:00\", \"2019-02-27T00:00:00\", \"2019-02-28T00:00:00\", \"2019-03-01T00:00:00\", \"2019-03-02T00:00:00\", \"2019-03-03T00:00:00\", \"2019-03-04T00:00:00\", \"2019-03-05T00:00:00\", \"2019-03-06T00:00:00\", \"2019-03-07T00:00:00\", \"2019-03-08T00:00:00\", \"2019-03-09T00:00:00\", \"2019-03-10T00:00:00\", \"2019-03-11T00:00:00\", \"2019-03-12T00:00:00\", \"2019-03-13T00:00:00\", \"2019-03-14T00:00:00\", \"2019-03-15T00:00:00\", \"2019-03-16T00:00:00\", \"2019-03-17T00:00:00\", \"2019-03-18T00:00:00\", \"2019-03-19T00:00:00\", \"2019-03-20T00:00:00\", \"2019-03-21T00:00:00\", \"2019-03-22T00:00:00\", \"2019-03-23T00:00:00\", \"2019-03-24T00:00:00\", \"2019-03-25T00:00:00\", \"2019-03-26T00:00:00\", \"2019-03-27T00:00:00\", \"2019-03-28T00:00:00\", \"2019-03-29T00:00:00\", \"2019-03-30T00:00:00\", \"2019-03-31T00:00:00\", \"2019-04-01T00:00:00\", \"2019-04-02T00:00:00\", \"2019-04-03T00:00:00\", \"2019-04-04T00:00:00\", \"2019-04-05T00:00:00\", \"2019-04-06T00:00:00\", \"2019-04-07T00:00:00\", \"2019-04-08T00:00:00\", \"2019-04-09T00:00:00\", \"2019-04-10T00:00:00\", \"2019-04-11T00:00:00\", \"2019-04-12T00:00:00\", \"2019-04-13T00:00:00\", \"2019-04-14T00:00:00\", \"2019-04-15T00:00:00\", \"2019-04-16T00:00:00\", \"2019-04-17T00:00:00\", \"2019-04-18T00:00:00\", \"2019-04-19T00:00:00\", \"2019-04-20T00:00:00\", \"2019-04-21T00:00:00\", \"2019-04-22T00:00:00\", \"2019-04-23T00:00:00\", \"2019-04-24T00:00:00\", \"2019-04-25T00:00:00\", \"2019-04-26T00:00:00\", \"2019-04-27T00:00:00\", \"2019-04-28T00:00:00\", \"2019-04-29T00:00:00\", \"2019-04-30T00:00:00\", \"2019-05-01T00:00:00\", \"2019-05-02T00:00:00\", \"2019-05-03T00:00:00\", \"2019-05-04T00:00:00\", \"2019-05-05T00:00:00\", \"2019-05-06T00:00:00\", \"2019-05-07T00:00:00\", \"2019-05-08T00:00:00\", \"2019-05-09T00:00:00\", \"2019-05-10T00:00:00\", \"2019-05-11T00:00:00\", \"2019-05-12T00:00:00\", \"2019-05-13T00:00:00\", \"2019-05-14T00:00:00\", \"2019-05-15T00:00:00\", \"2019-05-16T00:00:00\", \"2019-05-17T00:00:00\", \"2019-05-18T00:00:00\", \"2019-05-19T00:00:00\", \"2019-05-20T00:00:00\", \"2019-05-21T00:00:00\", \"2019-05-22T00:00:00\", \"2019-05-23T00:00:00\", \"2019-05-24T00:00:00\", \"2019-05-25T00:00:00\", \"2019-05-26T00:00:00\", \"2019-05-27T00:00:00\", \"2019-05-28T00:00:00\", \"2019-05-29T00:00:00\", \"2019-05-30T00:00:00\", \"2019-05-31T00:00:00\", \"2019-06-01T00:00:00\", \"2019-06-02T00:00:00\", \"2019-06-03T00:00:00\", \"2019-06-04T00:00:00\", \"2019-06-05T00:00:00\", \"2019-06-06T00:00:00\", \"2019-06-07T00:00:00\", \"2019-06-08T00:00:00\", \"2019-06-09T00:00:00\", \"2019-06-10T00:00:00\", \"2019-06-11T00:00:00\", \"2019-06-12T00:00:00\", \"2019-06-13T00:00:00\", \"2019-06-14T00:00:00\", \"2019-06-15T00:00:00\", \"2019-06-16T00:00:00\", \"2019-06-17T00:00:00\", \"2019-06-18T00:00:00\", \"2019-06-19T00:00:00\", \"2019-06-20T00:00:00\", \"2019-06-21T00:00:00\", \"2019-06-22T00:00:00\", \"2019-06-23T00:00:00\", \"2019-06-24T00:00:00\", \"2019-06-25T00:00:00\", \"2019-06-26T00:00:00\", \"2019-06-27T00:00:00\", \"2019-06-28T00:00:00\", \"2019-06-29T00:00:00\", \"2019-06-30T00:00:00\", \"2019-07-01T00:00:00\", \"2019-07-02T00:00:00\", \"2019-07-03T00:00:00\", \"2019-07-04T00:00:00\", \"2019-07-05T00:00:00\", \"2019-07-06T00:00:00\", \"2019-07-07T00:00:00\", \"2019-07-08T00:00:00\", \"2019-07-09T00:00:00\", \"2019-07-10T00:00:00\", \"2019-07-11T00:00:00\", \"2019-07-12T00:00:00\", \"2019-07-13T00:00:00\", \"2019-07-14T00:00:00\", \"2019-07-15T00:00:00\", \"2019-07-16T00:00:00\", \"2019-07-17T00:00:00\", \"2019-07-18T00:00:00\", \"2019-07-19T00:00:00\", \"2019-07-20T00:00:00\", \"2019-07-21T00:00:00\", \"2019-07-22T00:00:00\", \"2019-07-23T00:00:00\", \"2019-07-24T00:00:00\", \"2019-07-25T00:00:00\", \"2019-07-26T00:00:00\", \"2019-07-27T00:00:00\", \"2019-07-28T00:00:00\", \"2019-07-29T00:00:00\", \"2019-07-30T00:00:00\", \"2019-07-31T00:00:00\", \"2019-08-01T00:00:00\", \"2019-08-02T00:00:00\", \"2019-08-03T00:00:00\", \"2019-08-04T00:00:00\", \"2019-08-05T00:00:00\", \"2019-08-06T00:00:00\", \"2019-08-07T00:00:00\", \"2019-08-08T00:00:00\", \"2019-08-09T00:00:00\", \"2019-08-10T00:00:00\", \"2019-08-11T00:00:00\", \"2019-08-12T00:00:00\"], \"y\": [2388.579875026918, 2427.9684659991785, 2517.2731295474427, 2525.030481533539, 2599.7507156856054, 2836.1879163584626, 2815.6476570550403, 2753.8529005284636, 2822.3318758242367, 2853.5689328689464, 2908.2093826491728, 2803.203162824941, 2718.334304215492, 2652.0777526337656, 2357.256514680669, 2449.5949416274575, 2553.747971336364, 2566.839244171188, 2560.43983143381, 2660.8161131263037, 2709.262774126953, 2680.307472814914, 2717.6386948621202, 2658.221192824159, 2557.5211356091204, 2464.2695354434463, 2407.6134393550237, 2533.2306812591446, 2558.798318079778, 2522.5362395351317, 2461.1679175303457, 2444.459859527675, 2527.2491374584724, 2596.4382602645146, 2568.016397467303, 2592.8878899230735, 2543.9857787819433, 2517.9476256752623, 2539.3768544952195, 2456.2747428352313, 2338.340822194898, 2342.1312022202787, 2371.940693979107, 2278.72802977935, 2073.5628102633023, 1939.5702884106022, 2055.7844549045594, 2279.520712782407, 2311.446082644817, 2492.357701698901, 2718.396316200771, 2777.623212342187, 2767.513065632965, 2754.251979292954, 2624.9705053968405, 2499.9815658142197, 2572.4301519580504, 2735.4348812619833, 2717.617881295624, 2677.523874383181, 2760.3648575947736, 2767.4017847791915, 2714.600308113173, 2745.4180116384523, 2824.5567808960022, 3152.1593292312155, 3234.5939754224105, 3304.623349775857, 3415.613025723062, 3343.202894759201, 3391.60627431759, 3505.5231514121256, 3757.5869282825706, 4023.023294753051, 4169.278787363013, 4166.681448916113, 4160.070547056282, 4348.2649799398605, 4233.519978463672, 4060.506371688498, 4068.312584500995, 4021.8486833205106, 3923.7797744639283, 4138.9410379720175, 4178.964682674675, 4354.8466694444605, 4313.760092584753, 4339.887384781217, 4301.370170864653, 4462.131202676006, 4570.986819022317, 4665.125734428626, 4804.9560229816725, 4682.358487406368, 4574.432837462143, 4365.153105590177, 4253.429488814755, 4527.267692532989, 4578.231760213517, 4481.36444486341, 4288.6184819323435, 4181.365955245373, 4208.536624161478, 4253.4732015273785, 3931.875251850797, 3622.01227613208, 3408.9955307468667, 3695.034440468479, 3631.6292829969984, 3943.0140681192147, 3965.1630083214022, 3936.9847713393533, 3790.0314953461375, 3624.2754147714836, 3713.7802663025154, 3694.724356950307, 3823.581782051079, 3916.490113846318, 4031.8800120503074, 4186.127557984337, 4146.1524338919935, 4266.653151633268, 4294.191137692327, 4392.689783427268, 4307.036473870801, 4251.624157385725, 4255.969290892179, 4362.285542434008, 4351.766194373002, 4492.445518670854, 4641.586757859631, 4810.964829462019, 4788.16830930058, 5113.9988639305, 5618.698192864294, 5671.165188057461, 5615.7780484407385, 5668.7067663488, 5628.350901328305, 5399.987910540806, 5660.104544640417, 5787.817870493002, 6069.485534638142, 5911.870777254555, 5870.084034181252, 5662.357393130186, 5548.637295299297, 5828.039592510038, 5821.26110229157, 5751.281359885549, 5880.988306594645, 6117.301185471419, 6237.256033302716, 6496.283271467, 6953.447821286792, 7237.280695951408, 7256.4526912001875, 7456.506282456426, 7231.763107407978, 7096.779894573889, 7388.126583247378, 7245.375867211653, 6959.2629550046995, 6559.140109188551, 6110.301088582153, 6347.096640276897, 6593.79128198939, 7040.667457799413, 7453.795907976661, 7822.915901927729, 7694.321401686762, 7823.264398731986, 8088.767968120852, 8153.317809825473, 8190.625125105522, 8169.710291088275, 8165.570673970841, 8425.346969160328, 8977.075194014049, 9560.699031987531, 9823.511356503479, 10401.855882992206, 9888.439198611464, 10201.016837224217, 10946.077214827099, 11298.898196288861, 11340.006387503654, 11645.740126856103, 12573.30138642704, 14765.59582349784, 15436.869811658096, 14810.959005975395, 14125.449165541724, 16191.061360481477, 16721.880371703217, 16548.102574347813, 16321.984622243297, 17371.207942450794, 18183.892171615647, 19198.052540253873, 18726.44952749519, 18327.857924666634, 16829.325520586466, 16212.882202172614, 13745.19626153647, 14762.518778666714, 13656.605814690553, 13966.465464005307, 15250.631439961218, 15578.790892066116, 14251.978830251372, 14542.9919404017, 13212.907356386828, 13336.410641043156, 13413.135653552159, 13870.54325970443, 14972.25107991147, 14819.971463123731, 15775.43025854663, 16668.209201147223, 16509.2976338817, 15308.103830968872, 14862.409662438748, 14193.671775732371, 13708.192035411064, 13667.544001859975, 14227.27540953617, 13692.42379440366, 13831.064862786983, 12158.329737876424, 10679.413685353284, 11497.8401897297, 11521.551976873094, 12469.476816535212, 11884.298083473603, 11134.722996853474, 10722.82279042149, 11017.444309189503, 11284.658094563041, 11025.590039321549, 11233.831171763315, 11658.2831800494, 11284.155099287165, 10634.5518299176, 9985.21303109883, 9503.137920333884, 8555.571022577102, 8918.652718697549, 8720.731917698728, 7613.357319058523, 6835.250590665179, 7916.4227313594465, 8213.99023569132, 8257.954342718343, 8658.663492937374, 8182.941388618236, 8622.827941962221, 8607.047605631098, 9015.94872421616, 9804.812803115097, 10032.05927683427, 10675.555116754307, 10727.44976187261, 10870.09027315917, 11484.090398904804, 10787.253898420031, 10271.930847607025, 10009.572874038047, 9921.702075342719, 9597.969866447596, 9910.781644422184, 10551.084976422584, 10628.504487262764, 10648.173477607948, 10983.927273525116, 11330.099785205703, 11245.180815845708, 11514.327297652942, 11026.46644675543, 10392.941910627891, 9710.346149344035, 8907.177545229804, 9241.660429625686, 9065.597061183676, 9438.331000266371, 9150.005524932201, 8771.4214557844, 8107.943345443022, 8316.36684162075, 8075.447778990482, 7674.4894981759535, 8350.691476379186, 8624.244468620112, 8982.241984275608, 8796.119915854159, 8527.020808878759, 8864.883934618647, 8527.779441496103, 8207.455101486608, 7960.166496592872, 7917.944196184737, 7524.864656753012, 6888.6579280726555, 7009.503404720789, 6799.282042740652, 6978.40792307537, 7329.239994146742, 7078.177931598886, 6757.948724415294, 6648.184983253715, 6893.843376126852, 6982.530141102855, 6895.544079682092, 6770.222355461926, 6879.289976711666, 7339.149089088701, 7989.141996432903, 8012.004232638982, 8211.811688154177, 8077.218788716056, 8041.902761107214, 8060.00925946473, 8209.958060980509, 8440.981833588852, 8803.454200452989, 8883.650882090516, 8897.47554174651, 9314.626351817591, 9217.28766862342, 8886.601245115793, 9228.635673789164, 9228.836829641514, 9351.316329714895, 9287.82589400281, 8984.662200602163, 9119.531214623603, 9378.413413684439, 9658.743558042868, 9831.29581333134, 9622.87895338868, 9336.75605021737, 9258.555372339571, 9186.464551989597, 9252.624044592803, 8690.821474489898, 8418.775460460372, 8547.051292112083, 8588.814774641643, 8642.816049048723, 8281.541513782111, 8271.908490868029, 8100.480455852627, 8257.334534537387, 8370.237306862742, 8449.860266125288, 8232.905048870885, 7784.646024824595, 7535.274208072432, 7493.417100832233, 7499.147834543186, 7323.030615081221, 7262.332702492214, 7296.884117829091, 7425.349503603963, 7497.9972135412645, 7479.947903211972, 7597.242334763985, 7696.225154564304, 7572.801975719298, 7503.242457335357, 7605.9439196896, 7694.38175611741, 7637.867801745429, 7634.122175258751, 7130.518701570195, 6759.777325672938, 6754.010007057156, 6434.30410008779, 6501.358582469683, 6549.002444132028, 6461.787661649038, 6510.29914591979, 6529.356700108128, 6724.676617009279, 6682.958971719275, 6733.271572205092, 6357.43915006895, 6138.968542695796, 6022.359808726021, 6201.692743527929, 6196.017704859531, 6099.921813574718, 6082.67179335497, 5907.316313219864, 6366.453458717366, 6351.812029308197, 6455.037847866724, 6600.723805125049, 6564.798042628822, 6577.515454379465, 6542.915835881583, 6584.846375500824, 6737.618298992107, 6706.558584380368, 6476.948213424428, 6355.794657709444, 6218.907739830067, 6236.3083853995, 6240.415803066214, 6323.136891380141, 6521.641926867632, 6869.604903161079, 7409.272251444031, 7394.856231043726, 7418.693631156968, 7349.545982388114, 7453.955545487645, 7673.534974926324, 8066.990839367659, 8240.090994749531, 8197.062077416556, 8015.75018803299, 8171.070109336217, 8196.25218934701, 8137.401192689654, 7922.6720300645065, 7569.805207158245, 7594.431973621364, 7396.859288562539, 7245.017244239369, 7001.96900024807, 6989.670163835144, 6993.47077908751, 6444.214273621912, 6397.656734907616, 6389.040317890655, 6188.722230520981, 6303.60004623978, 6349.869859870177, 6061.894414317892, 6375.35042886717, 6346.037240762881, 6468.810814894148, 6444.485109735266, 6397.814756184111, 6444.2214664413395, 6397.665181642328, 6581.466009929816, 6432.758349146019, 6558.073186308505, 6712.472289703769, 6669.957876511778, 6713.548001668823, 6994.494673167058, 7048.5594423870725, 6928.080209289305, 6972.504358652031, 7105.029624422261, 7242.174045326667, 7259.255542658507, 7323.205328052773, 7126.685763293415, 6417.410969901397, 6442.565810843332, 6365.230716367017, 6288.878670602897, 6287.134921908012, 6284.481503264109, 6259.5010866889925, 6445.214549616689, 6496.404562146539, 6517.056502414544, 6487.964068352319, 6401.753182010213, 6302.927706945644, 6338.760179717137, 6413.577934718445, 6661.652772271147, 6708.3091443630465, 6701.3393726091945, 6628.513195861471, 6412.782741937837, 6463.8049132280585, 6518.342339272284, 6664.8983329653165, 6539.426011209876, 6570.823717766029, 6578.148444817976, 6545.887459945879, 6446.535068502914, 6552.9111929432465, 6540.225933523557, 6560.820128646875, 6536.789988648338, 6593.580331132751, 6584.636997881777, 6515.1837933828965, 6213.45462414068, 6204.462834076948, 6199.33632430319, 6227.574779512279, 6367.025889601203, 6436.064384473945, 6433.032185725059, 6427.69878336822, 6389.1699551257725, 6390.363297700282, 6436.197593273851, 6409.563603135302, 6399.807341488838, 6424.260586152408, 6394.43327902804, 6400.6333584982485, 6403.730279587282, 6402.156788155328, 6334.836203108987, 6266.0695810015695, 6275.224097710675, 6312.487078261362, 6351.433460887222, 6333.056017066233, 6365.304937976729, 6406.655448521287, 6410.592072793505, 6508.297844589206, 6444.637087574999, 6360.271702289567, 6359.541610035244, 6337.12385584588, 6348.354437908521, 6285.862343264475, 6024.737379640903, 5498.229001341467, 5527.956199527701, 5480.505915986735, 5537.7962488390385, 5203.282485532735, 4529.7782641100985, 4444.9319848898795, 4465.309618795831, 4249.876698909635, 4203.4884032307455, 3752.7257517902503, 3848.240240776619, 3701.9972502775126, 4054.925999468132, 4224.326667294381, 4070.3447744503483, 4075.7622910031355, 4121.466764092921, 3925.2574777004843, 3903.121354957992, 3801.8540060651994, 3694.1089080555785, 3360.143986786924, 3385.42018062149, 3469.126436557288, 3468.0022707457933, 3367.883253183701, 3399.993329853063, 3361.8130366311507, 3231.7675220552474, 3176.3758031916504, 3216.489042443513, 3334.8259490528703, 3509.9964639061395, 3747.437413785703, 3923.3145898174216, 3977.3141693706807, 3848.116333414556, 3980.1059520687772, 4127.863575401293, 3771.0736101571124, 3779.2780523984998, 3718.9807100177045, 3699.6899630542, 3875.434211378144, 3786.6062766304153, 3758.507535343961, 3700.1589989286103, 3825.0759666177405, 3831.8687308912663, 3785.246155880033, 3837.4376423852254, 3873.290028871832, 4022.3182921830708, 4009.5871022215138, 4010.018086853795, 3798.5046643541955, 3640.7372112395437, 3626.0908042811716, 3576.7479641695604, 3578.6722979920546, 3636.80705946271, 3603.5334259089473, 3601.7209411968206, 3613.499500073069, 3672.5975044411116, 3607.5837514812692, 3533.4848977298557, 3551.267713466976, 3569.143179492548, 3556.5565768670344, 3557.524358547162, 3569.362232966812, 3544.43106406523, 3441.1116648925895, 3397.2663500343424, 3422.361174272552, 3425.123067801499, 3412.94868166132, 3431.153380682849, 3421.9793724599476, 3412.8726668589757, 3422.164650575279, 3370.848962527628, 3365.581928733953, 3450.622008574299, 3613.3759331572596, 3608.8307972556368, 3594.4154488075237, 3577.992386247971, 3582.2018232161768, 3567.5110678464944, 3571.6796272307574, 3588.6368131401996, 3587.481230756235, 3757.2775251751973, 3897.3109790495496, 3907.4489798319532, 3910.567461139906, 3921.757879929301, 3978.254051767013, 3989.3840558385796, 3792.3604892734525, 3802.7563801480114, 3796.099311362144, 3809.2863998334024, 3813.80306767851, 3805.137531010286, 3803.5651858349693, 3729.803415668661, 3763.3055329112026, 3836.4946164028142, 3857.412632928716, 3872.9873809873848, 3887.7625566329825, 3893.264071687519, 3862.8506434451606, 3845.419450987623, 3852.173075987897, 3849.2356742388333, 3878.904600831057, 3979.084082726618, 3964.501282410706, 3969.4359861222915, 3978.079449228341, 3996.656188259612, 4001.8988244123366, 3984.3058029204763, 3977.4562552172124, 3973.2621310775166, 3952.599809798565, 3907.8582767771054, 3990.158380121245, 4007.726234447975, 4054.662454516085, 4084.117204650687, 4087.1825682086474, 4127.472849536052, 4644.526551454629, 5034.429685068629, 4972.629944170042, 4976.09159059773, 5041.556662280325, 5125.593964910049, 5238.403657959582, 5225.986450503464, 5278.337127580446, 5129.744769142833, 5046.722705599623, 5082.642339897603, 5079.002829999359, 5122.324701796388, 5101.198097338881, 5217.858365363853, 5268.420653281125, 5257.871743040143, 5312.952363408463, 5287.792472776502, 5315.669943298087, 5524.147530833382, 5488.730642258575, 5428.504302249109, 5148.827548718546, 5164.282742601478, 5167.245228335306, 5155.166913719158, 5197.911831867727, 5303.530555931072, 5361.693713956711, 5617.898712047735, 5693.370196511453, 5724.252005862474, 5653.577273568698, 5860.272253191232, 5843.431195986868, 6049.985820683191, 6284.693176491132, 6809.836589652242, 7146.356662904828, 7411.891923990788, 7991.345516850542, 8052.6918166056785, 7997.282708680078, 7260.913831818574, 7321.203803979215, 7936.027465871303, 7903.518562382391, 7949.423804827691, 7884.617619872401, 7706.522932964075, 7982.693958822212, 8042.122738100573, 8124.238502729698, 8780.865949969679, 8727.446554243415, 8651.423494606908, 8630.369351318359, 8347.266829511442, 8539.267873296127, 8671.632865071273, 8535.774466575853, 7854.008039873766, 7777.741569114814, 7747.5444767322615, 7932.169400817339, 7932.582029800513, 7797.117053089315, 7818.404959499802, 7896.1862660215675, 8030.113864961869, 8167.772259218201, 8357.630161613926, 8734.370279825303, 9088.182798893562, 9240.188639823475, 9149.011119369721, 9141.752090127358, 9351.190913460865, 9805.21859790916, 10709.96439424137, 10755.204157622937, 10848.221944076702, 11319.35357708263, 12637.185919081834, 11806.175945810355, 11682.922281145356, 11846.503206750576, 11545.799238258365, 10688.699035959778, 10308.510706661757, 11338.425411637678, 11759.408419183635, 11138.59051734004, 11422.273073500746, 11299.619431245696, 11785.484753686773, 12519.053579098761, 12661.438396504569, 11582.82703564485, 11591.975837374794, 11430.476968674391, 10861.767606566113, 10422.912662258886, 10347.469569231816, 9576.780021542838, 10053.444972032887, 10475.5784795546, 10671.009619079965, 10572.675382923091, 10454.86941738426, 10081.484999730443, 9690.421508630723, 10018.049694573398, 9771.47548157671, 9745.606113901416, 9494.2377504079, 9538.487976844137, 9537.129674814856, 9857.169553511865, 10081.64081663918, 10479.108743740982, 10792.836587081645, 10816.913782693673, 11676.433777501157, 11746.329999977426, 11720.745013322716, 11802.077861789769, 11807.553140900867, 11572.162608995552, 11376.378020657192, 11508.034335467182]}],\n",
       "                        {\"height\": 400, \"template\": {\"data\": {\"bar\": [{\"error_x\": {\"color\": \"#2a3f5f\"}, \"error_y\": {\"color\": \"#2a3f5f\"}, \"marker\": {\"line\": {\"color\": \"#E5ECF6\", \"width\": 0.5}}, \"type\": \"bar\"}], \"barpolar\": [{\"marker\": {\"line\": {\"color\": \"#E5ECF6\", \"width\": 0.5}}, \"type\": \"barpolar\"}], \"carpet\": [{\"aaxis\": {\"endlinecolor\": \"#2a3f5f\", \"gridcolor\": \"white\", \"linecolor\": \"white\", \"minorgridcolor\": \"white\", \"startlinecolor\": \"#2a3f5f\"}, \"baxis\": {\"endlinecolor\": \"#2a3f5f\", \"gridcolor\": \"white\", \"linecolor\": \"white\", \"minorgridcolor\": \"white\", \"startlinecolor\": \"#2a3f5f\"}, \"type\": \"carpet\"}], \"choropleth\": [{\"colorbar\": {\"outlinewidth\": 0, \"ticks\": \"\"}, \"type\": \"choropleth\"}], \"contour\": [{\"colorbar\": {\"outlinewidth\": 0, \"ticks\": \"\"}, \"colorscale\": [[0.0, \"#0d0887\"], [0.1111111111111111, \"#46039f\"], [0.2222222222222222, \"#7201a8\"], [0.3333333333333333, \"#9c179e\"], [0.4444444444444444, \"#bd3786\"], [0.5555555555555556, \"#d8576b\"], [0.6666666666666666, \"#ed7953\"], [0.7777777777777778, \"#fb9f3a\"], [0.8888888888888888, \"#fdca26\"], [1.0, \"#f0f921\"]], \"type\": \"contour\"}], \"contourcarpet\": [{\"colorbar\": {\"outlinewidth\": 0, \"ticks\": \"\"}, \"type\": \"contourcarpet\"}], \"heatmap\": [{\"colorbar\": {\"outlinewidth\": 0, \"ticks\": \"\"}, \"colorscale\": [[0.0, \"#0d0887\"], [0.1111111111111111, \"#46039f\"], [0.2222222222222222, \"#7201a8\"], [0.3333333333333333, \"#9c179e\"], [0.4444444444444444, \"#bd3786\"], [0.5555555555555556, \"#d8576b\"], [0.6666666666666666, \"#ed7953\"], [0.7777777777777778, \"#fb9f3a\"], [0.8888888888888888, \"#fdca26\"], [1.0, \"#f0f921\"]], \"type\": \"heatmap\"}], \"heatmapgl\": [{\"colorbar\": {\"outlinewidth\": 0, \"ticks\": \"\"}, \"colorscale\": [[0.0, \"#0d0887\"], [0.1111111111111111, \"#46039f\"], [0.2222222222222222, \"#7201a8\"], [0.3333333333333333, \"#9c179e\"], [0.4444444444444444, \"#bd3786\"], [0.5555555555555556, \"#d8576b\"], [0.6666666666666666, \"#ed7953\"], [0.7777777777777778, \"#fb9f3a\"], [0.8888888888888888, \"#fdca26\"], [1.0, \"#f0f921\"]], \"type\": \"heatmapgl\"}], \"histogram\": [{\"marker\": {\"colorbar\": {\"outlinewidth\": 0, \"ticks\": \"\"}}, \"type\": \"histogram\"}], \"histogram2d\": [{\"colorbar\": {\"outlinewidth\": 0, \"ticks\": \"\"}, \"colorscale\": [[0.0, \"#0d0887\"], [0.1111111111111111, \"#46039f\"], [0.2222222222222222, \"#7201a8\"], [0.3333333333333333, \"#9c179e\"], [0.4444444444444444, \"#bd3786\"], [0.5555555555555556, \"#d8576b\"], [0.6666666666666666, \"#ed7953\"], [0.7777777777777778, \"#fb9f3a\"], [0.8888888888888888, \"#fdca26\"], [1.0, \"#f0f921\"]], \"type\": \"histogram2d\"}], \"histogram2dcontour\": [{\"colorbar\": {\"outlinewidth\": 0, \"ticks\": \"\"}, \"colorscale\": [[0.0, \"#0d0887\"], [0.1111111111111111, \"#46039f\"], [0.2222222222222222, \"#7201a8\"], [0.3333333333333333, \"#9c179e\"], [0.4444444444444444, \"#bd3786\"], [0.5555555555555556, \"#d8576b\"], [0.6666666666666666, \"#ed7953\"], [0.7777777777777778, \"#fb9f3a\"], [0.8888888888888888, \"#fdca26\"], [1.0, \"#f0f921\"]], \"type\": \"histogram2dcontour\"}], \"mesh3d\": [{\"colorbar\": {\"outlinewidth\": 0, \"ticks\": \"\"}, \"type\": \"mesh3d\"}], \"parcoords\": [{\"line\": {\"colorbar\": {\"outlinewidth\": 0, \"ticks\": \"\"}}, \"type\": \"parcoords\"}], \"scatter\": [{\"marker\": {\"colorbar\": {\"outlinewidth\": 0, \"ticks\": \"\"}}, \"type\": \"scatter\"}], \"scatter3d\": [{\"line\": {\"colorbar\": {\"outlinewidth\": 0, \"ticks\": \"\"}}, \"marker\": {\"colorbar\": {\"outlinewidth\": 0, \"ticks\": \"\"}}, \"type\": \"scatter3d\"}], \"scattercarpet\": [{\"marker\": {\"colorbar\": {\"outlinewidth\": 0, \"ticks\": \"\"}}, \"type\": \"scattercarpet\"}], \"scattergeo\": [{\"marker\": {\"colorbar\": {\"outlinewidth\": 0, \"ticks\": \"\"}}, \"type\": \"scattergeo\"}], \"scattergl\": [{\"marker\": {\"colorbar\": {\"outlinewidth\": 0, \"ticks\": \"\"}}, \"type\": \"scattergl\"}], \"scattermapbox\": [{\"marker\": {\"colorbar\": {\"outlinewidth\": 0, \"ticks\": \"\"}}, \"type\": \"scattermapbox\"}], \"scatterpolar\": [{\"marker\": {\"colorbar\": {\"outlinewidth\": 0, \"ticks\": \"\"}}, \"type\": \"scatterpolar\"}], \"scatterpolargl\": [{\"marker\": {\"colorbar\": {\"outlinewidth\": 0, \"ticks\": \"\"}}, \"type\": \"scatterpolargl\"}], \"scatterternary\": [{\"marker\": {\"colorbar\": {\"outlinewidth\": 0, \"ticks\": \"\"}}, \"type\": \"scatterternary\"}], \"surface\": [{\"colorbar\": {\"outlinewidth\": 0, \"ticks\": \"\"}, \"colorscale\": [[0.0, \"#0d0887\"], [0.1111111111111111, \"#46039f\"], [0.2222222222222222, \"#7201a8\"], [0.3333333333333333, \"#9c179e\"], [0.4444444444444444, \"#bd3786\"], [0.5555555555555556, \"#d8576b\"], [0.6666666666666666, \"#ed7953\"], [0.7777777777777778, \"#fb9f3a\"], [0.8888888888888888, \"#fdca26\"], [1.0, \"#f0f921\"]], \"type\": \"surface\"}], \"table\": [{\"cells\": {\"fill\": {\"color\": \"#EBF0F8\"}, \"line\": {\"color\": \"white\"}}, \"header\": {\"fill\": {\"color\": \"#C8D4E3\"}, \"line\": {\"color\": \"white\"}}, \"type\": \"table\"}]}, \"layout\": {\"annotationdefaults\": {\"arrowcolor\": \"#2a3f5f\", \"arrowhead\": 0, \"arrowwidth\": 1}, \"colorscale\": {\"diverging\": [[0, \"#8e0152\"], [0.1, \"#c51b7d\"], [0.2, \"#de77ae\"], [0.3, \"#f1b6da\"], [0.4, \"#fde0ef\"], [0.5, \"#f7f7f7\"], [0.6, \"#e6f5d0\"], [0.7, \"#b8e186\"], [0.8, \"#7fbc41\"], [0.9, \"#4d9221\"], [1, \"#276419\"]], \"sequential\": [[0.0, \"#0d0887\"], [0.1111111111111111, \"#46039f\"], [0.2222222222222222, \"#7201a8\"], [0.3333333333333333, \"#9c179e\"], [0.4444444444444444, \"#bd3786\"], [0.5555555555555556, \"#d8576b\"], [0.6666666666666666, \"#ed7953\"], [0.7777777777777778, \"#fb9f3a\"], [0.8888888888888888, \"#fdca26\"], [1.0, \"#f0f921\"]], \"sequentialminus\": [[0.0, \"#0d0887\"], [0.1111111111111111, \"#46039f\"], [0.2222222222222222, \"#7201a8\"], [0.3333333333333333, \"#9c179e\"], [0.4444444444444444, \"#bd3786\"], [0.5555555555555556, \"#d8576b\"], [0.6666666666666666, \"#ed7953\"], [0.7777777777777778, \"#fb9f3a\"], [0.8888888888888888, \"#fdca26\"], [1.0, \"#f0f921\"]]}, \"colorway\": [\"#636efa\", \"#EF553B\", \"#00cc96\", \"#ab63fa\", \"#FFA15A\", \"#19d3f3\", \"#FF6692\", \"#B6E880\", \"#FF97FF\", \"#FECB52\"], \"font\": {\"color\": \"#2a3f5f\"}, \"geo\": {\"bgcolor\": \"white\", \"lakecolor\": \"white\", \"landcolor\": \"#E5ECF6\", \"showlakes\": true, \"showland\": true, \"subunitcolor\": \"white\"}, \"hoverlabel\": {\"align\": \"left\"}, \"hovermode\": \"closest\", \"mapbox\": {\"style\": \"light\"}, \"paper_bgcolor\": \"white\", \"plot_bgcolor\": \"#E5ECF6\", \"polar\": {\"angularaxis\": {\"gridcolor\": \"white\", \"linecolor\": \"white\", \"ticks\": \"\"}, \"bgcolor\": \"#E5ECF6\", \"radialaxis\": {\"gridcolor\": \"white\", \"linecolor\": \"white\", \"ticks\": \"\"}}, \"scene\": {\"xaxis\": {\"backgroundcolor\": \"#E5ECF6\", \"gridcolor\": \"white\", \"gridwidth\": 2, \"linecolor\": \"white\", \"showbackground\": true, \"ticks\": \"\", \"zerolinecolor\": \"white\"}, \"yaxis\": {\"backgroundcolor\": \"#E5ECF6\", \"gridcolor\": \"white\", \"gridwidth\": 2, \"linecolor\": \"white\", \"showbackground\": true, \"ticks\": \"\", \"zerolinecolor\": \"white\"}, \"zaxis\": {\"backgroundcolor\": \"#E5ECF6\", \"gridcolor\": \"white\", \"gridwidth\": 2, \"linecolor\": \"white\", \"showbackground\": true, \"ticks\": \"\", \"zerolinecolor\": \"white\"}}, \"shapedefaults\": {\"line\": {\"color\": \"#2a3f5f\"}}, \"ternary\": {\"aaxis\": {\"gridcolor\": \"white\", \"linecolor\": \"white\", \"ticks\": \"\"}, \"baxis\": {\"gridcolor\": \"white\", \"linecolor\": \"white\", \"ticks\": \"\"}, \"bgcolor\": \"#E5ECF6\", \"caxis\": {\"gridcolor\": \"white\", \"linecolor\": \"white\", \"ticks\": \"\"}}, \"title\": {\"x\": 0.05}, \"xaxis\": {\"automargin\": true, \"gridcolor\": \"white\", \"linecolor\": \"white\", \"ticks\": \"\", \"zerolinecolor\": \"white\", \"zerolinewidth\": 2}, \"yaxis\": {\"automargin\": true, \"gridcolor\": \"white\", \"linecolor\": \"white\", \"ticks\": \"\", \"zerolinecolor\": \"white\", \"zerolinewidth\": 2}}}, \"title\": {\"text\": \"Random walk prediction\"}, \"width\": 550, \"xaxis\": {\"range\": [\"2017-06-01\", \"2018-12-31\"], \"title\": {\"text\": \"timestamp\"}}, \"yaxis\": {\"title\": {\"text\": \"Price /USD\"}}},\n",
       "                        {\"responsive\": true}\n",
       "                    ).then(function(){\n",
       "                            \n",
       "var gd = document.getElementById('2d901c02-c2ec-44c2-b9b8-860a010831ba');\n",
       "var x = new MutationObserver(function (mutations, observer) {{\n",
       "        var display = window.getComputedStyle(gd).display;\n",
       "        if (!display || display === 'none') {{\n",
       "            console.log([gd, 'removed!']);\n",
       "            Plotly.purge(gd);\n",
       "            observer.disconnect();\n",
       "        }}\n",
       "}});\n",
       "\n",
       "// Listen for the removal of the full notebook cells\n",
       "var notebookContainer = gd.closest('#notebook-container');\n",
       "if (notebookContainer) {{\n",
       "    x.observe(notebookContainer, {childList: true});\n",
       "}}\n",
       "\n",
       "// Listen for the clearing of the current output cell\n",
       "var outputEl = gd.closest('.output');\n",
       "if (outputEl) {{\n",
       "    x.observe(outputEl, {childList: true});\n",
       "}}\n",
       "\n",
       "                        })\n",
       "                };\n",
       "                });\n",
       "            </script>\n",
       "        </div>"
      ]
     },
     "metadata": {},
     "output_type": "display_data"
    }
   ],
   "source": [
    "split_date = '2017-06-01'\n",
    "import datetime\n",
    "np.random.seed(202)\n",
    "bt_r_walk_mean, bt_r_walk_sd = (df_bitstamp[df_bitstamp['Timestamp']< split_date]['day_diff']).mean(), \\\n",
    "                         (df_bitstamp[df_bitstamp['Timestamp']< split_date]['day_diff']).std()\n",
    "bt_random_steps = np.random.normal(loc = bt_r_walk_mean, scale = bt_r_walk_sd, \n",
    "                size = (max(df_bitstamp['Timestamp']).to_pydatetime() - datetime.datetime.strptime(split_date, '%Y-%m-%d')).days + 1)\n",
    "\n",
    "trace_0 = go.Scatter(x = df_bitstamp[df_bitstamp['Timestamp']>= split_date]['Timestamp'],\n",
    "                   y = df_bitstamp[df_bitstamp['Timestamp']>= split_date]['Close'],\n",
    "                   mode = \"lines\",\n",
    "                   name = \"Actual\",\n",
    "                   marker = dict(color = 'rgba(235, 115, 150, 0.5)')\n",
    "                       )\n",
    "\n",
    "trace_1 = go.Scatter(x = df_bitstamp[df_bitstamp['Timestamp']>= split_date]['Timestamp'],\n",
    "                   y = df_bitstamp[(df_bitstamp['Timestamp']+ datetime.timedelta(days=1))>= split_date]['Close'].values[1:] * (1+bt_random_steps),\n",
    "                   mode = \"lines\",\n",
    "                   name = \"Predict\",\n",
    "                   marker = dict(color = 'rgba(115, 120, 235, 0.5)')\n",
    "                       )\n",
    "\n",
    "data_3 = [trace_0, trace_1]\n",
    "layout_3 = go.Layout(height=400, width=550,\n",
    "                title='Random walk prediction', \n",
    "                xaxis_title=\"timestamp\",\n",
    "                yaxis_title=\"Price /USD\", \n",
    "                     xaxis=dict(range=['2017-06-01', '2018-12-31']))\n",
    "\n",
    "fig = dict(data = data_3, layout = layout_3)\n",
    "iplot(fig);\n"
   ]
  },
  {
   "cell_type": "markdown",
   "metadata": {},
   "source": [
    "The prediction line tracks very closely the actual price, since at each new time point, the value follows the true price and the random step is added for prediction. Meaning that errors aren't carried over to subsequent predictions, no matter how large the error is. \n",
    "\n",
    "The Bitcoin random walk is particularly deceptive, as the scale of the y-axis is quite wide, making the prediction line appear quite smooth."
   ]
  },
  {
   "cell_type": "markdown",
   "metadata": {},
   "source": [
    "### Price prediction with Long Short Term Memory (LSTM)\n",
    "For the Bitcoin's price prediction, we're going to utilize a Long Short Term Memory (LSTM) model which is known to suit time-series data.(Theory behind LSTMs: [1](http://colah.github.io/posts/2015-08-Understanding-LSTMs/), [2](http://blog.echen.me/2017/05/30/exploring-lstms/), [3](http://www.bioinf.jku.at/publications/older/2604.pdf))\n",
    "Our LSTM model will use previous data to predict the next day's closing price.\n",
    "<br>We'll create a new dataframe called model_data.\n",
    "<br>The close_off_high represents the gap between the closing price and price high for that day. When High price equals to Close price, the value is -1. When Close price equals to Low price, the value is 1. \n",
    "<br>The volatility columns are simply the difference between high and low price divided by the opening price. "
   ]
  },
  {
   "cell_type": "code",
   "execution_count": 23,
   "metadata": {},
   "outputs": [],
   "source": [
    "# add close_off_high, bt_volatility\n",
    "kwargs = {'close_off_high': lambda x: 2*(x['High']- x['Close'])/(x['High']-x['Low'])-1,\n",
    "          'volatility': lambda x: (x['High']- x['Low'])/(x['Open'])}\n",
    "model_data = df_bitstamp.assign(**kwargs)"
   ]
  },
  {
   "cell_type": "code",
   "execution_count": 24,
   "metadata": {},
   "outputs": [],
   "source": [
    "# re-order model_data by the timestamp\n",
    "model_data = model_data.sort_values(by='Timestamp')"
   ]
  },
  {
   "cell_type": "markdown",
   "metadata": {},
   "source": [
    "Remove open price, Timestamp, Volume_(Currency), daily highs and lows."
   ]
  },
  {
   "cell_type": "code",
   "execution_count": 25,
   "metadata": {},
   "outputs": [],
   "source": [
    "# drop columns\n",
    "model_data = model_data[['Timestamp','Close','Volume_(BTC)','close_off_high','volatility']]"
   ]
  },
  {
   "cell_type": "code",
   "execution_count": 26,
   "metadata": {
    "scrolled": true
   },
   "outputs": [],
   "source": [
    "# drop all the nulls model_data the data frame \n",
    "# (LSTM model would not work if there is null in the data)\n",
    "model_data.dropna(inplace=True)"
   ]
  },
  {
   "cell_type": "code",
   "execution_count": 27,
   "metadata": {},
   "outputs": [],
   "source": [
    "# split data frame to training/test data　\n",
    "training_set, test_set = model_data[model_data['Timestamp']<split_date], model_data[model_data['Timestamp']>=split_date]\n",
    "training_set = training_set.drop('Timestamp', axis=1)\n",
    "test_set = test_set.drop('Timestamp', axis=1)"
   ]
  },
  {
   "cell_type": "markdown",
   "metadata": {},
   "source": [
    "Since the dataset is arranged in order of earliest to latest. The timestamp column is not needed anymore. \n",
    "\n",
    "We must decide how many previous days it will have access to. We'll use 10 days, as it's a nice round number. We build little data frames consisting of 10 consecutive days of data (called windows), so the first window will consist of the 0-9th rows of the training set (Python is zero-indexed), the second will be the rows 1-10, etc. Picking a small window size means we can feed more windows into our model.\n",
    "\n",
    "Deep learning models don't like inputs that vary wildly. Typically, you want values between -1 and 1. We'll normalise the inputs to the first value in the window."
   ]
  },
  {
   "cell_type": "code",
   "execution_count": 28,
   "metadata": {},
   "outputs": [],
   "source": [
    "# normalization of 'Close','Volume_(BTC)'\n",
    "window_len = 10\n",
    "norm_cols = [['Close','Volume_(BTC)']]\n",
    "LSTM_training_inputs = []\n",
    "for i in range(len(training_set)-window_len):\n",
    "    temp_set = training_set[i:(i+window_len)].copy()\n",
    "    for col in norm_cols:\n",
    "        # deviding all the values in the columns by the value of the first row\n",
    "        temp_set.loc[:, col] = temp_set[col]/temp_set[col].iloc[0] - 1\n",
    "    LSTM_training_inputs.append(temp_set)\n",
    "LSTM_training_outputs = (training_set['Close'][window_len:].values/training_set['Close'][:-window_len].values)-1"
   ]
  },
  {
   "cell_type": "code",
   "execution_count": 29,
   "metadata": {},
   "outputs": [],
   "source": [
    "LSTM_test_inputs = []\n",
    "for i in range(len(test_set)-window_len):\n",
    "    temp_set = test_set[i:(i+window_len)].copy()\n",
    "    for col in norm_cols:\n",
    "        temp_set.loc[:, col] = temp_set[col]/temp_set[col].iloc[0] - 1 \n",
    "    LSTM_test_inputs.append(temp_set)\n",
    "LSTM_test_outputs = (test_set['Close'][window_len:].values/test_set['Close'][:-window_len].values)-1"
   ]
  },
  {
   "cell_type": "code",
   "execution_count": 30,
   "metadata": {},
   "outputs": [
    {
     "data": {
      "text/html": [
       "<div>\n",
       "<style scoped>\n",
       "    .dataframe tbody tr th:only-of-type {\n",
       "        vertical-align: middle;\n",
       "    }\n",
       "\n",
       "    .dataframe tbody tr th {\n",
       "        vertical-align: top;\n",
       "    }\n",
       "\n",
       "    .dataframe thead th {\n",
       "        text-align: right;\n",
       "    }\n",
       "</style>\n",
       "<table border=\"1\" class=\"dataframe\">\n",
       "  <thead>\n",
       "    <tr style=\"text-align: right;\">\n",
       "      <th></th>\n",
       "      <th>Close</th>\n",
       "      <th>Volume_(BTC)</th>\n",
       "      <th>close_off_high</th>\n",
       "      <th>volatility</th>\n",
       "    </tr>\n",
       "  </thead>\n",
       "  <tbody>\n",
       "    <tr>\n",
       "      <th>0</th>\n",
       "      <td>0.000000</td>\n",
       "      <td>0.000000</td>\n",
       "      <td>-1.000000</td>\n",
       "      <td>0.000016</td>\n",
       "    </tr>\n",
       "    <tr>\n",
       "      <th>4</th>\n",
       "      <td>0.169052</td>\n",
       "      <td>1.268754</td>\n",
       "      <td>-1.000000</td>\n",
       "      <td>0.010049</td>\n",
       "    </tr>\n",
       "    <tr>\n",
       "      <th>5</th>\n",
       "      <td>0.371659</td>\n",
       "      <td>-0.167266</td>\n",
       "      <td>-1.000000</td>\n",
       "      <td>0.002965</td>\n",
       "    </tr>\n",
       "    <tr>\n",
       "      <th>6</th>\n",
       "      <td>0.464819</td>\n",
       "      <td>-0.512264</td>\n",
       "      <td>-1.000000</td>\n",
       "      <td>0.003141</td>\n",
       "    </tr>\n",
       "    <tr>\n",
       "      <th>9</th>\n",
       "      <td>0.494732</td>\n",
       "      <td>-0.631366</td>\n",
       "      <td>1.000000</td>\n",
       "      <td>0.004134</td>\n",
       "    </tr>\n",
       "    <tr>\n",
       "      <th>11</th>\n",
       "      <td>0.566810</td>\n",
       "      <td>-0.510114</td>\n",
       "      <td>-1.000000</td>\n",
       "      <td>0.000403</td>\n",
       "    </tr>\n",
       "    <tr>\n",
       "      <th>13</th>\n",
       "      <td>0.513384</td>\n",
       "      <td>-0.869066</td>\n",
       "      <td>-0.591148</td>\n",
       "      <td>0.002740</td>\n",
       "    </tr>\n",
       "    <tr>\n",
       "      <th>14</th>\n",
       "      <td>0.429561</td>\n",
       "      <td>-0.804193</td>\n",
       "      <td>1.000000</td>\n",
       "      <td>0.012580</td>\n",
       "    </tr>\n",
       "    <tr>\n",
       "      <th>17</th>\n",
       "      <td>0.545032</td>\n",
       "      <td>-0.540842</td>\n",
       "      <td>1.000000</td>\n",
       "      <td>0.000030</td>\n",
       "    </tr>\n",
       "    <tr>\n",
       "      <th>18</th>\n",
       "      <td>0.465353</td>\n",
       "      <td>-0.263106</td>\n",
       "      <td>-0.985697</td>\n",
       "      <td>0.003568</td>\n",
       "    </tr>\n",
       "  </tbody>\n",
       "</table>\n",
       "</div>"
      ],
      "text/plain": [
       "       Close  Volume_(BTC)  close_off_high  volatility\n",
       "0   0.000000      0.000000       -1.000000    0.000016\n",
       "4   0.169052      1.268754       -1.000000    0.010049\n",
       "5   0.371659     -0.167266       -1.000000    0.002965\n",
       "6   0.464819     -0.512264       -1.000000    0.003141\n",
       "9   0.494732     -0.631366        1.000000    0.004134\n",
       "11  0.566810     -0.510114       -1.000000    0.000403\n",
       "13  0.513384     -0.869066       -0.591148    0.002740\n",
       "14  0.429561     -0.804193        1.000000    0.012580\n",
       "17  0.545032     -0.540842        1.000000    0.000030\n",
       "18  0.465353     -0.263106       -0.985697    0.003568"
      ]
     },
     "execution_count": 30,
     "metadata": {},
     "output_type": "execute_result"
    }
   ],
   "source": [
    "LSTM_training_inputs[0]"
   ]
  },
  {
   "cell_type": "markdown",
   "metadata": {},
   "source": [
    "This table represents an example of our LSTM model input. The next table contains the next 10 days's dataset, meaning that it's single timepoint prediction. \n",
    "<br>We're now ready to build the LSTM model. This is actually quite straightforward with Keras, you simply stack componenets on top of each other. \n",
    "\n",
    "For LSTMs with Keras, I refered to several articles [1](https://qiita.com/yukiB/items/5d5b202af86e3c587843), [2](https://qiita.com/yuyakato/items/ab38064ca215e8750865). (both written in Japanese)."
   ]
  },
  {
   "cell_type": "code",
   "execution_count": 31,
   "metadata": {},
   "outputs": [],
   "source": [
    "# Work with numpy arraysespecially as we now only have numerical data\n",
    "LSTM_training_inputs = [np.array(LSTM_training_input) for LSTM_training_input in LSTM_training_inputs]\n",
    "LSTM_training_inputs = np.array(LSTM_training_inputs)\n",
    "LSTM_test_inputs = [np.array(LSTM_test_inputs) for LSTM_test_inputs in LSTM_test_inputs]\n",
    "LSTM_test_inputs = np.array(LSTM_test_inputs)"
   ]
  },
  {
   "cell_type": "code",
   "execution_count": 32,
   "metadata": {},
   "outputs": [
    {
     "name": "stderr",
     "output_type": "stream",
     "text": [
      "Using TensorFlow backend.\n"
     ]
    }
   ],
   "source": [
    "# import the relevant Keras modules\n",
    "from keras.models import Sequential\n",
    "from keras.layers import Activation, Dense\n",
    "from keras.layers import LSTM\n",
    "from keras.layers import Dropout\n",
    "\n",
    "def build_model(inputs, output_size, neurons, activ_func=\"linear\",\n",
    "                dropout=0.25, loss=\"mae\", optimizer=\"adam\"):\n",
    "    model = Sequential()\n",
    "\n",
    "    model.add(LSTM(neurons, input_shape=(inputs.shape[1], inputs.shape[2])))\n",
    "    model.add(Dropout(dropout))\n",
    "    model.add(Dense(units=output_size))\n",
    "    model.add(Activation(activ_func))\n",
    "\n",
    "    model.compile(loss=loss, optimizer=optimizer)\n",
    "    return model"
   ]
  },
  {
   "cell_type": "markdown",
   "metadata": {},
   "source": [
    "So, the build_model functions constructs an empty model called \"model\" (model = Sequential), to which an LSTM layer is added. That layer has been shaped to fit our inputs (n x m tables, where n and m represent the number of timepoints/rows and columns, respectively). The function also includes more generic neural network features, like [dropout](https://machinelearningmastery.com/dropout-regularization-deep-learning-models-keras/) and [activation functions](https://dashee87.github.io/deep%20learning/visualising-activation-functions-in-neural-networks/). Now, we just need to specify the number of neurons to place in the LSTM layer (I've opted for 20 to keep runtime reasonable), as well as the data on which the model will be trained."
   ]
  },
  {
   "cell_type": "code",
   "execution_count": 33,
   "metadata": {},
   "outputs": [
    {
     "name": "stdout",
     "output_type": "stream",
     "text": [
      "WARNING:tensorflow:From /Users/Rory/anaconda3/lib/python3.6/site-packages/tensorflow/python/ops/resource_variable_ops.py:435: colocate_with (from tensorflow.python.framework.ops) is deprecated and will be removed in a future version.\n",
      "Instructions for updating:\n",
      "Colocations handled automatically by placer.\n",
      "WARNING:tensorflow:From /Users/Rory/anaconda3/lib/python3.6/site-packages/tensorflow/python/ops/math_ops.py:3066: to_int32 (from tensorflow.python.ops.math_ops) is deprecated and will be removed in a future version.\n",
      "Instructions for updating:\n",
      "Use tf.cast instead.\n",
      "Epoch 1/50\n",
      " - 12s - loss: 0.0610\n",
      "Epoch 2/50\n",
      " - 12s - loss: 0.0405\n",
      "Epoch 3/50\n",
      " - 13s - loss: 0.0364\n",
      "Epoch 4/50\n",
      " - 14s - loss: 0.0335\n",
      "Epoch 5/50\n",
      " - 12s - loss: 0.0316\n",
      "Epoch 6/50\n",
      " - 12s - loss: 0.0300\n",
      "Epoch 7/50\n",
      " - 13s - loss: 0.0307\n",
      "Epoch 8/50\n",
      " - 14s - loss: 0.0300\n",
      "Epoch 9/50\n",
      " - 32s - loss: 0.0296\n",
      "Epoch 10/50\n",
      " - 29s - loss: 0.0301\n",
      "Epoch 11/50\n",
      " - 14s - loss: 0.0286\n",
      "Epoch 12/50\n",
      " - 21s - loss: 0.0280\n",
      "Epoch 13/50\n",
      " - 21s - loss: 0.0283\n",
      "Epoch 14/50\n",
      " - 20s - loss: 0.0288\n",
      "Epoch 15/50\n",
      " - 20s - loss: 0.0285\n",
      "Epoch 16/50\n",
      " - 20s - loss: 0.0279\n",
      "Epoch 17/50\n",
      " - 19s - loss: 0.0279\n",
      "Epoch 18/50\n",
      " - 21s - loss: 0.0292\n",
      "Epoch 19/50\n",
      " - 21s - loss: 0.0280\n",
      "Epoch 20/50\n",
      " - 21s - loss: 0.0281\n",
      "Epoch 21/50\n",
      " - 21s - loss: 0.0275\n",
      "Epoch 22/50\n",
      " - 21s - loss: 0.0272\n",
      "Epoch 23/50\n",
      " - 22s - loss: 0.0279\n",
      "Epoch 24/50\n",
      " - 15s - loss: 0.0274\n",
      "Epoch 25/50\n",
      " - 14s - loss: 0.0287\n",
      "Epoch 26/50\n",
      " - 13s - loss: 0.0280\n",
      "Epoch 27/50\n",
      " - 15s - loss: 0.0282\n",
      "Epoch 28/50\n",
      " - 15s - loss: 0.0269\n",
      "Epoch 29/50\n",
      " - 13s - loss: 0.0265\n",
      "Epoch 30/50\n",
      " - 14s - loss: 0.0284\n",
      "Epoch 31/50\n",
      " - 13s - loss: 0.0275\n",
      "Epoch 32/50\n",
      " - 15s - loss: 0.0275\n",
      "Epoch 33/50\n",
      " - 13s - loss: 0.0272\n",
      "Epoch 34/50\n",
      " - 13s - loss: 0.0283\n",
      "Epoch 35/50\n",
      " - 14s - loss: 0.0274\n",
      "Epoch 36/50\n",
      " - 17s - loss: 0.0271\n",
      "Epoch 37/50\n",
      " - 20s - loss: 0.0276\n",
      "Epoch 38/50\n",
      " - 20s - loss: 0.0276\n",
      "Epoch 39/50\n",
      " - 20s - loss: 0.0271\n",
      "Epoch 40/50\n",
      " - 20s - loss: 0.0279\n",
      "Epoch 41/50\n",
      " - 20s - loss: 0.0276\n",
      "Epoch 42/50\n",
      " - 20s - loss: 0.0277\n",
      "Epoch 43/50\n",
      " - 21s - loss: 0.0275\n",
      "Epoch 44/50\n",
      " - 19s - loss: 0.0275\n",
      "Epoch 45/50\n",
      " - 19s - loss: 0.0276\n",
      "Epoch 46/50\n",
      " - 19s - loss: 0.0273\n",
      "Epoch 47/50\n",
      " - 19s - loss: 0.0266\n",
      "Epoch 48/50\n",
      " - 19s - loss: 0.0275\n",
      "Epoch 49/50\n",
      " - 19s - loss: 0.0271\n",
      "Epoch 50/50\n",
      " - 20s - loss: 0.0268\n"
     ]
    }
   ],
   "source": [
    "# random seed for reproducibility\n",
    "np.random.seed(202)\n",
    "bit_model = build_model(LSTM_training_inputs, output_size=1, neurons = 20)\n",
    "# model output is next price normalised to 10th previous closing price\n",
    "LSTM_training_outputs = (training_set['Close'][window_len:].values/training_set['Close'][:-window_len].values)-1\n",
    "# train model on data\n",
    "# note: bit_history contains information on the training error per epoch\n",
    "bit_history = bit_model.fit(LSTM_training_inputs, LSTM_training_outputs, \n",
    "                            epochs=50, batch_size=1, verbose=2, shuffle=True)"
   ]
  },
  {
   "cell_type": "markdown",
   "metadata": {},
   "source": [
    "If everything went to plan, then we'd expect the training error to have gradually decreased over time."
   ]
  },
  {
   "cell_type": "code",
   "execution_count": 34,
   "metadata": {},
   "outputs": [
    {
     "data": {
      "image/png": "[encoded data removed]",
      "text/plain": [
       "<Figure size 432x288 with 1 Axes>"
      ]
     },
     "metadata": {
      "needs_background": "light"
     },
     "output_type": "display_data"
    }
   ],
   "source": [
    "fig, ax1 = plt.subplots(1,1)\n",
    "\n",
    "ax1.plot(bit_history.epoch, bit_history.history['loss'])\n",
    "ax1.set_title('Training Error')\n",
    "\n",
    "if bit_model.loss == 'mae':\n",
    "    ax1.set_ylabel('Mean Absolute Error (MAE)',fontsize=12)\n",
    "# just in case you decided to change the model loss calculation\n",
    "else:\n",
    "    ax1.set_ylabel('Model Loss',fontsize=12)\n",
    "ax1.set_xlabel('# Epochs',fontsize=12)\n",
    "plt.show()"
   ]
  },
  {
   "cell_type": "markdown",
   "metadata": {},
   "source": [
    "See how well this modeel performs on testset. That number below the code represents the model's mean absolute error (mae) on the training set after the 50th training iteration (or epoch)."
   ]
  },
  {
   "cell_type": "code",
   "execution_count": 35,
   "metadata": {},
   "outputs": [
    {
     "data": {
      "application/vnd.plotly.v1+json": {
       "config": {
        "linkText": "Export to plot.ly",
        "plotlyServerURL": "https://plot.ly",
        "showLink": false
       },
       "data": [
        {
         "marker": {
          "color": "rgba(235, 115, 150, 0.5)"
         },
         "mode": "lines",
         "name": "Actual",
         "type": "scatter",
         "x": [
          "2017-06-11T00:00:00",
          "2017-06-12T00:00:00",
          "2017-06-13T00:00:00",
          "2017-06-14T00:00:00",
          "2017-06-15T00:00:00",
          "2017-06-16T00:00:00",
          "2017-06-17T00:00:00",
          "2017-06-18T00:00:00",
          "2017-06-19T00:00:00",
          "2017-06-20T00:00:00",
          "2017-06-21T00:00:00",
          "2017-06-22T00:00:00",
          "2017-06-23T00:00:00",
          "2017-06-24T00:00:00",
          "2017-06-25T00:00:00",
          "2017-06-26T00:00:00",
          "2017-06-27T00:00:00",
          "2017-06-28T00:00:00",
          "2017-06-29T00:00:00",
          "2017-06-30T00:00:00",
          "2017-07-01T00:00:00",
          "2017-07-02T00:00:00",
          "2017-07-03T00:00:00",
          "2017-07-04T00:00:00",
          "2017-07-05T00:00:00",
          "2017-07-06T00:00:00",
          "2017-07-07T00:00:00",
          "2017-07-08T00:00:00",
          "2017-07-09T00:00:00",
          "2017-07-10T00:00:00",
          "2017-07-11T00:00:00",
          "2017-07-12T00:00:00",
          "2017-07-13T00:00:00",
          "2017-07-14T00:00:00",
          "2017-07-15T00:00:00",
          "2017-07-16T00:00:00",
          "2017-07-17T00:00:00",
          "2017-07-18T00:00:00",
          "2017-07-19T00:00:00",
          "2017-07-20T00:00:00",
          "2017-07-21T00:00:00",
          "2017-07-22T00:00:00",
          "2017-07-23T00:00:00",
          "2017-07-24T00:00:00",
          "2017-07-25T00:00:00",
          "2017-07-26T00:00:00",
          "2017-07-27T00:00:00",
          "2017-07-28T00:00:00",
          "2017-07-29T00:00:00",
          "2017-07-30T00:00:00",
          "2017-07-31T00:00:00",
          "2017-08-01T00:00:00",
          "2017-08-02T00:00:00",
          "2017-08-03T00:00:00",
          "2017-08-04T00:00:00",
          "2017-08-05T00:00:00",
          "2017-08-06T00:00:00",
          "2017-08-07T00:00:00",
          "2017-08-08T00:00:00",
          "2017-08-09T00:00:00",
          "2017-08-10T00:00:00",
          "2017-08-11T00:00:00",
          "2017-08-12T00:00:00",
          "2017-08-13T00:00:00",
          "2017-08-14T00:00:00",
          "2017-08-15T00:00:00",
          "2017-08-16T00:00:00",
          "2017-08-17T00:00:00",
          "2017-08-18T00:00:00",
          "2017-08-19T00:00:00",
          "2017-08-20T00:00:00",
          "2017-08-21T00:00:00",
          "2017-08-22T00:00:00",
          "2017-08-23T00:00:00",
          "2017-08-24T00:00:00",
          "2017-08-25T00:00:00",
          "2017-08-26T00:00:00",
          "2017-08-27T00:00:00",
          "2017-08-28T00:00:00",
          "2017-08-29T00:00:00",
          "2017-08-30T00:00:00",
          "2017-08-31T00:00:00",
          "2017-09-01T00:00:00",
          "2017-09-02T00:00:00",
          "2017-09-03T00:00:00",
          "2017-09-04T00:00:00",
          "2017-09-05T00:00:00",
          "2017-09-06T00:00:00",
          "2017-09-07T00:00:00",
          "2017-09-08T00:00:00",
          "2017-09-09T00:00:00",
          "2017-09-10T00:00:00",
          "2017-09-11T00:00:00",
          "2017-09-12T00:00:00",
          "2017-09-13T00:00:00",
          "2017-09-14T00:00:00",
          "2017-09-15T00:00:00",
          "2017-09-16T00:00:00",
          "2017-09-17T00:00:00",
          "2017-09-18T00:00:00",
          "2017-09-19T00:00:00",
          "2017-09-20T00:00:00",
          "2017-09-21T00:00:00",
          "2017-09-22T00:00:00",
          "2017-09-23T00:00:00",
          "2017-09-24T00:00:00",
          "2017-09-25T00:00:00",
          "2017-09-26T00:00:00",
          "2017-09-27T00:00:00",
          "2017-09-28T00:00:00",
          "2017-09-29T00:00:00",
          "2017-09-30T00:00:00",
          "2017-10-01T00:00:00",
          "2017-10-02T00:00:00",
          "2017-10-03T00:00:00",
          "2017-10-04T00:00:00",
          "2017-10-05T00:00:00",
          "2017-10-06T00:00:00",
          "2017-10-07T00:00:00",
          "2017-10-08T00:00:00",
          "2017-10-09T00:00:00",
          "2017-10-10T00:00:00",
          "2017-10-11T00:00:00",
          "2017-10-12T00:00:00",
          "2017-10-13T00:00:00",
          "2017-10-14T00:00:00",
          "2017-10-15T00:00:00",
          "2017-10-16T00:00:00",
          "2017-10-17T00:00:00",
          "2017-10-18T00:00:00",
          "2017-10-19T00:00:00",
          "2017-10-20T00:00:00",
          "2017-10-21T00:00:00",
          "2017-10-22T00:00:00",
          "2017-10-23T00:00:00",
          "2017-10-24T00:00:00",
          "2017-10-25T00:00:00",
          "2017-10-26T00:00:00",
          "2017-10-27T00:00:00",
          "2017-10-28T00:00:00",
          "2017-10-29T00:00:00",
          "2017-10-30T00:00:00",
          "2017-10-31T00:00:00",
          "2017-11-01T00:00:00",
          "2017-11-02T00:00:00",
          "2017-11-03T00:00:00",
          "2017-11-04T00:00:00",
          "2017-11-05T00:00:00",
          "2017-11-06T00:00:00",
          "2017-11-07T00:00:00",
          "2017-11-08T00:00:00",
          "2017-11-09T00:00:00",
          "2017-11-10T00:00:00",
          "2017-11-11T00:00:00",
          "2017-11-12T00:00:00",
          "2017-11-13T00:00:00",
          "2017-11-14T00:00:00",
          "2017-11-15T00:00:00",
          "2017-11-16T00:00:00",
          "2017-11-17T00:00:00",
          "2017-11-18T00:00:00",
          "2017-11-19T00:00:00",
          "2017-11-20T00:00:00",
          "2017-11-21T00:00:00",
          "2017-11-22T00:00:00",
          "2017-11-23T00:00:00",
          "2017-11-24T00:00:00",
          "2017-11-25T00:00:00",
          "2017-11-26T00:00:00",
          "2017-11-27T00:00:00",
          "2017-11-28T00:00:00",
          "2017-11-29T00:00:00",
          "2017-11-30T00:00:00",
          "2017-12-01T00:00:00",
          "2017-12-02T00:00:00",
          "2017-12-03T00:00:00",
          "2017-12-04T00:00:00",
          "2017-12-05T00:00:00",
          "2017-12-06T00:00:00",
          "2017-12-07T00:00:00",
          "2017-12-08T00:00:00",
          "2017-12-09T00:00:00",
          "2017-12-10T00:00:00",
          "2017-12-11T00:00:00",
          "2017-12-12T00:00:00",
          "2017-12-13T00:00:00",
          "2017-12-14T00:00:00",
          "2017-12-15T00:00:00",
          "2017-12-16T00:00:00",
          "2017-12-17T00:00:00",
          "2017-12-18T00:00:00",
          "2017-12-19T00:00:00",
          "2017-12-20T00:00:00",
          "2017-12-21T00:00:00",
          "2017-12-22T00:00:00",
          "2017-12-23T00:00:00",
          "2017-12-24T00:00:00",
          "2017-12-25T00:00:00",
          "2017-12-26T00:00:00",
          "2017-12-27T00:00:00",
          "2017-12-28T00:00:00",
          "2017-12-29T00:00:00",
          "2017-12-30T00:00:00",
          "2017-12-31T00:00:00",
          "2018-01-01T00:00:00",
          "2018-01-02T00:00:00",
          "2018-01-03T00:00:00",
          "2018-01-04T00:00:00",
          "2018-01-05T00:00:00",
          "2018-01-06T00:00:00",
          "2018-01-07T00:00:00",
          "2018-01-08T00:00:00",
          "2018-01-09T00:00:00",
          "2018-01-10T00:00:00",
          "2018-01-11T00:00:00",
          "2018-01-12T00:00:00",
          "2018-01-13T00:00:00",
          "2018-01-14T00:00:00",
          "2018-01-15T00:00:00",
          "2018-01-16T00:00:00",
          "2018-01-17T00:00:00",
          "2018-01-18T00:00:00",
          "2018-01-19T00:00:00",
          "2018-01-20T00:00:00",
          "2018-01-21T00:00:00",
          "2018-01-22T00:00:00",
          "2018-01-23T00:00:00",
          "2018-01-24T00:00:00",
          "2018-01-25T00:00:00",
          "2018-01-26T00:00:00",
          "2018-01-27T00:00:00",
          "2018-01-28T00:00:00",
          "2018-01-29T00:00:00",
          "2018-01-30T00:00:00",
          "2018-01-31T00:00:00",
          "2018-02-01T00:00:00",
          "2018-02-02T00:00:00",
          "2018-02-03T00:00:00",
          "2018-02-04T00:00:00",
          "2018-02-05T00:00:00",
          "2018-02-06T00:00:00",
          "2018-02-07T00:00:00",
          "2018-02-08T00:00:00",
          "2018-02-09T00:00:00",
          "2018-02-10T00:00:00",
          "2018-02-11T00:00:00",
          "2018-02-12T00:00:00",
          "2018-02-13T00:00:00",
          "2018-02-14T00:00:00",
          "2018-02-15T00:00:00",
          "2018-02-16T00:00:00",
          "2018-02-17T00:00:00",
          "2018-02-18T00:00:00",
          "2018-02-19T00:00:00",
          "2018-02-20T00:00:00",
          "2018-02-21T00:00:00",
          "2018-02-22T00:00:00",
          "2018-02-23T00:00:00",
          "2018-02-24T00:00:00",
          "2018-02-25T00:00:00",
          "2018-02-26T00:00:00",
          "2018-02-27T00:00:00",
          "2018-02-28T00:00:00",
          "2018-03-01T00:00:00",
          "2018-03-02T00:00:00",
          "2018-03-03T00:00:00",
          "2018-03-04T00:00:00",
          "2018-03-05T00:00:00",
          "2018-03-06T00:00:00",
          "2018-03-07T00:00:00",
          "2018-03-08T00:00:00",
          "2018-03-09T00:00:00",
          "2018-03-10T00:00:00",
          "2018-03-11T00:00:00",
          "2018-03-12T00:00:00",
          "2018-03-13T00:00:00",
          "2018-03-14T00:00:00",
          "2018-03-15T00:00:00",
          "2018-03-16T00:00:00",
          "2018-03-17T00:00:00",
          "2018-03-18T00:00:00",
          "2018-03-19T00:00:00",
          "2018-03-20T00:00:00",
          "2018-03-21T00:00:00",
          "2018-03-22T00:00:00",
          "2018-03-23T00:00:00",
          "2018-03-24T00:00:00",
          "2018-03-25T00:00:00",
          "2018-03-26T00:00:00",
          "2018-03-27T00:00:00",
          "2018-03-28T00:00:00",
          "2018-03-29T00:00:00",
          "2018-03-30T00:00:00",
          "2018-03-31T00:00:00",
          "2018-04-01T00:00:00",
          "2018-04-02T00:00:00",
          "2018-04-03T00:00:00",
          "2018-04-04T00:00:00",
          "2018-04-05T00:00:00",
          "2018-04-06T00:00:00",
          "2018-04-07T00:00:00",
          "2018-04-08T00:00:00",
          "2018-04-09T00:00:00",
          "2018-04-10T00:00:00",
          "2018-04-11T00:00:00",
          "2018-04-12T00:00:00",
          "2018-04-13T00:00:00",
          "2018-04-14T00:00:00",
          "2018-04-15T00:00:00",
          "2018-04-16T00:00:00",
          "2018-04-17T00:00:00",
          "2018-04-18T00:00:00",
          "2018-04-19T00:00:00",
          "2018-04-20T00:00:00",
          "2018-04-21T00:00:00",
          "2018-04-22T00:00:00",
          "2018-04-23T00:00:00",
          "2018-04-24T00:00:00",
          "2018-04-25T00:00:00",
          "2018-04-26T00:00:00",
          "2018-04-27T00:00:00",
          "2018-04-28T00:00:00",
          "2018-04-29T00:00:00",
          "2018-04-30T00:00:00",
          "2018-05-01T00:00:00",
          "2018-05-02T00:00:00",
          "2018-05-03T00:00:00",
          "2018-05-04T00:00:00",
          "2018-05-05T00:00:00",
          "2018-05-06T00:00:00",
          "2018-05-07T00:00:00",
          "2018-05-08T00:00:00",
          "2018-05-09T00:00:00",
          "2018-05-10T00:00:00",
          "2018-05-11T00:00:00",
          "2018-05-12T00:00:00",
          "2018-05-13T00:00:00",
          "2018-05-14T00:00:00",
          "2018-05-15T00:00:00",
          "2018-05-16T00:00:00",
          "2018-05-17T00:00:00",
          "2018-05-18T00:00:00",
          "2018-05-19T00:00:00",
          "2018-05-20T00:00:00",
          "2018-05-21T00:00:00",
          "2018-05-22T00:00:00",
          "2018-05-23T00:00:00",
          "2018-05-24T00:00:00",
          "2018-05-25T00:00:00",
          "2018-05-26T00:00:00",
          "2018-05-27T00:00:00",
          "2018-05-28T00:00:00",
          "2018-05-29T00:00:00",
          "2018-05-30T00:00:00",
          "2018-05-31T00:00:00",
          "2018-06-01T00:00:00",
          "2018-06-02T00:00:00",
          "2018-06-03T00:00:00",
          "2018-06-04T00:00:00",
          "2018-06-05T00:00:00",
          "2018-06-06T00:00:00",
          "2018-06-07T00:00:00",
          "2018-06-08T00:00:00",
          "2018-06-09T00:00:00",
          "2018-06-10T00:00:00",
          "2018-06-11T00:00:00",
          "2018-06-12T00:00:00",
          "2018-06-13T00:00:00",
          "2018-06-14T00:00:00",
          "2018-06-15T00:00:00",
          "2018-06-16T00:00:00",
          "2018-06-17T00:00:00",
          "2018-06-18T00:00:00",
          "2018-06-19T00:00:00",
          "2018-06-20T00:00:00",
          "2018-06-21T00:00:00",
          "2018-06-22T00:00:00",
          "2018-06-23T00:00:00",
          "2018-06-24T00:00:00",
          "2018-06-25T00:00:00",
          "2018-06-26T00:00:00",
          "2018-06-27T00:00:00",
          "2018-06-28T00:00:00",
          "2018-06-29T00:00:00",
          "2018-06-30T00:00:00",
          "2018-07-01T00:00:00",
          "2018-07-02T00:00:00",
          "2018-07-03T00:00:00",
          "2018-07-04T00:00:00",
          "2018-07-05T00:00:00",
          "2018-07-06T00:00:00",
          "2018-07-07T00:00:00",
          "2018-07-08T00:00:00",
          "2018-07-09T00:00:00",
          "2018-07-10T00:00:00",
          "2018-07-11T00:00:00",
          "2018-07-12T00:00:00",
          "2018-07-13T00:00:00",
          "2018-07-14T00:00:00",
          "2018-07-15T00:00:00",
          "2018-07-16T00:00:00",
          "2018-07-17T00:00:00",
          "2018-07-18T00:00:00",
          "2018-07-19T00:00:00",
          "2018-07-20T00:00:00",
          "2018-07-21T00:00:00",
          "2018-07-22T00:00:00",
          "2018-07-23T00:00:00",
          "2018-07-24T00:00:00",
          "2018-07-25T00:00:00",
          "2018-07-26T00:00:00",
          "2018-07-27T00:00:00",
          "2018-07-28T00:00:00",
          "2018-07-29T00:00:00",
          "2018-07-30T00:00:00",
          "2018-07-31T00:00:00",
          "2018-08-01T00:00:00",
          "2018-08-02T00:00:00",
          "2018-08-03T00:00:00",
          "2018-08-04T00:00:00",
          "2018-08-05T00:00:00",
          "2018-08-06T00:00:00",
          "2018-08-07T00:00:00",
          "2018-08-08T00:00:00",
          "2018-08-09T00:00:00",
          "2018-08-10T00:00:00",
          "2018-08-11T00:00:00",
          "2018-08-12T00:00:00",
          "2018-08-13T00:00:00",
          "2018-08-14T00:00:00",
          "2018-08-15T00:00:00",
          "2018-08-16T00:00:00",
          "2018-08-17T00:00:00",
          "2018-08-18T00:00:00",
          "2018-08-19T00:00:00",
          "2018-08-20T00:00:00",
          "2018-08-21T00:00:00",
          "2018-08-22T00:00:00",
          "2018-08-23T00:00:00",
          "2018-08-24T00:00:00",
          "2018-08-25T00:00:00",
          "2018-08-26T00:00:00",
          "2018-08-27T00:00:00",
          "2018-08-28T00:00:00",
          "2018-08-29T00:00:00",
          "2018-08-30T00:00:00",
          "2018-08-31T00:00:00",
          "2018-09-01T00:00:00",
          "2018-09-02T00:00:00",
          "2018-09-03T00:00:00",
          "2018-09-04T00:00:00",
          "2018-09-05T00:00:00",
          "2018-09-06T00:00:00",
          "2018-09-07T00:00:00",
          "2018-09-08T00:00:00",
          "2018-09-09T00:00:00",
          "2018-09-10T00:00:00",
          "2018-09-11T00:00:00",
          "2018-09-12T00:00:00",
          "2018-09-13T00:00:00",
          "2018-09-14T00:00:00",
          "2018-09-15T00:00:00",
          "2018-09-16T00:00:00",
          "2018-09-17T00:00:00",
          "2018-09-18T00:00:00",
          "2018-09-19T00:00:00",
          "2018-09-20T00:00:00",
          "2018-09-21T00:00:00",
          "2018-09-22T00:00:00",
          "2018-09-23T00:00:00",
          "2018-09-24T00:00:00",
          "2018-09-25T00:00:00",
          "2018-09-26T00:00:00",
          "2018-09-27T00:00:00",
          "2018-09-28T00:00:00",
          "2018-09-29T00:00:00",
          "2018-09-30T00:00:00",
          "2018-10-01T00:00:00",
          "2018-10-02T00:00:00",
          "2018-10-03T00:00:00",
          "2018-10-04T00:00:00",
          "2018-10-05T00:00:00",
          "2018-10-06T00:00:00",
          "2018-10-07T00:00:00",
          "2018-10-08T00:00:00",
          "2018-10-09T00:00:00",
          "2018-10-10T00:00:00",
          "2018-10-11T00:00:00",
          "2018-10-12T00:00:00",
          "2018-10-13T00:00:00",
          "2018-10-14T00:00:00",
          "2018-10-15T00:00:00",
          "2018-10-16T00:00:00",
          "2018-10-17T00:00:00",
          "2018-10-18T00:00:00",
          "2018-10-19T00:00:00",
          "2018-10-20T00:00:00",
          "2018-10-21T00:00:00",
          "2018-10-22T00:00:00",
          "2018-10-23T00:00:00",
          "2018-10-24T00:00:00",
          "2018-10-25T00:00:00",
          "2018-10-26T00:00:00",
          "2018-10-27T00:00:00",
          "2018-10-28T00:00:00",
          "2018-10-29T00:00:00",
          "2018-10-30T00:00:00",
          "2018-10-31T00:00:00",
          "2018-11-01T00:00:00",
          "2018-11-02T00:00:00",
          "2018-11-03T00:00:00",
          "2018-11-04T00:00:00",
          "2018-11-05T00:00:00",
          "2018-11-06T00:00:00",
          "2018-11-07T00:00:00",
          "2018-11-08T00:00:00",
          "2018-11-09T00:00:00",
          "2018-11-10T00:00:00",
          "2018-11-11T00:00:00",
          "2018-11-12T00:00:00",
          "2018-11-13T00:00:00",
          "2018-11-14T00:00:00",
          "2018-11-15T00:00:00",
          "2018-11-16T00:00:00",
          "2018-11-17T00:00:00",
          "2018-11-18T00:00:00",
          "2018-11-19T00:00:00",
          "2018-11-20T00:00:00",
          "2018-11-21T00:00:00",
          "2018-11-22T00:00:00",
          "2018-11-23T00:00:00",
          "2018-11-24T00:00:00",
          "2018-11-25T00:00:00",
          "2018-11-26T00:00:00",
          "2018-11-27T00:00:00",
          "2018-11-28T00:00:00",
          "2018-11-29T00:00:00",
          "2018-11-30T00:00:00",
          "2018-12-01T00:00:00",
          "2018-12-02T00:00:00",
          "2018-12-03T00:00:00",
          "2018-12-04T00:00:00",
          "2018-12-05T00:00:00",
          "2018-12-06T00:00:00",
          "2018-12-07T00:00:00",
          "2018-12-08T00:00:00",
          "2018-12-09T00:00:00",
          "2018-12-10T00:00:00",
          "2018-12-11T00:00:00",
          "2018-12-12T00:00:00",
          "2018-12-13T00:00:00",
          "2018-12-14T00:00:00",
          "2018-12-15T00:00:00",
          "2018-12-16T00:00:00",
          "2018-12-17T00:00:00",
          "2018-12-18T00:00:00",
          "2018-12-19T00:00:00",
          "2018-12-20T00:00:00",
          "2018-12-21T00:00:00",
          "2018-12-22T00:00:00",
          "2018-12-23T00:00:00",
          "2018-12-24T00:00:00",
          "2018-12-25T00:00:00",
          "2018-12-26T00:00:00",
          "2018-12-27T00:00:00",
          "2018-12-28T00:00:00",
          "2018-12-29T00:00:00",
          "2018-12-30T00:00:00",
          "2018-12-31T00:00:00",
          "2019-01-01T00:00:00",
          "2019-01-02T00:00:00",
          "2019-01-03T00:00:00",
          "2019-01-04T00:00:00",
          "2019-01-05T00:00:00",
          "2019-01-06T00:00:00",
          "2019-01-07T00:00:00",
          "2019-01-08T00:00:00",
          "2019-01-09T00:00:00",
          "2019-01-10T00:00:00",
          "2019-01-11T00:00:00",
          "2019-01-12T00:00:00",
          "2019-01-13T00:00:00",
          "2019-01-14T00:00:00",
          "2019-01-15T00:00:00",
          "2019-01-16T00:00:00",
          "2019-01-17T00:00:00",
          "2019-01-18T00:00:00",
          "2019-01-19T00:00:00",
          "2019-01-20T00:00:00",
          "2019-01-21T00:00:00",
          "2019-01-22T00:00:00",
          "2019-01-23T00:00:00",
          "2019-01-24T00:00:00",
          "2019-01-25T00:00:00",
          "2019-01-26T00:00:00",
          "2019-01-27T00:00:00",
          "2019-01-28T00:00:00",
          "2019-01-29T00:00:00",
          "2019-01-30T00:00:00",
          "2019-01-31T00:00:00",
          "2019-02-01T00:00:00",
          "2019-02-02T00:00:00",
          "2019-02-03T00:00:00",
          "2019-02-04T00:00:00",
          "2019-02-05T00:00:00",
          "2019-02-06T00:00:00",
          "2019-02-07T00:00:00",
          "2019-02-08T00:00:00",
          "2019-02-09T00:00:00",
          "2019-02-10T00:00:00",
          "2019-02-11T00:00:00",
          "2019-02-12T00:00:00",
          "2019-02-13T00:00:00",
          "2019-02-14T00:00:00",
          "2019-02-15T00:00:00",
          "2019-02-16T00:00:00",
          "2019-02-17T00:00:00",
          "2019-02-18T00:00:00",
          "2019-02-19T00:00:00",
          "2019-02-20T00:00:00",
          "2019-02-21T00:00:00",
          "2019-02-22T00:00:00",
          "2019-02-23T00:00:00",
          "2019-02-24T00:00:00",
          "2019-02-25T00:00:00",
          "2019-02-26T00:00:00",
          "2019-02-27T00:00:00",
          "2019-02-28T00:00:00",
          "2019-03-01T00:00:00",
          "2019-03-02T00:00:00",
          "2019-03-03T00:00:00",
          "2019-03-04T00:00:00",
          "2019-03-05T00:00:00",
          "2019-03-06T00:00:00",
          "2019-03-07T00:00:00",
          "2019-03-08T00:00:00",
          "2019-03-09T00:00:00",
          "2019-03-10T00:00:00",
          "2019-03-11T00:00:00",
          "2019-03-12T00:00:00",
          "2019-03-13T00:00:00",
          "2019-03-14T00:00:00",
          "2019-03-15T00:00:00",
          "2019-03-16T00:00:00",
          "2019-03-17T00:00:00",
          "2019-03-18T00:00:00",
          "2019-03-19T00:00:00",
          "2019-03-20T00:00:00",
          "2019-03-21T00:00:00",
          "2019-03-22T00:00:00",
          "2019-03-23T00:00:00",
          "2019-03-24T00:00:00",
          "2019-03-25T00:00:00",
          "2019-03-26T00:00:00",
          "2019-03-27T00:00:00",
          "2019-03-28T00:00:00",
          "2019-03-29T00:00:00",
          "2019-03-30T00:00:00",
          "2019-03-31T00:00:00",
          "2019-04-01T00:00:00",
          "2019-04-02T00:00:00",
          "2019-04-03T00:00:00",
          "2019-04-04T00:00:00",
          "2019-04-05T00:00:00",
          "2019-04-06T00:00:00",
          "2019-04-07T00:00:00",
          "2019-04-08T00:00:00",
          "2019-04-09T00:00:00",
          "2019-04-10T00:00:00",
          "2019-04-11T00:00:00",
          "2019-04-12T00:00:00",
          "2019-04-13T00:00:00",
          "2019-04-14T00:00:00",
          "2019-04-15T00:00:00",
          "2019-04-16T00:00:00",
          "2019-04-17T00:00:00",
          "2019-04-18T00:00:00",
          "2019-04-19T00:00:00",
          "2019-04-20T00:00:00",
          "2019-04-21T00:00:00",
          "2019-04-22T00:00:00",
          "2019-04-23T00:00:00",
          "2019-04-24T00:00:00",
          "2019-04-25T00:00:00",
          "2019-04-26T00:00:00",
          "2019-04-27T00:00:00",
          "2019-04-28T00:00:00",
          "2019-04-29T00:00:00",
          "2019-04-30T00:00:00",
          "2019-05-01T00:00:00",
          "2019-05-02T00:00:00",
          "2019-05-03T00:00:00",
          "2019-05-04T00:00:00",
          "2019-05-05T00:00:00",
          "2019-05-06T00:00:00",
          "2019-05-07T00:00:00",
          "2019-05-08T00:00:00",
          "2019-05-09T00:00:00",
          "2019-05-10T00:00:00",
          "2019-05-11T00:00:00",
          "2019-05-12T00:00:00",
          "2019-05-13T00:00:00",
          "2019-05-14T00:00:00",
          "2019-05-15T00:00:00",
          "2019-05-16T00:00:00",
          "2019-05-17T00:00:00",
          "2019-05-18T00:00:00",
          "2019-05-19T00:00:00",
          "2019-05-20T00:00:00",
          "2019-05-21T00:00:00",
          "2019-05-22T00:00:00",
          "2019-05-23T00:00:00",
          "2019-05-24T00:00:00",
          "2019-05-25T00:00:00",
          "2019-05-26T00:00:00",
          "2019-05-27T00:00:00",
          "2019-05-28T00:00:00",
          "2019-05-29T00:00:00",
          "2019-05-30T00:00:00",
          "2019-05-31T00:00:00",
          "2019-06-01T00:00:00",
          "2019-06-02T00:00:00",
          "2019-06-03T00:00:00",
          "2019-06-04T00:00:00",
          "2019-06-05T00:00:00",
          "2019-06-06T00:00:00",
          "2019-06-07T00:00:00",
          "2019-06-08T00:00:00",
          "2019-06-09T00:00:00",
          "2019-06-10T00:00:00",
          "2019-06-11T00:00:00",
          "2019-06-12T00:00:00",
          "2019-06-13T00:00:00",
          "2019-06-14T00:00:00",
          "2019-06-15T00:00:00",
          "2019-06-16T00:00:00",
          "2019-06-17T00:00:00",
          "2019-06-18T00:00:00",
          "2019-06-19T00:00:00",
          "2019-06-20T00:00:00",
          "2019-06-21T00:00:00",
          "2019-06-22T00:00:00",
          "2019-06-23T00:00:00",
          "2019-06-24T00:00:00",
          "2019-06-25T00:00:00",
          "2019-06-26T00:00:00",
          "2019-06-27T00:00:00",
          "2019-06-28T00:00:00",
          "2019-06-29T00:00:00",
          "2019-06-30T00:00:00",
          "2019-07-01T00:00:00",
          "2019-07-02T00:00:00",
          "2019-07-03T00:00:00",
          "2019-07-04T00:00:00",
          "2019-07-05T00:00:00",
          "2019-07-06T00:00:00",
          "2019-07-07T00:00:00",
          "2019-07-08T00:00:00",
          "2019-07-09T00:00:00",
          "2019-07-10T00:00:00",
          "2019-07-11T00:00:00",
          "2019-07-12T00:00:00",
          "2019-07-13T00:00:00",
          "2019-07-14T00:00:00",
          "2019-07-15T00:00:00",
          "2019-07-16T00:00:00",
          "2019-07-17T00:00:00",
          "2019-07-18T00:00:00",
          "2019-07-19T00:00:00",
          "2019-07-20T00:00:00",
          "2019-07-21T00:00:00",
          "2019-07-22T00:00:00",
          "2019-07-23T00:00:00",
          "2019-07-24T00:00:00",
          "2019-07-25T00:00:00",
          "2019-07-26T00:00:00",
          "2019-07-27T00:00:00",
          "2019-07-28T00:00:00",
          "2019-07-29T00:00:00",
          "2019-07-30T00:00:00",
          "2019-07-31T00:00:00",
          "2019-08-01T00:00:00",
          "2019-08-02T00:00:00",
          "2019-08-03T00:00:00",
          "2019-08-04T00:00:00",
          "2019-08-05T00:00:00",
          "2019-08-06T00:00:00",
          "2019-08-07T00:00:00",
          "2019-08-08T00:00:00",
          "2019-08-09T00:00:00",
          "2019-08-10T00:00:00",
          "2019-08-11T00:00:00",
          "2019-08-12T00:00:00"
         ],
         "y": [
          2906.474215277779,
          2803.581750000004,
          2715.928694444451,
          2653.0482708333398,
          2356.7296388888876,
          2450.1450486111107,
          2555.917826388888,
          2566.5587638888933,
          2558.1391805555563,
          2661.5631666666654,
          2712.268812500005,
          2680.862333333332,
          2718.264888888894,
          2657.009215277778,
          2559.341569444444,
          2464.9203888888896,
          2407.794423611114,
          2533.6016041666626,
          2558.770583333335,
          2524.0453819444497,
          2462.3251597222225,
          2444.7650347222207,
          2524.042131944447,
          2596.6061319444475,
          2569.9141666666737,
          2593.83718055556,
          2543.1207638888936,
          2516.3489097222214,
          2539.2847569444484,
          2455.0341527777796,
          2339.67059722222,
          2343.987402777782,
          2371.100986111114,
          2279.3203333333418,
          2073.9353055555507,
          1939.7691666666651,
          2056.5191180555607,
          2280.832284722225,
          2311.804187499999,
          2492.0011805555505,
          2718.66329861111,
          2779.7550000000033,
          2767.121493055555,
          2753.6120972222275,
          2624.099263888895,
          2499.1164097222277,
          2569.3229652777813,
          2737.2861944444467,
          2718.175916666668,
          2675.802902777784,
          2760.5994583333304,
          2769.700041666668,
          2713.936569444449,
          2743.284652777787,
          2827.005715277781,
          3153.660069444449,
          3236.0079166666746,
          3308.0867569444586,
          3416.0661041666613,
          3341.188736111121,
          3391.8064374999985,
          3503.103180555562,
          3757.487743055561,
          4023.2860000000037,
          4167.993833333334,
          4167.686743055565,
          4166.003368055552,
          4345.919243055558,
          4228.188402777789,
          4055.157333333346,
          4060.0714097222326,
          4022.7011666666704,
          3922.028104166666,
          4141.476888888893,
          4180.539020833341,
          4356.688888888902,
          4311.373458333351,
          4340.41629861112,
          4304.705208333351,
          4464.279500000008,
          4575.960375000009,
          4669.390076388895,
          4801.706236111117,
          4684.137694444455,
          4576.001104166673,
          4361.9361666666555,
          4252.457069444449,
          4528.704993055561,
          4584.30025694446,
          4482.604402777778,
          4292.220722222222,
          4180.850256944438,
          4210.225687500004,
          4253.140652777776,
          3934.011493055559,
          3624.5376458333308,
          3409.156631944439,
          3696.292625000008,
          3634.360208333341,
          3941.1198541666736,
          3962.9578749999987,
          3937.1915555555534,
          3791.3262638888873,
          3626.56877777778,
          3713.8222499999893,
          3695.2018541666625,
          3819.9963263888803,
          3914.8063263888916,
          4035.8797291666588,
          4188.612034722216,
          4144.9773819444545,
          4270.209180555565,
          4290.9005902777835,
          4395.493111111113,
          4311.992895833344,
          4249.643597222228,
          4255.330979166674,
          4359.174444444453,
          4351.288687500015,
          4495.808520833344,
          4643.429222222222,
          4811.700548611115,
          4787.352048611121,
          5114.763875000004,
          5618.339881944439,
          5666.474111111125,
          5610.077659722221,
          5673.469020833336,
          5625.583124999998,
          5402.310152777783,
          5654.104562500007,
          5788.776069444453,
          6073.861624999996,
          5910.377895833341,
          5869.137208333331,
          5659.772756944453,
          5547.822833333337,
          5826.5624305555675,
          5822.675326388888,
          5749.922930555566,
          5883.7243263888895,
          6122.401979166681,
          6240.408875000002,
          6502.706909722225,
          6952.339833333342,
          7240.374881944453,
          7258.124208333341,
          7458.392979166676,
          7228.157159722217,
          7102.901493055557,
          7386.520145833342,
          7244.327472222225,
          6961.358118055562,
          6556.024395833337,
          6114.231854166673,
          6346.988562500001,
          6590.393958333334,
          7046.016361111107,
          7459.5306875,
          7827.064805555566,
          7697.005916666671,
          7825.9264166666635,
          8090.021590277788,
          8157.685722222237,
          8194.893506944461,
          8175.670479166667,
          8168.087229166671,
          8428.860465277778,
          8972.45295138889,
          9556.814923611137,
          9833.026659722245,
          10403.94379166668,
          9888.908548611136,
          10194.8572638889,
          10938.31135416666,
          11291.630187499997,
          11346.529326388907,
          11656.498604166689,
          12580.533465277795,
          14778.207416666659,
          15432.868875000007,
          14806.800236111114,
          14134.664791666688,
          16202.50012500004,
          16730.929659722206,
          16540.327312500034,
          16343.036833333323,
          17365.62792361109,
          18176.730138888863,
          19190.340631944408,
          18720.01349999997,
          18320.41626388884,
          16834.521375000026,
          16221.424986111117,
          13761.145826388869,
          14768.55603472223,
          13656.086034722228,
          13966.06769444444,
          15243.615263888882,
          15581.444701388853,
          14248.632048611133,
          14534.974930555547,
          13212.859868055571,
          13339.22119444444,
          13425.415124999998,
          13879.358895833342,
          14963.699340277786,
          14818.780319444424,
          15792.452506944403,
          16666.922951388857,
          16517.014097222225,
          15300.74915277776,
          14868.201201388889,
          14194.688409722214,
          13697.100145833341,
          13661.494569444449,
          14224.945451388912,
          13679.928909722257,
          13821.277097222206,
          12164.619152777768,
          10680.231659722216,
          11495.746736111108,
          11513.536416666664,
          12471.649145833333,
          11895.589819444449,
          11131.135819444438,
          10724.710277777793,
          11007.914437500012,
          11300.592097222247,
          11011.94201388889,
          11238.782944444469,
          11673.103618055535,
          11283.896194444453,
          10628.612597222236,
          9987.00209722223,
          9497.750625000028,
          8558.503076388899,
          8912.281611111122,
          8722.604465277787,
          7611.722958333325,
          6828.462006944439,
          7914.380222222217,
          8216.322486111098,
          8261.487381944451,
          8656.487229166652,
          8188.491090277783,
          8624.076937500005,
          8609.80722222223,
          9025.642687500025,
          9803.039104166684,
          10025.99250694445,
          10677.811173611124,
          10737.341631944453,
          10867.436395833349,
          11498.189631944457,
          10791.702006944444,
          10272.655520833341,
          10013.161215277789,
          9931.702569444478,
          9595.83642361113,
          9910.592527777806,
          10552.671340277788,
          10621.063326388921,
          10650.838465277793,
          10980.791097222265,
          11344.269083333334,
          11242.097152777793,
          11520.930465277766,
          11021.738861111102,
          10399.997006944468,
          9705.391458333352,
          8907.997486111099,
          9236.650131944436,
          9058.136361111123,
          9436.36200694445,
          9155.890388888914,
          8769.349694444441,
          8112.515770833351,
          8315.006604166676,
          8079.593062500001,
          7679.651055555559,
          8355.255979166664,
          8622.49709722222,
          8983.081652777786,
          8793.326687500008,
          8529.94406944445,
          8857.918083333345,
          8535.650166666666,
          8208.19347916669,
          7965.760694444459,
          7916.943312500011,
          7518.686965277791,
          6888.176854166671,
          7005.669125000011,
          6797.412069444436,
          6978.018000000003,
          7325.304333333331,
          7077.711673611102,
          6758.105076388888,
          6649.452291666674,
          6891.6737638889,
          6988.428743055562,
          6891.471624999996,
          6779.244319444467,
          6879.948687500013,
          7336.708215277788,
          7992.690451388897,
          8010.872291666685,
          8215.487236111117,
          8080.020305555557,
          8036.633618055566,
          8057.3129930555615,
          8213.267708333358,
          8445.635604166675,
          8800.278312499991,
          8888.387819444462,
          8895.62331249999,
          9314.519125000023,
          9221.040361111107,
          8883.210298611131,
          9217.02084722222,
          9240.572972222244,
          9356.157784722249,
          9290.616041666668,
          8988.595694444466,
          9112.689791666677,
          9379.656666666657,
          9656.508229166666,
          9829.181138888915,
          9615.699180555568,
          9344.100527777799,
          9260.790923611114,
          9193.325472222248,
          9265.502951388902,
          8701.556430555573,
          8423.31487500004,
          8550.491187500027,
          8581.468430555582,
          8642.09697222224,
          8282.705625000013,
          8277.959930555586,
          8106.672548611127,
          8254.920923611124,
          8361.972944444464,
          8455.092916666694,
          8233.2557916667,
          7784.575402777791,
          7538.571881944487,
          7486.668048611141,
          7490.143826388919,
          7317.306069444448,
          7255.434381944465,
          7293.893402777787,
          7432.491090277765,
          7500.117368055571,
          7481.193180555582,
          7597.247354166683,
          7690.673791666691,
          7575.316763888909,
          7491.722708333352,
          7606.389534722249,
          7692.524618055574,
          7629.560597222222,
          7630.158000000005,
          7133.649305555566,
          6760.716284722224,
          6754.097347222223,
          6443.017722222231,
          6501.825152777797,
          6550.993312499992,
          6462.630548611125,
          6509.097465277774,
          6522.887597222218,
          6718.137923611121,
          6680.922951388888,
          6736.712444444453,
          6359.654034722214,
          6135.97526388889,
          6024.7279027777895,
          6203.3115555555705,
          6201.928152777776,
          6096.063604166686,
          6082.033944444458,
          5903.817749999997,
          6363.47595833333,
          6350.025388888889,
          6453.064812500014,
          6596.762625000031,
          6571.150868055561,
          6581.060631944442,
          6541.890631944446,
          6573.3242361111,
          6739.136618055562,
          6705.734666666673,
          6480.4565208333415,
          6354.405493055556,
          6219.166937500008,
          6236.785770833367,
          6236.172256944462,
          6318.537784722239,
          6521.181465277782,
          6877.720881944445,
          7402.712555555563,
          7390.11466666668,
          7420.562833333363,
          7347.857055555567,
          7448.0036597222515,
          7679.556715277796,
          8071.491902777785,
          8253.59904166666,
          8196.509159722247,
          8021.516604166678,
          8179.995840277793,
          8202.688618055583,
          8133.9497777778,
          7915.115548611122,
          7569.98511111112,
          7590.178583333349,
          7394.100701388909,
          7248.6566458333655,
          6995.644215277812,
          6987.8438472222315,
          6986.739444444467,
          6444.725208333348,
          6394.324194444451,
          6394.919993055561,
          6188.136972222216,
          6304.35070833334,
          6345.708180555566,
          6056.106715277783,
          6369.123708333329,
          6344.468576388896,
          6466.790055555574,
          6446.211965277772,
          6397.762687500009,
          6444.960090277811,
          6399.587041666682,
          6579.496944444452,
          6433.5398680555545,
          6551.867993055588,
          6713.861659722258,
          6669.950659722236,
          6712.779381944449,
          6986.976090277787,
          7049.229027777782,
          6929.053499999996,
          6979.79039583335,
          7105.35293750002,
          7239.421576388906,
          7259.906249999994,
          7322.047874999996,
          7125.833812499998,
          6421.734145833346,
          6443.361534722262,
          6360.320930555571,
          6289.750152777783,
          6287.392875000001,
          6290.2325902777875,
          6268.183465277798,
          6440.572034722228,
          6500.248395833359,
          6519.018743055587,
          6484.170666666674,
          6398.048562500014,
          6295.923305555575,
          6336.486597222232,
          6411.717736111115,
          6658.61240972222,
          6705.587187499994,
          6706.800166666679,
          6638.184479166654,
          6413.125020833338,
          6461.356423611127,
          6520.746958333349,
          6665.077402777776,
          6539.937986111108,
          6577.550055555549,
          6574.940298611117,
          6541.682701388867,
          6447.232340277765,
          6547.230777777762,
          6544.547159722216,
          6556.2918263888805,
          6533.511180555536,
          6586.734770833344,
          6587.5929722221945,
          6517.042173611102,
          6213.507291666667,
          6201.429923611101,
          6196.307437500009,
          6225.605215277768,
          6368.968388888887,
          6437.686604166653,
          6438.604631944451,
          6427.5492222222265,
          6385.541597222227,
          6396.777493055575,
          6433.669687499999,
          6405.4003749999765,
          6395.747611111114,
          6425.273986111101,
          6400.467819444443,
          6400.76842361109,
          6407.05902083333,
          6402.554041666676,
          6329.9985763889,
          6264.565631944463,
          6277.430083333336,
          6310.56606249998,
          6351.960548611104,
          6333.967756944455,
          6364.34178472219,
          6404.680194444427,
          6412.868326388882,
          6506.8773680555605,
          6449.525041666662,
          6365.883486111105,
          6354.911069444451,
          6339.537944444456,
          6350.976541666664,
          6290.059034722227,
          6019.894937499998,
          5494.714520833338,
          5530.675125000012,
          5485.194152777787,
          5534.090277777771,
          5203.1593819444415,
          4531.132569444447,
          4447.252770833336,
          4468.593826388887,
          4248.508673611109,
          4203.4345069444435,
          3756.95189583334,
          3850.8809305555556,
          3702.9673125000036,
          4057.7619513888876,
          4224.60156944445,
          4075.2327916666695,
          4078.2717500000003,
          4120.349090277774,
          3924.919868055556,
          3904.986423611119,
          3802.7635277777786,
          3694.9691111111147,
          3360.1898402777783,
          3384.9175000000073,
          3468.0102222222245,
          3468.8128611111065,
          3365.570430555562,
          3397.2696736111166,
          3360.91896527778,
          3233.8725902777715,
          3180.2247847222225,
          3217.120479166661,
          3333.074319444453,
          3508.6461597222205,
          3748.380458333341,
          3923.0398263888833,
          3972.550958333326,
          3851.8717222222185,
          3978.132437499989,
          4125.493027777772,
          3773.2280555555553,
          3779.5463055555515,
          3717.7947291666655,
          3700.835333333332,
          3873.5531736111043,
          3788.032055555552,
          3757.3624166666555,
          3700.3265972222234,
          3823.112729166656,
          3830.1849722222178,
          3785.05104861111,
          3834.452138888893,
          3874.5452152777775,
          4022.664298611106,
          4006.257034722222,
          4010.7763958333285,
          3795.507187500005,
          3636.7025416666634,
          3626.5706319444425,
          3580.619624999998,
          3580.005486111115,
          3641.574458333333,
          3603.472229166661,
          3602.951118055559,
          3615.6680555555517,
          3671.6374999999907,
          3607.2373958333274,
          3535.8616458333254,
          3551.567465277765,
          3569.4726805555633,
          3553.9397777777735,
          3557.15230555555,
          3571.367611111122,
          3545.671416666666,
          3438.032173611103,
          3398.639076388891,
          3423.095763888887,
          3424.856152777782,
          3416.3658680555586,
          3431.8366666666716,
          3425.4384861111216,
          3414.204527777778,
          3419.36813888888,
          3371.575750000001,
          3366.4235208333366,
          3451.4933402777733,
          3614.884708333324,
          3608.1552916666656,
          3595.2006875,
          3577.8480416666685,
          3582.285694444439,
          3569.1406111111155,
          3570.4032013888955,
          3587.6629097222267,
          3585.4940555555586,
          3756.019819444445,
          3900.652402777775,
          3910.843916666662,
          3906.7272222222296,
          3925.343680555563,
          3980.2158541666718,
          3989.5767638888838,
          3792.778916666669,
          3799.9307777777794,
          3795.3566597222207,
          3810.278263888891,
          3813.27386805555,
          3805.279194444444,
          3801.456263888886,
          3725.0505902777822,
          3765.770388888884,
          3838.784395833329,
          3861.3823194444494,
          3871.895409722215,
          3889.980624999997,
          3893.019138888882,
          3864.6125624999936,
          3847.294444444448,
          3853.5086458333462,
          3850.2652013888824,
          3877.4722777777793,
          3978.552020833331,
          3963.1048819444545,
          3969.4853958333247,
          3977.0401319444522,
          3995.406333333329,
          4005.9583888888824,
          3981.5695555555526,
          3980.761215277784,
          3968.612951388893,
          3949.801881944454,
          3908.431326388902,
          3993.995347222206,
          4009.194069444443,
          4057.541465277782,
          4083.772388888892,
          4088.348868055553,
          4125.548659722221,
          4647.141729166669,
          5038.50502083333,
          4971.659173611101,
          4981.012118055559,
          5042.754319444438,
          5128.465159722207,
          5241.546451388895,
          5221.413534722217,
          5270.475166666668,
          5129.761715277781,
          5047.637659722214,
          5084.51536805556,
          5078.802409722226,
          5122.114104166673,
          5098.620062500001,
          5218.718937499994,
          5263.983847222229,
          5259.1587361111115,
          5313.275881944437,
          5288.680506944438,
          5317.52523611111,
          5531.954173611113,
          5486.831687500015,
          5423.299951388892,
          5149.682201388893,
          5165.260756944446,
          5169.915263888891,
          5154.869499999995,
          5199.331576388891,
          5303.564006944443,
          5360.945784722242,
          5617.309986111107,
          5694.244680555553,
          5721.58211805556,
          5656.3270069444425,
          5863.695777777779,
          5843.870868055555,
          6047.245256944443,
          6290.585555555554,
          6806.6770625000045,
          7155.474208333327,
          7408.98296527779,
          7993.158020833342,
          8054.80577777778,
          7993.707881944452,
          7263.197819444444,
          7326.348763888892,
          7934.045673611123,
          7906.761131944451,
          7952.989784722219,
          7890.863298611112,
          7703.517611111119,
          7983.823395833333,
          8045.214743055539,
          8125.428284722212,
          8782.527847222222,
          8726.034833333331,
          8646.49276388888,
          8631.68847916668,
          8350.288833333312,
          8542.015763888876,
          8668.05993750001,
          8531.08584722222,
          7851.133666666666,
          7771.943777777767,
          7751.1627916666675,
          7938.752041666664,
          7941.170618055555,
          7799.946125000009,
          7820.271444444434,
          7897.226569444459,
          8036.859090277781,
          8169.982472222209,
          8353.574541666672,
          8727.897222222222,
          9096.019243055567,
          9236.642777777772,
          9153.257826388888,
          9148.226562500011,
          9353.45185416665,
          9802.451152777776,
          10725.602312500023,
          10747.117999999991,
          10844.867333333319,
          11314.388562500011,
          12643.553618055552,
          11803.958812500003,
          11678.356861111108,
          11850.858194444452,
          11540.011777777765,
          10687.819687499998,
          10305.094118055564,
          11345.892000000002,
          11760.026750000003,
          11141.252972222204,
          11416.435701388893,
          11311.678444444451,
          11794.189805555567,
          12514.21774305554,
          12649.908881944439,
          11584.54125000001,
          11585.792416666667,
          11430.236854166653,
          10860.6743263889,
          10419.180666666702,
          10356.278006944454,
          9577.303708333347,
          10053.263270833328,
          10473.079361111104,
          10680.938881944432,
          10578.370826388895,
          10451.459284722223,
          10071.961000000008,
          9703.44240277778,
          10023.55200000002,
          9775.523166666679,
          9731.698895833339,
          9486.49152083333,
          9541.105833333348,
          9541.569750000022,
          9857.407680555563,
          10085.621541666671,
          10475.718763888879,
          10785.766958333332,
          10820.892229166655,
          11676.32672916666,
          11758.30978472223,
          11712.383777777764,
          11802.534583333349,
          11820.873673611108,
          11582.249006944416,
          11379.078881944437,
          11520
         ]
        },
        {
         "marker": {
          "color": "rgba(115, 120, 235, 0.5)"
         },
         "mode": "lines",
         "name": "Predicted",
         "type": "scatter",
         "x": [
          "2017-06-11T00:00:00",
          "2017-06-12T00:00:00",
          "2017-06-13T00:00:00",
          "2017-06-14T00:00:00",
          "2017-06-15T00:00:00",
          "2017-06-16T00:00:00",
          "2017-06-17T00:00:00",
          "2017-06-18T00:00:00",
          "2017-06-19T00:00:00",
          "2017-06-20T00:00:00",
          "2017-06-21T00:00:00",
          "2017-06-22T00:00:00",
          "2017-06-23T00:00:00",
          "2017-06-24T00:00:00",
          "2017-06-25T00:00:00",
          "2017-06-26T00:00:00",
          "2017-06-27T00:00:00",
          "2017-06-28T00:00:00",
          "2017-06-29T00:00:00",
          "2017-06-30T00:00:00",
          "2017-07-01T00:00:00",
          "2017-07-02T00:00:00",
          "2017-07-03T00:00:00",
          "2017-07-04T00:00:00",
          "2017-07-05T00:00:00",
          "2017-07-06T00:00:00",
          "2017-07-07T00:00:00",
          "2017-07-08T00:00:00",
          "2017-07-09T00:00:00",
          "2017-07-10T00:00:00",
          "2017-07-11T00:00:00",
          "2017-07-12T00:00:00",
          "2017-07-13T00:00:00",
          "2017-07-14T00:00:00",
          "2017-07-15T00:00:00",
          "2017-07-16T00:00:00",
          "2017-07-17T00:00:00",
          "2017-07-18T00:00:00",
          "2017-07-19T00:00:00",
          "2017-07-20T00:00:00",
          "2017-07-21T00:00:00",
          "2017-07-22T00:00:00",
          "2017-07-23T00:00:00",
          "2017-07-24T00:00:00",
          "2017-07-25T00:00:00",
          "2017-07-26T00:00:00",
          "2017-07-27T00:00:00",
          "2017-07-28T00:00:00",
          "2017-07-29T00:00:00",
          "2017-07-30T00:00:00",
          "2017-07-31T00:00:00",
          "2017-08-01T00:00:00",
          "2017-08-02T00:00:00",
          "2017-08-03T00:00:00",
          "2017-08-04T00:00:00",
          "2017-08-05T00:00:00",
          "2017-08-06T00:00:00",
          "2017-08-07T00:00:00",
          "2017-08-08T00:00:00",
          "2017-08-09T00:00:00",
          "2017-08-10T00:00:00",
          "2017-08-11T00:00:00",
          "2017-08-12T00:00:00",
          "2017-08-13T00:00:00",
          "2017-08-14T00:00:00",
          "2017-08-15T00:00:00",
          "2017-08-16T00:00:00",
          "2017-08-17T00:00:00",
          "2017-08-18T00:00:00",
          "2017-08-19T00:00:00",
          "2017-08-20T00:00:00",
          "2017-08-21T00:00:00",
          "2017-08-22T00:00:00",
          "2017-08-23T00:00:00",
          "2017-08-24T00:00:00",
          "2017-08-25T00:00:00",
          "2017-08-26T00:00:00",
          "2017-08-27T00:00:00",
          "2017-08-28T00:00:00",
          "2017-08-29T00:00:00",
          "2017-08-30T00:00:00",
          "2017-08-31T00:00:00",
          "2017-09-01T00:00:00",
          "2017-09-02T00:00:00",
          "2017-09-03T00:00:00",
          "2017-09-04T00:00:00",
          "2017-09-05T00:00:00",
          "2017-09-06T00:00:00",
          "2017-09-07T00:00:00",
          "2017-09-08T00:00:00",
          "2017-09-09T00:00:00",
          "2017-09-10T00:00:00",
          "2017-09-11T00:00:00",
          "2017-09-12T00:00:00",
          "2017-09-13T00:00:00",
          "2017-09-14T00:00:00",
          "2017-09-15T00:00:00",
          "2017-09-16T00:00:00",
          "2017-09-17T00:00:00",
          "2017-09-18T00:00:00",
          "2017-09-19T00:00:00",
          "2017-09-20T00:00:00",
          "2017-09-21T00:00:00",
          "2017-09-22T00:00:00",
          "2017-09-23T00:00:00",
          "2017-09-24T00:00:00",
          "2017-09-25T00:00:00",
          "2017-09-26T00:00:00",
          "2017-09-27T00:00:00",
          "2017-09-28T00:00:00",
          "2017-09-29T00:00:00",
          "2017-09-30T00:00:00",
          "2017-10-01T00:00:00",
          "2017-10-02T00:00:00",
          "2017-10-03T00:00:00",
          "2017-10-04T00:00:00",
          "2017-10-05T00:00:00",
          "2017-10-06T00:00:00",
          "2017-10-07T00:00:00",
          "2017-10-08T00:00:00",
          "2017-10-09T00:00:00",
          "2017-10-10T00:00:00",
          "2017-10-11T00:00:00",
          "2017-10-12T00:00:00",
          "2017-10-13T00:00:00",
          "2017-10-14T00:00:00",
          "2017-10-15T00:00:00",
          "2017-10-16T00:00:00",
          "2017-10-17T00:00:00",
          "2017-10-18T00:00:00",
          "2017-10-19T00:00:00",
          "2017-10-20T00:00:00",
          "2017-10-21T00:00:00",
          "2017-10-22T00:00:00",
          "2017-10-23T00:00:00",
          "2017-10-24T00:00:00",
          "2017-10-25T00:00:00",
          "2017-10-26T00:00:00",
          "2017-10-27T00:00:00",
          "2017-10-28T00:00:00",
          "2017-10-29T00:00:00",
          "2017-10-30T00:00:00",
          "2017-10-31T00:00:00",
          "2017-11-01T00:00:00",
          "2017-11-02T00:00:00",
          "2017-11-03T00:00:00",
          "2017-11-04T00:00:00",
          "2017-11-05T00:00:00",
          "2017-11-06T00:00:00",
          "2017-11-07T00:00:00",
          "2017-11-08T00:00:00",
          "2017-11-09T00:00:00",
          "2017-11-10T00:00:00",
          "2017-11-11T00:00:00",
          "2017-11-12T00:00:00",
          "2017-11-13T00:00:00",
          "2017-11-14T00:00:00",
          "2017-11-15T00:00:00",
          "2017-11-16T00:00:00",
          "2017-11-17T00:00:00",
          "2017-11-18T00:00:00",
          "2017-11-19T00:00:00",
          "2017-11-20T00:00:00",
          "2017-11-21T00:00:00",
          "2017-11-22T00:00:00",
          "2017-11-23T00:00:00",
          "2017-11-24T00:00:00",
          "2017-11-25T00:00:00",
          "2017-11-26T00:00:00",
          "2017-11-27T00:00:00",
          "2017-11-28T00:00:00",
          "2017-11-29T00:00:00",
          "2017-11-30T00:00:00",
          "2017-12-01T00:00:00",
          "2017-12-02T00:00:00",
          "2017-12-03T00:00:00",
          "2017-12-04T00:00:00",
          "2017-12-05T00:00:00",
          "2017-12-06T00:00:00",
          "2017-12-07T00:00:00",
          "2017-12-08T00:00:00",
          "2017-12-09T00:00:00",
          "2017-12-10T00:00:00",
          "2017-12-11T00:00:00",
          "2017-12-12T00:00:00",
          "2017-12-13T00:00:00",
          "2017-12-14T00:00:00",
          "2017-12-15T00:00:00",
          "2017-12-16T00:00:00",
          "2017-12-17T00:00:00",
          "2017-12-18T00:00:00",
          "2017-12-19T00:00:00",
          "2017-12-20T00:00:00",
          "2017-12-21T00:00:00",
          "2017-12-22T00:00:00",
          "2017-12-23T00:00:00",
          "2017-12-24T00:00:00",
          "2017-12-25T00:00:00",
          "2017-12-26T00:00:00",
          "2017-12-27T00:00:00",
          "2017-12-28T00:00:00",
          "2017-12-29T00:00:00",
          "2017-12-30T00:00:00",
          "2017-12-31T00:00:00",
          "2018-01-01T00:00:00",
          "2018-01-02T00:00:00",
          "2018-01-03T00:00:00",
          "2018-01-04T00:00:00",
          "2018-01-05T00:00:00",
          "2018-01-06T00:00:00",
          "2018-01-07T00:00:00",
          "2018-01-08T00:00:00",
          "2018-01-09T00:00:00",
          "2018-01-10T00:00:00",
          "2018-01-11T00:00:00",
          "2018-01-12T00:00:00",
          "2018-01-13T00:00:00",
          "2018-01-14T00:00:00",
          "2018-01-15T00:00:00",
          "2018-01-16T00:00:00",
          "2018-01-17T00:00:00",
          "2018-01-18T00:00:00",
          "2018-01-19T00:00:00",
          "2018-01-20T00:00:00",
          "2018-01-21T00:00:00",
          "2018-01-22T00:00:00",
          "2018-01-23T00:00:00",
          "2018-01-24T00:00:00",
          "2018-01-25T00:00:00",
          "2018-01-26T00:00:00",
          "2018-01-27T00:00:00",
          "2018-01-28T00:00:00",
          "2018-01-29T00:00:00",
          "2018-01-30T00:00:00",
          "2018-01-31T00:00:00",
          "2018-02-01T00:00:00",
          "2018-02-02T00:00:00",
          "2018-02-03T00:00:00",
          "2018-02-04T00:00:00",
          "2018-02-05T00:00:00",
          "2018-02-06T00:00:00",
          "2018-02-07T00:00:00",
          "2018-02-08T00:00:00",
          "2018-02-09T00:00:00",
          "2018-02-10T00:00:00",
          "2018-02-11T00:00:00",
          "2018-02-12T00:00:00",
          "2018-02-13T00:00:00",
          "2018-02-14T00:00:00",
          "2018-02-15T00:00:00",
          "2018-02-16T00:00:00",
          "2018-02-17T00:00:00",
          "2018-02-18T00:00:00",
          "2018-02-19T00:00:00",
          "2018-02-20T00:00:00",
          "2018-02-21T00:00:00",
          "2018-02-22T00:00:00",
          "2018-02-23T00:00:00",
          "2018-02-24T00:00:00",
          "2018-02-25T00:00:00",
          "2018-02-26T00:00:00",
          "2018-02-27T00:00:00",
          "2018-02-28T00:00:00",
          "2018-03-01T00:00:00",
          "2018-03-02T00:00:00",
          "2018-03-03T00:00:00",
          "2018-03-04T00:00:00",
          "2018-03-05T00:00:00",
          "2018-03-06T00:00:00",
          "2018-03-07T00:00:00",
          "2018-03-08T00:00:00",
          "2018-03-09T00:00:00",
          "2018-03-10T00:00:00",
          "2018-03-11T00:00:00",
          "2018-03-12T00:00:00",
          "2018-03-13T00:00:00",
          "2018-03-14T00:00:00",
          "2018-03-15T00:00:00",
          "2018-03-16T00:00:00",
          "2018-03-17T00:00:00",
          "2018-03-18T00:00:00",
          "2018-03-19T00:00:00",
          "2018-03-20T00:00:00",
          "2018-03-21T00:00:00",
          "2018-03-22T00:00:00",
          "2018-03-23T00:00:00",
          "2018-03-24T00:00:00",
          "2018-03-25T00:00:00",
          "2018-03-26T00:00:00",
          "2018-03-27T00:00:00",
          "2018-03-28T00:00:00",
          "2018-03-29T00:00:00",
          "2018-03-30T00:00:00",
          "2018-03-31T00:00:00",
          "2018-04-01T00:00:00",
          "2018-04-02T00:00:00",
          "2018-04-03T00:00:00",
          "2018-04-04T00:00:00",
          "2018-04-05T00:00:00",
          "2018-04-06T00:00:00",
          "2018-04-07T00:00:00",
          "2018-04-08T00:00:00",
          "2018-04-09T00:00:00",
          "2018-04-10T00:00:00",
          "2018-04-11T00:00:00",
          "2018-04-12T00:00:00",
          "2018-04-13T00:00:00",
          "2018-04-14T00:00:00",
          "2018-04-15T00:00:00",
          "2018-04-16T00:00:00",
          "2018-04-17T00:00:00",
          "2018-04-18T00:00:00",
          "2018-04-19T00:00:00",
          "2018-04-20T00:00:00",
          "2018-04-21T00:00:00",
          "2018-04-22T00:00:00",
          "2018-04-23T00:00:00",
          "2018-04-24T00:00:00",
          "2018-04-25T00:00:00",
          "2018-04-26T00:00:00",
          "2018-04-27T00:00:00",
          "2018-04-28T00:00:00",
          "2018-04-29T00:00:00",
          "2018-04-30T00:00:00",
          "2018-05-01T00:00:00",
          "2018-05-02T00:00:00",
          "2018-05-03T00:00:00",
          "2018-05-04T00:00:00",
          "2018-05-05T00:00:00",
          "2018-05-06T00:00:00",
          "2018-05-07T00:00:00",
          "2018-05-08T00:00:00",
          "2018-05-09T00:00:00",
          "2018-05-10T00:00:00",
          "2018-05-11T00:00:00",
          "2018-05-12T00:00:00",
          "2018-05-13T00:00:00",
          "2018-05-14T00:00:00",
          "2018-05-15T00:00:00",
          "2018-05-16T00:00:00",
          "2018-05-17T00:00:00",
          "2018-05-18T00:00:00",
          "2018-05-19T00:00:00",
          "2018-05-20T00:00:00",
          "2018-05-21T00:00:00",
          "2018-05-22T00:00:00",
          "2018-05-23T00:00:00",
          "2018-05-24T00:00:00",
          "2018-05-25T00:00:00",
          "2018-05-26T00:00:00",
          "2018-05-27T00:00:00",
          "2018-05-28T00:00:00",
          "2018-05-29T00:00:00",
          "2018-05-30T00:00:00",
          "2018-05-31T00:00:00",
          "2018-06-01T00:00:00",
          "2018-06-02T00:00:00",
          "2018-06-03T00:00:00",
          "2018-06-04T00:00:00",
          "2018-06-05T00:00:00",
          "2018-06-06T00:00:00",
          "2018-06-07T00:00:00",
          "2018-06-08T00:00:00",
          "2018-06-09T00:00:00",
          "2018-06-10T00:00:00",
          "2018-06-11T00:00:00",
          "2018-06-12T00:00:00",
          "2018-06-13T00:00:00",
          "2018-06-14T00:00:00",
          "2018-06-15T00:00:00",
          "2018-06-16T00:00:00",
          "2018-06-17T00:00:00",
          "2018-06-18T00:00:00",
          "2018-06-19T00:00:00",
          "2018-06-20T00:00:00",
          "2018-06-21T00:00:00",
          "2018-06-22T00:00:00",
          "2018-06-23T00:00:00",
          "2018-06-24T00:00:00",
          "2018-06-25T00:00:00",
          "2018-06-26T00:00:00",
          "2018-06-27T00:00:00",
          "2018-06-28T00:00:00",
          "2018-06-29T00:00:00",
          "2018-06-30T00:00:00",
          "2018-07-01T00:00:00",
          "2018-07-02T00:00:00",
          "2018-07-03T00:00:00",
          "2018-07-04T00:00:00",
          "2018-07-05T00:00:00",
          "2018-07-06T00:00:00",
          "2018-07-07T00:00:00",
          "2018-07-08T00:00:00",
          "2018-07-09T00:00:00",
          "2018-07-10T00:00:00",
          "2018-07-11T00:00:00",
          "2018-07-12T00:00:00",
          "2018-07-13T00:00:00",
          "2018-07-14T00:00:00",
          "2018-07-15T00:00:00",
          "2018-07-16T00:00:00",
          "2018-07-17T00:00:00",
          "2018-07-18T00:00:00",
          "2018-07-19T00:00:00",
          "2018-07-20T00:00:00",
          "2018-07-21T00:00:00",
          "2018-07-22T00:00:00",
          "2018-07-23T00:00:00",
          "2018-07-24T00:00:00",
          "2018-07-25T00:00:00",
          "2018-07-26T00:00:00",
          "2018-07-27T00:00:00",
          "2018-07-28T00:00:00",
          "2018-07-29T00:00:00",
          "2018-07-30T00:00:00",
          "2018-07-31T00:00:00",
          "2018-08-01T00:00:00",
          "2018-08-02T00:00:00",
          "2018-08-03T00:00:00",
          "2018-08-04T00:00:00",
          "2018-08-05T00:00:00",
          "2018-08-06T00:00:00",
          "2018-08-07T00:00:00",
          "2018-08-08T00:00:00",
          "2018-08-09T00:00:00",
          "2018-08-10T00:00:00",
          "2018-08-11T00:00:00",
          "2018-08-12T00:00:00",
          "2018-08-13T00:00:00",
          "2018-08-14T00:00:00",
          "2018-08-15T00:00:00",
          "2018-08-16T00:00:00",
          "2018-08-17T00:00:00",
          "2018-08-18T00:00:00",
          "2018-08-19T00:00:00",
          "2018-08-20T00:00:00",
          "2018-08-21T00:00:00",
          "2018-08-22T00:00:00",
          "2018-08-23T00:00:00",
          "2018-08-24T00:00:00",
          "2018-08-25T00:00:00",
          "2018-08-26T00:00:00",
          "2018-08-27T00:00:00",
          "2018-08-28T00:00:00",
          "2018-08-29T00:00:00",
          "2018-08-30T00:00:00",
          "2018-08-31T00:00:00",
          "2018-09-01T00:00:00",
          "2018-09-02T00:00:00",
          "2018-09-03T00:00:00",
          "2018-09-04T00:00:00",
          "2018-09-05T00:00:00",
          "2018-09-06T00:00:00",
          "2018-09-07T00:00:00",
          "2018-09-08T00:00:00",
          "2018-09-09T00:00:00",
          "2018-09-10T00:00:00",
          "2018-09-11T00:00:00",
          "2018-09-12T00:00:00",
          "2018-09-13T00:00:00",
          "2018-09-14T00:00:00",
          "2018-09-15T00:00:00",
          "2018-09-16T00:00:00",
          "2018-09-17T00:00:00",
          "2018-09-18T00:00:00",
          "2018-09-19T00:00:00",
          "2018-09-20T00:00:00",
          "2018-09-21T00:00:00",
          "2018-09-22T00:00:00",
          "2018-09-23T00:00:00",
          "2018-09-24T00:00:00",
          "2018-09-25T00:00:00",
          "2018-09-26T00:00:00",
          "2018-09-27T00:00:00",
          "2018-09-28T00:00:00",
          "2018-09-29T00:00:00",
          "2018-09-30T00:00:00",
          "2018-10-01T00:00:00",
          "2018-10-02T00:00:00",
          "2018-10-03T00:00:00",
          "2018-10-04T00:00:00",
          "2018-10-05T00:00:00",
          "2018-10-06T00:00:00",
          "2018-10-07T00:00:00",
          "2018-10-08T00:00:00",
          "2018-10-09T00:00:00",
          "2018-10-10T00:00:00",
          "2018-10-11T00:00:00",
          "2018-10-12T00:00:00",
          "2018-10-13T00:00:00",
          "2018-10-14T00:00:00",
          "2018-10-15T00:00:00",
          "2018-10-16T00:00:00",
          "2018-10-17T00:00:00",
          "2018-10-18T00:00:00",
          "2018-10-19T00:00:00",
          "2018-10-20T00:00:00",
          "2018-10-21T00:00:00",
          "2018-10-22T00:00:00",
          "2018-10-23T00:00:00",
          "2018-10-24T00:00:00",
          "2018-10-25T00:00:00",
          "2018-10-26T00:00:00",
          "2018-10-27T00:00:00",
          "2018-10-28T00:00:00",
          "2018-10-29T00:00:00",
          "2018-10-30T00:00:00",
          "2018-10-31T00:00:00",
          "2018-11-01T00:00:00",
          "2018-11-02T00:00:00",
          "2018-11-03T00:00:00",
          "2018-11-04T00:00:00",
          "2018-11-05T00:00:00",
          "2018-11-06T00:00:00",
          "2018-11-07T00:00:00",
          "2018-11-08T00:00:00",
          "2018-11-09T00:00:00",
          "2018-11-10T00:00:00",
          "2018-11-11T00:00:00",
          "2018-11-12T00:00:00",
          "2018-11-13T00:00:00",
          "2018-11-14T00:00:00",
          "2018-11-15T00:00:00",
          "2018-11-16T00:00:00",
          "2018-11-17T00:00:00",
          "2018-11-18T00:00:00",
          "2018-11-19T00:00:00",
          "2018-11-20T00:00:00",
          "2018-11-21T00:00:00",
          "2018-11-22T00:00:00",
          "2018-11-23T00:00:00",
          "2018-11-24T00:00:00",
          "2018-11-25T00:00:00",
          "2018-11-26T00:00:00",
          "2018-11-27T00:00:00",
          "2018-11-28T00:00:00",
          "2018-11-29T00:00:00",
          "2018-11-30T00:00:00",
          "2018-12-01T00:00:00",
          "2018-12-02T00:00:00",
          "2018-12-03T00:00:00",
          "2018-12-04T00:00:00",
          "2018-12-05T00:00:00",
          "2018-12-06T00:00:00",
          "2018-12-07T00:00:00",
          "2018-12-08T00:00:00",
          "2018-12-09T00:00:00",
          "2018-12-10T00:00:00",
          "2018-12-11T00:00:00",
          "2018-12-12T00:00:00",
          "2018-12-13T00:00:00",
          "2018-12-14T00:00:00",
          "2018-12-15T00:00:00",
          "2018-12-16T00:00:00",
          "2018-12-17T00:00:00",
          "2018-12-18T00:00:00",
          "2018-12-19T00:00:00",
          "2018-12-20T00:00:00",
          "2018-12-21T00:00:00",
          "2018-12-22T00:00:00",
          "2018-12-23T00:00:00",
          "2018-12-24T00:00:00",
          "2018-12-25T00:00:00",
          "2018-12-26T00:00:00",
          "2018-12-27T00:00:00",
          "2018-12-28T00:00:00",
          "2018-12-29T00:00:00",
          "2018-12-30T00:00:00",
          "2018-12-31T00:00:00",
          "2019-01-01T00:00:00",
          "2019-01-02T00:00:00",
          "2019-01-03T00:00:00",
          "2019-01-04T00:00:00",
          "2019-01-05T00:00:00",
          "2019-01-06T00:00:00",
          "2019-01-07T00:00:00",
          "2019-01-08T00:00:00",
          "2019-01-09T00:00:00",
          "2019-01-10T00:00:00",
          "2019-01-11T00:00:00",
          "2019-01-12T00:00:00",
          "2019-01-13T00:00:00",
          "2019-01-14T00:00:00",
          "2019-01-15T00:00:00",
          "2019-01-16T00:00:00",
          "2019-01-17T00:00:00",
          "2019-01-18T00:00:00",
          "2019-01-19T00:00:00",
          "2019-01-20T00:00:00",
          "2019-01-21T00:00:00",
          "2019-01-22T00:00:00",
          "2019-01-23T00:00:00",
          "2019-01-24T00:00:00",
          "2019-01-25T00:00:00",
          "2019-01-26T00:00:00",
          "2019-01-27T00:00:00",
          "2019-01-28T00:00:00",
          "2019-01-29T00:00:00",
          "2019-01-30T00:00:00",
          "2019-01-31T00:00:00",
          "2019-02-01T00:00:00",
          "2019-02-02T00:00:00",
          "2019-02-03T00:00:00",
          "2019-02-04T00:00:00",
          "2019-02-05T00:00:00",
          "2019-02-06T00:00:00",
          "2019-02-07T00:00:00",
          "2019-02-08T00:00:00",
          "2019-02-09T00:00:00",
          "2019-02-10T00:00:00",
          "2019-02-11T00:00:00",
          "2019-02-12T00:00:00",
          "2019-02-13T00:00:00",
          "2019-02-14T00:00:00",
          "2019-02-15T00:00:00",
          "2019-02-16T00:00:00",
          "2019-02-17T00:00:00",
          "2019-02-18T00:00:00",
          "2019-02-19T00:00:00",
          "2019-02-20T00:00:00",
          "2019-02-21T00:00:00",
          "2019-02-22T00:00:00",
          "2019-02-23T00:00:00",
          "2019-02-24T00:00:00",
          "2019-02-25T00:00:00",
          "2019-02-26T00:00:00",
          "2019-02-27T00:00:00",
          "2019-02-28T00:00:00",
          "2019-03-01T00:00:00",
          "2019-03-02T00:00:00",
          "2019-03-03T00:00:00",
          "2019-03-04T00:00:00",
          "2019-03-05T00:00:00",
          "2019-03-06T00:00:00",
          "2019-03-07T00:00:00",
          "2019-03-08T00:00:00",
          "2019-03-09T00:00:00",
          "2019-03-10T00:00:00",
          "2019-03-11T00:00:00",
          "2019-03-12T00:00:00",
          "2019-03-13T00:00:00",
          "2019-03-14T00:00:00",
          "2019-03-15T00:00:00",
          "2019-03-16T00:00:00",
          "2019-03-17T00:00:00",
          "2019-03-18T00:00:00",
          "2019-03-19T00:00:00",
          "2019-03-20T00:00:00",
          "2019-03-21T00:00:00",
          "2019-03-22T00:00:00",
          "2019-03-23T00:00:00",
          "2019-03-24T00:00:00",
          "2019-03-25T00:00:00",
          "2019-03-26T00:00:00",
          "2019-03-27T00:00:00",
          "2019-03-28T00:00:00",
          "2019-03-29T00:00:00",
          "2019-03-30T00:00:00",
          "2019-03-31T00:00:00",
          "2019-04-01T00:00:00",
          "2019-04-02T00:00:00",
          "2019-04-03T00:00:00",
          "2019-04-04T00:00:00",
          "2019-04-05T00:00:00",
          "2019-04-06T00:00:00",
          "2019-04-07T00:00:00",
          "2019-04-08T00:00:00",
          "2019-04-09T00:00:00",
          "2019-04-10T00:00:00",
          "2019-04-11T00:00:00",
          "2019-04-12T00:00:00",
          "2019-04-13T00:00:00",
          "2019-04-14T00:00:00",
          "2019-04-15T00:00:00",
          "2019-04-16T00:00:00",
          "2019-04-17T00:00:00",
          "2019-04-18T00:00:00",
          "2019-04-19T00:00:00",
          "2019-04-20T00:00:00",
          "2019-04-21T00:00:00",
          "2019-04-22T00:00:00",
          "2019-04-23T00:00:00",
          "2019-04-24T00:00:00",
          "2019-04-25T00:00:00",
          "2019-04-26T00:00:00",
          "2019-04-27T00:00:00",
          "2019-04-28T00:00:00",
          "2019-04-29T00:00:00",
          "2019-04-30T00:00:00",
          "2019-05-01T00:00:00",
          "2019-05-02T00:00:00",
          "2019-05-03T00:00:00",
          "2019-05-04T00:00:00",
          "2019-05-05T00:00:00",
          "2019-05-06T00:00:00",
          "2019-05-07T00:00:00",
          "2019-05-08T00:00:00",
          "2019-05-09T00:00:00",
          "2019-05-10T00:00:00",
          "2019-05-11T00:00:00",
          "2019-05-12T00:00:00",
          "2019-05-13T00:00:00",
          "2019-05-14T00:00:00",
          "2019-05-15T00:00:00",
          "2019-05-16T00:00:00",
          "2019-05-17T00:00:00",
          "2019-05-18T00:00:00",
          "2019-05-19T00:00:00",
          "2019-05-20T00:00:00",
          "2019-05-21T00:00:00",
          "2019-05-22T00:00:00",
          "2019-05-23T00:00:00",
          "2019-05-24T00:00:00",
          "2019-05-25T00:00:00",
          "2019-05-26T00:00:00",
          "2019-05-27T00:00:00",
          "2019-05-28T00:00:00",
          "2019-05-29T00:00:00",
          "2019-05-30T00:00:00",
          "2019-05-31T00:00:00",
          "2019-06-01T00:00:00",
          "2019-06-02T00:00:00",
          "2019-06-03T00:00:00",
          "2019-06-04T00:00:00",
          "2019-06-05T00:00:00",
          "2019-06-06T00:00:00",
          "2019-06-07T00:00:00",
          "2019-06-08T00:00:00",
          "2019-06-09T00:00:00",
          "2019-06-10T00:00:00",
          "2019-06-11T00:00:00",
          "2019-06-12T00:00:00",
          "2019-06-13T00:00:00",
          "2019-06-14T00:00:00",
          "2019-06-15T00:00:00",
          "2019-06-16T00:00:00",
          "2019-06-17T00:00:00",
          "2019-06-18T00:00:00",
          "2019-06-19T00:00:00",
          "2019-06-20T00:00:00",
          "2019-06-21T00:00:00",
          "2019-06-22T00:00:00",
          "2019-06-23T00:00:00",
          "2019-06-24T00:00:00",
          "2019-06-25T00:00:00",
          "2019-06-26T00:00:00",
          "2019-06-27T00:00:00",
          "2019-06-28T00:00:00",
          "2019-06-29T00:00:00",
          "2019-06-30T00:00:00",
          "2019-07-01T00:00:00",
          "2019-07-02T00:00:00",
          "2019-07-03T00:00:00",
          "2019-07-04T00:00:00",
          "2019-07-05T00:00:00",
          "2019-07-06T00:00:00",
          "2019-07-07T00:00:00",
          "2019-07-08T00:00:00",
          "2019-07-09T00:00:00",
          "2019-07-10T00:00:00",
          "2019-07-11T00:00:00",
          "2019-07-12T00:00:00",
          "2019-07-13T00:00:00",
          "2019-07-14T00:00:00",
          "2019-07-15T00:00:00",
          "2019-07-16T00:00:00",
          "2019-07-17T00:00:00",
          "2019-07-18T00:00:00",
          "2019-07-19T00:00:00",
          "2019-07-20T00:00:00",
          "2019-07-21T00:00:00",
          "2019-07-22T00:00:00",
          "2019-07-23T00:00:00",
          "2019-07-24T00:00:00",
          "2019-07-25T00:00:00",
          "2019-07-26T00:00:00",
          "2019-07-27T00:00:00",
          "2019-07-28T00:00:00",
          "2019-07-29T00:00:00",
          "2019-07-30T00:00:00",
          "2019-07-31T00:00:00",
          "2019-08-01T00:00:00",
          "2019-08-02T00:00:00",
          "2019-08-03T00:00:00",
          "2019-08-04T00:00:00",
          "2019-08-05T00:00:00",
          "2019-08-06T00:00:00",
          "2019-08-07T00:00:00",
          "2019-08-08T00:00:00",
          "2019-08-09T00:00:00",
          "2019-08-10T00:00:00",
          "2019-08-11T00:00:00",
          "2019-08-12T00:00:00"
         ],
         "y": [
          2847.341709560224,
          2906.5119604111824,
          2729.7005034730732,
          2693.3164172815523,
          2617.83810824951,
          2334.991383314177,
          2490.354699904075,
          2558.4020247689555,
          2576.552189318843,
          2569.1448757389917,
          2686.340169198026,
          2707.8365801280625,
          2667.6613202120197,
          2709.287046506203,
          2627.77801197037,
          2529.453836814639,
          2433.15780684254,
          2399.329963070859,
          2542.140991159756,
          2551.999934241949,
          2520.06023141398,
          2460.773352355082,
          2454.416259724939,
          2528.622858949238,
          2594.223647731587,
          2552.700220490695,
          2582.9855119803833,
          2523.649904664613,
          2506.561476433368,
          2531.550472653402,
          2417.1228410766444,
          2314.191169781021,
          2346.5192683663145,
          2375.28348056092,
          2274.937251516239,
          2077.0344924489996,
          1988.5764479810491,
          2116.4480662453534,
          2309.1495438042193,
          2309.3041364026035,
          2516.8060786935957,
          2746.7113040663035,
          2778.959589267098,
          2750.436208328456,
          2765.5299902982283,
          2576.258236864207,
          2466.530576332312,
          2562.759482818762,
          2752.2544687783334,
          2697.6340084556355,
          2661.28382639206,
          2762.186452189389,
          2752.3713436716853,
          2697.3982329375563,
          2731.3138527224673,
          2821.5964399296454,
          3210.6245817217605,
          3238.081568384481,
          3308.7177518296157,
          3433.8487274899294,
          3304.9134881797895,
          3392.773659664965,
          3531.827612199581,
          3824.338437738282,
          4094.33014640756,
          4194.493217578453,
          4110.933570523471,
          4161.414663290193,
          4378.631787890788,
          4166.370276359741,
          3997.6023181042283,
          4041.1008233841353,
          3985.5423865774787,
          3879.311913027767,
          4154.330830076307,
          4159.499531322842,
          4358.415765787819,
          4288.461215992002,
          4323.884302952714,
          4273.51327534359,
          4478.929284453122,
          4567.238463425382,
          4663.475668618333,
          4802.9405093950745,
          4602.918281101205,
          4535.923416127112,
          4250.945879967147,
          4258.165731379432,
          4558.988212015126,
          4560.611647733398,
          4431.346123959244,
          4275.18585359317,
          4197.910827401825,
          4225.739424464147,
          4254.486683325098,
          3882.1306656933425,
          3620.608432499121,
          3468.5498021951844,
          3807.3570299518055,
          3676.7995050753016,
          4004.978990983897,
          3950.218915743339,
          3944.6267798692697,
          3784.8443847951676,
          3615.2082491914443,
          3699.636355791765,
          3666.690237769967,
          3815.2329741686513,
          3906.777961442727,
          4033.9103379462804,
          4186.767037416859,
          4111.502911459444,
          4266.244949022717,
          4278.3622501443515,
          4395.680267982858,
          4254.687901409991,
          4212.8390806192065,
          4231.468709410514,
          4347.615851178156,
          4327.5721997506835,
          4493.119869824921,
          4643.8803797176015,
          4822.936256893503,
          4751.548358524006,
          5170.554449575742,
          5734.518901403677,
          5697.143444614585,
          5551.308212100544,
          5720.263202150051,
          5602.151736098879,
          5295.049748446518,
          5679.499660417782,
          5796.758381524967,
          6092.340373454978,
          5845.544001289587,
          5844.749757613647,
          5576.356099978796,
          5520.774625366946,
          5843.995246015636,
          5781.340910328698,
          5717.4093628452565,
          5875.33642785515,
          6119.069080684956,
          6225.61043195552,
          6507.9466296191285,
          7026.788810022869,
          7300.833577154781,
          7247.437705892107,
          7493.825141916797,
          7034.596210664239,
          7055.7098084902045,
          7423.682297230566,
          7159.621877149062,
          6837.413905694148,
          6502.355151351659,
          6070.784347686431,
          6485.86013104693,
          6623.8848130053075,
          7076.522913047182,
          7490.610688878477,
          7832.843899714693,
          7637.221711742941,
          7808.234583016439,
          8116.503018094161,
          8180.5306246513455,
          8197.020546693318,
          8143.110380624707,
          8119.568988122067,
          8422.358426416702,
          9001.602998959353,
          9680.61400335978,
          9861.45646333261,
          10465.026924840648,
          9601.858063431087,
          10318.07676821676,
          11182.348740945428,
          11339.933215911864,
          11319.699820253,
          11741.515122303637,
          12824.648727573333,
          15361.956707176067,
          15548.2950638379,
          14536.569712457724,
          13986.154152222975,
          16922.936059563275,
          16933.44342342717,
          16307.881989263127,
          16388.058996378182,
          17673.054649313493,
          18278.235923630367,
          19268.78290955406,
          18462.02852811672,
          18147.65820254711,
          16236.702923868876,
          16135.946688056918,
          13024.999438693603,
          15088.394434834332,
          13638.459629043215,
          14561.1166115072,
          15579.722869333977,
          15745.01798260856,
          14477.626023064473,
          14703.933770728514,
          13131.03337463444,
          13295.18730468668,
          13399.86381278745,
          13836.667682544326,
          15010.25859798173,
          14704.60862193721,
          15859.633572710805,
          16725.78985100474,
          16375.259093797396,
          14882.95109887216,
          14726.692238998647,
          13818.107262665835,
          13513.094800520646,
          13659.925443796474,
          14219.211725209176,
          13716.705982811842,
          14079.618390572934,
          11922.386869149164,
          11237.17803982973,
          11902.97130780042,
          11640.829737617754,
          12549.727853222212,
          11867.827836573355,
          11346.431639359987,
          10941.727883552427,
          11283.2382319022,
          11301.13445553829,
          10891.70223478702,
          11221.145338733222,
          11659.040059536097,
          11252.220488819174,
          10540.90399695111,
          9943.727556524325,
          9436.159671789917,
          8521.23581372637,
          9211.643550433244,
          8828.280432056057,
          7754.02668225804,
          7446.203856494731,
          8460.282970855382,
          8384.365309800529,
          8397.345061658323,
          8705.602452871713,
          8115.053139683881,
          8673.6876528913,
          8559.116356777939,
          9034.915802008689,
          9989.17990488917,
          10049.919233343011,
          10783.914447863119,
          10710.947213897874,
          10876.95364800766,
          11692.530564526885,
          10452.123309578023,
          10149.110291381157,
          9898.044256792282,
          9854.504835089801,
          9511.766766613448,
          9958.847386777114,
          10566.68364954343,
          10592.112982800854,
          10671.058473867908,
          10962.536367616462,
          11329.581032143007,
          11161.263365004306,
          11515.243229008596,
          10801.425615055405,
          10186.999807413042,
          9587.717858169171,
          8861.529611216385,
          9385.21556791503,
          9107.958393608027,
          9679.23013451177,
          9184.456006693845,
          9019.02201318411,
          8390.02037278805,
          8525.278022093582,
          8156.451286814104,
          7701.527050026178,
          8487.190711027055,
          8620.301478889825,
          9017.23476674352,
          8751.706991394332,
          8484.232153889652,
          8853.019307094188,
          8437.193054419497,
          8107.00370547744,
          7880.779612081425,
          7895.184963666009,
          7474.066399985283,
          6991.814509813731,
          7201.2456005133345,
          6882.63006199085,
          7197.438055339063,
          7417.516267699718,
          7110.104758956961,
          6822.050862700761,
          6736.4076327519215,
          6920.002473820067,
          6961.647878683082,
          6855.450671967994,
          6742.817929300238,
          6866.4589090293675,
          7363.220601938722,
          8060.0965432959565,
          7982.205025824822,
          8246.176995683072,
          7991.663899629966,
          8012.969941624011,
          8024.832802620197,
          8217.33558744979,
          8469.257474573375,
          8823.24776101382,
          8848.996377299796,
          8852.27951685664,
          9380.649369937128,
          9049.13250508935,
          8784.210554726571,
          9251.494467496266,
          9179.095804136896,
          9317.013422940974,
          9225.312067634059,
          8888.174844186624,
          9097.821827377265,
          9360.013499941551,
          9624.958170222191,
          9795.090249827881,
          9527.250886002272,
          9258.188052387964,
          9218.618403530421,
          9141.277555263405,
          9225.076778717461,
          8527.267436906146,
          8456.8293037184,
          8600.304043119108,
          8617.984652821198,
          8691.283428530836,
          8270.17048643626,
          8332.622894851298,
          8122.779052089448,
          8312.78823337877,
          8344.749494002794,
          8428.066453091244,
          8176.157571971655,
          7742.422154782156,
          7580.402474039162,
          7494.932562922139,
          7507.32765372866,
          7320.07499301761,
          7283.634742359245,
          7328.816316630039,
          7504.7974601415535,
          7525.796251620533,
          7466.053164068944,
          7575.531392484107,
          7661.977969492971,
          7508.181192712018,
          7448.011003892646,
          7587.636193022479,
          7660.777995240408,
          7581.097355242662,
          7598.477299988799,
          6962.840611646841,
          6793.836903214725,
          6788.211864224281,
          6391.844195627751,
          6581.8426627963945,
          6594.784487524355,
          6542.183973433569,
          6584.190553948034,
          6571.721312265162,
          6733.0905083184125,
          6651.930478529849,
          6721.124394902587,
          6258.593562831003,
          6115.692553108199,
          6003.3495051718055,
          6246.20011923159,
          6165.911009892329,
          6085.449187956421,
          6103.261028644974,
          5885.331918720895,
          6445.625324929139,
          6320.026588023677,
          6452.363243949766,
          6581.072060177023,
          6529.251688632451,
          6546.83771560126,
          6497.9771317727,
          6542.258576545929,
          6729.155003891942,
          6661.075856878809,
          6393.93413068282,
          6321.263901067215,
          6190.21272481279,
          6234.509154540957,
          6226.946701216769,
          6314.515580620036,
          6532.717232512945,
          6921.765391297316,
          7472.347310481078,
          7347.697074798665,
          7402.433714543098,
          7318.453280944834,
          7436.167020738952,
          7669.459398963568,
          8114.141643983548,
          8279.106413359348,
          8150.683431858728,
          7952.92508798804,
          8159.088110080416,
          8162.5494101848535,
          8039.939459490517,
          7817.126354868963,
          7490.11345733826,
          7592.460293864635,
          7390.546498100582,
          7287.0542498802215,
          7017.647029355193,
          7083.193778332034,
          7038.689921109209,
          6517.775563899773,
          6548.750286187319,
          6451.111768867898,
          6294.1662815798945,
          6392.0095618768755,
          6389.695627368907,
          6035.022491893384,
          6468.593798332369,
          6348.938760712399,
          6458.913639256273,
          6420.976714798096,
          6375.89557018508,
          6424.05993034688,
          6364.018250330465,
          6580.276606623323,
          6380.1325894607035,
          6539.550715196809,
          6702.759100183086,
          6632.4652566890045,
          6696.79682419374,
          7022.666227590332,
          7021.100680833302,
          6864.94855292607,
          6952.204549095506,
          7094.640180081565,
          7218.352743212247,
          7224.691234755967,
          7298.58213600344,
          7013.873889615946,
          6282.344229875954,
          6498.353808769927,
          6341.516398264375,
          6309.152545211164,
          6318.97578563227,
          6337.732741995002,
          6330.820707265282,
          6508.22475522637,
          6521.287843012286,
          6490.988615852324,
          6453.165672265606,
          6354.632464986374,
          6254.375121862883,
          6318.859040504249,
          6391.858074775642,
          6680.6976311590415,
          6678.7630272196775,
          6685.870969027468,
          6597.332221977708,
          6343.0218628858,
          6451.947528313502,
          6494.664323291905,
          6655.2541869686565,
          6490.484122160115,
          6563.5705437918905,
          6554.244388905162,
          6526.140636592042,
          6420.011526579086,
          6533.500010361435,
          6517.056550308788,
          6534.827579385525,
          6517.0062937381035,
          6575.5752581451725,
          6567.888312894007,
          6486.585556675204,
          6125.096304402939,
          6201.083583443228,
          6187.151769948051,
          6229.0140941855725,
          6296.0599826176085,
          6420.200596268328,
          6429.809808131219,
          6420.993449836833,
          6364.099336431447,
          6367.682655294488,
          6409.910907912378,
          6370.360975707458,
          6367.136184059995,
          6400.7236101205,
          6375.866115666219,
          6382.401790558632,
          6387.117902769822,
          6380.041812509444,
          6263.362342814913,
          6246.546146697364,
          6261.488225811928,
          6295.6547062889695,
          6336.859723714551,
          6315.102388067142,
          6351.583823233797,
          6396.110602748454,
          6384.401048306276,
          6495.1868875314985,
          6406.267632439011,
          6331.701821786685,
          6327.894788463774,
          6312.095571370216,
          6326.587724302999,
          6261.79287295116,
          5891.885198724451,
          5468.760400498545,
          5627.650034787391,
          5529.221920302561,
          5594.7590426999495,
          5065.529585127377,
          4614.088852311606,
          4635.371863560878,
          4731.463809639028,
          4454.770392195902,
          4343.739432875812,
          3841.859379725315,
          4068.487802279875,
          3855.5814370728153,
          4187.065248345019,
          4228.737312187997,
          4069.6438039687428,
          4097.968733011786,
          4114.744035087117,
          3898.8829741238974,
          3881.99764288412,
          3771.9862858652555,
          3660.265985713601,
          3359.6975366320034,
          3477.4006193868954,
          3499.2990724041833,
          3507.077971919358,
          3417.278297025568,
          3436.434705758446,
          3383.842820452684,
          3257.2595103176855,
          3210.850258734057,
          3212.716317594851,
          3339.886995137937,
          3524.7776167212614,
          3778.9335986348374,
          3933.271080460521,
          3961.428681308164,
          3813.545204969937,
          3993.060137915381,
          4156.094060781567,
          3608.5605920189855,
          3771.0422354497546,
          3679.2239375183167,
          3684.4210911207792,
          3872.7270265581715,
          3771.9661190083725,
          3749.54783887331,
          3695.7254236872245,
          3837.817547785616,
          3811.67773724493,
          3763.7747820020822,
          3819.952660310558,
          3856.5494439749705,
          4028.6115171987312,
          3972.441386720806,
          3994.6870654070854,
          3696.7628428330618,
          3627.1769074652966,
          3617.8796645076977,
          3568.188486904267,
          3580.335705850138,
          3653.813989915026,
          3615.278694517449,
          3622.2217546848883,
          3631.6834183881874,
          3669.844872078286,
          3586.738572724997,
          3521.0155912362675,
          3546.2226854635683,
          3558.926253302436,
          3545.122923455479,
          3548.261439311897,
          3560.358156863455,
          3532.91435190265,
          3404.7732701331292,
          3400.727057512726,
          3417.778201154208,
          3418.6219635006087,
          3412.7336362674046,
          3429.6034791913653,
          3418.9420633043346,
          3410.2562389637833,
          3415.367926166559,
          3357.5639527927674,
          3357.6798951533215,
          3453.8128427685697,
          3616.729732669911,
          3590.507668207353,
          3577.4005519417974,
          3556.8460637999915,
          3571.2978355595337,
          3550.352485562656,
          3554.205610048593,
          3573.2714000778656,
          3566.744619100816,
          3778.1391341503163,
          3905.072733804702,
          3892.5238351002786,
          3888.887989702142,
          3910.948114940485,
          3974.098511361399,
          3960.8339058715997,
          3724.0834415067084,
          3792.983286167234,
          3775.454514719631,
          3803.5770000207613,
          3805.6275554619288,
          3795.7535665039954,
          3793.5203248492494,
          3715.0700370601685,
          3772.0966220847263,
          3832.691087895644,
          3849.776566605331,
          3859.632799918954,
          3878.2773535466135,
          3879.0294369845033,
          3843.0293824711666,
          3834.985324497346,
          3836.599953822908,
          3832.525368277472,
          3869.5967822197535,
          3976.896396263586,
          3943.662906972233,
          3956.6744892775237,
          3963.0897967052224,
          3980.946568147273,
          3990.041287790408,
          3961.4394924476874,
          3962.352673323484,
          3948.3049748496824,
          3932.8816678624776,
          3892.9358917388327,
          3996.5405791851717,
          3994.124804180269,
          4051.5351516972337,
          4071.401969465269,
          4074.4077308950127,
          4112.58613787229,
          4608.0611708114675,
          5070.761329631518,
          4916.206565300219,
          4989.7302996037115,
          5053.711291901613,
          5140.328307595485,
          5247.040801199579,
          5205.474046787114,
          5275.054292436718,
          5071.7133355752185,
          5020.066378047536,
          5064.219091947816,
          5053.460165399776,
          5106.125629064245,
          5074.649218104446,
          5215.321873417819,
          5247.619545616859,
          5240.672249480547,
          5293.104776640438,
          5258.218648924679,
          5300.035189514645,
          5561.541858050039,
          5438.035513366269,
          5387.46136052482,
          5055.1704914693255,
          5156.523967121342,
          5150.192075319802,
          5147.03965916232,
          5200.424954957133,
          5308.314692278248,
          5365.486933031083,
          5636.451478394077,
          5676.6029746740505,
          5698.233394383758,
          5613.070199061294,
          5896.281317832081,
          5808.420617620761,
          6076.695475100279,
          6309.0425615456525,
          6915.730417682968,
          7204.08236204628,
          7447.430390476214,
          8147.561042676107,
          8018.505789792556,
          7952.633484171869,
          6876.429185469274,
          7356.411403120088,
          8050.245566890238,
          7843.808660612067,
          7904.737438112962,
          7834.479304768247,
          7664.636642786614,
          7985.775967972943,
          8020.100071625784,
          8086.298845106989,
          8876.25703944041,
          8680.306433585836,
          8592.84821747999,
          8575.902285131775,
          8243.6396557868,
          8528.946449304616,
          8642.270723895721,
          8425.782020416289,
          7660.947646429015,
          7860.900392627699,
          7767.188736427931,
          7982.028373907098,
          7949.284010221044,
          7794.033468631884,
          7837.300644581695,
          7931.1288149816255,
          8050.438546369187,
          8143.287356359242,
          8339.074813664902,
          8737.971010302455,
          9130.44951738847,
          9211.116762174046,
          9075.390358364442,
          9118.014262545785,
          9364.11763651445,
          9883.337345869024,
          10937.33714613616,
          10734.376865216376,
          10811.450498003098,
          11401.509743788594,
          12974.33921622057,
          11141.160303819832,
          11790.234404219329,
          11885.670793087487,
          11389.017363007288,
          10426.824902519957,
          10291.239028612605,
          11500.891589621608,
          11731.347782841947,
          11152.940266833262,
          11425.763490451647,
          11261.682183956842,
          11825.876847664109,
          12559.557350628707,
          12600.419797953327,
          11224.035999027772,
          11548.553247908594,
          11342.480729578796,
          10711.914176135957,
          10357.446143234509,
          10366.418746572566,
          9621.196835210136,
          10350.218328382796,
          10612.507325838324,
          10711.506052616993,
          10591.36620905905,
          10461.544076489576,
          10028.301781164113,
          9659.525543958816,
          10012.58326267624,
          9682.948964857816,
          9702.304215909024,
          9486.807898003597,
          9583.613072191674,
          9560.150956926862,
          9883.733134035685,
          10069.538045285948,
          10484.527938321757,
          10778.454296905538,
          10762.793429718666,
          11850.895366856239,
          11581.732362242665,
          11679.628142667232,
          11825.084763045548,
          11780.607401159788,
          11461.933774191628,
          11282.730223400444
         ]
        }
       ],
       "layout": {
        "height": 400,
        "template": {
         "data": {
          "bar": [
           {
            "error_x": {
             "color": "#2a3f5f"
            },
            "error_y": {
             "color": "#2a3f5f"
            },
            "marker": {
             "line": {
              "color": "#E5ECF6",
              "width": 0.5
             }
            },
            "type": "bar"
           }
          ],
          "barpolar": [
           {
            "marker": {
             "line": {
              "color": "#E5ECF6",
              "width": 0.5
             }
            },
            "type": "barpolar"
           }
          ],
          "carpet": [
           {
            "aaxis": {
             "endlinecolor": "#2a3f5f",
             "gridcolor": "white",
             "linecolor": "white",
             "minorgridcolor": "white",
             "startlinecolor": "#2a3f5f"
            },
            "baxis": {
             "endlinecolor": "#2a3f5f",
             "gridcolor": "white",
             "linecolor": "white",
             "minorgridcolor": "white",
             "startlinecolor": "#2a3f5f"
            },
            "type": "carpet"
           }
          ],
          "choropleth": [
           {
            "colorbar": {
             "outlinewidth": 0,
             "ticks": ""
            },
            "type": "choropleth"
           }
          ],
          "contour": [
           {
            "colorbar": {
             "outlinewidth": 0,
             "ticks": ""
            },
            "colorscale": [
             [
              0,
              "#0d0887"
             ],
             [
              0.1111111111111111,
              "#46039f"
             ],
             [
              0.2222222222222222,
              "#7201a8"
             ],
             [
              0.3333333333333333,
              "#9c179e"
             ],
             [
              0.4444444444444444,
              "#bd3786"
             ],
             [
              0.5555555555555556,
              "#d8576b"
             ],
             [
              0.6666666666666666,
              "#ed7953"
             ],
             [
              0.7777777777777778,
              "#fb9f3a"
             ],
             [
              0.8888888888888888,
              "#fdca26"
             ],
             [
              1,
              "#f0f921"
             ]
            ],
            "type": "contour"
           }
          ],
          "contourcarpet": [
           {
            "colorbar": {
             "outlinewidth": 0,
             "ticks": ""
            },
            "type": "contourcarpet"
           }
          ],
          "heatmap": [
           {
            "colorbar": {
             "outlinewidth": 0,
             "ticks": ""
            },
            "colorscale": [
             [
              0,
              "#0d0887"
             ],
             [
              0.1111111111111111,
              "#46039f"
             ],
             [
              0.2222222222222222,
              "#7201a8"
             ],
             [
              0.3333333333333333,
              "#9c179e"
             ],
             [
              0.4444444444444444,
              "#bd3786"
             ],
             [
              0.5555555555555556,
              "#d8576b"
             ],
             [
              0.6666666666666666,
              "#ed7953"
             ],
             [
              0.7777777777777778,
              "#fb9f3a"
             ],
             [
              0.8888888888888888,
              "#fdca26"
             ],
             [
              1,
              "#f0f921"
             ]
            ],
            "type": "heatmap"
           }
          ],
          "heatmapgl": [
           {
            "colorbar": {
             "outlinewidth": 0,
             "ticks": ""
            },
            "colorscale": [
             [
              0,
              "#0d0887"
             ],
             [
              0.1111111111111111,
              "#46039f"
             ],
             [
              0.2222222222222222,
              "#7201a8"
             ],
             [
              0.3333333333333333,
              "#9c179e"
             ],
             [
              0.4444444444444444,
              "#bd3786"
             ],
             [
              0.5555555555555556,
              "#d8576b"
             ],
             [
              0.6666666666666666,
              "#ed7953"
             ],
             [
              0.7777777777777778,
              "#fb9f3a"
             ],
             [
              0.8888888888888888,
              "#fdca26"
             ],
             [
              1,
              "#f0f921"
             ]
            ],
            "type": "heatmapgl"
           }
          ],
          "histogram": [
           {
            "marker": {
             "colorbar": {
              "outlinewidth": 0,
              "ticks": ""
             }
            },
            "type": "histogram"
           }
          ],
          "histogram2d": [
           {
            "colorbar": {
             "outlinewidth": 0,
             "ticks": ""
            },
            "colorscale": [
             [
              0,
              "#0d0887"
             ],
             [
              0.1111111111111111,
              "#46039f"
             ],
             [
              0.2222222222222222,
              "#7201a8"
             ],
             [
              0.3333333333333333,
              "#9c179e"
             ],
             [
              0.4444444444444444,
              "#bd3786"
             ],
             [
              0.5555555555555556,
              "#d8576b"
             ],
             [
              0.6666666666666666,
              "#ed7953"
             ],
             [
              0.7777777777777778,
              "#fb9f3a"
             ],
             [
              0.8888888888888888,
              "#fdca26"
             ],
             [
              1,
              "#f0f921"
             ]
            ],
            "type": "histogram2d"
           }
          ],
          "histogram2dcontour": [
           {
            "colorbar": {
             "outlinewidth": 0,
             "ticks": ""
            },
            "colorscale": [
             [
              0,
              "#0d0887"
             ],
             [
              0.1111111111111111,
              "#46039f"
             ],
             [
              0.2222222222222222,
              "#7201a8"
             ],
             [
              0.3333333333333333,
              "#9c179e"
             ],
             [
              0.4444444444444444,
              "#bd3786"
             ],
             [
              0.5555555555555556,
              "#d8576b"
             ],
             [
              0.6666666666666666,
              "#ed7953"
             ],
             [
              0.7777777777777778,
              "#fb9f3a"
             ],
             [
              0.8888888888888888,
              "#fdca26"
             ],
             [
              1,
              "#f0f921"
             ]
            ],
            "type": "histogram2dcontour"
           }
          ],
          "mesh3d": [
           {
            "colorbar": {
             "outlinewidth": 0,
             "ticks": ""
            },
            "type": "mesh3d"
           }
          ],
          "parcoords": [
           {
            "line": {
             "colorbar": {
              "outlinewidth": 0,
              "ticks": ""
             }
            },
            "type": "parcoords"
           }
          ],
          "scatter": [
           {
            "marker": {
             "colorbar": {
              "outlinewidth": 0,
              "ticks": ""
             }
            },
            "type": "scatter"
           }
          ],
          "scatter3d": [
           {
            "line": {
             "colorbar": {
              "outlinewidth": 0,
              "ticks": ""
             }
            },
            "marker": {
             "colorbar": {
              "outlinewidth": 0,
              "ticks": ""
             }
            },
            "type": "scatter3d"
           }
          ],
          "scattercarpet": [
           {
            "marker": {
             "colorbar": {
              "outlinewidth": 0,
              "ticks": ""
             }
            },
            "type": "scattercarpet"
           }
          ],
          "scattergeo": [
           {
            "marker": {
             "colorbar": {
              "outlinewidth": 0,
              "ticks": ""
             }
            },
            "type": "scattergeo"
           }
          ],
          "scattergl": [
           {
            "marker": {
             "colorbar": {
              "outlinewidth": 0,
              "ticks": ""
             }
            },
            "type": "scattergl"
           }
          ],
          "scattermapbox": [
           {
            "marker": {
             "colorbar": {
              "outlinewidth": 0,
              "ticks": ""
             }
            },
            "type": "scattermapbox"
           }
          ],
          "scatterpolar": [
           {
            "marker": {
             "colorbar": {
              "outlinewidth": 0,
              "ticks": ""
             }
            },
            "type": "scatterpolar"
           }
          ],
          "scatterpolargl": [
           {
            "marker": {
             "colorbar": {
              "outlinewidth": 0,
              "ticks": ""
             }
            },
            "type": "scatterpolargl"
           }
          ],
          "scatterternary": [
           {
            "marker": {
             "colorbar": {
              "outlinewidth": 0,
              "ticks": ""
             }
            },
            "type": "scatterternary"
           }
          ],
          "surface": [
           {
            "colorbar": {
             "outlinewidth": 0,
             "ticks": ""
            },
            "colorscale": [
             [
              0,
              "#0d0887"
             ],
             [
              0.1111111111111111,
              "#46039f"
             ],
             [
              0.2222222222222222,
              "#7201a8"
             ],
             [
              0.3333333333333333,
              "#9c179e"
             ],
             [
              0.4444444444444444,
              "#bd3786"
             ],
             [
              0.5555555555555556,
              "#d8576b"
             ],
             [
              0.6666666666666666,
              "#ed7953"
             ],
             [
              0.7777777777777778,
              "#fb9f3a"
             ],
             [
              0.8888888888888888,
              "#fdca26"
             ],
             [
              1,
              "#f0f921"
             ]
            ],
            "type": "surface"
           }
          ],
          "table": [
           {
            "cells": {
             "fill": {
              "color": "#EBF0F8"
             },
             "line": {
              "color": "white"
             }
            },
            "header": {
             "fill": {
              "color": "#C8D4E3"
             },
             "line": {
              "color": "white"
             }
            },
            "type": "table"
           }
          ]
         },
         "layout": {
          "annotationdefaults": {
           "arrowcolor": "#2a3f5f",
           "arrowhead": 0,
           "arrowwidth": 1
          },
          "colorscale": {
           "diverging": [
            [
             0,
             "#8e0152"
            ],
            [
             0.1,
             "#c51b7d"
            ],
            [
             0.2,
             "#de77ae"
            ],
            [
             0.3,
             "#f1b6da"
            ],
            [
             0.4,
             "#fde0ef"
            ],
            [
             0.5,
             "#f7f7f7"
            ],
            [
             0.6,
             "#e6f5d0"
            ],
            [
             0.7,
             "#b8e186"
            ],
            [
             0.8,
             "#7fbc41"
            ],
            [
             0.9,
             "#4d9221"
            ],
            [
             1,
             "#276419"
            ]
           ],
           "sequential": [
            [
             0,
             "#0d0887"
            ],
            [
             0.1111111111111111,
             "#46039f"
            ],
            [
             0.2222222222222222,
             "#7201a8"
            ],
            [
             0.3333333333333333,
             "#9c179e"
            ],
            [
             0.4444444444444444,
             "#bd3786"
            ],
            [
             0.5555555555555556,
             "#d8576b"
            ],
            [
             0.6666666666666666,
             "#ed7953"
            ],
            [
             0.7777777777777778,
             "#fb9f3a"
            ],
            [
             0.8888888888888888,
             "#fdca26"
            ],
            [
             1,
             "#f0f921"
            ]
           ],
           "sequentialminus": [
            [
             0,
             "#0d0887"
            ],
            [
             0.1111111111111111,
             "#46039f"
            ],
            [
             0.2222222222222222,
             "#7201a8"
            ],
            [
             0.3333333333333333,
             "#9c179e"
            ],
            [
             0.4444444444444444,
             "#bd3786"
            ],
            [
             0.5555555555555556,
             "#d8576b"
            ],
            [
             0.6666666666666666,
             "#ed7953"
            ],
            [
             0.7777777777777778,
             "#fb9f3a"
            ],
            [
             0.8888888888888888,
             "#fdca26"
            ],
            [
             1,
             "#f0f921"
            ]
           ]
          },
          "colorway": [
           "#636efa",
           "#EF553B",
           "#00cc96",
           "#ab63fa",
           "#FFA15A",
           "#19d3f3",
           "#FF6692",
           "#B6E880",
           "#FF97FF",
           "#FECB52"
          ],
          "font": {
           "color": "#2a3f5f"
          },
          "geo": {
           "bgcolor": "white",
           "lakecolor": "white",
           "landcolor": "#E5ECF6",
           "showlakes": true,
           "showland": true,
           "subunitcolor": "white"
          },
          "hoverlabel": {
           "align": "left"
          },
          "hovermode": "closest",
          "mapbox": {
           "style": "light"
          },
          "paper_bgcolor": "white",
          "plot_bgcolor": "#E5ECF6",
          "polar": {
           "angularaxis": {
            "gridcolor": "white",
            "linecolor": "white",
            "ticks": ""
           },
           "bgcolor": "#E5ECF6",
           "radialaxis": {
            "gridcolor": "white",
            "linecolor": "white",
            "ticks": ""
           }
          },
          "scene": {
           "xaxis": {
            "backgroundcolor": "#E5ECF6",
            "gridcolor": "white",
            "gridwidth": 2,
            "linecolor": "white",
            "showbackground": true,
            "ticks": "",
            "zerolinecolor": "white"
           },
           "yaxis": {
            "backgroundcolor": "#E5ECF6",
            "gridcolor": "white",
            "gridwidth": 2,
            "linecolor": "white",
            "showbackground": true,
            "ticks": "",
            "zerolinecolor": "white"
           },
           "zaxis": {
            "backgroundcolor": "#E5ECF6",
            "gridcolor": "white",
            "gridwidth": 2,
            "linecolor": "white",
            "showbackground": true,
            "ticks": "",
            "zerolinecolor": "white"
           }
          },
          "shapedefaults": {
           "line": {
            "color": "#2a3f5f"
           }
          },
          "ternary": {
           "aaxis": {
            "gridcolor": "white",
            "linecolor": "white",
            "ticks": ""
           },
           "baxis": {
            "gridcolor": "white",
            "linecolor": "white",
            "ticks": ""
           },
           "bgcolor": "#E5ECF6",
           "caxis": {
            "gridcolor": "white",
            "linecolor": "white",
            "ticks": ""
           }
          },
          "title": {
           "x": 0.05
          },
          "xaxis": {
           "automargin": true,
           "gridcolor": "white",
           "linecolor": "white",
           "ticks": "",
           "zerolinecolor": "white",
           "zerolinewidth": 2
          },
          "yaxis": {
           "automargin": true,
           "gridcolor": "white",
           "linecolor": "white",
           "ticks": "",
           "zerolinecolor": "white",
           "zerolinewidth": 2
          }
         }
        },
        "title": {
         "text": "Test Set: Single Timepoint Prediction"
        },
        "width": 550,
        "xaxis": {
         "range": [
          "2017-06-01",
          "2018-12-31"
         ],
         "title": {
          "text": "timestamp"
         }
        },
        "yaxis": {
         "title": {
          "text": "Price /USD"
         }
        }
       }
      },
      "text/html": [
       "<div>\n",
       "        \n",
       "        \n",
       "            <div id=\"ccec099f-d733-42f5-97de-d1ecf4985cb9\" class=\"plotly-graph-div\" style=\"height:400px; width:550px;\"></div>\n",
       "            <script type=\"text/javascript\">\n",
       "                require([\"plotly\"], function(Plotly) {\n",
       "                    window.PLOTLYENV=window.PLOTLYENV || {};\n",
       "                    \n",
       "                if (document.getElementById(\"ccec099f-d733-42f5-97de-d1ecf4985cb9\")) {\n",
       "                    Plotly.newPlot(\n",
       "                        'ccec099f-d733-42f5-97de-d1ecf4985cb9',\n",
       "                        [{\"marker\": {\"color\": \"rgba(235, 115, 150, 0.5)\"}, \"mode\": \"lines\", \"name\": \"Actual\", \"type\": \"scatter\", \"x\": [\"2017-06-11T00:00:00\", \"2017-06-12T00:00:00\", \"2017-06-13T00:00:00\", \"2017-06-14T00:00:00\", \"2017-06-15T00:00:00\", \"2017-06-16T00:00:00\", \"2017-06-17T00:00:00\", \"2017-06-18T00:00:00\", \"2017-06-19T00:00:00\", \"2017-06-20T00:00:00\", \"2017-06-21T00:00:00\", \"2017-06-22T00:00:00\", \"2017-06-23T00:00:00\", \"2017-06-24T00:00:00\", \"2017-06-25T00:00:00\", \"2017-06-26T00:00:00\", \"2017-06-27T00:00:00\", \"2017-06-28T00:00:00\", \"2017-06-29T00:00:00\", \"2017-06-30T00:00:00\", \"2017-07-01T00:00:00\", \"2017-07-02T00:00:00\", \"2017-07-03T00:00:00\", \"2017-07-04T00:00:00\", \"2017-07-05T00:00:00\", \"2017-07-06T00:00:00\", \"2017-07-07T00:00:00\", \"2017-07-08T00:00:00\", \"2017-07-09T00:00:00\", \"2017-07-10T00:00:00\", \"2017-07-11T00:00:00\", \"2017-07-12T00:00:00\", \"2017-07-13T00:00:00\", \"2017-07-14T00:00:00\", \"2017-07-15T00:00:00\", \"2017-07-16T00:00:00\", \"2017-07-17T00:00:00\", \"2017-07-18T00:00:00\", \"2017-07-19T00:00:00\", \"2017-07-20T00:00:00\", \"2017-07-21T00:00:00\", \"2017-07-22T00:00:00\", \"2017-07-23T00:00:00\", \"2017-07-24T00:00:00\", \"2017-07-25T00:00:00\", \"2017-07-26T00:00:00\", \"2017-07-27T00:00:00\", \"2017-07-28T00:00:00\", \"2017-07-29T00:00:00\", \"2017-07-30T00:00:00\", \"2017-07-31T00:00:00\", \"2017-08-01T00:00:00\", \"2017-08-02T00:00:00\", \"2017-08-03T00:00:00\", \"2017-08-04T00:00:00\", \"2017-08-05T00:00:00\", \"2017-08-06T00:00:00\", \"2017-08-07T00:00:00\", \"2017-08-08T00:00:00\", \"2017-08-09T00:00:00\", \"2017-08-10T00:00:00\", \"2017-08-11T00:00:00\", \"2017-08-12T00:00:00\", \"2017-08-13T00:00:00\", \"2017-08-14T00:00:00\", \"2017-08-15T00:00:00\", \"2017-08-16T00:00:00\", \"2017-08-17T00:00:00\", \"2017-08-18T00:00:00\", \"2017-08-19T00:00:00\", \"2017-08-20T00:00:00\", \"2017-08-21T00:00:00\", \"2017-08-22T00:00:00\", \"2017-08-23T00:00:00\", \"2017-08-24T00:00:00\", \"2017-08-25T00:00:00\", \"2017-08-26T00:00:00\", \"2017-08-27T00:00:00\", \"2017-08-28T00:00:00\", \"2017-08-29T00:00:00\", \"2017-08-30T00:00:00\", \"2017-08-31T00:00:00\", \"2017-09-01T00:00:00\", \"2017-09-02T00:00:00\", \"2017-09-03T00:00:00\", \"2017-09-04T00:00:00\", \"2017-09-05T00:00:00\", \"2017-09-06T00:00:00\", \"2017-09-07T00:00:00\", \"2017-09-08T00:00:00\", \"2017-09-09T00:00:00\", \"2017-09-10T00:00:00\", \"2017-09-11T00:00:00\", \"2017-09-12T00:00:00\", \"2017-09-13T00:00:00\", \"2017-09-14T00:00:00\", \"2017-09-15T00:00:00\", \"2017-09-16T00:00:00\", \"2017-09-17T00:00:00\", \"2017-09-18T00:00:00\", \"2017-09-19T00:00:00\", \"2017-09-20T00:00:00\", \"2017-09-21T00:00:00\", \"2017-09-22T00:00:00\", \"2017-09-23T00:00:00\", \"2017-09-24T00:00:00\", \"2017-09-25T00:00:00\", \"2017-09-26T00:00:00\", \"2017-09-27T00:00:00\", \"2017-09-28T00:00:00\", \"2017-09-29T00:00:00\", \"2017-09-30T00:00:00\", \"2017-10-01T00:00:00\", \"2017-10-02T00:00:00\", \"2017-10-03T00:00:00\", \"2017-10-04T00:00:00\", \"2017-10-05T00:00:00\", \"2017-10-06T00:00:00\", \"2017-10-07T00:00:00\", \"2017-10-08T00:00:00\", \"2017-10-09T00:00:00\", \"2017-10-10T00:00:00\", \"2017-10-11T00:00:00\", \"2017-10-12T00:00:00\", \"2017-10-13T00:00:00\", \"2017-10-14T00:00:00\", \"2017-10-15T00:00:00\", \"2017-10-16T00:00:00\", \"2017-10-17T00:00:00\", \"2017-10-18T00:00:00\", \"2017-10-19T00:00:00\", \"2017-10-20T00:00:00\", \"2017-10-21T00:00:00\", \"2017-10-22T00:00:00\", \"2017-10-23T00:00:00\", \"2017-10-24T00:00:00\", \"2017-10-25T00:00:00\", \"2017-10-26T00:00:00\", \"2017-10-27T00:00:00\", \"2017-10-28T00:00:00\", \"2017-10-29T00:00:00\", \"2017-10-30T00:00:00\", \"2017-10-31T00:00:00\", \"2017-11-01T00:00:00\", \"2017-11-02T00:00:00\", \"2017-11-03T00:00:00\", \"2017-11-04T00:00:00\", \"2017-11-05T00:00:00\", \"2017-11-06T00:00:00\", \"2017-11-07T00:00:00\", \"2017-11-08T00:00:00\", \"2017-11-09T00:00:00\", \"2017-11-10T00:00:00\", \"2017-11-11T00:00:00\", \"2017-11-12T00:00:00\", \"2017-11-13T00:00:00\", \"2017-11-14T00:00:00\", \"2017-11-15T00:00:00\", \"2017-11-16T00:00:00\", \"2017-11-17T00:00:00\", \"2017-11-18T00:00:00\", \"2017-11-19T00:00:00\", \"2017-11-20T00:00:00\", \"2017-11-21T00:00:00\", \"2017-11-22T00:00:00\", \"2017-11-23T00:00:00\", \"2017-11-24T00:00:00\", \"2017-11-25T00:00:00\", \"2017-11-26T00:00:00\", \"2017-11-27T00:00:00\", \"2017-11-28T00:00:00\", \"2017-11-29T00:00:00\", \"2017-11-30T00:00:00\", \"2017-12-01T00:00:00\", \"2017-12-02T00:00:00\", \"2017-12-03T00:00:00\", \"2017-12-04T00:00:00\", \"2017-12-05T00:00:00\", \"2017-12-06T00:00:00\", \"2017-12-07T00:00:00\", \"2017-12-08T00:00:00\", \"2017-12-09T00:00:00\", \"2017-12-10T00:00:00\", \"2017-12-11T00:00:00\", \"2017-12-12T00:00:00\", \"2017-12-13T00:00:00\", \"2017-12-14T00:00:00\", \"2017-12-15T00:00:00\", \"2017-12-16T00:00:00\", \"2017-12-17T00:00:00\", \"2017-12-18T00:00:00\", \"2017-12-19T00:00:00\", \"2017-12-20T00:00:00\", \"2017-12-21T00:00:00\", \"2017-12-22T00:00:00\", \"2017-12-23T00:00:00\", \"2017-12-24T00:00:00\", \"2017-12-25T00:00:00\", \"2017-12-26T00:00:00\", \"2017-12-27T00:00:00\", \"2017-12-28T00:00:00\", \"2017-12-29T00:00:00\", \"2017-12-30T00:00:00\", \"2017-12-31T00:00:00\", \"2018-01-01T00:00:00\", \"2018-01-02T00:00:00\", \"2018-01-03T00:00:00\", \"2018-01-04T00:00:00\", \"2018-01-05T00:00:00\", \"2018-01-06T00:00:00\", \"2018-01-07T00:00:00\", \"2018-01-08T00:00:00\", \"2018-01-09T00:00:00\", \"2018-01-10T00:00:00\", \"2018-01-11T00:00:00\", \"2018-01-12T00:00:00\", \"2018-01-13T00:00:00\", \"2018-01-14T00:00:00\", \"2018-01-15T00:00:00\", \"2018-01-16T00:00:00\", \"2018-01-17T00:00:00\", \"2018-01-18T00:00:00\", \"2018-01-19T00:00:00\", \"2018-01-20T00:00:00\", \"2018-01-21T00:00:00\", \"2018-01-22T00:00:00\", \"2018-01-23T00:00:00\", \"2018-01-24T00:00:00\", \"2018-01-25T00:00:00\", \"2018-01-26T00:00:00\", \"2018-01-27T00:00:00\", \"2018-01-28T00:00:00\", \"2018-01-29T00:00:00\", \"2018-01-30T00:00:00\", \"2018-01-31T00:00:00\", \"2018-02-01T00:00:00\", \"2018-02-02T00:00:00\", \"2018-02-03T00:00:00\", \"2018-02-04T00:00:00\", \"2018-02-05T00:00:00\", \"2018-02-06T00:00:00\", \"2018-02-07T00:00:00\", \"2018-02-08T00:00:00\", \"2018-02-09T00:00:00\", \"2018-02-10T00:00:00\", \"2018-02-11T00:00:00\", \"2018-02-12T00:00:00\", \"2018-02-13T00:00:00\", \"2018-02-14T00:00:00\", \"2018-02-15T00:00:00\", \"2018-02-16T00:00:00\", \"2018-02-17T00:00:00\", \"2018-02-18T00:00:00\", \"2018-02-19T00:00:00\", \"2018-02-20T00:00:00\", \"2018-02-21T00:00:00\", \"2018-02-22T00:00:00\", \"2018-02-23T00:00:00\", \"2018-02-24T00:00:00\", \"2018-02-25T00:00:00\", \"2018-02-26T00:00:00\", \"2018-02-27T00:00:00\", \"2018-02-28T00:00:00\", \"2018-03-01T00:00:00\", \"2018-03-02T00:00:00\", \"2018-03-03T00:00:00\", \"2018-03-04T00:00:00\", \"2018-03-05T00:00:00\", \"2018-03-06T00:00:00\", \"2018-03-07T00:00:00\", \"2018-03-08T00:00:00\", \"2018-03-09T00:00:00\", \"2018-03-10T00:00:00\", \"2018-03-11T00:00:00\", \"2018-03-12T00:00:00\", \"2018-03-13T00:00:00\", \"2018-03-14T00:00:00\", \"2018-03-15T00:00:00\", \"2018-03-16T00:00:00\", \"2018-03-17T00:00:00\", \"2018-03-18T00:00:00\", \"2018-03-19T00:00:00\", \"2018-03-20T00:00:00\", \"2018-03-21T00:00:00\", \"2018-03-22T00:00:00\", \"2018-03-23T00:00:00\", \"2018-03-24T00:00:00\", \"2018-03-25T00:00:00\", \"2018-03-26T00:00:00\", \"2018-03-27T00:00:00\", \"2018-03-28T00:00:00\", \"2018-03-29T00:00:00\", \"2018-03-30T00:00:00\", \"2018-03-31T00:00:00\", \"2018-04-01T00:00:00\", \"2018-04-02T00:00:00\", \"2018-04-03T00:00:00\", \"2018-04-04T00:00:00\", \"2018-04-05T00:00:00\", \"2018-04-06T00:00:00\", \"2018-04-07T00:00:00\", \"2018-04-08T00:00:00\", \"2018-04-09T00:00:00\", \"2018-04-10T00:00:00\", \"2018-04-11T00:00:00\", \"2018-04-12T00:00:00\", \"2018-04-13T00:00:00\", \"2018-04-14T00:00:00\", \"2018-04-15T00:00:00\", \"2018-04-16T00:00:00\", \"2018-04-17T00:00:00\", \"2018-04-18T00:00:00\", \"2018-04-19T00:00:00\", \"2018-04-20T00:00:00\", \"2018-04-21T00:00:00\", \"2018-04-22T00:00:00\", \"2018-04-23T00:00:00\", \"2018-04-24T00:00:00\", \"2018-04-25T00:00:00\", \"2018-04-26T00:00:00\", \"2018-04-27T00:00:00\", \"2018-04-28T00:00:00\", \"2018-04-29T00:00:00\", \"2018-04-30T00:00:00\", \"2018-05-01T00:00:00\", \"2018-05-02T00:00:00\", \"2018-05-03T00:00:00\", \"2018-05-04T00:00:00\", \"2018-05-05T00:00:00\", \"2018-05-06T00:00:00\", \"2018-05-07T00:00:00\", \"2018-05-08T00:00:00\", \"2018-05-09T00:00:00\", \"2018-05-10T00:00:00\", \"2018-05-11T00:00:00\", \"2018-05-12T00:00:00\", \"2018-05-13T00:00:00\", \"2018-05-14T00:00:00\", \"2018-05-15T00:00:00\", \"2018-05-16T00:00:00\", \"2018-05-17T00:00:00\", \"2018-05-18T00:00:00\", \"2018-05-19T00:00:00\", \"2018-05-20T00:00:00\", \"2018-05-21T00:00:00\", \"2018-05-22T00:00:00\", \"2018-05-23T00:00:00\", \"2018-05-24T00:00:00\", \"2018-05-25T00:00:00\", \"2018-05-26T00:00:00\", \"2018-05-27T00:00:00\", \"2018-05-28T00:00:00\", \"2018-05-29T00:00:00\", \"2018-05-30T00:00:00\", \"2018-05-31T00:00:00\", \"2018-06-01T00:00:00\", \"2018-06-02T00:00:00\", \"2018-06-03T00:00:00\", \"2018-06-04T00:00:00\", \"2018-06-05T00:00:00\", \"2018-06-06T00:00:00\", \"2018-06-07T00:00:00\", \"2018-06-08T00:00:00\", \"2018-06-09T00:00:00\", \"2018-06-10T00:00:00\", \"2018-06-11T00:00:00\", \"2018-06-12T00:00:00\", \"2018-06-13T00:00:00\", \"2018-06-14T00:00:00\", \"2018-06-15T00:00:00\", \"2018-06-16T00:00:00\", \"2018-06-17T00:00:00\", \"2018-06-18T00:00:00\", \"2018-06-19T00:00:00\", \"2018-06-20T00:00:00\", \"2018-06-21T00:00:00\", \"2018-06-22T00:00:00\", \"2018-06-23T00:00:00\", \"2018-06-24T00:00:00\", \"2018-06-25T00:00:00\", \"2018-06-26T00:00:00\", \"2018-06-27T00:00:00\", \"2018-06-28T00:00:00\", \"2018-06-29T00:00:00\", \"2018-06-30T00:00:00\", \"2018-07-01T00:00:00\", \"2018-07-02T00:00:00\", \"2018-07-03T00:00:00\", \"2018-07-04T00:00:00\", \"2018-07-05T00:00:00\", \"2018-07-06T00:00:00\", \"2018-07-07T00:00:00\", \"2018-07-08T00:00:00\", \"2018-07-09T00:00:00\", \"2018-07-10T00:00:00\", \"2018-07-11T00:00:00\", \"2018-07-12T00:00:00\", \"2018-07-13T00:00:00\", \"2018-07-14T00:00:00\", \"2018-07-15T00:00:00\", \"2018-07-16T00:00:00\", \"2018-07-17T00:00:00\", \"2018-07-18T00:00:00\", \"2018-07-19T00:00:00\", \"2018-07-20T00:00:00\", \"2018-07-21T00:00:00\", \"2018-07-22T00:00:00\", \"2018-07-23T00:00:00\", \"2018-07-24T00:00:00\", \"2018-07-25T00:00:00\", \"2018-07-26T00:00:00\", \"2018-07-27T00:00:00\", \"2018-07-28T00:00:00\", \"2018-07-29T00:00:00\", \"2018-07-30T00:00:00\", \"2018-07-31T00:00:00\", \"2018-08-01T00:00:00\", \"2018-08-02T00:00:00\", \"2018-08-03T00:00:00\", \"2018-08-04T00:00:00\", \"2018-08-05T00:00:00\", \"2018-08-06T00:00:00\", \"2018-08-07T00:00:00\", \"2018-08-08T00:00:00\", \"2018-08-09T00:00:00\", \"2018-08-10T00:00:00\", \"2018-08-11T00:00:00\", \"2018-08-12T00:00:00\", \"2018-08-13T00:00:00\", \"2018-08-14T00:00:00\", \"2018-08-15T00:00:00\", \"2018-08-16T00:00:00\", \"2018-08-17T00:00:00\", \"2018-08-18T00:00:00\", \"2018-08-19T00:00:00\", \"2018-08-20T00:00:00\", \"2018-08-21T00:00:00\", \"2018-08-22T00:00:00\", \"2018-08-23T00:00:00\", \"2018-08-24T00:00:00\", \"2018-08-25T00:00:00\", \"2018-08-26T00:00:00\", \"2018-08-27T00:00:00\", \"2018-08-28T00:00:00\", \"2018-08-29T00:00:00\", \"2018-08-30T00:00:00\", \"2018-08-31T00:00:00\", \"2018-09-01T00:00:00\", \"2018-09-02T00:00:00\", \"2018-09-03T00:00:00\", \"2018-09-04T00:00:00\", \"2018-09-05T00:00:00\", \"2018-09-06T00:00:00\", \"2018-09-07T00:00:00\", \"2018-09-08T00:00:00\", \"2018-09-09T00:00:00\", \"2018-09-10T00:00:00\", \"2018-09-11T00:00:00\", \"2018-09-12T00:00:00\", \"2018-09-13T00:00:00\", \"2018-09-14T00:00:00\", \"2018-09-15T00:00:00\", \"2018-09-16T00:00:00\", \"2018-09-17T00:00:00\", \"2018-09-18T00:00:00\", \"2018-09-19T00:00:00\", \"2018-09-20T00:00:00\", \"2018-09-21T00:00:00\", \"2018-09-22T00:00:00\", \"2018-09-23T00:00:00\", \"2018-09-24T00:00:00\", \"2018-09-25T00:00:00\", \"2018-09-26T00:00:00\", \"2018-09-27T00:00:00\", \"2018-09-28T00:00:00\", \"2018-09-29T00:00:00\", \"2018-09-30T00:00:00\", \"2018-10-01T00:00:00\", \"2018-10-02T00:00:00\", \"2018-10-03T00:00:00\", \"2018-10-04T00:00:00\", \"2018-10-05T00:00:00\", \"2018-10-06T00:00:00\", \"2018-10-07T00:00:00\", \"2018-10-08T00:00:00\", \"2018-10-09T00:00:00\", \"2018-10-10T00:00:00\", \"2018-10-11T00:00:00\", \"2018-10-12T00:00:00\", \"2018-10-13T00:00:00\", \"2018-10-14T00:00:00\", \"2018-10-15T00:00:00\", \"2018-10-16T00:00:00\", \"2018-10-17T00:00:00\", \"2018-10-18T00:00:00\", \"2018-10-19T00:00:00\", \"2018-10-20T00:00:00\", \"2018-10-21T00:00:00\", \"2018-10-22T00:00:00\", \"2018-10-23T00:00:00\", \"2018-10-24T00:00:00\", \"2018-10-25T00:00:00\", \"2018-10-26T00:00:00\", \"2018-10-27T00:00:00\", \"2018-10-28T00:00:00\", \"2018-10-29T00:00:00\", \"2018-10-30T00:00:00\", \"2018-10-31T00:00:00\", \"2018-11-01T00:00:00\", \"2018-11-02T00:00:00\", \"2018-11-03T00:00:00\", \"2018-11-04T00:00:00\", \"2018-11-05T00:00:00\", \"2018-11-06T00:00:00\", \"2018-11-07T00:00:00\", \"2018-11-08T00:00:00\", \"2018-11-09T00:00:00\", \"2018-11-10T00:00:00\", \"2018-11-11T00:00:00\", \"2018-11-12T00:00:00\", \"2018-11-13T00:00:00\", \"2018-11-14T00:00:00\", \"2018-11-15T00:00:00\", \"2018-11-16T00:00:00\", \"2018-11-17T00:00:00\", \"2018-11-18T00:00:00\", \"2018-11-19T00:00:00\", \"2018-11-20T00:00:00\", \"2018-11-21T00:00:00\", \"2018-11-22T00:00:00\", \"2018-11-23T00:00:00\", \"2018-11-24T00:00:00\", \"2018-11-25T00:00:00\", \"2018-11-26T00:00:00\", \"2018-11-27T00:00:00\", \"2018-11-28T00:00:00\", \"2018-11-29T00:00:00\", \"2018-11-30T00:00:00\", \"2018-12-01T00:00:00\", \"2018-12-02T00:00:00\", \"2018-12-03T00:00:00\", \"2018-12-04T00:00:00\", \"2018-12-05T00:00:00\", \"2018-12-06T00:00:00\", \"2018-12-07T00:00:00\", \"2018-12-08T00:00:00\", \"2018-12-09T00:00:00\", \"2018-12-10T00:00:00\", \"2018-12-11T00:00:00\", \"2018-12-12T00:00:00\", \"2018-12-13T00:00:00\", \"2018-12-14T00:00:00\", \"2018-12-15T00:00:00\", \"2018-12-16T00:00:00\", \"2018-12-17T00:00:00\", \"2018-12-18T00:00:00\", \"2018-12-19T00:00:00\", \"2018-12-20T00:00:00\", \"2018-12-21T00:00:00\", \"2018-12-22T00:00:00\", \"2018-12-23T00:00:00\", \"2018-12-24T00:00:00\", \"2018-12-25T00:00:00\", \"2018-12-26T00:00:00\", \"2018-12-27T00:00:00\", \"2018-12-28T00:00:00\", \"2018-12-29T00:00:00\", \"2018-12-30T00:00:00\", \"2018-12-31T00:00:00\", \"2019-01-01T00:00:00\", \"2019-01-02T00:00:00\", \"2019-01-03T00:00:00\", \"2019-01-04T00:00:00\", \"2019-01-05T00:00:00\", \"2019-01-06T00:00:00\", \"2019-01-07T00:00:00\", \"2019-01-08T00:00:00\", \"2019-01-09T00:00:00\", \"2019-01-10T00:00:00\", \"2019-01-11T00:00:00\", \"2019-01-12T00:00:00\", \"2019-01-13T00:00:00\", \"2019-01-14T00:00:00\", \"2019-01-15T00:00:00\", \"2019-01-16T00:00:00\", \"2019-01-17T00:00:00\", \"2019-01-18T00:00:00\", \"2019-01-19T00:00:00\", \"2019-01-20T00:00:00\", \"2019-01-21T00:00:00\", \"2019-01-22T00:00:00\", \"2019-01-23T00:00:00\", \"2019-01-24T00:00:00\", \"2019-01-25T00:00:00\", \"2019-01-26T00:00:00\", \"2019-01-27T00:00:00\", \"2019-01-28T00:00:00\", \"2019-01-29T00:00:00\", \"2019-01-30T00:00:00\", \"2019-01-31T00:00:00\", \"2019-02-01T00:00:00\", \"2019-02-02T00:00:00\", \"2019-02-03T00:00:00\", \"2019-02-04T00:00:00\", \"2019-02-05T00:00:00\", \"2019-02-06T00:00:00\", \"2019-02-07T00:00:00\", \"2019-02-08T00:00:00\", \"2019-02-09T00:00:00\", \"2019-02-10T00:00:00\", \"2019-02-11T00:00:00\", \"2019-02-12T00:00:00\", \"2019-02-13T00:00:00\", \"2019-02-14T00:00:00\", \"2019-02-15T00:00:00\", \"2019-02-16T00:00:00\", \"2019-02-17T00:00:00\", \"2019-02-18T00:00:00\", \"2019-02-19T00:00:00\", \"2019-02-20T00:00:00\", \"2019-02-21T00:00:00\", \"2019-02-22T00:00:00\", \"2019-02-23T00:00:00\", \"2019-02-24T00:00:00\", \"2019-02-25T00:00:00\", \"2019-02-26T00:00:00\", \"2019-02-27T00:00:00\", \"2019-02-28T00:00:00\", \"2019-03-01T00:00:00\", \"2019-03-02T00:00:00\", \"2019-03-03T00:00:00\", \"2019-03-04T00:00:00\", \"2019-03-05T00:00:00\", \"2019-03-06T00:00:00\", \"2019-03-07T00:00:00\", \"2019-03-08T00:00:00\", \"2019-03-09T00:00:00\", \"2019-03-10T00:00:00\", \"2019-03-11T00:00:00\", \"2019-03-12T00:00:00\", \"2019-03-13T00:00:00\", \"2019-03-14T00:00:00\", \"2019-03-15T00:00:00\", \"2019-03-16T00:00:00\", \"2019-03-17T00:00:00\", \"2019-03-18T00:00:00\", \"2019-03-19T00:00:00\", \"2019-03-20T00:00:00\", \"2019-03-21T00:00:00\", \"2019-03-22T00:00:00\", \"2019-03-23T00:00:00\", \"2019-03-24T00:00:00\", \"2019-03-25T00:00:00\", \"2019-03-26T00:00:00\", \"2019-03-27T00:00:00\", \"2019-03-28T00:00:00\", \"2019-03-29T00:00:00\", \"2019-03-30T00:00:00\", \"2019-03-31T00:00:00\", \"2019-04-01T00:00:00\", \"2019-04-02T00:00:00\", \"2019-04-03T00:00:00\", \"2019-04-04T00:00:00\", \"2019-04-05T00:00:00\", \"2019-04-06T00:00:00\", \"2019-04-07T00:00:00\", \"2019-04-08T00:00:00\", \"2019-04-09T00:00:00\", \"2019-04-10T00:00:00\", \"2019-04-11T00:00:00\", \"2019-04-12T00:00:00\", \"2019-04-13T00:00:00\", \"2019-04-14T00:00:00\", \"2019-04-15T00:00:00\", \"2019-04-16T00:00:00\", \"2019-04-17T00:00:00\", \"2019-04-18T00:00:00\", \"2019-04-19T00:00:00\", \"2019-04-20T00:00:00\", \"2019-04-21T00:00:00\", \"2019-04-22T00:00:00\", \"2019-04-23T00:00:00\", \"2019-04-24T00:00:00\", \"2019-04-25T00:00:00\", \"2019-04-26T00:00:00\", \"2019-04-27T00:00:00\", \"2019-04-28T00:00:00\", \"2019-04-29T00:00:00\", \"2019-04-30T00:00:00\", \"2019-05-01T00:00:00\", \"2019-05-02T00:00:00\", \"2019-05-03T00:00:00\", \"2019-05-04T00:00:00\", \"2019-05-05T00:00:00\", \"2019-05-06T00:00:00\", \"2019-05-07T00:00:00\", \"2019-05-08T00:00:00\", \"2019-05-09T00:00:00\", \"2019-05-10T00:00:00\", \"2019-05-11T00:00:00\", \"2019-05-12T00:00:00\", \"2019-05-13T00:00:00\", \"2019-05-14T00:00:00\", \"2019-05-15T00:00:00\", \"2019-05-16T00:00:00\", \"2019-05-17T00:00:00\", \"2019-05-18T00:00:00\", \"2019-05-19T00:00:00\", \"2019-05-20T00:00:00\", \"2019-05-21T00:00:00\", \"2019-05-22T00:00:00\", \"2019-05-23T00:00:00\", \"2019-05-24T00:00:00\", \"2019-05-25T00:00:00\", \"2019-05-26T00:00:00\", \"2019-05-27T00:00:00\", \"2019-05-28T00:00:00\", \"2019-05-29T00:00:00\", \"2019-05-30T00:00:00\", \"2019-05-31T00:00:00\", \"2019-06-01T00:00:00\", \"2019-06-02T00:00:00\", \"2019-06-03T00:00:00\", \"2019-06-04T00:00:00\", \"2019-06-05T00:00:00\", \"2019-06-06T00:00:00\", \"2019-06-07T00:00:00\", \"2019-06-08T00:00:00\", \"2019-06-09T00:00:00\", \"2019-06-10T00:00:00\", \"2019-06-11T00:00:00\", \"2019-06-12T00:00:00\", \"2019-06-13T00:00:00\", \"2019-06-14T00:00:00\", \"2019-06-15T00:00:00\", \"2019-06-16T00:00:00\", \"2019-06-17T00:00:00\", \"2019-06-18T00:00:00\", \"2019-06-19T00:00:00\", \"2019-06-20T00:00:00\", \"2019-06-21T00:00:00\", \"2019-06-22T00:00:00\", \"2019-06-23T00:00:00\", \"2019-06-24T00:00:00\", \"2019-06-25T00:00:00\", \"2019-06-26T00:00:00\", \"2019-06-27T00:00:00\", \"2019-06-28T00:00:00\", \"2019-06-29T00:00:00\", \"2019-06-30T00:00:00\", \"2019-07-01T00:00:00\", \"2019-07-02T00:00:00\", \"2019-07-03T00:00:00\", \"2019-07-04T00:00:00\", \"2019-07-05T00:00:00\", \"2019-07-06T00:00:00\", \"2019-07-07T00:00:00\", \"2019-07-08T00:00:00\", \"2019-07-09T00:00:00\", \"2019-07-10T00:00:00\", \"2019-07-11T00:00:00\", \"2019-07-12T00:00:00\", \"2019-07-13T00:00:00\", \"2019-07-14T00:00:00\", \"2019-07-15T00:00:00\", \"2019-07-16T00:00:00\", \"2019-07-17T00:00:00\", \"2019-07-18T00:00:00\", \"2019-07-19T00:00:00\", \"2019-07-20T00:00:00\", \"2019-07-21T00:00:00\", \"2019-07-22T00:00:00\", \"2019-07-23T00:00:00\", \"2019-07-24T00:00:00\", \"2019-07-25T00:00:00\", \"2019-07-26T00:00:00\", \"2019-07-27T00:00:00\", \"2019-07-28T00:00:00\", \"2019-07-29T00:00:00\", \"2019-07-30T00:00:00\", \"2019-07-31T00:00:00\", \"2019-08-01T00:00:00\", \"2019-08-02T00:00:00\", \"2019-08-03T00:00:00\", \"2019-08-04T00:00:00\", \"2019-08-05T00:00:00\", \"2019-08-06T00:00:00\", \"2019-08-07T00:00:00\", \"2019-08-08T00:00:00\", \"2019-08-09T00:00:00\", \"2019-08-10T00:00:00\", \"2019-08-11T00:00:00\", \"2019-08-12T00:00:00\"], \"y\": [2906.474215277779, 2803.581750000004, 2715.928694444451, 2653.0482708333398, 2356.7296388888876, 2450.1450486111107, 2555.917826388888, 2566.5587638888933, 2558.1391805555563, 2661.5631666666654, 2712.268812500005, 2680.862333333332, 2718.264888888894, 2657.009215277778, 2559.341569444444, 2464.9203888888896, 2407.794423611114, 2533.6016041666626, 2558.770583333335, 2524.0453819444497, 2462.3251597222225, 2444.7650347222207, 2524.042131944447, 2596.6061319444475, 2569.9141666666737, 2593.83718055556, 2543.1207638888936, 2516.3489097222214, 2539.2847569444484, 2455.0341527777796, 2339.67059722222, 2343.987402777782, 2371.100986111114, 2279.3203333333418, 2073.9353055555507, 1939.7691666666651, 2056.5191180555607, 2280.832284722225, 2311.804187499999, 2492.0011805555505, 2718.66329861111, 2779.7550000000033, 2767.121493055555, 2753.6120972222275, 2624.099263888895, 2499.1164097222277, 2569.3229652777813, 2737.2861944444467, 2718.175916666668, 2675.802902777784, 2760.5994583333304, 2769.700041666668, 2713.936569444449, 2743.284652777787, 2827.005715277781, 3153.660069444449, 3236.0079166666746, 3308.0867569444586, 3416.0661041666613, 3341.188736111121, 3391.8064374999985, 3503.103180555562, 3757.487743055561, 4023.2860000000037, 4167.993833333334, 4167.686743055565, 4166.003368055552, 4345.919243055558, 4228.188402777789, 4055.157333333346, 4060.0714097222326, 4022.7011666666704, 3922.028104166666, 4141.476888888893, 4180.539020833341, 4356.688888888902, 4311.373458333351, 4340.41629861112, 4304.705208333351, 4464.279500000008, 4575.960375000009, 4669.390076388895, 4801.706236111117, 4684.137694444455, 4576.001104166673, 4361.9361666666555, 4252.457069444449, 4528.704993055561, 4584.30025694446, 4482.604402777778, 4292.220722222222, 4180.850256944438, 4210.225687500004, 4253.140652777776, 3934.011493055559, 3624.5376458333308, 3409.156631944439, 3696.292625000008, 3634.360208333341, 3941.1198541666736, 3962.9578749999987, 3937.1915555555534, 3791.3262638888873, 3626.56877777778, 3713.8222499999893, 3695.2018541666625, 3819.9963263888803, 3914.8063263888916, 4035.8797291666588, 4188.612034722216, 4144.9773819444545, 4270.209180555565, 4290.9005902777835, 4395.493111111113, 4311.992895833344, 4249.643597222228, 4255.330979166674, 4359.174444444453, 4351.288687500015, 4495.808520833344, 4643.429222222222, 4811.700548611115, 4787.352048611121, 5114.763875000004, 5618.339881944439, 5666.474111111125, 5610.077659722221, 5673.469020833336, 5625.583124999998, 5402.310152777783, 5654.104562500007, 5788.776069444453, 6073.861624999996, 5910.377895833341, 5869.137208333331, 5659.772756944453, 5547.822833333337, 5826.5624305555675, 5822.675326388888, 5749.922930555566, 5883.7243263888895, 6122.401979166681, 6240.408875000002, 6502.706909722225, 6952.339833333342, 7240.374881944453, 7258.124208333341, 7458.392979166676, 7228.157159722217, 7102.901493055557, 7386.520145833342, 7244.327472222225, 6961.358118055562, 6556.024395833337, 6114.231854166673, 6346.988562500001, 6590.393958333334, 7046.016361111107, 7459.5306875, 7827.064805555566, 7697.005916666671, 7825.9264166666635, 8090.021590277788, 8157.685722222237, 8194.893506944461, 8175.670479166667, 8168.087229166671, 8428.860465277778, 8972.45295138889, 9556.814923611137, 9833.026659722245, 10403.94379166668, 9888.908548611136, 10194.8572638889, 10938.31135416666, 11291.630187499997, 11346.529326388907, 11656.498604166689, 12580.533465277795, 14778.207416666659, 15432.868875000007, 14806.800236111114, 14134.664791666688, 16202.50012500004, 16730.929659722206, 16540.327312500034, 16343.036833333323, 17365.62792361109, 18176.730138888863, 19190.340631944408, 18720.01349999997, 18320.41626388884, 16834.521375000026, 16221.424986111117, 13761.145826388869, 14768.55603472223, 13656.086034722228, 13966.06769444444, 15243.615263888882, 15581.444701388853, 14248.632048611133, 14534.974930555547, 13212.859868055571, 13339.22119444444, 13425.415124999998, 13879.358895833342, 14963.699340277786, 14818.780319444424, 15792.452506944403, 16666.922951388857, 16517.014097222225, 15300.74915277776, 14868.201201388889, 14194.688409722214, 13697.100145833341, 13661.494569444449, 14224.945451388912, 13679.928909722257, 13821.277097222206, 12164.619152777768, 10680.231659722216, 11495.746736111108, 11513.536416666664, 12471.649145833333, 11895.589819444449, 11131.135819444438, 10724.710277777793, 11007.914437500012, 11300.592097222247, 11011.94201388889, 11238.782944444469, 11673.103618055535, 11283.896194444453, 10628.612597222236, 9987.00209722223, 9497.750625000028, 8558.503076388899, 8912.281611111122, 8722.604465277787, 7611.722958333325, 6828.462006944439, 7914.380222222217, 8216.322486111098, 8261.487381944451, 8656.487229166652, 8188.491090277783, 8624.076937500005, 8609.80722222223, 9025.642687500025, 9803.039104166684, 10025.99250694445, 10677.811173611124, 10737.341631944453, 10867.436395833349, 11498.189631944457, 10791.702006944444, 10272.655520833341, 10013.161215277789, 9931.702569444478, 9595.83642361113, 9910.592527777806, 10552.671340277788, 10621.063326388921, 10650.838465277793, 10980.791097222265, 11344.269083333334, 11242.097152777793, 11520.930465277766, 11021.738861111102, 10399.997006944468, 9705.391458333352, 8907.997486111099, 9236.650131944436, 9058.136361111123, 9436.36200694445, 9155.890388888914, 8769.349694444441, 8112.515770833351, 8315.006604166676, 8079.593062500001, 7679.651055555559, 8355.255979166664, 8622.49709722222, 8983.081652777786, 8793.326687500008, 8529.94406944445, 8857.918083333345, 8535.650166666666, 8208.19347916669, 7965.760694444459, 7916.943312500011, 7518.686965277791, 6888.176854166671, 7005.669125000011, 6797.412069444436, 6978.018000000003, 7325.304333333331, 7077.711673611102, 6758.105076388888, 6649.452291666674, 6891.6737638889, 6988.428743055562, 6891.471624999996, 6779.244319444467, 6879.948687500013, 7336.708215277788, 7992.690451388897, 8010.872291666685, 8215.487236111117, 8080.020305555557, 8036.633618055566, 8057.3129930555615, 8213.267708333358, 8445.635604166675, 8800.278312499991, 8888.387819444462, 8895.62331249999, 9314.519125000023, 9221.040361111107, 8883.210298611131, 9217.02084722222, 9240.572972222244, 9356.157784722249, 9290.616041666668, 8988.595694444466, 9112.689791666677, 9379.656666666657, 9656.508229166666, 9829.181138888915, 9615.699180555568, 9344.100527777799, 9260.790923611114, 9193.325472222248, 9265.502951388902, 8701.556430555573, 8423.31487500004, 8550.491187500027, 8581.468430555582, 8642.09697222224, 8282.705625000013, 8277.959930555586, 8106.672548611127, 8254.920923611124, 8361.972944444464, 8455.092916666694, 8233.2557916667, 7784.575402777791, 7538.571881944487, 7486.668048611141, 7490.143826388919, 7317.306069444448, 7255.434381944465, 7293.893402777787, 7432.491090277765, 7500.117368055571, 7481.193180555582, 7597.247354166683, 7690.673791666691, 7575.316763888909, 7491.722708333352, 7606.389534722249, 7692.524618055574, 7629.560597222222, 7630.158000000005, 7133.649305555566, 6760.716284722224, 6754.097347222223, 6443.017722222231, 6501.825152777797, 6550.993312499992, 6462.630548611125, 6509.097465277774, 6522.887597222218, 6718.137923611121, 6680.922951388888, 6736.712444444453, 6359.654034722214, 6135.97526388889, 6024.7279027777895, 6203.3115555555705, 6201.928152777776, 6096.063604166686, 6082.033944444458, 5903.817749999997, 6363.47595833333, 6350.025388888889, 6453.064812500014, 6596.762625000031, 6571.150868055561, 6581.060631944442, 6541.890631944446, 6573.3242361111, 6739.136618055562, 6705.734666666673, 6480.4565208333415, 6354.405493055556, 6219.166937500008, 6236.785770833367, 6236.172256944462, 6318.537784722239, 6521.181465277782, 6877.720881944445, 7402.712555555563, 7390.11466666668, 7420.562833333363, 7347.857055555567, 7448.0036597222515, 7679.556715277796, 8071.491902777785, 8253.59904166666, 8196.509159722247, 8021.516604166678, 8179.995840277793, 8202.688618055583, 8133.9497777778, 7915.115548611122, 7569.98511111112, 7590.178583333349, 7394.100701388909, 7248.6566458333655, 6995.644215277812, 6987.8438472222315, 6986.739444444467, 6444.725208333348, 6394.324194444451, 6394.919993055561, 6188.136972222216, 6304.35070833334, 6345.708180555566, 6056.106715277783, 6369.123708333329, 6344.468576388896, 6466.790055555574, 6446.211965277772, 6397.762687500009, 6444.960090277811, 6399.587041666682, 6579.496944444452, 6433.5398680555545, 6551.867993055588, 6713.861659722258, 6669.950659722236, 6712.779381944449, 6986.976090277787, 7049.229027777782, 6929.053499999996, 6979.79039583335, 7105.35293750002, 7239.421576388906, 7259.906249999994, 7322.047874999996, 7125.833812499998, 6421.734145833346, 6443.361534722262, 6360.320930555571, 6289.750152777783, 6287.392875000001, 6290.2325902777875, 6268.183465277798, 6440.572034722228, 6500.248395833359, 6519.018743055587, 6484.170666666674, 6398.048562500014, 6295.923305555575, 6336.486597222232, 6411.717736111115, 6658.61240972222, 6705.587187499994, 6706.800166666679, 6638.184479166654, 6413.125020833338, 6461.356423611127, 6520.746958333349, 6665.077402777776, 6539.937986111108, 6577.550055555549, 6574.940298611117, 6541.682701388867, 6447.232340277765, 6547.230777777762, 6544.547159722216, 6556.2918263888805, 6533.511180555536, 6586.734770833344, 6587.5929722221945, 6517.042173611102, 6213.507291666667, 6201.429923611101, 6196.307437500009, 6225.605215277768, 6368.968388888887, 6437.686604166653, 6438.604631944451, 6427.5492222222265, 6385.541597222227, 6396.777493055575, 6433.669687499999, 6405.4003749999765, 6395.747611111114, 6425.273986111101, 6400.467819444443, 6400.76842361109, 6407.05902083333, 6402.554041666676, 6329.9985763889, 6264.565631944463, 6277.430083333336, 6310.56606249998, 6351.960548611104, 6333.967756944455, 6364.34178472219, 6404.680194444427, 6412.868326388882, 6506.8773680555605, 6449.525041666662, 6365.883486111105, 6354.911069444451, 6339.537944444456, 6350.976541666664, 6290.059034722227, 6019.894937499998, 5494.714520833338, 5530.675125000012, 5485.194152777787, 5534.090277777771, 5203.1593819444415, 4531.132569444447, 4447.252770833336, 4468.593826388887, 4248.508673611109, 4203.4345069444435, 3756.95189583334, 3850.8809305555556, 3702.9673125000036, 4057.7619513888876, 4224.60156944445, 4075.2327916666695, 4078.2717500000003, 4120.349090277774, 3924.919868055556, 3904.986423611119, 3802.7635277777786, 3694.9691111111147, 3360.1898402777783, 3384.9175000000073, 3468.0102222222245, 3468.8128611111065, 3365.570430555562, 3397.2696736111166, 3360.91896527778, 3233.8725902777715, 3180.2247847222225, 3217.120479166661, 3333.074319444453, 3508.6461597222205, 3748.380458333341, 3923.0398263888833, 3972.550958333326, 3851.8717222222185, 3978.132437499989, 4125.493027777772, 3773.2280555555553, 3779.5463055555515, 3717.7947291666655, 3700.835333333332, 3873.5531736111043, 3788.032055555552, 3757.3624166666555, 3700.3265972222234, 3823.112729166656, 3830.1849722222178, 3785.05104861111, 3834.452138888893, 3874.5452152777775, 4022.664298611106, 4006.257034722222, 4010.7763958333285, 3795.507187500005, 3636.7025416666634, 3626.5706319444425, 3580.619624999998, 3580.005486111115, 3641.574458333333, 3603.472229166661, 3602.951118055559, 3615.6680555555517, 3671.6374999999907, 3607.2373958333274, 3535.8616458333254, 3551.567465277765, 3569.4726805555633, 3553.9397777777735, 3557.15230555555, 3571.367611111122, 3545.671416666666, 3438.032173611103, 3398.639076388891, 3423.095763888887, 3424.856152777782, 3416.3658680555586, 3431.8366666666716, 3425.4384861111216, 3414.204527777778, 3419.36813888888, 3371.575750000001, 3366.4235208333366, 3451.4933402777733, 3614.884708333324, 3608.1552916666656, 3595.2006875, 3577.8480416666685, 3582.285694444439, 3569.1406111111155, 3570.4032013888955, 3587.6629097222267, 3585.4940555555586, 3756.019819444445, 3900.652402777775, 3910.843916666662, 3906.7272222222296, 3925.343680555563, 3980.2158541666718, 3989.5767638888838, 3792.778916666669, 3799.9307777777794, 3795.3566597222207, 3810.278263888891, 3813.27386805555, 3805.279194444444, 3801.456263888886, 3725.0505902777822, 3765.770388888884, 3838.784395833329, 3861.3823194444494, 3871.895409722215, 3889.980624999997, 3893.019138888882, 3864.6125624999936, 3847.294444444448, 3853.5086458333462, 3850.2652013888824, 3877.4722777777793, 3978.552020833331, 3963.1048819444545, 3969.4853958333247, 3977.0401319444522, 3995.406333333329, 4005.9583888888824, 3981.5695555555526, 3980.761215277784, 3968.612951388893, 3949.801881944454, 3908.431326388902, 3993.995347222206, 4009.194069444443, 4057.541465277782, 4083.772388888892, 4088.348868055553, 4125.548659722221, 4647.141729166669, 5038.50502083333, 4971.659173611101, 4981.012118055559, 5042.754319444438, 5128.465159722207, 5241.546451388895, 5221.413534722217, 5270.475166666668, 5129.761715277781, 5047.637659722214, 5084.51536805556, 5078.802409722226, 5122.114104166673, 5098.620062500001, 5218.718937499994, 5263.983847222229, 5259.1587361111115, 5313.275881944437, 5288.680506944438, 5317.52523611111, 5531.954173611113, 5486.831687500015, 5423.299951388892, 5149.682201388893, 5165.260756944446, 5169.915263888891, 5154.869499999995, 5199.331576388891, 5303.564006944443, 5360.945784722242, 5617.309986111107, 5694.244680555553, 5721.58211805556, 5656.3270069444425, 5863.695777777779, 5843.870868055555, 6047.245256944443, 6290.585555555554, 6806.6770625000045, 7155.474208333327, 7408.98296527779, 7993.158020833342, 8054.80577777778, 7993.707881944452, 7263.197819444444, 7326.348763888892, 7934.045673611123, 7906.761131944451, 7952.989784722219, 7890.863298611112, 7703.517611111119, 7983.823395833333, 8045.214743055539, 8125.428284722212, 8782.527847222222, 8726.034833333331, 8646.49276388888, 8631.68847916668, 8350.288833333312, 8542.015763888876, 8668.05993750001, 8531.08584722222, 7851.133666666666, 7771.943777777767, 7751.1627916666675, 7938.752041666664, 7941.170618055555, 7799.946125000009, 7820.271444444434, 7897.226569444459, 8036.859090277781, 8169.982472222209, 8353.574541666672, 8727.897222222222, 9096.019243055567, 9236.642777777772, 9153.257826388888, 9148.226562500011, 9353.45185416665, 9802.451152777776, 10725.602312500023, 10747.117999999991, 10844.867333333319, 11314.388562500011, 12643.553618055552, 11803.958812500003, 11678.356861111108, 11850.858194444452, 11540.011777777765, 10687.819687499998, 10305.094118055564, 11345.892000000002, 11760.026750000003, 11141.252972222204, 11416.435701388893, 11311.678444444451, 11794.189805555567, 12514.21774305554, 12649.908881944439, 11584.54125000001, 11585.792416666667, 11430.236854166653, 10860.6743263889, 10419.180666666702, 10356.278006944454, 9577.303708333347, 10053.263270833328, 10473.079361111104, 10680.938881944432, 10578.370826388895, 10451.459284722223, 10071.961000000008, 9703.44240277778, 10023.55200000002, 9775.523166666679, 9731.698895833339, 9486.49152083333, 9541.105833333348, 9541.569750000022, 9857.407680555563, 10085.621541666671, 10475.718763888879, 10785.766958333332, 10820.892229166655, 11676.32672916666, 11758.30978472223, 11712.383777777764, 11802.534583333349, 11820.873673611108, 11582.249006944416, 11379.078881944437, 11520.0]}, {\"marker\": {\"color\": \"rgba(115, 120, 235, 0.5)\"}, \"mode\": \"lines\", \"name\": \"Predicted\", \"type\": \"scatter\", \"x\": [\"2017-06-11T00:00:00\", \"2017-06-12T00:00:00\", \"2017-06-13T00:00:00\", \"2017-06-14T00:00:00\", \"2017-06-15T00:00:00\", \"2017-06-16T00:00:00\", \"2017-06-17T00:00:00\", \"2017-06-18T00:00:00\", \"2017-06-19T00:00:00\", \"2017-06-20T00:00:00\", \"2017-06-21T00:00:00\", \"2017-06-22T00:00:00\", \"2017-06-23T00:00:00\", \"2017-06-24T00:00:00\", \"2017-06-25T00:00:00\", \"2017-06-26T00:00:00\", \"2017-06-27T00:00:00\", \"2017-06-28T00:00:00\", \"2017-06-29T00:00:00\", \"2017-06-30T00:00:00\", \"2017-07-01T00:00:00\", \"2017-07-02T00:00:00\", \"2017-07-03T00:00:00\", \"2017-07-04T00:00:00\", \"2017-07-05T00:00:00\", \"2017-07-06T00:00:00\", \"2017-07-07T00:00:00\", \"2017-07-08T00:00:00\", \"2017-07-09T00:00:00\", \"2017-07-10T00:00:00\", \"2017-07-11T00:00:00\", \"2017-07-12T00:00:00\", \"2017-07-13T00:00:00\", \"2017-07-14T00:00:00\", \"2017-07-15T00:00:00\", \"2017-07-16T00:00:00\", \"2017-07-17T00:00:00\", \"2017-07-18T00:00:00\", \"2017-07-19T00:00:00\", \"2017-07-20T00:00:00\", \"2017-07-21T00:00:00\", \"2017-07-22T00:00:00\", \"2017-07-23T00:00:00\", \"2017-07-24T00:00:00\", \"2017-07-25T00:00:00\", \"2017-07-26T00:00:00\", \"2017-07-27T00:00:00\", \"2017-07-28T00:00:00\", \"2017-07-29T00:00:00\", \"2017-07-30T00:00:00\", \"2017-07-31T00:00:00\", \"2017-08-01T00:00:00\", \"2017-08-02T00:00:00\", \"2017-08-03T00:00:00\", \"2017-08-04T00:00:00\", \"2017-08-05T00:00:00\", \"2017-08-06T00:00:00\", \"2017-08-07T00:00:00\", \"2017-08-08T00:00:00\", \"2017-08-09T00:00:00\", \"2017-08-10T00:00:00\", \"2017-08-11T00:00:00\", \"2017-08-12T00:00:00\", \"2017-08-13T00:00:00\", \"2017-08-14T00:00:00\", \"2017-08-15T00:00:00\", \"2017-08-16T00:00:00\", \"2017-08-17T00:00:00\", \"2017-08-18T00:00:00\", \"2017-08-19T00:00:00\", \"2017-08-20T00:00:00\", \"2017-08-21T00:00:00\", \"2017-08-22T00:00:00\", \"2017-08-23T00:00:00\", \"2017-08-24T00:00:00\", \"2017-08-25T00:00:00\", \"2017-08-26T00:00:00\", \"2017-08-27T00:00:00\", \"2017-08-28T00:00:00\", \"2017-08-29T00:00:00\", \"2017-08-30T00:00:00\", \"2017-08-31T00:00:00\", \"2017-09-01T00:00:00\", \"2017-09-02T00:00:00\", \"2017-09-03T00:00:00\", \"2017-09-04T00:00:00\", \"2017-09-05T00:00:00\", \"2017-09-06T00:00:00\", \"2017-09-07T00:00:00\", \"2017-09-08T00:00:00\", \"2017-09-09T00:00:00\", \"2017-09-10T00:00:00\", \"2017-09-11T00:00:00\", \"2017-09-12T00:00:00\", \"2017-09-13T00:00:00\", \"2017-09-14T00:00:00\", \"2017-09-15T00:00:00\", \"2017-09-16T00:00:00\", \"2017-09-17T00:00:00\", \"2017-09-18T00:00:00\", \"2017-09-19T00:00:00\", \"2017-09-20T00:00:00\", \"2017-09-21T00:00:00\", \"2017-09-22T00:00:00\", \"2017-09-23T00:00:00\", \"2017-09-24T00:00:00\", \"2017-09-25T00:00:00\", \"2017-09-26T00:00:00\", \"2017-09-27T00:00:00\", \"2017-09-28T00:00:00\", \"2017-09-29T00:00:00\", \"2017-09-30T00:00:00\", \"2017-10-01T00:00:00\", \"2017-10-02T00:00:00\", \"2017-10-03T00:00:00\", \"2017-10-04T00:00:00\", \"2017-10-05T00:00:00\", \"2017-10-06T00:00:00\", \"2017-10-07T00:00:00\", \"2017-10-08T00:00:00\", \"2017-10-09T00:00:00\", \"2017-10-10T00:00:00\", \"2017-10-11T00:00:00\", \"2017-10-12T00:00:00\", \"2017-10-13T00:00:00\", \"2017-10-14T00:00:00\", \"2017-10-15T00:00:00\", \"2017-10-16T00:00:00\", \"2017-10-17T00:00:00\", \"2017-10-18T00:00:00\", \"2017-10-19T00:00:00\", \"2017-10-20T00:00:00\", \"2017-10-21T00:00:00\", \"2017-10-22T00:00:00\", \"2017-10-23T00:00:00\", \"2017-10-24T00:00:00\", \"2017-10-25T00:00:00\", \"2017-10-26T00:00:00\", \"2017-10-27T00:00:00\", \"2017-10-28T00:00:00\", \"2017-10-29T00:00:00\", \"2017-10-30T00:00:00\", \"2017-10-31T00:00:00\", \"2017-11-01T00:00:00\", \"2017-11-02T00:00:00\", \"2017-11-03T00:00:00\", \"2017-11-04T00:00:00\", \"2017-11-05T00:00:00\", \"2017-11-06T00:00:00\", \"2017-11-07T00:00:00\", \"2017-11-08T00:00:00\", \"2017-11-09T00:00:00\", \"2017-11-10T00:00:00\", \"2017-11-11T00:00:00\", \"2017-11-12T00:00:00\", \"2017-11-13T00:00:00\", \"2017-11-14T00:00:00\", \"2017-11-15T00:00:00\", \"2017-11-16T00:00:00\", \"2017-11-17T00:00:00\", \"2017-11-18T00:00:00\", \"2017-11-19T00:00:00\", \"2017-11-20T00:00:00\", \"2017-11-21T00:00:00\", \"2017-11-22T00:00:00\", \"2017-11-23T00:00:00\", \"2017-11-24T00:00:00\", \"2017-11-25T00:00:00\", \"2017-11-26T00:00:00\", \"2017-11-27T00:00:00\", \"2017-11-28T00:00:00\", \"2017-11-29T00:00:00\", \"2017-11-30T00:00:00\", \"2017-12-01T00:00:00\", \"2017-12-02T00:00:00\", \"2017-12-03T00:00:00\", \"2017-12-04T00:00:00\", \"2017-12-05T00:00:00\", \"2017-12-06T00:00:00\", \"2017-12-07T00:00:00\", \"2017-12-08T00:00:00\", \"2017-12-09T00:00:00\", \"2017-12-10T00:00:00\", \"2017-12-11T00:00:00\", \"2017-12-12T00:00:00\", \"2017-12-13T00:00:00\", \"2017-12-14T00:00:00\", \"2017-12-15T00:00:00\", \"2017-12-16T00:00:00\", \"2017-12-17T00:00:00\", \"2017-12-18T00:00:00\", \"2017-12-19T00:00:00\", \"2017-12-20T00:00:00\", \"2017-12-21T00:00:00\", \"2017-12-22T00:00:00\", \"2017-12-23T00:00:00\", \"2017-12-24T00:00:00\", \"2017-12-25T00:00:00\", \"2017-12-26T00:00:00\", \"2017-12-27T00:00:00\", \"2017-12-28T00:00:00\", \"2017-12-29T00:00:00\", \"2017-12-30T00:00:00\", \"2017-12-31T00:00:00\", \"2018-01-01T00:00:00\", \"2018-01-02T00:00:00\", \"2018-01-03T00:00:00\", \"2018-01-04T00:00:00\", \"2018-01-05T00:00:00\", \"2018-01-06T00:00:00\", \"2018-01-07T00:00:00\", \"2018-01-08T00:00:00\", \"2018-01-09T00:00:00\", \"2018-01-10T00:00:00\", \"2018-01-11T00:00:00\", \"2018-01-12T00:00:00\", \"2018-01-13T00:00:00\", \"2018-01-14T00:00:00\", \"2018-01-15T00:00:00\", \"2018-01-16T00:00:00\", \"2018-01-17T00:00:00\", \"2018-01-18T00:00:00\", \"2018-01-19T00:00:00\", \"2018-01-20T00:00:00\", \"2018-01-21T00:00:00\", \"2018-01-22T00:00:00\", \"2018-01-23T00:00:00\", \"2018-01-24T00:00:00\", \"2018-01-25T00:00:00\", \"2018-01-26T00:00:00\", \"2018-01-27T00:00:00\", \"2018-01-28T00:00:00\", \"2018-01-29T00:00:00\", \"2018-01-30T00:00:00\", \"2018-01-31T00:00:00\", \"2018-02-01T00:00:00\", \"2018-02-02T00:00:00\", \"2018-02-03T00:00:00\", \"2018-02-04T00:00:00\", \"2018-02-05T00:00:00\", \"2018-02-06T00:00:00\", \"2018-02-07T00:00:00\", \"2018-02-08T00:00:00\", \"2018-02-09T00:00:00\", \"2018-02-10T00:00:00\", \"2018-02-11T00:00:00\", \"2018-02-12T00:00:00\", \"2018-02-13T00:00:00\", \"2018-02-14T00:00:00\", \"2018-02-15T00:00:00\", \"2018-02-16T00:00:00\", \"2018-02-17T00:00:00\", \"2018-02-18T00:00:00\", \"2018-02-19T00:00:00\", \"2018-02-20T00:00:00\", \"2018-02-21T00:00:00\", \"2018-02-22T00:00:00\", \"2018-02-23T00:00:00\", \"2018-02-24T00:00:00\", \"2018-02-25T00:00:00\", \"2018-02-26T00:00:00\", \"2018-02-27T00:00:00\", \"2018-02-28T00:00:00\", \"2018-03-01T00:00:00\", \"2018-03-02T00:00:00\", \"2018-03-03T00:00:00\", \"2018-03-04T00:00:00\", \"2018-03-05T00:00:00\", \"2018-03-06T00:00:00\", \"2018-03-07T00:00:00\", \"2018-03-08T00:00:00\", \"2018-03-09T00:00:00\", \"2018-03-10T00:00:00\", \"2018-03-11T00:00:00\", \"2018-03-12T00:00:00\", \"2018-03-13T00:00:00\", \"2018-03-14T00:00:00\", \"2018-03-15T00:00:00\", \"2018-03-16T00:00:00\", \"2018-03-17T00:00:00\", \"2018-03-18T00:00:00\", \"2018-03-19T00:00:00\", \"2018-03-20T00:00:00\", \"2018-03-21T00:00:00\", \"2018-03-22T00:00:00\", \"2018-03-23T00:00:00\", \"2018-03-24T00:00:00\", \"2018-03-25T00:00:00\", \"2018-03-26T00:00:00\", \"2018-03-27T00:00:00\", \"2018-03-28T00:00:00\", \"2018-03-29T00:00:00\", \"2018-03-30T00:00:00\", \"2018-03-31T00:00:00\", \"2018-04-01T00:00:00\", \"2018-04-02T00:00:00\", \"2018-04-03T00:00:00\", \"2018-04-04T00:00:00\", \"2018-04-05T00:00:00\", \"2018-04-06T00:00:00\", \"2018-04-07T00:00:00\", \"2018-04-08T00:00:00\", \"2018-04-09T00:00:00\", \"2018-04-10T00:00:00\", \"2018-04-11T00:00:00\", \"2018-04-12T00:00:00\", \"2018-04-13T00:00:00\", \"2018-04-14T00:00:00\", \"2018-04-15T00:00:00\", \"2018-04-16T00:00:00\", \"2018-04-17T00:00:00\", \"2018-04-18T00:00:00\", \"2018-04-19T00:00:00\", \"2018-04-20T00:00:00\", \"2018-04-21T00:00:00\", \"2018-04-22T00:00:00\", \"2018-04-23T00:00:00\", \"2018-04-24T00:00:00\", \"2018-04-25T00:00:00\", \"2018-04-26T00:00:00\", \"2018-04-27T00:00:00\", \"2018-04-28T00:00:00\", \"2018-04-29T00:00:00\", \"2018-04-30T00:00:00\", \"2018-05-01T00:00:00\", \"2018-05-02T00:00:00\", \"2018-05-03T00:00:00\", \"2018-05-04T00:00:00\", \"2018-05-05T00:00:00\", \"2018-05-06T00:00:00\", \"2018-05-07T00:00:00\", \"2018-05-08T00:00:00\", \"2018-05-09T00:00:00\", \"2018-05-10T00:00:00\", \"2018-05-11T00:00:00\", \"2018-05-12T00:00:00\", \"2018-05-13T00:00:00\", \"2018-05-14T00:00:00\", \"2018-05-15T00:00:00\", \"2018-05-16T00:00:00\", \"2018-05-17T00:00:00\", \"2018-05-18T00:00:00\", \"2018-05-19T00:00:00\", \"2018-05-20T00:00:00\", \"2018-05-21T00:00:00\", \"2018-05-22T00:00:00\", \"2018-05-23T00:00:00\", \"2018-05-24T00:00:00\", \"2018-05-25T00:00:00\", \"2018-05-26T00:00:00\", \"2018-05-27T00:00:00\", \"2018-05-28T00:00:00\", \"2018-05-29T00:00:00\", \"2018-05-30T00:00:00\", \"2018-05-31T00:00:00\", \"2018-06-01T00:00:00\", \"2018-06-02T00:00:00\", \"2018-06-03T00:00:00\", \"2018-06-04T00:00:00\", \"2018-06-05T00:00:00\", \"2018-06-06T00:00:00\", \"2018-06-07T00:00:00\", \"2018-06-08T00:00:00\", \"2018-06-09T00:00:00\", \"2018-06-10T00:00:00\", \"2018-06-11T00:00:00\", \"2018-06-12T00:00:00\", \"2018-06-13T00:00:00\", \"2018-06-14T00:00:00\", \"2018-06-15T00:00:00\", \"2018-06-16T00:00:00\", \"2018-06-17T00:00:00\", \"2018-06-18T00:00:00\", \"2018-06-19T00:00:00\", \"2018-06-20T00:00:00\", \"2018-06-21T00:00:00\", \"2018-06-22T00:00:00\", \"2018-06-23T00:00:00\", \"2018-06-24T00:00:00\", \"2018-06-25T00:00:00\", \"2018-06-26T00:00:00\", \"2018-06-27T00:00:00\", \"2018-06-28T00:00:00\", \"2018-06-29T00:00:00\", \"2018-06-30T00:00:00\", \"2018-07-01T00:00:00\", \"2018-07-02T00:00:00\", \"2018-07-03T00:00:00\", \"2018-07-04T00:00:00\", \"2018-07-05T00:00:00\", \"2018-07-06T00:00:00\", \"2018-07-07T00:00:00\", \"2018-07-08T00:00:00\", \"2018-07-09T00:00:00\", \"2018-07-10T00:00:00\", \"2018-07-11T00:00:00\", \"2018-07-12T00:00:00\", \"2018-07-13T00:00:00\", \"2018-07-14T00:00:00\", \"2018-07-15T00:00:00\", \"2018-07-16T00:00:00\", \"2018-07-17T00:00:00\", \"2018-07-18T00:00:00\", \"2018-07-19T00:00:00\", \"2018-07-20T00:00:00\", \"2018-07-21T00:00:00\", \"2018-07-22T00:00:00\", \"2018-07-23T00:00:00\", \"2018-07-24T00:00:00\", \"2018-07-25T00:00:00\", \"2018-07-26T00:00:00\", \"2018-07-27T00:00:00\", \"2018-07-28T00:00:00\", \"2018-07-29T00:00:00\", \"2018-07-30T00:00:00\", \"2018-07-31T00:00:00\", \"2018-08-01T00:00:00\", \"2018-08-02T00:00:00\", \"2018-08-03T00:00:00\", \"2018-08-04T00:00:00\", \"2018-08-05T00:00:00\", \"2018-08-06T00:00:00\", \"2018-08-07T00:00:00\", \"2018-08-08T00:00:00\", \"2018-08-09T00:00:00\", \"2018-08-10T00:00:00\", \"2018-08-11T00:00:00\", \"2018-08-12T00:00:00\", \"2018-08-13T00:00:00\", \"2018-08-14T00:00:00\", \"2018-08-15T00:00:00\", \"2018-08-16T00:00:00\", \"2018-08-17T00:00:00\", \"2018-08-18T00:00:00\", \"2018-08-19T00:00:00\", \"2018-08-20T00:00:00\", \"2018-08-21T00:00:00\", \"2018-08-22T00:00:00\", \"2018-08-23T00:00:00\", \"2018-08-24T00:00:00\", \"2018-08-25T00:00:00\", \"2018-08-26T00:00:00\", \"2018-08-27T00:00:00\", \"2018-08-28T00:00:00\", \"2018-08-29T00:00:00\", \"2018-08-30T00:00:00\", \"2018-08-31T00:00:00\", \"2018-09-01T00:00:00\", \"2018-09-02T00:00:00\", \"2018-09-03T00:00:00\", \"2018-09-04T00:00:00\", \"2018-09-05T00:00:00\", \"2018-09-06T00:00:00\", \"2018-09-07T00:00:00\", \"2018-09-08T00:00:00\", \"2018-09-09T00:00:00\", \"2018-09-10T00:00:00\", \"2018-09-11T00:00:00\", \"2018-09-12T00:00:00\", \"2018-09-13T00:00:00\", \"2018-09-14T00:00:00\", \"2018-09-15T00:00:00\", \"2018-09-16T00:00:00\", \"2018-09-17T00:00:00\", \"2018-09-18T00:00:00\", \"2018-09-19T00:00:00\", \"2018-09-20T00:00:00\", \"2018-09-21T00:00:00\", \"2018-09-22T00:00:00\", \"2018-09-23T00:00:00\", \"2018-09-24T00:00:00\", \"2018-09-25T00:00:00\", \"2018-09-26T00:00:00\", \"2018-09-27T00:00:00\", \"2018-09-28T00:00:00\", \"2018-09-29T00:00:00\", \"2018-09-30T00:00:00\", \"2018-10-01T00:00:00\", \"2018-10-02T00:00:00\", \"2018-10-03T00:00:00\", \"2018-10-04T00:00:00\", \"2018-10-05T00:00:00\", \"2018-10-06T00:00:00\", \"2018-10-07T00:00:00\", \"2018-10-08T00:00:00\", \"2018-10-09T00:00:00\", \"2018-10-10T00:00:00\", \"2018-10-11T00:00:00\", \"2018-10-12T00:00:00\", \"2018-10-13T00:00:00\", \"2018-10-14T00:00:00\", \"2018-10-15T00:00:00\", \"2018-10-16T00:00:00\", \"2018-10-17T00:00:00\", \"2018-10-18T00:00:00\", \"2018-10-19T00:00:00\", \"2018-10-20T00:00:00\", \"2018-10-21T00:00:00\", \"2018-10-22T00:00:00\", \"2018-10-23T00:00:00\", \"2018-10-24T00:00:00\", \"2018-10-25T00:00:00\", \"2018-10-26T00:00:00\", \"2018-10-27T00:00:00\", \"2018-10-28T00:00:00\", \"2018-10-29T00:00:00\", \"2018-10-30T00:00:00\", \"2018-10-31T00:00:00\", \"2018-11-01T00:00:00\", \"2018-11-02T00:00:00\", \"2018-11-03T00:00:00\", \"2018-11-04T00:00:00\", \"2018-11-05T00:00:00\", \"2018-11-06T00:00:00\", \"2018-11-07T00:00:00\", \"2018-11-08T00:00:00\", \"2018-11-09T00:00:00\", \"2018-11-10T00:00:00\", \"2018-11-11T00:00:00\", \"2018-11-12T00:00:00\", \"2018-11-13T00:00:00\", \"2018-11-14T00:00:00\", \"2018-11-15T00:00:00\", \"2018-11-16T00:00:00\", \"2018-11-17T00:00:00\", \"2018-11-18T00:00:00\", \"2018-11-19T00:00:00\", \"2018-11-20T00:00:00\", \"2018-11-21T00:00:00\", \"2018-11-22T00:00:00\", \"2018-11-23T00:00:00\", \"2018-11-24T00:00:00\", \"2018-11-25T00:00:00\", \"2018-11-26T00:00:00\", \"2018-11-27T00:00:00\", \"2018-11-28T00:00:00\", \"2018-11-29T00:00:00\", \"2018-11-30T00:00:00\", \"2018-12-01T00:00:00\", \"2018-12-02T00:00:00\", \"2018-12-03T00:00:00\", \"2018-12-04T00:00:00\", \"2018-12-05T00:00:00\", \"2018-12-06T00:00:00\", \"2018-12-07T00:00:00\", \"2018-12-08T00:00:00\", \"2018-12-09T00:00:00\", \"2018-12-10T00:00:00\", \"2018-12-11T00:00:00\", \"2018-12-12T00:00:00\", \"2018-12-13T00:00:00\", \"2018-12-14T00:00:00\", \"2018-12-15T00:00:00\", \"2018-12-16T00:00:00\", \"2018-12-17T00:00:00\", \"2018-12-18T00:00:00\", \"2018-12-19T00:00:00\", \"2018-12-20T00:00:00\", \"2018-12-21T00:00:00\", \"2018-12-22T00:00:00\", \"2018-12-23T00:00:00\", \"2018-12-24T00:00:00\", \"2018-12-25T00:00:00\", \"2018-12-26T00:00:00\", \"2018-12-27T00:00:00\", \"2018-12-28T00:00:00\", \"2018-12-29T00:00:00\", \"2018-12-30T00:00:00\", \"2018-12-31T00:00:00\", \"2019-01-01T00:00:00\", \"2019-01-02T00:00:00\", \"2019-01-03T00:00:00\", \"2019-01-04T00:00:00\", \"2019-01-05T00:00:00\", \"2019-01-06T00:00:00\", \"2019-01-07T00:00:00\", \"2019-01-08T00:00:00\", \"2019-01-09T00:00:00\", \"2019-01-10T00:00:00\", \"2019-01-11T00:00:00\", \"2019-01-12T00:00:00\", \"2019-01-13T00:00:00\", \"2019-01-14T00:00:00\", \"2019-01-15T00:00:00\", \"2019-01-16T00:00:00\", \"2019-01-17T00:00:00\", \"2019-01-18T00:00:00\", \"2019-01-19T00:00:00\", \"2019-01-20T00:00:00\", \"2019-01-21T00:00:00\", \"2019-01-22T00:00:00\", \"2019-01-23T00:00:00\", \"2019-01-24T00:00:00\", \"2019-01-25T00:00:00\", \"2019-01-26T00:00:00\", \"2019-01-27T00:00:00\", \"2019-01-28T00:00:00\", \"2019-01-29T00:00:00\", \"2019-01-30T00:00:00\", \"2019-01-31T00:00:00\", \"2019-02-01T00:00:00\", \"2019-02-02T00:00:00\", \"2019-02-03T00:00:00\", \"2019-02-04T00:00:00\", \"2019-02-05T00:00:00\", \"2019-02-06T00:00:00\", \"2019-02-07T00:00:00\", \"2019-02-08T00:00:00\", \"2019-02-09T00:00:00\", \"2019-02-10T00:00:00\", \"2019-02-11T00:00:00\", \"2019-02-12T00:00:00\", \"2019-02-13T00:00:00\", \"2019-02-14T00:00:00\", \"2019-02-15T00:00:00\", \"2019-02-16T00:00:00\", \"2019-02-17T00:00:00\", \"2019-02-18T00:00:00\", \"2019-02-19T00:00:00\", \"2019-02-20T00:00:00\", \"2019-02-21T00:00:00\", \"2019-02-22T00:00:00\", \"2019-02-23T00:00:00\", \"2019-02-24T00:00:00\", \"2019-02-25T00:00:00\", \"2019-02-26T00:00:00\", \"2019-02-27T00:00:00\", \"2019-02-28T00:00:00\", \"2019-03-01T00:00:00\", \"2019-03-02T00:00:00\", \"2019-03-03T00:00:00\", \"2019-03-04T00:00:00\", \"2019-03-05T00:00:00\", \"2019-03-06T00:00:00\", \"2019-03-07T00:00:00\", \"2019-03-08T00:00:00\", \"2019-03-09T00:00:00\", \"2019-03-10T00:00:00\", \"2019-03-11T00:00:00\", \"2019-03-12T00:00:00\", \"2019-03-13T00:00:00\", \"2019-03-14T00:00:00\", \"2019-03-15T00:00:00\", \"2019-03-16T00:00:00\", \"2019-03-17T00:00:00\", \"2019-03-18T00:00:00\", \"2019-03-19T00:00:00\", \"2019-03-20T00:00:00\", \"2019-03-21T00:00:00\", \"2019-03-22T00:00:00\", \"2019-03-23T00:00:00\", \"2019-03-24T00:00:00\", \"2019-03-25T00:00:00\", \"2019-03-26T00:00:00\", \"2019-03-27T00:00:00\", \"2019-03-28T00:00:00\", \"2019-03-29T00:00:00\", \"2019-03-30T00:00:00\", \"2019-03-31T00:00:00\", \"2019-04-01T00:00:00\", \"2019-04-02T00:00:00\", \"2019-04-03T00:00:00\", \"2019-04-04T00:00:00\", \"2019-04-05T00:00:00\", \"2019-04-06T00:00:00\", \"2019-04-07T00:00:00\", \"2019-04-08T00:00:00\", \"2019-04-09T00:00:00\", \"2019-04-10T00:00:00\", \"2019-04-11T00:00:00\", \"2019-04-12T00:00:00\", \"2019-04-13T00:00:00\", \"2019-04-14T00:00:00\", \"2019-04-15T00:00:00\", \"2019-04-16T00:00:00\", \"2019-04-17T00:00:00\", \"2019-04-18T00:00:00\", \"2019-04-19T00:00:00\", \"2019-04-20T00:00:00\", \"2019-04-21T00:00:00\", \"2019-04-22T00:00:00\", \"2019-04-23T00:00:00\", \"2019-04-24T00:00:00\", \"2019-04-25T00:00:00\", \"2019-04-26T00:00:00\", \"2019-04-27T00:00:00\", \"2019-04-28T00:00:00\", \"2019-04-29T00:00:00\", \"2019-04-30T00:00:00\", \"2019-05-01T00:00:00\", \"2019-05-02T00:00:00\", \"2019-05-03T00:00:00\", \"2019-05-04T00:00:00\", \"2019-05-05T00:00:00\", \"2019-05-06T00:00:00\", \"2019-05-07T00:00:00\", \"2019-05-08T00:00:00\", \"2019-05-09T00:00:00\", \"2019-05-10T00:00:00\", \"2019-05-11T00:00:00\", \"2019-05-12T00:00:00\", \"2019-05-13T00:00:00\", \"2019-05-14T00:00:00\", \"2019-05-15T00:00:00\", \"2019-05-16T00:00:00\", \"2019-05-17T00:00:00\", \"2019-05-18T00:00:00\", \"2019-05-19T00:00:00\", \"2019-05-20T00:00:00\", \"2019-05-21T00:00:00\", \"2019-05-22T00:00:00\", \"2019-05-23T00:00:00\", \"2019-05-24T00:00:00\", \"2019-05-25T00:00:00\", \"2019-05-26T00:00:00\", \"2019-05-27T00:00:00\", \"2019-05-28T00:00:00\", \"2019-05-29T00:00:00\", \"2019-05-30T00:00:00\", \"2019-05-31T00:00:00\", \"2019-06-01T00:00:00\", \"2019-06-02T00:00:00\", \"2019-06-03T00:00:00\", \"2019-06-04T00:00:00\", \"2019-06-05T00:00:00\", \"2019-06-06T00:00:00\", \"2019-06-07T00:00:00\", \"2019-06-08T00:00:00\", \"2019-06-09T00:00:00\", \"2019-06-10T00:00:00\", \"2019-06-11T00:00:00\", \"2019-06-12T00:00:00\", \"2019-06-13T00:00:00\", \"2019-06-14T00:00:00\", \"2019-06-15T00:00:00\", \"2019-06-16T00:00:00\", \"2019-06-17T00:00:00\", \"2019-06-18T00:00:00\", \"2019-06-19T00:00:00\", \"2019-06-20T00:00:00\", \"2019-06-21T00:00:00\", \"2019-06-22T00:00:00\", \"2019-06-23T00:00:00\", \"2019-06-24T00:00:00\", \"2019-06-25T00:00:00\", \"2019-06-26T00:00:00\", \"2019-06-27T00:00:00\", \"2019-06-28T00:00:00\", \"2019-06-29T00:00:00\", \"2019-06-30T00:00:00\", \"2019-07-01T00:00:00\", \"2019-07-02T00:00:00\", \"2019-07-03T00:00:00\", \"2019-07-04T00:00:00\", \"2019-07-05T00:00:00\", \"2019-07-06T00:00:00\", \"2019-07-07T00:00:00\", \"2019-07-08T00:00:00\", \"2019-07-09T00:00:00\", \"2019-07-10T00:00:00\", \"2019-07-11T00:00:00\", \"2019-07-12T00:00:00\", \"2019-07-13T00:00:00\", \"2019-07-14T00:00:00\", \"2019-07-15T00:00:00\", \"2019-07-16T00:00:00\", \"2019-07-17T00:00:00\", \"2019-07-18T00:00:00\", \"2019-07-19T00:00:00\", \"2019-07-20T00:00:00\", \"2019-07-21T00:00:00\", \"2019-07-22T00:00:00\", \"2019-07-23T00:00:00\", \"2019-07-24T00:00:00\", \"2019-07-25T00:00:00\", \"2019-07-26T00:00:00\", \"2019-07-27T00:00:00\", \"2019-07-28T00:00:00\", \"2019-07-29T00:00:00\", \"2019-07-30T00:00:00\", \"2019-07-31T00:00:00\", \"2019-08-01T00:00:00\", \"2019-08-02T00:00:00\", \"2019-08-03T00:00:00\", \"2019-08-04T00:00:00\", \"2019-08-05T00:00:00\", \"2019-08-06T00:00:00\", \"2019-08-07T00:00:00\", \"2019-08-08T00:00:00\", \"2019-08-09T00:00:00\", \"2019-08-10T00:00:00\", \"2019-08-11T00:00:00\", \"2019-08-12T00:00:00\"], \"y\": [2847.341709560224, 2906.5119604111824, 2729.7005034730732, 2693.3164172815523, 2617.83810824951, 2334.991383314177, 2490.354699904075, 2558.4020247689555, 2576.552189318843, 2569.1448757389917, 2686.340169198026, 2707.8365801280625, 2667.6613202120197, 2709.287046506203, 2627.77801197037, 2529.453836814639, 2433.15780684254, 2399.329963070859, 2542.140991159756, 2551.999934241949, 2520.06023141398, 2460.773352355082, 2454.416259724939, 2528.622858949238, 2594.223647731587, 2552.700220490695, 2582.9855119803833, 2523.649904664613, 2506.561476433368, 2531.550472653402, 2417.1228410766444, 2314.191169781021, 2346.5192683663145, 2375.28348056092, 2274.937251516239, 2077.0344924489996, 1988.5764479810491, 2116.4480662453534, 2309.1495438042193, 2309.3041364026035, 2516.8060786935957, 2746.7113040663035, 2778.959589267098, 2750.436208328456, 2765.5299902982283, 2576.258236864207, 2466.530576332312, 2562.759482818762, 2752.2544687783334, 2697.6340084556355, 2661.28382639206, 2762.186452189389, 2752.3713436716853, 2697.3982329375563, 2731.3138527224673, 2821.5964399296454, 3210.6245817217605, 3238.081568384481, 3308.7177518296157, 3433.8487274899294, 3304.9134881797895, 3392.773659664965, 3531.827612199581, 3824.338437738282, 4094.33014640756, 4194.493217578453, 4110.933570523471, 4161.414663290193, 4378.631787890788, 4166.370276359741, 3997.6023181042283, 4041.1008233841353, 3985.5423865774787, 3879.311913027767, 4154.330830076307, 4159.499531322842, 4358.415765787819, 4288.461215992002, 4323.884302952714, 4273.51327534359, 4478.929284453122, 4567.238463425382, 4663.475668618333, 4802.9405093950745, 4602.918281101205, 4535.923416127112, 4250.945879967147, 4258.165731379432, 4558.988212015126, 4560.611647733398, 4431.346123959244, 4275.18585359317, 4197.910827401825, 4225.739424464147, 4254.486683325098, 3882.1306656933425, 3620.608432499121, 3468.5498021951844, 3807.3570299518055, 3676.7995050753016, 4004.978990983897, 3950.218915743339, 3944.6267798692697, 3784.8443847951676, 3615.2082491914443, 3699.636355791765, 3666.690237769967, 3815.2329741686513, 3906.777961442727, 4033.9103379462804, 4186.767037416859, 4111.502911459444, 4266.244949022717, 4278.3622501443515, 4395.680267982858, 4254.687901409991, 4212.8390806192065, 4231.468709410514, 4347.615851178156, 4327.5721997506835, 4493.119869824921, 4643.8803797176015, 4822.936256893503, 4751.548358524006, 5170.554449575742, 5734.518901403677, 5697.143444614585, 5551.308212100544, 5720.263202150051, 5602.151736098879, 5295.049748446518, 5679.499660417782, 5796.758381524967, 6092.340373454978, 5845.544001289587, 5844.749757613647, 5576.356099978796, 5520.774625366946, 5843.995246015636, 5781.340910328698, 5717.4093628452565, 5875.33642785515, 6119.069080684956, 6225.61043195552, 6507.9466296191285, 7026.788810022869, 7300.833577154781, 7247.437705892107, 7493.825141916797, 7034.596210664239, 7055.7098084902045, 7423.682297230566, 7159.621877149062, 6837.413905694148, 6502.355151351659, 6070.784347686431, 6485.86013104693, 6623.8848130053075, 7076.522913047182, 7490.610688878477, 7832.843899714693, 7637.221711742941, 7808.234583016439, 8116.503018094161, 8180.5306246513455, 8197.020546693318, 8143.110380624707, 8119.568988122067, 8422.358426416702, 9001.602998959353, 9680.61400335978, 9861.45646333261, 10465.026924840648, 9601.858063431087, 10318.07676821676, 11182.348740945428, 11339.933215911864, 11319.699820253, 11741.515122303637, 12824.648727573333, 15361.956707176067, 15548.2950638379, 14536.569712457724, 13986.154152222975, 16922.936059563275, 16933.44342342717, 16307.881989263127, 16388.058996378182, 17673.054649313493, 18278.235923630367, 19268.78290955406, 18462.02852811672, 18147.65820254711, 16236.702923868876, 16135.946688056918, 13024.999438693603, 15088.394434834332, 13638.459629043215, 14561.1166115072, 15579.722869333977, 15745.01798260856, 14477.626023064473, 14703.933770728514, 13131.03337463444, 13295.18730468668, 13399.86381278745, 13836.667682544326, 15010.25859798173, 14704.60862193721, 15859.633572710805, 16725.78985100474, 16375.259093797396, 14882.95109887216, 14726.692238998647, 13818.107262665835, 13513.094800520646, 13659.925443796474, 14219.211725209176, 13716.705982811842, 14079.618390572934, 11922.386869149164, 11237.17803982973, 11902.97130780042, 11640.829737617754, 12549.727853222212, 11867.827836573355, 11346.431639359987, 10941.727883552427, 11283.2382319022, 11301.13445553829, 10891.70223478702, 11221.145338733222, 11659.040059536097, 11252.220488819174, 10540.90399695111, 9943.727556524325, 9436.159671789917, 8521.23581372637, 9211.643550433244, 8828.280432056057, 7754.02668225804, 7446.203856494731, 8460.282970855382, 8384.365309800529, 8397.345061658323, 8705.602452871713, 8115.053139683881, 8673.6876528913, 8559.116356777939, 9034.915802008689, 9989.17990488917, 10049.919233343011, 10783.914447863119, 10710.947213897874, 10876.95364800766, 11692.530564526885, 10452.123309578023, 10149.110291381157, 9898.044256792282, 9854.504835089801, 9511.766766613448, 9958.847386777114, 10566.68364954343, 10592.112982800854, 10671.058473867908, 10962.536367616462, 11329.581032143007, 11161.263365004306, 11515.243229008596, 10801.425615055405, 10186.999807413042, 9587.717858169171, 8861.529611216385, 9385.21556791503, 9107.958393608027, 9679.23013451177, 9184.456006693845, 9019.02201318411, 8390.02037278805, 8525.278022093582, 8156.451286814104, 7701.527050026178, 8487.190711027055, 8620.301478889825, 9017.23476674352, 8751.706991394332, 8484.232153889652, 8853.019307094188, 8437.193054419497, 8107.00370547744, 7880.779612081425, 7895.184963666009, 7474.066399985283, 6991.814509813731, 7201.2456005133345, 6882.63006199085, 7197.438055339063, 7417.516267699718, 7110.104758956961, 6822.050862700761, 6736.4076327519215, 6920.002473820067, 6961.647878683082, 6855.450671967994, 6742.817929300238, 6866.4589090293675, 7363.220601938722, 8060.0965432959565, 7982.205025824822, 8246.176995683072, 7991.663899629966, 8012.969941624011, 8024.832802620197, 8217.33558744979, 8469.257474573375, 8823.24776101382, 8848.996377299796, 8852.27951685664, 9380.649369937128, 9049.13250508935, 8784.210554726571, 9251.494467496266, 9179.095804136896, 9317.013422940974, 9225.312067634059, 8888.174844186624, 9097.821827377265, 9360.013499941551, 9624.958170222191, 9795.090249827881, 9527.250886002272, 9258.188052387964, 9218.618403530421, 9141.277555263405, 9225.076778717461, 8527.267436906146, 8456.8293037184, 8600.304043119108, 8617.984652821198, 8691.283428530836, 8270.17048643626, 8332.622894851298, 8122.779052089448, 8312.78823337877, 8344.749494002794, 8428.066453091244, 8176.157571971655, 7742.422154782156, 7580.402474039162, 7494.932562922139, 7507.32765372866, 7320.07499301761, 7283.634742359245, 7328.816316630039, 7504.7974601415535, 7525.796251620533, 7466.053164068944, 7575.531392484107, 7661.977969492971, 7508.181192712018, 7448.011003892646, 7587.636193022479, 7660.777995240408, 7581.097355242662, 7598.477299988799, 6962.840611646841, 6793.836903214725, 6788.211864224281, 6391.844195627751, 6581.8426627963945, 6594.784487524355, 6542.183973433569, 6584.190553948034, 6571.721312265162, 6733.0905083184125, 6651.930478529849, 6721.124394902587, 6258.593562831003, 6115.692553108199, 6003.3495051718055, 6246.20011923159, 6165.911009892329, 6085.449187956421, 6103.261028644974, 5885.331918720895, 6445.625324929139, 6320.026588023677, 6452.363243949766, 6581.072060177023, 6529.251688632451, 6546.83771560126, 6497.9771317727, 6542.258576545929, 6729.155003891942, 6661.075856878809, 6393.93413068282, 6321.263901067215, 6190.21272481279, 6234.509154540957, 6226.946701216769, 6314.515580620036, 6532.717232512945, 6921.765391297316, 7472.347310481078, 7347.697074798665, 7402.433714543098, 7318.453280944834, 7436.167020738952, 7669.459398963568, 8114.141643983548, 8279.106413359348, 8150.683431858728, 7952.92508798804, 8159.088110080416, 8162.5494101848535, 8039.939459490517, 7817.126354868963, 7490.11345733826, 7592.460293864635, 7390.546498100582, 7287.0542498802215, 7017.647029355193, 7083.193778332034, 7038.689921109209, 6517.775563899773, 6548.750286187319, 6451.111768867898, 6294.1662815798945, 6392.0095618768755, 6389.695627368907, 6035.022491893384, 6468.593798332369, 6348.938760712399, 6458.913639256273, 6420.976714798096, 6375.89557018508, 6424.05993034688, 6364.018250330465, 6580.276606623323, 6380.1325894607035, 6539.550715196809, 6702.759100183086, 6632.4652566890045, 6696.79682419374, 7022.666227590332, 7021.100680833302, 6864.94855292607, 6952.204549095506, 7094.640180081565, 7218.352743212247, 7224.691234755967, 7298.58213600344, 7013.873889615946, 6282.344229875954, 6498.353808769927, 6341.516398264375, 6309.152545211164, 6318.97578563227, 6337.732741995002, 6330.820707265282, 6508.22475522637, 6521.287843012286, 6490.988615852324, 6453.165672265606, 6354.632464986374, 6254.375121862883, 6318.859040504249, 6391.858074775642, 6680.6976311590415, 6678.7630272196775, 6685.870969027468, 6597.332221977708, 6343.0218628858, 6451.947528313502, 6494.664323291905, 6655.2541869686565, 6490.484122160115, 6563.5705437918905, 6554.244388905162, 6526.140636592042, 6420.011526579086, 6533.500010361435, 6517.056550308788, 6534.827579385525, 6517.0062937381035, 6575.5752581451725, 6567.888312894007, 6486.585556675204, 6125.096304402939, 6201.083583443228, 6187.151769948051, 6229.0140941855725, 6296.0599826176085, 6420.200596268328, 6429.809808131219, 6420.993449836833, 6364.099336431447, 6367.682655294488, 6409.910907912378, 6370.360975707458, 6367.136184059995, 6400.7236101205, 6375.866115666219, 6382.401790558632, 6387.117902769822, 6380.041812509444, 6263.362342814913, 6246.546146697364, 6261.488225811928, 6295.6547062889695, 6336.859723714551, 6315.102388067142, 6351.583823233797, 6396.110602748454, 6384.401048306276, 6495.1868875314985, 6406.267632439011, 6331.701821786685, 6327.894788463774, 6312.095571370216, 6326.587724302999, 6261.79287295116, 5891.885198724451, 5468.760400498545, 5627.650034787391, 5529.221920302561, 5594.7590426999495, 5065.529585127377, 4614.088852311606, 4635.371863560878, 4731.463809639028, 4454.770392195902, 4343.739432875812, 3841.859379725315, 4068.487802279875, 3855.5814370728153, 4187.065248345019, 4228.737312187997, 4069.6438039687428, 4097.968733011786, 4114.744035087117, 3898.8829741238974, 3881.99764288412, 3771.9862858652555, 3660.265985713601, 3359.6975366320034, 3477.4006193868954, 3499.2990724041833, 3507.077971919358, 3417.278297025568, 3436.434705758446, 3383.842820452684, 3257.2595103176855, 3210.850258734057, 3212.716317594851, 3339.886995137937, 3524.7776167212614, 3778.9335986348374, 3933.271080460521, 3961.428681308164, 3813.545204969937, 3993.060137915381, 4156.094060781567, 3608.5605920189855, 3771.0422354497546, 3679.2239375183167, 3684.4210911207792, 3872.7270265581715, 3771.9661190083725, 3749.54783887331, 3695.7254236872245, 3837.817547785616, 3811.67773724493, 3763.7747820020822, 3819.952660310558, 3856.5494439749705, 4028.6115171987312, 3972.441386720806, 3994.6870654070854, 3696.7628428330618, 3627.1769074652966, 3617.8796645076977, 3568.188486904267, 3580.335705850138, 3653.813989915026, 3615.278694517449, 3622.2217546848883, 3631.6834183881874, 3669.844872078286, 3586.738572724997, 3521.0155912362675, 3546.2226854635683, 3558.926253302436, 3545.122923455479, 3548.261439311897, 3560.358156863455, 3532.91435190265, 3404.7732701331292, 3400.727057512726, 3417.778201154208, 3418.6219635006087, 3412.7336362674046, 3429.6034791913653, 3418.9420633043346, 3410.2562389637833, 3415.367926166559, 3357.5639527927674, 3357.6798951533215, 3453.8128427685697, 3616.729732669911, 3590.507668207353, 3577.4005519417974, 3556.8460637999915, 3571.2978355595337, 3550.352485562656, 3554.205610048593, 3573.2714000778656, 3566.744619100816, 3778.1391341503163, 3905.072733804702, 3892.5238351002786, 3888.887989702142, 3910.948114940485, 3974.098511361399, 3960.8339058715997, 3724.0834415067084, 3792.983286167234, 3775.454514719631, 3803.5770000207613, 3805.6275554619288, 3795.7535665039954, 3793.5203248492494, 3715.0700370601685, 3772.0966220847263, 3832.691087895644, 3849.776566605331, 3859.632799918954, 3878.2773535466135, 3879.0294369845033, 3843.0293824711666, 3834.985324497346, 3836.599953822908, 3832.525368277472, 3869.5967822197535, 3976.896396263586, 3943.662906972233, 3956.6744892775237, 3963.0897967052224, 3980.946568147273, 3990.041287790408, 3961.4394924476874, 3962.352673323484, 3948.3049748496824, 3932.8816678624776, 3892.9358917388327, 3996.5405791851717, 3994.124804180269, 4051.5351516972337, 4071.401969465269, 4074.4077308950127, 4112.58613787229, 4608.0611708114675, 5070.761329631518, 4916.206565300219, 4989.7302996037115, 5053.711291901613, 5140.328307595485, 5247.040801199579, 5205.474046787114, 5275.054292436718, 5071.7133355752185, 5020.066378047536, 5064.219091947816, 5053.460165399776, 5106.125629064245, 5074.649218104446, 5215.321873417819, 5247.619545616859, 5240.672249480547, 5293.104776640438, 5258.218648924679, 5300.035189514645, 5561.541858050039, 5438.035513366269, 5387.46136052482, 5055.1704914693255, 5156.523967121342, 5150.192075319802, 5147.03965916232, 5200.424954957133, 5308.314692278248, 5365.486933031083, 5636.451478394077, 5676.6029746740505, 5698.233394383758, 5613.070199061294, 5896.281317832081, 5808.420617620761, 6076.695475100279, 6309.0425615456525, 6915.730417682968, 7204.08236204628, 7447.430390476214, 8147.561042676107, 8018.505789792556, 7952.633484171869, 6876.429185469274, 7356.411403120088, 8050.245566890238, 7843.808660612067, 7904.737438112962, 7834.479304768247, 7664.636642786614, 7985.775967972943, 8020.100071625784, 8086.298845106989, 8876.25703944041, 8680.306433585836, 8592.84821747999, 8575.902285131775, 8243.6396557868, 8528.946449304616, 8642.270723895721, 8425.782020416289, 7660.947646429015, 7860.900392627699, 7767.188736427931, 7982.028373907098, 7949.284010221044, 7794.033468631884, 7837.300644581695, 7931.1288149816255, 8050.438546369187, 8143.287356359242, 8339.074813664902, 8737.971010302455, 9130.44951738847, 9211.116762174046, 9075.390358364442, 9118.014262545785, 9364.11763651445, 9883.337345869024, 10937.33714613616, 10734.376865216376, 10811.450498003098, 11401.509743788594, 12974.33921622057, 11141.160303819832, 11790.234404219329, 11885.670793087487, 11389.017363007288, 10426.824902519957, 10291.239028612605, 11500.891589621608, 11731.347782841947, 11152.940266833262, 11425.763490451647, 11261.682183956842, 11825.876847664109, 12559.557350628707, 12600.419797953327, 11224.035999027772, 11548.553247908594, 11342.480729578796, 10711.914176135957, 10357.446143234509, 10366.418746572566, 9621.196835210136, 10350.218328382796, 10612.507325838324, 10711.506052616993, 10591.36620905905, 10461.544076489576, 10028.301781164113, 9659.525543958816, 10012.58326267624, 9682.948964857816, 9702.304215909024, 9486.807898003597, 9583.613072191674, 9560.150956926862, 9883.733134035685, 10069.538045285948, 10484.527938321757, 10778.454296905538, 10762.793429718666, 11850.895366856239, 11581.732362242665, 11679.628142667232, 11825.084763045548, 11780.607401159788, 11461.933774191628, 11282.730223400444]}],\n",
       "                        {\"height\": 400, \"template\": {\"data\": {\"bar\": [{\"error_x\": {\"color\": \"#2a3f5f\"}, \"error_y\": {\"color\": \"#2a3f5f\"}, \"marker\": {\"line\": {\"color\": \"#E5ECF6\", \"width\": 0.5}}, \"type\": \"bar\"}], \"barpolar\": [{\"marker\": {\"line\": {\"color\": \"#E5ECF6\", \"width\": 0.5}}, \"type\": \"barpolar\"}], \"carpet\": [{\"aaxis\": {\"endlinecolor\": \"#2a3f5f\", \"gridcolor\": \"white\", \"linecolor\": \"white\", \"minorgridcolor\": \"white\", \"startlinecolor\": \"#2a3f5f\"}, \"baxis\": {\"endlinecolor\": \"#2a3f5f\", \"gridcolor\": \"white\", \"linecolor\": \"white\", \"minorgridcolor\": \"white\", \"startlinecolor\": \"#2a3f5f\"}, \"type\": \"carpet\"}], \"choropleth\": [{\"colorbar\": {\"outlinewidth\": 0, \"ticks\": \"\"}, \"type\": \"choropleth\"}], \"contour\": [{\"colorbar\": {\"outlinewidth\": 0, \"ticks\": \"\"}, \"colorscale\": [[0.0, \"#0d0887\"], [0.1111111111111111, \"#46039f\"], [0.2222222222222222, \"#7201a8\"], [0.3333333333333333, \"#9c179e\"], [0.4444444444444444, \"#bd3786\"], [0.5555555555555556, \"#d8576b\"], [0.6666666666666666, \"#ed7953\"], [0.7777777777777778, \"#fb9f3a\"], [0.8888888888888888, \"#fdca26\"], [1.0, \"#f0f921\"]], \"type\": \"contour\"}], \"contourcarpet\": [{\"colorbar\": {\"outlinewidth\": 0, \"ticks\": \"\"}, \"type\": \"contourcarpet\"}], \"heatmap\": [{\"colorbar\": {\"outlinewidth\": 0, \"ticks\": \"\"}, \"colorscale\": [[0.0, \"#0d0887\"], [0.1111111111111111, \"#46039f\"], [0.2222222222222222, \"#7201a8\"], [0.3333333333333333, \"#9c179e\"], [0.4444444444444444, \"#bd3786\"], [0.5555555555555556, \"#d8576b\"], [0.6666666666666666, \"#ed7953\"], [0.7777777777777778, \"#fb9f3a\"], [0.8888888888888888, \"#fdca26\"], [1.0, \"#f0f921\"]], \"type\": \"heatmap\"}], \"heatmapgl\": [{\"colorbar\": {\"outlinewidth\": 0, \"ticks\": \"\"}, \"colorscale\": [[0.0, \"#0d0887\"], [0.1111111111111111, \"#46039f\"], [0.2222222222222222, \"#7201a8\"], [0.3333333333333333, \"#9c179e\"], [0.4444444444444444, \"#bd3786\"], [0.5555555555555556, \"#d8576b\"], [0.6666666666666666, \"#ed7953\"], [0.7777777777777778, \"#fb9f3a\"], [0.8888888888888888, \"#fdca26\"], [1.0, \"#f0f921\"]], \"type\": \"heatmapgl\"}], \"histogram\": [{\"marker\": {\"colorbar\": {\"outlinewidth\": 0, \"ticks\": \"\"}}, \"type\": \"histogram\"}], \"histogram2d\": [{\"colorbar\": {\"outlinewidth\": 0, \"ticks\": \"\"}, \"colorscale\": [[0.0, \"#0d0887\"], [0.1111111111111111, \"#46039f\"], [0.2222222222222222, \"#7201a8\"], [0.3333333333333333, \"#9c179e\"], [0.4444444444444444, \"#bd3786\"], [0.5555555555555556, \"#d8576b\"], [0.6666666666666666, \"#ed7953\"], [0.7777777777777778, \"#fb9f3a\"], [0.8888888888888888, \"#fdca26\"], [1.0, \"#f0f921\"]], \"type\": \"histogram2d\"}], \"histogram2dcontour\": [{\"colorbar\": {\"outlinewidth\": 0, \"ticks\": \"\"}, \"colorscale\": [[0.0, \"#0d0887\"], [0.1111111111111111, \"#46039f\"], [0.2222222222222222, \"#7201a8\"], [0.3333333333333333, \"#9c179e\"], [0.4444444444444444, \"#bd3786\"], [0.5555555555555556, \"#d8576b\"], [0.6666666666666666, \"#ed7953\"], [0.7777777777777778, \"#fb9f3a\"], [0.8888888888888888, \"#fdca26\"], [1.0, \"#f0f921\"]], \"type\": \"histogram2dcontour\"}], \"mesh3d\": [{\"colorbar\": {\"outlinewidth\": 0, \"ticks\": \"\"}, \"type\": \"mesh3d\"}], \"parcoords\": [{\"line\": {\"colorbar\": {\"outlinewidth\": 0, \"ticks\": \"\"}}, \"type\": \"parcoords\"}], \"scatter\": [{\"marker\": {\"colorbar\": {\"outlinewidth\": 0, \"ticks\": \"\"}}, \"type\": \"scatter\"}], \"scatter3d\": [{\"line\": {\"colorbar\": {\"outlinewidth\": 0, \"ticks\": \"\"}}, \"marker\": {\"colorbar\": {\"outlinewidth\": 0, \"ticks\": \"\"}}, \"type\": \"scatter3d\"}], \"scattercarpet\": [{\"marker\": {\"colorbar\": {\"outlinewidth\": 0, \"ticks\": \"\"}}, \"type\": \"scattercarpet\"}], \"scattergeo\": [{\"marker\": {\"colorbar\": {\"outlinewidth\": 0, \"ticks\": \"\"}}, \"type\": \"scattergeo\"}], \"scattergl\": [{\"marker\": {\"colorbar\": {\"outlinewidth\": 0, \"ticks\": \"\"}}, \"type\": \"scattergl\"}], \"scattermapbox\": [{\"marker\": {\"colorbar\": {\"outlinewidth\": 0, \"ticks\": \"\"}}, \"type\": \"scattermapbox\"}], \"scatterpolar\": [{\"marker\": {\"colorbar\": {\"outlinewidth\": 0, \"ticks\": \"\"}}, \"type\": \"scatterpolar\"}], \"scatterpolargl\": [{\"marker\": {\"colorbar\": {\"outlinewidth\": 0, \"ticks\": \"\"}}, \"type\": \"scatterpolargl\"}], \"scatterternary\": [{\"marker\": {\"colorbar\": {\"outlinewidth\": 0, \"ticks\": \"\"}}, \"type\": \"scatterternary\"}], \"surface\": [{\"colorbar\": {\"outlinewidth\": 0, \"ticks\": \"\"}, \"colorscale\": [[0.0, \"#0d0887\"], [0.1111111111111111, \"#46039f\"], [0.2222222222222222, \"#7201a8\"], [0.3333333333333333, \"#9c179e\"], [0.4444444444444444, \"#bd3786\"], [0.5555555555555556, \"#d8576b\"], [0.6666666666666666, \"#ed7953\"], [0.7777777777777778, \"#fb9f3a\"], [0.8888888888888888, \"#fdca26\"], [1.0, \"#f0f921\"]], \"type\": \"surface\"}], \"table\": [{\"cells\": {\"fill\": {\"color\": \"#EBF0F8\"}, \"line\": {\"color\": \"white\"}}, \"header\": {\"fill\": {\"color\": \"#C8D4E3\"}, \"line\": {\"color\": \"white\"}}, \"type\": \"table\"}]}, \"layout\": {\"annotationdefaults\": {\"arrowcolor\": \"#2a3f5f\", \"arrowhead\": 0, \"arrowwidth\": 1}, \"colorscale\": {\"diverging\": [[0, \"#8e0152\"], [0.1, \"#c51b7d\"], [0.2, \"#de77ae\"], [0.3, \"#f1b6da\"], [0.4, \"#fde0ef\"], [0.5, \"#f7f7f7\"], [0.6, \"#e6f5d0\"], [0.7, \"#b8e186\"], [0.8, \"#7fbc41\"], [0.9, \"#4d9221\"], [1, \"#276419\"]], \"sequential\": [[0.0, \"#0d0887\"], [0.1111111111111111, \"#46039f\"], [0.2222222222222222, \"#7201a8\"], [0.3333333333333333, \"#9c179e\"], [0.4444444444444444, \"#bd3786\"], [0.5555555555555556, \"#d8576b\"], [0.6666666666666666, \"#ed7953\"], [0.7777777777777778, \"#fb9f3a\"], [0.8888888888888888, \"#fdca26\"], [1.0, \"#f0f921\"]], \"sequentialminus\": [[0.0, \"#0d0887\"], [0.1111111111111111, \"#46039f\"], [0.2222222222222222, \"#7201a8\"], [0.3333333333333333, \"#9c179e\"], [0.4444444444444444, \"#bd3786\"], [0.5555555555555556, \"#d8576b\"], [0.6666666666666666, \"#ed7953\"], [0.7777777777777778, \"#fb9f3a\"], [0.8888888888888888, \"#fdca26\"], [1.0, \"#f0f921\"]]}, \"colorway\": [\"#636efa\", \"#EF553B\", \"#00cc96\", \"#ab63fa\", \"#FFA15A\", \"#19d3f3\", \"#FF6692\", \"#B6E880\", \"#FF97FF\", \"#FECB52\"], \"font\": {\"color\": \"#2a3f5f\"}, \"geo\": {\"bgcolor\": \"white\", \"lakecolor\": \"white\", \"landcolor\": \"#E5ECF6\", \"showlakes\": true, \"showland\": true, \"subunitcolor\": \"white\"}, \"hoverlabel\": {\"align\": \"left\"}, \"hovermode\": \"closest\", \"mapbox\": {\"style\": \"light\"}, \"paper_bgcolor\": \"white\", \"plot_bgcolor\": \"#E5ECF6\", \"polar\": {\"angularaxis\": {\"gridcolor\": \"white\", \"linecolor\": \"white\", \"ticks\": \"\"}, \"bgcolor\": \"#E5ECF6\", \"radialaxis\": {\"gridcolor\": \"white\", \"linecolor\": \"white\", \"ticks\": \"\"}}, \"scene\": {\"xaxis\": {\"backgroundcolor\": \"#E5ECF6\", \"gridcolor\": \"white\", \"gridwidth\": 2, \"linecolor\": \"white\", \"showbackground\": true, \"ticks\": \"\", \"zerolinecolor\": \"white\"}, \"yaxis\": {\"backgroundcolor\": \"#E5ECF6\", \"gridcolor\": \"white\", \"gridwidth\": 2, \"linecolor\": \"white\", \"showbackground\": true, \"ticks\": \"\", \"zerolinecolor\": \"white\"}, \"zaxis\": {\"backgroundcolor\": \"#E5ECF6\", \"gridcolor\": \"white\", \"gridwidth\": 2, \"linecolor\": \"white\", \"showbackground\": true, \"ticks\": \"\", \"zerolinecolor\": \"white\"}}, \"shapedefaults\": {\"line\": {\"color\": \"#2a3f5f\"}}, \"ternary\": {\"aaxis\": {\"gridcolor\": \"white\", \"linecolor\": \"white\", \"ticks\": \"\"}, \"baxis\": {\"gridcolor\": \"white\", \"linecolor\": \"white\", \"ticks\": \"\"}, \"bgcolor\": \"#E5ECF6\", \"caxis\": {\"gridcolor\": \"white\", \"linecolor\": \"white\", \"ticks\": \"\"}}, \"title\": {\"x\": 0.05}, \"xaxis\": {\"automargin\": true, \"gridcolor\": \"white\", \"linecolor\": \"white\", \"ticks\": \"\", \"zerolinecolor\": \"white\", \"zerolinewidth\": 2}, \"yaxis\": {\"automargin\": true, \"gridcolor\": \"white\", \"linecolor\": \"white\", \"ticks\": \"\", \"zerolinecolor\": \"white\", \"zerolinewidth\": 2}}}, \"title\": {\"text\": \"Test Set: Single Timepoint Prediction\"}, \"width\": 550, \"xaxis\": {\"range\": [\"2017-06-01\", \"2018-12-31\"], \"title\": {\"text\": \"timestamp\"}}, \"yaxis\": {\"title\": {\"text\": \"Price /USD\"}}},\n",
       "                        {\"responsive\": true}\n",
       "                    ).then(function(){\n",
       "                            \n",
       "var gd = document.getElementById('ccec099f-d733-42f5-97de-d1ecf4985cb9');\n",
       "var x = new MutationObserver(function (mutations, observer) {{\n",
       "        var display = window.getComputedStyle(gd).display;\n",
       "        if (!display || display === 'none') {{\n",
       "            console.log([gd, 'removed!']);\n",
       "            Plotly.purge(gd);\n",
       "            observer.disconnect();\n",
       "        }}\n",
       "}});\n",
       "\n",
       "// Listen for the removal of the full notebook cells\n",
       "var notebookContainer = gd.closest('#notebook-container');\n",
       "if (notebookContainer) {{\n",
       "    x.observe(notebookContainer, {childList: true});\n",
       "}}\n",
       "\n",
       "// Listen for the clearing of the current output cell\n",
       "var outputEl = gd.closest('.output');\n",
       "if (outputEl) {{\n",
       "    x.observe(outputEl, {childList: true});\n",
       "}}\n",
       "\n",
       "                        })\n",
       "                };\n",
       "                });\n",
       "            </script>\n",
       "        </div>"
      ]
     },
     "metadata": {},
     "output_type": "display_data"
    }
   ],
   "source": [
    "trace_ac = go.Scatter(x = model_data[model_data['Timestamp']>= split_date]['Timestamp'][window_len:],\n",
    "                   y = test_set['Close'][window_len:],\n",
    "                   mode = \"lines\",\n",
    "                   name = \"Actual\",\n",
    "                   marker = dict(color = 'rgba(235, 115, 150, 0.5)')\n",
    "                       )\n",
    "\n",
    "trace_pre = go.Scatter(x = model_data[model_data['Timestamp']>= split_date]['Timestamp'][window_len:],\n",
    "                   y = ((np.transpose(bit_model.predict(LSTM_test_inputs))+1) * test_set['Close'].values[:-window_len])[0],\n",
    "                   mode = \"lines\",\n",
    "                   name = \"Predicted\",\n",
    "                   marker = dict(color = 'rgba(115, 120, 235, 0.5)')\n",
    "                      )\n",
    "            \n",
    "data_3 = [trace_ac, trace_pre]\n",
    "\n",
    "layout_3 = go.Layout(height=400, width=550,\n",
    "                title='Test Set: Single Timepoint Prediction', \n",
    "                xaxis_title=\"timestamp\",\n",
    "                yaxis_title=\"Price /USD\", \n",
    "                     xaxis=dict(range=['2017-06-01', '2018-12-31']))\n",
    "\n",
    "fig = dict(data = data_3, layout = layout_3)\n",
    "\n",
    "\n",
    "iplot(fig);"
   ]
  },
  {
   "cell_type": "markdown",
   "metadata": {},
   "source": [
    "Single point predictions can be deceptive, as we saw in the random walk prediction. Looking more closely, you'll notice that, again, the predicted values regularly mirror the previous values (e.g. October). \n",
    "<br>LSTM model has partially reproducted a autregressive (AR) model of some order p, where future values are simply the weighted sum of the previous p values. We can define an AR model in these mathematical terms:\n",
    "$$\\begin{align}\n",
    "PredPrice_{t} &amp; = \\phi_0 + \\phi_1*Price_{t-1} + \\ldots + \\phi_p*Price_{t-p} + \\epsilon_t, \\ \\epsilon_t \\sim N(0, \\sigma)\\\n",
    "\\end{align}$$\n",
    "The good news is that AR models are commonly employed in time series tasks (e.g. stock market prices), so the LSTM model appears to have landed on a sensible solution. The bad news is that it's a waste of the LSTM capabilities, we could have a built a much simpler AR model in much less time and probably achieved similar results.([More complex does not automatically equal more accurate](https://pdfs.semanticscholar.org/696c/2fa5697f58914921ff37d69ced44ddea143f.pdf)).\n",
    "\n",
    "We'll now build LSTM models to predict crypto prices for the next 5 days."
   ]
  },
  {
   "cell_type": "code",
   "execution_count": 36,
   "metadata": {},
   "outputs": [
    {
     "name": "stdout",
     "output_type": "stream",
     "text": [
      "Epoch 1/50\n",
      " - 23s - loss: 0.0815\n",
      "Epoch 2/50\n",
      " - 22s - loss: 0.0614\n",
      "Epoch 3/50\n",
      " - 20s - loss: 0.0570\n",
      "Epoch 4/50\n",
      " - 21s - loss: 0.0543\n",
      "Epoch 5/50\n",
      " - 20s - loss: 0.0542\n",
      "Epoch 6/50\n",
      " - 20s - loss: 0.0532\n",
      "Epoch 7/50\n",
      " - 15s - loss: 0.0542\n",
      "Epoch 8/50\n",
      " - 15s - loss: 0.0527\n",
      "Epoch 9/50\n",
      " - 13s - loss: 0.0530\n",
      "Epoch 10/50\n",
      " - 15s - loss: 0.0523\n",
      "Epoch 11/50\n",
      " - 17s - loss: 0.0521\n",
      "Epoch 12/50\n",
      " - 17s - loss: 0.0519\n",
      "Epoch 13/50\n",
      " - 12s - loss: 0.0525\n",
      "Epoch 14/50\n",
      " - 10s - loss: 0.0526\n",
      "Epoch 15/50\n",
      " - 12s - loss: 0.0521\n",
      "Epoch 16/50\n",
      " - 12s - loss: 0.0514\n",
      "Epoch 17/50\n",
      " - 12s - loss: 0.0514\n",
      "Epoch 18/50\n",
      " - 12s - loss: 0.0515\n",
      "Epoch 19/50\n",
      " - 12s - loss: 0.0505\n",
      "Epoch 20/50\n",
      " - 12s - loss: 0.0520\n",
      "Epoch 21/50\n",
      " - 12s - loss: 0.0513\n",
      "Epoch 22/50\n",
      " - 12s - loss: 0.0516\n",
      "Epoch 23/50\n",
      " - 12s - loss: 0.0514\n",
      "Epoch 24/50\n",
      " - 12s - loss: 0.0519\n",
      "Epoch 25/50\n",
      " - 12s - loss: 0.0521\n",
      "Epoch 26/50\n",
      " - 12s - loss: 0.0509\n",
      "Epoch 27/50\n",
      " - 12s - loss: 0.0511\n",
      "Epoch 28/50\n",
      " - 12s - loss: 0.0505\n",
      "Epoch 29/50\n",
      " - 12s - loss: 0.0514\n",
      "Epoch 30/50\n",
      " - 12s - loss: 0.0505\n",
      "Epoch 31/50\n",
      " - 12s - loss: 0.0509\n",
      "Epoch 32/50\n",
      " - 12s - loss: 0.0506\n",
      "Epoch 33/50\n",
      " - 12s - loss: 0.0506\n",
      "Epoch 34/50\n",
      " - 12s - loss: 0.0500\n",
      "Epoch 35/50\n",
      " - 12s - loss: 0.0522\n",
      "Epoch 36/50\n",
      " - 12s - loss: 0.0497\n",
      "Epoch 37/50\n",
      " - 12s - loss: 0.0502\n",
      "Epoch 38/50\n",
      " - 12s - loss: 0.0505\n",
      "Epoch 39/50\n",
      " - 12s - loss: 0.0506\n",
      "Epoch 40/50\n",
      " - 12s - loss: 0.0509\n",
      "Epoch 41/50\n",
      " - 12s - loss: 0.0504\n",
      "Epoch 42/50\n",
      " - 12s - loss: 0.0507\n",
      "Epoch 43/50\n",
      " - 12s - loss: 0.0504\n",
      "Epoch 44/50\n",
      " - 12s - loss: 0.0516\n",
      "Epoch 45/50\n",
      " - 12s - loss: 0.0507\n",
      "Epoch 46/50\n",
      " - 12s - loss: 0.0503\n",
      "Epoch 47/50\n",
      " - 12s - loss: 0.0497\n",
      "Epoch 48/50\n",
      " - 12s - loss: 0.0505\n",
      "Epoch 49/50\n",
      " - 12s - loss: 0.0495\n",
      "Epoch 50/50\n",
      " - 12s - loss: 0.0504\n"
     ]
    }
   ],
   "source": [
    "# random seed for reproducibility\n",
    "np.random.seed(202)\n",
    "\n",
    "# we'll try to predict the closing price for the next 5 days\n",
    "# change this value if you want to make longer/shorter prediction\n",
    "pred_range = 5\n",
    "\n",
    "# initialise model architecture\n",
    "bit_model = build_model(LSTM_training_inputs, output_size=pred_range, neurons = 20)\n",
    "\n",
    "# model output is next 5 prices normalised to 10th previous closing price\n",
    "LSTM_training_outputs = []\n",
    "for i in range(window_len, len(training_set['Close'])-pred_range):\n",
    "    LSTM_training_outputs.append((training_set['Close'][i:i+pred_range].values/\n",
    "                                  training_set['Close'].values[i-window_len])-1)\n",
    "LSTM_training_outputs = np.array(LSTM_training_outputs)\n",
    "\n",
    "# train model on data (same as single point prediction)\n",
    "# note: bit_history contains information on the training error per epoch\n",
    "bit_history = bit_model.fit(LSTM_training_inputs[:-pred_range], LSTM_training_outputs, \n",
    "                            epochs=50, batch_size=1, verbose=2, shuffle=True)"
   ]
  },
  {
   "cell_type": "code",
   "execution_count": 37,
   "metadata": {},
   "outputs": [
    {
     "data": {
      "image/png": "[encoded data removed]",
      "text/plain": [
       "<Figure size 432x288 with 1 Axes>"
      ]
     },
     "metadata": {
      "needs_background": "light"
     },
     "output_type": "display_data"
    }
   ],
   "source": [
    "# little bit of reformatting the predictions to closing prices\n",
    "bt_pred_prices = ((bit_model.predict(LSTM_test_inputs)[:-pred_range][::pred_range]+1)*\\\n",
    "                   test_set['Close'].values[:-(window_len + pred_range)][::5].reshape(int(np.ceil((len(LSTM_test_inputs)-pred_range)/float(pred_range))),1))\n",
    "\n",
    "pred_colors = [\"#FF69B4\", \"#5D6D7E\", \"#F4D03F\",\"#A569BD\",\"#45B39D\"]\n",
    "fig, ax1 = plt.subplots(1,1)\n",
    "ax1.plot(model_data[model_data['Timestamp']>= split_date]['Timestamp'][window_len:],\n",
    "         test_set['Close'][window_len:], label='Actual')\n",
    "\n",
    "for i, (bt_pred) in enumerate(bt_pred_prices):\n",
    "    # Only adding lines to the legend once\n",
    "    if i<5:\n",
    "        ax1.plot(model_data[model_data['Timestamp']>= split_date]['Timestamp'][window_len:][i*pred_range:i*pred_range+pred_range],\n",
    "                 bt_pred, color=pred_colors[i%5], label=\"Predicted\")\n",
    "    else: \n",
    "        ax1.plot(model_data[model_data['Timestamp']>= split_date]['Timestamp'][window_len:][i*pred_range:i*pred_range+pred_range],\n",
    "                 bt_pred, color=pred_colors[i%5])\n",
    "\n",
    "ax1.set_title('Test Set: 5 Timepoint Predictions',fontsize=13)\n",
    "ax1.set_ylabel('Bitcoin Price ($)',fontsize=12)\n",
    "ax1.set_xlim('2017-06-01', '2017-12-31')\n",
    "ax1.legend(bbox_to_anchor=(1.05, 1), loc=2, borderaxespad=0., prop={'size': 12})\n",
    "\n",
    "plt.show()"
   ]
  },
  {
   "cell_type": "markdown",
   "metadata": {},
   "source": [
    "The predictions are visibly less impressive than their single point counterparts. Nevertheless, the model returned somewhat nuanced behaviours. It didn't simply forecast prices to move uniformly in one direction. So there are some grounds for optimism.\n",
    "\n",
    "Moving back to the single point predictions, our deep machine artificial neural model looks okay, but so did that boring random walk model. Like the random walk model, LSTM models can be sensitive to the choice of random seed (the model weights are initially randomly assigned)."
   ]
  }
 ],
 "metadata": {
  "kernelspec": {
   "display_name": "Python 3",
   "language": "python",
   "name": "python3"
  },
  "language_info": {
   "codemirror_mode": {
    "name": "ipython",
    "version": 3
   },
   "file_extension": ".py",
   "mimetype": "text/x-python",
   "name": "python",
   "nbconvert_exporter": "python",
   "pygments_lexer": "ipython3",
   "version": "3.6.9"
  }
 },
 "nbformat": 4,
 "nbformat_minor": 2
}
